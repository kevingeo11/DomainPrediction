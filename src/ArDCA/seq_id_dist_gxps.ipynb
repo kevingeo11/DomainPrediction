{
 "cells": [
  {
   "cell_type": "code",
   "execution_count": 1,
   "metadata": {},
   "outputs": [],
   "source": [
    "import re\n",
    "import os\n",
    "import subprocess\n",
    "from collections import defaultdict\n",
    "import matplotlib.pyplot as plt\n",
    "\n",
    "import numpy as np\n",
    "import pandas as pd\n",
    "\n",
    "from tqdm import tqdm"
   ]
  },
  {
   "cell_type": "code",
   "execution_count": 2,
   "metadata": {},
   "outputs": [],
   "source": [
    "from sklearn.preprocessing import StandardScaler\n",
    "from Bio import AlignIO"
   ]
  },
  {
   "cell_type": "code",
   "execution_count": 3,
   "metadata": {},
   "outputs": [],
   "source": [
    "hmm_path = '/nethome/kgeorge/workspace/DomainPrediction/hmm'\n",
    "data_path = '/nethome/kgeorge/workspace/DomainPrediction/Data'"
   ]
  },
  {
   "cell_type": "code",
   "execution_count": 4,
   "metadata": {},
   "outputs": [],
   "source": [
    "tm_path = './nethome/kgeorge/workspace/DomainPrediction/src/utils/TMalign'\n",
    "class TMalign():\n",
    "    def __init__(self, path) -> None:\n",
    "        self.tmalign = path\n",
    "\n",
    "    def run(self, prot_a, prot_b):\n",
    "        out = subprocess.check_output([self.tmalign, prot_a, prot_b])\n",
    "        data = str(out).split(\"\\\\n\")\n",
    "        for d in data:\n",
    "            x = re.sub(r\"\\s\\s+\", \" \", d).split(' ')\n",
    "            if x[0] == 'Aligned':\n",
    "                rmsd = float(x[4][:-1])\n",
    "                seq_id = float(x[6])\n",
    "            elif x[0] == 'TM-score=':\n",
    "                tm_score = float(x[1])\n",
    "                break\n",
    "\n",
    "        return {\n",
    "            'rmsd': rmsd,\n",
    "            'seq_id': seq_id,\n",
    "            'tm_score': tm_score\n",
    "        }"
   ]
  },
  {
   "cell_type": "code",
   "execution_count": 5,
   "metadata": {},
   "outputs": [],
   "source": [
    "class HmmerTools():\n",
    "    def __init__(self) -> None:\n",
    "        self.scaler = StandardScaler()\n",
    "\n",
    "    def hmmalign(self, hmm_path: str, fasta_file: str, \n",
    "                  outfile: str | None = None, \n",
    "                  trim: bool = False):\n",
    "        if outfile is None:\n",
    "            outfile = fasta_file.replace('.fasta', '.stockholm')\n",
    "\n",
    "        if trim:\n",
    "            with open(outfile, \"w\") as fout:\n",
    "                subprocess.run(['hmmalign', '--trim', hmm_path, fasta_file], stdout=fout)\n",
    "        else:\n",
    "            with open(outfile, \"w\") as fout:\n",
    "                subprocess.run(['hmmalign', hmm_path, fasta_file], stdout=fout)\n",
    "\n",
    "        print(f'alignment created: {outfile}')\n",
    "\n",
    "\n",
    "    def parse_hmmsearch_tblout(self, filename):\n",
    "        with open(filename) as fin:\n",
    "            tmp = []\n",
    "            for line in fin:\n",
    "                if not line.startswith('#'):\n",
    "                    tmp.append(line.strip().split()[:7])\n",
    "\n",
    "        df = pd.DataFrame(tmp, columns=['name', '-', 'domain', 'domain_id', 'Evalue', 'score', 'bias'])\n",
    "        df['Evalue'] = df['Evalue'].astype(float)\n",
    "        df['score'] = df['score'].astype(float)\n",
    "        df['bias'] = df['bias'].astype(float)\n",
    "\n",
    "        return df\n",
    "\n",
    "    def sort_by_Eval(self, df, top=None):\n",
    "        df_tmp = df[['name']].drop_duplicates().sort_values(by=['name']).reset_index(drop=True)\n",
    "        \n",
    "        for domain in df['domain'].unique():\n",
    "            print(f'domain {domain} {df[df[\"domain\"] == domain].shape[0]}')\n",
    "            df_tmp[domain] = df[df['domain'] == domain].sort_values(by=['name'])['Evalue'].to_numpy()\n",
    "\n",
    "        df_tmp['sum'] = df_tmp[df['domain'].unique()].sum(axis=1)\n",
    "\n",
    "        df_tmp['norm_sum'] = self.scaler.fit_transform(df_tmp[df['domain'].unique()]).sum(axis=1)\n",
    "\n",
    "        df_sorted = df_tmp.sort_values(by=['norm_sum'])\n",
    "        if top is None:\n",
    "            return df_sorted['name'].to_numpy()\n",
    "        else:\n",
    "            return df_sorted['name'].to_numpy()[:top]\n",
    "        \n",
    "    def sort_by_Eval_domain(self, df, domain, top=None):\n",
    "\n",
    "        df_tmp = df[df['domain'] == domain]\n",
    "        df_sorted = df_tmp.sort_values(by=['Evalue'])\n",
    "\n",
    "        if top is None:\n",
    "            return df_sorted['name'].to_numpy()\n",
    "        else:\n",
    "            return df_sorted['name'].to_numpy()[:top]"
   ]
  },
  {
   "cell_type": "code",
   "execution_count": 6,
   "metadata": {},
   "outputs": [],
   "source": [
    "class AlignTools():\n",
    "    def __init__(self, path: str) -> None:\n",
    "        self.align = AlignIO.read(path, \"stockholm\")\n",
    "    \n",
    "    def show_alignment(self):\n",
    "        print(self.align)\n",
    "\n",
    "    def get_alignment_length(self):\n",
    "        return self.align.get_alignment_length()\n",
    "    \n",
    "    def get_num_sequences(self):\n",
    "        return len(self.align)\n",
    "\n",
    "    def get_pairwise_identity(self):\n",
    "        pairwise_seqid = np.eye(self.get_num_sequences())\n",
    "\n",
    "        for i, record_1 in enumerate(self.align):\n",
    "            for j, record_2 in enumerate(self.align):\n",
    "                seq_id = 0\n",
    "                for s1, s2 in zip(record_1.seq, record_2.seq):\n",
    "                    if s1 != '-' and s2 != '-' and s1 != '.' and s2 != '.' and s1 == s2:\n",
    "                        seq_id += 1\n",
    "\n",
    "                pairwise_seqid[i,j] = seq_id/self.get_alignment_length()\n",
    "\n",
    "        return pairwise_seqid"
   ]
  },
  {
   "cell_type": "code",
   "execution_count": 7,
   "metadata": {},
   "outputs": [],
   "source": [
    "tmalign = TMalign(tm_path)\n",
    "hmmer = HmmerTools()"
   ]
  },
  {
   "cell_type": "code",
   "execution_count": 8,
   "metadata": {},
   "outputs": [
    {
     "name": "stdout",
     "output_type": "stream",
     "text": [
      "alignment created: /nethome/kgeorge/workspace/DomainPrediction/Data/DCA_experiments/gen_seq.stockholm\n"
     ]
    }
   ],
   "source": [
    "pfam_T_hmm = '/nethome/kgeorge/workspace/DomainPrediction/hmm/PF00550_T.hmm'\n",
    "fasta_loc = os.path.join(data_path, '/nethome/kgeorge/workspace/DomainPrediction/Data/DCA_experiments/gen_seq.fasta')\n",
    "hmmer.hmmalign(hmm_path=pfam_T_hmm, fasta_file=fasta_loc, trim=True)"
   ]
  },
  {
   "cell_type": "code",
   "execution_count": 9,
   "metadata": {},
   "outputs": [],
   "source": [
    "align_dca_seq = AlignTools(os.path.join(data_path, '/nethome/kgeorge/workspace/DomainPrediction/Data/DCA_experiments/gen_seq.stockholm'))"
   ]
  },
  {
   "cell_type": "code",
   "execution_count": 10,
   "metadata": {},
   "outputs": [
    {
     "data": {
      "text/plain": [
       "101"
      ]
     },
     "execution_count": 10,
     "metadata": {},
     "output_type": "execute_result"
    }
   ],
   "source": [
    "align_dca_seq.get_num_sequences()"
   ]
  },
  {
   "cell_type": "code",
   "execution_count": 11,
   "metadata": {},
   "outputs": [
    {
     "data": {
      "text/plain": [
       "array([0.2739726 , 0.30136986, 0.31506849, 0.34246575, 0.28767123,\n",
       "       0.34246575, 0.31506849, 0.34246575, 0.28767123, 0.24657534,\n",
       "       0.31506849, 0.2739726 , 0.31506849, 0.26027397, 0.2739726 ,\n",
       "       0.2739726 , 0.30136986, 0.35616438, 0.32876712, 0.26027397,\n",
       "       0.26027397, 0.31506849, 0.23287671, 0.23287671, 0.34246575,\n",
       "       0.21917808, 0.28767123, 0.28767123, 0.32876712, 0.2739726 ,\n",
       "       0.20547945, 0.2739726 , 0.20547945, 0.31506849, 0.2739726 ,\n",
       "       0.24657534, 0.28767123, 0.35616438, 0.23287671, 0.30136986,\n",
       "       0.30136986, 0.23287671, 0.35616438, 0.26027397, 0.32876712,\n",
       "       0.35616438, 0.24657534, 0.28767123, 0.24657534, 0.23287671,\n",
       "       0.2739726 , 0.24657534, 0.24657534, 0.2739726 , 0.21917808,\n",
       "       0.31506849, 0.2739726 , 0.21917808, 0.34246575, 0.30136986,\n",
       "       0.23287671, 0.23287671, 0.26027397, 0.24657534, 0.28767123,\n",
       "       0.32876712, 0.2739726 , 0.36986301, 0.24657534, 0.23287671,\n",
       "       0.32876712, 0.24657534, 0.24657534, 0.26027397, 0.2739726 ,\n",
       "       0.30136986, 0.32876712, 0.23287671, 0.28767123, 0.30136986,\n",
       "       0.32876712, 0.24657534, 0.21917808, 0.28767123, 0.30136986,\n",
       "       0.32876712, 0.31506849, 0.23287671, 0.24657534, 0.31506849,\n",
       "       0.31506849, 0.34246575, 0.17808219, 0.35616438, 0.2739726 ,\n",
       "       0.23287671, 0.24657534, 0.31506849, 0.30136986, 0.19178082])"
      ]
     },
     "execution_count": 11,
     "metadata": {},
     "output_type": "execute_result"
    }
   ],
   "source": [
    "# wrt to original. original at 0 \n",
    "align_dca_seq.get_pairwise_identity()[0][1:]"
   ]
  },
  {
   "cell_type": "code",
   "execution_count": 12,
   "metadata": {},
   "outputs": [
    {
     "data": {
      "image/png": "[encoded data removed]",
      "text/plain": [
       "<Figure size 640x480 with 1 Axes>"
      ]
     },
     "metadata": {},
     "output_type": "display_data"
    }
   ],
   "source": [
    "fig, ax = plt.subplots()\n",
    "_ = ax.boxplot([align_dca_seq.get_pairwise_identity()[0][1:]],\n",
    "               labels=['ArDCA'])\n",
    "ax.set_ylabel('seq_id')\n",
    "ax.tick_params(axis='x', labelrotation=90)"
   ]
  },
  {
   "cell_type": "code",
   "execution_count": 13,
   "metadata": {},
   "outputs": [
    {
     "data": {
      "image/png": "[encoded data removed]",
      "text/plain": [
       "<Figure size 640x480 with 1 Axes>"
      ]
     },
     "metadata": {},
     "output_type": "display_data"
    }
   ],
   "source": [
    "fig, ax = plt.subplots()\n",
    "_ = ax.boxplot([align_dca_seq.get_pairwise_identity()[0][1:], align_dca_seq.get_pairwise_identity()[1:,1:][np.triu_indices(align_dca_seq.get_num_sequences()-2, k = 1)]],\n",
    "               labels=['ArDCA_wrt_original', 'ArDCA_wrt_generated'])\n",
    "ax.set_ylabel('seq_id')\n",
    "ax.tick_params(axis='x', labelrotation=90)"
   ]
  },
  {
   "cell_type": "code",
   "execution_count": 36,
   "metadata": {},
   "outputs": [
    {
     "name": "stdout",
     "output_type": "stream",
     "text": [
      "Alignment with 101 rows and 120 columns\n",
      "-------------------geieia--LATIWRELLNV-EQ---...--- GxpS_T\n",
      "----------------tmaaklcpe--------DVLG---PEE-...--- GxpS_T-gen_0\n",
      "------------------daaaaar-ALAQLWSSDLG--NQQE-...--- GxpS_T-gen_1\n",
      "-------------kfaaplstlwsq----------LDV-SA-Q-...--- GxpS_T-gen_2\n",
      "-------------------faaand----NIWSKILGI-NS---...--- GxpS_T-gen_3\n",
      "-------------------pcaaaa-KLESLWAQLLQV-GSL--...--- GxpS_T-gen_4\n",
      "-------------------aaaawl----TAISEDLSA-PTLV-...--- GxpS_T-gen_5\n",
      "-----------------maaaawqg------WSRVLNI-LP-D-...--- GxpS_T-gen_6\n",
      "-----laaaaiklhdfcrvfkpvnv-------------------...--- GxpS_T-gen_7\n",
      "--------------akyaaasvriw--------RELGV-RSTR-...--- GxpS_T-gen_8\n",
      "---eaaaaislaefwaelrlekcma-------------------...--- GxpS_T-gen_9\n",
      "--------------------caaaa-RIQQIWAEILQL-KDAV-...--- GxpS_T-gen_10\n",
      "-------------------gaaaae-VLCDIWGEAQGL-D--F-...--- GxpS_T-gen_11\n",
      "-------------------sakaae-VLQNIWSRLGDH-DCQT-...--- GxpS_T-gen_12\n",
      "------------------sdaaywl----AKWEDGLGI-EPRD-...--- GxpS_T-gen_13\n",
      "-------------------hqaaae-ALSAVAAAVLGV-E--R-...--- GxpS_T-gen_14\n",
      "----npaaadelqalmnlhkfvsrc-------------------...--- GxpS_T-gen_15\n",
      "--------------------aaare--LWEIWSEFLGN---GR-...--- GxpS_T-gen_16\n",
      "...\n",
      "-------------------vaaaan--LADEWAEVLG--AEKE-...lah GxpS_T-gen_99\n"
     ]
    }
   ],
   "source": [
    "align_dca_seq.show_alignment()"
   ]
  },
  {
   "cell_type": "code",
   "execution_count": 37,
   "metadata": {},
   "outputs": [
    {
     "name": "stdout",
     "output_type": "stream",
     "text": [
      "-------------------geieia--LATIWRELLNV-EQ---V-G-RHDSFFALGGHSLLAVRMIERLRRI--GLGLSVQTLFQ-HPTLSVLAQ--slvp------------------\n",
      "----------------tmaaklcpe--------DVLG---PEE-I-G-VNDDFFRLGGDSLLANAVSGLINTAS-NIHISERDIFQ-NSTLSQLAA------------------------\n",
      "------------------daaaaar-ALAQLWSSDLG--NQQE---G-ASDKFFKLGGDSLSARLIALA-HQA--KHTLPVAQVMQ-YPTVADLAA--ag--------------------\n",
      "-------------kfaaplstlwsq----------LDV-SA-Q-L-G-IHDNFFQVGGHSVFAIQGVNMLRRH--SLSLTVGEIFE-NPTLFGLVAYI----------------------\n",
      "-------------------faaand----NIWSKILGI-NS---V-D-RRDNFFSAGGHSLSAMKLIAR-AKIM-GVALKVGEIFE-NGTLQKLARMLa---------------------\n",
      "-------------------pcaaaa-KLESLWAQLLQV-GSL--I-N-IHDHRDAVGGDSLGADTVVAAVRKN--GAGWSLKDIFE-NRTIKNLAA--s---------------------\n",
      "-------------------aaaawl----TAISEDLSA-PTLV-----TNDSFFQLGGDSLKAIQLAARARRM--GFQISVSDLFD-KPTLASL----hyaa------------------\n",
      "-----------------maaaawqg------WSRVLNI-LP-D-V-S-THDDFFDIGGHSL-FILLVAVLRARQ-GIELSIKTVYQ-LPTINRAAA--r---------------------\n",
      "-----laaaaiklhdfcrvfkpvnv-------------------------DSFFALGGHSLDLTQIVHRTRRI--GLLLSTQGVLD-TPVLSALAE--i---------------------\n",
      "--------------akyaaasvriw--------RELGV-RSTR-I-G-IEDNFFALGGDPLLSMNRINRAHAYF-NTTLPLKDHFE-TPTIQELAQ------------------------\n",
      "---eaaaaislaefwaelrlekcma---------------------G-RDDHFFEICGDELLAIQVVSGLSKH--GWALAFADTFK-HPTIAQLAA--iam-------------------\n",
      "--------------------caaaa-RIQQIWAEILQL-KDAV-----YHDNFFRLGGDSNAATRMA-KLGVHV-DMRLMVSEVFA-TRTLSELSA------------------------\n",
      "-------------------gaaaae-VLCDIWGEAQGL-D--F-V-G-ASHSFFDNGGDSLLAIKMVSQASEE--NASIKIDTLFE-GRTFAGIS---q---------------------\n",
      "-------------------sakaae-VLQNIWSRLGDH-DCQT-I-G-INDSFFAVGGHSLLLDQLVDLAGEIL-AHRFTVECIFK-HPILGKFAA--aq--------------------\n",
      "------------------sdaaywl----AKWEDGLGI-EPRD-V-E-IGDTFFMAGGDSIQAIRVAAEARREF-GMEVTSKDVFD-TSTFENLAE------------------------\n",
      "-------------------hqaaae-ALSAVAAAVLGV-E--R-V-S-CESDFFDLGGDSLLGTTLANKLCKEV-EIELKSRDLFD-TPVLAQWA---sg--------------------\n",
      "----npaaadelqalmnlhkfvsrc-------------------------DSFFALGGHSVLAIQVIMLIHKA--GMELKPNSVFR-HVTLEDVA---iaaet-----------------\n",
      "--------------------aaare--LWEIWSEFLGN---GR-I-G-IQDHFFALGYHSIMAMAVAGMLRNRF-DGEGTRD-IMD-APTLQRMAQ--a---------------------\n",
      "-----------------------aa-AVCGIWREVLGL-TRK--I-G-IHSSFFRSGGHSVRVIQMVARCNE-L-GLNLMVKDLF--LPKLGKLAKY-wpa-------------------\n",
      "-------------------sqtaaa-KLAEFWEEVLGL-A--R-V-G-RKDSFLAVGGHSIKATQLSNQIHRAL-GVAVPLKDIFE-H-TLDELSAY-aa--------------------\n",
      "--------------------aaaap-KLAEIFSSVCLR-PAPG-----VHDNFLEIGADSLLAIGVMSRVRRRT-GSSLHVKQVFE-EPVRREF----affl------------------\n",
      "--------------------faaal----QNISQALGM-ES-Q-L-S-PNDWFFSLGGHSLAAMKVLSVHQHEC-EVKVQVKDPFK-HPTLEQL----qrpa------------------\n",
      "----------------------eaa----AAIEDLLGL-ICDV-T-T-VHDSFFALGGHHLKITNLVSRAAKA--GWSVTVKTLFQ-HPTIAAISEA-a---------------------\n",
      "-------hsadlkaeyevlnggsvg------------------------EDEFLAMGGHSIKAMKLASQLNRE--GAKVSVADMFA-SQRLAALATW-mi--------------------\n",
      "---------------------daaw-QLKEIWSTV-GI-APAA-----NNDWFSDLGGHSIVAMRIADLCHQRL-GVEIPVPDLFE-QPRV-------ylane-----------------\n",
      "------------------sadieaa-QLASQWRQLLGA-E--S-I-G-RTDSFFMLGGHTLTAIKLVEAGEEE--DVSIEVAQIFQ-YPTVR------laacyr----------------\n",
      "-------aakatlnewdldypptrl-------------------------HNFFALGHDSLMAIRIVERLHKWF-GIRHSISEVFA-SMSIDGL----svev------------------\n",
      "--------------kiaaaahcewa-----------H--DVPR-V-G-ADDHFFELGGHSLLAIKLISFVHQEC-GLFLTLSDIFN-ARTLAQL----psav------------------\n",
      "-------------aaaalaqwfdll------------V-ETDR-I-M-VDDHFFSLGDESLMDMKLVFRVQRRL-HLCLPVRDIFQ-YPTLAQLA---la--------------------\n",
      "-------------------avaaak--INEFFSEILNI-AE-G-V-G-LKDDFFRLGGDSLSAMRASLI-RSCLrSIELDVKDLFD-APTLAEL----hck-------------------\n",
      "-------------faaqaetlvels-----------QL-VIED-K-G-VHDSFNVLGGHSLKATRLIARIHK---GGQLPMASIFE-HP---------kdielaqrh-------------\n",
      "------------------ivaaqve-------QQVLGI-DVSE------SDNFYNLGGESIKAWKLVARAKQA--DVTLKVKDVAD-HPTNAGVAD--v---------------------\n",
      "----------------------saa-AIATLWEAVLNV-GSTS-----MHDDFFRIGGHSIEATQLMRALAKKL-DYKFSMCHV-K-HPTVEK-----aa--------------------\n",
      "---------------------vaaa-TLEEIWADALQV-DRYI-----RSDNFTQLGGPSLSATVI-AKLDKRF-Q----------------------irevyaifarctivlapa----\n",
      "------------------esaaakl----RIWSEVLML-PSHV---W-IHDDFFSRGATSLAATAMSSKSRKEF-GANFEVADLFE-CHTLEKLAQM-ar--------------------\n",
      "--------------------maaaa-RLAAIWAHILNL-DPGE-V-G-AEDHFFDLGGVSLSAMKLVARASSAV--IRVVVAEIFD------------tqtsfllaygwa----------\n",
      "--------------------waaaa-TLQDFWARAFKE-L--D-L-SyIADSFFMLGGLSLVAMRMVSAAYECL-SWPITLKLLFE-QQTVAELS-------------------------\n",
      "--------------------iaaar-VLRQLWQQVWGV-ALQ--I-S-LDDSFEDLGGHSIMAMVSSSMLREKR-GLPVSVSDVCQ-NQTFSE-----paemakcs--------------\n",
      "------------------aayqkiq-----VWSEVLLK-Y----V-D-GHDSFFKLGGDSISAVRVARRVRRTY--IHLHLREVFK-HPVLSRMA-------------------------\n",
      "-----------------------aa-AVLEIMAQVIGM-DPQS-----ITTSFFDTGGYSITGSTVVSRLRNR--GISVPVRDLND-APTVQKLARA-ce--------------------\n",
      "-------------------awnaqk---LEIWKEIFKV-TIEG-----RHSSFFQLGGDSILAIYLVSRVHQA--GVECSVALAFE-YPTIEA-----aetm------------------\n",
      "------------------taaaaap--LCAIWADL-GV-EDSS-V-G-YHDDFNDLGGDSILSTKMASECGHVT-GVRITIWDIML-NPRISELAT--aa--------------------\n",
      "-----------------tiaaatql----AKIADVLGM-P--M-M-D-MHDNFYDLGGHSIKVIRLVFAASRM--GVNVHEAHLFD-NPVIEDLAEW-aay-------------------\n",
      "----------------------naa-ALAQNWAQVLKI-DKAV-L-H-ASDSFFALGDNFLLAIQIASGVSKH--GLDLSTLVLFG-SPTFSNLAQR-fa--------------------\n",
      "------aaaaklkaiwaignvstgi-----------------------IHDNFFVLQGHSELNRQMVAQLRKEL-GISVTVRTVFS-YPTVAGMAEA-wry-------------------\n",
      "--------------------vaaaa-TLRQIWEQVLGMkPDIK-I-G-RNDNFFALGGHQIRGTLVVAEAGRAL-GLKLKVKDIFD-HCTIADLAK--va--------------------\n",
      "------------------amaaaae-RLQAEWGRI-NI-PNQD-V-G-ADDNFFALGGHSLSATRMVAILQREF-GITIPVRMWFQ-YPVLK------qapa------------------\n",
      "-------------------aaaadq---CAIWAHFLNV-DQLV---G-IEDSFFYCGGDSVMAIKSVLMVSHE--GLTVTMRHVFD-RS---------qekdlad---------------\n",
      "-----------qnavayaaaalsei-------CYLLNL--EKR-I-N-ILDSFFRLGGHSLIATRLVNSLAKW--GIFLDRKDLFN-NRRLAD-----adiq------------------\n",
      "---------------aaaaaardlq------IGKVLGI-DEGSaI-G-TYDTFFELGGDMILAIQTIFCAEAEF-HIKIMVQEVFD-FPCLEDLAN--agic------------------\n",
      "-------------haaavleewavr-----------GI-NDL--V-S-VRDSFFEMGGHSLAAAQILFRSFHAF-NSLLMVAHVFD-SPEVAALS---ph--------------------\n",
      "------------------elnaama-KLQAIWTDVLGM-T-DS-V-D-IAPDFFSLGGHSIMA-RLVSQNENKL---DLSVKKVFD-QPT--------qielaq----------------\n",
      "--------------mapaaaaglwc--------EL-GV--GER-V-G-TDDNFSELGGESLTAMKMVARATQR--GVQLAVKDIYE-YRSI-------cla-------------------\n",
      "---------paaaavlaiwgdtlis-----------------S-I-G-IMGSFFSLGCDMLMATKMVARAHRAF-LLRVTVKVVFD-NPTFRVLSAA-w---------------------\n",
      "------------aaaaqaseskllg----------------GA-I-G-MDDNFFDLGGHSLAAVKMVQV-KRTFqGLRLTLKDIED-HPVIFAFAEH-----------------------\n",
      "-------------------maaaat--VQDIWKKF-KL-PIHS-----MNDHHFKLGGDSIQAMKLVSRLKSQ--GMQLTVKLVFD-SP---------igaewaes--------------\n",
      "-------------------aaasaa---LQSVKEVLKV-EVSG-V-G-CTADFFQLGGHELMAALLLGRAREIM-DSGVPIKMLFE-YPTLQE-----kaear-----------------\n",
      "------rdlieaaalqwgqlgnqry-------------------I-G-IHDNFFQLGGDSLAAMRGAFMIRWAL-GASLNLCDVFK-HITFAELARL-aa--------------------\n",
      "----------------------apa-ALQEIWAELLGS-T--S-I-S-IDDDFFDLGGDSIKSTRLSGAAHSY--GNDVTLTEILK-SP---------vhmwlarng-------------\n",
      "--------------------aaaar---RAAFVEVLGL-E--S-V-G-VTDNFFELGGHSLKAVSLISRIRAK--EKNVTVRELML-QPTISALTAA-f---------------------\n",
      "-------------------pgaaaa---LSIWQEINN--GVEI-I-G-RNDDFFELGGDSLLAMRVAA-IGSPF-GATVPVKDLVR-NHTISL-----aaar------------------\n",
      "----------makaaaqkiqdeegl---------VLGI-HPKS-I-G-PTNVFYQLGLHSLYAMTLVALLKEVC-GAQVPVADVFE-YPTISAWAA------------------------\n",
      "----------------------aaaEYIQVLFADVLGI-ETCI------TDRFFELGGDSYMLLRDMAAVYQAL-SVELTVRDMFQ-NPVLAGLS---viak------------------\n",
      "------------------glnaaaa----SVWEDVLPV-DANTrV-G-IDANFIELGGDSLSATQLVSRCKKI--IFSITVNEIFE-APTLQ------lea-------------------\n",
      "--------------------haalg-----RFREVLG--NRDA-I---VHGSFFHLGGHSVKATKLAGLIHKHLnQLDVKVRAVFA-YPFLAAI----i---------------------\n",
      "-----------------aaaatkey-----IWATVLQI-EPQE-IiS-IRDNFFVTGGHSLLCATLASMIRSV--GVDISIRDMFE-FPCLQELAAW-f---------------------\n",
      "-----------------iaiagmal----KIWCNLFGV-A----V-G-LSDIFFMLGGQSLLSMKMVGQIRAHL-ELEIPVPNLFD-MPQLKDMVQ--a---------------------\n",
      "-------maacalaniwkeldltrc-------------------I-D-RHCNFFDVGGNSLAAIQMISRIRKR--GTTVSVNVLFE-NPT--------ffskadid--------------\n",
      "---------------------eaaa-WMQEIWSDVLKI-K--Q-I-G-PEDHFFALGGNSLAATQMISRVREHL-SLELSVPDLFQ-YRTLEQ-----kawanaa---------------\n",
      "----------------------aaa-VLSEIWAEVLQN-EILQ-P-S-WGANFFRLGPESVKAPKLSDRARD-L-HITMSLSDF-A-SPTVAPLSA--aac-------------------\n",
      "----------------------paa-AISEIWKEVLNT--MNA-I-R-ARHAFFRLGGASLAAMTLVGKIGKR--EVEVTPVDLFR-SPQL-------aleqthv---------------\n",
      "--------------------aapay-QLQDEWMKVLRK-DD---V-S-VHDNFFALGGDSILAWQLISQCNWVL-KLTISVNALFE-HPELA------laaaa-----------------\n",
      "------------------epaania------LCAEVEV-DTRA-A-S-PGDNFYDLGGVSLK-MRLVKSLHKR--DISLSASVVFA-TPTLARLAA------------------------\n",
      "--------------nrwaaaaqnlw--------RVLKN-PPSV-A-G-ISDQFFKLGGNSLAAFQLVALLKSA--GIAFPWKILYE-NPTKSQIA---vaa-------------------\n",
      "---------------------inaa-VIADLWAKVLGL-KP-R-I-G-LDQNFFDLQGDSLKAMQLMGLAQRV--MIELKVKDIFQ-YPRVADLA---paca------------------\n",
      "------------------aaaakga-----SWADVLRE--QEC-V-G-WMADFFQLGMDSLAAIQMTARMGES--DVRLTVNDVFK-NPILKEIAAW-----------------------\n",
      "-------------------pnaaaaEKLQAVWCELLG---DEE-I-G-IDDDFFQLGGD-TTTVALAMRCRRVLdGVMLKVSHLFD-NPVI-------siaq------------------\n",
      "-------------------alaaaa-TLCSIWAGVLGI--LNE-I-G-IHDNFFEPGGDSIRATQMVDLLRRKC-NLKVSIAALFE-FPVISDLS---waaer-----------------\n",
      "---------------------aaaa-QLCAIFQAVLG--NADV-----VQASFIELGGDSLRCTRIASLAQQAF-DIKATVKSIYK-HPVLRQLA---caany-----------------\n",
      "-------------------eeaaaa-KVCNIWSEVIPQ-GT-----G-ILDNFFKLGGDSLRAVKLIAQ-RAE--DVSLSIADLFD-HR---------vdnghaps--------------\n",
      "----------------------iaa----ASWAEVLPT-KGDR-F-G-VHEDFFRLGVHSLLATQLVIQLNRTL-GVELIPADPFA-KPTPKDIAE--r---------------------\n",
      "-------------------waaaqh-----VWAQILGL-EDVE-----VADHMFRLGGNSVKAIKVIADLRKEL-DHELPVYALFA-HPTLSDLA---vaar------------------\n",
      "-----------------aaaalark--------RVLKV-AR---V-G-MSDDDFMLGGDSLVAMRVASLLEQM--GIDLTVKDF-K-YP---------laelaesa--------------\n",
      "----dvqaayqlkdvwdtfanegsa---------------------G-VRSSFFDLGGHSVWAIQLVTIVSAS--GHRVTVHDLYS-HQVIINLA---itkhm-----------------\n",
      "---------------fipaapqaee-------SEVLNV-DPNV-----GRQDFFQLGG-SILAIRRISKVTRES-GISIKVRAMFE-NRELAALAA------------------------\n",
      "------------------qammmha-RLCLEWADAFGV-EQSR---G-IKDNFFALGFHSIKAAKVVNAAHHLL-GVRTEPDDMFD-HPTFADIAQ--r---------------------\n",
      "-----------ssaaaaalcyeeqs----------LGI-EKGR---G-LRDNFFQLGGDSLAAIRVAARLRTKL-G-HLSMRDIFA-HPTDAKFAA--aaias-----------------\n",
      "-----------------raakivsf------HAEVLG--NELQ-L-G-IHDDFFQLGGHSLMATQRAARARRR--SLSMKVKTLLA-NGKVSSMAE--ar--------------------\n",
      "------------aealeiwevltne-----------------A-W-S-IHSNFLNLGGHSLLAMELVAAANKV--GLAVGVRDIFD-HPSIEEIA---k---------------------\n",
      "-------rlamyhtvqswkdvlipf-----------------Q-I-G-LRLDFFRLGGHSLTAIQIVSVLRKA--HLELTVLDIFN-QPVLGG-----saaw------------------\n",
      "-------------------ansaaqEALASIWSEILKL-EPRD-V-G-IDHNFFSR-GCSLKAVDVVASAKRIL-QIRLPLANIFQ-NPVIKELQ---ay--------------------\n",
      "----------------fvaanaaka----ELWAEVLGV-E--M-I-G-ISDNFFDLGGNSVHAEKSVNEIRDAA-GTNIALRDLFA-HPTFFSMAQ--aec-------------------\n",
      "-------------------laaera----SLWAEVFNK-SPDR-V-G-VFDGSFQLGGDSLSATKMVSKIRR---GARLPVMDLY--NPTNSGLA---natar-----------------\n",
      "-----------------wlaaadls-------CDLLGK-KPTY-A-G-VNSSFFDLGGHSIGNIVAASHVNQRL-QLSL-------------------ayfsvfdhqkgkmaeaa-----\n",
      "-----------------ahaaaaeq---CEIWSEELG--EAEI-V-G-AKSSFFRLGGDSLLAVQVIKRARET--GVSFPVADI-DcRPTIANLS---la--------------------\n",
      "--------------------sacaa-----TLCSLWDL-GANQ-I-G-DADSFFLLGGHGLRAKQMFSRAGMI--DVLFLAAVVFK-HPTL-------nlseld----------------\n",
      "---------------lsraavvelw--------SVLGI-PPSD---G-RDHNFFELRGDSLKGTRLNGRARIQF-DVLLVVWHVFS-LPTIG------iltatta---------------\n",
      "dncagaaqlsiwaqfqcncdylfgm------------------------NDSFFDHGGHSVKAMQLAAQANAP--GHQLSLHVIFE-HPTTLSLA---va--------------------\n",
      "--------------------aaaal--LAGIWHQVLGI-APEG-----INFNFFELGGESILALRLISRVSTQL---RMNVEDLFQ-HPVIGKMAE--trm-------------------\n",
      "----------------tmaaaaqll-----VWSEVLNI-E-EM-I-G-IHHHFFELGGESILSNRLASLLNREL-GPVVPVSDITQ-NPTIAEISE--a---------------------\n",
      "-------------------vaaaan--LADEWAEVLG--AEKE-I-G-PQDNFFPIGGESILAAKLSHLAA---------------------------qynhvmvvafifeqpmesalah\n"
     ]
    }
   ],
   "source": [
    "for res in align_dca_seq.align:\n",
    "    print(res.seq)"
   ]
  },
  {
   "cell_type": "code",
   "execution_count": null,
   "metadata": {},
   "outputs": [],
   "source": []
  }
 ],
 "metadata": {
  "kernelspec": {
   "display_name": "workspace",
   "language": "python",
   "name": "python3"
  },
  "language_info": {
   "codemirror_mode": {
    "name": "ipython",
    "version": 3
   },
   "file_extension": ".py",
   "mimetype": "text/x-python",
   "name": "python",
   "nbconvert_exporter": "python",
   "pygments_lexer": "ipython3",
   "version": "3.10.13"
  }
 },
 "nbformat": 4,
 "nbformat_minor": 2
}
