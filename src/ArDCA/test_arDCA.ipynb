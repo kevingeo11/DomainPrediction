{
 "cells": [
  {
   "cell_type": "code",
   "execution_count": 65,
   "metadata": {},
   "outputs": [],
   "source": [
    "import numpy as np\n",
    "import math\n",
    "import matplotlib.pyplot as plt\n",
    "from scipy.sparse import coo_matrix\n",
    "import numpy.matlib\n",
    "import numpy.linalg as LA\n",
    "from numpy.linalg import inv\n",
    "import gzip\n",
    "from tqdm import tqdm"
   ]
  },
  {
   "cell_type": "code",
   "execution_count": 2,
   "metadata": {},
   "outputs": [],
   "source": [
    "import sys\n",
    "import os\n",
    "sys.path.append('..')"
   ]
  },
  {
   "cell_type": "code",
   "execution_count": 3,
   "metadata": {},
   "outputs": [],
   "source": [
    "from utils.base import BaseProtein"
   ]
  },
  {
   "cell_type": "code",
   "execution_count": 4,
   "metadata": {},
   "outputs": [],
   "source": [
    "protein = BaseProtein(file='../../Data/GxpS_ATC.pdb')"
   ]
  },
  {
   "cell_type": "code",
   "execution_count": 5,
   "metadata": {},
   "outputs": [
    {
     "data": {
      "text/plain": [
       "'GEIEIALATIWRELLNVEQVGRHDSFFALGGHSLLAVRMIERLRRIGLGLSVQTLFQHPTLSVLAQSLVP'"
      ]
     },
     "execution_count": 5,
     "metadata": {},
     "output_type": "execute_result"
    }
   ],
   "source": [
    "T = [i for i in range(538,608)] ## 539-608\n",
    "protein.get_residues(T)"
   ]
  },
  {
   "cell_type": "code",
   "execution_count": 6,
   "metadata": {},
   "outputs": [],
   "source": [
    "from Bio import AlignIO"
   ]
  },
  {
   "cell_type": "code",
   "execution_count": 7,
   "metadata": {},
   "outputs": [],
   "source": [
    "class AlignTools():\n",
    "    def __init__(self, path: str) -> None:\n",
    "        self.align = AlignIO.read(path, \"stockholm\")\n",
    "    \n",
    "    def show_alignment(self):\n",
    "        print(self.align)\n",
    "\n",
    "    def get_alignment_length(self):\n",
    "        return self.align.get_alignment_length()\n",
    "    \n",
    "    def get_num_sequences(self):\n",
    "        return len(self.align)\n",
    "\n",
    "    def get_pairwise_identity(self):\n",
    "        pairwise_seqid = np.eye(self.get_num_sequences())\n",
    "\n",
    "        for i, record_1 in enumerate(self.align):\n",
    "            for j, record_2 in enumerate(self.align):\n",
    "                seq_id = 0\n",
    "                for s1, s2 in zip(record_1.seq, record_2.seq):\n",
    "                    if s1 != '-' and s2 != '-' and s1 != '.' and s2 != '.' and s1 == s2:\n",
    "                        seq_id += 1\n",
    "\n",
    "                pairwise_seqid[i,j] = seq_id/self.get_alignment_length()\n",
    "\n",
    "        return pairwise_seqid"
   ]
  },
  {
   "cell_type": "code",
   "execution_count": 8,
   "metadata": {},
   "outputs": [],
   "source": [
    "align_obj = AlignTools('/data/users/kgeorge/workspace/ArDCA/msa.stockholm')"
   ]
  },
  {
   "cell_type": "code",
   "execution_count": 9,
   "metadata": {},
   "outputs": [],
   "source": [
    "seqs = []\n",
    "for res in align_obj.align:\n",
    "    seqs.append(str(res.seq))"
   ]
  },
  {
   "cell_type": "code",
   "execution_count": 10,
   "metadata": {},
   "outputs": [],
   "source": [
    "def letter2number(a): \n",
    "    #to convert the amino acids letters into integer numbers from 0 to 20\n",
    "    switcher = {\n",
    "        '-': 20,\n",
    "        'A': 0,\n",
    "        'C': 1,\n",
    "        'D':2,\n",
    "        'E':3,\n",
    "        'F':4,\n",
    "        'G':5,\n",
    "        'H':6,\n",
    "        'I':7,\n",
    "        'K':8,\n",
    "        'L':9,\n",
    "        'M':10,\n",
    "        'N':11,\n",
    "        'P':12,\n",
    "        'Q':13,\n",
    "        'R':14,\n",
    "        'S':15,\n",
    "        'T':16,\n",
    "        'V':17,\n",
    "        'W':18,\n",
    "        'Y':19,     \n",
    "    }\n",
    "    return switcher.get(a,0)\n",
    "\n",
    "def dH(seq1, seq2):\n",
    "    return sum(c1 != c2 for c1, c2 in zip(seq1, seq2))"
   ]
  },
  {
   "cell_type": "code",
   "execution_count": 11,
   "metadata": {},
   "outputs": [],
   "source": [
    "# # Open the file and write in \"seqs\" a list containing all lines\n",
    "# data=gzip.open('/data/users/kgeorge/workspace/ArDCA/PF00014_mgap6.fasta.gz', 'r')\n",
    "# seqs = data.readlines()[1::2]\n",
    "# data.close()"
   ]
  },
  {
   "cell_type": "code",
   "execution_count": 12,
   "metadata": {},
   "outputs": [
    {
     "data": {
      "text/plain": [
       "['------------gdieis--LAEMWTDLLKI-DQ---V-GRHDNFFTLGGHSLLAVQMIEQLRRI--GLSLSVRALFDTPVLSVLAA--sl----------',\n",
       " '--------------geteDAIAAIWSELLGV-NQ---I-SRHDSFFALGGHSLLVVKMLDRLHR-L-GLTVSVRVLFESPTLSVLAQ--dl----------',\n",
       " '-------------gevem-KLAAIWSELLKV-DK---I-GRQDNFFMLGGHSLLAVQMIGQLRRI--GFVMSVRALFETPVLSVLAA--sit---------',\n",
       " '------------gdveig--LAEIWAELLSL-D--R-V-GRHDNFFMLGGHSLLAVRMAGSVRSRL-GLDLKLHSLFAAPTVAELAQ--klv---------',\n",
       " '-------------griec-ALAEIWAEVLKV-P--R-V-GRHDNFFLLGGHSLLAVRLMNRIST-L-GAQLPLSALFASPTLSSFAQA-f-----------',\n",
       " '-------------gevek-ALATIWTQLLKM-E--R-V-GRNDNFFMLGGHSLLAVQMIEQLRRI--GLSLSVRALFDTPVLSVLAA--sl----------',\n",
       " '--------------geteEAIAAIWSELLGV-NQ---I-SRHDSFFALGGHSLLVVKMLDRLHR-L-GLTVSVRVLFESPTLSVLAQ--dl----------',\n",
       " '-------------geiet-TLAATWSELLKI-DK---I-GRQDNFFMLGGHSLLAVQMIEQLRRM--GLVMSVRALFETPVLNVLAT--sic---------',\n",
       " '------------gdveig--LAEIWAELLSL-D--R-V-GRHDNFFMLGGHSLLAVRMSGSVRSRL-GLDLKLHTLFAAPTITDLAQ--kll---------',\n",
       " '-------------gviet-TVAAIWSEVLKI-DK---V-GRYDNFFTLGGHSLLAVRLVNRIST-L-GAQVPVATLFTSPTLSSFAEAV------------',\n",
       " '-------------geven-AIASIWSELLHV-K--R-V-SRHDSFFALGGHSLLAVQVISRLHR-L-GHSVSVRTLFESPTLLALAQ--si----------',\n",
       " '-------------gevet-AIASIWSELLQI-E--R-V-SRHDSFFALGGHSLLAVQVISKLHRV--GHSVSVRALFEAPTLAVFAA--si----------',\n",
       " '-------------gavea-AIASVWSELLNV-N--R-V-SRHDSFFALGGHSLLAVQVISRLHG-L-GHSVSVRALFESPTLSALAQ--si----------',\n",
       " '------------geveta--LALIWCELLQL-K--R-V-SRNDSFFALGGHSLLAVQVISRLHR-L-GHSVSVRALFDSPTLSALAQ--si----------',\n",
       " '-------------gevet-ALASIWCELLQL-K--R-V-SRNDSFFALGGHSLLAVRLVNRVST-L-GATVAISTLFASPSLSAFA---------------',\n",
       " '------------gaieni--LAGIWAELLNI-D--R-V-GRNDGFFVLGGYSLLAVRMISRVRAML-GLDLSLRTLFEAPTIAELA---prll--------',\n",
       " '-------------gelet-AIASIWSELLQM-Q--R-V-SRDDSFFALGGHSLLAVQVISKLHA-L-GHSVSASVLFESPTLSAFAHAI------------',\n",
       " '-------------nqaee-LIASIWSQVLGV-EK---V-GIHDNFFELGGHSLLATRVISRLREVF-GVEQSVRSIFEHPTIDAWS---e-----------',\n",
       " '---------------iee-IVANIWAQVLSV-E--R-V-GVYDDFFELGGHSLLATQAVSRLKEAF-GVNVPLRTLFEHPDVAGMSE--kla---------',\n",
       " '---------------eem--VANIWAQLLSV-E--K-I-GVHDDFFERGGHSLLATQAISRLRQAF-GVELPLRMLFDHPTTAAIST--qia---------',\n",
       " '---------------vek-VLAQIWKEVLGV-E--E-V-GIHDNFFELGGDSILSIQIVARAGQS--GIRLSPKLLFENQTIAELSHAV------------',\n",
       " '--------------elev-KLADIWKTVLGV-A--D-V-GIHDNFFELGGDSILSIQIVARANQ-L-GIRLTPKQLFENQTIAEL----------------',\n",
       " '--------------elei-KLAHIWKNVLGL-A--D-V-GIHDNFFELGGDSILSIQIVSRANQA--GIRLTPKQLLANQTIAELA---------------',\n",
       " '-------------skmeq-ILADIWKEVLGA-E--K-I-GTADSFFELGGDSIKALQVSARLHRI--GKQMAVKDLFSHPTIQELA---------------',\n",
       " '----------------em-KLSQLWEDVLKN-GP---V-GIHDNFFDRGGHSLKATALVSRITKEF-DVQVPLKDVFAHPTVEGLA---------------',\n",
       " '---------------lea-KLSQLFEDVLKN-G--H-I-GIQDNFFDNGGHSLKATVLMSRIAKEF-HVQVSLKDIFAHPTVEGLA---------------',\n",
       " '------------nqtevl--VASIWADVLGI-EQ---V-GVHDNFFELGGHSLLATRVASRLRETF-AKEVPIRAIFERPTVAELSETL------------',\n",
       " '--------------sdveRKLAEIWQEVLGV-ET---I-GVHDNFFELGGDSILTIQIVSRANQA--GLQLTPKHLFDAQTLAELAA--sav---------',\n",
       " '---------------vee-LVVRIWEEVLNV-SQ---V-GVHDNFFELGGHSLLATQVLSRTAKLF-HVRLPMREIFTHQTVAELARRI------------',\n",
       " '----------------veQTLADIWCAVLRM-D--R-I-GIHDNFFELGGDSILSIQIVARANKA--GIHLTPKQLFDQQTIAELA---k-----------',\n",
       " '-------------netek-AIAAIWQDVLNV-EKAG----IFDNFFETGGHSLKAMTLLTKIHKET-GIEIPLQFLFEHPTITALAE--------------',\n",
       " '--------------dmee-LLAGIWQDVLGM-S--E-V-GVTDNFFSLGGDSIKGIQMASRLNQH--GWKLEMKDLFQHPTIEELT---q-----------',\n",
       " '-----------------eQKVADIWAQVLQA-E--Q-V-GAYDHFFDIGGHSLAGMKMLALVHQEL-GVELSLKDLFQSPTVEGLAQ--------------',\n",
       " '---------------ekeRRLAAIWKDVLGI-E--Q-I-GIHDNFFELGGDSILSIQIVSRANQA--GLSLAPKQLFEYQTIAELAE--------------',\n",
       " '--------------leem--IANVFAEVLAV-EK---V-GIDDNFFELGGHSLLATQTVSRLREIV-GVELQLRTLFEHPTVAGLGE--ql----------',\n",
       " '---------------eem--VANIWSQVLSV-E--R-V-GSFDDFFELGGHSLLATQTVSRLKEAF-GVDLPLRVLFECSTVNKLSE--------------',\n",
       " '--------------veim--LHAHWAAVLEM-ET---I-GVHDNFFEIGGHSLLATQLIFKVREEL-QLEVPLRILFETPTIAGMAKTI------------',\n",
       " '-------------neiea-KLAEIWQQVLGI-SQ---V-GIHDDFFDLGGHSLKAMTVVFQVSKAL-EVELPVKALFEHPTVAELARFL------------',\n",
       " '-------------newea-KLAAIWESVLGV-EP---I-GVHDHFFELGGHSLKAMHVISLLQRSF-QVDVPLKVLFESPTIAGLA---------------',\n",
       " '----------------ea-RLAQVWEQVLNV-PQ---V-GALDDFFALGGHSLRAMRVLSSMHNEY-QVDIPLRILFEKPTIQELA---------------',\n",
       " '-----------------eQQLAAIWQEVLGV-EP---I-GITDQFFELGGHSLKATLLIAKVYEYM-QIELPLNLIFQYPTIEKVAD--------------',\n",
       " '-------------ndtea-KLQQIWQEVLGI-PA---I-GIHDNFFEIGGHSLKAMNVITQVHKTF-QVELPLKALFATPTIHELA---------------',\n",
       " '---------------ves-KLAEIWERVLGV-SG---I-GILDNFFQIGGHSLKAMAVAAQVHREY-QVELPLKVLFAQPTIKALAQ--------------',\n",
       " '---------------emeETIAQIWSEVLGR-K--Q-I-GIHDDFFALGGHSLKAMTAASRIKKEL-GIDLPVKLLFEAPTIAGISAYL------------',\n",
       " '-------------nelee-QLALIWQEVLGI-Q--R-I-GIEDSFFELGGDSIKALQVSARLGRY--GLSLQVSDLFRHPKIKDLS---------------',\n",
       " '----------------em-KLSQLWEDVLKN-GP---V-GIHDNFFDRGGHSLKATALVSRIAKEF-DVQVPLKDVFAHPTVEGLA---------------',\n",
       " '--------------dmee-LLAGIWQDVLGM-S--E-V-GVTDNFFSLGGDSIKGIQMASRLNQH--GWKLEMKDLFQHPTIEELT---q-----------',\n",
       " '--------------eleq-LLAGIWADVLGI-KQ---V-GTQDNFFELGGDSIKAIQVSTRLNAS--GWTLAMKELFQYPTIEEAA---lrvip-------',\n",
       " '---------------eleQKLVAIWEQILGV-SP---I-GIQDHFFTLGGHSLKAIQLISRIQKEC-QADVPLRVLFEQPTIQALA---------------',\n",
       " '--------------diem-KLAEIWHNVLGV-NK---I-GVLDNFFELGGHSLRAMTMISQVHKEF-DVELPLKVLFETPTISALAQ--------------',\n",
       " '---------------eleEKLAKIWEEVLGI-SQ---I-GIQDNFFSLGGHSLKAITLISRMNKEC-NVDIPLRLLFEAPTIQEI----s-----------',\n",
       " '--------------eiea-QLVLIWQEVLGI-EL---I-GITDNFFELGGHSLKATLLVAKIYEYM-QIEMPLNVVFKHSTIMKIAE--------------',\n",
       " '---------------leg-KLEEIWKDVLGL-Q--R-V-GIHDDFFTIGGHSLKAMAVISQVHKEC-QTEVPLRVLFETPTIQGLA---k-----------',\n",
       " '--------------diem-KLAEIWHNVLGV-NK---I-GVLDNFFELGGHSLRAMTMISQVHKEF-DVELPLKVLFETPTISALAQ--------------',\n",
       " '---------------eleEKLAKIWEEVLGI-SQ---I-GIQDNFFSLGGHSLKAITLISRMNKEC-NVDIPLRLLFEAPTIQEI----s-----------',\n",
       " '--------------eiea-QLVLIWQEVLGI-EL---I-GITDNFFELGGHSLKATLLVAKIYEYM-QIEMPLNVVFKHSTIMKIAE--------------',\n",
       " '---------------leg-KLEEIWKDVLGL-Q--R-V-GIHDDFFTIGGHSLKAMAVISQVHKEC-QTEVPLRVLFETPTIQGLA---k-----------',\n",
       " '-----------neietvm---AEIWEELLNV-D--E-L-GVSANFFKLGGDSIKALQVCARLKQR--GFETTVREMFEHQTLGELS---------------',\n",
       " '--------------iead--LAHIWEDVLNK-QH---I-GIRDDFFQLGGQSLKAAALVSRIHKKL-NVELPLSEVFSYPTVESMA---vklm--------',\n",
       " '----------------eq-QMAKLWQEVLNT--KID-I-GIHDSFFRIGGDSISAMHLVSR-SRAV-GISLTVEQIFKNPTLQHMA---------------',\n",
       " '----------------es-QLAQLWATTLNI-DART-I-GSSDSFFQHGGDSIAAVRLVTLAREQ--GIGLSVDTLLSKPILRDMA---------------',\n",
       " '-----------eaertma----VLWSQVLAI-DDSH-VfHTDDDFFQLGGHSIALMRLISAGKGH--GMSISYRDAFLHPSLGAMS---r-----------',\n",
       " '---------------vee-ELANIWKQVLGV-NTIS----IDDDFFAIGGHSLRALQVIHTLKHQQ-NIDIPIDFLFEHPTIAQLAE--kl----------',\n",
       " '-------eiepaftseie---RAVWEEFTGV-LGRE-V-GVADSFFRNGGHSLMAIRLVSRINKRL-SSALSVSELFRYPTVSGLAQHL------------',\n",
       " '---------------eieETLVTIWQDVLGI-EK---I-GIKDNFYALGGDSIKAIQVAARLHSY--QLKLETKDLLKYPTIDQLV---h-----------',\n",
       " '---------------eieETLVTIWQDVLGI-EK---I-GIKDNFYALGGDSIKAIQVAARLHSY--QLKLETKDLLKYPTIDQLV---h-----------',\n",
       " '--------------dmev-TLQSLWSSVLGI-SEQA-I-GRNDRFLNVGGDSVSAIRLATAARDA--GLDLSVSTIFQHPQLKDMA---------------',\n",
       " '--------------nlea-QLAEIWAQVLGL-AKFEqI-GRQDNFFKIGGDSISAIDLVSKARQQ--GISLTVAEIFANPRL-------s-----------',\n",
       " '---------------lei-ELRTIWAAALGLgNLTI-I-GRHTDFFALGGDSIGAMKLVNLATRR--GLVLNVATVFKAPQLKAMA---------------',\n",
       " '----------------ec-ALQAIWAKVLGV-DAQI-I-GREDTFNRHGGDSIATIQLVSVANQQ--GVNLTAAEVFQHPRLQEMAACI------------',\n",
       " '---------------dmeRYLRSVWVQLLGV-PEDF-I-GANDSFFRVGGDSLKAIKLFQRLRRD--GYNLNVTSIVAAPTLSQMAR--nc----------',\n",
       " '---------------eteEKLVQIWEEVLGI-DK---I-GITHHFFAAGGDSIKALQMISRLSRE--GLSLEMKDLFANPQIKSLSR--------------',\n",
       " '---------------eteEKLAAIWRDILKV-EKSG----INDHFFEMGGHSLKAAAMAARIRKEL-KAEIPLGQIFKTPTIKGLG---e-----------',\n",
       " '--------------dtea-KLVDIWRDVLGA-G--D-I-GISHHFFAAGGDSIKALQIVSRLSR-L-GLKLEMKDLFANPRIKDLA---k-----------',\n",
       " '--------------elee-KMAAIWEDILNI-E--Q-I-GINANIFDIGANSLNVMSFVSRLYAEL-GFRVPFKDIFSKPTIKELSDFL------------',\n",
       " '-----------------eEKLVSIWEDVLGI-EN---I-GISHNFFELGGHSLKAAALTAKLHKEM-KIEVPLRQLFETPTI-------------------',\n",
       " '--------------evem-QLQQLWAEVLNI-DPQQ-I-GAHDSFFSLGGDSISAMQLSAKSRSA--GLRVTVPDIFKLATIAGLA---ps----------',\n",
       " '---------------mer-QLQSIWSKALDL-PEDQ-V-GAHDNFFHIGGDSLVAMRIIAIARAQ--KLKLTVADLFKYPCLSEVAQ--------------',\n",
       " '---------------mer-TLQSLWAQTLGM-DIDR-I-GAHDNFFQLGGDSVAAMRLAAIVQQQE-QLQLTVGDILSHPCLSDLAN--------------',\n",
       " '--------------daeh-AVAALWCELLSL-P--E-V-GVREDFFGLGGHSLLAADLLQRLERDL-GARVPVAEFFMEPTVARLAATV------------',\n",
       " '------------gdteia--LGEIWADVLGA-RQRS-V-SRNDNFFRLGGHSITCIQLIARIRQRL-SVSISVEDVFATRTLERMAD--------------',\n",
       " '----------------er-ELAGIWAELLGA-G--E-V-GGDDNFFEIGGHSLLAARMTGRASTAF-GVDLPVSLAFEHPVLRDFAL--avv---------',\n",
       " '--------------etek-AVASLWSQVLKI-PYES-F-GLNDNFFRLGGDSISAMKLSAAARST--GMSLTVAKIFGHPTLEAMSQ--------------',\n",
       " '---------------mee-TIAGLWKDLFGV-S--D-I-GSNDNFFRVGGDSIEAMKLAAAARAQ--GLSLSVADIFNYPKLDDMARI-vv----------',\n",
       " '---------------eieRKLVQVWREILGA-E--D-I-GISHHFFAAGGDSIKALQIVSRLAKM--NLKLEMKALFANPKIKDLSR--------------',\n",
       " '---------------eteEKLAAVWQDVLHV-EKAG----IHDHFAQMGGHSLHAMELIAKIKEKM-NVEIPLHQLFKLATIKELS---------------',\n",
       " '---------------qmeEKLVSIWEEALGI-NK---I-GINSHFFEAGGHSLKAAALVSTIHKEL-NVKLPLRQIFETPTIKGL----------------',\n",
       " '--------------elea-TLAHIWGEVLGI-E--R-I-GIRDNFFELGGDSIKGLQIASRLQRI--NWTMVINHLFLYPTIEQIA---------------',\n",
       " '--------------------LCDLFMEVLHL-P--R-V-GIDDRFFDLGGHSLLAVQLMSRIREAL-GVELSIGNLFEAPTVAGLAERL------------',\n",
       " '--------------------LCDLFAEVLGL-A--R-V-GIDDSFFELGGHSLLAARLMSRIREVM-GAELGIAKLFDEPTVAGLAAHL------------',\n",
       " '---------------eteEKLAAVWQEVLDR-DK---I-GINDNFFEIGGDSIKALQIVSKLSRA--DLKLQVKDLFTNPFIRHLS---k-----------',\n",
       " '--------------qtea-LLLSIWQDILPA-E--Q-I-GINDHFFDIGGHSLKAFSMAAKIQSAL-KVEVTLKEIFNHSTIQDLA---------------',\n",
       " '-------------eleki--LAATWESVLGL-E--R-V-GVSDHFFELGGDSIKSIQVSSRLYQA--GYKFEIKHLFKYPTISELVPY-vep---------',\n",
       " '---------------iek-QLAEIWKEVLAH-S--E-L-GIKDNFFDVGGHSLKVLQLVDQINKVM-GIKLHYHVVYEAPTIETMAHAI------------',\n",
       " '-------------neiea-LLCEEFAEVLGV-E----V-GINDDFFDLGGHSLMATKLAARSSRRF-DAKVSVKDVFDHPILADLAA--si----------',\n",
       " '-------------nevea-VLCEEFSEVLGV-E----V-GVTDNFFDLGGHSLMATKLAARTGRRL-DAKVSVKDVFDHPVLADLAAAI------------',\n",
       " '------------neieti--LCEEYAEVLGV-E----V-GVMDNFFDLGGHSLMATKLAARATRRL-DAKLSVKDIFDYPILANLAAAV------------',\n",
       " '-------------neiea-ALCEVFVDLLGT-E----V-SITDNFFNLGGHSLMATKLAARISRRL-DARISVKDVFDYPVLADLA---------------',\n",
       " '------------neleas--LCKEFAEVLGV-E----V-GITDNFFDLGGHSLLATKLAARISRRL-DTRVSVKDVFDQPVPADLA---------------',\n",
       " '-------------neiea-VLCEEFAHILGV-E----I-GVTDNFFDLGGHSLMATTLAARLARRL-NASISVKDVFDQPIVANLAATI------------',\n",
       " '-------------nevea-VLCEEFTDVLGV-E----V-GITDNFFDLGGHSLMATKLAARISKHL-DARVSVKDVFDYPVVADLAA--si----------',\n",
       " '-------------netea-VLCEEFTDVLGL-E----V-GITDNFFDLGGHSLMATKLAARISRRL-DARVSVKDVFDQPVIVDLAA--si----------',\n",
       " '----------------it--LERIWFQSLGL-KPNS-T-RHKSNFFNLGGDSIAAIRMVNMARAA--GLLLSISDIFQNPSLAGL----------------',\n",
       " '-------------ekeqi--LHHLWAQVLSI-DASS-I-GMDDSFFDLGGDSIAAMKLVGEARRS--GIYITVAVVFQNPTLDKLT---saaip-------',\n",
       " '----------------el-KVQRILSRVLGI-EASR-M-GLEDSFFQLGGDSIAAMKIVAAAREE--EIHLTIANIFQHPKLVNLA---------------',\n",
       " '------------------------------I-DSDR-I-GLDDSFFQLGGDSIAAMKLVALARDE--DIRLTVAKIFQYPKLIQLA---------------',\n",
       " '---------ndlqktmay-----IWEDVLSM-S--R-V-GIHDSFFELGGDSIKALQVAARLAAE--GWSMTIRDLFRYSTIQELCGHItp----------',\n",
       " '----------------em-KLSQLWEDVLKN-GP---V-GIHDNFFDRGGHSLKATALVSRIAKEF-DVQVPLKDVFAHPTVEGLA---------------',\n",
       " '--------------emei-KLRSLWGKLLG--GEDD-F-SANDNFFSMGGDSLRAMRLVAAAREA--GLVLNVPDIMLNPTLSAMAT--kikp--------',\n",
       " '-----------------eETLTAIWSSTLGV-A--R-V-GIRDDFFKLGGHSLLALNITTQIQKRF-GHVITVDSIFRAPTIAVLAR--------------',\n",
       " '-----------------eETLVAIWSKVLGV-DP---I-GVEDNFFELGGDSILSIQIVGQAKQA--GFSLTSRQMFEHQTIAALAE--------------',\n",
       " '-------------etesi--LVSIWQNVLGI-EK---I-GIRDNFYSLGGDSIQAIQVVARLHSY--QLKLETKDLLNYPTIEQVA---------------',\n",
       " '--------------------LQAIWAQVLNT-DANS-I-GLDDSFFQVGGDSLGAMRLVGDARKI--GLNLAVADVFRRPVLRDMAE--gl----------',\n",
       " '--------------evek-QVHRIWSQVLGI-DASM-I-GLDDSFFELGGDSLGAMEVVSEARKV--GLELTVVDIFKHRSVENVA---------------',\n",
       " '--------------eaer-QMQQVWAKVLGI-PPAS-V-GRDDNFFQLGGDSITAMKLVGEARKA--GLELVVADMFRYPR--------l-----------',\n",
       " '--------------dler-QIQQLWAECLNV-TPSK-I-GIHDSFFALGGDSISAMQLSAKGRSV--NLPMTVSDIFKHKSIARLA---lsv---------',\n",
       " '--------------emey-RLQQLWAATLGI-GPSS-I-GTEDSFLRIGGESMAAIRLVQLARKE--GIVLTVADIFNQPRLCEMAR--a-----------',\n",
       " '----------------ea-AVQRLWADILRI-AEKQ-I-KADDSFFTLGGNSITAMKLVELARRR--GILFNVADVFAHPVLSDLA---------------',\n",
       " '-----------------eEKLQKIWADALGV-K--S-I-QAEDNFFTIGGDSIAAMRLVGLARDQ--GLLLSVADIFQRPRLYEMAE--------------',\n",
       " '--------------qvel-QLQALWAEALGI-SVDG-V-GAHDNFFQLGGDSVAAMRIVAMSQAR--EMGLSVADIFAYPRLSELA---------------',\n",
       " '---------------ecl--VHSLWTEALSL-SFSQ-V-GIYDNFFQIGGDSVVAMRMVAT-ESAR-ELQLTVADLFQHPRLIELAE--------------',\n",
       " '-----------------------LWADALGI-STDT-I-SMTDNIFHLGGDSVTAMRIVAAAYSH--ELQLTVTDIFQHPQLADLVNT-l-----------',\n",
       " '---------------lee-QLVLIWKEVLKL-EQ---V-GVKDNFFDLGGHSLRGMTLVGKIHKQF-NKTISLREVFQGPTIEEMA---k-----------',\n",
       " '-----------ndieeaf---QRFFAQVLGL-SLDQ-I-GADDHFFSLGGDSLTAMRLAAMARKA--KFDLTVQNVFDHPELSELAR--------------',\n",
       " '------------eveial---GKIWADVLGA-HHLS-I-SRKDNFFRLGGHSITCIQLIARIRQQL-GVIISIEDVFSSRTLERMAE--------------',\n",
       " '----------------ls---------------LDQ-I-GADDHFFSLGGDSLTAMRLAAMARKA--KFDLTVQNVFDHPELSELAR--------------',\n",
       " '------------grneei--LSELWAACINL-EKKS-V-SRMDNFFELGGDSITAMSLVQRLAK-L-GLRIHVSEIFKDPVL-------cama--------',\n",
       " '--------------eves-KLAVLWQEMLGI-H--R-V-GIKHNFFDLGGNSIRATALAARIHKEL-DVNLSVKDIFKFPTIEQLA---------------',\n",
       " '--------------emer-ILCDVFAEVLGL-Q--S-V-DRESSFFSLGGHSLLAPRLASRVSKRL-DCTATVRDLFDCPTPVRLADRLl-----------',\n",
       " '--------------------LQEIWAEVLQL-PCEA-I-GREDSFLSLGGESLATMKMVALARRV--GFMFAVTDVMNNTSLSTLAR--s-----------',\n",
       " '----------------ek-VLCDIFRDLFDL-V--E-I-DVRSNFFEMGGNSILAVDLIQRAQEA--GLTLMPRTVIDHPTIEQLA---------------',\n",
       " '------------nemetm--LCEEFANVLGM-D----V-GVTDNFFDLGGHSLMATKLAARIGRRL-NTTISVKEVFEHPIVFQLA---nsl---------',\n",
       " 'sdievalceeatatfgmq-------------------V-GISDHFFKLGGHSLLATKLISRVGDRL-KARLTVKDVFDHPIFSELA---ivireglqnvvp',\n",
       " '----------------ea-RLKEVWLQSFNL-EPAS-P-KCGASFFELGGDSITAIKMVNMARAA--GLELKVSDIFQNPTLARL----------------',\n",
       " '--------------eler-KLQRACGRLLNI-EADQ-I-SMQDNFFDLGGNSLTARQLVAVARAE--GLQVSVAQIFQQPTLAGLAQ--t-----------',\n",
       " '-----------------l---EEVWRQCLGL-EPGA-A-NINSTFFELGGHSITAIKMVNMARSA--GIDLKVSDIYQNPTLAGL----------------',\n",
       " '-------------eteit--LCDEASKLLGI-E----V-GITDNFFDLGGHSMMATKLAMRLGRRL-DTTIVVKDIFDYPVLFQLS---kkl---------',\n",
       " '-----------------k-------------------V-DISDDFFKLGGHSLLATKLISRVEQRF-NVRVTVKDVFDNPVFANLA---------------',\n",
       " '-----------------l---ERIWAEVLNR-AQTQ-I-GGNDDFFRLGGDSILAVRMVSLARKG--GIDIRVADVFKFSTIYKLAR--------------',\n",
       " '--------------------LQGIWAQVLHV-DPLA-I-GMDDSFFALGGDSIAAIRLVREARQTF-SIGLTVADIFSFPSLGALA---------------',\n",
       " '--------------------LQEIWAEVLQL-PCEA-I-GREDSFLLLGGESLATMKMVALARRV--GFVFAVADVLNNTSLSTLAQ--------------',\n",
       " '--------------efel-KLCGIWAQVLEI-APDR-I-GVHDDFFALGGDSIRAMALAQAITTGF-GQGLGVATVLQHTTLAAQAEHI------------',\n",
       " '--------------dder-ILAETWAKILGI-KEST-I-SRNDSFFRRGGDSMAAIRMVASLREA--GFVISVSDIFKTSILSELA---------------',\n",
       " '-------------nleai--LCEEFAEVLGM-E----V-GVNDHFFQLGGHSLLATKLVARLSRRL-NGRVSVRDVFDQPVISDLA---vtl---------',\n",
       " '---------------iev-KLKELWFLSLNL-NPNS-Q-DVGASFFDLGGNSIIAIKMVNMARSA--GIALKVSDIFQNPTLAGL----------------',\n",
       " '--------------dmea-VLCKEFADVLGV-E----V-SATDSFFDLGGHSLMATKLAARISRRL-DVPVSIKDIFDH----------------------',\n",
       " '---------------mwe-----EFAGVLGV----E-V-GIADSFFDCGGHSLMAIKLVSRINKRL-QSTVPVSDLFQYPSVSRLA---------------',\n",
       " '---------------eteQTLAQVWAKLIPN-VTSRmI-GPDDSFFDLGGHSILAQQMFFELRRKWrVIDISMNAIFRSPTLKGFAS--ei----------',\n",
       " '---------------erv--MQQLWSELMGL-PLSS-I-GAKDSFFHLGGDSVLAIRLVPMAREH--GLFLTVLDVFHHPRLGDL----------------',\n",
       " '--------------daer-QLQTLWAGVLDK-DVNA-I-GATDHFFQLGGDSVVAMRLVAAARQE--NVQISVADIFAHPRLRDLAKTI------------',\n",
       " '---------------emeRRIQQLWSAVLKK-PATA-I-GANDHFFQSGGDSVSAIRMIASARGM--DVHLTVADVFKHPRLSDLAAAV------------',\n",
       " '-----------------d---------------TTE-V-GMDDSFFHLGGDSVQAMRLVSVGRQQ--GLAVSVLSIFDHPRLADLAE--------------',\n",
       " '----------------er-GLQTIWATVLAL-DRDA-I-GVHDDFFRMGGDSIAGMQVATKCNAA--GMRISSADLFRHRTIARL----------------',\n",
       " '-------------eteii--LCDEASKLLGI-E----V-GITDNFFDLGGHSMMATKLAMRLGRRL-DTTIVVKDIFDYPVLFQLS---kkl---------',\n",
       " '--------------------LEEVWCQCLGL-ETGA-A-NVGSTFFELGGHSITAIKMVNMARSA--GIDLKVSDIYQNPTLAGL----------------',\n",
       " '-----------------k-------------------V-DISDDFFKLGGHSLLATKLISRVEQRF-NVRASVKDVFDNPVFAHLA---------------',\n",
       " '---------------ler-ELQKIWARILNI-PPDT-I-GVHDSFFRLGGDSITCMQVAAQCSRT--GILITVKDIFKRRTIEKLAAA-av----------',\n",
       " '-----------------------IWADVLSL-KEES-I-SSDDSFLQLGGNSIDAMKLVNLTRDV--QLGLSVAKIFTYPVLDEMADA-ct----------',\n",
       " '----------------es-TLRDLWAKALEI-EPGS-I-SAEDSFFALGGDSFAAMKLVGAARSQ--NISLSFATIYEHPVLVDMAKC-c-----------',\n",
       " '---------------vky-----------------------HDSFFRLGGDSITAMRLVRAARDE--GLKLSVADVLKNP---------------------',\n",
       " '----------------veDRLKSIWSRVLAI-PRDR-I-SLDESFLALGGDSIAAITCMGYCKKQ--GMGVTVQDVLQSKSI-------------------',\n",
       " '--------------qtev-TLQRIWSQCLGV-S--S-V-DRNANFFDLGGDSLMAISIAMAAANE--GLTITPQDLYEYPTLASLTAAV------------',\n",
       " '-----------------t--LKEIWSDEFHV-DIES-I-TLSDSFFAHGGESLTAIKMVGVAFEK--GIQLDVPTIFRHPQLSDLV---snc---------',\n",
       " '--------------qtev-TLQRIWSQCLGV-S--S-V-DRNANFFDLGGDSLMAISIAMAAANE--GLTITPQDLYEYPTLASLTAAV------------',\n",
       " '--sevevmlceeltktfe----------------MD-V-NITDDFFQLGGHSLLATRLVARISHRL-GARLTVKDVFDYPVFSELAD--------------',\n",
       " '-----------------l---EEVWMDIFNL-TPNS-H-NIGGNFFALGGDSITAIKMVNMARAA--GIQLKVSDIFQNPTLASLQA--ai----------',\n",
       " '-------------dmeam--LCEEFANILGM-D----V-GITDNFFDLGGHSLMATRLAARIGHRL-NTTISVKDIFSHPVIFQLSA--kl----------',\n",
       " '--sevevmlceeltktfe----------------MD-V-NITDDFFQLGGHSLLATRLVARISHRL-GARLTVKDVFDYPVFSELAD--------------',\n",
       " '-----------------l---EEVWMDIFNL-TPNS-H-NIGGNFFALGGDSITAIKMVNMARAA--GIQLKVSDIFQNPTLASLQA--ai----------',\n",
       " '-------------dmeam--LCEEFANILGM-D----V-GITDNFFDLGGHSLMATRLAARIGHRL-NTTISVKDIFSHPVIFQLSA--kl----------',\n",
       " '--------------erer-QLAHLWKCLFGA--EAE-I-DVQSNFFDLGGDSLMAMKLVAAARAE--NLLTSVADIFRHPTLAELA---itl---------',\n",
       " '--------------dmer-LLCDVWSKVLGL-ERRS-I-GPESNFFHLGGDSIAAMKSVGEARKS--GIKVAVADVFRHPSLQDLSR--------------',\n",
       " '--------------dtet-KLESIWITSLDL-EPGS-A-NMSATFFEMGGNSIIAIKMVNMARSN--GIELKVSDIYQNPTLAGL----------------',\n",
       " '-----------------v---------------------GITDNFFDLGGHSLMATKLAVRIGRRL-DTAITVKDIFDYPVLFQLAK--kl----------',\n",
       " '------------sdieit--LCEEATEVFGM-KVE-----ISDHFFQLGGHSLLATKLISRIQHRL-HVRVTVKDVFDSPVFADLA---------------',\n",
       " '--------------emee-RMRNIWARVLGM-LPQD-I-HLESNFFHLGGDSIASMRVVAYARR-L-GIQVMVADVFQHPSLHDLAK--nc----------',\n",
       " '--------------------LHNIWSTALGL-DGKL-I-GADDSFFQVGGDSVSAMKVAAAARQQ--GLEISVADIFAHPRLSALA---------------',\n",
       " '-----------------l--------------PPEM-V-GMNHNFFSLGGDSVSVMKLVSRAKRV--GLSFTVKDVFRSPQLGDLAR--------------',\n",
       " '---------------qveETLQRLFSQILGV-EQRH-I-SVTDSFFQLGGDSISAIRLIGAARDA--GLEFTVSELLSAPTISEVA---------------',\n",
       " '---------------ver-EVRDLWLSILPT-KPAS-V-SPDDSFFDLGGHSILATKMIFTLKKKL-QVDLPLGTIFKYPTIKAFAAE-i-----------',\n",
       " '------------eseyit---RTLWAAVLGV-DADR-I-DRHDNFFDIGGDSIIAMKLVAAAKVK--GFQIRVLDIFENPVL-------fkma--------',\n",
       " '------------------------WCSILGV-NTDL-I-CRHDNFFGLGGNSIYAIRLVGLARSN--GHHLQYEDVFSSPVLADMASR-l-----------',\n",
       " '---------------iqd-TVFTIWQEVLKT-SD---I-EWDDGFFDVGGDSLLAVTVADRIKHEL-SCEFSVTDLFEYSTIKNIS---q-----------',\n",
       " '-----------------l--------------APEH-L-GMNDNFFHLGGNSASAMKLTMSARRR--GLRFTIRDVFNHPVLAELAS--a-----------',\n",
       " '------------klpstr-----------------A-V-GPGDSFFALGGNSLLLMRLQARLKRAL-KLPLPLNMMFKTPTPAAIT---q-----------',\n",
       " '----------------er-EIRDLWLECLPT-KPTS-I-SPEDSFFDLGGHSILATKMIFTVKKQL-NVELPLGTIFKYPTIKAFA---------------',\n",
       " '-----------------l---ESIWITSLDL-EPGS-A-NMSATFFEMGGNSIIAIKMVNMARSN--GIELKVSDIYQNPTLAGL----------------',\n",
       " '------------sdieit--LCEEATEVFGM-KVE-----ISDHFFQLGGHSLLATKLISRIQHRL-HVRVTVKDVFDSPVFADLA---------------',\n",
       " '-------------------------------------------SFFEAGGDSIQAWRLSRQLKRV--GLEVPICNIFDHPTAQDLAQRL------------',\n",
       " '-------------------------------------------NFFAMGGNSLAALRFTSLCRER--GILLTTRDLYLHPTV-------------------',\n",
       " '-------------eleae--MQQIWARVLSF-EPER-I-GLDDSFFRLGGDSIAAMKAVGEATKA--SIRVTVADFFEHRTL-------------------',\n",
       " '-------------dieit--LCEEATEVFGM-KVE-----ISDHFFQLGGHSLLATKLISRIQHRL-HVRVTVKDVFDSPVFADLA---------------',\n",
       " '-----------------------IWARVLRI-EPHT-F-GVHDSFFRLGGDSISSMRVAAACGVA--GISVTVKDMFEYRTIRKLA---------------',\n",
       " '----------------eh-EISAIWARVLQI-EPHT-F-GVHDSFFRLGGDSISGMQVAAACGAA--GISVTVKDMFEYRTIRKLA---------------',\n",
       " '-----------------------------------------HDSFFAVGGSSLLAFKLVSVLGQH--GLNIPARELFKNQ---------pfsdva------',\n",
       " '----------------eh-EISAIWARVLQI-EPHT-F-GVHDSFFRLGGDSISGMQVAAACGVA--GISVTVKDMFEYRTIRKLA---------------',\n",
       " '-----------------d-----------------A-V-GVHDDFFALGGDSVLATQVVAGIRRWLdSPSLMVADMFAARTIAALAQLLt-----------']"
      ]
     },
     "execution_count": 12,
     "metadata": {},
     "output_type": "execute_result"
    }
   ],
   "source": [
    "seqs"
   ]
  },
  {
   "cell_type": "code",
   "execution_count": 13,
   "metadata": {},
   "outputs": [
    {
     "data": {
      "text/plain": [
       "197"
      ]
     },
     "execution_count": 13,
     "metadata": {},
     "output_type": "execute_result"
    }
   ],
   "source": [
    "len(seqs) # This is the MSA"
   ]
  },
  {
   "cell_type": "code",
   "execution_count": 14,
   "metadata": {},
   "outputs": [],
   "source": [
    "# ##DCA Example\n",
    "# ##Extract L and M and convert the MSA in a numerical matrix\n",
    "# M=np.size(seqs)\n",
    "# L=len(seqs[0])-1\n",
    "# Np=int(L*(L-1)/2)\n",
    "# print(M,L)\n",
    "# align=np.zeros((M,L)).astype(int)\n",
    "# for m in range (M):\n",
    "#     for i in range (L):\n",
    "#         align[m,i]=letter2number(seqs[m].decode('utf-8')[i])"
   ]
  },
  {
   "cell_type": "code",
   "execution_count": 15,
   "metadata": {},
   "outputs": [
    {
     "name": "stdout",
     "output_type": "stream",
     "text": [
      "197 101\n"
     ]
    }
   ],
   "source": [
    "##Extract L and M and convert the MSA in a numerical matrix\n",
    "M=np.size(seqs)\n",
    "L=len(seqs[0])\n",
    "Np=int(L*(L-1)/2)\n",
    "print(M,L)\n",
    "align=np.zeros((M,L)).astype(int)\n",
    "for m in range (M):\n",
    "    for i in range (L):\n",
    "        align[m,i]=letter2number(seqs[m][i])"
   ]
  },
  {
   "cell_type": "code",
   "execution_count": 16,
   "metadata": {},
   "outputs": [
    {
     "data": {
      "text/plain": [
       "array([[20, 20, 20, ..., 20, 20, 20],\n",
       "       [20, 20, 20, ..., 20, 20, 20],\n",
       "       [20, 20, 20, ..., 20, 20, 20],\n",
       "       ...,\n",
       "       [20, 20, 20, ..., 20, 20, 20],\n",
       "       [20, 20, 20, ..., 20, 20, 20],\n",
       "       [20, 20, 20, ..., 20, 20, 20]])"
      ]
     },
     "execution_count": 16,
     "metadata": {},
     "output_type": "execute_result"
    }
   ],
   "source": [
    "align"
   ]
  },
  {
   "cell_type": "code",
   "execution_count": 17,
   "metadata": {},
   "outputs": [
    {
     "data": {
      "text/plain": [
       "array([20, 20, 20, 20, 20, 20, 20, 20, 20, 20, 20, 20,  0,  0,  0,  0,  0,\n",
       "        0, 20, 20,  9,  0,  3, 10, 18, 16,  2,  9,  9,  8,  7, 20,  2, 13,\n",
       "       20, 20, 20, 17, 20,  5, 14,  6,  2, 11,  4,  4, 16,  9,  5,  5,  6,\n",
       "       15,  9,  9,  0, 17, 13, 10,  7,  3, 13,  9, 14, 14,  7, 20, 20,  5,\n",
       "        9, 15,  9, 15, 17, 14,  0,  9,  4,  2, 16, 12, 17,  9, 15, 17,  9,\n",
       "        0,  0, 20, 20,  0,  0, 20, 20, 20, 20, 20, 20, 20, 20, 20, 20])"
      ]
     },
     "execution_count": 17,
     "metadata": {},
     "output_type": "execute_result"
    }
   ],
   "source": [
    "align[0]"
   ]
  },
  {
   "cell_type": "code",
   "execution_count": 18,
   "metadata": {},
   "outputs": [
    {
     "data": {
      "text/plain": [
       "(197, 101)"
      ]
     },
     "execution_count": 18,
     "metadata": {},
     "output_type": "execute_result"
    }
   ],
   "source": [
    "align.shape"
   ]
  },
  {
   "cell_type": "code",
   "execution_count": 19,
   "metadata": {},
   "outputs": [],
   "source": [
    "## new sequences\n",
    "align_new = np.zeros((len(align[:,1])+21,len(align[1,:])))\n",
    "align_new[:-21,:] = align\n",
    "for i in range(21):\n",
    "    align_new[-i-1,:] = np.ones(L)*i\n",
    "align_new\n",
    "\n",
    "for i in range(L):\n",
    "    np.random.shuffle(align_new[len(align[:,1]):,i])\n",
    "align_new = align_new.astype(int)"
   ]
  },
  {
   "cell_type": "code",
   "execution_count": 20,
   "metadata": {},
   "outputs": [
    {
     "data": {
      "text/plain": [
       "197"
      ]
     },
     "execution_count": 20,
     "metadata": {},
     "output_type": "execute_result"
    }
   ],
   "source": [
    "len(align[:,1])"
   ]
  },
  {
   "cell_type": "code",
   "execution_count": 21,
   "metadata": {},
   "outputs": [
    {
     "data": {
      "text/plain": [
       "array([[12,  2, 18, ...,  7, 17, 13],\n",
       "       [ 9,  9, 13, ..., 20,  7, 17],\n",
       "       [15, 18,  3, ...,  0, 13, 20],\n",
       "       ...,\n",
       "       [18, 16,  7, ...,  3, 11,  4],\n",
       "       [ 5, 19, 19, ...,  2,  5,  0],\n",
       "       [ 6, 13, 20, ..., 14,  9,  7]])"
      ]
     },
     "execution_count": 21,
     "metadata": {},
     "output_type": "execute_result"
    }
   ],
   "source": [
    "align_new[len(align[:,1]):,:]"
   ]
  },
  {
   "cell_type": "code",
   "execution_count": 22,
   "metadata": {},
   "outputs": [
    {
     "data": {
      "text/plain": [
       "array([[20, 20, 20, ..., 20, 20, 20],\n",
       "       [20, 20, 20, ..., 20, 20, 20],\n",
       "       [20, 20, 20, ..., 20, 20, 20],\n",
       "       ...,\n",
       "       [18, 16,  7, ...,  3, 11,  4],\n",
       "       [ 5, 19, 19, ...,  2,  5,  0],\n",
       "       [ 6, 13, 20, ..., 14,  9,  7]])"
      ]
     },
     "execution_count": 22,
     "metadata": {},
     "output_type": "execute_result"
    }
   ],
   "source": [
    "align_new"
   ]
  },
  {
   "cell_type": "code",
   "execution_count": 23,
   "metadata": {},
   "outputs": [
    {
     "data": {
      "text/plain": [
       "True"
      ]
     },
     "execution_count": 23,
     "metadata": {},
     "output_type": "execute_result"
    }
   ],
   "source": [
    "(align_new[:len(align[:,1]), :] == align).all()"
   ]
  },
  {
   "cell_type": "code",
   "execution_count": 24,
   "metadata": {},
   "outputs": [
    {
     "data": {
      "text/plain": [
       "(218, 101)"
      ]
     },
     "execution_count": 24,
     "metadata": {},
     "output_type": "execute_result"
    }
   ],
   "source": [
    "align_new.shape"
   ]
  },
  {
   "cell_type": "code",
   "execution_count": 25,
   "metadata": {},
   "outputs": [],
   "source": [
    "## possibility to give a file with weights\n",
    "# data=gzip.open('/data/users/kgeorge/workspace/ArDCA/weights_14.gz', 'r')\n",
    "# trainingWeights = [float(i) for i in data.readlines()]\n",
    "# data.close()\n",
    "# #trainingWeights = np.loadtxt(\"weights_14\") \n",
    "# trainingWeights_new = np.ones(len(trainingWeights)+21)*10**(-6)\n",
    "# trainingWeights_new[:len(trainingWeights)] = trainingWeights\n",
    "\n",
    "# uncomment these ligns to put uniform weights \n",
    "trainingWeights = np.ones(M) \n",
    "trainingWeights_new = np.ones(len(trainingWeights)+21)*10**(-6)"
   ]
  },
  {
   "cell_type": "code",
   "execution_count": 26,
   "metadata": {},
   "outputs": [
    {
     "data": {
      "text/plain": [
       "array([1.e-06, 1.e-06, 1.e-06, 1.e-06, 1.e-06, 1.e-06, 1.e-06, 1.e-06,\n",
       "       1.e-06, 1.e-06])"
      ]
     },
     "execution_count": 26,
     "metadata": {},
     "output_type": "execute_result"
    }
   ],
   "source": [
    "trainingWeights_new[:10]"
   ]
  },
  {
   "cell_type": "code",
   "execution_count": 27,
   "metadata": {},
   "outputs": [
    {
     "data": {
      "text/plain": [
       "((218,),\n",
       " array([1.e-06, 1.e-06, 1.e-06, 1.e-06, 1.e-06, 1.e-06, 1.e-06, 1.e-06,\n",
       "        1.e-06, 1.e-06, 1.e-06, 1.e-06, 1.e-06, 1.e-06, 1.e-06, 1.e-06,\n",
       "        1.e-06, 1.e-06, 1.e-06, 1.e-06, 1.e-06, 1.e-06, 1.e-06, 1.e-06,\n",
       "        1.e-06, 1.e-06, 1.e-06, 1.e-06, 1.e-06, 1.e-06]))"
      ]
     },
     "execution_count": 27,
     "metadata": {},
     "output_type": "execute_result"
    }
   ],
   "source": [
    "trainingWeights_new.shape, trainingWeights_new[-30:]"
   ]
  },
  {
   "cell_type": "code",
   "execution_count": 28,
   "metadata": {},
   "outputs": [],
   "source": [
    "#Expand the alignment in a bynary (M,21xL) array (one-hot encoding)\n",
    "q=21        \n",
    "msa=np.zeros((M+21,L*q))#.astype(int)  \n",
    "for m in range(M+21):\n",
    "    for i in range(L):\n",
    "        msa[m,i*q+align_new[m,i]]=1 \n",
    "\n",
    "#Calculate the 1-point frequencies \n",
    "msa_reweighted = np.copy(msa[:M,:])\n",
    "\n",
    "for i in range(len(msa[:M,1])):\n",
    "    msa_reweighted[i,:] *= trainingWeights[i]/np.sum(trainingWeights)\n",
    "p=np.sum(msa_reweighted,0)"
   ]
  },
  {
   "cell_type": "code",
   "execution_count": 29,
   "metadata": {},
   "outputs": [
    {
     "data": {
      "text/plain": [
       "(0.005076142131979695, 0.9999999999999999)"
      ]
     },
     "execution_count": 29,
     "metadata": {},
     "output_type": "execute_result"
    }
   ],
   "source": [
    "(trainingWeights[0]/np.sum(trainingWeights)), (trainingWeights[0]/np.sum(trainingWeights))*M"
   ]
  },
  {
   "cell_type": "code",
   "execution_count": 30,
   "metadata": {},
   "outputs": [
    {
     "data": {
      "text/plain": [
       "((218, 2121), (197, 2121))"
      ]
     },
     "execution_count": 30,
     "metadata": {},
     "output_type": "execute_result"
    }
   ],
   "source": [
    "msa.shape, msa_reweighted.shape"
   ]
  },
  {
   "cell_type": "code",
   "execution_count": 31,
   "metadata": {},
   "outputs": [
    {
     "data": {
      "text/plain": [
       "array([0.00507614, 0.        , 0.        , 0.        , 0.        ,\n",
       "       0.        , 0.        , 0.        , 0.        , 0.        ,\n",
       "       0.        , 0.        , 0.        , 0.        , 0.        ,\n",
       "       0.        , 0.        , 0.        , 0.        , 0.        ,\n",
       "       0.99492386])"
      ]
     },
     "execution_count": 31,
     "metadata": {},
     "output_type": "execute_result"
    }
   ],
   "source": [
    "p[:21]"
   ]
  },
  {
   "cell_type": "code",
   "execution_count": 32,
   "metadata": {},
   "outputs": [
    {
     "data": {
      "text/plain": [
       "(2121,)"
      ]
     },
     "execution_count": 32,
     "metadata": {},
     "output_type": "execute_result"
    }
   ],
   "source": [
    "p.shape"
   ]
  },
  {
   "cell_type": "code",
   "execution_count": 33,
   "metadata": {},
   "outputs": [
    {
     "data": {
      "text/plain": [
       "(101.00000000000009, 101)"
      ]
     },
     "execution_count": 33,
     "metadata": {},
     "output_type": "execute_result"
    }
   ],
   "source": [
    "p.sum(), L"
   ]
  },
  {
   "cell_type": "code",
   "execution_count": 34,
   "metadata": {},
   "outputs": [
    {
     "data": {
      "text/plain": [
       "array([[0., 0., 0., ..., 0., 0., 1.],\n",
       "       [0., 0., 0., ..., 0., 0., 1.],\n",
       "       [0., 0., 0., ..., 0., 0., 1.],\n",
       "       ...,\n",
       "       [0., 0., 0., ..., 0., 0., 0.],\n",
       "       [0., 0., 0., ..., 0., 0., 0.],\n",
       "       [0., 0., 0., ..., 0., 0., 0.]])"
      ]
     },
     "execution_count": 34,
     "metadata": {},
     "output_type": "execute_result"
    }
   ],
   "source": [
    "msa"
   ]
  },
  {
   "cell_type": "code",
   "execution_count": 35,
   "metadata": {},
   "outputs": [
    {
     "data": {
      "text/plain": [
       "(218, 2121)"
      ]
     },
     "execution_count": 35,
     "metadata": {},
     "output_type": "execute_result"
    }
   ],
   "source": [
    "msa.shape"
   ]
  },
  {
   "cell_type": "code",
   "execution_count": 36,
   "metadata": {},
   "outputs": [],
   "source": [
    "#Pseudocount alfa\n",
    "alfa=0.0001\n",
    "pa=(1-alfa)*p+alfa/21."
   ]
  },
  {
   "cell_type": "code",
   "execution_count": 37,
   "metadata": {},
   "outputs": [
    {
     "data": {
      "text/plain": [
       "array([5.08039642e-03, 4.76190476e-06, 4.76190476e-06, ...,\n",
       "       4.76190476e-06, 4.76190476e-06, 9.94829127e-01])"
      ]
     },
     "execution_count": 37,
     "metadata": {},
     "output_type": "execute_result"
    }
   ],
   "source": [
    "pa"
   ]
  },
  {
   "cell_type": "code",
   "execution_count": 38,
   "metadata": {},
   "outputs": [
    {
     "data": {
      "text/plain": [
       "101.00000000000009"
      ]
     },
     "execution_count": 38,
     "metadata": {},
     "output_type": "execute_result"
    }
   ],
   "source": [
    "pa.sum()"
   ]
  },
  {
   "cell_type": "code",
   "execution_count": 39,
   "metadata": {},
   "outputs": [
    {
     "data": {
      "text/plain": [
       "(array([5.08039642e-03, 4.76190476e-06, 4.76190476e-06, 4.76190476e-06,\n",
       "        4.76190476e-06, 4.76190476e-06, 4.76190476e-06, 4.76190476e-06,\n",
       "        4.76190476e-06, 4.76190476e-06, 4.76190476e-06, 4.76190476e-06,\n",
       "        4.76190476e-06, 4.76190476e-06, 4.76190476e-06, 4.76190476e-06,\n",
       "        4.76190476e-06, 4.76190476e-06, 4.76190476e-06, 4.76190476e-06,\n",
       "        9.94829127e-01]),\n",
       " 1.000000000000002)"
      ]
     },
     "execution_count": 39,
     "metadata": {},
     "output_type": "execute_result"
    }
   ],
   "source": [
    "pa[:21], pa[:21].sum()"
   ]
  },
  {
   "cell_type": "code",
   "execution_count": null,
   "metadata": {},
   "outputs": [],
   "source": []
  },
  {
   "cell_type": "markdown",
   "metadata": {},
   "source": [
    "#### Routine with sklearn"
   ]
  },
  {
   "cell_type": "code",
   "execution_count": 40,
   "metadata": {},
   "outputs": [],
   "source": [
    "from sklearn.linear_model import LogisticRegression"
   ]
  },
  {
   "cell_type": "code",
   "execution_count": 41,
   "metadata": {},
   "outputs": [],
   "source": [
    "lreg = LogisticRegression(penalty='l2', tol=0.001, C=0.01, fit_intercept=True, intercept_scaling=1, class_weight=None, random_state=None, solver='lbfgs', max_iter=5000, multi_class='multinomial', verbose=0)"
   ]
  },
  {
   "cell_type": "code",
   "execution_count": 42,
   "metadata": {},
   "outputs": [],
   "source": [
    "#test\n",
    "i = 1\n",
    "regsite1 = lreg.fit(msa[0:,:i*q], align_new[0:,i], sample_weight=trainingWeights_new)"
   ]
  },
  {
   "cell_type": "code",
   "execution_count": 43,
   "metadata": {},
   "outputs": [
    {
     "data": {
      "text/plain": [
       "((218, 21), (218,))"
      ]
     },
     "execution_count": 43,
     "metadata": {},
     "output_type": "execute_result"
    }
   ],
   "source": [
    "msa[0:,:i*q].shape, align_new[0:,i].shape"
   ]
  },
  {
   "cell_type": "code",
   "execution_count": 44,
   "metadata": {},
   "outputs": [
    {
     "name": "stdout",
     "output_type": "stream",
     "text": [
      "0.9036697247706422\n"
     ]
    }
   ],
   "source": [
    "print(regsite1.score(msa[0:,:i*q], align_new[0:,i]))"
   ]
  },
  {
   "cell_type": "markdown",
   "metadata": {},
   "source": [
    "#### Sampling and learning"
   ]
  },
  {
   "cell_type": "code",
   "execution_count": 45,
   "metadata": {},
   "outputs": [],
   "source": [
    "def one_hot_enc(sample,M):\n",
    "    #M = len(sample[:,1])\n",
    "    L = len(sample[1,:])\n",
    "    one_h=np.zeros((M,L*q))#.astype(int)  \n",
    "    for m in range(M):\n",
    "        for i in range(L):\n",
    "            one_h[m,i*q+int(sample[m,i])-1]=1 \n",
    "    return one_h"
   ]
  },
  {
   "cell_type": "code",
   "execution_count": 46,
   "metadata": {},
   "outputs": [
    {
     "data": {
      "text/plain": [
       "(197, 101, 21)"
      ]
     },
     "execution_count": 46,
     "metadata": {},
     "output_type": "execute_result"
    }
   ],
   "source": [
    "M, L, q"
   ]
  },
  {
   "cell_type": "code",
   "execution_count": 47,
   "metadata": {},
   "outputs": [],
   "source": [
    "# J = np.zeros((L,q**2*(L-1)+q))\n",
    "# nb_sample = 20\n",
    "# sample = np.zeros((nb_sample,L))\n",
    "# site = 0\n",
    "# J[0, q**2*(L-1):] = np.log(pa[:q])\n",
    "\n",
    "# for i in range(nb_sample):\n",
    "#     sample[i, site] =  np.random.choice(np.arange(1,22), 1, p=pa[:q])[0]"
   ]
  },
  {
   "cell_type": "code",
   "execution_count": 48,
   "metadata": {},
   "outputs": [
    {
     "data": {
      "text/plain": [
       "array([21., 21., 21., 21., 21., 21., 21., 21., 21., 21., 21., 21., 21.,\n",
       "       21., 21., 21., 21., 21., 21., 21.])"
      ]
     },
     "execution_count": 48,
     "metadata": {},
     "output_type": "execute_result"
    }
   ],
   "source": [
    "# sample[:,0]"
   ]
  },
  {
   "cell_type": "code",
   "execution_count": 54,
   "metadata": {},
   "outputs": [],
   "source": [
    "# for i in range(1,L):\n",
    "#     reg = lreg.fit(msa[0:,:i*q], align_new[0:,i], sample_weight=trainingWeights_new)\n",
    "#     Jtemp = reg.coef_\n",
    "    \n",
    "#     for j in range(i):\n",
    "#         for k in range(q):\n",
    "#             J[i,j*q**2+k*q:(k+1)*q+j*q**2] = Jtemp[k,j*q:(j+1)*q]\n",
    "    \n",
    "#     classes = reg.classes_\n",
    "#     prob = reg.predict_proba(one_hot_enc(sample[:,:i],nb_sample))\n",
    "#     J[i,q**2*(L-1):]  = reg.intercept_\n",
    "#     for j in range(nb_sample):\n",
    "#         sample[j,i] =  np.random.choice(classes+1, 1, p=prob[j,:])[0]\n",
    "\n",
    "#     break\n",
    "# sample-=1"
   ]
  },
  {
   "cell_type": "code",
   "execution_count": 66,
   "metadata": {},
   "outputs": [
    {
     "name": "stderr",
     "output_type": "stream",
     "text": [
      "100%|██████████| 100/100 [01:49<00:00,  1.10s/it]\n"
     ]
    }
   ],
   "source": [
    "J = np.zeros((L,q**2*(L-1)+q))\n",
    "nb_sample = 100\n",
    "sample = np.zeros((nb_sample,L))\n",
    "site = 0\n",
    "J[0, q**2*(L-1):] = np.log(pa[:q])\n",
    "\n",
    "for i in range(nb_sample):\n",
    "    sample[i, site] =  np.random.choice(np.arange(1,22), 1, p=pa[:q])[0]\n",
    "\n",
    "for i in tqdm(range(1,L)):\n",
    "    reg = lreg.fit(msa[0:,:i*q], align_new[0:,i], sample_weight=trainingWeights_new)\n",
    "    Jtemp = reg.coef_\n",
    "\n",
    "    for j in range(i):\n",
    "        for k in range(q):\n",
    "            J[i,j*q**2+k*q:(k+1)*q+j*q**2] = Jtemp[k,j*q:(j+1)*q]\n",
    "    classes = reg.classes_\n",
    "    \n",
    "    prob = reg.predict_proba(one_hot_enc(sample[:,:i],nb_sample))\n",
    "    \n",
    "    J[i,q**2*(L-1):]  = reg.intercept_\n",
    "    for j in range(nb_sample):\n",
    "        sample[j,i] =  np.random.choice(classes+1, 1, p=prob[j,:])[0]\n",
    "    \n",
    "sample-=1"
   ]
  },
  {
   "cell_type": "code",
   "execution_count": 67,
   "metadata": {},
   "outputs": [
    {
     "data": {
      "text/plain": [
       "((100, 101), (101, 44121), (2121,), (218, 2121), (218, 101))"
      ]
     },
     "execution_count": 67,
     "metadata": {},
     "output_type": "execute_result"
    }
   ],
   "source": [
    "sample.shape, J.shape, pa.shape, msa.shape, align_new.shape"
   ]
  },
  {
   "cell_type": "code",
   "execution_count": 68,
   "metadata": {},
   "outputs": [
    {
     "data": {
      "text/plain": [
       "array([[20., 20., 20., ..., 20., 20., 20.],\n",
       "       [20., 20., 20., ..., 20., 20., 20.],\n",
       "       [20.,  8., 20., ...,  7., 20., 20.],\n",
       "       ...,\n",
       "       [20., 20., 20., ..., 20., 20., 20.],\n",
       "       [20., 16., 20., ..., 20., 20., 20.],\n",
       "       [20., 20., 20., ..., 20., 20., 20.]])"
      ]
     },
     "execution_count": 68,
     "metadata": {},
     "output_type": "execute_result"
    }
   ],
   "source": [
    "sample"
   ]
  },
  {
   "cell_type": "code",
   "execution_count": 69,
   "metadata": {},
   "outputs": [],
   "source": [
    "sample_one_hot =np.zeros((nb_sample,L*q))#.astype(int)  \n",
    "for m in range(nb_sample):\n",
    "    for i in range(L):\n",
    "        sample_one_hot[m,i*q+int(sample[m,i])]=1 "
   ]
  },
  {
   "cell_type": "code",
   "execution_count": 70,
   "metadata": {},
   "outputs": [
    {
     "data": {
      "text/plain": [
       "array([[0., 0., 0., ..., 0., 0., 1.],\n",
       "       [0., 0., 0., ..., 0., 0., 1.],\n",
       "       [0., 0., 0., ..., 0., 0., 1.],\n",
       "       ...,\n",
       "       [0., 0., 0., ..., 0., 0., 1.],\n",
       "       [0., 0., 0., ..., 0., 0., 1.],\n",
       "       [0., 0., 0., ..., 0., 0., 1.]])"
      ]
     },
     "execution_count": 70,
     "metadata": {},
     "output_type": "execute_result"
    }
   ],
   "source": [
    "sample_one_hot"
   ]
  },
  {
   "cell_type": "code",
   "execution_count": null,
   "metadata": {},
   "outputs": [],
   "source": []
  },
  {
   "cell_type": "code",
   "execution_count": 71,
   "metadata": {},
   "outputs": [],
   "source": [
    "freq_data = np.zeros(q*L)\n",
    "freq_sample = np.zeros(q*L)\n",
    "for i in range(q*L):\n",
    "    freq_data[i] = np.sum(msa_reweighted[:,i])\n",
    "    freq_sample[i] = np.sum(sample_one_hot[:,i])/nb_sample"
   ]
  },
  {
   "cell_type": "code",
   "execution_count": 72,
   "metadata": {},
   "outputs": [
    {
     "data": {
      "text/plain": [
       "((2121,), (2121,))"
      ]
     },
     "execution_count": 72,
     "metadata": {},
     "output_type": "execute_result"
    }
   ],
   "source": [
    "p.shape, freq_sample.shape"
   ]
  },
  {
   "cell_type": "code",
   "execution_count": 73,
   "metadata": {},
   "outputs": [
    {
     "data": {
      "text/plain": [
       "Text(0, 0.5, 'Sample arDCA')"
      ]
     },
     "execution_count": 73,
     "metadata": {},
     "output_type": "execute_result"
    },
    {
     "data": {
      "image/png": "[encoded data removed]",
      "text/plain": [
       "<Figure size 640x480 with 1 Axes>"
      ]
     },
     "metadata": {},
     "output_type": "display_data"
    }
   ],
   "source": [
    "plt.scatter(p,freq_sample)\n",
    "plt.xticks(size = 20)\n",
    "plt.yticks(size = 20)\n",
    "plt.xlabel(\"Data\",size = 20)\n",
    "plt.ylabel(\"Sample arDCA\",size = 20)"
   ]
  },
  {
   "cell_type": "code",
   "execution_count": 74,
   "metadata": {},
   "outputs": [
    {
     "data": {
      "text/plain": [
       "array([[20., 20., 20., ..., 20., 20., 20.],\n",
       "       [20., 20., 20., ..., 20., 20., 20.],\n",
       "       [20.,  8., 20., ...,  7., 20., 20.],\n",
       "       ...,\n",
       "       [20., 20., 20., ..., 20., 20., 20.],\n",
       "       [20., 16., 20., ..., 20., 20., 20.],\n",
       "       [20., 20., 20., ..., 20., 20., 20.]])"
      ]
     },
     "execution_count": 74,
     "metadata": {},
     "output_type": "execute_result"
    }
   ],
   "source": [
    "sample"
   ]
  },
  {
   "cell_type": "code",
   "execution_count": null,
   "metadata": {},
   "outputs": [],
   "source": []
  },
  {
   "cell_type": "code",
   "execution_count": 82,
   "metadata": {},
   "outputs": [],
   "source": [
    "def number2letter(a): \n",
    "    #to convert the amino acids letters into integer numbers from 0 to 20\n",
    "    switcher = {\n",
    "        '-': 20,\n",
    "        'A': 0,\n",
    "        'C': 1,\n",
    "        'D':2,\n",
    "        'E':3,\n",
    "        'F':4,\n",
    "        'G':5,\n",
    "        'H':6,\n",
    "        'I':7,\n",
    "        'K':8,\n",
    "        'L':9,\n",
    "        'M':10,\n",
    "        'N':11,\n",
    "        'P':12,\n",
    "        'Q':13,\n",
    "        'R':14,\n",
    "        'S':15,\n",
    "        'T':16,\n",
    "        'V':17,\n",
    "        'W':18,\n",
    "        'Y':19,     \n",
    "    }\n",
    "    reverse = {v:k for k,v in switcher.items()}\n",
    "    \n",
    "    return reverse.get(a,0)"
   ]
  },
  {
   "cell_type": "code",
   "execution_count": 83,
   "metadata": {},
   "outputs": [
    {
     "data": {
      "text/plain": [
       "(100, 101)"
      ]
     },
     "execution_count": 83,
     "metadata": {},
     "output_type": "execute_result"
    }
   ],
   "source": [
    "sample.shape"
   ]
  },
  {
   "cell_type": "code",
   "execution_count": 88,
   "metadata": {},
   "outputs": [],
   "source": [
    "generated_sequences = []\n",
    "generated_sequences_aligned = []\n",
    "for m in range (sample.shape[0]):\n",
    "    temp = []\n",
    "    for i in range (sample.shape[1]):\n",
    "        temp.append(number2letter(sample[m][i]))\n",
    "    seq = ''.join(temp)\n",
    "    generated_sequences.append(seq.replace('-',''))\n",
    "    generated_sequences_aligned.append(seq)"
   ]
  },
  {
   "cell_type": "code",
   "execution_count": 90,
   "metadata": {},
   "outputs": [
    {
     "data": {
      "text/plain": [
       "['TMAAKLCPEDVLGPEEIGVNDDFFRLGGDSLLANAVSGLINTASNIHISERDIFQNSTLSQLAA',\n",
       " 'DAAAAARALAQLWSSDLGNQQEGASDKFFKLGGDSLSARLIALAHQAKHTLPVAQVMQYPTVADLAAAG',\n",
       " 'KFAAPLSTLWSQLDVSAQLGIHDNFFQVGGHSVFAIQGVNMLRRHSLSLTVGEIFENPTLFGLVAYI',\n",
       " 'FAAANDNIWSKILGINSVDRRDNFFSAGGHSLSAMKLIARAKIMGVALKVGEIFENGTLQKLARMLA',\n",
       " 'PCAAAAKLESLWAQLLQVGSLINIHDHRDAVGGDSLGADTVVAAVRKNGAGWSLKDIFENRTIKNLAAS',\n",
       " 'AAAAWLTAISEDLSAPTLVTNDSFFQLGGDSLKAIQLAARARRMGFQISVSDLFDKPTLASLHYAA',\n",
       " 'MAAAAWQGWSRVLNILPDVSTHDDFFDIGGHSLFILLVAVLRARQGIELSIKTVYQLPTINRAAAR',\n",
       " 'LAAAAIKLHDFCRVFKPVNVDSFFALGGHSLDLTQIVHRTRRIGLLLSTQGVLDTPVLSALAEI',\n",
       " 'AKYAAASVRIWRELGVRSTRIGIEDNFFALGGDPLLSMNRINRAHAYFNTTLPLKDHFETPTIQELAQ',\n",
       " 'EAAAAISLAEFWAELRLEKCMAGRDDHFFEICGDELLAIQVVSGLSKHGWALAFADTFKHPTIAQLAAIAM']"
      ]
     },
     "execution_count": 90,
     "metadata": {},
     "output_type": "execute_result"
    }
   ],
   "source": [
    "generated_sequences[:10]"
   ]
  },
  {
   "cell_type": "code",
   "execution_count": 91,
   "metadata": {},
   "outputs": [
    {
     "data": {
      "text/plain": [
       "['---T-------M----AA-KLC-P-EDVLGP-E-E--I-GVNDDFFRLGGDSLLANAVSGLINTAS-NIHISERDIFQNSTLSQLA---A-----------',\n",
       " '----D--AA------AAARALAQLWSSDLGN-QQ-E---GASDKFFKLGGDSLSA-RLIALAHQA--KHTLPVAQVMQYPTVADLA----AA-G-------',\n",
       " '-K-------------FAAP-LSTLWSQ-LDV-S-AQ-L-GIHDNFFQVGGHSVFAIQGVNMLRRH--SLSLTVGEIFENPTLFGL---V-AY------I--',\n",
       " '----F--------A-AAN---DNIWSKILGI-N--S-V-DRRDNFFSAGGHSLSAMKLIARA-KIM-GVALKVGEIFENGTLQKLAR--MLA---------',\n",
       " '-------P----C-AAAA-KLESLWAQLLQV-G-SL-I-NIHDHRDAVGGDSLGADTVVAAVRKN--GAGWSLKDIFENRTIKNLA---A--------S--',\n",
       " '-------------A-AAAW-LTAISED-LSA-PTL--V--TNDSFFQLGGDSLKAIQLAARARR-M-GFQISVSDLFDKPTLASLH-Y-A----A------',\n",
       " '----M---------AAAA--WQG-WSRVLNI-LPD--V-STHDDFFDIGGHSLF-ILLVAVLRARQ-GIELSIKTVYQLPTIN-RA---A---A--R----',\n",
       " '-----L--------AAAAIKLHD-FCRVFK---P---VN-V-DSFFALGGHSLDLTQIVHRTRRI--GLLLSTQGVLDTPVLSALAE------------I-',\n",
       " '-------A-K----YAAA-S-VRIWRE-LGV-RSTR-I-GIEDNFFALGGDPLLSMNRINRAHAYF-NTTLPLKDHFETPTIQELAQ--------------',\n",
       " '-------------EAAAAISLAEFWAE-LRL-EK--CMAGRDDHFFEICGDELLAIQVVSGLSKH--GWALAFADTFKHPTIAQLAAI-A-M---------']"
      ]
     },
     "execution_count": 91,
     "metadata": {},
     "output_type": "execute_result"
    }
   ],
   "source": [
    "generated_sequences_aligned[:10]"
   ]
  },
  {
   "cell_type": "code",
   "execution_count": 92,
   "metadata": {},
   "outputs": [
    {
     "data": {
      "text/plain": [
       "'GEIEIALATIWRELLNVEQVGRHDSFFALGGHSLLAVRMIERLRRIGLGLSVQTLFQHPTLSVLAQSLVP'"
      ]
     },
     "execution_count": 92,
     "metadata": {},
     "output_type": "execute_result"
    }
   ],
   "source": [
    "T = [i for i in range(538,608)] ## 539-608\n",
    "protein.get_residues(T)"
   ]
  },
  {
   "cell_type": "code",
   "execution_count": 96,
   "metadata": {},
   "outputs": [],
   "source": [
    "fasta_file = '/nethome/kgeorge/workspace/DomainPrediction/Data/DCA_experiments/gen_seq.fasta'\n",
    "with open(fasta_file, 'w') as fout:\n",
    "    fout.write('>GxpS_T\\n')\n",
    "    fout.write(protein.get_residues(T) + '\\n')\n",
    "    for i, seq in enumerate(generated_sequences):\n",
    "        fout.write(f'>GxpS_T-gen_{i}\\n')\n",
    "        fout.write(seq + '\\n')"
   ]
  },
  {
   "cell_type": "code",
   "execution_count": null,
   "metadata": {},
   "outputs": [],
   "source": []
  }
 ],
 "metadata": {
  "kernelspec": {
   "display_name": "workspace",
   "language": "python",
   "name": "python3"
  },
  "language_info": {
   "codemirror_mode": {
    "name": "ipython",
    "version": 3
   },
   "file_extension": ".py",
   "mimetype": "text/x-python",
   "name": "python",
   "nbconvert_exporter": "python",
   "pygments_lexer": "ipython3",
   "version": "3.10.13"
  }
 },
 "nbformat": 4,
 "nbformat_minor": 2
}
