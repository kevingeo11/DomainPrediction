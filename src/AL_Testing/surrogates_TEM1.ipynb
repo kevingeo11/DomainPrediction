{
 "cells": [
  {
   "cell_type": "code",
   "execution_count": null,
   "metadata": {},
   "outputs": [],
   "source": [
    "import sys\n",
    "sys.path.append('..')"
   ]
  },
  {
   "cell_type": "code",
   "execution_count": null,
   "metadata": {},
   "outputs": [],
   "source": [
    "import os\n",
    "from tqdm import tqdm\n",
    "import random\n",
    "import matplotlib.pyplot as plt\n",
    "import numpy as np\n",
    "import pandas as pd"
   ]
  },
  {
   "cell_type": "code",
   "execution_count": null,
   "metadata": {},
   "outputs": [],
   "source": [
    "from sklearn.metrics import mean_squared_error\n",
    "from scipy import stats"
   ]
  },
  {
   "cell_type": "code",
   "execution_count": null,
   "metadata": {},
   "outputs": [],
   "source": [
    "from DomainPrediction.utils import helper\n",
    "from DomainPrediction.eval import metrics\n",
    "from DomainPrediction.al import top_model as topmodel\n",
    "from DomainPrediction.al.embeddings import one_hot_encode"
   ]
  },
  {
   "cell_type": "code",
   "execution_count": null,
   "metadata": {},
   "outputs": [],
   "source": [
    "from DomainPrediction.esm.esm2 import ESM2"
   ]
  },
  {
   "cell_type": "code",
   "execution_count": null,
   "metadata": {},
   "outputs": [],
   "source": [
    "sys.path.append('../../esm')\n",
    "from DomainPrediction.esm.esm3 import ESM3LM\n",
    "from DomainPrediction.esm.esmc import ESMCLM"
   ]
  },
  {
   "cell_type": "code",
   "execution_count": null,
   "metadata": {},
   "outputs": [],
   "source": []
  },
  {
   "cell_type": "markdown",
   "metadata": {},
   "source": [
    "#### Load Data"
   ]
  },
  {
   "cell_type": "code",
   "execution_count": null,
   "metadata": {},
   "outputs": [],
   "source": [
    "data_path = '/nethome/kgeorge/workspace/DomainPrediction/Data/al_test_experiments/Envision'"
   ]
  },
  {
   "cell_type": "code",
   "execution_count": null,
   "metadata": {},
   "outputs": [],
   "source": [
    "file = os.path.join(data_path, 'dataset_tem1.csv')\n",
    "df = pd.read_csv(file)"
   ]
  },
  {
   "cell_type": "code",
   "execution_count": null,
   "metadata": {},
   "outputs": [],
   "source": [
    "df.head()"
   ]
  },
  {
   "cell_type": "code",
   "execution_count": null,
   "metadata": {},
   "outputs": [],
   "source": [
    "results_file = os.path.join(data_path, 'results_TEM1_embed.csv')"
   ]
  },
  {
   "cell_type": "code",
   "execution_count": null,
   "metadata": {},
   "outputs": [],
   "source": [
    "if os.path.isfile(results_file):\n",
    "    df_results = pd.read_csv(results_file)\n",
    "else:\n",
    "    df_results = df.copy()"
   ]
  },
  {
   "cell_type": "code",
   "execution_count": null,
   "metadata": {},
   "outputs": [],
   "source": [
    "df_results.head()"
   ]
  },
  {
   "cell_type": "code",
   "execution_count": null,
   "metadata": {},
   "outputs": [],
   "source": [
    "df_results.columns[df_results.columns.str.contains('pred')]"
   ]
  },
  {
   "cell_type": "code",
   "execution_count": null,
   "metadata": {},
   "outputs": [],
   "source": [
    "len(df_results.columns[df_results.columns.str.contains('pred')])"
   ]
  },
  {
   "cell_type": "code",
   "execution_count": null,
   "metadata": {},
   "outputs": [],
   "source": [
    "def get_split_mask(df, omit_zero=False):\n",
    "    if omit_zero:\n",
    "        train_mask = (df['split_id'] == 2)\n",
    "    else:\n",
    "        train_mask = (df['split_id'] == 2)\n",
    "\n",
    "    val_mask = df['split_id'] == 1\n",
    "    test_mask = df['split_id'] == 0\n",
    "\n",
    "    return train_mask, val_mask, test_mask"
   ]
  },
  {
   "cell_type": "code",
   "execution_count": null,
   "metadata": {},
   "outputs": [],
   "source": []
  },
  {
   "cell_type": "markdown",
   "metadata": {},
   "source": [
    "#### OHE"
   ]
  },
  {
   "cell_type": "code",
   "execution_count": null,
   "metadata": {},
   "outputs": [],
   "source": [
    "embeddings = one_hot_encode(df['seq'])"
   ]
  },
  {
   "cell_type": "code",
   "execution_count": null,
   "metadata": {},
   "outputs": [],
   "source": [
    "train_mask, val_mask, test_mask = get_split_mask(df, omit_zero=False)\n",
    "\n",
    "X_train = embeddings[train_mask]\n",
    "X_val = embeddings[val_mask]\n",
    "X_test = embeddings[test_mask]\n",
    "\n",
    "y_train = df.loc[train_mask, 'fitness_raw'].to_numpy().astype(np.float32)\n",
    "y_val = df.loc[val_mask, 'fitness_raw'].to_numpy().astype(np.float32)\n",
    "y_test = df.loc[test_mask, 'fitness_raw'].to_numpy().astype(np.float32)\n",
    "\n",
    "# y_train = df.loc[train_mask, 'fitness_norm'].to_numpy().astype(np.float32)\n",
    "# y_val = df.loc[val_mask, 'fitness_norm'].to_numpy().astype(np.float32)\n",
    "# y_test = df.loc[test_mask, 'fitness_norm'].to_numpy().astype(np.float32)"
   ]
  },
  {
   "cell_type": "code",
   "execution_count": null,
   "metadata": {},
   "outputs": [],
   "source": []
  },
  {
   "cell_type": "code",
   "execution_count": null,
   "metadata": {},
   "outputs": [],
   "source": [
    "surrogate = topmodel.RidgeSurrogate(alpha=1.0)\n",
    "surrogate.trainmodel(X=X_train, y=y_train, val=(X_val, y_val))"
   ]
  },
  {
   "cell_type": "code",
   "execution_count": null,
   "metadata": {},
   "outputs": [],
   "source": [
    "y_train_pred = surrogate.predict(X_train)\n",
    "y_val_pred = surrogate.predict(X_val)\n",
    "y_test_pred = surrogate.predict(X_test)\n",
    "fig, ax = plt.subplots(1,3, figsize=(10,3), layout='constrained')\n",
    "ax[0].plot(y_train, y_train_pred, '.', alpha=0.5)\n",
    "ax[1].plot(y_val, y_val_pred, '.', alpha=0.5)\n",
    "ax[2].plot(y_test, y_test_pred, '.', alpha=0.5)\n",
    "\n",
    "mse = mean_squared_error(y_train, y_train_pred)\n",
    "corr = stats.spearmanr(y_train, y_train_pred)\n",
    "s_corr = round(corr.statistic, 2)\n",
    "ax[0].set_title(f'Train \\nmse : {str(round(mse, 2))} \\nspearman correlation = {s_corr}')\n",
    "\n",
    "mse = mean_squared_error(y_val, y_val_pred)\n",
    "corr = stats.spearmanr(y_val, y_val_pred)\n",
    "s_corr = round(corr.statistic, 2)\n",
    "ax[1].set_title(f'Val \\nmse : {str(round(mse, 2))} \\nspearman correlation = {s_corr}')\n",
    "\n",
    "mse = mean_squared_error(y_test, y_test_pred)\n",
    "corr = stats.spearmanr(y_test, y_test_pred)\n",
    "s_corr = round(corr.statistic, 2)\n",
    "ax[2].set_title(f'Test \\nmse : {str(round(mse, 2))} \\nspearman correlation = {s_corr}')\n",
    "\n",
    "for i in range(3):\n",
    "    ax[i].set_xlabel('True')\n",
    "    ax[i].set_ylabel('Pred')\n",
    "\n",
    "plt.show()"
   ]
  },
  {
   "cell_type": "code",
   "execution_count": null,
   "metadata": {},
   "outputs": [],
   "source": [
    "y_pred = surrogate.predict(embeddings)\n",
    "assert y_pred.shape[0] == embeddings.shape[0] == df_results.shape[0]\n",
    "df_results['pred_OHE_ridge'] = y_pred\n",
    "\n",
    "mse = mean_squared_error(df_results['fitness_raw'], df_results['pred_OHE_ridge'])\n",
    "corr = stats.spearmanr(df_results['fitness_raw'], df_results['pred_OHE_ridge'])\n",
    "s_corr = round(corr.statistic, 2)\n",
    "print(f'mse : {str(round(mse, 2))} || spearman correlation = {s_corr}')\n",
    "\n",
    "df_results.to_csv(results_file, index=False)"
   ]
  },
  {
   "cell_type": "code",
   "execution_count": null,
   "metadata": {},
   "outputs": [],
   "source": [
    "df_results.columns[df_results.columns.str.contains('pred')]"
   ]
  },
  {
   "cell_type": "code",
   "execution_count": null,
   "metadata": {},
   "outputs": [],
   "source": []
  },
  {
   "cell_type": "code",
   "execution_count": null,
   "metadata": {},
   "outputs": [],
   "source": [
    "surrogate = topmodel.RFSurrogate()\n",
    "surrogate.trainmodel(X=X_train, y=y_train, val=(X_val, y_val))"
   ]
  },
  {
   "cell_type": "code",
   "execution_count": null,
   "metadata": {},
   "outputs": [],
   "source": [
    "y_train_pred = surrogate.predict(X_train)\n",
    "y_val_pred = surrogate.predict(X_val)\n",
    "y_test_pred = surrogate.predict(X_test)\n",
    "fig, ax = plt.subplots(1,3, figsize=(10,3), layout='constrained')\n",
    "ax[0].plot(y_train, y_train_pred, '.', alpha=0.5)\n",
    "ax[1].plot(y_val, y_val_pred, '.', alpha=0.5)\n",
    "ax[2].plot(y_test, y_test_pred, '.', alpha=0.5)\n",
    "\n",
    "mse = mean_squared_error(y_train, y_train_pred)\n",
    "corr = stats.spearmanr(y_train, y_train_pred)\n",
    "s_corr = round(corr.statistic, 2)\n",
    "ax[0].set_title(f'Train \\nmse : {str(round(mse, 2))} \\nspearman correlation = {s_corr}')\n",
    "\n",
    "mse = mean_squared_error(y_val, y_val_pred)\n",
    "corr = stats.spearmanr(y_val, y_val_pred)\n",
    "s_corr = round(corr.statistic, 2)\n",
    "ax[1].set_title(f'Val \\nmse : {str(round(mse, 2))} \\nspearman correlation = {s_corr}')\n",
    "\n",
    "mse = mean_squared_error(y_test, y_test_pred)\n",
    "corr = stats.spearmanr(y_test, y_test_pred)\n",
    "s_corr = round(corr.statistic, 2)\n",
    "ax[2].set_title(f'Test \\nmse : {str(round(mse, 2))} \\nspearman correlation = {s_corr}')\n",
    "\n",
    "for i in range(3):\n",
    "    ax[i].set_xlabel('True')\n",
    "    ax[i].set_ylabel('Pred')\n",
    "\n",
    "plt.show()"
   ]
  },
  {
   "cell_type": "code",
   "execution_count": null,
   "metadata": {},
   "outputs": [],
   "source": [
    "y_pred = surrogate.predict(embeddings)\n",
    "assert y_pred.shape[0] == embeddings.shape[0] == df_results.shape[0]\n",
    "df_results['pred_OHE_RF'] = y_pred\n",
    "\n",
    "mse = mean_squared_error(df_results['fitness_raw'], df_results['pred_OHE_RF'])\n",
    "corr = stats.spearmanr(df_results['fitness_raw'], df_results['pred_OHE_RF'])\n",
    "s_corr = round(corr.statistic, 2)\n",
    "print(f'mse : {str(round(mse, 2))} || spearman correlation = {s_corr}')\n",
    "\n",
    "df_results.to_csv(results_file, index=False)"
   ]
  },
  {
   "cell_type": "code",
   "execution_count": null,
   "metadata": {},
   "outputs": [],
   "source": [
    "df_results.columns[df_results.columns.str.contains('pred')]"
   ]
  },
  {
   "cell_type": "code",
   "execution_count": null,
   "metadata": {},
   "outputs": [],
   "source": []
  },
  {
   "cell_type": "code",
   "execution_count": null,
   "metadata": {},
   "outputs": [],
   "source": [
    "print(f'input layer shape: {X_train.shape[1]}')"
   ]
  },
  {
   "cell_type": "code",
   "execution_count": null,
   "metadata": {},
   "outputs": [],
   "source": [
    "config={'layers': [5720, 512, 1], \n",
    "        'epoch': 100, \n",
    "        'batch_size': 16,\n",
    "        'patience': 10,\n",
    "        'early_stopping': True,\n",
    "        'lr': 1e-3,\n",
    "        'print_every_n_epoch': 10,\n",
    "        'debug': True}\n",
    "surrogate = topmodel.MLPSurrogate(config=config)\n",
    "surrogate.trainmodel(X=X_train, y=y_train, val=(X_val, y_val))"
   ]
  },
  {
   "cell_type": "code",
   "execution_count": null,
   "metadata": {},
   "outputs": [],
   "source": [
    "y_train_pred = surrogate.predict(X_train)\n",
    "y_val_pred = surrogate.predict(X_val)\n",
    "y_test_pred = surrogate.predict(X_test)\n",
    "fig, ax = plt.subplots(1,3, figsize=(10,3), layout='constrained')\n",
    "ax[0].plot(y_train, y_train_pred, '.', alpha=0.5)\n",
    "ax[1].plot(y_val, y_val_pred, '.', alpha=0.5)\n",
    "ax[2].plot(y_test, y_test_pred, '.', alpha=0.5)\n",
    "\n",
    "mse = mean_squared_error(y_train, y_train_pred)\n",
    "corr = stats.spearmanr(y_train, y_train_pred)\n",
    "s_corr = round(corr.statistic, 2)\n",
    "ax[0].set_title(f'Train \\nmse : {str(round(mse, 2))} \\nspearman correlation = {s_corr}')\n",
    "\n",
    "mse = mean_squared_error(y_val, y_val_pred)\n",
    "corr = stats.spearmanr(y_val, y_val_pred)\n",
    "s_corr = round(corr.statistic, 2)\n",
    "ax[1].set_title(f'Val \\nmse : {str(round(mse, 2))} \\nspearman correlation = {s_corr}')\n",
    "\n",
    "mse = mean_squared_error(y_test, y_test_pred)\n",
    "corr = stats.spearmanr(y_test, y_test_pred)\n",
    "s_corr = round(corr.statistic, 2)\n",
    "ax[2].set_title(f'Test \\nmse : {str(round(mse, 2))} \\nspearman correlation = {s_corr}')\n",
    "\n",
    "for i in range(3):\n",
    "    ax[i].set_xlabel('True')\n",
    "    ax[i].set_ylabel('Pred')\n",
    "\n",
    "plt.show()"
   ]
  },
  {
   "cell_type": "code",
   "execution_count": null,
   "metadata": {},
   "outputs": [],
   "source": [
    "y_pred = surrogate.predict(embeddings)\n",
    "assert y_pred.shape[0] == embeddings.shape[0] == df_results.shape[0]\n",
    "df_results['pred_OHE_MLP'] = y_pred\n",
    "\n",
    "mse = mean_squared_error(df_results['fitness_raw'], df_results['pred_OHE_MLP'])\n",
    "corr = stats.spearmanr(df_results['fitness_raw'], df_results['pred_OHE_MLP'])\n",
    "s_corr = round(corr.statistic, 2)\n",
    "print(f'mse : {str(round(mse, 2))} || spearman correlation = {s_corr}')\n",
    "\n",
    "df_results.to_csv(results_file, index=False)"
   ]
  },
  {
   "cell_type": "code",
   "execution_count": null,
   "metadata": {},
   "outputs": [],
   "source": [
    "df_results.columns[df_results.columns.str.contains('pred')]"
   ]
  },
  {
   "cell_type": "code",
   "execution_count": null,
   "metadata": {},
   "outputs": [],
   "source": []
  },
  {
   "cell_type": "markdown",
   "metadata": {},
   "source": [
    "#### ESM2, ESM3 and ESMC Embeddings"
   ]
  },
  {
   "cell_type": "code",
   "execution_count": null,
   "metadata": {},
   "outputs": [],
   "source": [
    "# esm2 = ESM2(model_path='/data/users/kgeorge/workspace/esm2/checkpoints/esm2_t33_650M_UR50D.pt', device='gpu')\n",
    "# esm3 = ESM3LM(device='gpu')\n",
    "# esmc = ESMCLM(name='esmc_300m', device='gpu')\n",
    "esmc = ESMCLM(name='esmc_600m', device='gpu')"
   ]
  },
  {
   "cell_type": "code",
   "execution_count": null,
   "metadata": {},
   "outputs": [],
   "source": [
    "# embeddings = esm2.get_embeddings_flatten(df['seq'])\n",
    "# embeddings = esm3.get_embeddings_flatten(df['seq'])\n",
    "embeddings = esmc.get_embeddings_flatten(df['seq'])"
   ]
  },
  {
   "cell_type": "code",
   "execution_count": null,
   "metadata": {},
   "outputs": [],
   "source": [
    "embeddings.shape"
   ]
  },
  {
   "cell_type": "code",
   "execution_count": null,
   "metadata": {},
   "outputs": [],
   "source": [
    "train_mask, val_mask, test_mask = get_split_mask(df, omit_zero=False)\n",
    "\n",
    "X_train = embeddings[train_mask]\n",
    "X_val = embeddings[val_mask]\n",
    "X_test = embeddings[test_mask]\n",
    "\n",
    "y_train = df.loc[train_mask, 'fitness_raw'].to_numpy().astype(np.float32)\n",
    "y_val = df.loc[val_mask, 'fitness_raw'].to_numpy().astype(np.float32)\n",
    "y_test = df.loc[test_mask, 'fitness_raw'].to_numpy().astype(np.float32)\n",
    "\n",
    "# y_train = df.loc[train_mask, 'fitness_norm'].to_numpy().astype(np.float32)\n",
    "# y_val = df.loc[val_mask, 'fitness_norm'].to_numpy().astype(np.float32)\n",
    "# y_test = df.loc[test_mask, 'fitness_norm'].to_numpy().astype(np.float32)"
   ]
  },
  {
   "cell_type": "code",
   "execution_count": null,
   "metadata": {},
   "outputs": [],
   "source": []
  },
  {
   "cell_type": "code",
   "execution_count": null,
   "metadata": {},
   "outputs": [],
   "source": [
    "surrogate = topmodel.RidgeSurrogate(alpha=1.0)\n",
    "surrogate.trainmodel(X=X_train, y=y_train, val=(X_val, y_val))"
   ]
  },
  {
   "cell_type": "code",
   "execution_count": null,
   "metadata": {},
   "outputs": [],
   "source": [
    "y_train_pred = surrogate.predict(X_train)\n",
    "y_val_pred = surrogate.predict(X_val)\n",
    "y_test_pred = surrogate.predict(X_test)\n",
    "fig, ax = plt.subplots(1,3, figsize=(10,3), layout='constrained')\n",
    "ax[0].plot(y_train, y_train_pred, '.', alpha=0.5)\n",
    "ax[1].plot(y_val, y_val_pred, '.', alpha=0.5)\n",
    "ax[2].plot(y_test, y_test_pred, '.', alpha=0.5)\n",
    "\n",
    "mse = mean_squared_error(y_train, y_train_pred)\n",
    "corr = stats.spearmanr(y_train, y_train_pred)\n",
    "s_corr = round(corr.statistic, 2)\n",
    "ax[0].set_title(f'Train \\nmse : {str(round(mse, 2))} \\nspearman correlation = {s_corr}')\n",
    "\n",
    "mse = mean_squared_error(y_val, y_val_pred)\n",
    "corr = stats.spearmanr(y_val, y_val_pred)\n",
    "s_corr = round(corr.statistic, 2)\n",
    "ax[1].set_title(f'Val \\nmse : {str(round(mse, 2))} \\nspearman correlation = {s_corr}')\n",
    "\n",
    "mse = mean_squared_error(y_test, y_test_pred)\n",
    "corr = stats.spearmanr(y_test, y_test_pred)\n",
    "s_corr = round(corr.statistic, 2)\n",
    "ax[2].set_title(f'Test \\nmse : {str(round(mse, 2))} \\nspearman correlation = {s_corr}')\n",
    "\n",
    "for i in range(3):\n",
    "    ax[i].set_xlabel('True')\n",
    "    ax[i].set_ylabel('Pred')\n",
    "\n",
    "plt.show()"
   ]
  },
  {
   "cell_type": "code",
   "execution_count": null,
   "metadata": {},
   "outputs": [],
   "source": [
    "y_pred = surrogate.predict(embeddings)\n",
    "assert y_pred.shape[0] == embeddings.shape[0] == df_results.shape[0]\n",
    "df_results['pred_ESMC600M_concat_ridge'] = y_pred\n",
    "\n",
    "mse = mean_squared_error(df_results['fitness_raw'], df_results['pred_ESMC600M_concat_ridge'])\n",
    "corr = stats.spearmanr(df_results['fitness_raw'], df_results['pred_ESMC600M_concat_ridge'])\n",
    "s_corr = round(corr.statistic, 2)\n",
    "print(f'mse : {str(round(mse, 2))} || spearman correlation = {s_corr}')\n",
    "\n",
    "df_results.to_csv(results_file, index=False)"
   ]
  },
  {
   "cell_type": "code",
   "execution_count": null,
   "metadata": {},
   "outputs": [],
   "source": [
    "df_results.columns[df_results.columns.str.contains('pred')]"
   ]
  },
  {
   "cell_type": "code",
   "execution_count": null,
   "metadata": {},
   "outputs": [],
   "source": []
  },
  {
   "cell_type": "code",
   "execution_count": null,
   "metadata": {},
   "outputs": [],
   "source": [
    "surrogate = topmodel.RFSurrogate()\n",
    "surrogate.trainmodel(X=X_train, y=y_train, val=(X_val, y_val))"
   ]
  },
  {
   "cell_type": "code",
   "execution_count": null,
   "metadata": {},
   "outputs": [],
   "source": [
    "y_train_pred = surrogate.predict(X_train)\n",
    "y_val_pred = surrogate.predict(X_val)\n",
    "y_test_pred = surrogate.predict(X_test)\n",
    "fig, ax = plt.subplots(1,3, figsize=(10,3), layout='constrained')\n",
    "ax[0].plot(y_train, y_train_pred, '.', alpha=0.5)\n",
    "ax[1].plot(y_val, y_val_pred, '.', alpha=0.5)\n",
    "ax[2].plot(y_test, y_test_pred, '.', alpha=0.5)\n",
    "\n",
    "mse = mean_squared_error(y_train, y_train_pred)\n",
    "corr = stats.spearmanr(y_train, y_train_pred)\n",
    "s_corr = round(corr.statistic, 2)\n",
    "ax[0].set_title(f'Train \\nmse : {str(round(mse, 2))} \\nspearman correlation = {s_corr}')\n",
    "\n",
    "mse = mean_squared_error(y_val, y_val_pred)\n",
    "corr = stats.spearmanr(y_val, y_val_pred)\n",
    "s_corr = round(corr.statistic, 2)\n",
    "ax[1].set_title(f'Val \\nmse : {str(round(mse, 2))} \\nspearman correlation = {s_corr}')\n",
    "\n",
    "mse = mean_squared_error(y_test, y_test_pred)\n",
    "corr = stats.spearmanr(y_test, y_test_pred)\n",
    "s_corr = round(corr.statistic, 2)\n",
    "ax[2].set_title(f'Test \\nmse : {str(round(mse, 2))} \\nspearman correlation = {s_corr}')\n",
    "\n",
    "for i in range(3):\n",
    "    ax[i].set_xlabel('True')\n",
    "    ax[i].set_ylabel('Pred')\n",
    "\n",
    "plt.show()"
   ]
  },
  {
   "cell_type": "code",
   "execution_count": null,
   "metadata": {},
   "outputs": [],
   "source": [
    "# y_pred = surrogate.predict(embeddings)\n",
    "# assert y_pred.shape[0] == embeddings.shape[0] == df_results.shape[0]\n",
    "# df_results['pred_ESMC600M_feat_mean_RF'] = y_pred\n",
    "\n",
    "# mse = mean_squared_error(df_results['fitness_raw'], df_results['pred_ESMC600M_feat_mean_RF'])\n",
    "# corr = stats.spearmanr(df_results['fitness_raw'], df_results['pred_ESMC600M_feat_mean_RF'])\n",
    "# s_corr = round(corr.statistic, 2)\n",
    "# print(f'mse : {str(round(mse, 2))} || spearman correlation = {s_corr}')\n",
    "\n",
    "# df_results.to_csv(results_file, index=False)"
   ]
  },
  {
   "cell_type": "code",
   "execution_count": null,
   "metadata": {},
   "outputs": [],
   "source": [
    "df_results.columns[df_results.columns.str.contains('pred')]"
   ]
  },
  {
   "cell_type": "code",
   "execution_count": null,
   "metadata": {},
   "outputs": [],
   "source": []
  },
  {
   "cell_type": "code",
   "execution_count": null,
   "metadata": {},
   "outputs": [],
   "source": [
    "print(f'input layer shape: {X_train.shape[1]}')"
   ]
  },
  {
   "cell_type": "code",
   "execution_count": null,
   "metadata": {},
   "outputs": [],
   "source": [
    "config={'layers': [286, 64, 1], \n",
    "        'epoch': 100, \n",
    "        'batch_size': 16,\n",
    "        'patience': 20,\n",
    "        'early_stopping': True,\n",
    "        'lr': 1e-3,\n",
    "        'print_every_n_epoch': 10,\n",
    "        'debug': True}\n",
    "surrogate = topmodel.MLPSurrogate(config=config)\n",
    "surrogate.trainmodel(X=X_train, y=y_train, val=(X_val, y_val))"
   ]
  },
  {
   "cell_type": "code",
   "execution_count": null,
   "metadata": {},
   "outputs": [],
   "source": [
    "y_train_pred = surrogate.predict(X_train)\n",
    "y_val_pred = surrogate.predict(X_val)\n",
    "y_test_pred = surrogate.predict(X_test)\n",
    "fig, ax = plt.subplots(1,3, figsize=(10,3), layout='constrained')\n",
    "ax[0].plot(y_train, y_train_pred, '.', alpha=0.5)\n",
    "ax[1].plot(y_val, y_val_pred, '.', alpha=0.5)\n",
    "ax[2].plot(y_test, y_test_pred, '.', alpha=0.5)\n",
    "\n",
    "mse = mean_squared_error(y_train, y_train_pred)\n",
    "corr = stats.spearmanr(y_train, y_train_pred)\n",
    "s_corr = round(corr.statistic, 2)\n",
    "ax[0].set_title(f'Train \\nmse : {str(round(mse, 2))} \\nspearman correlation = {s_corr}')\n",
    "\n",
    "mse = mean_squared_error(y_val, y_val_pred)\n",
    "corr = stats.spearmanr(y_val, y_val_pred)\n",
    "s_corr = round(corr.statistic, 2)\n",
    "ax[1].set_title(f'Val \\nmse : {str(round(mse, 2))} \\nspearman correlation = {s_corr}')\n",
    "\n",
    "mse = mean_squared_error(y_test, y_test_pred)\n",
    "corr = stats.spearmanr(y_test, y_test_pred)\n",
    "s_corr = round(corr.statistic, 2)\n",
    "ax[2].set_title(f'Test \\nmse : {str(round(mse, 2))} \\nspearman correlation = {s_corr}')\n",
    "\n",
    "for i in range(3):\n",
    "    ax[i].set_xlabel('True')\n",
    "    ax[i].set_ylabel('Pred')\n",
    "\n",
    "plt.show()"
   ]
  },
  {
   "cell_type": "code",
   "execution_count": null,
   "metadata": {},
   "outputs": [],
   "source": [
    "# y_pred = surrogate.predict(embeddings)\n",
    "# assert y_pred.shape[0] == embeddings.shape[0] == df_results.shape[0]\n",
    "# df_results['pred_ESMC600M_feat_mean_MLP'] = y_pred\n",
    "\n",
    "# mse = mean_squared_error(df_results['fitness_raw'], df_results['pred_ESMC600M_feat_mean_MLP'])\n",
    "# corr = stats.spearmanr(df_results['fitness_raw'], df_results['pred_ESMC600M_feat_mean_MLP'])\n",
    "# s_corr = round(corr.statistic, 2)\n",
    "# print(f'mse : {str(round(mse, 2))} || spearman correlation = {s_corr}')\n",
    "\n",
    "# df_results.to_csv(results_file, index=False)"
   ]
  },
  {
   "cell_type": "code",
   "execution_count": null,
   "metadata": {},
   "outputs": [],
   "source": [
    "df_results.columns[df_results.columns.str.contains('pred')]"
   ]
  },
  {
   "cell_type": "code",
   "execution_count": null,
   "metadata": {},
   "outputs": [],
   "source": []
  },
  {
   "cell_type": "code",
   "execution_count": null,
   "metadata": {},
   "outputs": [],
   "source": []
  }
 ],
 "metadata": {
  "kernelspec": {
   "display_name": "workspace-esm",
   "language": "python",
   "name": "python3"
  },
  "language_info": {
   "codemirror_mode": {
    "name": "ipython",
    "version": 3
   },
   "file_extension": ".py",
   "mimetype": "text/x-python",
   "name": "python",
   "nbconvert_exporter": "python",
   "pygments_lexer": "ipython3",
   "version": "3.10.14"
  }
 },
 "nbformat": 4,
 "nbformat_minor": 2
}
