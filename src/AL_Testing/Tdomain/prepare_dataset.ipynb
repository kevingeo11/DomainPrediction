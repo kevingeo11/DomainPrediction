{
 "cells": [
  {
   "cell_type": "code",
   "execution_count": null,
   "metadata": {},
   "outputs": [],
   "source": [
    "import sys\n",
    "sys.path.append('../..')"
   ]
  },
  {
   "cell_type": "code",
   "execution_count": null,
   "metadata": {},
   "outputs": [],
   "source": [
    "import os\n",
    "from tqdm import tqdm\n",
    "import pandas as pd\n",
    "import numpy as np\n",
    "import matplotlib.pyplot as plt"
   ]
  },
  {
   "cell_type": "code",
   "execution_count": null,
   "metadata": {},
   "outputs": [],
   "source": [
    "from DomainPrediction.utils import helper"
   ]
  },
  {
   "cell_type": "code",
   "execution_count": null,
   "metadata": {},
   "outputs": [],
   "source": [
    "data_path = '../../../Data/al_test_experiments/Tdomain'"
   ]
  },
  {
   "cell_type": "code",
   "execution_count": null,
   "metadata": {},
   "outputs": [],
   "source": []
  },
  {
   "cell_type": "markdown",
   "metadata": {},
   "source": [
    "### Load Data for processing"
   ]
  },
  {
   "cell_type": "code",
   "execution_count": null,
   "metadata": {},
   "outputs": [],
   "source": [
    "df = pd.read_csv(os.path.join(data_path, 'Tdomainr2.csv'))"
   ]
  },
  {
   "cell_type": "code",
   "execution_count": null,
   "metadata": {},
   "outputs": [],
   "source": [
    "df.head()"
   ]
  },
  {
   "cell_type": "code",
   "execution_count": null,
   "metadata": {},
   "outputs": [],
   "source": [
    "df.shape"
   ]
  },
  {
   "cell_type": "code",
   "execution_count": null,
   "metadata": {},
   "outputs": [],
   "source": [
    "wt = helper.read_fasta(os.path.join(data_path, 'Tdomain_WT.fasta'), mode='str')[0]"
   ]
  },
  {
   "cell_type": "code",
   "execution_count": null,
   "metadata": {},
   "outputs": [],
   "source": [
    "len(wt)"
   ]
  },
  {
   "cell_type": "code",
   "execution_count": null,
   "metadata": {},
   "outputs": [],
   "source": [
    "## sanilty check sequences\n",
    "check_seqs = helper.read_fasta(os.path.join(data_path, 'round_1_extraction.fasta'), mode='str')\n",
    "for i, seq in enumerate(check_seqs):\n",
    "    assert df['Sequence'][i] == seq"
   ]
  },
  {
   "cell_type": "code",
   "execution_count": null,
   "metadata": {},
   "outputs": [],
   "source": [
    "def hamming_distance(seq1, seq2):\n",
    "    # Ensure the sequences are of the same length\n",
    "    if len(seq1) != len(seq2):\n",
    "        raise ValueError(\"Sequences must be of equal length to compute Hamming distance.\")\n",
    "    \n",
    "    # Count differences\n",
    "    return sum(c1 != c2 for c1, c2 in zip(seq1, seq2))"
   ]
  },
  {
   "cell_type": "code",
   "execution_count": null,
   "metadata": {},
   "outputs": [],
   "source": [
    "dist_matrix = np.eye(df['Sequence'].shape[0])\n",
    "sequences = df['Sequence'].to_numpy()\n",
    "for i in range(sequences.shape[0]):\n",
    "    for j in range(sequences.shape[0]):\n",
    "        dist_matrix[i, j] = hamming_distance(sequences[i], sequences[j])"
   ]
  },
  {
   "cell_type": "code",
   "execution_count": null,
   "metadata": {},
   "outputs": [],
   "source": [
    "dist_matrix[0,:]"
   ]
  },
  {
   "cell_type": "code",
   "execution_count": null,
   "metadata": {},
   "outputs": [],
   "source": [
    "plt.figure(figsize=(10,10))\n",
    "plt.imshow(dist_matrix, cmap='hot')\n",
    "plt.colorbar(shrink=0.75)\n",
    "plt.show()"
   ]
  },
  {
   "cell_type": "code",
   "execution_count": null,
   "metadata": {},
   "outputs": [],
   "source": [
    "dist_from_wt = []\n",
    "for seq in df['Sequence']:\n",
    "    dist_from_wt.append(hamming_distance(wt, seq))\n",
    "\n",
    "fig, ax = plt.subplots(1,1, figsize=(4,4))\n",
    "ax.hist(dist_from_wt, bins=np.linspace(0, 100, 21))\n",
    "plt.show()\n",
    "# print(np.array(dist_from_wt))\n",
    "# print(df['Name'].to_numpy())"
   ]
  },
  {
   "cell_type": "markdown",
   "metadata": {},
   "source": [
    "#### Duplicates"
   ]
  },
  {
   "cell_type": "code",
   "execution_count": null,
   "metadata": {},
   "outputs": [],
   "source": [
    "for name in df['Name']:\n",
    "    _df = df[df['Sequence'] == df.loc[df['Name'] == name, 'Sequence'].iloc[0]]\n",
    "    if _df.shape[0] > 1:\n",
    "        print(name)"
   ]
  },
  {
   "cell_type": "code",
   "execution_count": null,
   "metadata": {},
   "outputs": [],
   "source": [
    "df[df['Sequence'] == df.loc[df['Name'] == 'WT', 'Sequence'].iloc[0]]"
   ]
  },
  {
   "cell_type": "code",
   "execution_count": null,
   "metadata": {},
   "outputs": [],
   "source": [
    "df[df['Sequence'] == df.loc[df['Name'] == 'ESM2', 'Sequence'].iloc[0]]"
   ]
  },
  {
   "cell_type": "code",
   "execution_count": null,
   "metadata": {},
   "outputs": [],
   "source": [
    "df[df['Sequence'] == df.loc[df['Name'] == 'ESM2_EP_10_1_4', 'Sequence'].iloc[0]]"
   ]
  },
  {
   "cell_type": "code",
   "execution_count": null,
   "metadata": {},
   "outputs": [],
   "source": [
    "df = df.drop_duplicates(subset='Sequence')"
   ]
  },
  {
   "cell_type": "code",
   "execution_count": null,
   "metadata": {},
   "outputs": [],
   "source": [
    "df.shape"
   ]
  },
  {
   "cell_type": "code",
   "execution_count": null,
   "metadata": {},
   "outputs": [],
   "source": [
    "for name in df['Name']:\n",
    "    _df = df[df['Sequence'] == df.loc[df['Name'] == name, 'Sequence'].iloc[0]]\n",
    "    if _df.shape[0] > 1:\n",
    "        print(name)"
   ]
  },
  {
   "cell_type": "markdown",
   "metadata": {},
   "source": [
    "#### Splitting"
   ]
  },
  {
   "cell_type": "code",
   "execution_count": null,
   "metadata": {},
   "outputs": [],
   "source": [
    "dist_matrix = np.eye(df['Sequence'].shape[0])\n",
    "sequences = df['Sequence'].to_numpy()\n",
    "for i in range(sequences.shape[0]):\n",
    "    for j in range(sequences.shape[0]):\n",
    "        dist_matrix[i, j] = hamming_distance(sequences[i], sequences[j])"
   ]
  },
  {
   "cell_type": "code",
   "execution_count": null,
   "metadata": {},
   "outputs": [],
   "source": [
    "plt.figure(figsize=(10,10))\n",
    "plt.imshow(dist_matrix, cmap='hot')\n",
    "plt.colorbar(shrink=0.75)\n",
    "plt.show()"
   ]
  },
  {
   "cell_type": "code",
   "execution_count": null,
   "metadata": {},
   "outputs": [],
   "source": [
    "df.shape[0], df['Name'].str.contains(\"ESM2\").sum(), df['Name'].str.contains(\"esm3\").sum(), df['Name'].str.contains(\"evodiff\").sum() #need 13 more to set up a dataset"
   ]
  },
  {
   "cell_type": "code",
   "execution_count": null,
   "metadata": {},
   "outputs": [],
   "source": [
    "ai_gen = ['WT', 'ESM1', 'ESM2', 'ESM3', 'ESM4', 'IN1', 'IN2', 'IN3', 'IN4',\n",
    "            'IN5', 'IN6', 'IN7', 'esm3_gen_17', 'esm3_str_gen_53',\n",
    "            'esm3_str_gen_170', 'esm3_gen_192', 'esm3_gen_333',\n",
    "            'esm3_str_gen_365', 'esm3_gen_385', 'evodiff_gen_77',\n",
    "            'II_guidance-ESM3', 'Test-IN1-improved', 'Test-IN4-improved',\n",
    "            'Test-IN7-improved', 'evodiff_gen_21', 'evodiff_gen_88',\n",
    "            'evodiff_gen_155', 'evodiff_gen_357', 'esm3_gen_93',\n",
    "            'esm3_str_gen_314', 'esm3_str_gen_323', 'II guidance-WT',\n",
    "            'II guidance-ESM2', 'II guidance-IN2', 'prob_guidancd-ESM2',\n",
    "            'Test-IN2-improved', 'Test-IN5-improved']\n",
    "\n",
    "mask = df['Name'].isin(ai_gen)\n",
    "\n",
    "dist_matrix = np.eye(df[mask]['Sequence'].shape[0])\n",
    "sequences = df[mask]['Sequence'].to_numpy()\n",
    "for i in range(sequences.shape[0]):\n",
    "    for j in range(sequences.shape[0]):\n",
    "        dist_matrix[i, j] = hamming_distance(sequences[i], sequences[j])\n",
    "\n",
    "plt.figure(figsize=(10,10))\n",
    "plt.imshow(dist_matrix, cmap='hot')\n",
    "plt.colorbar(shrink=0.75)\n",
    "plt.xticks(np.arange(len(ai_gen)), ai_gen, size=7, rotation=90)\n",
    "plt.yticks(np.arange(len(ai_gen)), ai_gen, size=7)\n",
    "plt.show()"
   ]
  },
  {
   "cell_type": "code",
   "execution_count": null,
   "metadata": {},
   "outputs": [],
   "source": [
    "df.shape[0], df['Name'].str.contains(\"ESM2\").sum(), df['Name'].str.contains(\"esm3\").sum(), df['Name'].str.contains(\"evodiff\").sum() #need 13 more to set up a dataset"
   ]
  },
  {
   "cell_type": "code",
   "execution_count": null,
   "metadata": {},
   "outputs": [],
   "source": [
    "df.assign(split_id=2)\n",
    "df.loc[df['Name'].str.contains(\"ESM2\"), 'split_id'] = 0\n",
    "df.loc[df['Name'].str.contains(\"esm3_str\"), 'split_id'] = 0\n",
    "df.loc[df['Name'].str.contains(\"evodiff\"), 'split_id'] = 0\n",
    "df.loc[df['Name'].str.contains(\"esm3_gen\"), 'split_id'] = 1\n",
    "\n",
    "train_size = df[df['split_id']==2].shape[0]\n",
    "val_size = df[df['split_id']==1].shape[0]\n",
    "test_size = df[df['split_id']==0].shape[0]\n",
    "print(f\"train: {train_size}, val: {val_size}, test: {test_size}\")"
   ]
  },
  {
   "cell_type": "code",
   "execution_count": null,
   "metadata": {},
   "outputs": [],
   "source": [
    "dist_matrix = np.eye(df['Sequence'].shape[0])\n",
    "sequences = np.concatenate((df.loc[df['split_id']==2, 'Sequence'].to_numpy(), df.loc[df['split_id'].isin([0, 1]), 'Sequence'].to_numpy()))\n",
    "for i in range(sequences.shape[0]):\n",
    "    for j in range(sequences.shape[0]):\n",
    "        dist_matrix[i, j] = hamming_distance(sequences[i], sequences[j])\n",
    "\n",
    "plt.figure(figsize=(10,10))\n",
    "plt.imshow(dist_matrix, cmap='hot')\n",
    "plt.colorbar(shrink=0.75)\n",
    "plt.xticks(np.arange(len(df)), [2]*(df['split_id']==2).sum() + [0]*df['split_id'].isin([0,1]).sum(), size=7, rotation=0)\n",
    "plt.show()"
   ]
  },
  {
   "cell_type": "markdown",
   "metadata": {},
   "source": [
    "#### creating new df"
   ]
  },
  {
   "cell_type": "code",
   "execution_count": null,
   "metadata": {},
   "outputs": [],
   "source": [
    "df_new = df[['Name', 'Sequence', 'norm_WT', 'split_id']].copy()\n",
    "df_new.columns = ['name', 'seq', 'fitness_raw', 'split_id']"
   ]
  },
  {
   "cell_type": "code",
   "execution_count": null,
   "metadata": {},
   "outputs": [],
   "source": [
    "df_new.head()"
   ]
  },
  {
   "cell_type": "code",
   "execution_count": null,
   "metadata": {},
   "outputs": [],
   "source": [
    "n_muts = []\n",
    "for i, row in df_new.iterrows():\n",
    "    variant_seq = row[\"seq\"]\n",
    "    assert len(variant_seq) == len(wt)\n",
    "    n = 0\n",
    "    for a, b in zip(variant_seq, wt):\n",
    "        if a != b:\n",
    "            n += 1\n",
    "    \n",
    "    n_muts.append(n)\n",
    "\n",
    "df_new['n_mut'] = n_muts"
   ]
  },
  {
   "cell_type": "code",
   "execution_count": null,
   "metadata": {},
   "outputs": [],
   "source": [
    "df_new.head()"
   ]
  },
  {
   "cell_type": "code",
   "execution_count": null,
   "metadata": {},
   "outputs": [],
   "source": [
    "df_new['n_mut'].unique()"
   ]
  },
  {
   "cell_type": "code",
   "execution_count": null,
   "metadata": {},
   "outputs": [],
   "source": [
    "df_new['n_mut'].to_numpy()"
   ]
  },
  {
   "cell_type": "code",
   "execution_count": null,
   "metadata": {},
   "outputs": [],
   "source": [
    "dist_matrix = np.eye(df_new['seq'].shape[0])\n",
    "sequences = df_new['seq'].to_numpy()\n",
    "for i in range(sequences.shape[0]):\n",
    "    for j in range(sequences.shape[0]):\n",
    "        dist_matrix[i, j] = hamming_distance(sequences[i], sequences[j])\n",
    "\n",
    "assert (df_new['n_mut'].to_numpy() == dist_matrix[0]).all()"
   ]
  },
  {
   "cell_type": "code",
   "execution_count": null,
   "metadata": {},
   "outputs": [],
   "source": [
    "from collections import Counter"
   ]
  },
  {
   "cell_type": "code",
   "execution_count": null,
   "metadata": {},
   "outputs": [],
   "source": [
    "for split in df_new['split_id'].unique():\n",
    "    temp = df_new.loc[df_new['split_id']==split, 'n_mut'].unique()\n",
    "    print(f'n mutation for split {split}: {temp}')\n",
    "    print(Counter(df_new.loc[df_new['split_id']==split, 'n_mut']))"
   ]
  },
  {
   "cell_type": "code",
   "execution_count": null,
   "metadata": {},
   "outputs": [],
   "source": [
    "temp = []\n",
    "for x in df_new['fitness_raw']:\n",
    "    if x == 0:\n",
    "        temp.append(1e-6)\n",
    "    else:\n",
    "        temp.append(x)"
   ]
  },
  {
   "cell_type": "code",
   "execution_count": null,
   "metadata": {},
   "outputs": [],
   "source": [
    "df_new['fitness_log'] = np.log(temp)"
   ]
  },
  {
   "cell_type": "code",
   "execution_count": null,
   "metadata": {},
   "outputs": [],
   "source": []
  },
  {
   "cell_type": "code",
   "execution_count": null,
   "metadata": {},
   "outputs": [],
   "source": [
    "# file = os.path.join(data_path, 'dataset_2_tdomain.csv')\n",
    "# df_new.to_csv(file, index=False)"
   ]
  },
  {
   "cell_type": "code",
   "execution_count": null,
   "metadata": {},
   "outputs": [],
   "source": []
  },
  {
   "cell_type": "markdown",
   "metadata": {},
   "source": [
    "### Load data for analysis"
   ]
  },
  {
   "cell_type": "code",
   "execution_count": null,
   "metadata": {},
   "outputs": [],
   "source": [
    "file = os.path.join(data_path, 'dataset_2_tdomain.csv')\n",
    "df_new = pd.read_csv(file)"
   ]
  },
  {
   "cell_type": "code",
   "execution_count": null,
   "metadata": {},
   "outputs": [],
   "source": [
    "fig, ax = plt.subplots(1, 2, figsize=(7,3), layout='constrained')\n",
    "ax[0].hist(df_new.loc[df_new['split_id']==2, 'fitness_raw'])\n",
    "ax[1].hist(df_new.loc[df_new['split_id'].isin([0, 1]), 'fitness_raw'])\n",
    "ax[0].set_title('Train')\n",
    "ax[1].set_title('Test')"
   ]
  },
  {
   "cell_type": "code",
   "execution_count": null,
   "metadata": {},
   "outputs": [],
   "source": [
    "fig, ax = plt.subplots(1, 2, figsize=(7,3), layout='constrained')\n",
    "ax[0].hist(df_new.loc[df_new['split_id']==2, 'fitness_log'])\n",
    "ax[1].hist(df_new.loc[df_new['split_id'].isin([0, 1]), 'fitness_log'])\n",
    "ax[0].set_title('Train')\n",
    "ax[1].set_title('Test')"
   ]
  },
  {
   "cell_type": "code",
   "execution_count": null,
   "metadata": {},
   "outputs": [],
   "source": [
    "df_new['fitness_log'].min()"
   ]
  },
  {
   "cell_type": "code",
   "execution_count": null,
   "metadata": {},
   "outputs": [],
   "source": [
    "df_new.loc[df_new['fitness_raw'] == 0]"
   ]
  },
  {
   "cell_type": "code",
   "execution_count": null,
   "metadata": {},
   "outputs": [],
   "source": [
    "np.sort(df_new['n_mut'].unique())"
   ]
  },
  {
   "cell_type": "code",
   "execution_count": null,
   "metadata": {},
   "outputs": [],
   "source": [
    "df_new[df_new['n_mut']==0]"
   ]
  },
  {
   "cell_type": "code",
   "execution_count": null,
   "metadata": {},
   "outputs": [],
   "source": [
    "df_new.shape"
   ]
  },
  {
   "cell_type": "code",
   "execution_count": null,
   "metadata": {},
   "outputs": [],
   "source": [
    "for name in df_new['name']:\n",
    "    _df = df_new[df_new['seq'] == df_new.loc[df_new['name'] == name, 'seq'].iloc[0]]\n",
    "    if _df.shape[0] > 1:\n",
    "        print(name)"
   ]
  },
  {
   "cell_type": "code",
   "execution_count": null,
   "metadata": {},
   "outputs": [],
   "source": [
    "print(f\"train: {(df_new['split_id']==2).sum()}, val: {(df_new['split_id']==1).sum()}, test: {(df_new['split_id']==0).sum()}\")"
   ]
  },
  {
   "cell_type": "code",
   "execution_count": null,
   "metadata": {},
   "outputs": [],
   "source": [
    "def hamming_distance(seq1, seq2):\n",
    "    # Ensure the sequences are of the same length\n",
    "    if len(seq1) != len(seq2):\n",
    "        raise ValueError(\"Sequences must be of equal length to compute Hamming distance.\")\n",
    "    \n",
    "    # Count differences\n",
    "    return sum(c1 != c2 for c1, c2 in zip(seq1, seq2))"
   ]
  },
  {
   "cell_type": "code",
   "execution_count": null,
   "metadata": {},
   "outputs": [],
   "source": [
    "dist_matrix = np.eye(df_new['seq'].shape[0])\n",
    "sequences = df_new['seq'].to_numpy()\n",
    "for i in range(sequences.shape[0]):\n",
    "    for j in range(sequences.shape[0]):\n",
    "        dist_matrix[i, j] = hamming_distance(sequences[i], sequences[j])\n",
    "\n",
    "plt.figure(figsize=(10,10))\n",
    "plt.imshow(dist_matrix, cmap='hot')\n",
    "plt.colorbar(shrink=0.75)\n",
    "plt.show()"
   ]
  },
  {
   "cell_type": "code",
   "execution_count": null,
   "metadata": {},
   "outputs": [],
   "source": [
    "esm2_dist = dist_matrix[df_new['name'].str.contains('ESM2')]\n",
    "esm2_dist = esm2_dist[:, ~df_new['name'].str.contains('ESM2')]\n",
    "print(esm2_dist.shape)\n",
    "plt.figure(figsize=(3,3))\n",
    "plt.hist(esm2_dist.flatten())\n",
    "plt.xlabel('n mutations')\n",
    "plt.show()"
   ]
  },
  {
   "cell_type": "code",
   "execution_count": null,
   "metadata": {},
   "outputs": [],
   "source": [
    "gen_dist = dist_matrix[df_new['name'].str.contains('esm3') | df_new['name'].str.contains('evodiff')]\n",
    "gen_dist = gen_dist[:, ~(df_new['name'].str.contains('esm3') | df_new['name'].str.contains('evodiff'))]\n",
    "print(gen_dist.shape)\n",
    "plt.figure(figsize=(3,3))\n",
    "plt.hist(gen_dist.flatten())\n",
    "plt.xlabel('n mutations')\n",
    "plt.show()"
   ]
  },
  {
   "cell_type": "code",
   "execution_count": null,
   "metadata": {},
   "outputs": [],
   "source": [
    "test_train_dist = dist_matrix[df_new['split_id'].isin([0, 1])]\n",
    "test_train_dist = test_train_dist[:, ~df_new['split_id'].isin([0, 1])]\n",
    "print(test_train_dist.shape)\n",
    "plt.figure(figsize=(3,3))\n",
    "plt.hist(test_train_dist.min(axis=1).flatten())\n",
    "plt.xlabel('n mutations to closest seq \\nin train set', size=10)\n",
    "plt.xlim(left=20)\n",
    "plt.show()"
   ]
  },
  {
   "cell_type": "code",
   "execution_count": null,
   "metadata": {},
   "outputs": [],
   "source": []
  },
  {
   "cell_type": "code",
   "execution_count": null,
   "metadata": {},
   "outputs": [],
   "source": [
    "dist_matrix = np.eye(df_new['seq'].shape[0])\n",
    "sequences = np.concatenate((df_new.loc[df_new['split_id']==2, 'seq'].to_numpy(), df_new.loc[df_new['split_id'].isin([0, 1]), 'seq'].to_numpy()))\n",
    "for i in range(sequences.shape[0]):\n",
    "    for j in range(sequences.shape[0]):\n",
    "        dist_matrix[i, j] = hamming_distance(sequences[i], sequences[j])\n",
    "\n",
    "plt.figure(figsize=(10,10))\n",
    "plt.imshow(dist_matrix, cmap='hot')\n",
    "plt.colorbar(shrink=0.75)\n",
    "plt.xticks(np.arange(len(df_new)), [2]*(df_new['split_id']==2).sum() + [0]*df_new['split_id'].isin([0,1]).sum(), size=7, rotation=0)\n",
    "plt.show()"
   ]
  },
  {
   "cell_type": "code",
   "execution_count": null,
   "metadata": {},
   "outputs": [],
   "source": [
    "ai_gen = ['WT', 'ESM1', 'ESM2', 'ESM3', 'ESM4', 'IN1', 'IN2', 'IN3', 'IN4', 'IN5', 'IN6', 'IN7', \n",
    "          'esm3_gen_17', 'esm3_gen_93', 'esm3_gen_192', 'esm3_gen_333', 'esm3_gen_385', \n",
    "          'esm3_str_gen_53', 'esm3_str_gen_170', 'esm3_str_gen_314', 'esm3_str_gen_323', 'esm3_str_gen_365', \n",
    "          'evodiff_gen_21', 'evodiff_gen_77', 'evodiff_gen_88', 'evodiff_gen_155', 'evodiff_gen_357', \n",
    "          'Test-IN1-improved', 'Test-IN2-improved', 'Test-IN4-improved', 'Test-IN5-improved', 'Test-IN7-improved', \n",
    "          'II_guidance-ESM3', 'II guidance-WT', 'II guidance-ESM2', 'II guidance-IN2', 'prob_guidancd-ESM2']\n",
    "\n",
    "mask = df_new['name'].isin(ai_gen)\n",
    "_df = df_new[mask]\n",
    "_df['name'] = pd.Categorical(_df['name'], categories=ai_gen, ordered=True)\n",
    "_df = _df.sort_values('name')\n",
    "\n",
    "dist_matrix = np.eye(_df['seq'].shape[0])\n",
    "sequences = _df['seq'].to_numpy()\n",
    "for i in range(sequences.shape[0]):\n",
    "    for j in range(sequences.shape[0]):\n",
    "        dist_matrix[i, j] = hamming_distance(sequences[i], sequences[j])\n",
    "\n",
    "plt.figure(figsize=(10,10))\n",
    "plt.imshow(dist_matrix, cmap='hot')\n",
    "plt.colorbar(shrink=0.75)\n",
    "plt.xticks(np.arange(len(ai_gen)), ai_gen, size=7, rotation=90)\n",
    "plt.yticks(np.arange(len(ai_gen)), ai_gen, size=7)\n",
    "plt.show()"
   ]
  },
  {
   "cell_type": "code",
   "execution_count": null,
   "metadata": {},
   "outputs": [],
   "source": []
  },
  {
   "cell_type": "code",
   "execution_count": null,
   "metadata": {},
   "outputs": [],
   "source": [
    "df_new['name'].to_numpy()"
   ]
  },
  {
   "cell_type": "code",
   "execution_count": null,
   "metadata": {},
   "outputs": [],
   "source": [
    "fig, ax = plt.subplots(1, 2, figsize=(7,3), layout='constrained')\n",
    "ax[0].hist(df_new.loc[df_new['split_id']==2, 'n_mut'])\n",
    "ax[1].hist(df_new.loc[df_new['split_id'].isin([0, 1]), 'n_mut'])\n",
    "ax[0].set_title('Train')\n",
    "ax[1].set_title('Test')"
   ]
  },
  {
   "cell_type": "code",
   "execution_count": null,
   "metadata": {},
   "outputs": [],
   "source": []
  },
  {
   "cell_type": "code",
   "execution_count": null,
   "metadata": {},
   "outputs": [],
   "source": [
    "bin_edges = np.arange(0, max(df_new['n_mut']) + 5, 5)\n",
    "df_new['n_mut_bin'] = pd.cut(df_new['n_mut'], bins=bin_edges, right=False)\n",
    "grouped = df_new.groupby('n_mut_bin')['fitness_raw'].apply(list)\n",
    "boxplot_data = [group for group in grouped]\n",
    "\n",
    "plt.figure(figsize=(10, 3))\n",
    "plt.boxplot(boxplot_data, labels=[str(group) for group in grouped.index], vert=True)\n",
    "plt.xticks(rotation=90)\n",
    "plt.xlabel('n_mut Bins')\n",
    "plt.ylabel('Fitness Values')\n",
    "\n",
    "plt.figure(figsize=(10, 3))\n",
    "plt.bar([str(group) for group in grouped.index],[len(x) for x in boxplot_data])\n",
    "plt.xticks(rotation=90)\n",
    "plt.xlabel('n_mut Bins')\n",
    "plt.ylabel('# of points')"
   ]
  },
  {
   "cell_type": "code",
   "execution_count": null,
   "metadata": {},
   "outputs": [],
   "source": []
  }
 ],
 "metadata": {
  "kernelspec": {
   "display_name": "workspace-esm",
   "language": "python",
   "name": "python3"
  },
  "language_info": {
   "codemirror_mode": {
    "name": "ipython",
    "version": 3
   },
   "file_extension": ".py",
   "mimetype": "text/x-python",
   "name": "python",
   "nbconvert_exporter": "python",
   "pygments_lexer": "ipython3",
   "version": "3.10.13"
  }
 },
 "nbformat": 4,
 "nbformat_minor": 2
}
