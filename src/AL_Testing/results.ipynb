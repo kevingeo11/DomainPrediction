{
 "cells": [
  {
   "cell_type": "code",
   "execution_count": null,
   "metadata": {},
   "outputs": [],
   "source": [
    "import sys\n",
    "sys.path.append('..')"
   ]
  },
  {
   "cell_type": "code",
   "execution_count": null,
   "metadata": {},
   "outputs": [],
   "source": [
    "import os\n",
    "from tqdm import tqdm\n",
    "import random\n",
    "import matplotlib.pyplot as plt\n",
    "import numpy as np\n",
    "import pandas as pd\n",
    "\n",
    "from collections import defaultdict"
   ]
  },
  {
   "cell_type": "code",
   "execution_count": null,
   "metadata": {},
   "outputs": [],
   "source": [
    "from sklearn.metrics import mean_squared_error\n",
    "from scipy import stats"
   ]
  },
  {
   "cell_type": "code",
   "execution_count": null,
   "metadata": {},
   "outputs": [],
   "source": []
  },
  {
   "cell_type": "code",
   "execution_count": null,
   "metadata": {},
   "outputs": [],
   "source": [
    "data_path = '/nethome/kgeorge/workspace/DomainPrediction/Data/al_test_experiments/Tdomain'"
   ]
  },
  {
   "cell_type": "code",
   "execution_count": null,
   "metadata": {},
   "outputs": [],
   "source": [
    "results_file = os.path.join(data_path, 'results_tdomain_zeroshot.csv')\n",
    "df_zeroshot = pd.read_csv(results_file)"
   ]
  },
  {
   "cell_type": "code",
   "execution_count": null,
   "metadata": {},
   "outputs": [],
   "source": [
    "results_file = os.path.join(data_path, 'results_tdomain_embed.csv')\n",
    "df_embed = pd.read_csv(results_file)"
   ]
  },
  {
   "cell_type": "code",
   "execution_count": null,
   "metadata": {},
   "outputs": [],
   "source": [
    "results_file = os.path.join(data_path, 'results_tdomain_confit.csv')\n",
    "df_confit = pd.read_csv(results_file)"
   ]
  },
  {
   "cell_type": "code",
   "execution_count": null,
   "metadata": {},
   "outputs": [],
   "source": [
    "df_zeroshot.head()"
   ]
  },
  {
   "cell_type": "code",
   "execution_count": null,
   "metadata": {},
   "outputs": [],
   "source": [
    "df_embed.head()"
   ]
  },
  {
   "cell_type": "code",
   "execution_count": null,
   "metadata": {},
   "outputs": [],
   "source": [
    "df_confit.head()"
   ]
  },
  {
   "cell_type": "code",
   "execution_count": null,
   "metadata": {},
   "outputs": [],
   "source": []
  },
  {
   "cell_type": "markdown",
   "metadata": {},
   "source": [
    "#### Tables"
   ]
  },
  {
   "cell_type": "code",
   "execution_count": null,
   "metadata": {},
   "outputs": [],
   "source": [
    "def get_split_mask(df):\n",
    "\n",
    "    train_mask = (df['split_id'] == 2)\n",
    "\n",
    "    val_mask = df['split_id'] == 1\n",
    "    test_mask = df['split_id'] == 0\n",
    "\n",
    "    return train_mask, val_mask, test_mask"
   ]
  },
  {
   "cell_type": "code",
   "execution_count": null,
   "metadata": {},
   "outputs": [],
   "source": [
    "def get_table(df, omit=True, fit_label='fitness_log', omit_label=None):\n",
    "    table = {}\n",
    "    for label in df.columns[df.columns.str.contains('pred')]:\n",
    "        train_mask, val_mask, test_mask = get_split_mask(df)\n",
    "        assert fit_label in df.columns\n",
    "        \n",
    "        if omit:\n",
    "            assert omit_label is not None and omit_label in df.columns\n",
    "            omit_mask = df[omit_label] != 0\n",
    "            train_corr = round(stats.spearmanr(df.loc[train_mask & omit_mask, fit_label], df.loc[train_mask & omit_mask, label]).statistic, 2)\n",
    "            val_corr = round(stats.spearmanr(df.loc[val_mask & omit_mask, fit_label], df.loc[val_mask & omit_mask, label]).statistic, 2)\n",
    "            test_corr = round(stats.spearmanr(df.loc[test_mask & omit_mask, fit_label], df.loc[test_mask & omit_mask, label]).statistic, 2)\n",
    "        else:\n",
    "            train_corr = round(stats.spearmanr(df.loc[train_mask, fit_label], df.loc[train_mask, label]).statistic, 2)\n",
    "            val_corr = round(stats.spearmanr(df.loc[val_mask, fit_label], df.loc[val_mask, label]).statistic, 2)\n",
    "            test_corr = round(stats.spearmanr(df.loc[test_mask, fit_label], df.loc[test_mask, label]).statistic, 2)\n",
    "        \n",
    "        table[label] = [train_corr, val_corr, test_corr]\n",
    "\n",
    "    df_table = pd.DataFrame(table).T\n",
    "    df_table.columns = ['train', 'val', 'test']\n",
    "\n",
    "    return df_table"
   ]
  },
  {
   "cell_type": "code",
   "execution_count": null,
   "metadata": {},
   "outputs": [],
   "source": [
    "res_table_embed = get_table(df_embed, omit=True, fit_label='fitness_log', omit_label='fitness_raw')"
   ]
  },
  {
   "cell_type": "code",
   "execution_count": null,
   "metadata": {},
   "outputs": [],
   "source": [
    "res_table_embed.head()"
   ]
  },
  {
   "cell_type": "code",
   "execution_count": null,
   "metadata": {},
   "outputs": [],
   "source": [
    "res_table_embed.loc[res_table_embed.index.str.contains('RF')]"
   ]
  },
  {
   "cell_type": "code",
   "execution_count": null,
   "metadata": {},
   "outputs": [],
   "source": [
    "res_table_zeroshot = get_table(df_zeroshot, omit=True, fit_label='fitness_log', omit_label='fitness_raw')"
   ]
  },
  {
   "cell_type": "code",
   "execution_count": null,
   "metadata": {},
   "outputs": [],
   "source": [
    "res_table_zeroshot.head()"
   ]
  },
  {
   "cell_type": "code",
   "execution_count": null,
   "metadata": {},
   "outputs": [],
   "source": [
    "res_table_zeroshot.loc[res_table_zeroshot.index.str.contains('masked')]"
   ]
  },
  {
   "cell_type": "code",
   "execution_count": null,
   "metadata": {},
   "outputs": [],
   "source": [
    "res_table_confit = get_table(df_confit, omit=True, fit_label='fitness_log', omit_label='fitness_raw')"
   ]
  },
  {
   "cell_type": "code",
   "execution_count": null,
   "metadata": {},
   "outputs": [],
   "source": [
    "res_table_confit"
   ]
  },
  {
   "cell_type": "code",
   "execution_count": null,
   "metadata": {},
   "outputs": [],
   "source": []
  },
  {
   "cell_type": "code",
   "execution_count": null,
   "metadata": {},
   "outputs": [],
   "source": [
    "def get_panel(df, label, omit=True, fit_label='fitness_log', omit_label=None):\n",
    "    train_mask, val_mask, test_mask = get_split_mask(df)\n",
    "    assert fit_label in df.columns\n",
    "    \n",
    "    fig, ax = plt.subplots(1,3, figsize=(10,3), layout='constrained')\n",
    "\n",
    "    if omit:\n",
    "        assert omit_label is not None and omit_label in df.columns\n",
    "        omit_mask = df[omit_label] != 0\n",
    "        ax[0].plot(df.loc[train_mask & omit_mask, fit_label], df.loc[train_mask & omit_mask, label], '.', alpha=0.9)\n",
    "        ax[1].plot(df.loc[val_mask & omit_mask, fit_label], df.loc[val_mask & omit_mask, label], '.', alpha=0.9)\n",
    "        ax[2].plot(df.loc[test_mask & omit_mask,fit_label], df.loc[test_mask & omit_mask, label], '.', alpha=0.9)\n",
    "\n",
    "        train_corr = round(stats.spearmanr(df.loc[train_mask & omit_mask, fit_label], df.loc[train_mask & omit_mask, label]).statistic, 2)\n",
    "        val_corr = round(stats.spearmanr(df.loc[val_mask & omit_mask, fit_label], df.loc[val_mask & omit_mask, label]).statistic, 2)\n",
    "        test_corr = round(stats.spearmanr(df.loc[test_mask & omit_mask, fit_label], df.loc[test_mask & omit_mask, label]).statistic, 2)\n",
    "\n",
    "        ax[0].set_title(f'Train\\nspearman corr {train_corr}')\n",
    "        ax[1].set_title(f'Val\\nspearman corr {val_corr}')\n",
    "        ax[2].set_title(f'Test\\nspearman corr {test_corr}')\n",
    "    else:\n",
    "        ax[0].plot(df.loc[train_mask, fit_label], df.loc[train_mask, label], '.', alpha=0.9)\n",
    "        ax[1].plot(df.loc[val_mask, fit_label], df.loc[val_mask, label], '.', alpha=0.9)\n",
    "        ax[2].plot(df.loc[test_mask, fit_label], df.loc[test_mask, label], '.', alpha=0.9)\n",
    "\n",
    "        train_corr = round(stats.spearmanr(df.loc[train_mask, fit_label], df.loc[train_mask, label]).statistic, 2)\n",
    "        val_corr = round(stats.spearmanr(df.loc[val_mask, fit_label], df.loc[val_mask, label]).statistic, 2)\n",
    "        test_corr = round(stats.spearmanr(df.loc[test_mask, fit_label], df.loc[test_mask, label]).statistic, 2)\n",
    "\n",
    "        ax[0].set_title(f'Train\\nspearman corr {train_corr}')\n",
    "        ax[1].set_title(f'Val\\nspearman corr {val_corr}')\n",
    "        ax[2].set_title(f'Test\\nspearman corr {test_corr}')\n",
    "\n",
    "    for i in range(3):\n",
    "        ax[i].set_xlabel('True')\n",
    "        ax[i].set_ylabel('Pred')\n",
    "\n",
    "    plt.show()"
   ]
  },
  {
   "cell_type": "code",
   "execution_count": null,
   "metadata": {},
   "outputs": [],
   "source": [
    "get_panel(df_embed, label='pred_ESM650M_res_mean_ridge', omit=True, fit_label='fitness_log', omit_label='fitness_raw')"
   ]
  },
  {
   "cell_type": "code",
   "execution_count": null,
   "metadata": {},
   "outputs": [],
   "source": [
    "get_panel(df_zeroshot, label='pred_ESM650M_masked_marginal', omit=True, fit_label='fitness_log', omit_label='fitness_raw')"
   ]
  },
  {
   "cell_type": "code",
   "execution_count": null,
   "metadata": {},
   "outputs": [],
   "source": [
    "get_panel(df_confit, label='pred_ESM650M_confit', omit=True, fit_label='fitness_log', omit_label='fitness_raw')"
   ]
  },
  {
   "cell_type": "code",
   "execution_count": null,
   "metadata": {},
   "outputs": [],
   "source": []
  },
  {
   "cell_type": "code",
   "execution_count": null,
   "metadata": {},
   "outputs": [],
   "source": []
  },
  {
   "cell_type": "code",
   "execution_count": null,
   "metadata": {},
   "outputs": [],
   "source": [
    "train_mask, val_mask, test_mask = get_split_mask(df_zeroshot)\n",
    "fig, ax = plt.subplots(1,3, figsize=(10,3), layout='constrained')\n",
    "_omit_mask = df_zeroshot['fitness_raw'] != 0\n",
    "ax[0].hist(df_zeroshot.loc[train_mask & _omit_mask, 'n_mut'])\n",
    "ax[1].hist(df_zeroshot.loc[val_mask & _omit_mask, 'n_mut'])\n",
    "ax[2].hist(df_zeroshot.loc[test_mask & _omit_mask,'n_mut'])\n",
    "for i in range(3):\n",
    "    ax[i].set_xlabel('# mutations')\n",
    "\n",
    "plt.show()"
   ]
  },
  {
   "cell_type": "code",
   "execution_count": null,
   "metadata": {},
   "outputs": [],
   "source": []
  },
  {
   "cell_type": "code",
   "execution_count": null,
   "metadata": {},
   "outputs": [],
   "source": [
    "def plot_comparison_corr_methods(df):\n",
    "    ridge = defaultdict(list)\n",
    "    rf    = defaultdict(list)\n",
    "    mlp   = defaultdict(list)\n",
    "    for idx in df.index:\n",
    "        if not 'cls' in idx:\n",
    "            if 'ridge' in idx:\n",
    "                ridge['train'].append(df.loc[idx, 'train'])\n",
    "                ridge['val'].append(df.loc[idx, 'val'])\n",
    "                ridge['test'].append(df.loc[idx, 'test'])\n",
    "            elif 'RF' in idx:\n",
    "                rf['train'].append(df.loc[idx, 'train'])\n",
    "                rf['val'].append(df.loc[idx, 'val'])\n",
    "                rf['test'].append(df.loc[idx, 'test'])\n",
    "            elif 'MLP' in idx:\n",
    "                mlp['train'].append(df.loc[idx, 'train'])\n",
    "                mlp['val'].append(df.loc[idx, 'val'])\n",
    "                mlp['test'].append(df.loc[idx, 'test'])\n",
    "            else:\n",
    "                raise Exception('Huh?')\n",
    "            \n",
    "    def my_floor(a, precision=1):\n",
    "        return np.round(a - 0.5 * 10**(-precision), precision)\n",
    "            \n",
    "    fig, ax = plt.subplots(1, 3, figsize=(10, 3), layout='constrained')\n",
    "    for i, dset in enumerate(['train', 'val', 'test']):\n",
    "        # ax[i].hist(ridge[dset], label='ridge', alpha=0.8, \n",
    "        #            bins=np.arange(my_floor(np.nanmin(ridge[dset])),1.05,0.1))\n",
    "        # ax[i].hist(rf[dset], label='rf', alpha=0.5,\n",
    "        #            bins=np.arange(my_floor(np.nanmin(rf[dset])),1.05,0.1))\n",
    "        # ax[i].hist(mlp[dset], label='mlp', alpha=0.3,\n",
    "        #            bins=np.arange(my_floor(np.nanmin(mlp[dset])),1.05,0.1))\n",
    "        \n",
    "        _min = my_floor(np.nanmin(ridge[dset]+rf[dset]+mlp[dset]))\n",
    "        ax[i].hist([ridge[dset], rf[dset], mlp[dset]], \n",
    "                   label=['linear', 'rf', 'mlp'], \n",
    "                   alpha=0.8, \n",
    "                   bins=np.arange(my_floor(_min),1.05,0.1))\n",
    "\n",
    "\n",
    "        ax[i].legend()\n",
    "\n",
    "    plt.show()"
   ]
  },
  {
   "cell_type": "code",
   "execution_count": null,
   "metadata": {},
   "outputs": [],
   "source": [
    "plot_comparison_corr_methods(res_table_embed)"
   ]
  },
  {
   "cell_type": "code",
   "execution_count": null,
   "metadata": {},
   "outputs": [],
   "source": []
  },
  {
   "cell_type": "code",
   "execution_count": null,
   "metadata": {},
   "outputs": [],
   "source": [
    "omit = True\n",
    "fig, ax = plt.subplots(2, 2, figsize=(6,6), layout='constrained')\n",
    "\n",
    "if omit:\n",
    "    _omit_mask = df_zeroshot['fitness_raw'] != 0\n",
    "    for _label, _ax in zip(df_zeroshot.columns[df_zeroshot.columns.str.contains('perplexity')], ax.flatten()):\n",
    "        _ax.plot(df_zeroshot.loc[_omit_mask, 'fitness_raw'], df_zeroshot.loc[_omit_mask, _label], '.', alpha=0.8)\n",
    "        _ax.set_xlabel('true / titer')\n",
    "        _ax.set_ylabel('perplexity')\n",
    "        _ax.set_title(_label.replace('pred_', '').replace('_perplexity', ''))\n",
    "else:\n",
    "    for _label, _ax in zip(df_zeroshot.columns[df_zeroshot.columns.str.contains('perplexity')], ax.flatten()):\n",
    "        _ax.plot(df_zeroshot['fitness_raw'], df_zeroshot[_label], '.', alpha=0.8)\n",
    "        _ax.set_xlabel('true / titer')\n",
    "        _ax.set_ylabel('perplexity')\n",
    "        _ax.set_title(_label.replace('pred_', '').replace('_perplexity', ''))"
   ]
  },
  {
   "cell_type": "code",
   "execution_count": null,
   "metadata": {},
   "outputs": [],
   "source": []
  },
  {
   "cell_type": "code",
   "execution_count": null,
   "metadata": {},
   "outputs": [],
   "source": []
  },
  {
   "cell_type": "code",
   "execution_count": null,
   "metadata": {},
   "outputs": [],
   "source": [
    "def get_table_all(df, omit=True, fit_label='fitness_log', omit_label='fitness_raw'):\n",
    "    table = {}\n",
    "    for label in df.columns[df.columns.str.contains('pred')]:\n",
    "        assert fit_label in df.columns\n",
    "        \n",
    "        if omit:\n",
    "            assert omit_label is not None and omit_label in df.columns\n",
    "            omit_mask = df[omit_label] != 0\n",
    "            corr = round(stats.spearmanr(df.loc[omit_mask, fit_label], df.loc[omit_mask, label]).statistic, 2)\n",
    "        else:\n",
    "            corr = round(stats.spearmanr(df.loc[fit_label], df.loc[label]).statistic, 2)\n",
    "        \n",
    "        table[label] = [corr]\n",
    "\n",
    "    df_table = pd.DataFrame(table).T\n",
    "    df_table.columns = ['corr']\n",
    "\n",
    "    return df_table"
   ]
  },
  {
   "cell_type": "code",
   "execution_count": null,
   "metadata": {},
   "outputs": [],
   "source": [
    "get_table_all(df_zeroshot, omit=True, fit_label='fitness_log', omit_label='fitness_raw')"
   ]
  },
  {
   "cell_type": "code",
   "execution_count": null,
   "metadata": {},
   "outputs": [],
   "source": [
    "omit = True\n",
    "# predictor = 'masked_marginal'\n",
    "predictor = 'wt_marginal'\n",
    "fig, ax = plt.subplots(2, 2, figsize=(6,6), layout='constrained')\n",
    "\n",
    "if omit:\n",
    "    _omit_mask = df_zeroshot['fitness_raw'] != 0\n",
    "    for _label, _ax in zip(df_zeroshot.columns[df_zeroshot.columns.str.contains(predictor)], ax.flatten()):\n",
    "        _ax.plot(df_zeroshot.loc[_omit_mask, 'fitness_log'], df_zeroshot.loc[_omit_mask, _label], '.', alpha=0.8)\n",
    "        corr = round(stats.spearmanr(df_zeroshot.loc[_omit_mask, 'fitness_log'], df_zeroshot.loc[_omit_mask, _label]).statistic, 2)\n",
    "        _ax.set_xlabel('true')\n",
    "        _ax.set_ylabel('pred')\n",
    "        _ax.set_title(f\"{_label.replace('pred_', '')}\\nspearman corr {corr}\", size=10)\n",
    "else:\n",
    "    for _label, _ax in zip(df_zeroshot.columns[df_zeroshot.columns.str.contains(predictor)], ax.flatten()):\n",
    "        _ax.plot(df_zeroshot['fitness_log'], df_zeroshot[_label], '.', alpha=0.8)\n",
    "        corr = round(stats.spearmanr(df_zeroshot['fitness_log'], df_zeroshot[_label]).statistic, 2)\n",
    "        _ax.set_xlabel('true')\n",
    "        _ax.set_ylabel('perplexity')\n",
    "        _ax.set_title(f\"{_label.replace('pred_', '')}\\nspearman corr {corr}\", size=10)"
   ]
  },
  {
   "cell_type": "code",
   "execution_count": null,
   "metadata": {},
   "outputs": [],
   "source": [
    "def _plot(df, mask, predictor, label):\n",
    "    fig, ax = plt.subplots(1, 2, figsize=(7,3), layout='constrained')\n",
    "\n",
    "    ax[0].plot(df.loc[mask, 'fitness_log'], df.loc[mask, label], '.', alpha=0.8)\n",
    "    corr = round(stats.spearmanr(df.loc[mask, 'fitness_log'], df.loc[mask, label]).statistic, 2)\n",
    "    ax[0].set_xlabel('true')\n",
    "    ax[0].set_ylabel('pred')\n",
    "    ax[0].set_title(f\"{_label.replace('pred_', '')}\\nspearman corr {corr}\", size=10)\n",
    "\n",
    "    ax[1].hist(df_zeroshot.loc[mask, 'n_mut'])\n",
    "    ax[1].set_xlabel('# mutations')\n",
    "    plt.show()\n",
    "\n",
    "predictor = 'masked_marginal'\n",
    "_label = 'pred_ESMC600M_masked_marginal'\n",
    "_omit_mask = df_zeroshot['fitness_raw'] != 0\n",
    "# _omit_mask = df_zeroshot['fitness_raw'] > -1000\n",
    "\n",
    "_plot(df_zeroshot, _omit_mask, predictor, _label)\n",
    "\n",
    "mut_mask_20 = df_zeroshot['n_mut'] < 20\n",
    "_mask = _omit_mask & mut_mask_20\n",
    "_plot(df_zeroshot, _mask, predictor, _label)\n",
    "_mask = _omit_mask & ~mut_mask_20\n",
    "_plot(df_zeroshot, _mask, predictor, _label)\n",
    "\n",
    "_mask = _omit_mask & (df_zeroshot['n_mut'] < 2.5)\n",
    "_plot(df_zeroshot, _mask, predictor, _label)\n",
    "\n",
    "_mask = _omit_mask & (df_zeroshot['n_mut'].between(2.5,20))\n",
    "_plot(df_zeroshot, _mask, predictor, _label)\n"
   ]
  },
  {
   "cell_type": "code",
   "execution_count": null,
   "metadata": {},
   "outputs": [],
   "source": []
  }
 ],
 "metadata": {
  "kernelspec": {
   "display_name": "workspace-esm",
   "language": "python",
   "name": "python3"
  },
  "language_info": {
   "codemirror_mode": {
    "name": "ipython",
    "version": 3
   },
   "file_extension": ".py",
   "mimetype": "text/x-python",
   "name": "python",
   "nbconvert_exporter": "python",
   "pygments_lexer": "ipython3",
   "version": "3.10.13"
  }
 },
 "nbformat": 4,
 "nbformat_minor": 2
}
