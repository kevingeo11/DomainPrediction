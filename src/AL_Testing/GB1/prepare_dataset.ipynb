{
 "cells": [
  {
   "cell_type": "code",
   "execution_count": 1,
   "metadata": {},
   "outputs": [],
   "source": [
    "import sys\n",
    "sys.path.append('../..')"
   ]
  },
  {
   "cell_type": "code",
   "execution_count": 2,
   "metadata": {},
   "outputs": [],
   "source": [
    "import os\n",
    "import pandas as pd\n",
    "import numpy as np\n",
    "import matplotlib.pyplot as plt"
   ]
  },
  {
   "cell_type": "code",
   "execution_count": 3,
   "metadata": {},
   "outputs": [],
   "source": [
    "from DomainPrediction.utils import helper"
   ]
  },
  {
   "cell_type": "code",
   "execution_count": 4,
   "metadata": {},
   "outputs": [],
   "source": [
    "data_path = '../../../Data/al_test_experiments/Envision'"
   ]
  },
  {
   "cell_type": "code",
   "execution_count": 5,
   "metadata": {},
   "outputs": [],
   "source": [
    "file = os.path.join(data_path, 'TEM1.csv')\n",
    "df = pd.read_csv(file)"
   ]
  },
  {
   "cell_type": "code",
   "execution_count": 6,
   "metadata": {},
   "outputs": [
    {
     "data": {
      "text/html": [
       "<div>\n",
       "<style scoped>\n",
       "    .dataframe tbody tr th:only-of-type {\n",
       "        vertical-align: middle;\n",
       "    }\n",
       "\n",
       "    .dataframe tbody tr th {\n",
       "        vertical-align: top;\n",
       "    }\n",
       "\n",
       "    .dataframe thead th {\n",
       "        text-align: right;\n",
       "    }\n",
       "</style>\n",
       "<table border=\"1\" class=\"dataframe\">\n",
       "  <thead>\n",
       "    <tr style=\"text-align: right;\">\n",
       "      <th></th>\n",
       "      <th>variant_id</th>\n",
       "      <th>id</th>\n",
       "      <th>reported_fitness</th>\n",
       "      <th>aa1</th>\n",
       "      <th>aa2</th>\n",
       "      <th>wt_mut</th>\n",
       "      <th>mut_type</th>\n",
       "      <th>position</th>\n",
       "      <th>Variant</th>\n",
       "      <th>scaled_effect1</th>\n",
       "    </tr>\n",
       "  </thead>\n",
       "  <tbody>\n",
       "    <tr>\n",
       "      <th>0</th>\n",
       "      <td>beta-lactamase_P20P</td>\n",
       "      <td>TEM-1_P20P</td>\n",
       "      <td>0.581033</td>\n",
       "      <td>P</td>\n",
       "      <td>P</td>\n",
       "      <td>PP</td>\n",
       "      <td>synonymous</td>\n",
       "      <td>20</td>\n",
       "      <td>P20P</td>\n",
       "      <td>1.581033</td>\n",
       "    </tr>\n",
       "    <tr>\n",
       "      <th>1</th>\n",
       "      <td>beta-lactamase_D207D</td>\n",
       "      <td>TEM-1_D207D</td>\n",
       "      <td>0.425631</td>\n",
       "      <td>D</td>\n",
       "      <td>D</td>\n",
       "      <td>DD</td>\n",
       "      <td>synonymous</td>\n",
       "      <td>207</td>\n",
       "      <td>D207D</td>\n",
       "      <td>1.425631</td>\n",
       "    </tr>\n",
       "    <tr>\n",
       "      <th>2</th>\n",
       "      <td>beta-lactamase_A215A</td>\n",
       "      <td>TEM-1_A215A</td>\n",
       "      <td>0.422813</td>\n",
       "      <td>A</td>\n",
       "      <td>A</td>\n",
       "      <td>AA</td>\n",
       "      <td>synonymous</td>\n",
       "      <td>215</td>\n",
       "      <td>A215A</td>\n",
       "      <td>1.422813</td>\n",
       "    </tr>\n",
       "    <tr>\n",
       "      <th>3</th>\n",
       "      <td>beta-lactamase_C75C</td>\n",
       "      <td>TEM-1_C75C</td>\n",
       "      <td>0.415532</td>\n",
       "      <td>C</td>\n",
       "      <td>C</td>\n",
       "      <td>CC</td>\n",
       "      <td>synonymous</td>\n",
       "      <td>75</td>\n",
       "      <td>C75C</td>\n",
       "      <td>1.415532</td>\n",
       "    </tr>\n",
       "    <tr>\n",
       "      <th>4</th>\n",
       "      <td>beta-lactamase_N134N</td>\n",
       "      <td>TEM-1_N134N</td>\n",
       "      <td>0.396966</td>\n",
       "      <td>N</td>\n",
       "      <td>N</td>\n",
       "      <td>NN</td>\n",
       "      <td>synonymous</td>\n",
       "      <td>134</td>\n",
       "      <td>N134N</td>\n",
       "      <td>1.396966</td>\n",
       "    </tr>\n",
       "  </tbody>\n",
       "</table>\n",
       "</div>"
      ],
      "text/plain": [
       "             variant_id           id  reported_fitness aa1 aa2 wt_mut  \\\n",
       "0   beta-lactamase_P20P   TEM-1_P20P          0.581033   P   P     PP   \n",
       "1  beta-lactamase_D207D  TEM-1_D207D          0.425631   D   D     DD   \n",
       "2  beta-lactamase_A215A  TEM-1_A215A          0.422813   A   A     AA   \n",
       "3   beta-lactamase_C75C   TEM-1_C75C          0.415532   C   C     CC   \n",
       "4  beta-lactamase_N134N  TEM-1_N134N          0.396966   N   N     NN   \n",
       "\n",
       "     mut_type  position Variant  scaled_effect1  \n",
       "0  synonymous        20    P20P        1.581033  \n",
       "1  synonymous       207   D207D        1.425631  \n",
       "2  synonymous       215   A215A        1.422813  \n",
       "3  synonymous        75    C75C        1.415532  \n",
       "4  synonymous       134   N134N        1.396966  "
      ]
     },
     "execution_count": 6,
     "metadata": {},
     "output_type": "execute_result"
    }
   ],
   "source": [
    "df.head()"
   ]
  },
  {
   "cell_type": "code",
   "execution_count": 7,
   "metadata": {},
   "outputs": [],
   "source": [
    "wt = helper.read_fasta(os.path.join(data_path, 'TEM1_WT.fasta'), mode='str')[0]"
   ]
  },
  {
   "cell_type": "code",
   "execution_count": 8,
   "metadata": {},
   "outputs": [
    {
     "data": {
      "text/plain": [
       "array(['synonymous', 'missense'], dtype=object)"
      ]
     },
     "execution_count": 8,
     "metadata": {},
     "output_type": "execute_result"
    }
   ],
   "source": [
    "df['mut_type'].unique()"
   ]
  },
  {
   "cell_type": "markdown",
   "metadata": {},
   "source": [
    "wt_mut column has nan values so don't use it"
   ]
  },
  {
   "cell_type": "code",
   "execution_count": 22,
   "metadata": {},
   "outputs": [],
   "source": [
    "## sanity check againts wildtype for missense\n",
    "for i, row in df[df['mut_type'] == 'missense'].iterrows():\n",
    "    pos = row[\"position\"]\n",
    "    assert row[\"aa1\"] == wt[pos-1]\n",
    "    assert wt[pos-1] == row[\"Variant\"][0]\n",
    "    assert row[\"aa2\"] == row[\"Variant\"][-1]\n",
    "    assert pos == int(row[\"Variant\"][1:-1])"
   ]
  },
  {
   "cell_type": "code",
   "execution_count": 33,
   "metadata": {},
   "outputs": [],
   "source": [
    "## sanity check againts wildtype for synonymous\n",
    "mask = []\n",
    "for i, row in df[df['mut_type'] == 'synonymous'].iterrows():\n",
    "    pos = row[\"position\"]\n",
    "    assert row[\"aa1\"] == row[\"aa2\"] == row[\"Variant\"][0] == row[\"Variant\"][-1]\n",
    "    assert pos == int(row[\"Variant\"][1:-1])\n",
    "\n",
    "    if pos >= len(wt):\n",
    "        mask.append(False)\n",
    "    else:\n",
    "        mask.append(wt[pos-1] == row[\"aa1\"])\n",
    "\n",
    "mask = np.array(mask)\n",
    "\n",
    "assert df[df['mut_type'] == 'synonymous'].shape[0] == mask.shape[0]"
   ]
  },
  {
   "cell_type": "code",
   "execution_count": 45,
   "metadata": {},
   "outputs": [
    {
     "data": {
      "image/png": "[encoded data removed]",
      "text/plain": [
       "<Figure size 1000x300 with 3 Axes>"
      ]
     },
     "metadata": {},
     "output_type": "display_data"
    }
   ],
   "source": [
    "fig, ax = plt.subplots(1, 3, figsize=(10,3))\n",
    "ax[0].hist(df[df['mut_type'] == 'synonymous'].iloc[mask]['reported_fitness'])\n",
    "ax[1].hist(df[df['mut_type'] == 'synonymous'].iloc[~mask]['reported_fitness'])\n",
    "ax[2].hist(df[df['mut_type'] == 'missense']['reported_fitness'])\n",
    "ax[0].set_title('correct')\n",
    "ax[1].set_title('corrupted')\n",
    "ax[2].set_title('missense')\n",
    "plt.show()"
   ]
  },
  {
   "cell_type": "code",
   "execution_count": 46,
   "metadata": {},
   "outputs": [
    {
     "data": {
      "image/png": "[encoded data removed]",
      "text/plain": [
       "<Figure size 1000x300 with 3 Axes>"
      ]
     },
     "metadata": {},
     "output_type": "display_data"
    }
   ],
   "source": [
    "fig, ax = plt.subplots(1, 3, figsize=(10,3))\n",
    "ax[0].hist(df[df['mut_type'] == 'synonymous'].iloc[mask]['scaled_effect1'])\n",
    "ax[1].hist(df[df['mut_type'] == 'synonymous'].iloc[~mask]['scaled_effect1'])\n",
    "ax[2].hist(df[df['mut_type'] == 'missense']['scaled_effect1'])\n",
    "ax[0].set_title('correct')\n",
    "ax[1].set_title('corrupted')\n",
    "ax[2].set_title('missense')\n",
    "plt.show()"
   ]
  },
  {
   "cell_type": "code",
   "execution_count": 59,
   "metadata": {},
   "outputs": [
    {
     "data": {
      "text/html": [
       "<div>\n",
       "<style scoped>\n",
       "    .dataframe tbody tr th:only-of-type {\n",
       "        vertical-align: middle;\n",
       "    }\n",
       "\n",
       "    .dataframe tbody tr th {\n",
       "        vertical-align: top;\n",
       "    }\n",
       "\n",
       "    .dataframe thead th {\n",
       "        text-align: right;\n",
       "    }\n",
       "</style>\n",
       "<table border=\"1\" class=\"dataframe\">\n",
       "  <thead>\n",
       "    <tr style=\"text-align: right;\">\n",
       "      <th></th>\n",
       "      <th>variant_id</th>\n",
       "      <th>id</th>\n",
       "      <th>reported_fitness</th>\n",
       "      <th>aa1</th>\n",
       "      <th>aa2</th>\n",
       "      <th>wt_mut</th>\n",
       "      <th>mut_type</th>\n",
       "      <th>position</th>\n",
       "      <th>Variant</th>\n",
       "      <th>scaled_effect1</th>\n",
       "    </tr>\n",
       "  </thead>\n",
       "  <tbody>\n",
       "    <tr>\n",
       "      <th>0</th>\n",
       "      <td>beta-lactamase_P20P</td>\n",
       "      <td>TEM-1_P20P</td>\n",
       "      <td>0.581033</td>\n",
       "      <td>P</td>\n",
       "      <td>P</td>\n",
       "      <td>PP</td>\n",
       "      <td>synonymous</td>\n",
       "      <td>20</td>\n",
       "      <td>P20P</td>\n",
       "      <td>1.581033</td>\n",
       "    </tr>\n",
       "    <tr>\n",
       "      <th>1</th>\n",
       "      <td>beta-lactamase_D207D</td>\n",
       "      <td>TEM-1_D207D</td>\n",
       "      <td>0.425631</td>\n",
       "      <td>D</td>\n",
       "      <td>D</td>\n",
       "      <td>DD</td>\n",
       "      <td>synonymous</td>\n",
       "      <td>207</td>\n",
       "      <td>D207D</td>\n",
       "      <td>1.425631</td>\n",
       "    </tr>\n",
       "    <tr>\n",
       "      <th>2</th>\n",
       "      <td>beta-lactamase_A215A</td>\n",
       "      <td>TEM-1_A215A</td>\n",
       "      <td>0.422813</td>\n",
       "      <td>A</td>\n",
       "      <td>A</td>\n",
       "      <td>AA</td>\n",
       "      <td>synonymous</td>\n",
       "      <td>215</td>\n",
       "      <td>A215A</td>\n",
       "      <td>1.422813</td>\n",
       "    </tr>\n",
       "    <tr>\n",
       "      <th>3</th>\n",
       "      <td>beta-lactamase_C75C</td>\n",
       "      <td>TEM-1_C75C</td>\n",
       "      <td>0.415532</td>\n",
       "      <td>C</td>\n",
       "      <td>C</td>\n",
       "      <td>CC</td>\n",
       "      <td>synonymous</td>\n",
       "      <td>75</td>\n",
       "      <td>C75C</td>\n",
       "      <td>1.415532</td>\n",
       "    </tr>\n",
       "    <tr>\n",
       "      <th>4</th>\n",
       "      <td>beta-lactamase_N134N</td>\n",
       "      <td>TEM-1_N134N</td>\n",
       "      <td>0.396966</td>\n",
       "      <td>N</td>\n",
       "      <td>N</td>\n",
       "      <td>NN</td>\n",
       "      <td>synonymous</td>\n",
       "      <td>134</td>\n",
       "      <td>N134N</td>\n",
       "      <td>1.396966</td>\n",
       "    </tr>\n",
       "  </tbody>\n",
       "</table>\n",
       "</div>"
      ],
      "text/plain": [
       "             variant_id           id  reported_fitness aa1 aa2 wt_mut  \\\n",
       "0   beta-lactamase_P20P   TEM-1_P20P          0.581033   P   P     PP   \n",
       "1  beta-lactamase_D207D  TEM-1_D207D          0.425631   D   D     DD   \n",
       "2  beta-lactamase_A215A  TEM-1_A215A          0.422813   A   A     AA   \n",
       "3   beta-lactamase_C75C   TEM-1_C75C          0.415532   C   C     CC   \n",
       "4  beta-lactamase_N134N  TEM-1_N134N          0.396966   N   N     NN   \n",
       "\n",
       "     mut_type  position Variant  scaled_effect1  \n",
       "0  synonymous        20    P20P        1.581033  \n",
       "1  synonymous       207   D207D        1.425631  \n",
       "2  synonymous       215   A215A        1.422813  \n",
       "3  synonymous        75    C75C        1.415532  \n",
       "4  synonymous       134   N134N        1.396966  "
      ]
     },
     "execution_count": 59,
     "metadata": {},
     "output_type": "execute_result"
    }
   ],
   "source": [
    "df.head()"
   ]
  },
  {
   "cell_type": "code",
   "execution_count": 71,
   "metadata": {},
   "outputs": [],
   "source": [
    "df_new = df.loc[df['mut_type']=='missense', \n",
    "                ['position', 'Variant', 'reported_fitness', 'scaled_effect1']].copy()\n",
    "df_new = df_new.reset_index(drop=True)\n",
    "df_new.columns = ['pos', 'variant', 'fitness_raw', 'fitness_norm']"
   ]
  },
  {
   "cell_type": "code",
   "execution_count": 73,
   "metadata": {},
   "outputs": [
    {
     "data": {
      "text/html": [
       "<div>\n",
       "<style scoped>\n",
       "    .dataframe tbody tr th:only-of-type {\n",
       "        vertical-align: middle;\n",
       "    }\n",
       "\n",
       "    .dataframe tbody tr th {\n",
       "        vertical-align: top;\n",
       "    }\n",
       "\n",
       "    .dataframe thead th {\n",
       "        text-align: right;\n",
       "    }\n",
       "</style>\n",
       "<table border=\"1\" class=\"dataframe\">\n",
       "  <thead>\n",
       "    <tr style=\"text-align: right;\">\n",
       "      <th></th>\n",
       "      <th>pos</th>\n",
       "      <th>variant</th>\n",
       "      <th>fitness_raw</th>\n",
       "      <th>fitness_norm</th>\n",
       "    </tr>\n",
       "  </thead>\n",
       "  <tbody>\n",
       "    <tr>\n",
       "      <th>0</th>\n",
       "      <td>58</td>\n",
       "      <td>F58N</td>\n",
       "      <td>1.537240</td>\n",
       "      <td>1.142208</td>\n",
       "    </tr>\n",
       "    <tr>\n",
       "      <th>1</th>\n",
       "      <td>19</td>\n",
       "      <td>L19W</td>\n",
       "      <td>1.053720</td>\n",
       "      <td>1.094952</td>\n",
       "    </tr>\n",
       "    <tr>\n",
       "      <th>2</th>\n",
       "      <td>15</td>\n",
       "      <td>A15Y</td>\n",
       "      <td>0.823567</td>\n",
       "      <td>1.072459</td>\n",
       "    </tr>\n",
       "    <tr>\n",
       "      <th>3</th>\n",
       "      <td>182</td>\n",
       "      <td>A182M</td>\n",
       "      <td>0.768011</td>\n",
       "      <td>1.067029</td>\n",
       "    </tr>\n",
       "    <tr>\n",
       "      <th>4</th>\n",
       "      <td>281</td>\n",
       "      <td>S281F</td>\n",
       "      <td>0.768011</td>\n",
       "      <td>1.067029</td>\n",
       "    </tr>\n",
       "  </tbody>\n",
       "</table>\n",
       "</div>"
      ],
      "text/plain": [
       "   pos variant  fitness_raw  fitness_norm\n",
       "0   58    F58N     1.537240      1.142208\n",
       "1   19    L19W     1.053720      1.094952\n",
       "2   15    A15Y     0.823567      1.072459\n",
       "3  182   A182M     0.768011      1.067029\n",
       "4  281   S281F     0.768011      1.067029"
      ]
     },
     "execution_count": 73,
     "metadata": {},
     "output_type": "execute_result"
    }
   ],
   "source": [
    "df_new.head()"
   ]
  },
  {
   "cell_type": "code",
   "execution_count": 74,
   "metadata": {},
   "outputs": [],
   "source": [
    "df_new['wt_aa'] = df_new['variant'].apply(lambda x: x[0])\n",
    "df_new['n_mut'] = 1"
   ]
  },
  {
   "cell_type": "code",
   "execution_count": 75,
   "metadata": {},
   "outputs": [
    {
     "data": {
      "text/html": [
       "<div>\n",
       "<style scoped>\n",
       "    .dataframe tbody tr th:only-of-type {\n",
       "        vertical-align: middle;\n",
       "    }\n",
       "\n",
       "    .dataframe tbody tr th {\n",
       "        vertical-align: top;\n",
       "    }\n",
       "\n",
       "    .dataframe thead th {\n",
       "        text-align: right;\n",
       "    }\n",
       "</style>\n",
       "<table border=\"1\" class=\"dataframe\">\n",
       "  <thead>\n",
       "    <tr style=\"text-align: right;\">\n",
       "      <th></th>\n",
       "      <th>pos</th>\n",
       "      <th>variant</th>\n",
       "      <th>fitness_raw</th>\n",
       "      <th>fitness_norm</th>\n",
       "      <th>wt_aa</th>\n",
       "      <th>n_mut</th>\n",
       "    </tr>\n",
       "  </thead>\n",
       "  <tbody>\n",
       "    <tr>\n",
       "      <th>0</th>\n",
       "      <td>58</td>\n",
       "      <td>F58N</td>\n",
       "      <td>1.537240</td>\n",
       "      <td>1.142208</td>\n",
       "      <td>F</td>\n",
       "      <td>1</td>\n",
       "    </tr>\n",
       "    <tr>\n",
       "      <th>1</th>\n",
       "      <td>19</td>\n",
       "      <td>L19W</td>\n",
       "      <td>1.053720</td>\n",
       "      <td>1.094952</td>\n",
       "      <td>L</td>\n",
       "      <td>1</td>\n",
       "    </tr>\n",
       "    <tr>\n",
       "      <th>2</th>\n",
       "      <td>15</td>\n",
       "      <td>A15Y</td>\n",
       "      <td>0.823567</td>\n",
       "      <td>1.072459</td>\n",
       "      <td>A</td>\n",
       "      <td>1</td>\n",
       "    </tr>\n",
       "    <tr>\n",
       "      <th>3</th>\n",
       "      <td>182</td>\n",
       "      <td>A182M</td>\n",
       "      <td>0.768011</td>\n",
       "      <td>1.067029</td>\n",
       "      <td>A</td>\n",
       "      <td>1</td>\n",
       "    </tr>\n",
       "    <tr>\n",
       "      <th>4</th>\n",
       "      <td>281</td>\n",
       "      <td>S281F</td>\n",
       "      <td>0.768011</td>\n",
       "      <td>1.067029</td>\n",
       "      <td>S</td>\n",
       "      <td>1</td>\n",
       "    </tr>\n",
       "  </tbody>\n",
       "</table>\n",
       "</div>"
      ],
      "text/plain": [
       "   pos variant  fitness_raw  fitness_norm wt_aa  n_mut\n",
       "0   58    F58N     1.537240      1.142208     F      1\n",
       "1   19    L19W     1.053720      1.094952     L      1\n",
       "2   15    A15Y     0.823567      1.072459     A      1\n",
       "3  182   A182M     0.768011      1.067029     A      1\n",
       "4  281   S281F     0.768011      1.067029     S      1"
      ]
     },
     "execution_count": 75,
     "metadata": {},
     "output_type": "execute_result"
    }
   ],
   "source": [
    "df_new.head()"
   ]
  },
  {
   "cell_type": "code",
   "execution_count": 76,
   "metadata": {},
   "outputs": [],
   "source": [
    "seqs = []\n",
    "for i, row in df_new.iterrows():\n",
    "    pos = row[\"pos\"]\n",
    "    assert wt[pos-1] == row[\"variant\"][0]\n",
    "\n",
    "    seq = wt[:pos-1] + row[\"variant\"][-1] + wt[pos:]\n",
    "    seqs.append(seq)\n",
    "\n",
    "df_new['seq'] = seq"
   ]
  },
  {
   "cell_type": "code",
   "execution_count": 77,
   "metadata": {},
   "outputs": [
    {
     "data": {
      "text/html": [
       "<div>\n",
       "<style scoped>\n",
       "    .dataframe tbody tr th:only-of-type {\n",
       "        vertical-align: middle;\n",
       "    }\n",
       "\n",
       "    .dataframe tbody tr th {\n",
       "        vertical-align: top;\n",
       "    }\n",
       "\n",
       "    .dataframe thead th {\n",
       "        text-align: right;\n",
       "    }\n",
       "</style>\n",
       "<table border=\"1\" class=\"dataframe\">\n",
       "  <thead>\n",
       "    <tr style=\"text-align: right;\">\n",
       "      <th></th>\n",
       "      <th>pos</th>\n",
       "      <th>variant</th>\n",
       "      <th>fitness_raw</th>\n",
       "      <th>fitness_norm</th>\n",
       "      <th>wt_aa</th>\n",
       "      <th>n_mut</th>\n",
       "      <th>seq</th>\n",
       "    </tr>\n",
       "  </thead>\n",
       "  <tbody>\n",
       "    <tr>\n",
       "      <th>0</th>\n",
       "      <td>58</td>\n",
       "      <td>F58N</td>\n",
       "      <td>1.537240</td>\n",
       "      <td>1.142208</td>\n",
       "      <td>F</td>\n",
       "      <td>1</td>\n",
       "      <td>MSIQHFRVALIPFFAAFCLPVFAHPETLVKVKDAEDQLGARVGYIE...</td>\n",
       "    </tr>\n",
       "    <tr>\n",
       "      <th>1</th>\n",
       "      <td>19</td>\n",
       "      <td>L19W</td>\n",
       "      <td>1.053720</td>\n",
       "      <td>1.094952</td>\n",
       "      <td>L</td>\n",
       "      <td>1</td>\n",
       "      <td>MSIQHFRVALIPFFAAFCLPVFAHPETLVKVKDAEDQLGARVGYIE...</td>\n",
       "    </tr>\n",
       "    <tr>\n",
       "      <th>2</th>\n",
       "      <td>15</td>\n",
       "      <td>A15Y</td>\n",
       "      <td>0.823567</td>\n",
       "      <td>1.072459</td>\n",
       "      <td>A</td>\n",
       "      <td>1</td>\n",
       "      <td>MSIQHFRVALIPFFAAFCLPVFAHPETLVKVKDAEDQLGARVGYIE...</td>\n",
       "    </tr>\n",
       "    <tr>\n",
       "      <th>3</th>\n",
       "      <td>182</td>\n",
       "      <td>A182M</td>\n",
       "      <td>0.768011</td>\n",
       "      <td>1.067029</td>\n",
       "      <td>A</td>\n",
       "      <td>1</td>\n",
       "      <td>MSIQHFRVALIPFFAAFCLPVFAHPETLVKVKDAEDQLGARVGYIE...</td>\n",
       "    </tr>\n",
       "    <tr>\n",
       "      <th>4</th>\n",
       "      <td>281</td>\n",
       "      <td>S281F</td>\n",
       "      <td>0.768011</td>\n",
       "      <td>1.067029</td>\n",
       "      <td>S</td>\n",
       "      <td>1</td>\n",
       "      <td>MSIQHFRVALIPFFAAFCLPVFAHPETLVKVKDAEDQLGARVGYIE...</td>\n",
       "    </tr>\n",
       "  </tbody>\n",
       "</table>\n",
       "</div>"
      ],
      "text/plain": [
       "   pos variant  fitness_raw  fitness_norm wt_aa  n_mut  \\\n",
       "0   58    F58N     1.537240      1.142208     F      1   \n",
       "1   19    L19W     1.053720      1.094952     L      1   \n",
       "2   15    A15Y     0.823567      1.072459     A      1   \n",
       "3  182   A182M     0.768011      1.067029     A      1   \n",
       "4  281   S281F     0.768011      1.067029     S      1   \n",
       "\n",
       "                                                 seq  \n",
       "0  MSIQHFRVALIPFFAAFCLPVFAHPETLVKVKDAEDQLGARVGYIE...  \n",
       "1  MSIQHFRVALIPFFAAFCLPVFAHPETLVKVKDAEDQLGARVGYIE...  \n",
       "2  MSIQHFRVALIPFFAAFCLPVFAHPETLVKVKDAEDQLGARVGYIE...  \n",
       "3  MSIQHFRVALIPFFAAFCLPVFAHPETLVKVKDAEDQLGARVGYIE...  \n",
       "4  MSIQHFRVALIPFFAAFCLPVFAHPETLVKVKDAEDQLGARVGYIE...  "
      ]
     },
     "execution_count": 77,
     "metadata": {},
     "output_type": "execute_result"
    }
   ],
   "source": [
    "df_new.head()"
   ]
  },
  {
   "cell_type": "code",
   "execution_count": 78,
   "metadata": {},
   "outputs": [],
   "source": [
    "## sanity check for n mutants\n",
    "for i, row in df_new.iterrows():\n",
    "    variant_seq = row[\"seq\"]\n",
    "    assert len(variant_seq) == len(wt)\n",
    "    n = 0\n",
    "    for a, b in zip(variant_seq, wt):\n",
    "        if a != b:\n",
    "            n += 1\n",
    "    \n",
    "    assert n == row['n_mut']"
   ]
  },
  {
   "cell_type": "code",
   "execution_count": null,
   "metadata": {},
   "outputs": [],
   "source": []
  },
  {
   "cell_type": "markdown",
   "metadata": {},
   "source": [
    "#### Data splits"
   ]
  },
  {
   "cell_type": "code",
   "execution_count": 80,
   "metadata": {},
   "outputs": [
    {
     "data": {
      "text/plain": [
       "(5198, 7)"
      ]
     },
     "execution_count": 80,
     "metadata": {},
     "output_type": "execute_result"
    }
   ],
   "source": [
    "df_new.shape"
   ]
  },
  {
   "cell_type": "code",
   "execution_count": 87,
   "metadata": {},
   "outputs": [],
   "source": [
    "np.random.seed(0)"
   ]
  },
  {
   "cell_type": "code",
   "execution_count": 88,
   "metadata": {},
   "outputs": [],
   "source": [
    "n_folds = 10\n",
    "positions = np.sort(df_new['pos'].unique())\n",
    "blocks = np.array_split(positions, n_folds)\n",
    "\n",
    "assert sum(len(i) for i in blocks) == len(positions)\n",
    "\n",
    "df_new['fold_id'] = -1\n",
    "for i, _pos in enumerate(blocks):\n",
    "    assert (df_new.loc[df_new['pos'].isin(_pos), 'fold_id'] == -1).all()\n",
    "    df_new.loc[df_new['pos'].isin(_pos), 'fold_id'] = i\n",
    "\n",
    "assert ~((df_new['fold_id'] == -1).any())\n",
    "\n",
    "test_fold = [2, 6]\n",
    "val_fold = [8]\n",
    "\n",
    "df_new['split_id'] = -1\n",
    "df_new.loc[df_new['fold_id'].isin(test_fold), 'split_id'] = 0\n",
    "df_new.loc[df_new['fold_id'].isin(val_fold), 'split_id'] = 1\n",
    "df_new.loc[~df_new['fold_id'].isin(test_fold+val_fold), 'split_id'] = 2\n",
    "\n",
    "assert ~((df_new['split_id'] == -1).any())"
   ]
  },
  {
   "cell_type": "code",
   "execution_count": 89,
   "metadata": {},
   "outputs": [
    {
     "data": {
      "text/html": [
       "<div>\n",
       "<style scoped>\n",
       "    .dataframe tbody tr th:only-of-type {\n",
       "        vertical-align: middle;\n",
       "    }\n",
       "\n",
       "    .dataframe tbody tr th {\n",
       "        vertical-align: top;\n",
       "    }\n",
       "\n",
       "    .dataframe thead th {\n",
       "        text-align: right;\n",
       "    }\n",
       "</style>\n",
       "<table border=\"1\" class=\"dataframe\">\n",
       "  <thead>\n",
       "    <tr style=\"text-align: right;\">\n",
       "      <th></th>\n",
       "      <th>pos</th>\n",
       "      <th>variant</th>\n",
       "      <th>fitness_raw</th>\n",
       "      <th>fitness_norm</th>\n",
       "      <th>wt_aa</th>\n",
       "      <th>n_mut</th>\n",
       "      <th>seq</th>\n",
       "      <th>fold_id</th>\n",
       "      <th>split_id</th>\n",
       "    </tr>\n",
       "  </thead>\n",
       "  <tbody>\n",
       "    <tr>\n",
       "      <th>0</th>\n",
       "      <td>58</td>\n",
       "      <td>F58N</td>\n",
       "      <td>1.537240</td>\n",
       "      <td>1.142208</td>\n",
       "      <td>F</td>\n",
       "      <td>1</td>\n",
       "      <td>MSIQHFRVALIPFFAAFCLPVFAHPETLVKVKDAEDQLGARVGYIE...</td>\n",
       "      <td>1</td>\n",
       "      <td>2</td>\n",
       "    </tr>\n",
       "    <tr>\n",
       "      <th>1</th>\n",
       "      <td>19</td>\n",
       "      <td>L19W</td>\n",
       "      <td>1.053720</td>\n",
       "      <td>1.094952</td>\n",
       "      <td>L</td>\n",
       "      <td>1</td>\n",
       "      <td>MSIQHFRVALIPFFAAFCLPVFAHPETLVKVKDAEDQLGARVGYIE...</td>\n",
       "      <td>0</td>\n",
       "      <td>2</td>\n",
       "    </tr>\n",
       "    <tr>\n",
       "      <th>2</th>\n",
       "      <td>15</td>\n",
       "      <td>A15Y</td>\n",
       "      <td>0.823567</td>\n",
       "      <td>1.072459</td>\n",
       "      <td>A</td>\n",
       "      <td>1</td>\n",
       "      <td>MSIQHFRVALIPFFAAFCLPVFAHPETLVKVKDAEDQLGARVGYIE...</td>\n",
       "      <td>0</td>\n",
       "      <td>2</td>\n",
       "    </tr>\n",
       "    <tr>\n",
       "      <th>3</th>\n",
       "      <td>182</td>\n",
       "      <td>A182M</td>\n",
       "      <td>0.768011</td>\n",
       "      <td>1.067029</td>\n",
       "      <td>A</td>\n",
       "      <td>1</td>\n",
       "      <td>MSIQHFRVALIPFFAAFCLPVFAHPETLVKVKDAEDQLGARVGYIE...</td>\n",
       "      <td>6</td>\n",
       "      <td>0</td>\n",
       "    </tr>\n",
       "    <tr>\n",
       "      <th>4</th>\n",
       "      <td>281</td>\n",
       "      <td>S281F</td>\n",
       "      <td>0.768011</td>\n",
       "      <td>1.067029</td>\n",
       "      <td>S</td>\n",
       "      <td>1</td>\n",
       "      <td>MSIQHFRVALIPFFAAFCLPVFAHPETLVKVKDAEDQLGARVGYIE...</td>\n",
       "      <td>9</td>\n",
       "      <td>2</td>\n",
       "    </tr>\n",
       "  </tbody>\n",
       "</table>\n",
       "</div>"
      ],
      "text/plain": [
       "   pos variant  fitness_raw  fitness_norm wt_aa  n_mut  \\\n",
       "0   58    F58N     1.537240      1.142208     F      1   \n",
       "1   19    L19W     1.053720      1.094952     L      1   \n",
       "2   15    A15Y     0.823567      1.072459     A      1   \n",
       "3  182   A182M     0.768011      1.067029     A      1   \n",
       "4  281   S281F     0.768011      1.067029     S      1   \n",
       "\n",
       "                                                 seq  fold_id  split_id  \n",
       "0  MSIQHFRVALIPFFAAFCLPVFAHPETLVKVKDAEDQLGARVGYIE...        1         2  \n",
       "1  MSIQHFRVALIPFFAAFCLPVFAHPETLVKVKDAEDQLGARVGYIE...        0         2  \n",
       "2  MSIQHFRVALIPFFAAFCLPVFAHPETLVKVKDAEDQLGARVGYIE...        0         2  \n",
       "3  MSIQHFRVALIPFFAAFCLPVFAHPETLVKVKDAEDQLGARVGYIE...        6         0  \n",
       "4  MSIQHFRVALIPFFAAFCLPVFAHPETLVKVKDAEDQLGARVGYIE...        9         2  "
      ]
     },
     "execution_count": 89,
     "metadata": {},
     "output_type": "execute_result"
    }
   ],
   "source": [
    "df_new.head()"
   ]
  },
  {
   "cell_type": "code",
   "execution_count": null,
   "metadata": {},
   "outputs": [],
   "source": []
  },
  {
   "cell_type": "code",
   "execution_count": 91,
   "metadata": {},
   "outputs": [],
   "source": [
    "file = os.path.join(data_path, 'dataset_tem1.csv')\n",
    "df_new.to_csv(file, index=False)"
   ]
  },
  {
   "cell_type": "code",
   "execution_count": null,
   "metadata": {},
   "outputs": [],
   "source": []
  },
  {
   "cell_type": "code",
   "execution_count": 95,
   "metadata": {},
   "outputs": [
    {
     "data": {
      "text/plain": [
       "Text(0.5, 1.0, 'Test')"
      ]
     },
     "execution_count": 95,
     "metadata": {},
     "output_type": "execute_result"
    },
    {
     "data": {
      "image/png": "[encoded data removed]",
      "text/plain": [
       "<Figure size 900x300 with 3 Axes>"
      ]
     },
     "metadata": {},
     "output_type": "display_data"
    }
   ],
   "source": [
    "fig, ax = plt.subplots(1, 3, figsize=(9,3), layout='constrained')\n",
    "ax[0].hist(df_new.loc[df_new['split_id']==2, 'fitness_raw'])\n",
    "ax[1].hist(df_new.loc[df_new['split_id']==1, 'fitness_raw'])\n",
    "ax[2].hist(df_new.loc[df_new['split_id']==0, 'fitness_raw'])\n",
    "ax[0].set_xlim(-11,2)\n",
    "ax[1].set_xlim(-11,2)\n",
    "ax[2].set_xlim(-11,2)\n",
    "ax[0].set_title('Train')\n",
    "ax[1].set_title('Val')\n",
    "ax[2].set_title('Test')"
   ]
  },
  {
   "cell_type": "code",
   "execution_count": 98,
   "metadata": {},
   "outputs": [
    {
     "data": {
      "text/plain": [
       "Text(0.5, 1.0, 'Test')"
      ]
     },
     "execution_count": 98,
     "metadata": {},
     "output_type": "execute_result"
    },
    {
     "data": {
      "image/png": "[encoded data removed]",
      "text/plain": [
       "<Figure size 900x300 with 3 Axes>"
      ]
     },
     "metadata": {},
     "output_type": "display_data"
    }
   ],
   "source": [
    "fig, ax = plt.subplots(1, 3, figsize=(9,3), layout='constrained')\n",
    "ax[0].hist(df_new.loc[df_new['split_id']==2, 'fitness_norm'])\n",
    "ax[1].hist(df_new.loc[df_new['split_id']==1, 'fitness_norm'])\n",
    "ax[2].hist(df_new.loc[df_new['split_id']==0, 'fitness_norm'])\n",
    "ax[0].set_xlim(-0.5,1.5)\n",
    "ax[1].set_xlim(-0.5,1.5)\n",
    "ax[2].set_xlim(-0.5,1.5)\n",
    "ax[0].set_title('Train')\n",
    "ax[1].set_title('Val')\n",
    "ax[2].set_title('Test')"
   ]
  },
  {
   "cell_type": "code",
   "execution_count": null,
   "metadata": {},
   "outputs": [],
   "source": []
  }
 ],
 "metadata": {
  "kernelspec": {
   "display_name": "workspace-esm",
   "language": "python",
   "name": "python3"
  },
  "language_info": {
   "codemirror_mode": {
    "name": "ipython",
    "version": 3
   },
   "file_extension": ".py",
   "mimetype": "text/x-python",
   "name": "python",
   "nbconvert_exporter": "python",
   "pygments_lexer": "ipython3",
   "version": "3.10.13"
  }
 },
 "nbformat": 4,
 "nbformat_minor": 2
}
