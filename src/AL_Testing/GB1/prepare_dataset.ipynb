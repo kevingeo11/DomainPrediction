{
 "cells": [
  {
   "cell_type": "code",
   "execution_count": 1,
   "metadata": {},
   "outputs": [],
   "source": [
    "import sys\n",
    "sys.path.append('../..')"
   ]
  },
  {
   "cell_type": "code",
   "execution_count": 2,
   "metadata": {},
   "outputs": [],
   "source": [
    "import os\n",
    "import pickle\n",
    "import pandas as pd\n",
    "import numpy as np\n",
    "import matplotlib.pyplot as plt"
   ]
  },
  {
   "cell_type": "code",
   "execution_count": 3,
   "metadata": {},
   "outputs": [],
   "source": [
    "from DomainPrediction.utils import helper"
   ]
  },
  {
   "cell_type": "code",
   "execution_count": 4,
   "metadata": {},
   "outputs": [],
   "source": [
    "data_path = '../../../Data/al_test_experiments/GB1'"
   ]
  },
  {
   "cell_type": "code",
   "execution_count": 5,
   "metadata": {},
   "outputs": [],
   "source": [
    "df_train = pd.read_pickle(os.path.join(data_path, 'train.pkl'))\n",
    "df_val = pd.read_pickle(os.path.join(data_path, 'valid.pkl'))\n",
    "df_test = pd.read_pickle(os.path.join(data_path, 'test.pkl'))"
   ]
  },
  {
   "cell_type": "code",
   "execution_count": 6,
   "metadata": {},
   "outputs": [
    {
     "data": {
      "text/html": [
       "<div>\n",
       "<style scoped>\n",
       "    .dataframe tbody tr th:only-of-type {\n",
       "        vertical-align: middle;\n",
       "    }\n",
       "\n",
       "    .dataframe tbody tr th {\n",
       "        vertical-align: top;\n",
       "    }\n",
       "\n",
       "    .dataframe thead th {\n",
       "        text-align: right;\n",
       "    }\n",
       "</style>\n",
       "<table border=\"1\" class=\"dataframe\">\n",
       "  <thead>\n",
       "    <tr style=\"text-align: right;\">\n",
       "      <th></th>\n",
       "      <th>primary</th>\n",
       "      <th>gb1_score</th>\n",
       "      <th>gb1_score_extra</th>\n",
       "      <th>gb1_score_str</th>\n",
       "    </tr>\n",
       "  </thead>\n",
       "  <tbody>\n",
       "    <tr>\n",
       "      <th>0</th>\n",
       "      <td>MQYKLILNGKTLKGETTTEAVDAATAEKVFKQYANDNGVDGEWTYD...</td>\n",
       "      <td>1.00</td>\n",
       "      <td>&lt;extra_id_1&gt;&lt;extra_id_20&gt;&lt;extra_id_0&gt;</td>\n",
       "      <td>1.00</td>\n",
       "    </tr>\n",
       "    <tr>\n",
       "      <th>1</th>\n",
       "      <td>MQYKLILNGKTLKGETTTEAVDAATAEKVFKQYANDNGIDGEWTYD...</td>\n",
       "      <td>1.45</td>\n",
       "      <td>&lt;extra_id_1&gt;&lt;extra_id_20&gt;&lt;extra_id_4&gt;&lt;extra_i...</td>\n",
       "      <td>1.45</td>\n",
       "    </tr>\n",
       "    <tr>\n",
       "      <th>2</th>\n",
       "      <td>MQYKLILNGKTLKGETTTEAVDAATAEKVFKQYANDNGLDGEWTYD...</td>\n",
       "      <td>1.69</td>\n",
       "      <td>&lt;extra_id_1&gt;&lt;extra_id_20&gt;&lt;extra_id_6&gt;&lt;extra_i...</td>\n",
       "      <td>1.69</td>\n",
       "    </tr>\n",
       "    <tr>\n",
       "      <th>3</th>\n",
       "      <td>MQYKLILNGKTLKGETTTEAVDAATAEKVFKQYANDNGMDGEWTYD...</td>\n",
       "      <td>1.17</td>\n",
       "      <td>&lt;extra_id_1&gt;&lt;extra_id_20&gt;&lt;extra_id_1&gt;&lt;extra_i...</td>\n",
       "      <td>1.17</td>\n",
       "    </tr>\n",
       "    <tr>\n",
       "      <th>4</th>\n",
       "      <td>MQYKLILNGKTLKGETTTEAVDAATAEKVFKQYANDNGVAGEWTYD...</td>\n",
       "      <td>2.40</td>\n",
       "      <td>&lt;extra_id_2&gt;&lt;extra_id_20&gt;&lt;extra_id_4&gt;</td>\n",
       "      <td>2.40</td>\n",
       "    </tr>\n",
       "  </tbody>\n",
       "</table>\n",
       "</div>"
      ],
      "text/plain": [
       "                                             primary  gb1_score  \\\n",
       "0  MQYKLILNGKTLKGETTTEAVDAATAEKVFKQYANDNGVDGEWTYD...       1.00   \n",
       "1  MQYKLILNGKTLKGETTTEAVDAATAEKVFKQYANDNGIDGEWTYD...       1.45   \n",
       "2  MQYKLILNGKTLKGETTTEAVDAATAEKVFKQYANDNGLDGEWTYD...       1.69   \n",
       "3  MQYKLILNGKTLKGETTTEAVDAATAEKVFKQYANDNGMDGEWTYD...       1.17   \n",
       "4  MQYKLILNGKTLKGETTTEAVDAATAEKVFKQYANDNGVAGEWTYD...       2.40   \n",
       "\n",
       "                                     gb1_score_extra gb1_score_str  \n",
       "0              <extra_id_1><extra_id_20><extra_id_0>          1.00  \n",
       "1   <extra_id_1><extra_id_20><extra_id_4><extra_i...          1.45  \n",
       "2   <extra_id_1><extra_id_20><extra_id_6><extra_i...          1.69  \n",
       "3   <extra_id_1><extra_id_20><extra_id_1><extra_i...          1.17  \n",
       "4              <extra_id_2><extra_id_20><extra_id_4>          2.40  "
      ]
     },
     "execution_count": 6,
     "metadata": {},
     "output_type": "execute_result"
    }
   ],
   "source": [
    "df_train.head()"
   ]
  },
  {
   "cell_type": "code",
   "execution_count": 7,
   "metadata": {},
   "outputs": [],
   "source": [
    "wt = helper.read_fasta(os.path.join(data_path, 'GB1_WT.fasta'), mode='str')[0]"
   ]
  },
  {
   "cell_type": "code",
   "execution_count": 8,
   "metadata": {},
   "outputs": [],
   "source": [
    "## sanity check againts wildtype len\n",
    "for _df in [df_train, df_val, df_test]:\n",
    "    for i, row in _df.iterrows():\n",
    "        assert len(wt) == len(row['primary'])"
   ]
  },
  {
   "cell_type": "code",
   "execution_count": 9,
   "metadata": {},
   "outputs": [],
   "source": [
    "df_train['split_id'] = 2\n",
    "df_val['split_id'] = 1\n",
    "df_test['split_id'] = 0"
   ]
  },
  {
   "cell_type": "code",
   "execution_count": 10,
   "metadata": {},
   "outputs": [],
   "source": [
    "df = pd.concat([df_train, df_val, df_test]).reset_index(drop=True)"
   ]
  },
  {
   "cell_type": "code",
   "execution_count": 11,
   "metadata": {},
   "outputs": [
    {
     "data": {
      "text/html": [
       "<div>\n",
       "<style scoped>\n",
       "    .dataframe tbody tr th:only-of-type {\n",
       "        vertical-align: middle;\n",
       "    }\n",
       "\n",
       "    .dataframe tbody tr th {\n",
       "        vertical-align: top;\n",
       "    }\n",
       "\n",
       "    .dataframe thead th {\n",
       "        text-align: right;\n",
       "    }\n",
       "</style>\n",
       "<table border=\"1\" class=\"dataframe\">\n",
       "  <thead>\n",
       "    <tr style=\"text-align: right;\">\n",
       "      <th></th>\n",
       "      <th>primary</th>\n",
       "      <th>gb1_score</th>\n",
       "      <th>gb1_score_extra</th>\n",
       "      <th>gb1_score_str</th>\n",
       "      <th>split_id</th>\n",
       "    </tr>\n",
       "  </thead>\n",
       "  <tbody>\n",
       "    <tr>\n",
       "      <th>0</th>\n",
       "      <td>MQYKLILNGKTLKGETTTEAVDAATAEKVFKQYANDNGVDGEWTYD...</td>\n",
       "      <td>1.00</td>\n",
       "      <td>&lt;extra_id_1&gt;&lt;extra_id_20&gt;&lt;extra_id_0&gt;</td>\n",
       "      <td>1.00</td>\n",
       "      <td>2</td>\n",
       "    </tr>\n",
       "    <tr>\n",
       "      <th>1</th>\n",
       "      <td>MQYKLILNGKTLKGETTTEAVDAATAEKVFKQYANDNGIDGEWTYD...</td>\n",
       "      <td>1.45</td>\n",
       "      <td>&lt;extra_id_1&gt;&lt;extra_id_20&gt;&lt;extra_id_4&gt;&lt;extra_i...</td>\n",
       "      <td>1.45</td>\n",
       "      <td>2</td>\n",
       "    </tr>\n",
       "    <tr>\n",
       "      <th>2</th>\n",
       "      <td>MQYKLILNGKTLKGETTTEAVDAATAEKVFKQYANDNGLDGEWTYD...</td>\n",
       "      <td>1.69</td>\n",
       "      <td>&lt;extra_id_1&gt;&lt;extra_id_20&gt;&lt;extra_id_6&gt;&lt;extra_i...</td>\n",
       "      <td>1.69</td>\n",
       "      <td>2</td>\n",
       "    </tr>\n",
       "    <tr>\n",
       "      <th>3</th>\n",
       "      <td>MQYKLILNGKTLKGETTTEAVDAATAEKVFKQYANDNGMDGEWTYD...</td>\n",
       "      <td>1.17</td>\n",
       "      <td>&lt;extra_id_1&gt;&lt;extra_id_20&gt;&lt;extra_id_1&gt;&lt;extra_i...</td>\n",
       "      <td>1.17</td>\n",
       "      <td>2</td>\n",
       "    </tr>\n",
       "    <tr>\n",
       "      <th>4</th>\n",
       "      <td>MQYKLILNGKTLKGETTTEAVDAATAEKVFKQYANDNGVAGEWTYD...</td>\n",
       "      <td>2.40</td>\n",
       "      <td>&lt;extra_id_2&gt;&lt;extra_id_20&gt;&lt;extra_id_4&gt;</td>\n",
       "      <td>2.40</td>\n",
       "      <td>2</td>\n",
       "    </tr>\n",
       "  </tbody>\n",
       "</table>\n",
       "</div>"
      ],
      "text/plain": [
       "                                             primary  gb1_score  \\\n",
       "0  MQYKLILNGKTLKGETTTEAVDAATAEKVFKQYANDNGVDGEWTYD...       1.00   \n",
       "1  MQYKLILNGKTLKGETTTEAVDAATAEKVFKQYANDNGIDGEWTYD...       1.45   \n",
       "2  MQYKLILNGKTLKGETTTEAVDAATAEKVFKQYANDNGLDGEWTYD...       1.69   \n",
       "3  MQYKLILNGKTLKGETTTEAVDAATAEKVFKQYANDNGMDGEWTYD...       1.17   \n",
       "4  MQYKLILNGKTLKGETTTEAVDAATAEKVFKQYANDNGVAGEWTYD...       2.40   \n",
       "\n",
       "                                     gb1_score_extra gb1_score_str  split_id  \n",
       "0              <extra_id_1><extra_id_20><extra_id_0>          1.00         2  \n",
       "1   <extra_id_1><extra_id_20><extra_id_4><extra_i...          1.45         2  \n",
       "2   <extra_id_1><extra_id_20><extra_id_6><extra_i...          1.69         2  \n",
       "3   <extra_id_1><extra_id_20><extra_id_1><extra_i...          1.17         2  \n",
       "4              <extra_id_2><extra_id_20><extra_id_4>          2.40         2  "
      ]
     },
     "execution_count": 11,
     "metadata": {},
     "output_type": "execute_result"
    }
   ],
   "source": [
    "df.head()"
   ]
  },
  {
   "cell_type": "code",
   "execution_count": 12,
   "metadata": {},
   "outputs": [],
   "source": [
    "df_new = df[['primary', 'gb1_score', 'split_id']].copy()\n",
    "df_new.columns = ['seq', 'fitness_raw', 'split_id']"
   ]
  },
  {
   "cell_type": "code",
   "execution_count": 13,
   "metadata": {},
   "outputs": [
    {
     "data": {
      "text/html": [
       "<div>\n",
       "<style scoped>\n",
       "    .dataframe tbody tr th:only-of-type {\n",
       "        vertical-align: middle;\n",
       "    }\n",
       "\n",
       "    .dataframe tbody tr th {\n",
       "        vertical-align: top;\n",
       "    }\n",
       "\n",
       "    .dataframe thead th {\n",
       "        text-align: right;\n",
       "    }\n",
       "</style>\n",
       "<table border=\"1\" class=\"dataframe\">\n",
       "  <thead>\n",
       "    <tr style=\"text-align: right;\">\n",
       "      <th></th>\n",
       "      <th>seq</th>\n",
       "      <th>fitness_raw</th>\n",
       "      <th>split_id</th>\n",
       "    </tr>\n",
       "  </thead>\n",
       "  <tbody>\n",
       "    <tr>\n",
       "      <th>0</th>\n",
       "      <td>MQYKLILNGKTLKGETTTEAVDAATAEKVFKQYANDNGVDGEWTYD...</td>\n",
       "      <td>1.00</td>\n",
       "      <td>2</td>\n",
       "    </tr>\n",
       "    <tr>\n",
       "      <th>1</th>\n",
       "      <td>MQYKLILNGKTLKGETTTEAVDAATAEKVFKQYANDNGIDGEWTYD...</td>\n",
       "      <td>1.45</td>\n",
       "      <td>2</td>\n",
       "    </tr>\n",
       "    <tr>\n",
       "      <th>2</th>\n",
       "      <td>MQYKLILNGKTLKGETTTEAVDAATAEKVFKQYANDNGLDGEWTYD...</td>\n",
       "      <td>1.69</td>\n",
       "      <td>2</td>\n",
       "    </tr>\n",
       "    <tr>\n",
       "      <th>3</th>\n",
       "      <td>MQYKLILNGKTLKGETTTEAVDAATAEKVFKQYANDNGMDGEWTYD...</td>\n",
       "      <td>1.17</td>\n",
       "      <td>2</td>\n",
       "    </tr>\n",
       "    <tr>\n",
       "      <th>4</th>\n",
       "      <td>MQYKLILNGKTLKGETTTEAVDAATAEKVFKQYANDNGVAGEWTYD...</td>\n",
       "      <td>2.40</td>\n",
       "      <td>2</td>\n",
       "    </tr>\n",
       "  </tbody>\n",
       "</table>\n",
       "</div>"
      ],
      "text/plain": [
       "                                                 seq  fitness_raw  split_id\n",
       "0  MQYKLILNGKTLKGETTTEAVDAATAEKVFKQYANDNGVDGEWTYD...         1.00         2\n",
       "1  MQYKLILNGKTLKGETTTEAVDAATAEKVFKQYANDNGIDGEWTYD...         1.45         2\n",
       "2  MQYKLILNGKTLKGETTTEAVDAATAEKVFKQYANDNGLDGEWTYD...         1.69         2\n",
       "3  MQYKLILNGKTLKGETTTEAVDAATAEKVFKQYANDNGMDGEWTYD...         1.17         2\n",
       "4  MQYKLILNGKTLKGETTTEAVDAATAEKVFKQYANDNGVAGEWTYD...         2.40         2"
      ]
     },
     "execution_count": 13,
     "metadata": {},
     "output_type": "execute_result"
    }
   ],
   "source": [
    "df_new.head()"
   ]
  },
  {
   "cell_type": "code",
   "execution_count": 14,
   "metadata": {},
   "outputs": [],
   "source": [
    "n_muts = []\n",
    "for i, row in df_new.iterrows():\n",
    "    variant_seq = row[\"seq\"]\n",
    "    assert len(variant_seq) == len(wt)\n",
    "    n = 0\n",
    "    for a, b in zip(variant_seq, wt):\n",
    "        if a != b:\n",
    "            n += 1\n",
    "    \n",
    "    n_muts.append(n)\n",
    "\n",
    "df_new['n_mut'] = n_muts"
   ]
  },
  {
   "cell_type": "code",
   "execution_count": 15,
   "metadata": {},
   "outputs": [
    {
     "data": {
      "text/html": [
       "<div>\n",
       "<style scoped>\n",
       "    .dataframe tbody tr th:only-of-type {\n",
       "        vertical-align: middle;\n",
       "    }\n",
       "\n",
       "    .dataframe tbody tr th {\n",
       "        vertical-align: top;\n",
       "    }\n",
       "\n",
       "    .dataframe thead th {\n",
       "        text-align: right;\n",
       "    }\n",
       "</style>\n",
       "<table border=\"1\" class=\"dataframe\">\n",
       "  <thead>\n",
       "    <tr style=\"text-align: right;\">\n",
       "      <th></th>\n",
       "      <th>seq</th>\n",
       "      <th>fitness_raw</th>\n",
       "      <th>split_id</th>\n",
       "      <th>n_mut</th>\n",
       "    </tr>\n",
       "  </thead>\n",
       "  <tbody>\n",
       "    <tr>\n",
       "      <th>0</th>\n",
       "      <td>MQYKLILNGKTLKGETTTEAVDAATAEKVFKQYANDNGVDGEWTYD...</td>\n",
       "      <td>1.00</td>\n",
       "      <td>2</td>\n",
       "      <td>0</td>\n",
       "    </tr>\n",
       "    <tr>\n",
       "      <th>1</th>\n",
       "      <td>MQYKLILNGKTLKGETTTEAVDAATAEKVFKQYANDNGIDGEWTYD...</td>\n",
       "      <td>1.45</td>\n",
       "      <td>2</td>\n",
       "      <td>1</td>\n",
       "    </tr>\n",
       "    <tr>\n",
       "      <th>2</th>\n",
       "      <td>MQYKLILNGKTLKGETTTEAVDAATAEKVFKQYANDNGLDGEWTYD...</td>\n",
       "      <td>1.69</td>\n",
       "      <td>2</td>\n",
       "      <td>1</td>\n",
       "    </tr>\n",
       "    <tr>\n",
       "      <th>3</th>\n",
       "      <td>MQYKLILNGKTLKGETTTEAVDAATAEKVFKQYANDNGMDGEWTYD...</td>\n",
       "      <td>1.17</td>\n",
       "      <td>2</td>\n",
       "      <td>1</td>\n",
       "    </tr>\n",
       "    <tr>\n",
       "      <th>4</th>\n",
       "      <td>MQYKLILNGKTLKGETTTEAVDAATAEKVFKQYANDNGVAGEWTYD...</td>\n",
       "      <td>2.40</td>\n",
       "      <td>2</td>\n",
       "      <td>1</td>\n",
       "    </tr>\n",
       "  </tbody>\n",
       "</table>\n",
       "</div>"
      ],
      "text/plain": [
       "                                                 seq  fitness_raw  split_id  \\\n",
       "0  MQYKLILNGKTLKGETTTEAVDAATAEKVFKQYANDNGVDGEWTYD...         1.00         2   \n",
       "1  MQYKLILNGKTLKGETTTEAVDAATAEKVFKQYANDNGIDGEWTYD...         1.45         2   \n",
       "2  MQYKLILNGKTLKGETTTEAVDAATAEKVFKQYANDNGLDGEWTYD...         1.69         2   \n",
       "3  MQYKLILNGKTLKGETTTEAVDAATAEKVFKQYANDNGMDGEWTYD...         1.17         2   \n",
       "4  MQYKLILNGKTLKGETTTEAVDAATAEKVFKQYANDNGVAGEWTYD...         2.40         2   \n",
       "\n",
       "   n_mut  \n",
       "0      0  \n",
       "1      1  \n",
       "2      1  \n",
       "3      1  \n",
       "4      1  "
      ]
     },
     "execution_count": 15,
     "metadata": {},
     "output_type": "execute_result"
    }
   ],
   "source": [
    "df_new.head()"
   ]
  },
  {
   "cell_type": "code",
   "execution_count": 16,
   "metadata": {},
   "outputs": [
    {
     "data": {
      "text/plain": [
       "array([0, 1, 2, 3, 4])"
      ]
     },
     "execution_count": 16,
     "metadata": {},
     "output_type": "execute_result"
    }
   ],
   "source": [
    "df_new['n_mut'].unique()"
   ]
  },
  {
   "cell_type": "code",
   "execution_count": 17,
   "metadata": {},
   "outputs": [],
   "source": [
    "from collections import Counter"
   ]
  },
  {
   "cell_type": "code",
   "execution_count": 18,
   "metadata": {},
   "outputs": [
    {
     "name": "stdout",
     "output_type": "stream",
     "text": [
      "n mutation for split 2: [0 1 2 3]\n",
      "Counter({3: 2307, 2: 360, 1: 23, 0: 1})\n",
      "n mutation for split 1: [1 2 3]\n",
      "Counter({3: 259, 2: 36, 1: 4})\n",
      "n mutation for split 0: [4]\n",
      "Counter({4: 5743})\n"
     ]
    }
   ],
   "source": [
    "for split in df_new['split_id'].unique():\n",
    "    temp = df_new.loc[df_new['split_id']==split, 'n_mut'].unique()\n",
    "    print(f'n mutation for split {split}: {temp}')\n",
    "    print(Counter(df_new.loc[df_new['split_id']==split, 'n_mut']))"
   ]
  },
  {
   "cell_type": "code",
   "execution_count": 19,
   "metadata": {},
   "outputs": [],
   "source": [
    "temp = []\n",
    "for x in df_new['fitness_raw']:\n",
    "    if x == 0:\n",
    "        temp.append(1e-6)\n",
    "    else:\n",
    "        temp.append(x)"
   ]
  },
  {
   "cell_type": "code",
   "execution_count": 20,
   "metadata": {},
   "outputs": [],
   "source": [
    "df_new['fitness_log'] = np.log(temp)"
   ]
  },
  {
   "cell_type": "code",
   "execution_count": null,
   "metadata": {},
   "outputs": [],
   "source": []
  },
  {
   "cell_type": "code",
   "execution_count": 21,
   "metadata": {},
   "outputs": [],
   "source": [
    "file = os.path.join(data_path, 'dataset_gb1.csv')\n",
    "df_new.to_csv(file, index=False)"
   ]
  },
  {
   "cell_type": "code",
   "execution_count": null,
   "metadata": {},
   "outputs": [],
   "source": []
  },
  {
   "cell_type": "code",
   "execution_count": null,
   "metadata": {},
   "outputs": [],
   "source": [
    "file = os.path.join(data_path, 'dataset_gb1.csv')\n",
    "df_new = pd.read_csv(file)"
   ]
  },
  {
   "cell_type": "code",
   "execution_count": null,
   "metadata": {},
   "outputs": [],
   "source": [
    "fig, ax = plt.subplots(1, 3, figsize=(9,3), layout='constrained')\n",
    "ax[0].hist(df_new.loc[df_new['split_id']==2, 'fitness_raw'])\n",
    "ax[1].hist(df_new.loc[df_new['split_id']==1, 'fitness_raw'])\n",
    "ax[2].hist(df_new.loc[df_new['split_id']==0, 'fitness_raw'])\n",
    "ax[0].set_title('Train')\n",
    "ax[1].set_title('Val')\n",
    "ax[2].set_title('Test')"
   ]
  },
  {
   "cell_type": "code",
   "execution_count": null,
   "metadata": {},
   "outputs": [],
   "source": [
    "fig, ax = plt.subplots(1, 3, figsize=(9,3), layout='constrained')\n",
    "ax[0].hist(df_new.loc[df_new['split_id']==2, 'fitness_log'])\n",
    "ax[1].hist(df_new.loc[df_new['split_id']==1, 'fitness_log'])\n",
    "ax[2].hist(df_new.loc[df_new['split_id']==0, 'fitness_log'])\n",
    "ax[0].set_title('Train')\n",
    "ax[1].set_title('Val')\n",
    "ax[2].set_title('Test')"
   ]
  },
  {
   "cell_type": "code",
   "execution_count": null,
   "metadata": {},
   "outputs": [],
   "source": [
    "df_new['n_mut'].unique()"
   ]
  },
  {
   "cell_type": "code",
   "execution_count": null,
   "metadata": {},
   "outputs": [],
   "source": [
    "df_new[df_new['n_mut']==0]"
   ]
  },
  {
   "cell_type": "code",
   "execution_count": null,
   "metadata": {},
   "outputs": [],
   "source": [
    "fig, ax = plt.subplots(1, 4, figsize=(12,3), layout='constrained')\n",
    "for i, n_mut in enumerate([1, 2, 3, 4]):\n",
    "    ax[i].hist(df_new.loc[df_new['n_mut']==n_mut, 'fitness_raw'])\n",
    "    ax[i].set_title(f'n mut {n_mut}')\n",
    "    ax[i].set_xlim(left=0)"
   ]
  },
  {
   "cell_type": "code",
   "execution_count": null,
   "metadata": {},
   "outputs": [],
   "source": [
    "fig, ax = plt.subplots(1, 4, figsize=(12,3), layout='constrained')\n",
    "for i, n_mut in enumerate([1, 2, 3, 4]):\n",
    "    ax[i].hist(df_new.loc[df_new['n_mut']==n_mut, 'fitness_log'])\n",
    "    ax[i].set_title(f'n mut {n_mut}')"
   ]
  },
  {
   "cell_type": "code",
   "execution_count": null,
   "metadata": {},
   "outputs": [],
   "source": []
  }
 ],
 "metadata": {
  "kernelspec": {
   "display_name": "workspace-esm",
   "language": "python",
   "name": "python3"
  },
  "language_info": {
   "codemirror_mode": {
    "name": "ipython",
    "version": 3
   },
   "file_extension": ".py",
   "mimetype": "text/x-python",
   "name": "python",
   "nbconvert_exporter": "python",
   "pygments_lexer": "ipython3",
   "version": "3.10.13"
  }
 },
 "nbformat": 4,
 "nbformat_minor": 2
}
