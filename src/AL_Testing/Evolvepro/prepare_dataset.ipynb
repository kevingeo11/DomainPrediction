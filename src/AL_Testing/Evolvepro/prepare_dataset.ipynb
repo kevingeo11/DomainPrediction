{
 "cells": [
  {
   "cell_type": "code",
   "execution_count": 1,
   "metadata": {},
   "outputs": [],
   "source": [
    "import sys\n",
    "sys.path.append('../..')"
   ]
  },
  {
   "cell_type": "code",
   "execution_count": 2,
   "metadata": {},
   "outputs": [],
   "source": [
    "import os\n",
    "import pandas as pd\n",
    "import numpy as np\n",
    "import matplotlib.pyplot as plt"
   ]
  },
  {
   "cell_type": "code",
   "execution_count": 3,
   "metadata": {},
   "outputs": [],
   "source": [
    "from DomainPrediction.utils import helper"
   ]
  },
  {
   "cell_type": "code",
   "execution_count": 4,
   "metadata": {},
   "outputs": [],
   "source": [
    "data_path = '../../../Data/al_test_experiments/Evolvepro'"
   ]
  },
  {
   "cell_type": "code",
   "execution_count": 5,
   "metadata": {},
   "outputs": [],
   "source": [
    "file = os.path.join(data_path, 'brenan.csv')\n",
    "df = pd.read_csv(file)"
   ]
  },
  {
   "cell_type": "code",
   "execution_count": 6,
   "metadata": {},
   "outputs": [
    {
     "data": {
      "text/html": [
       "<div>\n",
       "<style scoped>\n",
       "    .dataframe tbody tr th:only-of-type {\n",
       "        vertical-align: middle;\n",
       "    }\n",
       "\n",
       "    .dataframe tbody tr th {\n",
       "        vertical-align: top;\n",
       "    }\n",
       "\n",
       "    .dataframe thead th {\n",
       "        text-align: right;\n",
       "    }\n",
       "</style>\n",
       "<table border=\"1\" class=\"dataframe\">\n",
       "  <thead>\n",
       "    <tr style=\"text-align: right;\">\n",
       "      <th></th>\n",
       "      <th>pos</th>\n",
       "      <th>mutant</th>\n",
       "      <th>seq</th>\n",
       "      <th>function</th>\n",
       "      <th>function_scaled</th>\n",
       "    </tr>\n",
       "  </thead>\n",
       "  <tbody>\n",
       "    <tr>\n",
       "      <th>0</th>\n",
       "      <td>2</td>\n",
       "      <td>A2C</td>\n",
       "      <td>MCAAAAAGAGPEMVRGQVFDVGPRYTNLSYIGEGAYGMVCSAYDNV...</td>\n",
       "      <td>-4.176315</td>\n",
       "      <td>0.265834</td>\n",
       "    </tr>\n",
       "    <tr>\n",
       "      <th>1</th>\n",
       "      <td>2</td>\n",
       "      <td>A2D</td>\n",
       "      <td>MDAAAAAGAGPEMVRGQVFDVGPRYTNLSYIGEGAYGMVCSAYDNV...</td>\n",
       "      <td>-1.918793</td>\n",
       "      <td>0.397712</td>\n",
       "    </tr>\n",
       "    <tr>\n",
       "      <th>2</th>\n",
       "      <td>2</td>\n",
       "      <td>A2E</td>\n",
       "      <td>MEAAAAAGAGPEMVRGQVFDVGPRYTNLSYIGEGAYGMVCSAYDNV...</td>\n",
       "      <td>-3.165665</td>\n",
       "      <td>0.324874</td>\n",
       "    </tr>\n",
       "    <tr>\n",
       "      <th>3</th>\n",
       "      <td>2</td>\n",
       "      <td>A2F</td>\n",
       "      <td>MFAAAAAGAGPEMVRGQVFDVGPRYTNLSYIGEGAYGMVCSAYDNV...</td>\n",
       "      <td>-6.126452</td>\n",
       "      <td>0.151913</td>\n",
       "    </tr>\n",
       "    <tr>\n",
       "      <th>4</th>\n",
       "      <td>2</td>\n",
       "      <td>A2G</td>\n",
       "      <td>MGAAAAAGAGPEMVRGQVFDVGPRYTNLSYIGEGAYGMVCSAYDNV...</td>\n",
       "      <td>-4.255602</td>\n",
       "      <td>0.261203</td>\n",
       "    </tr>\n",
       "  </tbody>\n",
       "</table>\n",
       "</div>"
      ],
      "text/plain": [
       "   pos mutant                                                seq  function  \\\n",
       "0    2    A2C  MCAAAAAGAGPEMVRGQVFDVGPRYTNLSYIGEGAYGMVCSAYDNV... -4.176315   \n",
       "1    2    A2D  MDAAAAAGAGPEMVRGQVFDVGPRYTNLSYIGEGAYGMVCSAYDNV... -1.918793   \n",
       "2    2    A2E  MEAAAAAGAGPEMVRGQVFDVGPRYTNLSYIGEGAYGMVCSAYDNV... -3.165665   \n",
       "3    2    A2F  MFAAAAAGAGPEMVRGQVFDVGPRYTNLSYIGEGAYGMVCSAYDNV... -6.126452   \n",
       "4    2    A2G  MGAAAAAGAGPEMVRGQVFDVGPRYTNLSYIGEGAYGMVCSAYDNV... -4.255602   \n",
       "\n",
       "   function_scaled  \n",
       "0         0.265834  \n",
       "1         0.397712  \n",
       "2         0.324874  \n",
       "3         0.151913  \n",
       "4         0.261203  "
      ]
     },
     "execution_count": 6,
     "metadata": {},
     "output_type": "execute_result"
    }
   ],
   "source": [
    "df.head()"
   ]
  },
  {
   "cell_type": "code",
   "execution_count": 7,
   "metadata": {},
   "outputs": [],
   "source": [
    "wt = helper.read_fasta(os.path.join(data_path, 'brenan_WT.fasta'), mode='str')[0]"
   ]
  },
  {
   "cell_type": "code",
   "execution_count": 8,
   "metadata": {},
   "outputs": [],
   "source": [
    "## sanity check againts wlldtype\n",
    "for i, row in df.iterrows():\n",
    "    pos = row[\"pos\"]\n",
    "    assert wt[pos-1] == row['mutant'][0]"
   ]
  },
  {
   "cell_type": "code",
   "execution_count": 9,
   "metadata": {},
   "outputs": [],
   "source": [
    "df_new = df.copy()\n",
    "df_new.columns = ['pos', 'variant', 'seq', 'fitness_raw', 'fitness_norm']"
   ]
  },
  {
   "cell_type": "code",
   "execution_count": 10,
   "metadata": {},
   "outputs": [
    {
     "data": {
      "text/html": [
       "<div>\n",
       "<style scoped>\n",
       "    .dataframe tbody tr th:only-of-type {\n",
       "        vertical-align: middle;\n",
       "    }\n",
       "\n",
       "    .dataframe tbody tr th {\n",
       "        vertical-align: top;\n",
       "    }\n",
       "\n",
       "    .dataframe thead th {\n",
       "        text-align: right;\n",
       "    }\n",
       "</style>\n",
       "<table border=\"1\" class=\"dataframe\">\n",
       "  <thead>\n",
       "    <tr style=\"text-align: right;\">\n",
       "      <th></th>\n",
       "      <th>pos</th>\n",
       "      <th>variant</th>\n",
       "      <th>seq</th>\n",
       "      <th>fitness_raw</th>\n",
       "      <th>fitness_norm</th>\n",
       "    </tr>\n",
       "  </thead>\n",
       "  <tbody>\n",
       "    <tr>\n",
       "      <th>0</th>\n",
       "      <td>2</td>\n",
       "      <td>A2C</td>\n",
       "      <td>MCAAAAAGAGPEMVRGQVFDVGPRYTNLSYIGEGAYGMVCSAYDNV...</td>\n",
       "      <td>-4.176315</td>\n",
       "      <td>0.265834</td>\n",
       "    </tr>\n",
       "    <tr>\n",
       "      <th>1</th>\n",
       "      <td>2</td>\n",
       "      <td>A2D</td>\n",
       "      <td>MDAAAAAGAGPEMVRGQVFDVGPRYTNLSYIGEGAYGMVCSAYDNV...</td>\n",
       "      <td>-1.918793</td>\n",
       "      <td>0.397712</td>\n",
       "    </tr>\n",
       "    <tr>\n",
       "      <th>2</th>\n",
       "      <td>2</td>\n",
       "      <td>A2E</td>\n",
       "      <td>MEAAAAAGAGPEMVRGQVFDVGPRYTNLSYIGEGAYGMVCSAYDNV...</td>\n",
       "      <td>-3.165665</td>\n",
       "      <td>0.324874</td>\n",
       "    </tr>\n",
       "    <tr>\n",
       "      <th>3</th>\n",
       "      <td>2</td>\n",
       "      <td>A2F</td>\n",
       "      <td>MFAAAAAGAGPEMVRGQVFDVGPRYTNLSYIGEGAYGMVCSAYDNV...</td>\n",
       "      <td>-6.126452</td>\n",
       "      <td>0.151913</td>\n",
       "    </tr>\n",
       "    <tr>\n",
       "      <th>4</th>\n",
       "      <td>2</td>\n",
       "      <td>A2G</td>\n",
       "      <td>MGAAAAAGAGPEMVRGQVFDVGPRYTNLSYIGEGAYGMVCSAYDNV...</td>\n",
       "      <td>-4.255602</td>\n",
       "      <td>0.261203</td>\n",
       "    </tr>\n",
       "  </tbody>\n",
       "</table>\n",
       "</div>"
      ],
      "text/plain": [
       "   pos variant                                                seq  \\\n",
       "0    2     A2C  MCAAAAAGAGPEMVRGQVFDVGPRYTNLSYIGEGAYGMVCSAYDNV...   \n",
       "1    2     A2D  MDAAAAAGAGPEMVRGQVFDVGPRYTNLSYIGEGAYGMVCSAYDNV...   \n",
       "2    2     A2E  MEAAAAAGAGPEMVRGQVFDVGPRYTNLSYIGEGAYGMVCSAYDNV...   \n",
       "3    2     A2F  MFAAAAAGAGPEMVRGQVFDVGPRYTNLSYIGEGAYGMVCSAYDNV...   \n",
       "4    2     A2G  MGAAAAAGAGPEMVRGQVFDVGPRYTNLSYIGEGAYGMVCSAYDNV...   \n",
       "\n",
       "   fitness_raw  fitness_norm  \n",
       "0    -4.176315      0.265834  \n",
       "1    -1.918793      0.397712  \n",
       "2    -3.165665      0.324874  \n",
       "3    -6.126452      0.151913  \n",
       "4    -4.255602      0.261203  "
      ]
     },
     "execution_count": 10,
     "metadata": {},
     "output_type": "execute_result"
    }
   ],
   "source": [
    "df_new.head()"
   ]
  },
  {
   "cell_type": "code",
   "execution_count": 11,
   "metadata": {},
   "outputs": [],
   "source": [
    "df_new['wt_aa'] = df_new['variant'].apply(lambda x: x[0])\n",
    "df_new['n_mut'] = 1"
   ]
  },
  {
   "cell_type": "code",
   "execution_count": 12,
   "metadata": {},
   "outputs": [
    {
     "data": {
      "text/html": [
       "<div>\n",
       "<style scoped>\n",
       "    .dataframe tbody tr th:only-of-type {\n",
       "        vertical-align: middle;\n",
       "    }\n",
       "\n",
       "    .dataframe tbody tr th {\n",
       "        vertical-align: top;\n",
       "    }\n",
       "\n",
       "    .dataframe thead th {\n",
       "        text-align: right;\n",
       "    }\n",
       "</style>\n",
       "<table border=\"1\" class=\"dataframe\">\n",
       "  <thead>\n",
       "    <tr style=\"text-align: right;\">\n",
       "      <th></th>\n",
       "      <th>pos</th>\n",
       "      <th>variant</th>\n",
       "      <th>seq</th>\n",
       "      <th>fitness_raw</th>\n",
       "      <th>fitness_norm</th>\n",
       "      <th>wt_aa</th>\n",
       "      <th>n_mut</th>\n",
       "    </tr>\n",
       "  </thead>\n",
       "  <tbody>\n",
       "    <tr>\n",
       "      <th>0</th>\n",
       "      <td>2</td>\n",
       "      <td>A2C</td>\n",
       "      <td>MCAAAAAGAGPEMVRGQVFDVGPRYTNLSYIGEGAYGMVCSAYDNV...</td>\n",
       "      <td>-4.176315</td>\n",
       "      <td>0.265834</td>\n",
       "      <td>A</td>\n",
       "      <td>1</td>\n",
       "    </tr>\n",
       "    <tr>\n",
       "      <th>1</th>\n",
       "      <td>2</td>\n",
       "      <td>A2D</td>\n",
       "      <td>MDAAAAAGAGPEMVRGQVFDVGPRYTNLSYIGEGAYGMVCSAYDNV...</td>\n",
       "      <td>-1.918793</td>\n",
       "      <td>0.397712</td>\n",
       "      <td>A</td>\n",
       "      <td>1</td>\n",
       "    </tr>\n",
       "    <tr>\n",
       "      <th>2</th>\n",
       "      <td>2</td>\n",
       "      <td>A2E</td>\n",
       "      <td>MEAAAAAGAGPEMVRGQVFDVGPRYTNLSYIGEGAYGMVCSAYDNV...</td>\n",
       "      <td>-3.165665</td>\n",
       "      <td>0.324874</td>\n",
       "      <td>A</td>\n",
       "      <td>1</td>\n",
       "    </tr>\n",
       "    <tr>\n",
       "      <th>3</th>\n",
       "      <td>2</td>\n",
       "      <td>A2F</td>\n",
       "      <td>MFAAAAAGAGPEMVRGQVFDVGPRYTNLSYIGEGAYGMVCSAYDNV...</td>\n",
       "      <td>-6.126452</td>\n",
       "      <td>0.151913</td>\n",
       "      <td>A</td>\n",
       "      <td>1</td>\n",
       "    </tr>\n",
       "    <tr>\n",
       "      <th>4</th>\n",
       "      <td>2</td>\n",
       "      <td>A2G</td>\n",
       "      <td>MGAAAAAGAGPEMVRGQVFDVGPRYTNLSYIGEGAYGMVCSAYDNV...</td>\n",
       "      <td>-4.255602</td>\n",
       "      <td>0.261203</td>\n",
       "      <td>A</td>\n",
       "      <td>1</td>\n",
       "    </tr>\n",
       "  </tbody>\n",
       "</table>\n",
       "</div>"
      ],
      "text/plain": [
       "   pos variant                                                seq  \\\n",
       "0    2     A2C  MCAAAAAGAGPEMVRGQVFDVGPRYTNLSYIGEGAYGMVCSAYDNV...   \n",
       "1    2     A2D  MDAAAAAGAGPEMVRGQVFDVGPRYTNLSYIGEGAYGMVCSAYDNV...   \n",
       "2    2     A2E  MEAAAAAGAGPEMVRGQVFDVGPRYTNLSYIGEGAYGMVCSAYDNV...   \n",
       "3    2     A2F  MFAAAAAGAGPEMVRGQVFDVGPRYTNLSYIGEGAYGMVCSAYDNV...   \n",
       "4    2     A2G  MGAAAAAGAGPEMVRGQVFDVGPRYTNLSYIGEGAYGMVCSAYDNV...   \n",
       "\n",
       "   fitness_raw  fitness_norm wt_aa  n_mut  \n",
       "0    -4.176315      0.265834     A      1  \n",
       "1    -1.918793      0.397712     A      1  \n",
       "2    -3.165665      0.324874     A      1  \n",
       "3    -6.126452      0.151913     A      1  \n",
       "4    -4.255602      0.261203     A      1  "
      ]
     },
     "execution_count": 12,
     "metadata": {},
     "output_type": "execute_result"
    }
   ],
   "source": [
    "df_new.head()"
   ]
  },
  {
   "cell_type": "code",
   "execution_count": 13,
   "metadata": {},
   "outputs": [],
   "source": [
    "## sanity check for n mutants\n",
    "for i, row in df_new.iterrows():\n",
    "    variant_seq = row[\"seq\"]\n",
    "    assert len(variant_seq) == len(wt)\n",
    "    n = 0\n",
    "    for a, b in zip(variant_seq, wt):\n",
    "        if a != b:\n",
    "            n += 1\n",
    "    \n",
    "    assert n == row['n_mut']"
   ]
  },
  {
   "cell_type": "code",
   "execution_count": null,
   "metadata": {},
   "outputs": [],
   "source": []
  },
  {
   "cell_type": "markdown",
   "metadata": {},
   "source": [
    "#### Data splits"
   ]
  },
  {
   "cell_type": "code",
   "execution_count": 14,
   "metadata": {},
   "outputs": [],
   "source": [
    "np.random.seed(0)"
   ]
  },
  {
   "cell_type": "code",
   "execution_count": 16,
   "metadata": {},
   "outputs": [],
   "source": [
    "n_folds = 10\n",
    "positions = df_new['pos'].unique()\n",
    "blocks = np.array_split(positions, n_folds)\n",
    "\n",
    "assert sum(len(i) for i in blocks) == len(positions)\n",
    "\n",
    "df_new['fold_id'] = -1\n",
    "for i, _pos in enumerate(blocks):\n",
    "    assert (df_new.loc[df_new['pos'].isin(_pos), 'fold_id'] == -1).all()\n",
    "    df_new.loc[df_new['pos'].isin(_pos), 'fold_id'] = i\n",
    "\n",
    "assert ~((df_new['fold_id'] == -1).any())\n",
    "\n",
    "test_fold = [2, 6]\n",
    "val_fold = [8]\n",
    "\n",
    "df_new['split_id'] = -1\n",
    "df_new.loc[df_new['fold_id'].isin(test_fold), 'split_id'] = 0\n",
    "df_new.loc[df_new['fold_id'].isin(val_fold), 'split_id'] = 1\n",
    "df_new.loc[~df_new['fold_id'].isin(test_fold+val_fold), 'split_id'] = 2\n",
    "\n",
    "assert ~((df_new['split_id'] == -1).any())"
   ]
  },
  {
   "cell_type": "code",
   "execution_count": 17,
   "metadata": {},
   "outputs": [
    {
     "data": {
      "text/html": [
       "<div>\n",
       "<style scoped>\n",
       "    .dataframe tbody tr th:only-of-type {\n",
       "        vertical-align: middle;\n",
       "    }\n",
       "\n",
       "    .dataframe tbody tr th {\n",
       "        vertical-align: top;\n",
       "    }\n",
       "\n",
       "    .dataframe thead th {\n",
       "        text-align: right;\n",
       "    }\n",
       "</style>\n",
       "<table border=\"1\" class=\"dataframe\">\n",
       "  <thead>\n",
       "    <tr style=\"text-align: right;\">\n",
       "      <th></th>\n",
       "      <th>pos</th>\n",
       "      <th>variant</th>\n",
       "      <th>seq</th>\n",
       "      <th>fitness_raw</th>\n",
       "      <th>fitness_norm</th>\n",
       "      <th>wt_aa</th>\n",
       "      <th>n_mut</th>\n",
       "      <th>fold_id</th>\n",
       "      <th>split_id</th>\n",
       "    </tr>\n",
       "  </thead>\n",
       "  <tbody>\n",
       "    <tr>\n",
       "      <th>0</th>\n",
       "      <td>2</td>\n",
       "      <td>A2C</td>\n",
       "      <td>MCAAAAAGAGPEMVRGQVFDVGPRYTNLSYIGEGAYGMVCSAYDNV...</td>\n",
       "      <td>-4.176315</td>\n",
       "      <td>0.265834</td>\n",
       "      <td>A</td>\n",
       "      <td>1</td>\n",
       "      <td>0</td>\n",
       "      <td>2</td>\n",
       "    </tr>\n",
       "    <tr>\n",
       "      <th>1</th>\n",
       "      <td>2</td>\n",
       "      <td>A2D</td>\n",
       "      <td>MDAAAAAGAGPEMVRGQVFDVGPRYTNLSYIGEGAYGMVCSAYDNV...</td>\n",
       "      <td>-1.918793</td>\n",
       "      <td>0.397712</td>\n",
       "      <td>A</td>\n",
       "      <td>1</td>\n",
       "      <td>0</td>\n",
       "      <td>2</td>\n",
       "    </tr>\n",
       "    <tr>\n",
       "      <th>2</th>\n",
       "      <td>2</td>\n",
       "      <td>A2E</td>\n",
       "      <td>MEAAAAAGAGPEMVRGQVFDVGPRYTNLSYIGEGAYGMVCSAYDNV...</td>\n",
       "      <td>-3.165665</td>\n",
       "      <td>0.324874</td>\n",
       "      <td>A</td>\n",
       "      <td>1</td>\n",
       "      <td>0</td>\n",
       "      <td>2</td>\n",
       "    </tr>\n",
       "    <tr>\n",
       "      <th>3</th>\n",
       "      <td>2</td>\n",
       "      <td>A2F</td>\n",
       "      <td>MFAAAAAGAGPEMVRGQVFDVGPRYTNLSYIGEGAYGMVCSAYDNV...</td>\n",
       "      <td>-6.126452</td>\n",
       "      <td>0.151913</td>\n",
       "      <td>A</td>\n",
       "      <td>1</td>\n",
       "      <td>0</td>\n",
       "      <td>2</td>\n",
       "    </tr>\n",
       "    <tr>\n",
       "      <th>4</th>\n",
       "      <td>2</td>\n",
       "      <td>A2G</td>\n",
       "      <td>MGAAAAAGAGPEMVRGQVFDVGPRYTNLSYIGEGAYGMVCSAYDNV...</td>\n",
       "      <td>-4.255602</td>\n",
       "      <td>0.261203</td>\n",
       "      <td>A</td>\n",
       "      <td>1</td>\n",
       "      <td>0</td>\n",
       "      <td>2</td>\n",
       "    </tr>\n",
       "  </tbody>\n",
       "</table>\n",
       "</div>"
      ],
      "text/plain": [
       "   pos variant                                                seq  \\\n",
       "0    2     A2C  MCAAAAAGAGPEMVRGQVFDVGPRYTNLSYIGEGAYGMVCSAYDNV...   \n",
       "1    2     A2D  MDAAAAAGAGPEMVRGQVFDVGPRYTNLSYIGEGAYGMVCSAYDNV...   \n",
       "2    2     A2E  MEAAAAAGAGPEMVRGQVFDVGPRYTNLSYIGEGAYGMVCSAYDNV...   \n",
       "3    2     A2F  MFAAAAAGAGPEMVRGQVFDVGPRYTNLSYIGEGAYGMVCSAYDNV...   \n",
       "4    2     A2G  MGAAAAAGAGPEMVRGQVFDVGPRYTNLSYIGEGAYGMVCSAYDNV...   \n",
       "\n",
       "   fitness_raw  fitness_norm wt_aa  n_mut  fold_id  split_id  \n",
       "0    -4.176315      0.265834     A      1        0         2  \n",
       "1    -1.918793      0.397712     A      1        0         2  \n",
       "2    -3.165665      0.324874     A      1        0         2  \n",
       "3    -6.126452      0.151913     A      1        0         2  \n",
       "4    -4.255602      0.261203     A      1        0         2  "
      ]
     },
     "execution_count": 17,
     "metadata": {},
     "output_type": "execute_result"
    }
   ],
   "source": [
    "df_new.head()"
   ]
  },
  {
   "cell_type": "code",
   "execution_count": null,
   "metadata": {},
   "outputs": [],
   "source": []
  },
  {
   "cell_type": "code",
   "execution_count": 24,
   "metadata": {},
   "outputs": [],
   "source": [
    "file = os.path.join(data_path, 'dataset_brenen.csv')\n",
    "df_new.to_csv(file, index=False)"
   ]
  },
  {
   "cell_type": "code",
   "execution_count": null,
   "metadata": {},
   "outputs": [],
   "source": []
  },
  {
   "cell_type": "code",
   "execution_count": 27,
   "metadata": {},
   "outputs": [],
   "source": [
    "file = os.path.join(data_path, 'dataset_brenen.csv')\n",
    "df_new = pd.read_csv(file)"
   ]
  },
  {
   "cell_type": "code",
   "execution_count": 30,
   "metadata": {},
   "outputs": [
    {
     "data": {
      "text/plain": [
       "Text(0.5, 1.0, 'Test')"
      ]
     },
     "execution_count": 30,
     "metadata": {},
     "output_type": "execute_result"
    },
    {
     "data": {
      "image/png": "[encoded data removed]",
      "text/plain": [
       "<Figure size 900x300 with 3 Axes>"
      ]
     },
     "metadata": {},
     "output_type": "display_data"
    }
   ],
   "source": [
    "fig, ax = plt.subplots(1, 3, figsize=(9,3), layout='constrained')\n",
    "ax[0].hist(df_new.loc[df_new['split_id']==2, 'fitness_raw'])\n",
    "ax[1].hist(df_new.loc[df_new['split_id']==1, 'fitness_raw'])\n",
    "ax[2].hist(df_new.loc[df_new['split_id']==0, 'fitness_raw'])\n",
    "# ax[0].set_xlim(-10,10)\n",
    "# ax[1].set_xlim(-10,10)\n",
    "# ax[2].set_xlim(-10,10)\n",
    "ax[0].set_title('Train')\n",
    "ax[1].set_title('Val')\n",
    "ax[2].set_title('Test')"
   ]
  },
  {
   "cell_type": "code",
   "execution_count": 29,
   "metadata": {},
   "outputs": [
    {
     "data": {
      "text/plain": [
       "Text(0.5, 1.0, 'Test')"
      ]
     },
     "execution_count": 29,
     "metadata": {},
     "output_type": "execute_result"
    },
    {
     "data": {
      "image/png": "[encoded data removed]",
      "text/plain": [
       "<Figure size 900x300 with 3 Axes>"
      ]
     },
     "metadata": {},
     "output_type": "display_data"
    }
   ],
   "source": [
    "fig, ax = plt.subplots(1, 3, figsize=(9,3), layout='constrained')\n",
    "ax[0].hist(df_new.loc[df_new['split_id']==2, 'fitness_norm'])\n",
    "ax[1].hist(df_new.loc[df_new['split_id']==1, 'fitness_norm'])\n",
    "ax[2].hist(df_new.loc[df_new['split_id']==0, 'fitness_norm'])\n",
    "# ax[0].set_xlim(-10,10)\n",
    "# ax[1].set_xlim(-10,10)\n",
    "# ax[2].set_xlim(-10,10)\n",
    "ax[0].set_title('Train')\n",
    "ax[1].set_title('Val')\n",
    "ax[2].set_title('Test')"
   ]
  },
  {
   "cell_type": "code",
   "execution_count": null,
   "metadata": {},
   "outputs": [],
   "source": []
  }
 ],
 "metadata": {
  "kernelspec": {
   "display_name": "workspace-esm",
   "language": "python",
   "name": "python3"
  },
  "language_info": {
   "codemirror_mode": {
    "name": "ipython",
    "version": 3
   },
   "file_extension": ".py",
   "mimetype": "text/x-python",
   "name": "python",
   "nbconvert_exporter": "python",
   "pygments_lexer": "ipython3",
   "version": "3.10.13"
  }
 },
 "nbformat": 4,
 "nbformat_minor": 2
}
