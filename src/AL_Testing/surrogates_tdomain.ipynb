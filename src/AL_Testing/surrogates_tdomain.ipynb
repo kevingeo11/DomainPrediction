{
 "cells": [
  {
   "cell_type": "code",
   "execution_count": 1,
   "metadata": {},
   "outputs": [],
   "source": [
    "import sys\n",
    "sys.path.append('..')"
   ]
  },
  {
   "cell_type": "code",
   "execution_count": 2,
   "metadata": {},
   "outputs": [],
   "source": [
    "import os\n",
    "from tqdm import tqdm\n",
    "import random\n",
    "import matplotlib.pyplot as plt\n",
    "import numpy as np\n",
    "import pandas as pd"
   ]
  },
  {
   "cell_type": "code",
   "execution_count": 3,
   "metadata": {},
   "outputs": [],
   "source": [
    "from sklearn.metrics import mean_squared_error\n",
    "from scipy import stats"
   ]
  },
  {
   "cell_type": "code",
   "execution_count": 4,
   "metadata": {},
   "outputs": [
    {
     "name": "stderr",
     "output_type": "stream",
     "text": [
      "2025-04-02 15:46:51.916675: I tensorflow/core/util/port.cc:113] oneDNN custom operations are on. You may see slightly different numerical results due to floating-point round-off errors from different computation orders. To turn them off, set the environment variable `TF_ENABLE_ONEDNN_OPTS=0`.\n",
      "2025-04-02 15:46:51.918915: I external/local_tsl/tsl/cuda/cudart_stub.cc:32] Could not find cuda drivers on your machine, GPU will not be used.\n",
      "2025-04-02 15:46:51.924183: E external/local_xla/xla/stream_executor/cuda/cuda_fft.cc:479] Unable to register cuFFT factory: Attempting to register factory for plugin cuFFT when one has already been registered\n",
      "2025-04-02 15:46:51.934693: E external/local_xla/xla/stream_executor/cuda/cuda_dnn.cc:10575] Unable to register cuDNN factory: Attempting to register factory for plugin cuDNN when one has already been registered\n",
      "2025-04-02 15:46:51.934711: E external/local_xla/xla/stream_executor/cuda/cuda_blas.cc:1442] Unable to register cuBLAS factory: Attempting to register factory for plugin cuBLAS when one has already been registered\n",
      "2025-04-02 15:46:51.941694: I tensorflow/core/platform/cpu_feature_guard.cc:210] This TensorFlow binary is optimized to use available CPU instructions in performance-critical operations.\n",
      "To enable the following instructions: AVX2 AVX_VNNI FMA, in other operations, rebuild TensorFlow with the appropriate compiler flags.\n",
      "2025-04-02 15:46:52.958580: W tensorflow/compiler/tf2tensorrt/utils/py_utils.cc:38] TF-TRT Warning: Could not find TensorRT\n"
     ]
    }
   ],
   "source": [
    "from DomainPrediction.utils import helper\n",
    "from DomainPrediction.eval import metrics\n",
    "from DomainPrediction.al import top_model as topmodel\n",
    "from DomainPrediction.al.embeddings import one_hot_encode"
   ]
  },
  {
   "cell_type": "code",
   "execution_count": 5,
   "metadata": {},
   "outputs": [],
   "source": [
    "from DomainPrediction.esm.esm2 import ESM2\n",
    "from DomainPrediction.al.confit import ESM2ConFit"
   ]
  },
  {
   "cell_type": "code",
   "execution_count": 5,
   "metadata": {},
   "outputs": [],
   "source": [
    "sys.path.append('../../esm')\n",
    "from DomainPrediction.esm.esm3 import ESM3LM\n",
    "from DomainPrediction.esm.esmc import ESMCLM\n",
    "from DomainPrediction.al.confit import ESMCConFit"
   ]
  },
  {
   "cell_type": "code",
   "execution_count": null,
   "metadata": {},
   "outputs": [],
   "source": []
  },
  {
   "cell_type": "markdown",
   "metadata": {},
   "source": [
    "#### Load Data"
   ]
  },
  {
   "cell_type": "code",
   "execution_count": 6,
   "metadata": {},
   "outputs": [],
   "source": [
    "data_path = '/nethome/kgeorge/workspace/DomainPrediction/Data/al_test_experiments/Tdomain'"
   ]
  },
  {
   "cell_type": "code",
   "execution_count": 7,
   "metadata": {},
   "outputs": [],
   "source": [
    "file = os.path.join(data_path, 'dataset_2_tdomain.csv')\n",
    "df = pd.read_csv(file)"
   ]
  },
  {
   "cell_type": "code",
   "execution_count": 8,
   "metadata": {},
   "outputs": [
    {
     "data": {
      "text/html": [
       "<div>\n",
       "<style scoped>\n",
       "    .dataframe tbody tr th:only-of-type {\n",
       "        vertical-align: middle;\n",
       "    }\n",
       "\n",
       "    .dataframe tbody tr th {\n",
       "        vertical-align: top;\n",
       "    }\n",
       "\n",
       "    .dataframe thead th {\n",
       "        text-align: right;\n",
       "    }\n",
       "</style>\n",
       "<table border=\"1\" class=\"dataframe\">\n",
       "  <thead>\n",
       "    <tr style=\"text-align: right;\">\n",
       "      <th></th>\n",
       "      <th>name</th>\n",
       "      <th>seq</th>\n",
       "      <th>fitness_raw</th>\n",
       "      <th>split_id</th>\n",
       "      <th>n_mut</th>\n",
       "      <th>fitness_log</th>\n",
       "    </tr>\n",
       "  </thead>\n",
       "  <tbody>\n",
       "    <tr>\n",
       "      <th>0</th>\n",
       "      <td>WT</td>\n",
       "      <td>APGEDAFARQAYQAPQGEIEIALATIWRELLNVEQVGRHDSFFALG...</td>\n",
       "      <td>1.000000</td>\n",
       "      <td>2</td>\n",
       "      <td>0</td>\n",
       "      <td>0.000000</td>\n",
       "    </tr>\n",
       "    <tr>\n",
       "      <th>1</th>\n",
       "      <td>ESM1</td>\n",
       "      <td>APEDSSFPRPPYAAPEGEIEQTLAGIWMELLGVERVGRHDSFFALG...</td>\n",
       "      <td>0.982485</td>\n",
       "      <td>2</td>\n",
       "      <td>44</td>\n",
       "      <td>-0.017670</td>\n",
       "    </tr>\n",
       "    <tr>\n",
       "      <th>2</th>\n",
       "      <td>ESM2</td>\n",
       "      <td>APSEDAYPRATYEAPEGETEQLLAGIWMDLLQVDRVGRHDSFFELG...</td>\n",
       "      <td>0.958725</td>\n",
       "      <td>0</td>\n",
       "      <td>45</td>\n",
       "      <td>-0.042151</td>\n",
       "    </tr>\n",
       "    <tr>\n",
       "      <th>3</th>\n",
       "      <td>ESM3</td>\n",
       "      <td>APSEDSYPRPAYVAPEGPTEQLLAGIWQELLNVSKVGRDDSFFDLG...</td>\n",
       "      <td>0.035325</td>\n",
       "      <td>2</td>\n",
       "      <td>46</td>\n",
       "      <td>-3.343159</td>\n",
       "    </tr>\n",
       "    <tr>\n",
       "      <th>4</th>\n",
       "      <td>ESM4</td>\n",
       "      <td>APEEASYPREPYVAPQGETEQLLASIWQELLGVERVGAGDNFFELG...</td>\n",
       "      <td>0.457921</td>\n",
       "      <td>2</td>\n",
       "      <td>43</td>\n",
       "      <td>-0.781059</td>\n",
       "    </tr>\n",
       "  </tbody>\n",
       "</table>\n",
       "</div>"
      ],
      "text/plain": [
       "   name                                                seq  fitness_raw  \\\n",
       "0    WT  APGEDAFARQAYQAPQGEIEIALATIWRELLNVEQVGRHDSFFALG...     1.000000   \n",
       "1  ESM1  APEDSSFPRPPYAAPEGEIEQTLAGIWMELLGVERVGRHDSFFALG...     0.982485   \n",
       "2  ESM2  APSEDAYPRATYEAPEGETEQLLAGIWMDLLQVDRVGRHDSFFELG...     0.958725   \n",
       "3  ESM3  APSEDSYPRPAYVAPEGPTEQLLAGIWQELLNVSKVGRDDSFFDLG...     0.035325   \n",
       "4  ESM4  APEEASYPREPYVAPQGETEQLLASIWQELLGVERVGAGDNFFELG...     0.457921   \n",
       "\n",
       "   split_id  n_mut  fitness_log  \n",
       "0         2      0     0.000000  \n",
       "1         2     44    -0.017670  \n",
       "2         0     45    -0.042151  \n",
       "3         2     46    -3.343159  \n",
       "4         2     43    -0.781059  "
      ]
     },
     "execution_count": 8,
     "metadata": {},
     "output_type": "execute_result"
    }
   ],
   "source": [
    "df.head()"
   ]
  },
  {
   "cell_type": "code",
   "execution_count": 9,
   "metadata": {},
   "outputs": [
    {
     "data": {
      "text/plain": [
       "(85, 6)"
      ]
     },
     "execution_count": 9,
     "metadata": {},
     "output_type": "execute_result"
    }
   ],
   "source": [
    "df.shape"
   ]
  },
  {
   "cell_type": "code",
   "execution_count": 10,
   "metadata": {},
   "outputs": [],
   "source": [
    "results_file = os.path.join(data_path, 'results_2_tdomain_confit.csv')"
   ]
  },
  {
   "cell_type": "code",
   "execution_count": 11,
   "metadata": {},
   "outputs": [],
   "source": [
    "if os.path.isfile(results_file):\n",
    "    df_results = pd.read_csv(results_file)\n",
    "else:\n",
    "    df_results = df.copy()"
   ]
  },
  {
   "cell_type": "code",
   "execution_count": 12,
   "metadata": {},
   "outputs": [
    {
     "data": {
      "text/html": [
       "<div>\n",
       "<style scoped>\n",
       "    .dataframe tbody tr th:only-of-type {\n",
       "        vertical-align: middle;\n",
       "    }\n",
       "\n",
       "    .dataframe tbody tr th {\n",
       "        vertical-align: top;\n",
       "    }\n",
       "\n",
       "    .dataframe thead th {\n",
       "        text-align: right;\n",
       "    }\n",
       "</style>\n",
       "<table border=\"1\" class=\"dataframe\">\n",
       "  <thead>\n",
       "    <tr style=\"text-align: right;\">\n",
       "      <th></th>\n",
       "      <th>name</th>\n",
       "      <th>seq</th>\n",
       "      <th>fitness_raw</th>\n",
       "      <th>split_id</th>\n",
       "      <th>n_mut</th>\n",
       "      <th>fitness_log</th>\n",
       "      <th>pred_ESM650M_confit</th>\n",
       "      <th>pred_ESMC300M_confit</th>\n",
       "      <th>pred_ESMC600M_confit</th>\n",
       "    </tr>\n",
       "  </thead>\n",
       "  <tbody>\n",
       "    <tr>\n",
       "      <th>0</th>\n",
       "      <td>WT</td>\n",
       "      <td>APGEDAFARQAYQAPQGEIEIALATIWRELLNVEQVGRHDSFFALG...</td>\n",
       "      <td>1.000000</td>\n",
       "      <td>2</td>\n",
       "      <td>0</td>\n",
       "      <td>0.000000</td>\n",
       "      <td>0.000000</td>\n",
       "      <td>0.000000</td>\n",
       "      <td>0.000000</td>\n",
       "    </tr>\n",
       "    <tr>\n",
       "      <th>1</th>\n",
       "      <td>ESM1</td>\n",
       "      <td>APEDSSFPRPPYAAPEGEIEQTLAGIWMELLGVERVGRHDSFFALG...</td>\n",
       "      <td>0.982485</td>\n",
       "      <td>2</td>\n",
       "      <td>44</td>\n",
       "      <td>-0.017670</td>\n",
       "      <td>3.345487</td>\n",
       "      <td>1.748047</td>\n",
       "      <td>-1.813965</td>\n",
       "    </tr>\n",
       "    <tr>\n",
       "      <th>2</th>\n",
       "      <td>ESM2</td>\n",
       "      <td>APSEDAYPRATYEAPEGETEQLLAGIWMDLLQVDRVGRHDSFFELG...</td>\n",
       "      <td>0.958725</td>\n",
       "      <td>0</td>\n",
       "      <td>45</td>\n",
       "      <td>-0.042151</td>\n",
       "      <td>-3.205000</td>\n",
       "      <td>2.612305</td>\n",
       "      <td>5.303711</td>\n",
       "    </tr>\n",
       "    <tr>\n",
       "      <th>3</th>\n",
       "      <td>ESM3</td>\n",
       "      <td>APSEDSYPRPAYVAPEGPTEQLLAGIWQELLNVSKVGRDDSFFDLG...</td>\n",
       "      <td>0.035325</td>\n",
       "      <td>2</td>\n",
       "      <td>46</td>\n",
       "      <td>-3.343159</td>\n",
       "      <td>-8.855375</td>\n",
       "      <td>-14.083740</td>\n",
       "      <td>-19.246704</td>\n",
       "    </tr>\n",
       "    <tr>\n",
       "      <th>4</th>\n",
       "      <td>ESM4</td>\n",
       "      <td>APEEASYPREPYVAPQGETEQLLASIWQELLGVERVGAGDNFFELG...</td>\n",
       "      <td>0.457921</td>\n",
       "      <td>2</td>\n",
       "      <td>43</td>\n",
       "      <td>-0.781059</td>\n",
       "      <td>-0.798962</td>\n",
       "      <td>-2.969727</td>\n",
       "      <td>-12.833252</td>\n",
       "    </tr>\n",
       "  </tbody>\n",
       "</table>\n",
       "</div>"
      ],
      "text/plain": [
       "   name                                                seq  fitness_raw  \\\n",
       "0    WT  APGEDAFARQAYQAPQGEIEIALATIWRELLNVEQVGRHDSFFALG...     1.000000   \n",
       "1  ESM1  APEDSSFPRPPYAAPEGEIEQTLAGIWMELLGVERVGRHDSFFALG...     0.982485   \n",
       "2  ESM2  APSEDAYPRATYEAPEGETEQLLAGIWMDLLQVDRVGRHDSFFELG...     0.958725   \n",
       "3  ESM3  APSEDSYPRPAYVAPEGPTEQLLAGIWQELLNVSKVGRDDSFFDLG...     0.035325   \n",
       "4  ESM4  APEEASYPREPYVAPQGETEQLLASIWQELLGVERVGAGDNFFELG...     0.457921   \n",
       "\n",
       "   split_id  n_mut  fitness_log  pred_ESM650M_confit  pred_ESMC300M_confit  \\\n",
       "0         2      0     0.000000             0.000000              0.000000   \n",
       "1         2     44    -0.017670             3.345487              1.748047   \n",
       "2         0     45    -0.042151            -3.205000              2.612305   \n",
       "3         2     46    -3.343159            -8.855375            -14.083740   \n",
       "4         2     43    -0.781059            -0.798962             -2.969727   \n",
       "\n",
       "   pred_ESMC600M_confit  \n",
       "0              0.000000  \n",
       "1             -1.813965  \n",
       "2              5.303711  \n",
       "3            -19.246704  \n",
       "4            -12.833252  "
      ]
     },
     "execution_count": 12,
     "metadata": {},
     "output_type": "execute_result"
    }
   ],
   "source": [
    "df_results.head()"
   ]
  },
  {
   "cell_type": "code",
   "execution_count": 13,
   "metadata": {},
   "outputs": [
    {
     "data": {
      "text/plain": [
       "Index(['pred_ESM650M_confit', 'pred_ESMC300M_confit', 'pred_ESMC600M_confit'], dtype='object')"
      ]
     },
     "execution_count": 13,
     "metadata": {},
     "output_type": "execute_result"
    }
   ],
   "source": [
    "df_results.columns[df_results.columns.str.contains('pred')]"
   ]
  },
  {
   "cell_type": "code",
   "execution_count": 13,
   "metadata": {},
   "outputs": [
    {
     "data": {
      "text/plain": [
       "3"
      ]
     },
     "execution_count": 13,
     "metadata": {},
     "output_type": "execute_result"
    }
   ],
   "source": [
    "len(df_results.columns[df_results.columns.str.contains('pred')])"
   ]
  },
  {
   "cell_type": "code",
   "execution_count": 14,
   "metadata": {},
   "outputs": [],
   "source": [
    "def get_split_mask(df, omit_zero=False):\n",
    "    if omit_zero:\n",
    "        train_mask = (df['split_id'] == 2) & (df['fitness_raw'] != 0)\n",
    "    else:\n",
    "        train_mask = (df['split_id'] == 2)\n",
    "\n",
    "    val_mask = df['split_id'] == 1\n",
    "    test_mask = df['split_id'].isin([0, 1])\n",
    "    # test_mask = df['split_id'] == 0\n",
    "\n",
    "    return train_mask, val_mask, test_mask"
   ]
  },
  {
   "cell_type": "code",
   "execution_count": 15,
   "metadata": {},
   "outputs": [],
   "source": [
    "def get_spearmanr_bootstrap(a, b, n=1000):\n",
    "    assert type(a) == type(b) == np.ndarray\n",
    "    assert len(a) == len(b)\n",
    "    corr = []\n",
    "    p_value = []\n",
    "    np.random.seed(0)\n",
    "    for _ in range(n):\n",
    "        indices = np.random.choice(len(a), size=len(a), replace=True)\n",
    "        res = stats.spearmanr(a[indices], b[indices])\n",
    "        \n",
    "        if not np.isnan(res.statistic):\n",
    "            corr.append(res.statistic)\n",
    "            p_value.append(res.pvalue)\n",
    "\n",
    "    ci_lower, ci_upper = np.percentile(corr, [5, 95]) \n",
    "    # stats.t.interval(confidence=0.95, df=len(corr)-1, loc=np.mean(corr), scale=np.std(corr))\n",
    "    mean_corr = np.mean(corr)\n",
    "\n",
    "    return round(mean_corr, 2), round(ci_lower, 2), round(ci_upper, 2), corr, p_value"
   ]
  },
  {
   "cell_type": "code",
   "execution_count": null,
   "metadata": {},
   "outputs": [],
   "source": []
  },
  {
   "cell_type": "markdown",
   "metadata": {},
   "source": [
    "#### OHE"
   ]
  },
  {
   "cell_type": "code",
   "execution_count": 16,
   "metadata": {},
   "outputs": [
    {
     "name": "stderr",
     "output_type": "stream",
     "text": [
      "100%|██████████| 85/85 [00:00<00:00, 58426.06it/s]\n"
     ]
    }
   ],
   "source": [
    "embeddings = one_hot_encode(df['seq'])"
   ]
  },
  {
   "cell_type": "code",
   "execution_count": 17,
   "metadata": {},
   "outputs": [],
   "source": [
    "train_mask, val_mask, test_mask = get_split_mask(df, omit_zero=False)\n",
    "\n",
    "X_train = embeddings[train_mask]\n",
    "X_val = embeddings[val_mask]\n",
    "X_test = embeddings[test_mask]\n",
    "\n",
    "# y_train = df.loc[train_mask, 'fitness_raw'].to_numpy().astype(np.float32)\n",
    "# y_val = df.loc[val_mask, 'fitness_raw'].to_numpy().astype(np.float32)\n",
    "# y_test = df.loc[test_mask, 'fitness_raw'].to_numpy().astype(np.float32)\n",
    "\n",
    "y_train = df.loc[train_mask, 'fitness_log'].to_numpy().astype(np.float32)\n",
    "y_val = df.loc[val_mask, 'fitness_log'].to_numpy().astype(np.float32)\n",
    "y_test = df.loc[test_mask, 'fitness_log'].to_numpy().astype(np.float32)"
   ]
  },
  {
   "cell_type": "code",
   "execution_count": null,
   "metadata": {},
   "outputs": [],
   "source": []
  },
  {
   "cell_type": "code",
   "execution_count": 18,
   "metadata": {},
   "outputs": [
    {
     "name": "stdout",
     "output_type": "stream",
     "text": [
      "train: mse = 0.5309855937957764, spearman correlation = 0.9669443234876782\n",
      "val: mse = 18.46001625061035, spearman correlation = -0.051298917604257706\n"
     ]
    }
   ],
   "source": [
    "surrogate = topmodel.RidgeSurrogate(alpha=1.0)\n",
    "surrogate.trainmodel(X=X_train, y=y_train, val=(X_val, y_val))"
   ]
  },
  {
   "cell_type": "code",
   "execution_count": 19,
   "metadata": {},
   "outputs": [
    {
     "name": "stderr",
     "output_type": "stream",
     "text": [
      "/tmp/ipykernel_11650/3945170610.py:9: ConstantInputWarning: An input array is constant; the correlation coefficient is not defined.\n",
      "  res = stats.spearmanr(a[indices], b[indices])\n"
     ]
    },
    {
     "data": {
      "image/png": "[encoded data removed]",
      "text/plain": [
       "<Figure size 1000x300 with 3 Axes>"
      ]
     },
     "metadata": {},
     "output_type": "display_data"
    }
   ],
   "source": [
    "y_train_pred = surrogate.predict(X_train)\n",
    "y_val_pred = surrogate.predict(X_val)\n",
    "y_test_pred = surrogate.predict(X_test)\n",
    "fig, ax = plt.subplots(1,3, figsize=(10,3), layout='constrained')\n",
    "ax[0].plot(y_train, y_train_pred, '.', alpha=0.5)\n",
    "ax[1].plot(y_val, y_val_pred, '.', alpha=0.5)\n",
    "ax[2].plot(y_test, y_test_pred, '.', alpha=0.5)\n",
    "\n",
    "mse = mean_squared_error(y_train, y_train_pred)\n",
    "corr, ci_lower, ci_upper, *_  = get_spearmanr_bootstrap(y_train, y_train_pred)\n",
    "ax[0].set_title(f'Train \\nmse : {str(round(mse, 2))} \\nspearman correlation = {corr} CI ({ci_lower}, {ci_upper})', size=10)\n",
    "\n",
    "mse = mean_squared_error(y_val, y_val_pred)\n",
    "corr, ci_lower, ci_upper, *_  = get_spearmanr_bootstrap(y_val, y_val_pred)\n",
    "ax[1].set_title(f'Val \\nmse : {str(round(mse, 2))} \\nspearman correlation = {corr} CI ({ci_lower}, {ci_upper})', size=10)\n",
    "\n",
    "mse = mean_squared_error(y_test, y_test_pred)\n",
    "corr, ci_lower, ci_upper, *_  = get_spearmanr_bootstrap(y_test, y_test_pred)\n",
    "ax[2].set_title(f'Test \\nmse : {str(round(mse, 2))} \\nspearman correlation = {corr} CI ({ci_lower}, {ci_upper})', size=10)\n",
    "\n",
    "for i in range(3):\n",
    "    ax[i].set_xlabel('True')\n",
    "    ax[i].set_ylabel('Pred')\n",
    "\n",
    "plt.show()"
   ]
  },
  {
   "cell_type": "code",
   "execution_count": null,
   "metadata": {},
   "outputs": [],
   "source": [
    "y_pred = surrogate.predict(embeddings)\n",
    "assert y_pred.shape[0] == embeddings.shape[0] == df_results.shape[0]\n",
    "df_results['pred_OHE_ridge'] = y_pred\n",
    "\n",
    "mse = mean_squared_error(df_results['fitness_log'], df_results['pred_OHE_ridge'])\n",
    "corr = stats.spearmanr(df_results['fitness_log'], df_results['pred_OHE_ridge'])\n",
    "s_corr = round(corr.statistic, 2)\n",
    "print(f'mse : {str(round(mse, 2))} || spearman correlation = {s_corr}')\n",
    "\n",
    "df_results.to_csv(results_file, index=False)"
   ]
  },
  {
   "cell_type": "code",
   "execution_count": null,
   "metadata": {},
   "outputs": [],
   "source": [
    "df_results.columns[df_results.columns.str.contains('pred')]"
   ]
  },
  {
   "cell_type": "code",
   "execution_count": null,
   "metadata": {},
   "outputs": [],
   "source": []
  },
  {
   "cell_type": "code",
   "execution_count": 20,
   "metadata": {},
   "outputs": [
    {
     "name": "stdout",
     "output_type": "stream",
     "text": [
      "train: mse = 2.260975896241593, spearman correlation = 0.9333199116703352\n",
      "val: mse = 10.97746057323202, spearman correlation = 0.6155870112510925\n"
     ]
    },
    {
     "name": "stderr",
     "output_type": "stream",
     "text": [
      "[Parallel(n_jobs=1)]: Done  49 tasks      | elapsed:    0.1s\n",
      "[Parallel(n_jobs=1)]: Done  49 tasks      | elapsed:    0.0s\n",
      "[Parallel(n_jobs=1)]: Done  49 tasks      | elapsed:    0.0s\n"
     ]
    }
   ],
   "source": [
    "surrogate = topmodel.RFSurrogate()\n",
    "surrogate.trainmodel(X=X_train, y=y_train, val=(X_val, y_val))"
   ]
  },
  {
   "cell_type": "code",
   "execution_count": 21,
   "metadata": {},
   "outputs": [
    {
     "name": "stderr",
     "output_type": "stream",
     "text": [
      "[Parallel(n_jobs=1)]: Done  49 tasks      | elapsed:    0.0s\n",
      "[Parallel(n_jobs=1)]: Done  49 tasks      | elapsed:    0.0s\n",
      "[Parallel(n_jobs=1)]: Done  49 tasks      | elapsed:    0.0s\n",
      "/tmp/ipykernel_11650/3945170610.py:9: ConstantInputWarning: An input array is constant; the correlation coefficient is not defined.\n",
      "  res = stats.spearmanr(a[indices], b[indices])\n"
     ]
    },
    {
     "data": {
      "image/png": "[encoded data removed]",
      "text/plain": [
       "<Figure size 1000x300 with 3 Axes>"
      ]
     },
     "metadata": {},
     "output_type": "display_data"
    }
   ],
   "source": [
    "y_train_pred = surrogate.predict(X_train)\n",
    "y_val_pred = surrogate.predict(X_val)\n",
    "y_test_pred = surrogate.predict(X_test)\n",
    "fig, ax = plt.subplots(1,3, figsize=(10,3), layout='constrained')\n",
    "ax[0].plot(y_train, y_train_pred, '.', alpha=0.5)\n",
    "ax[1].plot(y_val, y_val_pred, '.', alpha=0.5)\n",
    "ax[2].plot(y_test, y_test_pred, '.', alpha=0.5)\n",
    "\n",
    "mse = mean_squared_error(y_train, y_train_pred)\n",
    "corr, ci_lower, ci_upper, *_  = get_spearmanr_bootstrap(y_train, y_train_pred)\n",
    "ax[0].set_title(f'Train \\nmse : {str(round(mse, 2))} \\nspearman correlation = {corr} CI ({ci_lower}, {ci_upper})', size=10)\n",
    "\n",
    "mse = mean_squared_error(y_val, y_val_pred)\n",
    "corr, ci_lower, ci_upper, *_  = get_spearmanr_bootstrap(y_val, y_val_pred)\n",
    "ax[1].set_title(f'Val \\nmse : {str(round(mse, 2))} \\nspearman correlation = {corr} CI ({ci_lower}, {ci_upper})', size=10)\n",
    "\n",
    "mse = mean_squared_error(y_test, y_test_pred)\n",
    "corr, ci_lower, ci_upper, *_  = get_spearmanr_bootstrap(y_test, y_test_pred)\n",
    "ax[2].set_title(f'Test \\nmse : {str(round(mse, 2))} \\nspearman correlation = {corr} CI ({ci_lower}, {ci_upper})', size=10)\n",
    "\n",
    "for i in range(3):\n",
    "    ax[i].set_xlabel('True')\n",
    "    ax[i].set_ylabel('Pred')\n",
    "\n",
    "plt.show()"
   ]
  },
  {
   "cell_type": "code",
   "execution_count": null,
   "metadata": {},
   "outputs": [],
   "source": [
    "y_pred = surrogate.predict(embeddings)\n",
    "assert y_pred.shape[0] == embeddings.shape[0] == df_results.shape[0]\n",
    "df_results['pred_OHE_RF'] = y_pred\n",
    "\n",
    "mse = mean_squared_error(df_results['fitness_log'], df_results['pred_OHE_RF'])\n",
    "corr = stats.spearmanr(df_results['fitness_log'], df_results['pred_OHE_RF'])\n",
    "s_corr = round(corr.statistic, 2)\n",
    "print(f'mse : {str(round(mse, 2))} || spearman correlation = {s_corr}')\n",
    "\n",
    "df_results.to_csv(results_file, index=False)"
   ]
  },
  {
   "cell_type": "code",
   "execution_count": null,
   "metadata": {},
   "outputs": [],
   "source": [
    "df_results.columns[df_results.columns.str.contains('pred')]"
   ]
  },
  {
   "cell_type": "code",
   "execution_count": null,
   "metadata": {},
   "outputs": [],
   "source": []
  },
  {
   "cell_type": "code",
   "execution_count": null,
   "metadata": {},
   "outputs": [],
   "source": [
    "print(f'input layer shape: {X_train.shape[1]}')"
   ]
  },
  {
   "cell_type": "code",
   "execution_count": null,
   "metadata": {},
   "outputs": [],
   "source": [
    "config={'layers': [2300, 512, 1], \n",
    "        'epoch': 100, \n",
    "        'batch_size': 16,\n",
    "        'patience': 100,\n",
    "        'early_stopping': False,\n",
    "        'lr': 1e-3,\n",
    "        'print_every_n_epoch': 10,\n",
    "        'debug': True}\n",
    "surrogate = topmodel.MLPSurrogate(config=config)\n",
    "surrogate.trainmodel(X=X_train, y=y_train, val=(X_val, y_val))"
   ]
  },
  {
   "cell_type": "code",
   "execution_count": null,
   "metadata": {},
   "outputs": [],
   "source": [
    "y_train_pred = surrogate.predict(X_train)\n",
    "y_val_pred = surrogate.predict(X_val)\n",
    "y_test_pred = surrogate.predict(X_test)\n",
    "fig, ax = plt.subplots(1,3, figsize=(10,3), layout='constrained')\n",
    "ax[0].plot(y_train, y_train_pred, '.', alpha=0.5)\n",
    "ax[1].plot(y_val, y_val_pred, '.', alpha=0.5)\n",
    "ax[2].plot(y_test, y_test_pred, '.', alpha=0.5)\n",
    "\n",
    "mse = mean_squared_error(y_train, y_train_pred)\n",
    "corr, ci_lower, ci_upper, *_  = get_spearmanr_bootstrap(y_train, y_train_pred)\n",
    "ax[0].set_title(f'Train \\nmse : {str(round(mse, 2))} \\nspearman correlation = {corr} CI ({ci_lower}, {ci_upper})', size=10)\n",
    "\n",
    "mse = mean_squared_error(y_val, y_val_pred)\n",
    "corr, ci_lower, ci_upper, *_  = get_spearmanr_bootstrap(y_val, y_val_pred)\n",
    "ax[1].set_title(f'Val \\nmse : {str(round(mse, 2))} \\nspearman correlation = {corr} CI ({ci_lower}, {ci_upper})', size=10)\n",
    "\n",
    "mse = mean_squared_error(y_test, y_test_pred)\n",
    "corr, ci_lower, ci_upper, *_  = get_spearmanr_bootstrap(y_test, y_test_pred)\n",
    "ax[2].set_title(f'Test \\nmse : {str(round(mse, 2))} \\nspearman correlation = {corr} CI ({ci_lower}, {ci_upper})', size=10)\n",
    "\n",
    "for i in range(3):\n",
    "    ax[i].set_xlabel('True')\n",
    "    ax[i].set_ylabel('Pred')\n",
    "\n",
    "plt.show()"
   ]
  },
  {
   "cell_type": "code",
   "execution_count": null,
   "metadata": {},
   "outputs": [],
   "source": [
    "y_pred = surrogate.predict(embeddings)\n",
    "assert y_pred.shape[0] == embeddings.shape[0] == df_results.shape[0]\n",
    "df_results['pred_OHE_MLP'] = y_pred\n",
    "\n",
    "mse = mean_squared_error(df_results['fitness_log'], df_results['pred_OHE_MLP'])\n",
    "corr = stats.spearmanr(df_results['fitness_log'], df_results['pred_OHE_MLP'])\n",
    "s_corr = round(corr.statistic, 2)\n",
    "print(f'mse : {str(round(mse, 2))} || spearman correlation = {s_corr}')\n",
    "\n",
    "df_results.to_csv(results_file, index=False)"
   ]
  },
  {
   "cell_type": "code",
   "execution_count": null,
   "metadata": {},
   "outputs": [],
   "source": [
    "df_results.columns[df_results.columns.str.contains('pred')]"
   ]
  },
  {
   "cell_type": "code",
   "execution_count": null,
   "metadata": {},
   "outputs": [],
   "source": []
  },
  {
   "cell_type": "markdown",
   "metadata": {},
   "source": [
    "#### ESM2, ESM3 and ESMC Embeddings"
   ]
  },
  {
   "cell_type": "code",
   "execution_count": 17,
   "metadata": {},
   "outputs": [],
   "source": [
    "# esm2 = ESM2(model_path='/data/users/kgeorge/workspace/esm2/checkpoints/esm2_t33_650M_UR50D.pt', device='gpu')\n",
    "# esm3 = ESM3LM(device='gpu')\n",
    "esmc = ESMCLM(name='esmc_300m', device='gpu')\n",
    "# esmc = ESMCLM(name='esmc_600m', device='gpu')"
   ]
  },
  {
   "cell_type": "code",
   "execution_count": 18,
   "metadata": {},
   "outputs": [
    {
     "name": "stderr",
     "output_type": "stream",
     "text": [
      "100%|██████████| 85/85 [00:01<00:00, 82.88it/s]\n"
     ]
    }
   ],
   "source": [
    "# embeddings = esm2.get_embeddings_flatten(df['seq'])\n",
    "# embeddings = esm3.get_embeddings_flatten(df['seq'])\n",
    "embeddings = esmc.get_embeddings_mean(df['seq'])"
   ]
  },
  {
   "cell_type": "code",
   "execution_count": 19,
   "metadata": {},
   "outputs": [
    {
     "data": {
      "text/plain": [
       "(85, 960)"
      ]
     },
     "execution_count": 19,
     "metadata": {},
     "output_type": "execute_result"
    }
   ],
   "source": [
    "embeddings.shape"
   ]
  },
  {
   "cell_type": "code",
   "execution_count": 20,
   "metadata": {},
   "outputs": [],
   "source": [
    "train_mask, val_mask, test_mask = get_split_mask(df, omit_zero=False)\n",
    "\n",
    "X_train = embeddings[train_mask]\n",
    "X_val = embeddings[val_mask]\n",
    "X_test = embeddings[test_mask]\n",
    "\n",
    "# y_train = df.loc[train_mask, 'fitness_raw'].to_numpy().astype(np.float32)\n",
    "# y_val = df.loc[val_mask, 'fitness_raw'].to_numpy().astype(np.float32)\n",
    "# y_test = df.loc[test_mask, 'fitness_raw'].to_numpy().astype(np.float32)\n",
    "\n",
    "y_train = df.loc[train_mask, 'fitness_log'].to_numpy().astype(np.float32)\n",
    "y_val = df.loc[val_mask, 'fitness_log'].to_numpy().astype(np.float32)\n",
    "y_test = df.loc[test_mask, 'fitness_log'].to_numpy().astype(np.float32)"
   ]
  },
  {
   "cell_type": "code",
   "execution_count": 21,
   "metadata": {},
   "outputs": [
    {
     "name": "stdout",
     "output_type": "stream",
     "text": [
      "train 53 val 5 test 32\n"
     ]
    }
   ],
   "source": [
    "print(f'train {train_mask.sum()} val {val_mask.sum()} test {test_mask.sum()}')"
   ]
  },
  {
   "cell_type": "code",
   "execution_count": null,
   "metadata": {},
   "outputs": [],
   "source": [
    "surrogate = topmodel.RidgeSurrogate(alpha=1.0)\n",
    "surrogate.trainmodel(X=X_train, y=y_train, val=(X_val, y_val))"
   ]
  },
  {
   "cell_type": "code",
   "execution_count": null,
   "metadata": {},
   "outputs": [],
   "source": [
    "y_train_pred = surrogate.predict(X_train)\n",
    "y_val_pred = surrogate.predict(X_val)\n",
    "y_test_pred = surrogate.predict(X_test)\n",
    "fig, ax = plt.subplots(1,3, figsize=(10,3), layout='constrained')\n",
    "ax[0].plot(y_train, y_train_pred, '.', alpha=0.5)\n",
    "ax[1].plot(y_val, y_val_pred, '.', alpha=0.5)\n",
    "ax[2].plot(y_test, y_test_pred, '.', alpha=0.5)\n",
    "\n",
    "mse = mean_squared_error(y_train, y_train_pred)\n",
    "corr, ci_lower, ci_upper, *_  = get_spearmanr_bootstrap(y_train, y_train_pred)\n",
    "ax[0].set_title(f'Train \\nmse : {str(round(mse, 2))} \\nspearman correlation = {corr} CI ({ci_lower}, {ci_upper})', size=10)\n",
    "\n",
    "mse = mean_squared_error(y_val, y_val_pred)\n",
    "corr, ci_lower, ci_upper, *_  = get_spearmanr_bootstrap(y_val, y_val_pred)\n",
    "ax[1].set_title(f'Val \\nmse : {str(round(mse, 2))} \\nspearman correlation = {corr} CI ({ci_lower}, {ci_upper})', size=10)\n",
    "\n",
    "mse = mean_squared_error(y_test, y_test_pred)\n",
    "corr, ci_lower, ci_upper, *_  = get_spearmanr_bootstrap(y_test, y_test_pred)\n",
    "ax[2].set_title(f'Test \\nmse : {str(round(mse, 2))} \\nspearman correlation = {corr} CI ({ci_lower}, {ci_upper})', size=10)\n",
    "\n",
    "for i in range(3):\n",
    "    ax[i].set_xlabel('True')\n",
    "    ax[i].set_ylabel('Pred')\n",
    "\n",
    "plt.show()"
   ]
  },
  {
   "cell_type": "code",
   "execution_count": null,
   "metadata": {},
   "outputs": [],
   "source": [
    "# y_pred = surrogate.predict(embeddings)\n",
    "# assert y_pred.shape[0] == embeddings.shape[0] == df_results.shape[0]\n",
    "# df_results['pred_ESMC600M_concat_ridge'] = y_pred\n",
    "\n",
    "# df_results.to_csv(results_file, index=False)"
   ]
  },
  {
   "cell_type": "code",
   "execution_count": null,
   "metadata": {},
   "outputs": [],
   "source": [
    "df_results.columns[df_results.columns.str.contains('pred')]"
   ]
  },
  {
   "cell_type": "code",
   "execution_count": null,
   "metadata": {},
   "outputs": [],
   "source": []
  },
  {
   "cell_type": "code",
   "execution_count": null,
   "metadata": {},
   "outputs": [],
   "source": [
    "surrogate = topmodel.RFSurrogate()\n",
    "surrogate.trainmodel(X=X_train, y=y_train, val=(X_val, y_val))"
   ]
  },
  {
   "cell_type": "code",
   "execution_count": null,
   "metadata": {},
   "outputs": [],
   "source": [
    "y_train_pred = surrogate.predict(X_train)\n",
    "y_val_pred = surrogate.predict(X_val)\n",
    "y_test_pred = surrogate.predict(X_test)\n",
    "fig, ax = plt.subplots(1,3, figsize=(10,3), layout='constrained')\n",
    "ax[0].plot(y_train, y_train_pred, '.', alpha=0.5)\n",
    "ax[1].plot(y_val, y_val_pred, '.', alpha=0.5)\n",
    "ax[2].plot(y_test, y_test_pred, '.', alpha=0.5)\n",
    "\n",
    "mse = mean_squared_error(y_train, y_train_pred)\n",
    "corr, ci_lower, ci_upper, *_  = get_spearmanr_bootstrap(y_train, y_train_pred)\n",
    "ax[0].set_title(f'Train \\nmse : {str(round(mse, 2))} \\nspearman correlation = {corr} CI ({ci_lower}, {ci_upper})', size=10)\n",
    "\n",
    "mse = mean_squared_error(y_val, y_val_pred)\n",
    "corr, ci_lower, ci_upper, *_  = get_spearmanr_bootstrap(y_val, y_val_pred)\n",
    "ax[1].set_title(f'Val \\nmse : {str(round(mse, 2))} \\nspearman correlation = {corr} CI ({ci_lower}, {ci_upper})', size=10)\n",
    "\n",
    "mse = mean_squared_error(y_test, y_test_pred)\n",
    "corr, ci_lower, ci_upper, *_  = get_spearmanr_bootstrap(y_test, y_test_pred)\n",
    "ax[2].set_title(f'Test \\nmse : {str(round(mse, 2))} \\nspearman correlation = {corr} CI ({ci_lower}, {ci_upper})', size=10)\n",
    "\n",
    "for i in range(3):\n",
    "    ax[i].set_xlabel('True')\n",
    "    ax[i].set_ylabel('Pred')\n",
    "\n",
    "plt.show()"
   ]
  },
  {
   "cell_type": "code",
   "execution_count": null,
   "metadata": {},
   "outputs": [],
   "source": [
    "# y_pred = surrogate.predict(embeddings)\n",
    "# assert y_pred.shape[0] == embeddings.shape[0] == df_results.shape[0]\n",
    "# df_results['pred_ESMC600M_concat_RF'] = y_pred\n",
    "\n",
    "# df_results.to_csv(results_file, index=False)"
   ]
  },
  {
   "cell_type": "code",
   "execution_count": null,
   "metadata": {},
   "outputs": [],
   "source": [
    "df_results.columns[df_results.columns.str.contains('pred')]"
   ]
  },
  {
   "cell_type": "code",
   "execution_count": null,
   "metadata": {},
   "outputs": [],
   "source": []
  },
  {
   "cell_type": "code",
   "execution_count": 22,
   "metadata": {},
   "outputs": [
    {
     "name": "stdout",
     "output_type": "stream",
     "text": [
      "input layer shape: 960\n"
     ]
    }
   ],
   "source": [
    "print(f'input layer shape: {X_train.shape[1]}')"
   ]
  },
  {
   "cell_type": "code",
   "execution_count": 24,
   "metadata": {},
   "outputs": [
    {
     "name": "stderr",
     "output_type": "stream",
     "text": [
      "GPU available: True (cuda), used: True\n",
      "TPU available: False, using: 0 TPU cores\n",
      "HPU available: False, using: 0 HPUs\n",
      "LOCAL_RANK: 0 - CUDA_VISIBLE_DEVICES: [0]\n",
      "\n",
      "  | Name | Type       | Params | Mode \n",
      "--------------------------------------------\n",
      "0 | mlp  | Sequential | 492 K  | train\n",
      "--------------------------------------------\n",
      "492 K     Trainable params\n",
      "0         Non-trainable params\n",
      "492 K     Total params\n",
      "1.970     Total estimated model params size (MB)\n",
      "4         Modules in train mode\n",
      "0         Modules in eval mode\n"
     ]
    },
    {
     "name": "stdout",
     "output_type": "stream",
     "text": [
      "Epoch: 0: train mse: 32.40323066711426 val mse: 19.100771844387054\n",
      "Epoch: 1: train mse: 37.75701832771301 val mse: 18.983877420425415\n",
      "Epoch: 2: train mse: 37.29800844192505 val mse: 18.86839407682419\n",
      "Epoch: 3: train mse: 30.74359256029129 val mse: 18.758005023002625\n",
      "Epoch: 4: train mse: 30.94946253299713 val mse: 18.652496695518494\n",
      "Epoch: 5: train mse: 37.107656478881836 val mse: 18.551469147205353\n",
      "Epoch: 6: train mse: 36.71254634857178 val mse: 18.44713181257248\n",
      "Epoch: 7: train mse: 36.84172344207764 val mse: 18.34192168712616\n",
      "Epoch: 8: train mse: 30.33757185935974 val mse: 18.236852824687958\n",
      "Epoch: 9: train mse: 36.36821889877319 val mse: 18.134923189878464\n",
      "Epoch: 10: train mse: 36.36141490936279 val mse: 18.029992401599884\n",
      "Epoch: 11: train mse: 30.50935971736908 val mse: 17.922178745269775\n",
      "Epoch: 12: train mse: 38.577144622802734 val mse: 17.816328823566437\n",
      "Epoch: 13: train mse: 31.026883363723755 val mse: 17.70317244529724\n",
      "Epoch: 14: train mse: 30.632580280303955 val mse: 17.59229224920273\n",
      "Epoch: 15: train mse: 29.28669235110283 val mse: 17.48260933160782\n",
      "Epoch: 16: train mse: 35.08672881126404 val mse: 17.370736360549927\n",
      "Epoch: 17: train mse: 47.35840129852295 val mse: 17.26075142621994\n",
      "Epoch: 18: train mse: 28.837915033102036 val mse: 17.141534686088562\n",
      "Epoch: 19: train mse: 41.19812297821045 val mse: 17.02458882331848\n",
      "Epoch: 20: train mse: 46.80286526679993 val mse: 16.898983359336853\n",
      "Epoch: 21: train mse: 34.49315404891968 val mse: 16.769396632909775\n",
      "Epoch: 22: train mse: 34.173309326171875 val mse: 16.64322355389595\n",
      "Epoch: 23: train mse: 34.080984592437744 val mse: 16.518546015024185\n",
      "Epoch: 24: train mse: 27.61687644943595 val mse: 16.393096953630447\n",
      "Epoch: 25: train mse: 34.082632064819336 val mse: 16.278086215257645\n",
      "Epoch: 26: train mse: 33.19972324371338 val mse: 16.158255845308304\n",
      "Epoch: 27: train mse: 27.268454626202583 val mse: 16.039322316646576\n",
      "Epoch: 28: train mse: 27.356875240802765 val mse: 15.925230860710144\n",
      "Epoch: 29: train mse: 32.98495531082153 val mse: 15.81341603398323\n",
      "Epoch: 30: train mse: 28.31413447856903 val mse: 15.7011878490448\n",
      "Epoch: 31: train mse: 27.63385808467865 val mse: 15.587631493806839\n",
      "Epoch: 32: train mse: 38.11480236053467 val mse: 15.47542953491211\n",
      "Epoch: 33: train mse: 26.282311752438545 val mse: 15.355650901794434\n",
      "Epoch: 34: train mse: 38.156508445739746 val mse: 15.244760632514954\n",
      "Epoch: 35: train mse: 32.76036810874939 val mse: 15.123137265443802\n",
      "Epoch: 36: train mse: 38.02107095718384 val mse: 14.998483508825302\n",
      "Epoch: 37: train mse: 36.87739014625549 val mse: 14.872735679149628\n",
      "Epoch: 38: train mse: 36.54718327522278 val mse: 14.748523712158203\n",
      "Epoch: 39: train mse: 32.85481095314026 val mse: 14.62412878870964\n",
      "Epoch: 40: train mse: 26.206785559654236 val mse: 14.503057658672333\n",
      "Epoch: 41: train mse: 25.18560880422592 val mse: 14.399359345436096\n",
      "Epoch: 42: train mse: 24.809980913996696 val mse: 14.305416494607925\n",
      "Epoch: 43: train mse: 35.30655097961426 val mse: 14.216901123523712\n",
      "Epoch: 44: train mse: 25.23112690448761 val mse: 14.122714161872864\n",
      "Epoch: 45: train mse: 25.181978583335876 val mse: 14.030011713504791\n",
      "Epoch: 46: train mse: 30.417015314102173 val mse: 13.949906945228577\n",
      "Epoch: 47: train mse: 29.380669355392456 val mse: 13.864830553531647\n",
      "Epoch: 48: train mse: 29.850101947784424 val mse: 13.779922902584076\n",
      "Epoch: 49: train mse: 30.57219409942627 val mse: 13.694869577884674\n",
      "Epoch: 50: train mse: 24.716611862182617 val mse: 13.607428967952728\n",
      "Epoch: 51: train mse: 23.806550562381744 val mse: 13.531149208545685\n",
      "Epoch: 52: train mse: 23.595330476760864 val mse: 13.469184875488281\n",
      "Epoch: 53: train mse: 23.6010759472847 val mse: 13.408604800701141\n",
      "Epoch: 54: train mse: 28.346243858337402 val mse: 13.353129982948303\n",
      "Epoch: 55: train mse: 28.16921854019165 val mse: 13.296854197978973\n",
      "Epoch: 56: train mse: 27.799132108688354 val mse: 13.238651871681213\n",
      "Epoch: 57: train mse: 28.06410789489746 val mse: 13.183159947395325\n",
      "Epoch: 58: train mse: 27.591915607452393 val mse: 13.129960179328918\n",
      "Epoch: 59: train mse: 27.81771993637085 val mse: 13.078184247016907\n",
      "Epoch: 60: train mse: 27.687610626220703 val mse: 13.029196381568909\n",
      "Epoch: 61: train mse: 27.32737922668457 val mse: 12.983748197555542\n",
      "Epoch: 62: train mse: 23.52406108379364 val mse: 12.93825089931488\n",
      "Epoch: 63: train mse: 22.641934990882874 val mse: 12.897422909736633\n",
      "Epoch: 64: train mse: 23.028056144714355 val mse: 12.863728761672974\n",
      "Epoch: 65: train mse: 22.275215089321136 val mse: 12.831294775009155\n",
      "Epoch: 66: train mse: 31.5804545879364 val mse: 12.801335453987122\n",
      "Epoch: 67: train mse: 22.114635348320007 val mse: 12.768627882003784\n",
      "Epoch: 68: train mse: 26.76968002319336 val mse: 12.740115761756897\n",
      "Epoch: 69: train mse: 31.18088960647583 val mse: 12.711674213409424\n",
      "Epoch: 70: train mse: 22.447298645973206 val mse: 12.682446241378784\n",
      "Epoch: 71: train mse: 27.165705680847168 val mse: 12.655151724815369\n",
      "Epoch: 72: train mse: 26.342039108276367 val mse: 12.6306312084198\n",
      "Epoch: 73: train mse: 25.987486839294434 val mse: 12.607282400131226\n",
      "Epoch: 74: train mse: 26.320831775665283 val mse: 12.5868399143219\n",
      "Epoch: 75: train mse: 21.53313022851944 val mse: 12.567792654037476\n",
      "Epoch: 76: train mse: 21.428342640399933 val mse: 12.551098346710205\n",
      "Epoch: 77: train mse: 21.296813309192657 val mse: 12.537318587303162\n",
      "Epoch: 78: train mse: 21.288559436798096 val mse: 12.524188756942749\n",
      "Epoch: 79: train mse: 26.41673469543457 val mse: 12.5119389295578\n",
      "Epoch: 80: train mse: 21.144842565059662 val mse: 12.499472618103027\n",
      "Epoch: 81: train mse: 25.82148551940918 val mse: 12.4883131980896\n",
      "Epoch: 82: train mse: 29.34023952484131 val mse: 12.47677743434906\n",
      "Epoch: 83: train mse: 25.126303672790527 val mse: 12.466675281524658\n",
      "Epoch: 84: train mse: 29.589986085891724 val mse: 12.459748983383179\n",
      "Epoch: 85: train mse: 25.02409791946411 val mse: 12.454282283782959\n",
      "Epoch: 86: train mse: 25.07763409614563 val mse: 12.450091123580933\n",
      "Epoch: 87: train mse: 29.23134708404541 val mse: 12.44729471206665\n",
      "Epoch: 88: train mse: 28.94034457206726 val mse: 12.447385787963867\n",
      "Epoch: 89: train mse: 25.20453977584839 val mse: 12.448613405227661\n",
      "Epoch: 90: train mse: 21.004854679107666 val mse: 12.447884559631348\n",
      "Epoch: 91: train mse: 25.022955179214478 val mse: 12.44375491142273\n",
      "Epoch: 92: train mse: 20.85412847995758 val mse: 12.438605308532715\n",
      "Epoch: 93: train mse: 24.876454830169678 val mse: 12.433817863464355\n",
      "Epoch: 94: train mse: 24.481013298034668 val mse: 12.428297758102417\n",
      "Epoch: 95: train mse: 20.75498068332672 val mse: 12.425642251968384\n",
      "Epoch: 96: train mse: 24.31449055671692 val mse: 12.418367624282837\n",
      "Epoch: 97: train mse: 24.464779376983643 val mse: 12.412362575531006\n",
      "Epoch: 98: train mse: 20.204319655895233 val mse: 12.407881736755371\n",
      "Epoch: 99: train mse: 20.4931743144989 val mse: 12.399592399597168\n",
      "Epoch: 100: train mse: 20.376060366630554 val mse: 12.390222549438477\n",
      "Epoch: 101: train mse: 23.608495235443115 val mse: 12.382834434509277\n",
      "Epoch: 102: train mse: 26.92266881465912 val mse: 12.377663373947144\n",
      "Epoch: 103: train mse: 24.340142726898193 val mse: 12.379601955413818\n",
      "Epoch: 104: train mse: 27.621621131896973 val mse: 12.379536628723145\n",
      "Epoch: 105: train mse: 28.291508197784424 val mse: 12.385957479476929\n",
      "Epoch: 106: train mse: 23.894365549087524 val mse: 12.3866548538208\n",
      "Epoch: 107: train mse: 20.066888689994812 val mse: 12.384953022003174\n",
      "Epoch: 108: train mse: 20.03547465801239 val mse: 12.379029273986816\n",
      "Epoch: 109: train mse: 24.00917100906372 val mse: 12.372299671173096\n",
      "Epoch: 110: train mse: 23.6255961060524 val mse: 12.365885257720947\n",
      "Epoch: 111: train mse: 22.972219467163086 val mse: 12.360347986221313\n",
      "Epoch: 112: train mse: 23.941998958587646 val mse: 12.358080863952637\n",
      "Epoch: 113: train mse: 19.907532930374146 val mse: 12.35524320602417\n",
      "Epoch: 114: train mse: 22.80257511138916 val mse: 12.344109535217285\n",
      "Epoch: 115: train mse: 23.621625661849976 val mse: 12.335362434387207\n",
      "Epoch: 116: train mse: 26.767529845237732 val mse: 12.32836651802063\n",
      "Epoch: 117: train mse: 19.644107580184937 val mse: 12.32321286201477\n",
      "Epoch: 118: train mse: 23.006428003311157 val mse: 12.31232213973999\n",
      "Epoch: 119: train mse: 19.810228943824768 val mse: 12.303835391998291\n",
      "Epoch: 120: train mse: 23.00047016143799 val mse: 12.288654327392578\n",
      "Epoch: 121: train mse: 22.843358993530273 val mse: 12.278336524963379\n",
      "Epoch: 122: train mse: 22.88674306869507 val mse: 12.27016019821167\n",
      "Epoch: 123: train mse: 23.200028657913208 val mse: 12.265288352966309\n",
      "Epoch: 124: train mse: 22.04081630706787 val mse: 12.264468431472778\n",
      "Epoch: 125: train mse: 23.044118881225586 val mse: 12.266307592391968\n",
      "Epoch: 126: train mse: 22.428778648376465 val mse: 12.262723445892334\n",
      "Epoch: 127: train mse: 26.42435359954834 val mse: 12.257463932037354\n",
      "Epoch: 128: train mse: 22.666565895080566 val mse: 12.264305591583252\n",
      "Epoch: 129: train mse: 18.728470981121063 val mse: 12.263047218322754\n",
      "Epoch: 130: train mse: 22.138959407806396 val mse: 12.263358116149902\n",
      "Epoch: 131: train mse: 22.732001304626465 val mse: 12.26741647720337\n",
      "Epoch: 132: train mse: 25.819458723068237 val mse: 12.272066116333008\n",
      "Epoch: 133: train mse: 21.619093418121338 val mse: 12.278422355651855\n",
      "Epoch: 134: train mse: 18.642216205596924 val mse: 12.277995109558105\n",
      "Epoch: 135: train mse: 18.38308423757553 val mse: 12.27916669845581\n",
      "Epoch: 136: train mse: 21.98797035217285 val mse: 12.271890640258789\n",
      "Epoch: 137: train mse: 21.633997917175293 val mse: 12.26479172706604\n",
      "Epoch: 138: train mse: 22.579402565956116 val mse: 12.258838176727295\n",
      "Epoch: 139: train mse: 25.273159742355347 val mse: 12.253966569900513\n",
      "Epoch: 140: train mse: 18.747197151184082 val mse: 12.257565975189209\n",
      "Epoch: 141: train mse: 21.373775482177734 val mse: 12.249389886856079\n",
      "Epoch: 142: train mse: 21.727705001831055 val mse: 12.242480039596558\n",
      "Epoch: 143: train mse: 21.967203617095947 val mse: 12.235297203063965\n",
      "Epoch: 144: train mse: 18.179691195487976 val mse: 12.227977275848389\n",
      "Epoch: 145: train mse: 21.72659420967102 val mse: 12.21239423751831\n",
      "Epoch: 146: train mse: 21.916271686553955 val mse: 12.199158191680908\n",
      "Epoch: 147: train mse: 24.318578481674194 val mse: 12.193704843521118\n",
      "Epoch: 148: train mse: 23.704343795776367 val mse: 12.198711156845093\n",
      "Epoch: 149: train mse: 18.109177350997925 val mse: 12.203458547592163\n",
      "Epoch: 150: train mse: 20.964696645736694 val mse: 12.192912817001343\n",
      "Epoch: 151: train mse: 21.677762746810913 val mse: 12.184808015823364\n",
      "Epoch: 152: train mse: 18.496994018554688 val mse: 12.1773099899292\n",
      "Epoch: 153: train mse: 20.641586542129517 val mse: 12.156765937805176\n",
      "Epoch: 154: train mse: 21.420748710632324 val mse: 12.142473936080933\n",
      "Epoch: 155: train mse: 20.44794201850891 val mse: 12.127610683441162\n",
      "Epoch: 156: train mse: 20.691288471221924 val mse: 12.114463806152344\n",
      "Epoch: 157: train mse: 24.166446447372437 val mse: 12.104127883911133\n",
      "Epoch: 158: train mse: 20.483736991882324 val mse: 12.11043405532837\n",
      "Epoch: 159: train mse: 20.972325325012207 val mse: 12.108004093170166\n",
      "Epoch: 160: train mse: 19.69995665550232 val mse: 12.115818500518799\n",
      "Epoch: 161: train mse: 17.31259047985077 val mse: 12.117452621459961\n",
      "Epoch: 162: train mse: 20.993927896022797 val mse: 12.103441715240479\n",
      "Epoch: 163: train mse: 18.019654035568237 val mse: 12.096651315689087\n",
      "Epoch: 164: train mse: 17.246235609054565 val mse: 12.073778629302979\n",
      "Epoch: 165: train mse: 23.14909052848816 val mse: 12.041104793548584\n",
      "Epoch: 166: train mse: 16.888579428195953 val mse: 12.029217720031738\n",
      "Epoch: 167: train mse: 17.407382369041443 val mse: 12.01240086555481\n",
      "Epoch: 168: train mse: 20.25189995765686 val mse: 11.984413146972656\n",
      "Epoch: 169: train mse: 17.142780900001526 val mse: 11.968778133392334\n",
      "Epoch: 170: train mse: 16.974234223365784 val mse: 11.938809394836426\n",
      "Epoch: 171: train mse: 21.48121953010559 val mse: 11.914084434509277\n",
      "Epoch: 172: train mse: 19.859335899353027 val mse: 11.907036781311035\n",
      "Epoch: 173: train mse: 19.52272868156433 val mse: 11.898032665252686\n",
      "Epoch: 174: train mse: 24.002554893493652 val mse: 11.889891147613525\n",
      "Epoch: 175: train mse: 16.727744340896606 val mse: 11.90238904953003\n",
      "Epoch: 176: train mse: 16.896167755126953 val mse: 11.893115043640137\n",
      "Epoch: 177: train mse: 16.617025017738342 val mse: 11.87037992477417\n",
      "Epoch: 178: train mse: 19.56866431236267 val mse: 11.838638305664062\n",
      "Epoch: 179: train mse: 16.240359365940094 val mse: 11.826796293258667\n",
      "Epoch: 180: train mse: 19.35847783088684 val mse: 11.825083017349243\n",
      "Epoch: 181: train mse: 18.971380710601807 val mse: 11.819839000701904\n",
      "Epoch: 182: train mse: 16.66176748275757 val mse: 11.813835620880127\n",
      "Epoch: 183: train mse: 20.138498067855835 val mse: 11.795835018157959\n",
      "Epoch: 184: train mse: 21.059956312179565 val mse: 11.78508996963501\n",
      "Epoch: 185: train mse: 23.399121522903442 val mse: 11.788639545440674\n",
      "Epoch: 186: train mse: 21.707982540130615 val mse: 11.800769805908203\n",
      "Epoch: 187: train mse: 22.070669412612915 val mse: 11.81744384765625\n",
      "Epoch: 188: train mse: 21.878350257873535 val mse: 11.846274375915527\n",
      "Epoch: 189: train mse: 18.50057864189148 val mse: 11.872894287109375\n",
      "Epoch: 190: train mse: 18.392037391662598 val mse: 11.888757944107056\n",
      "Epoch: 191: train mse: 19.333600759506226 val mse: 11.898492336273193\n",
      "Epoch: 192: train mse: 15.880425572395325 val mse: 11.892601490020752\n",
      "Epoch: 193: train mse: 16.344969153404236 val mse: 11.87063455581665\n",
      "Epoch: 194: train mse: 17.70639443397522 val mse: 11.833959579467773\n",
      "Epoch: 195: train mse: 20.269329071044922 val mse: 11.812498807907104\n",
      "Epoch: 196: train mse: 18.15688157081604 val mse: 11.797574996948242\n",
      "Epoch: 197: train mse: 19.711629629135132 val mse: 11.77884292602539\n",
      "Epoch: 198: train mse: 15.347941517829895 val mse: 11.766335725784302\n",
      "Epoch: 199: train mse: 17.41604208946228 val mse: 11.745368957519531\n",
      "Epoch: 200: train mse: 17.52807641029358 val mse: 11.7319016456604\n",
      "Epoch: 201: train mse: 15.204754054546356 val mse: 11.71959114074707\n",
      "Epoch: 202: train mse: 19.116734743118286 val mse: 11.702224731445312\n",
      "Epoch: 203: train mse: 15.457189917564392 val mse: 11.683134078979492\n",
      "Epoch: 204: train mse: 15.357176780700684 val mse: 11.658824443817139\n",
      "Epoch: 205: train mse: 17.079091548919678 val mse: 11.63460659980774\n",
      "Epoch: 206: train mse: 17.04680037498474 val mse: 11.614505529403687\n",
      "Epoch: 207: train mse: 17.529066562652588 val mse: 11.598856449127197\n",
      "Epoch: 208: train mse: 17.374812364578247 val mse: 11.586633205413818\n",
      "Epoch: 209: train mse: 17.28907346725464 val mse: 11.577291488647461\n",
      "Epoch: 210: train mse: 17.450856685638428 val mse: 11.569893836975098\n",
      "Epoch: 211: train mse: 15.189975500106812 val mse: 11.564562320709229\n",
      "Epoch: 212: train mse: 18.006222009658813 val mse: 11.54271650314331\n",
      "Epoch: 213: train mse: 17.800342082977295 val mse: 11.527646541595459\n",
      "Epoch: 214: train mse: 14.900631546974182 val mse: 11.521102905273438\n",
      "Epoch: 215: train mse: 25.71436882019043 val mse: 11.505250930786133\n",
      "Epoch: 216: train mse: 17.43309235572815 val mse: 11.531759262084961\n",
      "Epoch: 217: train mse: 16.864702224731445 val mse: 11.547109127044678\n",
      "Epoch: 218: train mse: 18.08325505256653 val mse: 11.56229853630066\n",
      "Epoch: 219: train mse: 15.170812368392944 val mse: 11.575470924377441\n",
      "Epoch: 220: train mse: 15.054044127464294 val mse: 11.559643507003784\n",
      "Epoch: 221: train mse: 14.451068460941315 val mse: 11.53452730178833\n",
      "Epoch: 222: train mse: 14.664251208305359 val mse: 11.500096321105957\n",
      "Epoch: 223: train mse: 14.575978636741638 val mse: 11.460672855377197\n",
      "Epoch: 224: train mse: 14.159416109323502 val mse: 11.42678689956665\n",
      "Epoch: 225: train mse: 16.515186309814453 val mse: 11.392841339111328\n",
      "Epoch: 226: train mse: 18.73811364173889 val mse: 11.367549896240234\n",
      "Epoch: 227: train mse: 14.779112458229065 val mse: 11.353981018066406\n",
      "Epoch: 228: train mse: 19.09596538543701 val mse: 11.330496788024902\n",
      "Epoch: 229: train mse: 13.829250767827034 val mse: 11.33126187324524\n",
      "Epoch: 230: train mse: 16.726780891418457 val mse: 11.330987453460693\n",
      "Epoch: 231: train mse: 14.169893383979797 val mse: 11.324009418487549\n",
      "Epoch: 232: train mse: 14.62607717514038 val mse: 11.31023359298706\n",
      "Epoch: 233: train mse: 14.83467161655426 val mse: 11.28516411781311\n",
      "Epoch: 234: train mse: 22.790246725082397 val mse: 11.26742935180664\n",
      "Epoch: 235: train mse: 17.659626007080078 val mse: 11.276585578918457\n",
      "Epoch: 236: train mse: 17.506566524505615 val mse: 11.283317804336548\n",
      "Epoch: 237: train mse: 14.098571956157684 val mse: 11.300702333450317\n",
      "Epoch: 238: train mse: 17.083787441253662 val mse: 11.295114994049072\n",
      "Epoch: 239: train mse: 17.44891369342804 val mse: 11.29686427116394\n",
      "Epoch: 240: train mse: 18.078391790390015 val mse: 11.296050071716309\n",
      "Epoch: 241: train mse: 17.399599075317383 val mse: 11.315735816955566\n",
      "Epoch: 242: train mse: 18.810932993888855 val mse: 11.331182718276978\n",
      "Epoch: 243: train mse: 16.334465265274048 val mse: 11.357605457305908\n",
      "Epoch: 244: train mse: 15.389135837554932 val mse: 11.377492904663086\n",
      "Epoch: 245: train mse: 13.481590420007706 val mse: 11.387089252471924\n",
      "Epoch: 246: train mse: 13.757813513278961 val mse: 11.381538152694702\n",
      "Epoch: 247: train mse: 18.95949673652649 val mse: 11.361989498138428\n",
      "Epoch: 248: train mse: 14.202551007270813 val mse: 11.359560012817383\n",
      "Epoch: 249: train mse: 15.467072248458862 val mse: 11.335379362106323\n",
      "Epoch: 250: train mse: 13.434508442878723 val mse: 11.317028999328613\n",
      "Epoch: 251: train mse: 13.511088192462921 val mse: 11.296525955200195\n",
      "Epoch: 252: train mse: 19.03301763534546 val mse: 11.263408184051514\n",
      "Epoch: 253: train mse: 17.075592041015625 val mse: 11.255563974380493\n",
      "Epoch: 254: train mse: 15.273632526397705 val mse: 11.259552240371704\n",
      "Epoch: 255: train mse: 18.735052585601807 val mse: 11.273478984832764\n",
      "Epoch: 256: train mse: 15.719188928604126 val mse: 11.2898850440979\n",
      "Epoch: 257: train mse: 19.57518744468689 val mse: 11.30000925064087\n",
      "Epoch: 258: train mse: 18.864924907684326 val mse: 11.321245431900024\n",
      "Epoch: 259: train mse: 13.340476036071777 val mse: 11.34882640838623\n",
      "Epoch: 260: train mse: 13.99674379825592 val mse: 11.336912393569946\n",
      "Epoch: 261: train mse: 15.085654735565186 val mse: 11.30603837966919\n",
      "Epoch: 262: train mse: 13.546968340873718 val mse: 11.278837203979492\n",
      "Epoch: 263: train mse: 18.206074714660645 val mse: 11.253715991973877\n",
      "Epoch: 264: train mse: 15.839013576507568 val mse: 11.25746488571167\n",
      "Epoch: 265: train mse: 20.445796728134155 val mse: 11.257492065429688\n",
      "Epoch: 266: train mse: 13.546513676643372 val mse: 11.28121304512024\n",
      "Epoch: 267: train mse: 12.772734254598618 val mse: 11.270887851715088\n",
      "Epoch: 268: train mse: 15.710821390151978 val mse: 11.255129337310791\n",
      "Epoch: 269: train mse: 12.641207098960876 val mse: 11.23584508895874\n",
      "Epoch: 270: train mse: 16.85447359085083 val mse: 11.21621060371399\n",
      "Epoch: 271: train mse: 13.15118682384491 val mse: 11.200486183166504\n",
      "Epoch: 272: train mse: 19.851243495941162 val mse: 11.174558639526367\n",
      "Epoch: 273: train mse: 12.551931947469711 val mse: 11.170737266540527\n",
      "Epoch: 274: train mse: 16.106656312942505 val mse: 11.161519527435303\n",
      "Epoch: 275: train mse: 12.61745023727417 val mse: 11.166200637817383\n",
      "Epoch: 276: train mse: 15.784915804862976 val mse: 11.157160758972168\n",
      "Epoch: 277: train mse: 12.492544561624527 val mse: 11.139415264129639\n",
      "Epoch: 278: train mse: 12.967988729476929 val mse: 11.113810062408447\n",
      "Epoch: 279: train mse: 12.997336745262146 val mse: 11.0768404006958\n",
      "Epoch: 280: train mse: 12.464454799890518 val mse: 11.046237468719482\n",
      "Epoch: 281: train mse: 13.184304237365723 val mse: 11.010497570037842\n",
      "Epoch: 282: train mse: 16.983817100524902 val mse: 10.977294206619263\n",
      "Epoch: 283: train mse: 16.283447861671448 val mse: 10.976469039916992\n",
      "Epoch: 284: train mse: 13.00373911857605 val mse: 10.989796161651611\n",
      "Epoch: 285: train mse: 13.465819358825684 val mse: 10.983006477355957\n",
      "Epoch: 286: train mse: 12.41917735338211 val mse: 10.978252410888672\n",
      "Epoch: 287: train mse: 15.14251160621643 val mse: 10.956358194351196\n",
      "Epoch: 288: train mse: 12.926572561264038 val mse: 10.92793083190918\n",
      "Epoch: 289: train mse: 12.17338714003563 val mse: 10.905757665634155\n",
      "Epoch: 290: train mse: 17.097851753234863 val mse: 10.891338586807251\n",
      "Epoch: 291: train mse: 12.14313718676567 val mse: 10.881775140762329\n",
      "Epoch: 292: train mse: 13.600192785263062 val mse: 10.864534854888916\n",
      "Epoch: 293: train mse: 15.917643785476685 val mse: 10.857191324234009\n",
      "Epoch: 294: train mse: 16.800424814224243 val mse: 10.867745876312256\n",
      "Epoch: 295: train mse: 11.964677959680557 val mse: 10.898357391357422\n",
      "Epoch: 296: train mse: 13.18191909790039 val mse: 10.912943840026855\n",
      "Epoch: 297: train mse: 12.079415112733841 val mse: 10.921692371368408\n"
     ]
    },
    {
     "name": "stderr",
     "output_type": "stream",
     "text": [
      "`Trainer.fit` stopped: `max_epochs=300` reached.\n"
     ]
    },
    {
     "name": "stdout",
     "output_type": "stream",
     "text": [
      "Epoch: 298: train mse: 15.343560218811035 val mse: 10.907288312911987\n",
      "Epoch: 299: train mse: 13.993003129959106 val mse: 10.90687084197998\n",
      "Epoch: 300: train mse: 13.993003129959106 val mse: 10.90687084197998\n"
     ]
    }
   ],
   "source": [
    "config={'layers': [960, 512, 1], \n",
    "        'epoch': 300, \n",
    "        'batch_size': 16,\n",
    "        'patience': 200,\n",
    "        'early_stopping': True,\n",
    "        'lr': 1e-4,\n",
    "        'print_every_n_epoch': 1,\n",
    "        'debug': True}\n",
    "surrogate = topmodel.MLPSurrogate(config=config)\n",
    "surrogate.trainmodel(X=X_train, y=y_train, val=(X_test, y_test))"
   ]
  },
  {
   "cell_type": "code",
   "execution_count": 25,
   "metadata": {},
   "outputs": [
    {
     "name": "stderr",
     "output_type": "stream",
     "text": [
      "/tmp/ipykernel_840650/3945170610.py:9: ConstantInputWarning: An input array is constant; the correlation coefficient is not defined.\n",
      "  res = stats.spearmanr(a[indices], b[indices])\n"
     ]
    },
    {
     "data": {
      "image/png": "[encoded data removed]",
      "text/plain": [
       "<Figure size 1000x300 with 3 Axes>"
      ]
     },
     "metadata": {},
     "output_type": "display_data"
    }
   ],
   "source": [
    "y_train_pred = surrogate.predict(X_train)\n",
    "y_val_pred = surrogate.predict(X_val)\n",
    "y_test_pred = surrogate.predict(X_test)\n",
    "fig, ax = plt.subplots(1,3, figsize=(10,3), layout='constrained')\n",
    "ax[0].plot(y_train, y_train_pred, '.', alpha=0.5)\n",
    "ax[1].plot(y_val, y_val_pred, '.', alpha=0.5)\n",
    "ax[2].plot(y_test, y_test_pred, '.', alpha=0.5)\n",
    "\n",
    "mse = mean_squared_error(y_train, y_train_pred)\n",
    "corr, ci_lower, ci_upper, *_  = get_spearmanr_bootstrap(y_train, y_train_pred)\n",
    "ax[0].set_title(f'Train \\nmse : {str(round(mse, 2))} \\nspearman correlation = {corr} CI ({ci_lower}, {ci_upper})', size=10)\n",
    "\n",
    "mse = mean_squared_error(y_val, y_val_pred)\n",
    "corr, ci_lower, ci_upper, *_  = get_spearmanr_bootstrap(y_val, y_val_pred)\n",
    "ax[1].set_title(f'Val \\nmse : {str(round(mse, 2))} \\nspearman correlation = {corr} CI ({ci_lower}, {ci_upper})', size=10)\n",
    "\n",
    "mse = mean_squared_error(y_test, y_test_pred)\n",
    "corr, ci_lower, ci_upper, *_  = get_spearmanr_bootstrap(y_test, y_test_pred)\n",
    "ax[2].set_title(f'Test \\nmse : {str(round(mse, 2))} \\nspearman correlation = {corr} CI ({ci_lower}, {ci_upper})', size=10)\n",
    "\n",
    "for i in range(3):\n",
    "    ax[i].set_xlabel('True')\n",
    "    ax[i].set_ylabel('Pred')\n",
    "\n",
    "plt.show()"
   ]
  },
  {
   "cell_type": "code",
   "execution_count": null,
   "metadata": {},
   "outputs": [],
   "source": [
    "# y_pred = surrogate.predict(embeddings)\n",
    "# assert y_pred.shape[0] == embeddings.shape[0] == df_results.shape[0]\n",
    "# df_results['pred_ESMC600M_feat_mean_MLP'] = y_pred\n",
    "\n",
    "# df_results.to_csv(results_file, index=False)"
   ]
  },
  {
   "cell_type": "code",
   "execution_count": null,
   "metadata": {},
   "outputs": [],
   "source": [
    "df_results.columns[df_results.columns.str.contains('pred')]"
   ]
  },
  {
   "cell_type": "code",
   "execution_count": null,
   "metadata": {},
   "outputs": [],
   "source": []
  },
  {
   "cell_type": "markdown",
   "metadata": {},
   "source": [
    "#### ESM2, ESM3, ESMC - perplexities"
   ]
  },
  {
   "cell_type": "code",
   "execution_count": null,
   "metadata": {},
   "outputs": [],
   "source": [
    "# esm2 = ESM2(model_path='/data/users/kgeorge/workspace/esm2/checkpoints/esm2_t33_650M_UR50D.pt', device='gpu')\n",
    "# esm3 = ESM3LM(device='gpu')\n",
    "# esmc = ESMCLM(name='esmc_300m', device='gpu')\n",
    "esmc = ESMCLM(name='esmc_600m', device='gpu')"
   ]
  },
  {
   "cell_type": "code",
   "execution_count": null,
   "metadata": {},
   "outputs": [],
   "source": [
    "y = df['fitness_log'].to_numpy().astype(np.float32)"
   ]
  },
  {
   "cell_type": "code",
   "execution_count": null,
   "metadata": {},
   "outputs": [],
   "source": [
    "y_pred = []\n",
    "for seq in tqdm(df['seq']):\n",
    "    # perplexity = esm2.compute_perplexity(seq)\n",
    "    # perplexity = esm3.compute_perplexity(seq)\n",
    "    perplexity = esmc.compute_perplexity(seq)\n",
    "    y_pred.append(perplexity)\n",
    "\n",
    "y_pred = np.array(y_pred)"
   ]
  },
  {
   "cell_type": "code",
   "execution_count": null,
   "metadata": {},
   "outputs": [],
   "source": [
    "fig, ax = plt.subplots(1,2, figsize=(7,3), layout='constrained')\n",
    "\n",
    "ax[0].plot(y, -y_pred, '.', alpha=0.5)\n",
    "corr = stats.spearmanr(y, -y_pred)\n",
    "corr, ci_lower, ci_upper, *_  = get_spearmanr_bootstrap(y, -y_pred)\n",
    "ax[0].set_title(f'Train \\nspearman correlation = {corr} CI ({ci_lower}, {ci_upper})', size=10)\n",
    "\n",
    "mask = ~(df['fitness_raw'] == 0)\n",
    "ax[1].plot(y[mask], -y_pred[mask], '.', alpha=0.5)\n",
    "corr, ci_lower, ci_upper, *_  = get_spearmanr_bootstrap(y[mask], -y_pred[mask])\n",
    "ax[1].set_title(f'Train \\nspearman correlation = {corr} CI ({ci_lower}, {ci_upper})', size=10)\n",
    "\n",
    "for i in range(2):\n",
    "    ax[i].set_xlabel('True')\n",
    "    ax[i].set_ylabel('Pred')\n",
    "\n",
    "plt.show()"
   ]
  },
  {
   "cell_type": "code",
   "execution_count": null,
   "metadata": {},
   "outputs": [],
   "source": [
    "# assert y_pred.shape[0] == df_results.shape[0]\n",
    "# df_results['pred_ESMC600M_perplexity'] = y_pred\n",
    "\n",
    "# df_results.to_csv(results_file, index=False)"
   ]
  },
  {
   "cell_type": "code",
   "execution_count": null,
   "metadata": {},
   "outputs": [],
   "source": [
    "df_results.columns[df_results.columns.str.contains('pred')]"
   ]
  },
  {
   "cell_type": "code",
   "execution_count": null,
   "metadata": {},
   "outputs": [],
   "source": []
  },
  {
   "cell_type": "markdown",
   "metadata": {},
   "source": [
    "#### ESM2, ESM3, ESMC - ZeroShot Margiaals"
   ]
  },
  {
   "cell_type": "code",
   "execution_count": null,
   "metadata": {},
   "outputs": [],
   "source": [
    "# from DomainPrediction.utils.constants import *"
   ]
  },
  {
   "cell_type": "code",
   "execution_count": null,
   "metadata": {},
   "outputs": [],
   "source": [
    "# gxps_wt = helper.read_fasta('/nethome/kgeorge/workspace/DomainPrediction/Data/gxps/GxpS_ATC.fasta', mode='str')[0]\n",
    "# A_domain_wt = ''.join([s for i, s in enumerate(gxps_wt) if i in A_gxps_atc])\n",
    "# C_domain_wt = ''.join([s for i, s in enumerate(gxps_wt) if i in C_gxps_atc])\n",
    "# TplusLinker_wt = ''.join([s for i, s in enumerate(gxps_wt) if i not in A_gxps_atc+C_gxps_atc])"
   ]
  },
  {
   "cell_type": "code",
   "execution_count": null,
   "metadata": {},
   "outputs": [],
   "source": [
    "# assert TplusLinker_wt == df.loc[df['name'] == 'WT', 'seq'].iloc[0]"
   ]
  },
  {
   "cell_type": "code",
   "execution_count": null,
   "metadata": {},
   "outputs": [],
   "source": [
    "# df['TplusLinker'] = df['seq']"
   ]
  },
  {
   "cell_type": "code",
   "execution_count": null,
   "metadata": {},
   "outputs": [],
   "source": [
    "# assert gxps_wt ==  A_domain_wt + TplusLinker_wt + C_domain_wt"
   ]
  },
  {
   "cell_type": "code",
   "execution_count": null,
   "metadata": {},
   "outputs": [],
   "source": [
    "# df['seq'] = df['seq'].apply(lambda x: A_domain_wt+x+C_domain_wt)"
   ]
  },
  {
   "cell_type": "code",
   "execution_count": null,
   "metadata": {},
   "outputs": [],
   "source": [
    "# df.head()"
   ]
  },
  {
   "cell_type": "code",
   "execution_count": null,
   "metadata": {},
   "outputs": [],
   "source": [
    "# assert gxps_wt == df.loc[df['name'] == 'WT', 'seq'].iloc[0]"
   ]
  },
  {
   "cell_type": "code",
   "execution_count": null,
   "metadata": {},
   "outputs": [],
   "source": [
    "# esm2 = ESM2(model_path='/data/users/kgeorge/workspace/esm2/checkpoints/esm2_t33_650M_UR50D.pt', device='gpu')\n",
    "# esm3 = ESM3LM(device='gpu')\n",
    "# esmc = ESMCLM(name='esmc_300m', device='gpu')\n",
    "esmc = ESMCLM(name='esmc_600m', device='gpu')"
   ]
  },
  {
   "cell_type": "code",
   "execution_count": null,
   "metadata": {},
   "outputs": [],
   "source": [
    "wt_sequence = df.loc[df['name'] == 'WT', 'seq'].iloc[0]"
   ]
  },
  {
   "cell_type": "code",
   "execution_count": null,
   "metadata": {},
   "outputs": [],
   "source": [
    "# ## wt marginals\n",
    "# # wt_log_prob = esm2.get_log_prob(wt_sequence)\n",
    "# # wt_log_prob = esm3.get_log_prob(wt_sequence)\n",
    "# wt_log_prob = esmc.get_log_prob(wt_sequence)\n",
    "# y_pred = []\n",
    "# for i, row in tqdm(df.iterrows()):\n",
    "#     mt_sequence = row['seq']\n",
    "#     # score, n_muts = esm2.get_wildtype_marginal(mt_sequence, wt_sequence, wt_log_prob)\n",
    "#     # score, n_muts = esm3.get_wildtype_marginal(mt_sequence, wt_sequence, wt_log_prob)\n",
    "#     score, n_muts = esmc.get_wildtype_marginal(mt_sequence, wt_sequence, wt_log_prob)\n",
    "\n",
    "#     assert n_muts == row['n_mut']\n",
    "\n",
    "#     y_pred.append(score)\n",
    "\n",
    "# y_pred = np.array(y_pred)"
   ]
  },
  {
   "cell_type": "code",
   "execution_count": null,
   "metadata": {},
   "outputs": [],
   "source": [
    "# ## masked marginals\n",
    "# y_pred = []\n",
    "# for i, row in tqdm(df.iterrows()):\n",
    "#     mt_sequence = row['seq']\n",
    "#     # score, n_muts = esm2.get_masked_marginal(mt_sequence, wt_sequence)\n",
    "#     # score, n_muts = esm3.get_masked_marginal(mt_sequence, wt_sequence)\n",
    "#     score, n_muts = esmc.get_masked_marginal(mt_sequence, wt_sequence)\n",
    "\n",
    "#     assert n_muts == row['n_mut']\n",
    "\n",
    "#     y_pred.append(score)\n",
    "\n",
    "# y_pred = np.array(y_pred)"
   ]
  },
  {
   "cell_type": "code",
   "execution_count": null,
   "metadata": {},
   "outputs": [],
   "source": [
    "# ## masked marginals mutant\n",
    "# y_pred = []\n",
    "# for i, row in tqdm(df.iterrows()):\n",
    "#     mt_sequence = row['seq']\n",
    "#     # score, n_muts = esm2.get_masked_marginal_var(mt_sequence, wt_sequence)\n",
    "#     # score, n_muts = esm3.get_masked_marginal_var(mt_sequence, wt_sequence)\n",
    "#     score, n_muts = esmc.get_masked_marginal_var(mt_sequence, wt_sequence, mode='mt')\n",
    "\n",
    "#     assert n_muts == row['n_mut']\n",
    "\n",
    "#     y_pred.append(score)\n",
    "\n",
    "# y_pred = np.array(y_pred)"
   ]
  },
  {
   "cell_type": "code",
   "execution_count": null,
   "metadata": {},
   "outputs": [],
   "source": [
    "## pseudolikelihood\n",
    "y_pred = []\n",
    "for i, row in tqdm(df.iterrows()):\n",
    "    mt_sequence = row['seq']\n",
    "    # score, n_muts = esm2.get_masked_marginal_var(mt_sequence, wt_sequence)\n",
    "    # score, n_muts = esm3.get_masked_marginal_var(mt_sequence, wt_sequence)\n",
    "    score = esmc.pseudolikelihood(mt_sequence)\n",
    "\n",
    "    y_pred.append(score)\n",
    "\n",
    "y_pred = np.array(y_pred)"
   ]
  },
  {
   "cell_type": "code",
   "execution_count": null,
   "metadata": {},
   "outputs": [],
   "source": [
    "y = df['fitness_log'].to_numpy().astype(np.float32)"
   ]
  },
  {
   "cell_type": "code",
   "execution_count": null,
   "metadata": {},
   "outputs": [],
   "source": [
    "fig, ax = plt.subplots(1,2, figsize=(7,3), layout='constrained')\n",
    "\n",
    "ax[0].plot(y, y_pred, '.', alpha=0.5)\n",
    "corr, ci_lower, ci_upper, *_  = get_spearmanr_bootstrap(y, y_pred)\n",
    "ax[0].set_title(f'Full Dataset \\nspearman correlation = {corr} CI ({ci_lower}, {ci_upper})', size=10)\n",
    "\n",
    "mask = ~(df['fitness_raw'] == 0)\n",
    "ax[1].plot(y[mask], y_pred[mask], '.', alpha=0.5)\n",
    "corr, ci_lower, ci_upper, *_  = get_spearmanr_bootstrap(y[mask], y_pred[mask])\n",
    "ax[1].set_title(f'Omit fitness = 0 \\nspearman correlation = {corr} CI ({ci_lower}, {ci_upper})', size=10)\n",
    "\n",
    "for i in range(2):\n",
    "    ax[i].set_xlabel('True')\n",
    "    ax[i].set_ylabel('Pred')\n",
    "\n",
    "plt.show()"
   ]
  },
  {
   "cell_type": "code",
   "execution_count": null,
   "metadata": {},
   "outputs": [],
   "source": [
    "plt.figure(figsize=(3, 3))\n",
    "_ = df['n_mut'].hist()"
   ]
  },
  {
   "cell_type": "code",
   "execution_count": null,
   "metadata": {},
   "outputs": [],
   "source": [
    "fig, ax = plt.subplots(1,2, figsize=(7,3), layout='constrained')\n",
    "\n",
    "mask_muts = (df['n_mut'] < 15)\n",
    "\n",
    "ax[0].plot(y[mask_muts], y_pred[mask_muts], '.', alpha=0.5)\n",
    "corr, ci_lower, ci_upper, *_  = get_spearmanr_bootstrap(y[mask_muts], y_pred[mask_muts])\n",
    "ax[0].set_title(f'n mutations < 15 \\nspearman correlation = {corr} CI ({ci_lower}, {ci_upper})', size=10)\n",
    "\n",
    "\n",
    "ax[1].plot(y[~mask_muts], y_pred[~mask_muts], '.', alpha=0.5)\n",
    "corr, ci_lower, ci_upper, *_  = get_spearmanr_bootstrap(y[~mask_muts], y_pred[~mask_muts])\n",
    "ax[1].set_title(f'n mutations > 15 \\nspearman correlation = {corr} CI ({ci_lower}, {ci_upper})', size=10)\n",
    "\n",
    "for i in range(2):\n",
    "    ax[i].set_xlabel('True')\n",
    "    ax[i].set_ylabel('Pred')\n",
    "\n",
    "plt.show()"
   ]
  },
  {
   "cell_type": "code",
   "execution_count": null,
   "metadata": {},
   "outputs": [],
   "source": [
    "fig, ax = plt.subplots(1,2, figsize=(7,3), layout='constrained')\n",
    "\n",
    "mask_muts = (df['n_mut'] < 15)\n",
    "mask_omit = df['fitness_raw'] > 0.01\n",
    "\n",
    "ax[0].plot(y[mask_muts & mask_omit], y_pred[mask_muts & mask_omit], '.', alpha=0.5)\n",
    "corr, ci_lower, ci_upper, *_  = get_spearmanr_bootstrap(y[mask_muts & mask_omit], y_pred[mask_muts & mask_omit])\n",
    "ax[0].set_title(f'n mutations < 15 and omit \\nspearman correlation = {corr} CI ({ci_lower}, {ci_upper})', size=10)\n",
    "\n",
    "ax[1].plot(y[~mask_muts & mask_omit], y_pred[~mask_muts & mask_omit], '.', alpha=0.5)\n",
    "corr, ci_lower, ci_upper, *_  = get_spearmanr_bootstrap(y[~mask_muts & mask_omit], y_pred[~mask_muts & mask_omit])\n",
    "ax[1].set_title(f'n mutations > 15 and omit \\nspearman correlation = {corr} CI ({ci_lower}, {ci_upper})', size=10)\n",
    "\n",
    "for i in range(2):\n",
    "    ax[i].set_xlabel('True')\n",
    "    ax[i].set_ylabel('Pred')\n",
    "\n",
    "plt.show()"
   ]
  },
  {
   "cell_type": "code",
   "execution_count": null,
   "metadata": {},
   "outputs": [],
   "source": []
  },
  {
   "cell_type": "code",
   "execution_count": null,
   "metadata": {},
   "outputs": [],
   "source": [
    "# assert y_pred.shape[0] == df_results.shape[0]\n",
    "# df_results['pred_ESMC600_wt_marginal'] = y_pred\n",
    "\n",
    "# df_results.to_csv(results_file, index=False)"
   ]
  },
  {
   "cell_type": "code",
   "execution_count": null,
   "metadata": {},
   "outputs": [],
   "source": [
    "# assert y_pred.shape[0] == df_results.shape[0]\n",
    "# df_results['pred_ESMC600_masked_marginal'] = y_pred\n",
    "\n",
    "# df_results.to_csv(results_file, index=False)"
   ]
  },
  {
   "cell_type": "code",
   "execution_count": null,
   "metadata": {},
   "outputs": [],
   "source": [
    "df_results.columns[df_results.columns.str.contains('pred')]"
   ]
  },
  {
   "cell_type": "code",
   "execution_count": null,
   "metadata": {},
   "outputs": [],
   "source": []
  },
  {
   "cell_type": "markdown",
   "metadata": {},
   "source": [
    "#### ConFit - Contrastive Fitness Learning"
   ]
  },
  {
   "cell_type": "code",
   "execution_count": null,
   "metadata": {},
   "outputs": [],
   "source": [
    "train_mask, val_mask, test_mask = get_split_mask(df, omit_zero=False)\n",
    "df_train = df[train_mask]\n",
    "df_val = df[val_mask]\n",
    "df_test = df[test_mask]"
   ]
  },
  {
   "cell_type": "code",
   "execution_count": null,
   "metadata": {},
   "outputs": [],
   "source": [
    "# config={'model_path': '/data/users/kgeorge/workspace/esm2/checkpoints/esm2_t33_650M_UR50D.pt',\n",
    "#         'epoch': 30, \n",
    "#         'batch_size': 8,\n",
    "#         'lambda': 0.1,\n",
    "#         'accumulate_batch_size': 32,\n",
    "#         'patience': 20,\n",
    "#         'early_stopping': False,\n",
    "#         'lr': 5e-4,\n",
    "#         'print_every_n_epoch': 1,\n",
    "#         'device': 'gpu'}\n",
    "# surrogate = ESM2ConFit(config=config)\n",
    "# surrogate.print_trainable_parameters(surrogate.model)"
   ]
  },
  {
   "cell_type": "code",
   "execution_count": null,
   "metadata": {},
   "outputs": [],
   "source": [
    "config={'epoch': 10, \n",
    "        'batch_size': 8,\n",
    "        'lambda': 0.1,\n",
    "        'accumulate_batch_size': 32,\n",
    "        'patience': 20,\n",
    "        'early_stopping': False,\n",
    "        'lr': 5e-4,\n",
    "        'print_every_n_epoch': 1,\n",
    "        'device': 'gpu'}\n",
    "# surrogate = ESMCConFit(name='esmc_300m', config=config)\n",
    "surrogate = ESMCConFit(name='esmc_600m', config=config)\n",
    "surrogate.print_trainable_parameters(surrogate.model)"
   ]
  },
  {
   "cell_type": "code",
   "execution_count": null,
   "metadata": {},
   "outputs": [],
   "source": [
    "wt_sequence = df.loc[df['name'] == 'WT', 'seq'].iloc[0]"
   ]
  },
  {
   "cell_type": "code",
   "execution_count": null,
   "metadata": {},
   "outputs": [],
   "source": [
    "surrogate.sanity_check(df_train, wt_sequence)"
   ]
  },
  {
   "cell_type": "code",
   "execution_count": null,
   "metadata": {},
   "outputs": [],
   "source": [
    "surrogate.config['epoch'] = 20"
   ]
  },
  {
   "cell_type": "code",
   "execution_count": null,
   "metadata": {},
   "outputs": [],
   "source": [
    "surrogate.trainmodel(df_train, wt_sequence, df_test[df_test['fitness_raw']>0.01])"
   ]
  },
  {
   "cell_type": "code",
   "execution_count": null,
   "metadata": {},
   "outputs": [],
   "source": [
    "## masked marginals\n",
    "y_pred = []\n",
    "for i, row in tqdm(df.iterrows()):\n",
    "    mt_sequence = row['seq']\n",
    "    score, n_muts = surrogate.get_masked_marginal(mt_sequence, wt_sequence)\n",
    "\n",
    "    assert n_muts == row['n_mut']\n",
    "\n",
    "    y_pred.append(score)\n",
    "\n",
    "y_pred = np.array(y_pred)\n",
    "y = df['fitness_log'].to_numpy().astype(np.float32)"
   ]
  },
  {
   "cell_type": "code",
   "execution_count": null,
   "metadata": {},
   "outputs": [],
   "source": [
    "y_train_pred, y_train = y_pred[train_mask], y[train_mask]\n",
    "y_val_pred, y_val = y_pred[val_mask], y[val_mask]\n",
    "y_test_pred, y_test = y_pred[test_mask], y[test_mask]\n",
    "\n",
    "fig, ax = plt.subplots(1,3, figsize=(10,3), layout='constrained')\n",
    "ax[0].plot(y_train, y_train_pred, '.', alpha=0.8)\n",
    "ax[1].plot(y_val, y_val_pred, '.', alpha=0.8)\n",
    "ax[2].plot(y_test, y_test_pred, '.', alpha=0.8)\n",
    "\n",
    "mse = mean_squared_error(y_train, y_train_pred)\n",
    "corr, ci_lower, ci_upper, *_  = get_spearmanr_bootstrap(y_train, y_train_pred)\n",
    "ax[0].set_title(f'Train \\nspearman correlation = {corr} CI ({ci_lower}, {ci_upper})', size=10)\n",
    "\n",
    "mse = mean_squared_error(y_val, y_val_pred)\n",
    "corr, ci_lower, ci_upper, *_  = get_spearmanr_bootstrap(y_val, y_val_pred)\n",
    "ax[1].set_title(f'Val \\nspearman correlation = {corr} CI ({ci_lower}, {ci_upper})', size=10)\n",
    "\n",
    "mse = mean_squared_error(y_test, y_test_pred)\n",
    "corr, ci_lower, ci_upper, *_  = get_spearmanr_bootstrap(y_test, y_test_pred)\n",
    "ax[2].set_title(f'Test \\nspearman correlation = {corr} CI ({ci_lower}, {ci_upper})', size=10)\n",
    "\n",
    "for i in range(3):\n",
    "    ax[i].set_xlabel('True')\n",
    "    ax[i].set_ylabel('Pred')\n",
    "\n",
    "plt.show()"
   ]
  },
  {
   "cell_type": "code",
   "execution_count": null,
   "metadata": {},
   "outputs": [],
   "source": [
    "omit_mask = df['fitness_raw'] != 0\n",
    "# omit_mask = df['fitness_raw'] > 0.01\n",
    "y_train_pred, y_train = y_pred[train_mask & omit_mask], y[train_mask & omit_mask]\n",
    "y_val_pred, y_val = y_pred[val_mask & omit_mask], y[val_mask & omit_mask]\n",
    "y_test_pred, y_test = y_pred[test_mask & omit_mask], y[test_mask & omit_mask]\n",
    "\n",
    "fig, ax = plt.subplots(1,3, figsize=(10,3), layout='constrained')\n",
    "ax[0].plot(y_train, y_train_pred, '.', alpha=0.8)\n",
    "ax[1].plot(y_val, y_val_pred, '.', alpha=0.8)\n",
    "ax[2].plot(y_test, y_test_pred, '.', alpha=0.8)\n",
    "\n",
    "mse = mean_squared_error(y_train, y_train_pred)\n",
    "corr, ci_lower, ci_upper, *_  = get_spearmanr_bootstrap(y_train, y_train_pred)\n",
    "ax[0].set_title(f'Train \\nspearman correlation = {corr} CI ({ci_lower}, {ci_upper})', size=10)\n",
    "\n",
    "mse = mean_squared_error(y_val, y_val_pred)\n",
    "corr, ci_lower, ci_upper, *_  = get_spearmanr_bootstrap(y_val, y_val_pred)\n",
    "ax[1].set_title(f'Val \\nspearman correlation = {corr} CI ({ci_lower}, {ci_upper})', size=10)\n",
    "\n",
    "mse = mean_squared_error(y_test, y_test_pred)\n",
    "corr, ci_lower, ci_upper, *_  = get_spearmanr_bootstrap(y_test, y_test_pred)\n",
    "ax[2].set_title(f'Test \\nspearman correlation = {corr} CI ({ci_lower}, {ci_upper})', size=10)\n",
    "\n",
    "for i in range(3):\n",
    "    ax[i].set_xlabel('True')\n",
    "    ax[i].set_ylabel('Pred')\n",
    "\n",
    "plt.show()"
   ]
  },
  {
   "cell_type": "code",
   "execution_count": null,
   "metadata": {},
   "outputs": [],
   "source": [
    "# omit_mask = df['fitness_raw'] != 0\n",
    "omit_mask = df['fitness_raw'] > 0.01\n",
    "y_train_pred, y_train = y_pred[train_mask & omit_mask], y[train_mask & omit_mask]\n",
    "y_val_pred, y_val = y_pred[val_mask & omit_mask], y[val_mask & omit_mask]\n",
    "y_test_pred, y_test = y_pred[test_mask & omit_mask], y[test_mask & omit_mask]\n",
    "\n",
    "fig, ax = plt.subplots(1,3, figsize=(10,3), layout='constrained')\n",
    "ax[0].plot(y_train, y_train_pred, '.', alpha=0.8)\n",
    "ax[1].plot(y_val, y_val_pred, '.', alpha=0.8)\n",
    "ax[2].plot(y_test, y_test_pred, '.', alpha=0.8)\n",
    "\n",
    "mse = mean_squared_error(y_train, y_train_pred)\n",
    "corr, ci_lower, ci_upper, *_  = get_spearmanr_bootstrap(y_train, y_train_pred)\n",
    "ax[0].set_title(f'Train \\nspearman correlation = {corr} CI ({ci_lower}, {ci_upper})', size=10)\n",
    "\n",
    "# mse = mean_squared_error(y_val, y_val_pred)\n",
    "# corr, ci_lower, ci_upper, *_  = get_spearmanr_bootstrap(y_val, y_val_pred)\n",
    "# ax[1].set_title(f'Val \\nspearman correlation = {corr} CI ({ci_lower}, {ci_upper})', size=10)\n",
    "\n",
    "mse = mean_squared_error(y_test, y_test_pred)\n",
    "corr, ci_lower, ci_upper, *_  = get_spearmanr_bootstrap(y_test, y_test_pred)\n",
    "ax[2].set_title(f'Test \\nspearman correlation = {corr} CI ({ci_lower}, {ci_upper})', size=10)\n",
    "\n",
    "for i in range(3):\n",
    "    ax[i].set_xlabel('True')\n",
    "    ax[i].set_ylabel('Pred')\n",
    "\n",
    "plt.show()"
   ]
  },
  {
   "cell_type": "code",
   "execution_count": null,
   "metadata": {},
   "outputs": [],
   "source": [
    "## pseudolikelihood\n",
    "pseudo_likelihood_surrogate = []\n",
    "for i, row in tqdm(df.iterrows()):\n",
    "    mt_sequence = row['seq']\n",
    "    score = surrogate.pseudolikelihood(mt_sequence)\n",
    "\n",
    "    pseudo_likelihood_surrogate.append(score)\n",
    "\n",
    "pseudo_likelihood_surrogate = np.array(pseudo_likelihood_surrogate)"
   ]
  },
  {
   "cell_type": "code",
   "execution_count": null,
   "metadata": {},
   "outputs": [],
   "source": [
    "esmc = ESMCLM(name='esmc_600m', device='gpu')\n",
    "## pseudolikelihood\n",
    "pseudo_likelihood_baseline = []\n",
    "for i, row in tqdm(df.iterrows()):\n",
    "    mt_sequence = row['seq']\n",
    "    score = esmc.pseudolikelihood(mt_sequence)\n",
    "\n",
    "    pseudo_likelihood_baseline.append(score)\n",
    "\n",
    "pseudo_likelihood_baseline = np.array(pseudo_likelihood_baseline)"
   ]
  },
  {
   "cell_type": "code",
   "execution_count": null,
   "metadata": {},
   "outputs": [],
   "source": [
    "omit_mask = df['fitness_raw'] > 0.01\n",
    "y_train_pred, y_train = pseudo_likelihood_baseline[train_mask & omit_mask], y[train_mask & omit_mask]\n",
    "y_val_pred, y_val = pseudo_likelihood_baseline[val_mask & omit_mask], y[val_mask & omit_mask]\n",
    "y_test_pred, y_test = pseudo_likelihood_baseline[test_mask & omit_mask], y[test_mask & omit_mask]\n",
    "\n",
    "fig, ax = plt.subplots(1,3, figsize=(10,3), layout='constrained')\n",
    "ax[0].plot(y_train, y_train_pred, '.', alpha=0.8)\n",
    "ax[1].plot(y_val, y_val_pred, '.', alpha=0.8)\n",
    "ax[2].plot(y_test, y_test_pred, '.', alpha=0.8)\n",
    "\n",
    "mse = mean_squared_error(y_train, y_train_pred)\n",
    "corr, ci_lower, ci_upper, *_  = get_spearmanr_bootstrap(y_train, y_train_pred)\n",
    "ax[0].set_title(f'Train \\nspearman correlation = {corr} CI ({ci_lower}, {ci_upper})', size=10)\n",
    "\n",
    "# mse = mean_squared_error(y_val, y_val_pred)\n",
    "# corr, ci_lower, ci_upper, *_  = get_spearmanr_bootstrap(y_val, y_val_pred)\n",
    "# ax[1].set_title(f'Val \\nspearman correlation = {corr} CI ({ci_lower}, {ci_upper})', size=10)\n",
    "\n",
    "mse = mean_squared_error(y_test, y_test_pred)\n",
    "corr, ci_lower, ci_upper, *_  = get_spearmanr_bootstrap(y_test, y_test_pred)\n",
    "ax[2].set_title(f'Test \\nspearman correlation = {corr} CI ({ci_lower}, {ci_upper})', size=10)\n",
    "\n",
    "for i in range(3):\n",
    "    ax[i].set_xlabel('True')\n",
    "    ax[i].set_ylabel('Pred')\n",
    "\n",
    "plt.show()"
   ]
  },
  {
   "cell_type": "code",
   "execution_count": null,
   "metadata": {},
   "outputs": [],
   "source": [
    "omit_mask = df['fitness_raw'] > 0.01\n",
    "y_train_pred, y_train = pseudo_likelihood_surrogate[train_mask & omit_mask], y[train_mask & omit_mask]\n",
    "y_val_pred, y_val = pseudo_likelihood_surrogate[val_mask & omit_mask], y[val_mask & omit_mask]\n",
    "y_test_pred, y_test = pseudo_likelihood_surrogate[test_mask & omit_mask], y[test_mask & omit_mask]\n",
    "\n",
    "fig, ax = plt.subplots(1,3, figsize=(10,3), layout='constrained')\n",
    "ax[0].plot(y_train, y_train_pred, '.', alpha=0.8)\n",
    "ax[1].plot(y_val, y_val_pred, '.', alpha=0.8)\n",
    "ax[2].plot(y_test, y_test_pred, '.', alpha=0.8)\n",
    "\n",
    "mse = mean_squared_error(y_train, y_train_pred)\n",
    "corr, ci_lower, ci_upper, *_  = get_spearmanr_bootstrap(y_train, y_train_pred)\n",
    "ax[0].set_title(f'Train \\nspearman correlation = {corr} CI ({ci_lower}, {ci_upper})', size=10)\n",
    "\n",
    "# mse = mean_squared_error(y_val, y_val_pred)\n",
    "# corr, ci_lower, ci_upper, *_  = get_spearmanr_bootstrap(y_val, y_val_pred)\n",
    "# ax[1].set_title(f'Val \\nspearman correlation = {corr} CI ({ci_lower}, {ci_upper})', size=10)\n",
    "\n",
    "mse = mean_squared_error(y_test, y_test_pred)\n",
    "corr, ci_lower, ci_upper, *_  = get_spearmanr_bootstrap(y_test, y_test_pred)\n",
    "ax[2].set_title(f'Test \\nspearman correlation = {corr} CI ({ci_lower}, {ci_upper})', size=10)\n",
    "\n",
    "for i in range(3):\n",
    "    ax[i].set_xlabel('True')\n",
    "    ax[i].set_ylabel('Pred')\n",
    "\n",
    "plt.show()"
   ]
  },
  {
   "cell_type": "code",
   "execution_count": null,
   "metadata": {},
   "outputs": [],
   "source": [
    "# assert y_pred.shape[0] == df_results.shape[0]\n",
    "# df_results['pred_ESMC600M_confit'] = y_pred\n",
    "\n",
    "# df_results.to_csv(results_file, index=False)"
   ]
  },
  {
   "cell_type": "code",
   "execution_count": null,
   "metadata": {},
   "outputs": [],
   "source": [
    "df_results.columns[df_results.columns.str.contains('pred')]"
   ]
  },
  {
   "cell_type": "code",
   "execution_count": null,
   "metadata": {},
   "outputs": [],
   "source": []
  },
  {
   "cell_type": "markdown",
   "metadata": {},
   "source": [
    "#### Changing WT to ESM3-2"
   ]
  },
  {
   "cell_type": "code",
   "execution_count": null,
   "metadata": {},
   "outputs": [],
   "source": [
    "esmc = ESMCLM(name='esmc_600m', device='gpu')"
   ]
  },
  {
   "cell_type": "code",
   "execution_count": null,
   "metadata": {},
   "outputs": [],
   "source": [
    "wt_sequence = df.loc[df['name'] == 'WT', 'seq'].iloc[0]\n",
    "esm2_seq = df.loc[df['name'] == 'ESM2', 'seq'].iloc[0]"
   ]
  },
  {
   "cell_type": "code",
   "execution_count": null,
   "metadata": {},
   "outputs": [],
   "source": [
    "## masked marginals\n",
    "y_pred_wt = []\n",
    "y_pred_esm2 = []\n",
    "muts_wt = []\n",
    "muts_esm2 = []\n",
    "for i, row in tqdm(df.iterrows()):\n",
    "    mt_sequence = row['seq']\n",
    "    # score_wt, n_muts_wt = esmc.get_masked_marginal(mt_sequence, wt_sequence)\n",
    "    # score_esm2, n_muts_esm2 = esmc.get_masked_marginal(mt_sequence, esm2_seq)\n",
    "    \n",
    "    score_wt, n_muts_wt = esmc.get_wildtype_marginal(mt_sequence, wt_sequence)\n",
    "    score_esm2, n_muts_esm2 = esmc.get_wildtype_marginal(mt_sequence, esm2_seq)\n",
    "\n",
    "    assert n_muts_wt == row['n_mut']\n",
    "\n",
    "    y_pred_wt.append(score_wt)\n",
    "    y_pred_esm2.append(score_esm2)\n",
    "    muts_wt.append(n_muts_wt)\n",
    "    muts_esm2.append(n_muts_esm2)\n",
    "\n",
    "\n",
    "y_pred_wt = np.array(y_pred_wt)\n",
    "y_pred_esm2 = np.array(y_pred_esm2)\n",
    "muts_wt = np.array(muts_wt)\n",
    "muts_esm2 = np.array(muts_esm2)"
   ]
  },
  {
   "cell_type": "code",
   "execution_count": null,
   "metadata": {},
   "outputs": [],
   "source": [
    "y = df['fitness_log'].to_numpy().astype(np.float32)"
   ]
  },
  {
   "cell_type": "code",
   "execution_count": null,
   "metadata": {},
   "outputs": [],
   "source": [
    "fig, ax = plt.subplots(1,2, figsize=(7,3), layout='constrained')\n",
    "\n",
    "ax[0].plot(y, y_pred_wt, '.', alpha=0.8)\n",
    "corr = stats.spearmanr(y, y_pred_wt)\n",
    "corr, ci_lower, ci_upper, *_  = get_spearmanr_bootstrap(y, y_pred_wt)\n",
    "ax[0].set_title(f'wrt wt \\nspearman correlation = {corr} CI ({ci_lower}, {ci_upper})', size=10)\n",
    "\n",
    "ax[1].plot(y, y_pred_esm2, '.', alpha=0.9)\n",
    "corr, ci_lower, ci_upper, *_  = get_spearmanr_bootstrap(y, y_pred_esm2)\n",
    "ax[1].set_title(f'wrt esm2 \\nspearman correlation = {corr} CI ({ci_lower}, {ci_upper})', size=10)\n",
    "\n",
    "for i in range(2):\n",
    "    ax[i].set_xlabel('True')\n",
    "    ax[i].set_ylabel('Pred')\n",
    "\n",
    "plt.show()"
   ]
  },
  {
   "cell_type": "code",
   "execution_count": null,
   "metadata": {},
   "outputs": [],
   "source": [
    "fig, ax = plt.subplots(1,2, figsize=(7,3), layout='constrained')\n",
    "\n",
    "_mask = df['fitness_raw'] > 0.01\n",
    "\n",
    "ax[0].plot(y[_mask], y_pred_wt[_mask], '.', alpha=0.8)\n",
    "corr = stats.spearmanr(y[_mask], y_pred_wt[_mask])\n",
    "corr, ci_lower, ci_upper, *_  = get_spearmanr_bootstrap(y[_mask], y_pred_wt[_mask])\n",
    "ax[0].set_title(f'wrt wt \\nspearman correlation = {corr} CI ({ci_lower}, {ci_upper})', size=10)\n",
    "\n",
    "ax[1].plot(y[_mask], y_pred_esm2[_mask], '.', alpha=0.9)\n",
    "corr, ci_lower, ci_upper, *_  = get_spearmanr_bootstrap(y[_mask], y_pred_esm2[_mask])\n",
    "ax[1].set_title(f'wrt esm2 \\nspearman correlation = {corr} CI ({ci_lower}, {ci_upper})', size=10)\n",
    "\n",
    "for i in range(2):\n",
    "    ax[i].set_xlabel('True')\n",
    "    ax[i].set_ylabel('Pred')\n",
    "\n",
    "plt.show()\n",
    "\n",
    "fig, ax = plt.subplots(1,2, figsize=(5,2), layout='constrained')\n",
    "\n",
    "ax[0].hist(muts_wt[_mask])\n",
    "ax[0].set_title(f'wrt wt')\n",
    "\n",
    "ax[1].hist(muts_esm2[_mask])\n",
    "ax[1].set_title(f'wrt esm2')\n",
    "\n",
    "plt.show()"
   ]
  },
  {
   "cell_type": "code",
   "execution_count": null,
   "metadata": {},
   "outputs": [],
   "source": [
    "fig, ax = plt.subplots(1,2, figsize=(7,3), layout='constrained')\n",
    "\n",
    "__mask = df['fitness_raw'] > 0.01\n",
    "_mask = __mask & (df['n_mut'] < 15)\n",
    "\n",
    "print(df.loc[_mask, 'name'].to_numpy())\n",
    "\n",
    "ax[0].plot(y[_mask], y_pred_wt[_mask], '.', alpha=0.8)\n",
    "corr = stats.spearmanr(y[_mask], y_pred_wt[_mask])\n",
    "corr, ci_lower, ci_upper, *_  = get_spearmanr_bootstrap(y[_mask], y_pred_wt[_mask])\n",
    "ax[0].set_title(f'wrt wt \\nspearman correlation = {corr} CI ({ci_lower}, {ci_upper})', size=10)\n",
    "\n",
    "ax[1].plot(y[_mask], y_pred_esm2[_mask], '.', alpha=0.9)\n",
    "corr, ci_lower, ci_upper, *_  = get_spearmanr_bootstrap(y[_mask], y_pred_esm2[_mask])\n",
    "ax[1].set_title(f'wrt esm2 \\nspearman correlation = {corr} CI ({ci_lower}, {ci_upper})', size=10)\n",
    "\n",
    "for i in range(2):\n",
    "    ax[i].set_xlabel('True')\n",
    "    ax[i].set_ylabel('Pred')\n",
    "\n",
    "plt.show()\n",
    "\n",
    "fig, ax = plt.subplots(1,2, figsize=(5,2), layout='constrained')\n",
    "\n",
    "ax[0].hist(muts_wt[_mask])\n",
    "ax[0].set_title(f'wrt wt')\n",
    "\n",
    "ax[1].hist(muts_esm2[_mask])\n",
    "ax[1].set_title(f'wrt esm2')\n",
    "\n",
    "plt.show()"
   ]
  },
  {
   "cell_type": "code",
   "execution_count": null,
   "metadata": {},
   "outputs": [],
   "source": [
    "fig, ax = plt.subplots(1,2, figsize=(7,3), layout='constrained')\n",
    "\n",
    "__mask = df['fitness_raw'] > 0.01\n",
    "_mask = __mask & (df['n_mut'] > 15)\n",
    "\n",
    "print(df.loc[_mask, 'name'].to_numpy())\n",
    "\n",
    "ax[0].plot(y[_mask], y_pred_wt[_mask], '.', alpha=0.8)\n",
    "corr = stats.spearmanr(y[_mask], y_pred_wt[_mask])\n",
    "corr, ci_lower, ci_upper, *_  = get_spearmanr_bootstrap(y[_mask], y_pred_wt[_mask])\n",
    "ax[0].set_title(f'wrt wt \\nspearman correlation = {corr} CI ({ci_lower}, {ci_upper})', size=10)\n",
    "\n",
    "ax[1].plot(y[_mask], y_pred_esm2[_mask], '.', alpha=0.9)\n",
    "corr, ci_lower, ci_upper, *_  = get_spearmanr_bootstrap(y[_mask], y_pred_esm2[_mask])\n",
    "ax[1].set_title(f'wrt esm2 \\nspearman correlation = {corr} CI ({ci_lower}, {ci_upper})', size=10)\n",
    "\n",
    "for i in range(2):\n",
    "    ax[i].set_xlabel('True')\n",
    "    ax[i].set_ylabel('Pred')\n",
    "\n",
    "plt.show()\n",
    "\n",
    "fig, ax = plt.subplots(1,2, figsize=(5,2), layout='constrained')\n",
    "\n",
    "ax[0].hist(muts_wt[_mask])\n",
    "ax[0].set_title(f'wrt wt')\n",
    "\n",
    "ax[1].hist(muts_esm2[_mask])\n",
    "ax[1].set_title(f'wrt esm2')\n",
    "\n",
    "plt.show()"
   ]
  },
  {
   "cell_type": "code",
   "execution_count": null,
   "metadata": {},
   "outputs": [],
   "source": []
  },
  {
   "cell_type": "code",
   "execution_count": null,
   "metadata": {},
   "outputs": [],
   "source": []
  }
 ],
 "metadata": {
  "kernelspec": {
   "display_name": "workspace-esm",
   "language": "python",
   "name": "python3"
  },
  "language_info": {
   "codemirror_mode": {
    "name": "ipython",
    "version": 3
   },
   "file_extension": ".py",
   "mimetype": "text/x-python",
   "name": "python",
   "nbconvert_exporter": "python",
   "pygments_lexer": "ipython3",
   "version": "3.10.13"
  }
 },
 "nbformat": 4,
 "nbformat_minor": 2
}
