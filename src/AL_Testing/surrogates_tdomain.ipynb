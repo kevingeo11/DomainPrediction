{
 "cells": [
  {
   "cell_type": "code",
   "execution_count": 1,
   "metadata": {},
   "outputs": [],
   "source": [
    "import sys\n",
    "sys.path.append('..')"
   ]
  },
  {
   "cell_type": "code",
   "execution_count": 2,
   "metadata": {},
   "outputs": [],
   "source": [
    "import os\n",
    "from tqdm import tqdm\n",
    "import random\n",
    "import matplotlib.pyplot as plt\n",
    "import numpy as np\n",
    "import pandas as pd"
   ]
  },
  {
   "cell_type": "code",
   "execution_count": 3,
   "metadata": {},
   "outputs": [],
   "source": [
    "from sklearn.metrics import mean_squared_error\n",
    "from scipy import stats"
   ]
  },
  {
   "cell_type": "code",
   "execution_count": 4,
   "metadata": {},
   "outputs": [
    {
     "name": "stderr",
     "output_type": "stream",
     "text": [
      "2025-01-08 18:36:38.884952: I tensorflow/core/util/port.cc:113] oneDNN custom operations are on. You may see slightly different numerical results due to floating-point round-off errors from different computation orders. To turn them off, set the environment variable `TF_ENABLE_ONEDNN_OPTS=0`.\n",
      "2025-01-08 18:36:38.887515: I external/local_tsl/tsl/cuda/cudart_stub.cc:32] Could not find cuda drivers on your machine, GPU will not be used.\n",
      "2025-01-08 18:36:38.893268: E external/local_xla/xla/stream_executor/cuda/cuda_fft.cc:479] Unable to register cuFFT factory: Attempting to register factory for plugin cuFFT when one has already been registered\n",
      "2025-01-08 18:36:38.904314: E external/local_xla/xla/stream_executor/cuda/cuda_dnn.cc:10575] Unable to register cuDNN factory: Attempting to register factory for plugin cuDNN when one has already been registered\n",
      "2025-01-08 18:36:38.904331: E external/local_xla/xla/stream_executor/cuda/cuda_blas.cc:1442] Unable to register cuBLAS factory: Attempting to register factory for plugin cuBLAS when one has already been registered\n",
      "2025-01-08 18:36:38.911870: I tensorflow/core/platform/cpu_feature_guard.cc:210] This TensorFlow binary is optimized to use available CPU instructions in performance-critical operations.\n",
      "To enable the following instructions: AVX2 AVX_VNNI FMA, in other operations, rebuild TensorFlow with the appropriate compiler flags.\n",
      "2025-01-08 18:36:39.945804: W tensorflow/compiler/tf2tensorrt/utils/py_utils.cc:38] TF-TRT Warning: Could not find TensorRT\n"
     ]
    }
   ],
   "source": [
    "from DomainPrediction.utils import helper\n",
    "from DomainPrediction.eval import metrics\n",
    "from DomainPrediction.al import top_model as topmodel\n",
    "from DomainPrediction.al.embeddings import one_hot_encode"
   ]
  },
  {
   "cell_type": "code",
   "execution_count": 5,
   "metadata": {},
   "outputs": [],
   "source": [
    "from DomainPrediction.esm.esm2 import ESM2"
   ]
  },
  {
   "cell_type": "code",
   "execution_count": null,
   "metadata": {},
   "outputs": [],
   "source": [
    "sys.path.append('../../esm')\n",
    "from DomainPrediction.esm.esm3 import ESM3LM\n",
    "from DomainPrediction.esm.esmc import ESMCLM"
   ]
  },
  {
   "cell_type": "code",
   "execution_count": null,
   "metadata": {},
   "outputs": [],
   "source": []
  },
  {
   "cell_type": "markdown",
   "metadata": {},
   "source": [
    "#### Load Data"
   ]
  },
  {
   "cell_type": "code",
   "execution_count": 6,
   "metadata": {},
   "outputs": [],
   "source": [
    "data_path = '/nethome/kgeorge/workspace/DomainPrediction/Data/al_test_experiments/Tdomain'"
   ]
  },
  {
   "cell_type": "code",
   "execution_count": 7,
   "metadata": {},
   "outputs": [],
   "source": [
    "file = os.path.join(data_path, 'dataset_tdomain.csv')\n",
    "df = pd.read_csv(file)"
   ]
  },
  {
   "cell_type": "code",
   "execution_count": 8,
   "metadata": {},
   "outputs": [
    {
     "data": {
      "text/html": [
       "<div>\n",
       "<style scoped>\n",
       "    .dataframe tbody tr th:only-of-type {\n",
       "        vertical-align: middle;\n",
       "    }\n",
       "\n",
       "    .dataframe tbody tr th {\n",
       "        vertical-align: top;\n",
       "    }\n",
       "\n",
       "    .dataframe thead th {\n",
       "        text-align: right;\n",
       "    }\n",
       "</style>\n",
       "<table border=\"1\" class=\"dataframe\">\n",
       "  <thead>\n",
       "    <tr style=\"text-align: right;\">\n",
       "      <th></th>\n",
       "      <th>name</th>\n",
       "      <th>seq</th>\n",
       "      <th>fitness_raw</th>\n",
       "      <th>split_id</th>\n",
       "      <th>n_mut</th>\n",
       "      <th>fitness_log</th>\n",
       "    </tr>\n",
       "  </thead>\n",
       "  <tbody>\n",
       "    <tr>\n",
       "      <th>0</th>\n",
       "      <td>WT</td>\n",
       "      <td>APGEDAFARQAYQAPQGEIEIALATIWRELLNVEQVGRHDSFFALG...</td>\n",
       "      <td>1.000000</td>\n",
       "      <td>2</td>\n",
       "      <td>0</td>\n",
       "      <td>0.000000</td>\n",
       "    </tr>\n",
       "    <tr>\n",
       "      <th>1</th>\n",
       "      <td>ESM1</td>\n",
       "      <td>APEDSSFPRPPYAAPEGEIEQTLAGIWMELLGVERVGRHDSFFALG...</td>\n",
       "      <td>0.982485</td>\n",
       "      <td>2</td>\n",
       "      <td>44</td>\n",
       "      <td>-0.017670</td>\n",
       "    </tr>\n",
       "    <tr>\n",
       "      <th>2</th>\n",
       "      <td>ESM2</td>\n",
       "      <td>APSEDAYPRATYEAPEGETEQLLAGIWMDLLQVDRVGRHDSFFELG...</td>\n",
       "      <td>0.968661</td>\n",
       "      <td>1</td>\n",
       "      <td>45</td>\n",
       "      <td>-0.031841</td>\n",
       "    </tr>\n",
       "    <tr>\n",
       "      <th>3</th>\n",
       "      <td>ESM3</td>\n",
       "      <td>APSEDSYPRPAYVAPEGPTEQLLAGIWQELLNVSKVGRDDSFFDLG...</td>\n",
       "      <td>0.039853</td>\n",
       "      <td>2</td>\n",
       "      <td>46</td>\n",
       "      <td>-3.222547</td>\n",
       "    </tr>\n",
       "    <tr>\n",
       "      <th>4</th>\n",
       "      <td>ESM4</td>\n",
       "      <td>APEEASYPREPYVAPQGETEQLLASIWQELLGVERVGAGDNFFELG...</td>\n",
       "      <td>0.457921</td>\n",
       "      <td>2</td>\n",
       "      <td>43</td>\n",
       "      <td>-0.781059</td>\n",
       "    </tr>\n",
       "  </tbody>\n",
       "</table>\n",
       "</div>"
      ],
      "text/plain": [
       "   name                                                seq  fitness_raw  \\\n",
       "0    WT  APGEDAFARQAYQAPQGEIEIALATIWRELLNVEQVGRHDSFFALG...     1.000000   \n",
       "1  ESM1  APEDSSFPRPPYAAPEGEIEQTLAGIWMELLGVERVGRHDSFFALG...     0.982485   \n",
       "2  ESM2  APSEDAYPRATYEAPEGETEQLLAGIWMDLLQVDRVGRHDSFFELG...     0.968661   \n",
       "3  ESM3  APSEDSYPRPAYVAPEGPTEQLLAGIWQELLNVSKVGRDDSFFDLG...     0.039853   \n",
       "4  ESM4  APEEASYPREPYVAPQGETEQLLASIWQELLGVERVGAGDNFFELG...     0.457921   \n",
       "\n",
       "   split_id  n_mut  fitness_log  \n",
       "0         2      0     0.000000  \n",
       "1         2     44    -0.017670  \n",
       "2         1     45    -0.031841  \n",
       "3         2     46    -3.222547  \n",
       "4         2     43    -0.781059  "
      ]
     },
     "execution_count": 8,
     "metadata": {},
     "output_type": "execute_result"
    }
   ],
   "source": [
    "df.head()"
   ]
  },
  {
   "cell_type": "code",
   "execution_count": 9,
   "metadata": {},
   "outputs": [],
   "source": [
    "results_file = os.path.join(data_path, 'results_tdomain_zeroshot.csv')"
   ]
  },
  {
   "cell_type": "code",
   "execution_count": 10,
   "metadata": {},
   "outputs": [],
   "source": [
    "if os.path.isfile(results_file):\n",
    "    df_results = pd.read_csv(results_file)\n",
    "else:\n",
    "    df_results = df.copy()"
   ]
  },
  {
   "cell_type": "code",
   "execution_count": 11,
   "metadata": {},
   "outputs": [
    {
     "data": {
      "text/html": [
       "<div>\n",
       "<style scoped>\n",
       "    .dataframe tbody tr th:only-of-type {\n",
       "        vertical-align: middle;\n",
       "    }\n",
       "\n",
       "    .dataframe tbody tr th {\n",
       "        vertical-align: top;\n",
       "    }\n",
       "\n",
       "    .dataframe thead th {\n",
       "        text-align: right;\n",
       "    }\n",
       "</style>\n",
       "<table border=\"1\" class=\"dataframe\">\n",
       "  <thead>\n",
       "    <tr style=\"text-align: right;\">\n",
       "      <th></th>\n",
       "      <th>name</th>\n",
       "      <th>seq</th>\n",
       "      <th>fitness_raw</th>\n",
       "      <th>split_id</th>\n",
       "      <th>n_mut</th>\n",
       "      <th>fitness_log</th>\n",
       "      <th>pred_ESM650M_perplexity</th>\n",
       "      <th>pred_ESM3_perplexity</th>\n",
       "      <th>pred_ESMC300M_perplexity</th>\n",
       "      <th>pred_ESMC600M_perplexity</th>\n",
       "    </tr>\n",
       "  </thead>\n",
       "  <tbody>\n",
       "    <tr>\n",
       "      <th>0</th>\n",
       "      <td>WT</td>\n",
       "      <td>APGEDAFARQAYQAPQGEIEIALATIWRELLNVEQVGRHDSFFALG...</td>\n",
       "      <td>1.000000</td>\n",
       "      <td>2</td>\n",
       "      <td>0</td>\n",
       "      <td>0.000000</td>\n",
       "      <td>5.838970</td>\n",
       "      <td>5.716982</td>\n",
       "      <td>3.957926</td>\n",
       "      <td>3.351393</td>\n",
       "    </tr>\n",
       "    <tr>\n",
       "      <th>1</th>\n",
       "      <td>ESM1</td>\n",
       "      <td>APEDSSFPRPPYAAPEGEIEQTLAGIWMELLGVERVGRHDSFFALG...</td>\n",
       "      <td>0.982485</td>\n",
       "      <td>2</td>\n",
       "      <td>44</td>\n",
       "      <td>-0.017670</td>\n",
       "      <td>4.857078</td>\n",
       "      <td>4.464974</td>\n",
       "      <td>4.347416</td>\n",
       "      <td>3.669246</td>\n",
       "    </tr>\n",
       "    <tr>\n",
       "      <th>2</th>\n",
       "      <td>ESM2</td>\n",
       "      <td>APSEDAYPRATYEAPEGETEQLLAGIWMDLLQVDRVGRHDSFFELG...</td>\n",
       "      <td>0.968661</td>\n",
       "      <td>1</td>\n",
       "      <td>45</td>\n",
       "      <td>-0.031841</td>\n",
       "      <td>5.156052</td>\n",
       "      <td>4.475316</td>\n",
       "      <td>3.766888</td>\n",
       "      <td>3.482251</td>\n",
       "    </tr>\n",
       "    <tr>\n",
       "      <th>3</th>\n",
       "      <td>ESM3</td>\n",
       "      <td>APSEDSYPRPAYVAPEGPTEQLLAGIWQELLNVSKVGRDDSFFDLG...</td>\n",
       "      <td>0.039853</td>\n",
       "      <td>2</td>\n",
       "      <td>46</td>\n",
       "      <td>-3.222547</td>\n",
       "      <td>5.747274</td>\n",
       "      <td>4.807921</td>\n",
       "      <td>4.690301</td>\n",
       "      <td>4.395126</td>\n",
       "    </tr>\n",
       "    <tr>\n",
       "      <th>4</th>\n",
       "      <td>ESM4</td>\n",
       "      <td>APEEASYPREPYVAPQGETEQLLASIWQELLGVERVGAGDNFFELG...</td>\n",
       "      <td>0.457921</td>\n",
       "      <td>2</td>\n",
       "      <td>43</td>\n",
       "      <td>-0.781059</td>\n",
       "      <td>5.075125</td>\n",
       "      <td>4.470202</td>\n",
       "      <td>4.324977</td>\n",
       "      <td>3.690752</td>\n",
       "    </tr>\n",
       "  </tbody>\n",
       "</table>\n",
       "</div>"
      ],
      "text/plain": [
       "   name                                                seq  fitness_raw  \\\n",
       "0    WT  APGEDAFARQAYQAPQGEIEIALATIWRELLNVEQVGRHDSFFALG...     1.000000   \n",
       "1  ESM1  APEDSSFPRPPYAAPEGEIEQTLAGIWMELLGVERVGRHDSFFALG...     0.982485   \n",
       "2  ESM2  APSEDAYPRATYEAPEGETEQLLAGIWMDLLQVDRVGRHDSFFELG...     0.968661   \n",
       "3  ESM3  APSEDSYPRPAYVAPEGPTEQLLAGIWQELLNVSKVGRDDSFFDLG...     0.039853   \n",
       "4  ESM4  APEEASYPREPYVAPQGETEQLLASIWQELLGVERVGAGDNFFELG...     0.457921   \n",
       "\n",
       "   split_id  n_mut  fitness_log  pred_ESM650M_perplexity  \\\n",
       "0         2      0     0.000000                 5.838970   \n",
       "1         2     44    -0.017670                 4.857078   \n",
       "2         1     45    -0.031841                 5.156052   \n",
       "3         2     46    -3.222547                 5.747274   \n",
       "4         2     43    -0.781059                 5.075125   \n",
       "\n",
       "   pred_ESM3_perplexity  pred_ESMC300M_perplexity  pred_ESMC600M_perplexity  \n",
       "0              5.716982                  3.957926                  3.351393  \n",
       "1              4.464974                  4.347416                  3.669246  \n",
       "2              4.475316                  3.766888                  3.482251  \n",
       "3              4.807921                  4.690301                  4.395126  \n",
       "4              4.470202                  4.324977                  3.690752  "
      ]
     },
     "execution_count": 11,
     "metadata": {},
     "output_type": "execute_result"
    }
   ],
   "source": [
    "df_results.head()"
   ]
  },
  {
   "cell_type": "code",
   "execution_count": 12,
   "metadata": {},
   "outputs": [
    {
     "data": {
      "text/plain": [
       "Index(['pred_ESM650M_perplexity', 'pred_ESM3_perplexity',\n",
       "       'pred_ESMC300M_perplexity', 'pred_ESMC600M_perplexity'],\n",
       "      dtype='object')"
      ]
     },
     "execution_count": 12,
     "metadata": {},
     "output_type": "execute_result"
    }
   ],
   "source": [
    "df_results.columns[df_results.columns.str.contains('pred')]"
   ]
  },
  {
   "cell_type": "code",
   "execution_count": 13,
   "metadata": {},
   "outputs": [
    {
     "data": {
      "text/plain": [
       "4"
      ]
     },
     "execution_count": 13,
     "metadata": {},
     "output_type": "execute_result"
    }
   ],
   "source": [
    "len(df_results.columns[df_results.columns.str.contains('pred')])"
   ]
  },
  {
   "cell_type": "code",
   "execution_count": 14,
   "metadata": {},
   "outputs": [],
   "source": [
    "def get_split_mask(df, omit_zero=False):\n",
    "    if omit_zero:\n",
    "        train_mask = (df['split_id'] == 2) & (df['fitness_raw'] != 0)\n",
    "    else:\n",
    "        train_mask = (df['split_id'] == 2)\n",
    "\n",
    "    val_mask = df['split_id'] == 1\n",
    "    test_mask = df['split_id'] == 0\n",
    "\n",
    "    return train_mask, val_mask, test_mask"
   ]
  },
  {
   "cell_type": "code",
   "execution_count": null,
   "metadata": {},
   "outputs": [],
   "source": []
  },
  {
   "cell_type": "markdown",
   "metadata": {},
   "source": [
    "#### OHE"
   ]
  },
  {
   "cell_type": "code",
   "execution_count": null,
   "metadata": {},
   "outputs": [],
   "source": [
    "embeddings = one_hot_encode(df['seq'])"
   ]
  },
  {
   "cell_type": "code",
   "execution_count": null,
   "metadata": {},
   "outputs": [],
   "source": [
    "train_mask, val_mask, test_mask = get_split_mask(df, omit_zero=False)\n",
    "\n",
    "X_train = embeddings[train_mask]\n",
    "X_val = embeddings[val_mask]\n",
    "X_test = embeddings[test_mask]\n",
    "\n",
    "# y_train = df.loc[train_mask, 'fitness_raw'].to_numpy().astype(np.float32)\n",
    "# y_val = df.loc[val_mask, 'fitness_raw'].to_numpy().astype(np.float32)\n",
    "# y_test = df.loc[test_mask, 'fitness_raw'].to_numpy().astype(np.float32)\n",
    "\n",
    "y_train = df.loc[train_mask, 'fitness_log'].to_numpy().astype(np.float32)\n",
    "y_val = df.loc[val_mask, 'fitness_log'].to_numpy().astype(np.float32)\n",
    "y_test = df.loc[test_mask, 'fitness_log'].to_numpy().astype(np.float32)"
   ]
  },
  {
   "cell_type": "code",
   "execution_count": null,
   "metadata": {},
   "outputs": [],
   "source": []
  },
  {
   "cell_type": "code",
   "execution_count": null,
   "metadata": {},
   "outputs": [],
   "source": [
    "surrogate = topmodel.RidgeSurrogate(alpha=1.0)\n",
    "surrogate.trainmodel(X=X_train, y=y_train, val=(X_val, y_val))"
   ]
  },
  {
   "cell_type": "code",
   "execution_count": null,
   "metadata": {},
   "outputs": [],
   "source": [
    "y_train_pred = surrogate.predict(X_train)\n",
    "y_val_pred = surrogate.predict(X_val)\n",
    "y_test_pred = surrogate.predict(X_test)\n",
    "fig, ax = plt.subplots(1,3, figsize=(10,3), layout='constrained')\n",
    "ax[0].plot(y_train, y_train_pred, '.', alpha=0.5)\n",
    "ax[1].plot(y_val, y_val_pred, '.', alpha=0.5)\n",
    "ax[2].plot(y_test, y_test_pred, '.', alpha=0.5)\n",
    "\n",
    "mse = mean_squared_error(y_train, y_train_pred)\n",
    "corr = stats.spearmanr(y_train, y_train_pred)\n",
    "s_corr = round(corr.statistic, 2)\n",
    "ax[0].set_title(f'Train \\nmse : {str(round(mse, 2))} \\nspearman correlation = {s_corr}')\n",
    "\n",
    "mse = mean_squared_error(y_val, y_val_pred)\n",
    "corr = stats.spearmanr(y_val, y_val_pred)\n",
    "s_corr = round(corr.statistic, 2)\n",
    "ax[1].set_title(f'Val \\nmse : {str(round(mse, 2))} \\nspearman correlation = {s_corr}')\n",
    "\n",
    "mse = mean_squared_error(y_test, y_test_pred)\n",
    "corr = stats.spearmanr(y_test, y_test_pred)\n",
    "s_corr = round(corr.statistic, 2)\n",
    "ax[2].set_title(f'Test \\nmse : {str(round(mse, 2))} \\nspearman correlation = {s_corr}')\n",
    "\n",
    "for i in range(3):\n",
    "    ax[i].set_xlabel('True')\n",
    "    ax[i].set_ylabel('Pred')\n",
    "\n",
    "plt.show()"
   ]
  },
  {
   "cell_type": "code",
   "execution_count": null,
   "metadata": {},
   "outputs": [],
   "source": [
    "y_pred = surrogate.predict(embeddings)\n",
    "assert y_pred.shape[0] == embeddings.shape[0] == df_results.shape[0]\n",
    "df_results['pred_OHE_ridge'] = y_pred\n",
    "\n",
    "mse = mean_squared_error(df_results['fitness_log'], df_results['pred_OHE_ridge'])\n",
    "corr = stats.spearmanr(df_results['fitness_log'], df_results['pred_OHE_ridge'])\n",
    "s_corr = round(corr.statistic, 2)\n",
    "print(f'mse : {str(round(mse, 2))} || spearman correlation = {s_corr}')\n",
    "\n",
    "df_results.to_csv(results_file, index=False)"
   ]
  },
  {
   "cell_type": "code",
   "execution_count": null,
   "metadata": {},
   "outputs": [],
   "source": [
    "df_results.columns[df_results.columns.str.contains('pred')]"
   ]
  },
  {
   "cell_type": "code",
   "execution_count": null,
   "metadata": {},
   "outputs": [],
   "source": []
  },
  {
   "cell_type": "code",
   "execution_count": null,
   "metadata": {},
   "outputs": [],
   "source": [
    "surrogate = topmodel.RFSurrogate()\n",
    "surrogate.trainmodel(X=X_train, y=y_train, val=(X_val, y_val))"
   ]
  },
  {
   "cell_type": "code",
   "execution_count": null,
   "metadata": {},
   "outputs": [],
   "source": [
    "y_train_pred = surrogate.predict(X_train)\n",
    "y_val_pred = surrogate.predict(X_val)\n",
    "y_test_pred = surrogate.predict(X_test)\n",
    "fig, ax = plt.subplots(1,3, figsize=(10,3), layout='constrained')\n",
    "ax[0].plot(y_train, y_train_pred, '.', alpha=0.5)\n",
    "ax[1].plot(y_val, y_val_pred, '.', alpha=0.5)\n",
    "ax[2].plot(y_test, y_test_pred, '.', alpha=0.5)\n",
    "\n",
    "mse = mean_squared_error(y_train, y_train_pred)\n",
    "corr = stats.spearmanr(y_train, y_train_pred)\n",
    "s_corr = round(corr.statistic, 2)\n",
    "ax[0].set_title(f'Train \\nmse : {str(round(mse, 2))} \\nspearman correlation = {s_corr}')\n",
    "\n",
    "mse = mean_squared_error(y_val, y_val_pred)\n",
    "corr = stats.spearmanr(y_val, y_val_pred)\n",
    "s_corr = round(corr.statistic, 2)\n",
    "ax[1].set_title(f'Val \\nmse : {str(round(mse, 2))} \\nspearman correlation = {s_corr}')\n",
    "\n",
    "mse = mean_squared_error(y_test, y_test_pred)\n",
    "corr = stats.spearmanr(y_test, y_test_pred)\n",
    "s_corr = round(corr.statistic, 2)\n",
    "ax[2].set_title(f'Test \\nmse : {str(round(mse, 2))} \\nspearman correlation = {s_corr}')\n",
    "\n",
    "for i in range(3):\n",
    "    ax[i].set_xlabel('True')\n",
    "    ax[i].set_ylabel('Pred')\n",
    "\n",
    "plt.show()"
   ]
  },
  {
   "cell_type": "code",
   "execution_count": null,
   "metadata": {},
   "outputs": [],
   "source": [
    "y_pred = surrogate.predict(embeddings)\n",
    "assert y_pred.shape[0] == embeddings.shape[0] == df_results.shape[0]\n",
    "df_results['pred_OHE_RF'] = y_pred\n",
    "\n",
    "mse = mean_squared_error(df_results['fitness_log'], df_results['pred_OHE_RF'])\n",
    "corr = stats.spearmanr(df_results['fitness_log'], df_results['pred_OHE_RF'])\n",
    "s_corr = round(corr.statistic, 2)\n",
    "print(f'mse : {str(round(mse, 2))} || spearman correlation = {s_corr}')\n",
    "\n",
    "df_results.to_csv(results_file, index=False)"
   ]
  },
  {
   "cell_type": "code",
   "execution_count": null,
   "metadata": {},
   "outputs": [],
   "source": [
    "df_results.columns[df_results.columns.str.contains('pred')]"
   ]
  },
  {
   "cell_type": "code",
   "execution_count": null,
   "metadata": {},
   "outputs": [],
   "source": []
  },
  {
   "cell_type": "code",
   "execution_count": null,
   "metadata": {},
   "outputs": [],
   "source": [
    "print(f'input layer shape: {X_train.shape[1]}')"
   ]
  },
  {
   "cell_type": "code",
   "execution_count": null,
   "metadata": {},
   "outputs": [],
   "source": [
    "config={'layers': [2300, 512, 1], \n",
    "        'epoch': 100, \n",
    "        'batch_size': 16,\n",
    "        'patience': 10,\n",
    "        'early_stopping': False,\n",
    "        'lr': 1e-3,\n",
    "        'print_every_n_epoch': 10,\n",
    "        'debug': True}\n",
    "surrogate = topmodel.MLPSurrogate(config=config)\n",
    "surrogate.trainmodel(X=X_train, y=y_train, val=(X_val, y_val))"
   ]
  },
  {
   "cell_type": "code",
   "execution_count": null,
   "metadata": {},
   "outputs": [],
   "source": [
    "y_train_pred = surrogate.predict(X_train)\n",
    "y_val_pred = surrogate.predict(X_val)\n",
    "y_test_pred = surrogate.predict(X_test)\n",
    "fig, ax = plt.subplots(1,3, figsize=(10,3), layout='constrained')\n",
    "ax[0].plot(y_train, y_train_pred, '.', alpha=0.5)\n",
    "ax[1].plot(y_val, y_val_pred, '.', alpha=0.5)\n",
    "ax[2].plot(y_test, y_test_pred, '.', alpha=0.5)\n",
    "\n",
    "mse = mean_squared_error(y_train, y_train_pred)\n",
    "corr = stats.spearmanr(y_train, y_train_pred)\n",
    "s_corr = round(corr.statistic, 2)\n",
    "ax[0].set_title(f'Train \\nmse : {str(round(mse, 2))} \\nspearman correlation = {s_corr}')\n",
    "\n",
    "mse = mean_squared_error(y_val, y_val_pred)\n",
    "corr = stats.spearmanr(y_val, y_val_pred)\n",
    "s_corr = round(corr.statistic, 2)\n",
    "ax[1].set_title(f'Val \\nmse : {str(round(mse, 2))} \\nspearman correlation = {s_corr}')\n",
    "\n",
    "mse = mean_squared_error(y_test, y_test_pred)\n",
    "corr = stats.spearmanr(y_test, y_test_pred)\n",
    "s_corr = round(corr.statistic, 2)\n",
    "ax[2].set_title(f'Test \\nmse : {str(round(mse, 2))} \\nspearman correlation = {s_corr}')\n",
    "\n",
    "for i in range(3):\n",
    "    ax[i].set_xlabel('True')\n",
    "    ax[i].set_ylabel('Pred')\n",
    "\n",
    "plt.show()"
   ]
  },
  {
   "cell_type": "code",
   "execution_count": null,
   "metadata": {},
   "outputs": [],
   "source": [
    "y_pred = surrogate.predict(embeddings)\n",
    "assert y_pred.shape[0] == embeddings.shape[0] == df_results.shape[0]\n",
    "df_results['pred_OHE_MLP'] = y_pred\n",
    "\n",
    "mse = mean_squared_error(df_results['fitness_log'], df_results['pred_OHE_MLP'])\n",
    "corr = stats.spearmanr(df_results['fitness_log'], df_results['pred_OHE_MLP'])\n",
    "s_corr = round(corr.statistic, 2)\n",
    "print(f'mse : {str(round(mse, 2))} || spearman correlation = {s_corr}')\n",
    "\n",
    "df_results.to_csv(results_file, index=False)"
   ]
  },
  {
   "cell_type": "code",
   "execution_count": null,
   "metadata": {},
   "outputs": [],
   "source": [
    "df_results.columns[df_results.columns.str.contains('pred')]"
   ]
  },
  {
   "cell_type": "code",
   "execution_count": null,
   "metadata": {},
   "outputs": [],
   "source": []
  },
  {
   "cell_type": "markdown",
   "metadata": {},
   "source": [
    "#### ESM2, ESM3 and ESMC Embeddings"
   ]
  },
  {
   "cell_type": "code",
   "execution_count": null,
   "metadata": {},
   "outputs": [],
   "source": [
    "# esm2 = ESM2(model_path='/data/users/kgeorge/workspace/esm2/checkpoints/esm2_t33_650M_UR50D.pt', device='gpu')\n",
    "# esm3 = ESM3LM(device='gpu')\n",
    "# esmc = ESMCLM(name='esmc_300m', device='gpu')\n",
    "# esmc = ESMCLM(name='esmc_600m', device='gpu')"
   ]
  },
  {
   "cell_type": "code",
   "execution_count": null,
   "metadata": {},
   "outputs": [],
   "source": [
    "# embeddings = esm2.get_embeddings_cls(df['seq'])\n",
    "# embeddings = esm3.get_embeddings_cls(df['seq'])\n",
    "# embeddings = esmc.get_embeddings_cls(df['seq'])"
   ]
  },
  {
   "cell_type": "code",
   "execution_count": null,
   "metadata": {},
   "outputs": [],
   "source": [
    "embeddings.shape"
   ]
  },
  {
   "cell_type": "code",
   "execution_count": null,
   "metadata": {},
   "outputs": [],
   "source": [
    "train_mask, val_mask, test_mask = get_split_mask(df, omit_zero=False)\n",
    "\n",
    "X_train = embeddings[train_mask]\n",
    "X_val = embeddings[val_mask]\n",
    "X_test = embeddings[test_mask]\n",
    "\n",
    "# y_train = df.loc[train_mask, 'fitness_raw'].to_numpy().astype(np.float32)\n",
    "# y_val = df.loc[val_mask, 'fitness_raw'].to_numpy().astype(np.float32)\n",
    "# y_test = df.loc[test_mask, 'fitness_raw'].to_numpy().astype(np.float32)\n",
    "\n",
    "y_train = df.loc[train_mask, 'fitness_log'].to_numpy().astype(np.float32)\n",
    "y_val = df.loc[val_mask, 'fitness_log'].to_numpy().astype(np.float32)\n",
    "y_test = df.loc[test_mask, 'fitness_log'].to_numpy().astype(np.float32)"
   ]
  },
  {
   "cell_type": "code",
   "execution_count": null,
   "metadata": {},
   "outputs": [],
   "source": [
    "surrogate = topmodel.RidgeSurrogate(alpha=1.0)\n",
    "surrogate.trainmodel(X=X_train, y=y_train, val=(X_val, y_val))"
   ]
  },
  {
   "cell_type": "code",
   "execution_count": null,
   "metadata": {},
   "outputs": [],
   "source": [
    "y_train_pred = surrogate.predict(X_train)\n",
    "y_val_pred = surrogate.predict(X_val)\n",
    "y_test_pred = surrogate.predict(X_test)\n",
    "fig, ax = plt.subplots(1,3, figsize=(10,3), layout='constrained')\n",
    "ax[0].plot(y_train, y_train_pred, '.', alpha=0.5)\n",
    "ax[1].plot(y_val, y_val_pred, '.', alpha=0.5)\n",
    "ax[2].plot(y_test, y_test_pred, '.', alpha=0.5)\n",
    "\n",
    "mse = mean_squared_error(y_train, y_train_pred)\n",
    "corr = stats.spearmanr(y_train, y_train_pred)\n",
    "s_corr = round(corr.statistic, 2)\n",
    "ax[0].set_title(f'Train \\nmse : {str(round(mse, 2))} \\nspearman correlation = {s_corr}')\n",
    "\n",
    "mse = mean_squared_error(y_val, y_val_pred)\n",
    "corr = stats.spearmanr(y_val, y_val_pred)\n",
    "s_corr = round(corr.statistic, 2)\n",
    "ax[1].set_title(f'Val \\nmse : {str(round(mse, 2))} \\nspearman correlation = {s_corr}')\n",
    "\n",
    "mse = mean_squared_error(y_test, y_test_pred)\n",
    "corr = stats.spearmanr(y_test, y_test_pred)\n",
    "s_corr = round(corr.statistic, 2)\n",
    "ax[2].set_title(f'Test \\nmse : {str(round(mse, 2))} \\nspearman correlation = {s_corr}')\n",
    "\n",
    "for i in range(3):\n",
    "    ax[i].set_xlabel('True')\n",
    "    ax[i].set_ylabel('Pred')\n",
    "\n",
    "plt.show()"
   ]
  },
  {
   "cell_type": "code",
   "execution_count": null,
   "metadata": {},
   "outputs": [],
   "source": [
    "# y_pred = surrogate.predict(embeddings)\n",
    "# assert y_pred.shape[0] == embeddings.shape[0] == df_results.shape[0]\n",
    "# df_results['pred_ESMC600M_concat_ridge'] = y_pred\n",
    "\n",
    "# mse = mean_squared_error(df_results['fitness_log'], df_results['pred_ESMC600M_concat_ridge'])\n",
    "# corr = stats.spearmanr(df_results['fitness_log'], df_results['pred_ESMC600M_concat_ridge'])\n",
    "# s_corr = round(corr.statistic, 2)\n",
    "# print(f'mse : {str(round(mse, 2))} || spearman correlation = {s_corr}')\n",
    "\n",
    "# df_results.to_csv(results_file, index=False)"
   ]
  },
  {
   "cell_type": "code",
   "execution_count": null,
   "metadata": {},
   "outputs": [],
   "source": [
    "df_results.columns[df_results.columns.str.contains('pred')]"
   ]
  },
  {
   "cell_type": "code",
   "execution_count": null,
   "metadata": {},
   "outputs": [],
   "source": []
  },
  {
   "cell_type": "code",
   "execution_count": null,
   "metadata": {},
   "outputs": [],
   "source": [
    "surrogate = topmodel.RFSurrogate()\n",
    "surrogate.trainmodel(X=X_train, y=y_train, val=(X_val, y_val))"
   ]
  },
  {
   "cell_type": "code",
   "execution_count": null,
   "metadata": {},
   "outputs": [],
   "source": [
    "y_train_pred = surrogate.predict(X_train)\n",
    "y_val_pred = surrogate.predict(X_val)\n",
    "y_test_pred = surrogate.predict(X_test)\n",
    "fig, ax = plt.subplots(1,3, figsize=(10,3), layout='constrained')\n",
    "ax[0].plot(y_train, y_train_pred, '.', alpha=0.5)\n",
    "ax[1].plot(y_val, y_val_pred, '.', alpha=0.5)\n",
    "ax[2].plot(y_test, y_test_pred, '.', alpha=0.5)\n",
    "\n",
    "mse = mean_squared_error(y_train, y_train_pred)\n",
    "corr = stats.spearmanr(y_train, y_train_pred)\n",
    "s_corr = round(corr.statistic, 2)\n",
    "ax[0].set_title(f'Train \\nmse : {str(round(mse, 2))} \\nspearman correlation = {s_corr}')\n",
    "\n",
    "mse = mean_squared_error(y_val, y_val_pred)\n",
    "corr = stats.spearmanr(y_val, y_val_pred)\n",
    "s_corr = round(corr.statistic, 2)\n",
    "ax[1].set_title(f'Val \\nmse : {str(round(mse, 2))} \\nspearman correlation = {s_corr}')\n",
    "\n",
    "mse = mean_squared_error(y_test, y_test_pred)\n",
    "corr = stats.spearmanr(y_test, y_test_pred)\n",
    "s_corr = round(corr.statistic, 2)\n",
    "ax[2].set_title(f'Test \\nmse : {str(round(mse, 2))} \\nspearman correlation = {s_corr}')\n",
    "\n",
    "for i in range(3):\n",
    "    ax[i].set_xlabel('True')\n",
    "    ax[i].set_ylabel('Pred')\n",
    "\n",
    "plt.show()"
   ]
  },
  {
   "cell_type": "code",
   "execution_count": null,
   "metadata": {},
   "outputs": [],
   "source": [
    "# y_pred = surrogate.predict(embeddings)\n",
    "# assert y_pred.shape[0] == embeddings.shape[0] == df_results.shape[0]\n",
    "# df_results['pred_ESMC600M_concat_RF'] = y_pred\n",
    "\n",
    "# mse = mean_squared_error(df_results['fitness_log'], df_results['pred_ESMC600M_concat_RF'])\n",
    "# corr = stats.spearmanr(df_results['fitness_log'], df_results['pred_ESMC600M_concat_RF'])\n",
    "# s_corr = round(corr.statistic, 2)\n",
    "# print(f'mse : {str(round(mse, 2))} || spearman correlation = {s_corr}')\n",
    "\n",
    "# df_results.to_csv(results_file, index=False)"
   ]
  },
  {
   "cell_type": "code",
   "execution_count": null,
   "metadata": {},
   "outputs": [],
   "source": [
    "df_results.columns[df_results.columns.str.contains('pred')]"
   ]
  },
  {
   "cell_type": "code",
   "execution_count": null,
   "metadata": {},
   "outputs": [],
   "source": []
  },
  {
   "cell_type": "code",
   "execution_count": null,
   "metadata": {},
   "outputs": [],
   "source": [
    "print(f'input layer shape: {X_train.shape[1]}')"
   ]
  },
  {
   "cell_type": "code",
   "execution_count": null,
   "metadata": {},
   "outputs": [],
   "source": [
    "config={'layers': [1280, 512, 1], \n",
    "        'epoch': 500, \n",
    "        'batch_size': 16,\n",
    "        'patience': 500,\n",
    "        'early_stopping': True,\n",
    "        'lr': 1e-4,\n",
    "        'print_every_n_epoch': 10,\n",
    "        'debug': True}\n",
    "surrogate = topmodel.MLPSurrogate(config=config)\n",
    "surrogate.trainmodel(X=X_train, y=y_train, val=(X_val, y_val))"
   ]
  },
  {
   "cell_type": "code",
   "execution_count": null,
   "metadata": {},
   "outputs": [],
   "source": [
    "y_train_pred = surrogate.predict(X_train)\n",
    "y_val_pred = surrogate.predict(X_val)\n",
    "y_test_pred = surrogate.predict(X_test)\n",
    "fig, ax = plt.subplots(1,3, figsize=(10,3), layout='constrained')\n",
    "ax[0].plot(y_train, y_train_pred, '.', alpha=0.5)\n",
    "ax[1].plot(y_val, y_val_pred, '.', alpha=0.5)\n",
    "ax[2].plot(y_test, y_test_pred, '.', alpha=0.5)\n",
    "\n",
    "mse = mean_squared_error(y_train, y_train_pred)\n",
    "corr = stats.spearmanr(y_train, y_train_pred)\n",
    "s_corr = round(corr.statistic, 2)\n",
    "ax[0].set_title(f'Train \\nmse : {str(round(mse, 2))} \\nspearman correlation = {s_corr}')\n",
    "\n",
    "mse = mean_squared_error(y_val, y_val_pred)\n",
    "corr = stats.spearmanr(y_val, y_val_pred)\n",
    "s_corr = round(corr.statistic, 2)\n",
    "ax[1].set_title(f'Val \\nmse : {str(round(mse, 2))} \\nspearman correlation = {s_corr}')\n",
    "\n",
    "mse = mean_squared_error(y_test, y_test_pred)\n",
    "corr = stats.spearmanr(y_test, y_test_pred)\n",
    "s_corr = round(corr.statistic, 2)\n",
    "ax[2].set_title(f'Test \\nmse : {str(round(mse, 2))} \\nspearman correlation = {s_corr}')\n",
    "\n",
    "for i in range(3):\n",
    "    ax[i].set_xlabel('True')\n",
    "    ax[i].set_ylabel('Pred')\n",
    "\n",
    "plt.show()"
   ]
  },
  {
   "cell_type": "code",
   "execution_count": null,
   "metadata": {},
   "outputs": [],
   "source": [
    "# y_pred = surrogate.predict(embeddings)\n",
    "# assert y_pred.shape[0] == embeddings.shape[0] == df_results.shape[0]\n",
    "# df_results['pred_ESM650M_cls_MLP'] = y_pred\n",
    "\n",
    "# mse = mean_squared_error(df_results['fitness_log'], df_results['pred_ESM650M_cls_MLP'])\n",
    "# corr = stats.spearmanr(df_results['fitness_log'], df_results['pred_ESM650M_cls_MLP'])\n",
    "# s_corr = round(corr.statistic, 2)\n",
    "# print(f'mse : {str(round(mse, 2))} || spearman correlation = {s_corr}')\n",
    "\n",
    "# df_results.to_csv(results_file, index=False)"
   ]
  },
  {
   "cell_type": "code",
   "execution_count": null,
   "metadata": {},
   "outputs": [],
   "source": [
    "df_results.columns[df_results.columns.str.contains('pred')]"
   ]
  },
  {
   "cell_type": "code",
   "execution_count": null,
   "metadata": {},
   "outputs": [],
   "source": []
  },
  {
   "cell_type": "markdown",
   "metadata": {},
   "source": [
    "#### ESM2, ESM3, ESMC - perplexities"
   ]
  },
  {
   "cell_type": "code",
   "execution_count": null,
   "metadata": {},
   "outputs": [],
   "source": [
    "# esm2 = ESM2(model_path='/data/users/kgeorge/workspace/esm2/checkpoints/esm2_t33_650M_UR50D.pt', device='gpu')\n",
    "# esm3 = ESM3LM(device='gpu')\n",
    "# esmc = ESMCLM(name='esmc_300m', device='gpu')\n",
    "esmc = ESMCLM(name='esmc_600m', device='gpu')"
   ]
  },
  {
   "cell_type": "code",
   "execution_count": null,
   "metadata": {},
   "outputs": [],
   "source": [
    "y = df['fitness_log'].to_numpy().astype(np.float32)"
   ]
  },
  {
   "cell_type": "code",
   "execution_count": null,
   "metadata": {},
   "outputs": [],
   "source": [
    "y_pred = []\n",
    "for seq in tqdm(df['seq']):\n",
    "    # perplexity = esm2.compute_perplexity(seq)\n",
    "    # perplexity = esm3.compute_perplexity(seq)\n",
    "    perplexity = esmc.compute_perplexity(seq)\n",
    "    y_pred.append(perplexity)\n",
    "\n",
    "y_pred = np.array(y_pred)"
   ]
  },
  {
   "cell_type": "code",
   "execution_count": null,
   "metadata": {},
   "outputs": [],
   "source": [
    "fig, ax = plt.subplots(1,2, figsize=(7,3), layout='constrained')\n",
    "\n",
    "ax[0].plot(y, -y_pred, '.', alpha=0.5)\n",
    "mse = mean_squared_error(y, -y_pred)\n",
    "corr = stats.spearmanr(y, -y_pred)\n",
    "s_corr = round(corr.statistic, 2)\n",
    "ax[0].set_title(f'Train \\nmse : {str(round(mse, 2))} \\nspearman correlation = {s_corr}')\n",
    "\n",
    "mask = ~(df['fitness_raw'] == 0)\n",
    "ax[1].plot(y[mask], -y_pred[mask], '.', alpha=0.5)\n",
    "mse = mean_squared_error(y[mask], -y_pred[mask])\n",
    "corr = stats.spearmanr(y[mask], -y_pred[mask])\n",
    "s_corr = round(corr.statistic, 2)\n",
    "ax[1].set_title(f'Train \\nmse : {str(round(mse, 2))} \\nspearman correlation = {s_corr}')\n",
    "\n",
    "for i in range(2):\n",
    "    ax[i].set_xlabel('True')\n",
    "    ax[i].set_ylabel('Pred')\n",
    "\n",
    "plt.show()"
   ]
  },
  {
   "cell_type": "code",
   "execution_count": null,
   "metadata": {},
   "outputs": [],
   "source": [
    "assert y_pred.shape[0] == df_results.shape[0]\n",
    "df_results['pred_ESMC600M_perplexity'] = y_pred\n",
    "\n",
    "mse = mean_squared_error(df_results['fitness_log'], df_results['pred_ESMC600M_perplexity'])\n",
    "corr = stats.spearmanr(df_results['fitness_log'], df_results['pred_ESMC600M_perplexity'])\n",
    "s_corr = round(corr.statistic, 2)\n",
    "print(f'mse : {str(round(mse, 2))} || spearman correlation = {s_corr}')\n",
    "\n",
    "df_results.to_csv(results_file, index=False)"
   ]
  },
  {
   "cell_type": "code",
   "execution_count": null,
   "metadata": {},
   "outputs": [],
   "source": [
    "df_results.columns[df_results.columns.str.contains('pred')]"
   ]
  },
  {
   "cell_type": "code",
   "execution_count": null,
   "metadata": {},
   "outputs": [],
   "source": []
  },
  {
   "cell_type": "markdown",
   "metadata": {},
   "source": []
  },
  {
   "cell_type": "code",
   "execution_count": 81,
   "metadata": {},
   "outputs": [],
   "source": [
    "import torch\n",
    "import esm\n",
    "from tqdm import tqdm\n",
    "import numpy as np\n",
    "\n",
    "\n",
    "class ESM2():\n",
    "    def __init__(self, model_path, device='cpu') -> None:\n",
    "        self.model, self.alphabet = esm.pretrained.load_model_and_alphabet(model_path)\n",
    "        self.batch_converter = self.alphabet.get_batch_converter()\n",
    "        self.model.eval()\n",
    "        self.device = device\n",
    "\n",
    "        if 't6_8M' in model_path:\n",
    "            self.rep_layer = 6\n",
    "            self.emb_dim = 320\n",
    "        elif 't30_150M' in model_path:\n",
    "            self.rep_layer = 30\n",
    "            self.emb_dim = 640\n",
    "        elif 't33_650M' in model_path:\n",
    "            self.rep_layer = 33\n",
    "            self.emb_dim = 1280\n",
    "        else:\n",
    "            raise Exception('I need to work on this. Feel free to extend :)')\n",
    "\n",
    "        if self.device == 'gpu':\n",
    "            self.model.cuda()\n",
    "\n",
    "        self.tok_to_idx = self.alphabet.tok_to_idx\n",
    "        self.idx_to_tok = {v:k for k,v in self.tok_to_idx.items()}\n",
    "\n",
    "    def get_res(self, sequence, rep_layer=None):\n",
    "        if rep_layer is None:\n",
    "            rep_layer = self.rep_layer\n",
    "\n",
    "        data = [\n",
    "            (\"protein1\", sequence)\n",
    "        ]\n",
    "        batch_labels, batch_strs, batch_tokens = self.batch_converter(data)\n",
    "        batch_lens = (batch_tokens != self.alphabet.padding_idx).sum(1)\n",
    "\n",
    "        if self.device == 'gpu':\n",
    "            batch_tokens = batch_tokens.cuda()\n",
    "\n",
    "        with torch.no_grad():\n",
    "            results = self.model(batch_tokens, repr_layers=[rep_layer], return_contacts=True)\n",
    "\n",
    "        return results\n",
    "\n",
    "    def get_res_batch(self, sequences, rep_layer=None):\n",
    "        if rep_layer is None:\n",
    "            rep_layer = self.rep_layer\n",
    "\n",
    "        data = [\n",
    "            (f\"P{i+1}\", seq) for i, seq in enumerate(sequences)\n",
    "        ]\n",
    "        batch_labels, batch_strs, batch_tokens = self.batch_converter(data)\n",
    "        batch_lens = (batch_tokens != self.alphabet.padding_idx).sum(1)\n",
    "\n",
    "        if self.device == 'gpu':\n",
    "            batch_tokens = batch_tokens.cuda()\n",
    "\n",
    "        with torch.no_grad():\n",
    "            results = self.model(batch_tokens, repr_layers=[rep_layer], return_contacts=True)\n",
    "\n",
    "        return results, batch_lens\n",
    "\n",
    "    def get_logits(self, sequence):\n",
    "\n",
    "        results = self.get_res(sequence)\n",
    "        return results['logits']\n",
    "\n",
    "    def get_prob(self, sequence):\n",
    "        logits = self.get_logits(sequence)\n",
    "        prob = torch.nn.functional.softmax(logits, dim=-1)[0, 1:-1, :] # 1st and last are start and end tokens\n",
    "\n",
    "        return prob.cpu().numpy()\n",
    "    \n",
    "    def get_embeddings_mean(self, sequences):\n",
    "        embeddings = []\n",
    "        for seq in tqdm(sequences):\n",
    "            rep = self.get_res(sequence=seq)\n",
    "            embeddings.append(rep['representations'][self.rep_layer][:,1:-1,:].mean(1).cpu().numpy())\n",
    "\n",
    "        embeddings = np.concatenate(embeddings, axis=0)\n",
    "\n",
    "        return embeddings\n",
    "    \n",
    "    def get_embeddings_flatten(self, sequences):\n",
    "        embeddings = []\n",
    "        for seq in tqdm(sequences):\n",
    "            rep = self.get_res(sequence=seq)\n",
    "            embeddings.append(rep['representations'][self.rep_layer][:,1:-1,:].cpu().numpy()[0].flatten())\n",
    "\n",
    "        embeddings = np.stack(embeddings, axis=0)\n",
    "\n",
    "        return embeddings\n",
    "    \n",
    "    def __get_embeddings_full(self, sequences):\n",
    "        embeddings = []\n",
    "        for seq in tqdm(sequences):\n",
    "            rep = self.get_res(sequence=seq)\n",
    "            embeddings.append(rep['representations'][self.rep_layer][:,1:-1,:].cpu().numpy()[0])\n",
    "\n",
    "        return embeddings\n",
    "    \n",
    "    def get_embeddings_cls(self, sequences):\n",
    "        embeddings = []\n",
    "        for seq in tqdm(sequences):\n",
    "            rep = self.get_res(sequence=seq)\n",
    "            embeddings.append(rep['representations'][self.rep_layer][:, 0, :].cpu().numpy())\n",
    "\n",
    "        embeddings = np.concatenate(embeddings, axis=0)\n",
    "\n",
    "        return embeddings\n",
    "    \n",
    "    def get_embeddings_feature_pool(self, sequences, pool='mean'):\n",
    "        embeddings = []\n",
    "        for seq in tqdm(sequences):\n",
    "            rep = self.get_res(sequence=seq)\n",
    "            if pool == 'mean':\n",
    "                embeddings.append(rep['representations'][self.rep_layer][:,1:-1,:].mean(-1).cpu().numpy())\n",
    "            elif pool == 'sum':\n",
    "                embeddings.append(rep['representations'][self.rep_layer][:,1:-1,:].sum(-1).cpu().numpy())\n",
    "            else:\n",
    "                raise Exception('pool can only take values mean or sum')\n",
    "            \n",
    "        embeddings = np.concatenate(embeddings, axis=0)\n",
    "\n",
    "        return embeddings\n",
    "    \n",
    "    def compute_perplexity(self, sequence, mask_token='<mask>'):\n",
    "        '''\n",
    "            pseudoperplexity(x) = exp( -1/L \\sum_{i=1}_{L} [log( p(x_{i}|x_{j!=i}) )] )\n",
    "            \n",
    "        '''\n",
    "        \n",
    "        sum_log = 0\n",
    "        for pos in range(len(sequence)):\n",
    "            masked_query = list(sequence)\n",
    "            assert mask_token not in masked_query\n",
    "            masked_query[pos] = mask_token\n",
    "            masked_query = ''.join(masked_query)\n",
    "            prob = self.get_prob(sequence=masked_query)\n",
    "\n",
    "            assert prob.shape[0] == len(sequence)\n",
    "\n",
    "            prob_pos = np.log(prob[pos, self.tok_to_idx[sequence[pos]]])\n",
    "            \n",
    "            sum_log += prob_pos\n",
    "\n",
    "        return np.exp(-1*sum_log/len(sequence))\n",
    "    \n",
    "    def get_log_prob(self, sequence):\n",
    "        logits = self.get_logits(sequence)\n",
    "        log_prob = torch.log_softmax(logits, dim=-1)[0,1:-1,:]\n",
    "\n",
    "        return log_prob.cpu().numpy()\n",
    "    \n",
    "    def get_wildtype_marginal(self, mt_sequence, wt_sequence, wt_log_prob=None):\n",
    "        if wt_log_prob is None:\n",
    "            assert len(wt_sequence) == len(mt_sequence)\n",
    "            wt_log_prob = self.get_log_prob(sequence=wt_sequence)\n",
    "\n",
    "        assert wt_log_prob.shape[0] == len(wt_sequence) == len(mt_sequence)\n",
    "\n",
    "        n_muts = 0\n",
    "        score = 0\n",
    "        for i, (aa_mt, aa_wt) in enumerate(zip(mt_sequence, wt_sequence)):\n",
    "            if aa_wt != aa_mt:\n",
    "                ## mutation pos\n",
    "                n_muts += 1\n",
    "\n",
    "                idx_mt = self.tok_to_idx[aa_mt]\n",
    "                idx_wt = self.tok_to_idx[aa_wt]\n",
    "                score += wt_log_prob[i, idx_mt] - wt_log_prob[i, idx_wt]\n",
    "\n",
    "\n",
    "        return score, n_muts"
   ]
  },
  {
   "cell_type": "code",
   "execution_count": 82,
   "metadata": {},
   "outputs": [],
   "source": [
    "esm2 = ESM2(model_path='/data/users/kgeorge/workspace/esm2/checkpoints/esm2_t33_650M_UR50D.pt', device='gpu')"
   ]
  },
  {
   "cell_type": "code",
   "execution_count": 83,
   "metadata": {},
   "outputs": [],
   "source": [
    "wt_sequence = df.loc[df['name'] == 'WT', 'seq'].iloc[0]"
   ]
  },
  {
   "cell_type": "code",
   "execution_count": 86,
   "metadata": {},
   "outputs": [
    {
     "data": {
      "text/plain": [
       "['<eos>', '<unk>', '<pad>', '<cls>', '<mask>']"
      ]
     },
     "execution_count": 86,
     "metadata": {},
     "output_type": "execute_result"
    }
   ],
   "source": []
  },
  {
   "cell_type": "code",
   "execution_count": 105,
   "metadata": {},
   "outputs": [],
   "source": [
    "def get_masked_marginal(mt_sequence, wt_sequence, mask_token = '<mask>'):\n",
    "        # if wt_log_prob is None:\n",
    "        #     assert len(wt_sequence) == len(mt_sequence)\n",
    "        #     wt_log_prob = self.get_log_prob(sequence=wt_sequence)\n",
    "\n",
    "        assert len(wt_sequence) == len(mt_sequence)\n",
    "\n",
    "        n_muts = 0\n",
    "        mask_positions = []\n",
    "        for i, (aa_mt, aa_wt) in enumerate(zip(mt_sequence, wt_sequence)):\n",
    "            if aa_wt != aa_mt:\n",
    "                ## mutation pos\n",
    "                n_muts += 1\n",
    "                mask_positions.append(i)\n",
    "\n",
    "        assert len(mask_positions) == n_muts\n",
    "        masked_query = list(wt_sequence)\n",
    "        for _pos in mask_positions:\n",
    "            masked_query[_pos] = mask_token\n",
    "        masked_sequence = ''.join(masked_query)\n",
    "\n",
    "        masked_log_prob = esm2.get_log_prob(sequence=masked_sequence)\n",
    "        \n",
    "        score = 0\n",
    "        _idx = 0\n",
    "        for i, (aa_mt, aa_wt) in enumerate(zip(mt_sequence, wt_sequence)):\n",
    "            if aa_wt != aa_mt:\n",
    "                ## mutation pos\n",
    "\n",
    "                assert mask_positions[_idx] == i\n",
    "                _idx += 1\n",
    "\n",
    "                idx_mt = esm2.tok_to_idx[aa_mt]\n",
    "                idx_wt = esm2.tok_to_idx[aa_wt]\n",
    "                score += masked_log_prob[i, idx_mt] - masked_log_prob[i, idx_wt]\n",
    "\n",
    "\n",
    "        return score, n_muts"
   ]
  },
  {
   "cell_type": "code",
   "execution_count": 106,
   "metadata": {},
   "outputs": [],
   "source": [
    "y_pred = []\n",
    "for i, row in tqdm(df.iterrows()):\n",
    "    mt_sequence = row['seq']\n",
    "    score, n_muts = get_masked_marginal(mt_sequence, wt_sequence)\n",
    "\n",
    "    assert n_muts == row['n_mut']\n",
    "\n",
    "    y_pred.append(score)\n",
    "\n",
    "y_pred = np.array(y_pred)"
   ]
  },
  {
   "cell_type": "code",
   "execution_count": null,
   "metadata": {},
   "outputs": [],
   "source": []
  },
  {
   "cell_type": "code",
   "execution_count": 69,
   "metadata": {},
   "outputs": [
    {
     "name": "stderr",
     "output_type": "stream",
     "text": [
      "78it [00:00, 25615.07it/s]\n"
     ]
    }
   ],
   "source": [
    "wt_log_prob = esm2.get_log_prob(wt_sequence)\n",
    "y_pred = []\n",
    "for i, row in tqdm(df.iterrows()):\n",
    "    mt_sequence = row['seq']\n",
    "    score, n_muts = esm2.get_wildtype_marginal(mt_sequence, wt_sequence, wt_log_prob)\n",
    "\n",
    "    assert n_muts == row['n_mut']\n",
    "\n",
    "    y_pred.append(score)\n",
    "\n",
    "y_pred = np.array(y_pred)"
   ]
  },
  {
   "cell_type": "code",
   "execution_count": 107,
   "metadata": {},
   "outputs": [],
   "source": [
    "y = df['fitness_log'].to_numpy().astype(np.float32)"
   ]
  },
  {
   "cell_type": "code",
   "execution_count": 108,
   "metadata": {},
   "outputs": [
    {
     "data": {
      "image/png": "[encoded data removed]",
      "text/plain": [
       "<Figure size 700x300 with 2 Axes>"
      ]
     },
     "metadata": {},
     "output_type": "display_data"
    }
   ],
   "source": [
    "fig, ax = plt.subplots(1,2, figsize=(7,3), layout='constrained')\n",
    "\n",
    "ax[0].plot(y, y_pred, '.', alpha=0.5)\n",
    "mse = mean_squared_error(y, y_pred)\n",
    "corr = stats.spearmanr(y, y_pred)\n",
    "s_corr = round(corr.statistic, 2)\n",
    "ax[0].set_title(f'Train \\nmse : {str(round(mse, 2))} \\nspearman correlation = {s_corr}')\n",
    "\n",
    "mask = ~(df['fitness_raw'] == 0)\n",
    "ax[1].plot(y[mask], y_pred[mask], '.', alpha=0.5)\n",
    "mse = mean_squared_error(y[mask], y_pred[mask])\n",
    "corr = stats.spearmanr(y[mask], y_pred[mask])\n",
    "s_corr = round(corr.statistic, 2)\n",
    "ax[1].set_title(f'Train \\nmse : {str(round(mse, 2))} \\nspearman correlation = {s_corr}')\n",
    "\n",
    "for i in range(2):\n",
    "    ax[i].set_xlabel('True')\n",
    "    ax[i].set_ylabel('Pred')\n",
    "\n",
    "plt.show()"
   ]
  },
  {
   "cell_type": "code",
   "execution_count": 109,
   "metadata": {},
   "outputs": [
    {
     "data": {
      "text/plain": [
       "<Axes: >"
      ]
     },
     "execution_count": 109,
     "metadata": {},
     "output_type": "execute_result"
    },
    {
     "data": {
      "image/png": "[encoded data removed]",
      "text/plain": [
       "<Figure size 640x480 with 1 Axes>"
      ]
     },
     "metadata": {},
     "output_type": "display_data"
    }
   ],
   "source": [
    "df['n_mut'].hist()"
   ]
  },
  {
   "cell_type": "code",
   "execution_count": 112,
   "metadata": {},
   "outputs": [
    {
     "data": {
      "image/png": "[encoded data removed]",
      "text/plain": [
       "<Figure size 700x300 with 2 Axes>"
      ]
     },
     "metadata": {},
     "output_type": "display_data"
    }
   ],
   "source": [
    "fig, ax = plt.subplots(1,2, figsize=(7,3), layout='constrained')\n",
    "\n",
    "mask_muts = (df['n_mut'] < 20)\n",
    "\n",
    "ax[0].plot(y[mask_muts], y_pred[mask_muts], '.', alpha=0.5)\n",
    "mse = mean_squared_error(y[mask_muts], y_pred[mask_muts])\n",
    "corr = stats.spearmanr(y[mask_muts], y_pred[mask_muts])\n",
    "s_corr = round(corr.statistic, 2)\n",
    "ax[0].set_title(f'Train \\nmse : {str(round(mse, 2))} \\nspearman correlation = {s_corr}')\n",
    "\n",
    "# mask = ~(df['fitness_raw'] == 0)\n",
    "ax[1].plot(y[~mask_muts], y_pred[~mask_muts], '.', alpha=0.5)\n",
    "mse = mean_squared_error(y[~mask_muts], y_pred[~mask_muts])\n",
    "corr = stats.spearmanr(y[~mask_muts], y_pred[~mask_muts])\n",
    "s_corr = round(corr.statistic, 2)\n",
    "ax[1].set_title(f'Train \\nmse : {str(round(mse, 2))} \\nspearman correlation = {s_corr}')\n",
    "\n",
    "for i in range(2):\n",
    "    ax[i].set_xlabel('True')\n",
    "    ax[i].set_ylabel('Pred')\n",
    "\n",
    "plt.show()"
   ]
  },
  {
   "cell_type": "code",
   "execution_count": 113,
   "metadata": {},
   "outputs": [
    {
     "data": {
      "image/png": "[encoded data removed]",
      "text/plain": [
       "<Figure size 700x300 with 2 Axes>"
      ]
     },
     "metadata": {},
     "output_type": "display_data"
    }
   ],
   "source": [
    "fig, ax = plt.subplots(1,2, figsize=(7,3), layout='constrained')\n",
    "\n",
    "mask_muts = (df['n_mut'] < 20)\n",
    "mask_omit = ~(df['fitness_raw'] == 0)\n",
    "\n",
    "ax[0].plot(y[mask_muts & mask_omit], y_pred[mask_muts & mask_omit], '.', alpha=0.5)\n",
    "mse = mean_squared_error(y[mask_muts & mask_omit], y_pred[mask_muts & mask_omit])\n",
    "corr = stats.spearmanr(y[mask_muts & mask_omit], y_pred[mask_muts & mask_omit])\n",
    "s_corr = round(corr.statistic, 2)\n",
    "ax[0].set_title(f'Train \\nmse : {str(round(mse, 2))} \\nspearman correlation = {s_corr}')\n",
    "\n",
    "ax[1].plot(y[~mask_muts & mask_omit], y_pred[~mask_muts & mask_omit], '.', alpha=0.5)\n",
    "mse = mean_squared_error(y[~mask_muts & mask_omit], y_pred[~mask_muts & mask_omit])\n",
    "corr = stats.spearmanr(y[~mask_muts & mask_omit], y_pred[~mask_muts & mask_omit])\n",
    "s_corr = round(corr.statistic, 2)\n",
    "ax[1].set_title(f'Train \\nmse : {str(round(mse, 2))} \\nspearman correlation = {s_corr}')\n",
    "\n",
    "for i in range(2):\n",
    "    ax[i].set_xlabel('True')\n",
    "    ax[i].set_ylabel('Pred')\n",
    "\n",
    "plt.show()"
   ]
  },
  {
   "cell_type": "code",
   "execution_count": null,
   "metadata": {},
   "outputs": [],
   "source": []
  }
 ],
 "metadata": {
  "kernelspec": {
   "display_name": "workspace-esm",
   "language": "python",
   "name": "python3"
  },
  "language_info": {
   "codemirror_mode": {
    "name": "ipython",
    "version": 3
   },
   "file_extension": ".py",
   "mimetype": "text/x-python",
   "name": "python",
   "nbconvert_exporter": "python",
   "pygments_lexer": "ipython3",
   "version": "3.10.13"
  }
 },
 "nbformat": 4,
 "nbformat_minor": 2
}
