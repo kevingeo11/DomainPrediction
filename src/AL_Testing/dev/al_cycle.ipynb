{
 "cells": [
  {
   "cell_type": "code",
   "execution_count": 1,
   "metadata": {},
   "outputs": [],
   "source": [
    "import sys\n",
    "sys.path.append('..')"
   ]
  },
  {
   "cell_type": "code",
   "execution_count": 2,
   "metadata": {},
   "outputs": [],
   "source": [
    "import os\n",
    "from tqdm import tqdm\n",
    "import random\n",
    "import matplotlib.pyplot as plt\n",
    "import numpy as np\n",
    "import pandas as pd"
   ]
  },
  {
   "cell_type": "code",
   "execution_count": 3,
   "metadata": {},
   "outputs": [
    {
     "name": "stderr",
     "output_type": "stream",
     "text": [
      "2024-12-19 10:56:56.051006: I tensorflow/core/util/port.cc:113] oneDNN custom operations are on. You may see slightly different numerical results due to floating-point round-off errors from different computation orders. To turn them off, set the environment variable `TF_ENABLE_ONEDNN_OPTS=0`.\n",
      "2024-12-19 10:56:56.053433: I external/local_tsl/tsl/cuda/cudart_stub.cc:32] Could not find cuda drivers on your machine, GPU will not be used.\n",
      "2024-12-19 10:56:56.059108: E external/local_xla/xla/stream_executor/cuda/cuda_fft.cc:479] Unable to register cuFFT factory: Attempting to register factory for plugin cuFFT when one has already been registered\n",
      "2024-12-19 10:56:56.070066: E external/local_xla/xla/stream_executor/cuda/cuda_dnn.cc:10575] Unable to register cuDNN factory: Attempting to register factory for plugin cuDNN when one has already been registered\n",
      "2024-12-19 10:56:56.070087: E external/local_xla/xla/stream_executor/cuda/cuda_blas.cc:1442] Unable to register cuBLAS factory: Attempting to register factory for plugin cuBLAS when one has already been registered\n",
      "2024-12-19 10:56:56.077343: I tensorflow/core/platform/cpu_feature_guard.cc:210] This TensorFlow binary is optimized to use available CPU instructions in performance-critical operations.\n",
      "To enable the following instructions: AVX2 AVX_VNNI FMA, in other operations, rebuild TensorFlow with the appropriate compiler flags.\n",
      "2024-12-19 10:56:58.493532: W tensorflow/compiler/tf2tensorrt/utils/py_utils.cc:38] TF-TRT Warning: Could not find TensorRT\n"
     ]
    }
   ],
   "source": [
    "import torch\n",
    "import torch.nn as nn\n",
    "from torch.utils.data import Dataset\n",
    "from torch.utils.data import DataLoader\n",
    "import lightning.pytorch as pl\n",
    "from lightning.pytorch.callbacks.early_stopping import EarlyStopping\n",
    "\n",
    "from peft import LoraConfig, get_peft_model\n",
    "\n",
    "import esm"
   ]
  },
  {
   "cell_type": "code",
   "execution_count": 4,
   "metadata": {},
   "outputs": [],
   "source": [
    "from DomainPrediction.utils import helper\n",
    "from DomainPrediction.eval import metrics\n",
    "from DomainPrediction.esm.esm2 import ESM2"
   ]
  },
  {
   "cell_type": "code",
   "execution_count": 5,
   "metadata": {},
   "outputs": [],
   "source": [
    "from sklearn.ensemble import RandomForestRegressor\n",
    "from sklearn.linear_model import Ridge\n",
    "from sklearn.metrics import mean_squared_error\n",
    "from scipy import stats\n",
    "from sklearn.model_selection import train_test_split"
   ]
  },
  {
   "cell_type": "code",
   "execution_count": 6,
   "metadata": {},
   "outputs": [],
   "source": [
    "import warnings\n",
    "\n",
    "warnings.filterwarnings(\"ignore\", \".*Consider increasing the value of the `num_workers` argument*\")\n",
    "warnings.filterwarnings(\"ignore\", \".*Set a lower value for log_every_n_steps*\")"
   ]
  },
  {
   "cell_type": "markdown",
   "metadata": {},
   "source": [
    "#### Define Functions"
   ]
  },
  {
   "cell_type": "code",
   "execution_count": 7,
   "metadata": {},
   "outputs": [],
   "source": [
    "esm2 = ESM2(model_path='/data/users/kgeorge/workspace/esm2/checkpoints/esm2_t33_650M_UR50D.pt', device='gpu')"
   ]
  },
  {
   "cell_type": "code",
   "execution_count": 8,
   "metadata": {},
   "outputs": [],
   "source": [
    "def get_embeddings_mean(sequences):\n",
    "    embeddings = []\n",
    "    for seq in tqdm(sequences):\n",
    "        rep = esm2.get_res(sequence=seq)\n",
    "        embeddings.append(rep['representations'][33][:,1:-1,:].mean(1).cpu().numpy())\n",
    "\n",
    "    embeddings = np.concatenate(embeddings, axis=0)\n",
    "\n",
    "    return embeddings\n",
    "\n",
    "def get_embeddings_mean_batch(sequences, batch_size=3):\n",
    "    embeddings = []\n",
    "    for i in tqdm(range(0, len(sequences), batch_size)):\n",
    "        seqs = sequences[i:i+batch_size]\n",
    "        rep, batch_lens = esm2.get_res_batch(sequences=seqs)\n",
    "        assert (batch_lens == batch_lens[0]).all() == True\n",
    "        embeddings.append(rep['representations'][33][:,1:-1,:].mean(1).cpu().numpy())\n",
    "\n",
    "    embeddings = np.concatenate(embeddings, axis=0)\n",
    "\n",
    "    return embeddings\n",
    "\n",
    "def get_embeddings_full(sequences):\n",
    "    embeddings = []\n",
    "    for seq in tqdm(sequences):\n",
    "        rep = esm2.get_res(sequence=seq)\n",
    "        embeddings.append(rep['representations'][33][:,1:-1,:].cpu().numpy()[0])\n",
    "\n",
    "    return embeddings"
   ]
  },
  {
   "cell_type": "code",
   "execution_count": 9,
   "metadata": {},
   "outputs": [],
   "source": [
    "class RFSurrogate():\n",
    "    def __init__(self) -> None:\n",
    "\n",
    "        self.model = RandomForestRegressor(n_estimators=100, criterion='friedman_mse', max_depth=None, min_samples_split=2,\n",
    "                                            min_samples_leaf=1, min_weight_fraction_leaf=0.0, max_features=1.0,\n",
    "                                            max_leaf_nodes=None, min_impurity_decrease=0.0, bootstrap=True, oob_score=False,\n",
    "                                            n_jobs=None, random_state=1, verbose=0, warm_start=False, ccp_alpha=0.0,\n",
    "                                            max_samples=None)\n",
    "    \n",
    "    def train(self, X, y, val=True, debug=True):\n",
    "        '''\n",
    "            X - embeddings from esm2\n",
    "            X - shape (n, features)\n",
    "            y - shape (n, )\n",
    "        '''\n",
    "        if val:\n",
    "            idx = np.arange(X.shape[0])\n",
    "            train_idx, val_idx = train_test_split(idx, test_size=0.2)\n",
    "            _ = self.model.fit(X[train_idx], y[train_idx])\n",
    "\n",
    "            if debug:\n",
    "                self.print_eval(X[train_idx], y[train_idx], label='train')\n",
    "                self.print_eval(X[val_idx], y[val_idx], label='val')\n",
    "        else:\n",
    "            _ = self.model.fit(X, y)\n",
    "            if debug:\n",
    "                self.print_eval(X, y, label='train')\n",
    "    \n",
    "    def print_eval(self, X, y, label='set'):\n",
    "        ypred = self.model.predict(X)\n",
    "        mse = mean_squared_error(ypred, y)\n",
    "        corr = stats.spearmanr(ypred, y)\n",
    "\n",
    "        print(f'{label}: mse = {mse}, spearman correlation = {corr.statistic}')\n",
    "\n",
    "    def predict(self, X):\n",
    "\n",
    "        return self.model.predict(X)"
   ]
  },
  {
   "cell_type": "code",
   "execution_count": 10,
   "metadata": {},
   "outputs": [],
   "source": [
    "class RidgeSurrogate():\n",
    "    def __init__(self) -> None:\n",
    "\n",
    "        self.model = Ridge(alpha=1.0, fit_intercept=True, random_state=1)\n",
    "    \n",
    "    def train(self, X, y, val=True, debug=True):\n",
    "        '''\n",
    "            X - embeddings from esm2\n",
    "            X - shape (n, features)\n",
    "            y - shape (n, )\n",
    "        '''\n",
    "        if val:\n",
    "            idx = np.arange(X.shape[0])\n",
    "            train_idx, val_idx = train_test_split(idx, test_size=0.2)\n",
    "            _ = self.model.fit(X[train_idx], y[train_idx])\n",
    "\n",
    "            if debug:\n",
    "                self.print_eval(X[train_idx], y[train_idx], label='train')\n",
    "                self.print_eval(X[val_idx], y[val_idx], label='val')\n",
    "        else:\n",
    "            _ = self.model.fit(X, y)\n",
    "            if debug:\n",
    "                self.print_eval(X, y, label='train')\n",
    "    \n",
    "    def print_eval(self, X, y, label='set'):\n",
    "        ypred = self.model.predict(X)\n",
    "        mse = mean_squared_error(ypred, y)\n",
    "        corr = stats.spearmanr(ypred, y)\n",
    "\n",
    "        print(f'{label}: mse = {mse}, spearman correlation = {corr.statistic}')\n",
    "\n",
    "    def predict(self, X):\n",
    "\n",
    "        return self.model.predict(X)"
   ]
  },
  {
   "cell_type": "code",
   "execution_count": 11,
   "metadata": {},
   "outputs": [],
   "source": [
    "class ProteinFunDataset(Dataset):\n",
    "    def __init__(self, X, y):\n",
    "        self.X, self.y = X, y\n",
    "    \n",
    "    def __len__(self):\n",
    "        return self.X.shape[0]\n",
    "    \n",
    "    def __getitem__(self, idx):\n",
    "        return self.X[idx], self.y[idx]\n",
    "\n",
    "class MLPSurrogate(pl.LightningModule):\n",
    "    def __init__(self, inp_size=1280, hidden_size=512, \n",
    "                 config={'epoch': 10, \n",
    "                         'batch_size': 16}\n",
    "                ) -> None:\n",
    "        super().__init__()\n",
    "        self.config = config\n",
    "        # self.mlp = nn.Sequential(\n",
    "        #     nn.Linear(inp_size, hidden_size),\n",
    "        #     nn.ReLU(),\n",
    "        #     nn.Linear(hidden_size, 1)\n",
    "        # )\n",
    "        self.mlp = nn.Sequential(\n",
    "            nn.LayerNorm(1280),\n",
    "            nn.Linear(1280, 512),\n",
    "            nn.ReLU(),\n",
    "            nn.Linear(512, 1)\n",
    "        )\n",
    "        self.accumulate_batch_loss_train = []\n",
    "        self.accumulate_batch_loss_val = []\n",
    "        self.debug=True\n",
    "\n",
    "    def forward(self, x):\n",
    "        x = self.mlp(x)\n",
    "        return x\n",
    "    \n",
    "    def training_step(self, batch, batch_idx):\n",
    "        x, y = batch\n",
    "        y_hat = self(x)\n",
    "        # y_hat = self.mlp(x)\n",
    "        # print(y_hat)\n",
    "        # print(y_hat.flatten())\n",
    "        # print(y)\n",
    "        # loss = nn.functional.mse_loss(y_hat.flatten(), y)\n",
    "        loss = nn.functional.mse_loss(y_hat.flatten(), y)\n",
    "        self.log(\"train/loss\", loss, on_step=True, on_epoch=True)\n",
    "        self.accumulate_batch_loss_train.append(loss.item())\n",
    "        # print(loss)\n",
    "        return loss\n",
    "    \n",
    "    def validation_step(self, batch, batch_idx):\n",
    "        x, y = batch\n",
    "        y_hat = self(x)\n",
    "        # y_hat = self.mlp(x)\n",
    "        loss = nn.functional.mse_loss(y_hat.flatten(), y)\n",
    "        self.log(\"val/loss\", loss, on_step=True, on_epoch=True)\n",
    "        self.accumulate_batch_loss_val.append(loss.item())\n",
    "    \n",
    "    @staticmethod\n",
    "    def trainmodel(model, X, y, val=True, debug=True):\n",
    "        '''\n",
    "            X - embeddings from esm2\n",
    "            X - shape (n, features)\n",
    "            y - shape (n, )\n",
    "        '''\n",
    "        model.debug = debug\n",
    "        if val:\n",
    "            idx = np.arange(X.shape[0])\n",
    "            train_idx, val_idx = train_test_split(idx, test_size=0.2)\n",
    "            train_dataset = ProteinFunDataset(X[train_idx], y[train_idx])\n",
    "            val_dataset = ProteinFunDataset(X[val_idx], y[val_idx])\n",
    "            train_loader = DataLoader(train_dataset, batch_size=model.config['batch_size'], shuffle=True)\n",
    "            val_loader = DataLoader(val_dataset, batch_size=model.config['batch_size'], shuffle=False)\n",
    "\n",
    "            earlystopping_callback = EarlyStopping(monitor=\"val/loss\", patience=5, verbose=False, mode=\"min\")\n",
    "\n",
    "            trainer = pl.Trainer(max_epochs=model.config['epoch'], callbacks=[earlystopping_callback],\n",
    "                                 accelerator=\"auto\",\n",
    "                                 enable_progress_bar=False,\n",
    "                                 enable_model_summary=False\n",
    "                                 )\n",
    "            trainer.fit(model=model, train_dataloaders=train_loader, val_dataloaders=val_loader)\n",
    "\n",
    "            ## Needs to change - we need to load the least val loss model\n",
    "            y_pred = model.predict(X[val_idx])\n",
    "            val_mse = mean_squared_error(y_pred, y[val_idx])\n",
    "            print(f'Train end val mse: {val_mse}')\n",
    "\n",
    "        else:\n",
    "            raise Exception(\"Needs Fix\")\n",
    "            train_dataset = ProteinFunDataset(X, y)\n",
    "            train_loader = DataLoader(train_dataset)\n",
    "\n",
    "            trainer = pl.Trainer(max_epochs=95, \n",
    "                                 enable_progress_bar=False,\n",
    "                                 accelerator=\"auto\"\n",
    "                                 )\n",
    "            trainer.fit(model=model, train_dataloaders=train_loader)\n",
    "\n",
    "    def on_train_epoch_start(self):\n",
    "        self.accumulate_batch_loss_train.clear()\n",
    "        self.accumulate_batch_loss_val.clear()\n",
    "    \n",
    "    def on_train_epoch_end(self):\n",
    "        if self.current_epoch % self.config['print_every_n_epoch'] == 0 and self.debug:\n",
    "            print(f'Epoch: {self.current_epoch}: train mse: {np.mean(self.accumulate_batch_loss_train)} val mse: {np.mean(self.accumulate_batch_loss_val)}')\n",
    "\n",
    "    def on_train_end(self):\n",
    "        print(f'Epoch: {self.current_epoch}: train mse: {np.mean(self.accumulate_batch_loss_train)} val mse: {np.mean(self.accumulate_batch_loss_val)}')\n",
    "\n",
    "    def predict(self, X):\n",
    "        '''\n",
    "            X is numpy array\n",
    "        '''\n",
    "        with torch.no_grad():\n",
    "            y = self(torch.tensor(X))\n",
    "        return y.numpy().flatten()\n",
    "    \n",
    "    def configure_optimizers(self):\n",
    "        return torch.optim.Adam(self.parameters(), lr=0.001)"
   ]
  },
  {
   "cell_type": "code",
   "execution_count": 12,
   "metadata": {},
   "outputs": [],
   "source": [
    "class ESM2Regression(nn.Module):\n",
    "    def __init__(self, model_path) -> None:\n",
    "        super().__init__()\n",
    "        self.esm2, self.alphabet = esm.pretrained.load_model_and_alphabet(model_path)\n",
    "        self.batch_converter = self.alphabet.get_batch_converter()\n",
    "\n",
    "        self.mlp = nn.Sequential(\n",
    "            nn.Linear(1280, 512),\n",
    "            nn.ReLU(),\n",
    "            nn.Linear(512, 1)\n",
    "        )\n",
    "\n",
    "        self.tok_to_idx = self.alphabet.tok_to_idx\n",
    "        self.idx_to_tok = {v:k for k,v in self.tok_to_idx.items()}\n",
    "\n",
    "    def forward(self, batch_tokens):\n",
    "        rep = self.esm2(batch_tokens, repr_layers=[33], return_contacts=True)\n",
    "        embedding = rep['representations'][33].mean(1)\n",
    "\n",
    "        pred = self.mlp(embedding)\n",
    "\n",
    "        return pred\n",
    "    \n",
    "class ESM2LoRASurrogate(pl.LightningModule):\n",
    "    def __init__(self, config, device='gpu') -> None:\n",
    "        super().__init__()\n",
    "        self.config = config\n",
    "        esm2_regressor = ESM2Regression(model_path='/data/users/kgeorge/workspace/esm2/checkpoints/esm2_t33_650M_UR50D.pt')\n",
    "        config = LoraConfig(\n",
    "            r=4, \n",
    "            lora_alpha=1,\n",
    "            target_modules=[\"k_proj\", \"q_proj\", \"v_proj\", \"out_proj\", \"fc1\", \"fc2\"],\n",
    "            lora_dropout=0.1,\n",
    "            bias=\"all\",\n",
    "        )\n",
    "\n",
    "        self.model = get_peft_model(esm2_regressor, config)\n",
    "        for name, param in self.model.named_parameters():\n",
    "            if 'mlp' in name:\n",
    "                param.requires_grad = True\n",
    "        \n",
    "        self.__device = device\n",
    "\n",
    "        if self.__device == 'gpu':\n",
    "            self.model.cuda()\n",
    "\n",
    "        self.accumulate_batch_loss_train = []\n",
    "        self.accumulate_batch_loss_val = []\n",
    "        self.debug=True\n",
    "\n",
    "    def print_trainable_parameters(self):\n",
    "        self.model.print_trainable_parameters()\n",
    "    \n",
    "    def training_step(self, batch, batch_idx):\n",
    "        x, y = batch\n",
    "        data = [\n",
    "            (fun, seq) for (seq, fun) in zip(x, y)\n",
    "            ]\n",
    "        batch_labels, batch_strs, batch_tokens = self.model.batch_converter(data)\n",
    "        batch_lens = (batch_tokens != self.model.alphabet.padding_idx).sum(1)\n",
    "\n",
    "        if self.__device == 'gpu':\n",
    "            batch_tokens = batch_tokens.cuda()\n",
    "\n",
    "        y_hat = self.model(batch_tokens)\n",
    "        loss = nn.functional.mse_loss(y_hat.flatten(), y)\n",
    "        self.log(\"train/loss\", loss, on_step=True, on_epoch=True, prog_bar=True)\n",
    "        self.accumulate_batch_loss_train.append(loss.item())\n",
    "\n",
    "        return loss\n",
    "    \n",
    "    def validation_step(self, batch, batch_idx):\n",
    "        x, y = batch\n",
    "        data = [\n",
    "            (fun, seq) for (seq, fun) in zip(x, y)\n",
    "            ]\n",
    "        batch_labels, batch_strs, batch_tokens = self.model.batch_converter(data)\n",
    "        batch_lens = (batch_tokens != self.model.alphabet.padding_idx).sum(1)\n",
    "\n",
    "        if self.__device == 'gpu':\n",
    "            batch_tokens = batch_tokens.cuda()\n",
    "\n",
    "        y_hat = self.model(batch_tokens)\n",
    "        loss = nn.functional.mse_loss(y_hat.flatten(), y)\n",
    "        self.log(\"val/loss\", loss, on_step=True, on_epoch=True, prog_bar=True)\n",
    "        self.accumulate_batch_loss_val.append(loss.item())\n",
    "    \n",
    "    @staticmethod\n",
    "    def trainmodel(model, X, y, val=True, debug=True):\n",
    "        '''\n",
    "            X - embeddings from esm2\n",
    "            X - shape (n, features)\n",
    "            y - shape (n, )\n",
    "        '''\n",
    "        model.debug = debug\n",
    "        if val:\n",
    "            batch_size = 1\n",
    "            idx = np.arange(X.shape[0])\n",
    "            train_idx, val_idx = train_test_split(idx, test_size=0.2)\n",
    "            train_dataset = ProteinFunDataset(X[train_idx], y[train_idx])\n",
    "            val_dataset = ProteinFunDataset(X[val_idx], y[val_idx])\n",
    "            train_loader = DataLoader(train_dataset, batch_size=batch_size, shuffle=True)\n",
    "            val_loader = DataLoader(val_dataset, batch_size=batch_size, shuffle=False)\n",
    "\n",
    "            earlystopping_callback = EarlyStopping(monitor=\"val/loss\", patience=5, verbose=False, mode=\"min\")\n",
    "\n",
    "            trainer = pl.Trainer(max_epochs=model.config['epoch'], callbacks=[earlystopping_callback],\n",
    "                                 accelerator=\"auto\",\n",
    "                                 enable_progress_bar=False,\n",
    "                                 enable_model_summary=False,\n",
    "                                 precision=\"16-mixed\",\n",
    "                                 accumulate_grad_batches=model.config['batch_size']\n",
    "                                 )\n",
    "            trainer.fit(model=model, train_dataloaders=train_loader, val_dataloaders=val_loader)\n",
    "\n",
    "            ## Needs to change - we need to load the least val loss model\n",
    "            # y_pred = validation_step(X[val_idx])\n",
    "            # val_mse = mean_squared_error(y_pred, y[val_idx])\n",
    "            # print(f'Train end val mse: {val_mse}')\n",
    "\n",
    "        else:\n",
    "            raise Exception(\"Needs Fix\")\n",
    "\n",
    "    def on_train_epoch_start(self):\n",
    "        self.accumulate_batch_loss_train.clear()\n",
    "        self.accumulate_batch_loss_val.clear()\n",
    "    \n",
    "    def on_train_epoch_end(self):\n",
    "        if self.current_epoch % self.config['print_every_n_epoch'] == 0 and self.debug:\n",
    "            print(f'Epoch: {self.current_epoch}: train mse: {np.mean(self.accumulate_batch_loss_train)} val mse: {np.mean(self.accumulate_batch_loss_val)}')\n",
    "\n",
    "    def on_train_end(self):\n",
    "        if self.debug:\n",
    "            print(f'Epoch: {self.current_epoch}: train mse: {np.mean(self.accumulate_batch_loss_train)} val mse: {np.mean(self.accumulate_batch_loss_val)}')\n",
    "\n",
    "    def predict(self, X):\n",
    "        '''\n",
    "            X is numpy array\n",
    "        '''\n",
    "        with torch.no_grad():\n",
    "            data = [\n",
    "                (f'p{i+1}', seq) for i, seq in enumerate(X)\n",
    "                ]\n",
    "            batch_labels, batch_strs, batch_tokens = self.model.batch_converter(data)\n",
    "            batch_lens = (batch_tokens != self.model.alphabet.padding_idx).sum(1)\n",
    "\n",
    "            if not next(self.model.parameters()).is_cuda:\n",
    "                self.model.cuda()\n",
    "\n",
    "            assert next(self.model.parameters()).is_cuda\n",
    "\n",
    "            batch_tokens = batch_tokens.cuda()\n",
    "\n",
    "            pred = []\n",
    "            for i in tqdm(range(0, batch_tokens.shape[0])):\n",
    "                y_pred = self.model(batch_tokens[i:i+1])\n",
    "                pred.append(y_pred.cpu().numpy().flatten())\n",
    "        \n",
    "        return np.concatenate(pred)\n",
    "    \n",
    "    def configure_optimizers(self):\n",
    "        return torch.optim.AdamW(self.model.parameters(), lr=0.0001)"
   ]
  },
  {
   "cell_type": "markdown",
   "metadata": {},
   "source": [
    "#### Load Data"
   ]
  },
  {
   "cell_type": "code",
   "execution_count": 18,
   "metadata": {},
   "outputs": [],
   "source": [
    "root = '../..'\n",
    "data_path = os.path.join(root, 'Data/al_test_experiments/Evolvepro')"
   ]
  },
  {
   "cell_type": "code",
   "execution_count": 19,
   "metadata": {},
   "outputs": [],
   "source": [
    "file_name = os.path.join(data_path, 'brenan.csv')\n",
    "df = pd.read_csv(file_name)"
   ]
  },
  {
   "cell_type": "code",
   "execution_count": 20,
   "metadata": {},
   "outputs": [
    {
     "data": {
      "text/plain": [
       "(6810, 4)"
      ]
     },
     "execution_count": 20,
     "metadata": {},
     "output_type": "execute_result"
    }
   ],
   "source": [
    "df.shape"
   ]
  },
  {
   "cell_type": "code",
   "execution_count": 21,
   "metadata": {},
   "outputs": [
    {
     "data": {
      "text/html": [
       "<div>\n",
       "<style scoped>\n",
       "    .dataframe tbody tr th:only-of-type {\n",
       "        vertical-align: middle;\n",
       "    }\n",
       "\n",
       "    .dataframe tbody tr th {\n",
       "        vertical-align: top;\n",
       "    }\n",
       "\n",
       "    .dataframe thead th {\n",
       "        text-align: right;\n",
       "    }\n",
       "</style>\n",
       "<table border=\"1\" class=\"dataframe\">\n",
       "  <thead>\n",
       "    <tr style=\"text-align: right;\">\n",
       "      <th></th>\n",
       "      <th>pos</th>\n",
       "      <th>seq</th>\n",
       "      <th>function</th>\n",
       "      <th>function_scaled</th>\n",
       "    </tr>\n",
       "  </thead>\n",
       "  <tbody>\n",
       "    <tr>\n",
       "      <th>0</th>\n",
       "      <td>2</td>\n",
       "      <td>MCAAAAAGAGPEMVRGQVFDVGPRYTNLSYIGEGAYGMVCSAYDNV...</td>\n",
       "      <td>-4.176315</td>\n",
       "      <td>0.265834</td>\n",
       "    </tr>\n",
       "    <tr>\n",
       "      <th>1</th>\n",
       "      <td>2</td>\n",
       "      <td>MDAAAAAGAGPEMVRGQVFDVGPRYTNLSYIGEGAYGMVCSAYDNV...</td>\n",
       "      <td>-1.918793</td>\n",
       "      <td>0.397712</td>\n",
       "    </tr>\n",
       "    <tr>\n",
       "      <th>2</th>\n",
       "      <td>2</td>\n",
       "      <td>MEAAAAAGAGPEMVRGQVFDVGPRYTNLSYIGEGAYGMVCSAYDNV...</td>\n",
       "      <td>-3.165665</td>\n",
       "      <td>0.324874</td>\n",
       "    </tr>\n",
       "    <tr>\n",
       "      <th>3</th>\n",
       "      <td>2</td>\n",
       "      <td>MFAAAAAGAGPEMVRGQVFDVGPRYTNLSYIGEGAYGMVCSAYDNV...</td>\n",
       "      <td>-6.126452</td>\n",
       "      <td>0.151913</td>\n",
       "    </tr>\n",
       "    <tr>\n",
       "      <th>4</th>\n",
       "      <td>2</td>\n",
       "      <td>MGAAAAAGAGPEMVRGQVFDVGPRYTNLSYIGEGAYGMVCSAYDNV...</td>\n",
       "      <td>-4.255602</td>\n",
       "      <td>0.261203</td>\n",
       "    </tr>\n",
       "  </tbody>\n",
       "</table>\n",
       "</div>"
      ],
      "text/plain": [
       "   pos                                                seq  function  \\\n",
       "0    2  MCAAAAAGAGPEMVRGQVFDVGPRYTNLSYIGEGAYGMVCSAYDNV... -4.176315   \n",
       "1    2  MDAAAAAGAGPEMVRGQVFDVGPRYTNLSYIGEGAYGMVCSAYDNV... -1.918793   \n",
       "2    2  MEAAAAAGAGPEMVRGQVFDVGPRYTNLSYIGEGAYGMVCSAYDNV... -3.165665   \n",
       "3    2  MFAAAAAGAGPEMVRGQVFDVGPRYTNLSYIGEGAYGMVCSAYDNV... -6.126452   \n",
       "4    2  MGAAAAAGAGPEMVRGQVFDVGPRYTNLSYIGEGAYGMVCSAYDNV... -4.255602   \n",
       "\n",
       "   function_scaled  \n",
       "0         0.265834  \n",
       "1         0.397712  \n",
       "2         0.324874  \n",
       "3         0.151913  \n",
       "4         0.261203  "
      ]
     },
     "execution_count": 21,
     "metadata": {},
     "output_type": "execute_result"
    }
   ],
   "source": [
    "df.head()"
   ]
  },
  {
   "cell_type": "markdown",
   "metadata": {},
   "source": [
    "#### Tests"
   ]
  },
  {
   "cell_type": "code",
   "execution_count": 17,
   "metadata": {},
   "outputs": [],
   "source": [
    "# embeddings = get_embeddings_mean(df['seq'][:100])"
   ]
  },
  {
   "cell_type": "code",
   "execution_count": 18,
   "metadata": {},
   "outputs": [],
   "source": [
    "# embeddings.shape"
   ]
  },
  {
   "cell_type": "code",
   "execution_count": 19,
   "metadata": {},
   "outputs": [],
   "source": [
    "# config = {'epoch': 5, 'batch_size': 8, 'print_every_n_epoch': 1}\n",
    "# surrogate = ESM2LoRASurrogate(config=config)"
   ]
  },
  {
   "cell_type": "code",
   "execution_count": 20,
   "metadata": {},
   "outputs": [],
   "source": [
    "# surrogate.print_trainable_parameters()"
   ]
  },
  {
   "cell_type": "code",
   "execution_count": 21,
   "metadata": {},
   "outputs": [],
   "source": [
    "# next(surrogate.parameters()).is_cuda"
   ]
  },
  {
   "cell_type": "code",
   "execution_count": 22,
   "metadata": {},
   "outputs": [],
   "source": [
    "# ESM2LoRASurrogate.trainmodel(model=surrogate, X=df['seq'][:100].to_numpy(), y=df['function'][:100].to_numpy().astype(np.float32))"
   ]
  },
  {
   "cell_type": "code",
   "execution_count": 23,
   "metadata": {},
   "outputs": [],
   "source": [
    "# next(surrogate.parameters()).is_cuda"
   ]
  },
  {
   "cell_type": "code",
   "execution_count": 24,
   "metadata": {},
   "outputs": [],
   "source": [
    "# with torch.no_grad():\n",
    "#     data = [\n",
    "#         (f'p{i+1}', seq) for i, seq in enumerate(df['seq'].to_numpy())\n",
    "#         ]\n",
    "#     batch_labels, batch_strs, batch_tokens = surrogate.model.batch_converter(data)\n",
    "#     batch_lens = (batch_tokens != surrogate.model.alphabet.padding_idx).sum(1)\n",
    "\n",
    "#     if not next(surrogate.parameters()).is_cuda:\n",
    "#         surrogate.model.cuda()\n",
    "\n",
    "#     assert next(surrogate.parameters()).is_cuda\n",
    "\n",
    "#     batch_tokens = batch_tokens.cuda()\n",
    "\n",
    "#     pred = []\n",
    "#     # for i in tqdm(range(0, batch_tokens.shape[0], 10)):\n",
    "#     for i in tqdm(range(0, batch_tokens.shape[0])):\n",
    "#         y_pred = surrogate.model(batch_tokens[i:i+1])\n",
    "#         pred.append(y_pred.cpu().numpy().flatten())"
   ]
  },
  {
   "cell_type": "code",
   "execution_count": 25,
   "metadata": {},
   "outputs": [],
   "source": [
    "# plt.plot(df['function'][:1000].to_numpy(), surrogate.predict(embeddings), '.')\n",
    "# # plt.ylim((0,0.6))\n",
    "# # plt.xlim((0,0.6))\n",
    "# mean_squared_error(df['function'][:1000].to_numpy(), surrogate.predict(embeddings))"
   ]
  },
  {
   "cell_type": "markdown",
   "metadata": {},
   "source": [
    "#### AL Cycle"
   ]
  },
  {
   "cell_type": "code",
   "execution_count": 26,
   "metadata": {},
   "outputs": [],
   "source": [
    "# embeddings = get_embeddings_mean(df['seq'])\n",
    "# file_name = os.path.join(data_path, 'brenan_embeddings.npy')\n",
    "# np.save(file_name, embeddings)"
   ]
  },
  {
   "cell_type": "code",
   "execution_count": 27,
   "metadata": {},
   "outputs": [],
   "source": [
    "file_name = os.path.join(data_path, 'brenan_embeddings.npy')\n",
    "embeddings = np.load(file_name)"
   ]
  },
  {
   "cell_type": "code",
   "execution_count": 28,
   "metadata": {},
   "outputs": [
    {
     "data": {
      "text/plain": [
       "(6810, 1280)"
      ]
     },
     "execution_count": 28,
     "metadata": {},
     "output_type": "execute_result"
    }
   ],
   "source": [
    "embeddings.shape"
   ]
  },
  {
   "cell_type": "code",
   "execution_count": 29,
   "metadata": {},
   "outputs": [],
   "source": [
    "surrogate = RFSurrogate()\n",
    "# surrogate = RidgeSurrogate()\n",
    "# config = {'epoch': 100, 'batch_size': 16, 'print_every_n_epoch': 50}\n",
    "# surrogate = MLPSurrogate(config=config)"
   ]
  },
  {
   "cell_type": "code",
   "execution_count": 30,
   "metadata": {},
   "outputs": [],
   "source": [
    "import logging\n",
    "logging.getLogger(\"lightning.pytorch.utilities.rank_zero\").setLevel(logging.WARNING)\n",
    "logging.getLogger(\"lightning.pytorch.accelerators.cuda\").setLevel(logging.WARNING)"
   ]
  },
  {
   "cell_type": "code",
   "execution_count": null,
   "metadata": {},
   "outputs": [],
   "source": [
    "### Needs fixing scaled and function"
   ]
  },
  {
   "cell_type": "code",
   "execution_count": 31,
   "metadata": {},
   "outputs": [],
   "source": [
    "## Only sample initial points with function < 0.3\n",
    "\n",
    "df_al = df.copy()\n",
    "df_al['round'] = -1\n",
    "\n",
    "rounds = 10\n",
    "thresh = 1.0\n",
    "n_sample = 16\n",
    "high_thresh = 0.656\n",
    "df_al['high'] = 0\n",
    "df_al.loc[list(df_al.loc[(df_al['round'] == -1) & (df_al['function'] > high_thresh)].index), 'high'] = 1\n",
    "index = list(df_al.loc[(df_al['round'] == -1) & (df_al['function'] < thresh)].index)\n",
    "sample_index = random.sample(index, n_sample)"
   ]
  },
  {
   "cell_type": "code",
   "execution_count": 32,
   "metadata": {},
   "outputs": [
    {
     "name": "stdout",
     "output_type": "stream",
     "text": [
      "# of high fitness proteins 77\n"
     ]
    }
   ],
   "source": [
    "print(f\"# of high fitness proteins {df_al['high'].sum()}\")"
   ]
  },
  {
   "cell_type": "code",
   "execution_count": 33,
   "metadata": {},
   "outputs": [
    {
     "name": "stdout",
     "output_type": "stream",
     "text": [
      " \n",
      "Round 0\n",
      "number of samples for training: 16\n",
      "train: mse = 0.0016059879556336552, spearman correlation = 0.9720279720279721\n",
      "val: mse = 0.014344472771626923, spearman correlation = 0.39999999999999997\n",
      " \n",
      "Round 1\n",
      "number of samples for training: 32\n",
      "train: mse = 0.001289989194155215, spearman correlation = 0.9507692307692308\n",
      "val: mse = 0.0034211463024768863, spearman correlation = 0.4642857142857144\n",
      " \n",
      "Round 2\n",
      "number of samples for training: 48\n",
      "train: mse = 0.0008150063183179176, spearman correlation = 0.9722070248386038\n",
      "val: mse = 0.010327807808163517, spearman correlation = 0.18787878787878787\n",
      " \n",
      "Round 3\n",
      "number of samples for training: 64\n",
      "train: mse = 0.0010547697011436218, spearman correlation = 0.9704072398190046\n",
      "val: mse = 0.0038955178610093556, spearman correlation = 0.3736263736263736\n",
      " \n",
      "Round 4\n",
      "number of samples for training: 80\n",
      "train: mse = 0.0008632443796937273, spearman correlation = 0.9713827838827838\n",
      "val: mse = 0.009827862208855509, spearman correlation = 0.31764705882352945\n",
      " \n",
      "Round 5\n",
      "number of samples for training: 96\n",
      "train: mse = 0.0012931530702139367, spearman correlation = 0.9677375256322625\n",
      "val: mse = 0.008737182911091209, spearman correlation = 0.312781954887218\n",
      " \n",
      "Round 6\n",
      "number of samples for training: 112\n",
      "train: mse = 0.0013919462258056375, spearman correlation = 0.9728464419475656\n",
      "val: mse = 0.010856016893082571, spearman correlation = 0.3992094861660079\n",
      " \n",
      "Round 7\n",
      "number of samples for training: 128\n",
      "train: mse = 0.0016354021299078395, spearman correlation = 0.955906384470543\n",
      "val: mse = 0.019452888938431206, spearman correlation = 0.1323076923076923\n",
      " \n",
      "Round 8\n",
      "number of samples for training: 144\n",
      "train: mse = 0.0016131659950836075, spearman correlation = 0.9701333543754439\n",
      "val: mse = 0.01471766835234428, spearman correlation = 0.37684729064039396\n",
      " \n",
      "Round 9\n",
      "number of samples for training: 160\n",
      "train: mse = 0.002012012917417532, spearman correlation = 0.9649102728438015\n",
      "val: mse = 0.026224230237744228, spearman correlation = 0.4002932551319648\n"
     ]
    }
   ],
   "source": [
    "for i in range(rounds):\n",
    "    print(' ')\n",
    "    print(f'Round {i}')\n",
    "\n",
    "    df_al.loc[sample_index, 'round'] = i\n",
    "    train_index = list(df_al.loc[df_al['round'] != -1].index) ## whatever was selected\n",
    "    X = embeddings[train_index]\n",
    "    X_seq = df_al.loc[train_index, 'seq'].to_numpy()\n",
    "    y = df_al.loc[train_index, 'function'].to_numpy().astype(np.float32)\n",
    "    \n",
    "    assert X.shape[0] == y.shape[0] == X_seq.shape[0]\n",
    "    print(f'number of samples for training: {X.shape[0]}')\n",
    "\n",
    "    surrogate.train(X, y)\n",
    "    ypred = surrogate.predict(embeddings)\n",
    "\n",
    "    # config = {'epoch': 100, 'batch_size': 16, 'print_every_n_epoch': 50}\n",
    "    # surrogate = MLPSurrogate(config=config)\n",
    "    # MLPSurrogate.trainmodel(model=surrogate, X=X, y=y)\n",
    "    # ypred = surrogate.predict(embeddings)\n",
    "\n",
    "    # config = {'epoch': 5, 'batch_size': 8, 'print_every_n_epoch': 1}\n",
    "    # surrogate = ESM2LoRASurrogate(config=config)\n",
    "    # assert next(surrogate.parameters()).is_cuda\n",
    "    # ESM2LoRASurrogate.trainmodel(model=surrogate, X=X_seq, y=y)\n",
    "    # ypred = surrogate.predict(df_al['seq'].to_numpy()[:])\n",
    "    # surrogate.model.cpu()\n",
    "    # surrogate = None\n",
    "    # torch.cuda.empty_cache() \n",
    "\n",
    "    df_al[f'round_{i}_pred'] = ypred\n",
    "\n",
    "    sample_index = df_al.loc[df_al['round']==-1, f'round_{i}_pred'].nlargest(n_sample).index"
   ]
  },
  {
   "cell_type": "code",
   "execution_count": 34,
   "metadata": {},
   "outputs": [
    {
     "data": {
      "text/html": [
       "<div>\n",
       "<style scoped>\n",
       "    .dataframe tbody tr th:only-of-type {\n",
       "        vertical-align: middle;\n",
       "    }\n",
       "\n",
       "    .dataframe tbody tr th {\n",
       "        vertical-align: top;\n",
       "    }\n",
       "\n",
       "    .dataframe thead th {\n",
       "        text-align: right;\n",
       "    }\n",
       "</style>\n",
       "<table border=\"1\" class=\"dataframe\">\n",
       "  <thead>\n",
       "    <tr style=\"text-align: right;\">\n",
       "      <th></th>\n",
       "      <th>seq</th>\n",
       "      <th>function</th>\n",
       "      <th>round</th>\n",
       "      <th>high</th>\n",
       "      <th>round_0_pred</th>\n",
       "      <th>round_1_pred</th>\n",
       "      <th>round_2_pred</th>\n",
       "      <th>round_3_pred</th>\n",
       "      <th>round_4_pred</th>\n",
       "      <th>round_5_pred</th>\n",
       "      <th>round_6_pred</th>\n",
       "      <th>round_7_pred</th>\n",
       "      <th>round_8_pred</th>\n",
       "      <th>round_9_pred</th>\n",
       "    </tr>\n",
       "  </thead>\n",
       "  <tbody>\n",
       "    <tr>\n",
       "      <th>0</th>\n",
       "      <td>MCAAAAAGAGPEMVRGQVFDVGPRYTNLSYIGEGAYGMVCSAYDNV...</td>\n",
       "      <td>0.265834</td>\n",
       "      <td>-1</td>\n",
       "      <td>0</td>\n",
       "      <td>0.302627</td>\n",
       "      <td>0.301618</td>\n",
       "      <td>0.338998</td>\n",
       "      <td>0.284413</td>\n",
       "      <td>0.281771</td>\n",
       "      <td>0.315493</td>\n",
       "      <td>0.305703</td>\n",
       "      <td>0.309473</td>\n",
       "      <td>0.294695</td>\n",
       "      <td>0.288520</td>\n",
       "    </tr>\n",
       "    <tr>\n",
       "      <th>1</th>\n",
       "      <td>MDAAAAAGAGPEMVRGQVFDVGPRYTNLSYIGEGAYGMVCSAYDNV...</td>\n",
       "      <td>0.397712</td>\n",
       "      <td>-1</td>\n",
       "      <td>0</td>\n",
       "      <td>0.322158</td>\n",
       "      <td>0.302536</td>\n",
       "      <td>0.269328</td>\n",
       "      <td>0.331394</td>\n",
       "      <td>0.298926</td>\n",
       "      <td>0.321020</td>\n",
       "      <td>0.313478</td>\n",
       "      <td>0.283009</td>\n",
       "      <td>0.270219</td>\n",
       "      <td>0.327133</td>\n",
       "    </tr>\n",
       "    <tr>\n",
       "      <th>2</th>\n",
       "      <td>MEAAAAAGAGPEMVRGQVFDVGPRYTNLSYIGEGAYGMVCSAYDNV...</td>\n",
       "      <td>0.324874</td>\n",
       "      <td>-1</td>\n",
       "      <td>0</td>\n",
       "      <td>0.310140</td>\n",
       "      <td>0.349119</td>\n",
       "      <td>0.326491</td>\n",
       "      <td>0.332105</td>\n",
       "      <td>0.361193</td>\n",
       "      <td>0.358811</td>\n",
       "      <td>0.323774</td>\n",
       "      <td>0.293524</td>\n",
       "      <td>0.300898</td>\n",
       "      <td>0.337007</td>\n",
       "    </tr>\n",
       "    <tr>\n",
       "      <th>3</th>\n",
       "      <td>MFAAAAAGAGPEMVRGQVFDVGPRYTNLSYIGEGAYGMVCSAYDNV...</td>\n",
       "      <td>0.151913</td>\n",
       "      <td>-1</td>\n",
       "      <td>0</td>\n",
       "      <td>0.335522</td>\n",
       "      <td>0.270171</td>\n",
       "      <td>0.258553</td>\n",
       "      <td>0.263041</td>\n",
       "      <td>0.285284</td>\n",
       "      <td>0.279112</td>\n",
       "      <td>0.288810</td>\n",
       "      <td>0.272759</td>\n",
       "      <td>0.263697</td>\n",
       "      <td>0.312146</td>\n",
       "    </tr>\n",
       "    <tr>\n",
       "      <th>4</th>\n",
       "      <td>MGAAAAAGAGPEMVRGQVFDVGPRYTNLSYIGEGAYGMVCSAYDNV...</td>\n",
       "      <td>0.261203</td>\n",
       "      <td>-1</td>\n",
       "      <td>0</td>\n",
       "      <td>0.285112</td>\n",
       "      <td>0.259712</td>\n",
       "      <td>0.305932</td>\n",
       "      <td>0.247108</td>\n",
       "      <td>0.254751</td>\n",
       "      <td>0.304507</td>\n",
       "      <td>0.278470</td>\n",
       "      <td>0.267154</td>\n",
       "      <td>0.291707</td>\n",
       "      <td>0.294560</td>\n",
       "    </tr>\n",
       "  </tbody>\n",
       "</table>\n",
       "</div>"
      ],
      "text/plain": [
       "                                                 seq  function  round  high  \\\n",
       "0  MCAAAAAGAGPEMVRGQVFDVGPRYTNLSYIGEGAYGMVCSAYDNV...  0.265834     -1     0   \n",
       "1  MDAAAAAGAGPEMVRGQVFDVGPRYTNLSYIGEGAYGMVCSAYDNV...  0.397712     -1     0   \n",
       "2  MEAAAAAGAGPEMVRGQVFDVGPRYTNLSYIGEGAYGMVCSAYDNV...  0.324874     -1     0   \n",
       "3  MFAAAAAGAGPEMVRGQVFDVGPRYTNLSYIGEGAYGMVCSAYDNV...  0.151913     -1     0   \n",
       "4  MGAAAAAGAGPEMVRGQVFDVGPRYTNLSYIGEGAYGMVCSAYDNV...  0.261203     -1     0   \n",
       "\n",
       "   round_0_pred  round_1_pred  round_2_pred  round_3_pred  round_4_pred  \\\n",
       "0      0.302627      0.301618      0.338998      0.284413      0.281771   \n",
       "1      0.322158      0.302536      0.269328      0.331394      0.298926   \n",
       "2      0.310140      0.349119      0.326491      0.332105      0.361193   \n",
       "3      0.335522      0.270171      0.258553      0.263041      0.285284   \n",
       "4      0.285112      0.259712      0.305932      0.247108      0.254751   \n",
       "\n",
       "   round_5_pred  round_6_pred  round_7_pred  round_8_pred  round_9_pred  \n",
       "0      0.315493      0.305703      0.309473      0.294695      0.288520  \n",
       "1      0.321020      0.313478      0.283009      0.270219      0.327133  \n",
       "2      0.358811      0.323774      0.293524      0.300898      0.337007  \n",
       "3      0.279112      0.288810      0.272759      0.263697      0.312146  \n",
       "4      0.304507      0.278470      0.267154      0.291707      0.294560  "
      ]
     },
     "execution_count": 34,
     "metadata": {},
     "output_type": "execute_result"
    }
   ],
   "source": [
    "df_al.head()"
   ]
  },
  {
   "cell_type": "code",
   "execution_count": 35,
   "metadata": {},
   "outputs": [
    {
     "data": {
      "text/plain": [
       "<matplotlib.lines.Line2D at 0x7f08060a1f60>"
      ]
     },
     "execution_count": 35,
     "metadata": {},
     "output_type": "execute_result"
    },
    {
     "data": {
      "image/png": "[encoded data removed]",
      "text/plain": [
       "<Figure size 640x480 with 1 Axes>"
      ]
     },
     "metadata": {},
     "output_type": "display_data"
    }
   ],
   "source": [
    "fig, ax = plt.subplots()\n",
    "ax.set_ylabel('Fitness value')\n",
    "for i, _round in enumerate(range(rounds)):\n",
    "    ax.boxplot(df_al.loc[df_al['round']==_round, 'function'], positions=[i], labels=[_round], showmeans=True)\n",
    "ax.axhline(high_thresh, ls='--', color='red')"
   ]
  },
  {
   "cell_type": "code",
   "execution_count": 37,
   "metadata": {},
   "outputs": [
    {
     "data": {
      "text/plain": [
       "Text(0, 0.5, '% high fitness canditates')"
      ]
     },
     "execution_count": 37,
     "metadata": {},
     "output_type": "execute_result"
    },
    {
     "data": {
      "image/png": "[encoded data removed]",
      "text/plain": [
       "<Figure size 640x480 with 1 Axes>"
      ]
     },
     "metadata": {},
     "output_type": "display_data"
    }
   ],
   "source": [
    "fig, ax = plt.subplots()\n",
    "\n",
    "counts = []\n",
    "for i in range(rounds):\n",
    "    counts.append(df_al.loc[df_al[f'round_{i}_pred'].sort_values(ascending=False).head(16).index, 'high'].mean())\n",
    "\n",
    "counts = np.array(counts)\n",
    "\n",
    "ax.plot(counts, 'o', ls='--', color='tab:orange')\n",
    "ax.set_ylabel(r'% high fitness canditates')"
   ]
  },
  {
   "cell_type": "code",
   "execution_count": 38,
   "metadata": {},
   "outputs": [
    {
     "data": {
      "text/plain": [
       "Text(0, 0.5, '% high fitness canditates')"
      ]
     },
     "execution_count": 38,
     "metadata": {},
     "output_type": "execute_result"
    },
    {
     "data": {
      "image/png": "[encoded data removed]",
      "text/plain": [
       "<Figure size 640x480 with 2 Axes>"
      ]
     },
     "metadata": {},
     "output_type": "display_data"
    }
   ],
   "source": [
    "fig, ax = plt.subplots()\n",
    "\n",
    "counts = []\n",
    "for i in range(rounds):\n",
    "    counts.append(df_al.loc[df_al['round']==i, 'high'].sum())\n",
    "\n",
    "counts = np.array(counts)\n",
    "ax.bar(np.arange(10), counts)\n",
    "ax.set_ylabel('# high fitness canditates')\n",
    "\n",
    "ax2 = ax.twinx()\n",
    "ax2.plot(np.cumsum(counts)*100/df_al['high'].sum(), 'o', ls='--', color='tab:orange')\n",
    "ax2.set_ylabel(r'% high fitness canditates')"
   ]
  },
  {
   "cell_type": "code",
   "execution_count": 39,
   "metadata": {},
   "outputs": [
    {
     "data": {
      "image/png": "[encoded data removed]",
      "text/plain": [
       "<Figure size 640x480 with 1 Axes>"
      ]
     },
     "metadata": {},
     "output_type": "display_data"
    }
   ],
   "source": [
    "fig, ax = plt.subplots()\n",
    "ax.grid(axis='y')\n",
    "ax.plot(np.arange(10), np.cumsum(counts)*100/df_al['high'].sum(),  marker='o', ls='--', color='tab:orange')\n",
    "ax.set_ylabel(r'% high fitness canditates')\n",
    "ax.set_ylim(top=20)\n",
    "plt.show()"
   ]
  },
  {
   "cell_type": "code",
   "execution_count": 72,
   "metadata": {},
   "outputs": [
    {
     "name": "stderr",
     "output_type": "stream",
     "text": [
      "100%|██████████| 10/10 [02:58<00:00, 17.86s/it]\n"
     ]
    }
   ],
   "source": [
    "found_hits = []\n",
    "n_exp = 10\n",
    "for _n in tqdm(range(n_exp)):\n",
    "\n",
    "    df_al = df.copy()\n",
    "    df_al['round'] = -1\n",
    "\n",
    "    rounds = 10\n",
    "    thresh = 1.0 ## thresh\n",
    "    n_sample = 16\n",
    "    high_thresh = 0.656\n",
    "    df_al['high'] = 0\n",
    "    df_al.loc[list(df_al.loc[(df_al['round'] == -1) & (df_al['function'] > high_thresh)].index), 'high'] = 1\n",
    "    index = list(df_al.loc[(df_al['round'] == -1) & (df_al['function'] < thresh)].index)\n",
    "    random.seed(_n)\n",
    "    sample_index = random.sample(index, n_sample)\n",
    "\n",
    "    for i in range(rounds):\n",
    "        df_al.loc[sample_index, 'round'] = i\n",
    "        train_index = list(df_al.loc[df_al['round'] != -1].index) ## whatever was selected\n",
    "        X = embeddings[train_index]\n",
    "        X_seq = df_al.loc[train_index, 'seq'].to_numpy()\n",
    "        y = df_al.loc[train_index, 'function'].to_numpy().astype(np.float32)\n",
    "        \n",
    "        assert X.shape[0] == y.shape[0]\n",
    "\n",
    "        surrogate.train(X, y, debug=False)\n",
    "        ypred = surrogate.predict(embeddings)\n",
    "        \n",
    "        # config = {'epoch': 100, 'batch_size': 16, 'print_every_n_epoch': 50}\n",
    "        # surrogate = MLPSurrogate(config=config)\n",
    "        # MLPSurrogate.trainmodel(model=surrogate, X=X, y=y, debug=False)\n",
    "        # ypred = surrogate.predict(embeddings)\n",
    "\n",
    "        # config = {'epoch': 5, 'batch_size': 8, 'print_every_n_epoch': 1}\n",
    "        # surrogate = ESM2LoRASurrogate(config=config)\n",
    "        # assert next(surrogate.parameters()).is_cuda\n",
    "        # ESM2LoRASurrogate.trainmodel(model=surrogate, X=X_seq, y=y, debug=False)\n",
    "        # ypred = surrogate.predict(df_al['seq'].to_numpy())\n",
    "        # surrogate.model.cpu()\n",
    "        # surrogate = None\n",
    "        # torch.cuda.empty_cache() \n",
    "\n",
    "        df_al[f'round_{i}_pred'] = ypred\n",
    "\n",
    "        sample_index = df_al.loc[df_al['round']==-1, f'round_{i}_pred'].nlargest(n_sample).index\n",
    "\n",
    "    hits = []\n",
    "    for i in range(rounds):\n",
    "        # hits.append(df_al.loc[df_al['round']==i, 'high'].sum())\n",
    "        hits.append(df_al.loc[df_al[f'round_{i}_pred'].sort_values(ascending=False).head(16).index, 'high'].mean())\n",
    "\n",
    "    found_hits.append(hits)"
   ]
  },
  {
   "cell_type": "code",
   "execution_count": 73,
   "metadata": {},
   "outputs": [],
   "source": [
    "## reset train weights\n",
    "## revove this print"
   ]
  },
  {
   "cell_type": "code",
   "execution_count": 74,
   "metadata": {},
   "outputs": [],
   "source": [
    "# save info all runs as df"
   ]
  },
  {
   "cell_type": "code",
   "execution_count": 75,
   "metadata": {},
   "outputs": [],
   "source": [
    "# found_hits_cum = np.cumsum(np.array(found_hits), axis=1)*100/df_al['high'].sum()"
   ]
  },
  {
   "cell_type": "code",
   "execution_count": 76,
   "metadata": {},
   "outputs": [],
   "source": [
    "found_hits_cum = np.array(found_hits)"
   ]
  },
  {
   "cell_type": "code",
   "execution_count": 77,
   "metadata": {},
   "outputs": [
    {
     "data": {
      "text/plain": [
       "array([[0.    , 0.0625, 0.375 , 0.4375, 0.5625, 0.6875, 0.75  , 0.75  ,\n",
       "        0.6875, 0.8125],\n",
       "       [0.0625, 0.1875, 0.375 , 0.625 , 0.75  , 0.75  , 0.875 , 0.8125,\n",
       "        0.9375, 0.875 ],\n",
       "       [0.    , 0.    , 0.    , 0.    , 0.    , 0.    , 0.    , 0.125 ,\n",
       "        0.25  , 0.3125],\n",
       "       [0.375 , 0.375 , 0.625 , 0.625 , 0.875 , 0.875 , 0.875 , 0.875 ,\n",
       "        0.8125, 0.9375],\n",
       "       [0.    , 0.    , 0.    , 0.    , 0.3125, 0.375 , 0.8125, 0.8125,\n",
       "        0.8125, 0.75  ],\n",
       "       [0.0625, 0.0625, 0.375 , 0.5625, 0.6875, 0.875 , 0.8125, 0.8125,\n",
       "        0.8125, 0.875 ],\n",
       "       [0.125 , 0.1875, 0.5625, 0.75  , 0.875 , 0.8125, 0.875 , 0.875 ,\n",
       "        0.875 , 0.9375],\n",
       "       [0.    , 0.1875, 0.25  , 0.25  , 0.25  , 0.5   , 0.875 , 0.875 ,\n",
       "        0.875 , 0.875 ],\n",
       "       [0.    , 0.0625, 0.5   , 0.6875, 0.6875, 0.6875, 0.8125, 0.8125,\n",
       "        0.875 , 0.875 ],\n",
       "       [0.125 , 0.375 , 0.625 , 0.75  , 0.8125, 0.8125, 0.625 , 0.75  ,\n",
       "        0.875 , 0.875 ]])"
      ]
     },
     "execution_count": 77,
     "metadata": {},
     "output_type": "execute_result"
    }
   ],
   "source": [
    "found_hits_cum"
   ]
  },
  {
   "cell_type": "code",
   "execution_count": 67,
   "metadata": {},
   "outputs": [],
   "source": [
    "# np.cumsum(np.array(found_hits), axis=1)"
   ]
  },
  {
   "cell_type": "code",
   "execution_count": 78,
   "metadata": {},
   "outputs": [
    {
     "data": {
      "image/png": "[encoded data removed]",
      "text/plain": [
       "<Figure size 1500x600 with 10 Axes>"
      ]
     },
     "metadata": {},
     "output_type": "display_data"
    }
   ],
   "source": [
    "fig, axs = plt.subplots(2, 5, figsize=(15,6), layout='constrained')\n",
    "for i, ax in enumerate(axs.reshape(-1)):\n",
    "    ax.hist(found_hits_cum[:, i]) "
   ]
  },
  {
   "cell_type": "code",
   "execution_count": 79,
   "metadata": {},
   "outputs": [],
   "source": [
    "# found_hits_mean_ = []\n",
    "# ci_lower_ = []\n",
    "# ci_upper_ = []\n",
    "# for i in range(found_hits_cum.shape[1]):\n",
    "#     if i == 0:\n",
    "#         found_hits_mean_.append(0)\n",
    "#         ci_lower_.append(0)\n",
    "#         ci_upper_.append(0)\n",
    "#     else:\n",
    "#         alpha, loc, beta = stats.gamma.fit(found_hits_cum[:,i])\n",
    "#         found_hits_mean_.append(stats.gamma.mean(alpha, loc, beta))\n",
    "#         confidence = 1 - 0.95\n",
    "#         lower_bound = stats.gamma.ppf(confidence / 2, alpha, loc=loc, scale=beta)\n",
    "#         upper_bound = stats.gamma.ppf(1 - confidence / 2, alpha, loc=loc, scale=beta)\n",
    "#         ci_lower_.append(lower_bound)\n",
    "#         ci_upper_.append(upper_bound)"
   ]
  },
  {
   "cell_type": "code",
   "execution_count": 70,
   "metadata": {},
   "outputs": [],
   "source": [
    "# found_hits_mean = found_hits_cum.mean(0)\n",
    "# found_hits_sem = stats.sem(found_hits_cum, axis=0)\n",
    "# ci = stats.norm.interval(confidence=0.95,  \n",
    "#                         loc=found_hits_mean, \n",
    "#                         scale=found_hits_sem)"
   ]
  },
  {
   "cell_type": "code",
   "execution_count": null,
   "metadata": {},
   "outputs": [],
   "source": [
    "found_hits_mean = found_hits_cum.mean(0)\n",
    "found_hits_sem = stats.sem(found_hits_cum, axis=0)\n",
    "ci = stats.norm.interval(confidence=0.95,  \n",
    "                        loc=found_hits_mean, \n",
    "                        scale=found_hits_sem)"
   ]
  },
  {
   "cell_type": "code",
   "execution_count": null,
   "metadata": {},
   "outputs": [],
   "source": [
    "fig, ax = plt.subplots()\n",
    "ax.grid(axis='y')\n",
    "ax.plot(np.arange(10), found_hits_mean,  marker='o', ls='--', color='tab:orange')\n",
    "ax.fill_between(np.arange(10), ci[0], ci[1], color='tab:orange', alpha=0.2)\n",
    "ax.set_ylabel(r'% high fitness canditates')\n",
    "ax.set_ylim(top=20)\n",
    "plt.show()"
   ]
  },
  {
   "cell_type": "code",
   "execution_count": null,
   "metadata": {},
   "outputs": [],
   "source": [
    "# plt.plot(np.arange(10), found_hits_mean, label='Mean Line', color='blue')\n",
    "# plt.fill_between(np.arange(10), ci[0], ci[1], color='blue', alpha=0.2, label='Confidence Interval')\n",
    "# plt.plot(np.arange(10), found_hits_mean_, label='Mean Line', color='green')\n",
    "# plt.fill_between(np.arange(10), ci_lower_, ci_upper_, color='green', alpha=0.2, label='Confidence Interval')"
   ]
  },
  {
   "cell_type": "code",
   "execution_count": 82,
   "metadata": {},
   "outputs": [
    {
     "data": {
      "image/png": "[encoded data removed]",
      "text/plain": [
       "<Figure size 640x480 with 1 Axes>"
      ]
     },
     "metadata": {},
     "output_type": "display_data"
    }
   ],
   "source": [
    "found_hits_mean = found_hits_cum.mean(0)\n",
    "found_hits_std = found_hits_cum.std(0)\n",
    "\n",
    "fig, ax = plt.subplots()\n",
    "ax.grid(axis='y')\n",
    "ax.plot(np.arange(10), found_hits_mean, marker='o', ls='--',  color='tab:orange')\n",
    "ax.fill_between(np.arange(10), found_hits_mean-found_hits_std, found_hits_mean+found_hits_std, color='tab:orange', alpha=0.2)\n",
    "ax.set_ylabel(r'% high activity canditates')\n",
    "ax.set_ylim(top=1.0)\n",
    "plt.show()"
   ]
  },
  {
   "cell_type": "code",
   "execution_count": null,
   "metadata": {},
   "outputs": [],
   "source": []
  }
 ],
 "metadata": {
  "kernelspec": {
   "display_name": "workspace-esm",
   "language": "python",
   "name": "python3"
  },
  "language_info": {
   "codemirror_mode": {
    "name": "ipython",
    "version": 3
   },
   "file_extension": ".py",
   "mimetype": "text/x-python",
   "name": "python",
   "nbconvert_exporter": "python",
   "pygments_lexer": "ipython3",
   "version": "3.1.0"
  }
 },
 "nbformat": 4,
 "nbformat_minor": 2
}
