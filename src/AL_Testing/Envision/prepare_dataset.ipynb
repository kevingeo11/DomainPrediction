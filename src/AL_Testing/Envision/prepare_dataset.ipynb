{
 "cells": [
  {
   "cell_type": "code",
   "execution_count": 1,
   "metadata": {},
   "outputs": [],
   "source": [
    "import sys\n",
    "sys.path.append('../..')"
   ]
  },
  {
   "cell_type": "code",
   "execution_count": 2,
   "metadata": {},
   "outputs": [],
   "source": [
    "import os\n",
    "import pandas as pd\n",
    "import numpy as np\n",
    "import matplotlib.pyplot as plt"
   ]
  },
  {
   "cell_type": "code",
   "execution_count": 3,
   "metadata": {},
   "outputs": [],
   "source": [
    "from DomainPrediction.utils import helper"
   ]
  },
  {
   "cell_type": "code",
   "execution_count": 4,
   "metadata": {},
   "outputs": [],
   "source": [
    "data_path = '../../../Data/al_test_experiments/Envision'"
   ]
  },
  {
   "cell_type": "code",
   "execution_count": null,
   "metadata": {},
   "outputs": [],
   "source": []
  },
  {
   "cell_type": "markdown",
   "metadata": {},
   "source": [
    "#### Load Data for processing"
   ]
  },
  {
   "cell_type": "code",
   "execution_count": null,
   "metadata": {},
   "outputs": [],
   "source": [
    "file = os.path.join(data_path, 'TEM1.csv')\n",
    "df = pd.read_csv(file)"
   ]
  },
  {
   "cell_type": "code",
   "execution_count": null,
   "metadata": {},
   "outputs": [],
   "source": [
    "df.head()"
   ]
  },
  {
   "cell_type": "code",
   "execution_count": null,
   "metadata": {},
   "outputs": [],
   "source": [
    "wt = helper.read_fasta(os.path.join(data_path, 'TEM1_WT.fasta'), mode='str')[0]"
   ]
  },
  {
   "cell_type": "code",
   "execution_count": null,
   "metadata": {},
   "outputs": [],
   "source": [
    "df['mut_type'].unique()"
   ]
  },
  {
   "cell_type": "markdown",
   "metadata": {},
   "source": [
    "wt_mut column has nan values so don't use it"
   ]
  },
  {
   "cell_type": "code",
   "execution_count": null,
   "metadata": {},
   "outputs": [],
   "source": [
    "## sanity check againts wildtype for missense\n",
    "for i, row in df[df['mut_type'] == 'missense'].iterrows():\n",
    "    pos = row[\"position\"]\n",
    "    assert row[\"aa1\"] == wt[pos-1]\n",
    "    assert wt[pos-1] == row[\"Variant\"][0]\n",
    "    assert row[\"aa2\"] == row[\"Variant\"][-1]\n",
    "    assert pos == int(row[\"Variant\"][1:-1])"
   ]
  },
  {
   "cell_type": "code",
   "execution_count": null,
   "metadata": {},
   "outputs": [],
   "source": [
    "## sanity check againts wildtype for synonymous\n",
    "mask = []\n",
    "for i, row in df[df['mut_type'] == 'synonymous'].iterrows():\n",
    "    pos = row[\"position\"]\n",
    "    assert row[\"aa1\"] == row[\"aa2\"] == row[\"Variant\"][0] == row[\"Variant\"][-1]\n",
    "    assert pos == int(row[\"Variant\"][1:-1])\n",
    "\n",
    "    if pos >= len(wt):\n",
    "        mask.append(False)\n",
    "    else:\n",
    "        mask.append(wt[pos-1] == row[\"aa1\"])\n",
    "\n",
    "mask = np.array(mask)\n",
    "\n",
    "assert df[df['mut_type'] == 'synonymous'].shape[0] == mask.shape[0]"
   ]
  },
  {
   "cell_type": "code",
   "execution_count": null,
   "metadata": {},
   "outputs": [],
   "source": [
    "fig, ax = plt.subplots(1, 3, figsize=(10,3))\n",
    "ax[0].hist(df[df['mut_type'] == 'synonymous'].iloc[mask]['reported_fitness'])\n",
    "ax[1].hist(df[df['mut_type'] == 'synonymous'].iloc[~mask]['reported_fitness'])\n",
    "ax[2].hist(df[df['mut_type'] == 'missense']['reported_fitness'])\n",
    "ax[0].set_title('correct')\n",
    "ax[1].set_title('corrupted')\n",
    "ax[2].set_title('missense')\n",
    "plt.show()"
   ]
  },
  {
   "cell_type": "code",
   "execution_count": null,
   "metadata": {},
   "outputs": [],
   "source": [
    "fig, ax = plt.subplots(1, 3, figsize=(10,3))\n",
    "ax[0].hist(df[df['mut_type'] == 'synonymous'].iloc[mask]['scaled_effect1'])\n",
    "ax[1].hist(df[df['mut_type'] == 'synonymous'].iloc[~mask]['scaled_effect1'])\n",
    "ax[2].hist(df[df['mut_type'] == 'missense']['scaled_effect1'])\n",
    "ax[0].set_title('correct')\n",
    "ax[1].set_title('corrupted')\n",
    "ax[2].set_title('missense')\n",
    "plt.show()"
   ]
  },
  {
   "cell_type": "code",
   "execution_count": null,
   "metadata": {},
   "outputs": [],
   "source": [
    "df.head()"
   ]
  },
  {
   "cell_type": "code",
   "execution_count": null,
   "metadata": {},
   "outputs": [],
   "source": [
    "df_new = df.loc[df['mut_type']=='missense', \n",
    "                ['position', 'Variant', 'reported_fitness', 'scaled_effect1']].copy()\n",
    "df_new = df_new.reset_index(drop=True)\n",
    "df_new.columns = ['pos', 'variant', 'fitness_raw', 'fitness_norm']"
   ]
  },
  {
   "cell_type": "code",
   "execution_count": null,
   "metadata": {},
   "outputs": [],
   "source": [
    "df_new.head()"
   ]
  },
  {
   "cell_type": "code",
   "execution_count": null,
   "metadata": {},
   "outputs": [],
   "source": [
    "df_new['wt_aa'] = df_new['variant'].apply(lambda x: x[0])\n",
    "df_new['n_mut'] = 1"
   ]
  },
  {
   "cell_type": "code",
   "execution_count": null,
   "metadata": {},
   "outputs": [],
   "source": [
    "df_new.head()"
   ]
  },
  {
   "cell_type": "code",
   "execution_count": null,
   "metadata": {},
   "outputs": [],
   "source": [
    "seqs = []\n",
    "for i, row in df_new.iterrows():\n",
    "    pos = row[\"pos\"]\n",
    "    assert wt[pos-1] == row[\"variant\"][0]\n",
    "\n",
    "    seq = wt[:pos-1] + row[\"variant\"][-1] + wt[pos:]\n",
    "    seqs.append(seq)\n",
    "\n",
    "df_new['seq'] = seqs"
   ]
  },
  {
   "cell_type": "code",
   "execution_count": null,
   "metadata": {},
   "outputs": [],
   "source": [
    "df_new.head()"
   ]
  },
  {
   "cell_type": "code",
   "execution_count": null,
   "metadata": {},
   "outputs": [],
   "source": [
    "## sanity check for n mutants\n",
    "for i, row in df_new.iterrows():\n",
    "    variant_seq = row[\"seq\"]\n",
    "    assert len(variant_seq) == len(wt)\n",
    "    n = 0\n",
    "    for a, b in zip(variant_seq, wt):\n",
    "        if a != b:\n",
    "            n += 1\n",
    "            assert b == row['wt_aa']\n",
    "            assert a == row['variant'][-1]\n",
    "    \n",
    "    assert n == row['n_mut']"
   ]
  },
  {
   "cell_type": "code",
   "execution_count": null,
   "metadata": {},
   "outputs": [],
   "source": []
  },
  {
   "cell_type": "markdown",
   "metadata": {},
   "source": [
    "#### Data splits"
   ]
  },
  {
   "cell_type": "code",
   "execution_count": null,
   "metadata": {},
   "outputs": [],
   "source": [
    "df_new.shape"
   ]
  },
  {
   "cell_type": "code",
   "execution_count": null,
   "metadata": {},
   "outputs": [],
   "source": [
    "np.random.seed(0)"
   ]
  },
  {
   "cell_type": "code",
   "execution_count": null,
   "metadata": {},
   "outputs": [],
   "source": [
    "n_folds = 10\n",
    "positions = np.sort(df_new['pos'].unique())\n",
    "blocks = np.array_split(positions, n_folds)\n",
    "\n",
    "assert sum(len(i) for i in blocks) == len(positions)\n",
    "\n",
    "df_new['fold_id'] = -1\n",
    "for i, _pos in enumerate(blocks):\n",
    "    assert (df_new.loc[df_new['pos'].isin(_pos), 'fold_id'] == -1).all()\n",
    "    df_new.loc[df_new['pos'].isin(_pos), 'fold_id'] = i\n",
    "\n",
    "assert ~((df_new['fold_id'] == -1).any())\n",
    "\n",
    "test_fold = [2, 6]\n",
    "val_fold = [8]\n",
    "\n",
    "df_new['split_id'] = -1\n",
    "df_new.loc[df_new['fold_id'].isin(test_fold), 'split_id'] = 0\n",
    "df_new.loc[df_new['fold_id'].isin(val_fold), 'split_id'] = 1\n",
    "df_new.loc[~df_new['fold_id'].isin(test_fold+val_fold), 'split_id'] = 2\n",
    "\n",
    "assert ~((df_new['split_id'] == -1).any())"
   ]
  },
  {
   "cell_type": "code",
   "execution_count": null,
   "metadata": {},
   "outputs": [],
   "source": [
    "df_new.head()"
   ]
  },
  {
   "cell_type": "code",
   "execution_count": null,
   "metadata": {},
   "outputs": [],
   "source": []
  },
  {
   "cell_type": "code",
   "execution_count": null,
   "metadata": {},
   "outputs": [],
   "source": [
    "file = os.path.join(data_path, 'dataset_tem1.csv')\n",
    "df_new.to_csv(file, index=False)"
   ]
  },
  {
   "cell_type": "code",
   "execution_count": null,
   "metadata": {},
   "outputs": [],
   "source": []
  },
  {
   "cell_type": "markdown",
   "metadata": {},
   "source": [
    "#### Load Data for analysis"
   ]
  },
  {
   "cell_type": "code",
   "execution_count": 5,
   "metadata": {},
   "outputs": [],
   "source": [
    "file = os.path.join(data_path, 'dataset_tem1.csv')\n",
    "df_new = pd.read_csv(file)"
   ]
  },
  {
   "cell_type": "code",
   "execution_count": 6,
   "metadata": {},
   "outputs": [
    {
     "data": {
      "text/plain": [
       "Text(0.5, 1.0, 'Test')"
      ]
     },
     "execution_count": 6,
     "metadata": {},
     "output_type": "execute_result"
    },
    {
     "data": {
      "image/png": "[encoded data removed]",
      "text/plain": [
       "<Figure size 900x300 with 3 Axes>"
      ]
     },
     "metadata": {},
     "output_type": "display_data"
    }
   ],
   "source": [
    "fig, ax = plt.subplots(1, 3, figsize=(9,3), layout='constrained')\n",
    "ax[0].hist(df_new.loc[df_new['split_id']==2, 'fitness_raw'])\n",
    "ax[1].hist(df_new.loc[df_new['split_id']==1, 'fitness_raw'])\n",
    "ax[2].hist(df_new.loc[df_new['split_id']==0, 'fitness_raw'])\n",
    "# ax[0].set_xlim(-11,2)\n",
    "# ax[1].set_xlim(-11,2)\n",
    "# ax[2].set_xlim(-11,2)\n",
    "ax[0].set_title('Train')\n",
    "ax[1].set_title('Val')\n",
    "ax[2].set_title('Test')"
   ]
  },
  {
   "cell_type": "code",
   "execution_count": 7,
   "metadata": {},
   "outputs": [
    {
     "data": {
      "text/plain": [
       "Text(0.5, 1.0, 'Test')"
      ]
     },
     "execution_count": 7,
     "metadata": {},
     "output_type": "execute_result"
    },
    {
     "data": {
      "image/png": "[encoded data removed]",
      "text/plain": [
       "<Figure size 900x300 with 3 Axes>"
      ]
     },
     "metadata": {},
     "output_type": "display_data"
    }
   ],
   "source": [
    "fig, ax = plt.subplots(1, 3, figsize=(9,3), layout='constrained')\n",
    "ax[0].hist(df_new.loc[df_new['split_id']==2, 'fitness_norm'])\n",
    "ax[1].hist(df_new.loc[df_new['split_id']==1, 'fitness_norm'])\n",
    "ax[2].hist(df_new.loc[df_new['split_id']==0, 'fitness_norm'])\n",
    "# ax[0].set_xlim(-0.5,1.5)\n",
    "# ax[1].set_xlim(-0.5,1.5)\n",
    "# ax[2].set_xlim(-0.5,1.5)\n",
    "ax[0].set_title('Train')\n",
    "ax[1].set_title('Val')\n",
    "ax[2].set_title('Test')"
   ]
  },
  {
   "cell_type": "code",
   "execution_count": null,
   "metadata": {},
   "outputs": [],
   "source": [
    "df_new.loc[df_new['split_id']==2, 'fitness_norm'].max()"
   ]
  },
  {
   "cell_type": "code",
   "execution_count": null,
   "metadata": {},
   "outputs": [],
   "source": []
  }
 ],
 "metadata": {
  "kernelspec": {
   "display_name": "workspace-esm",
   "language": "python",
   "name": "python3"
  },
  "language_info": {
   "codemirror_mode": {
    "name": "ipython",
    "version": 3
   },
   "file_extension": ".py",
   "mimetype": "text/x-python",
   "name": "python",
   "nbconvert_exporter": "python",
   "pygments_lexer": "ipython3",
   "version": "3.10.13"
  }
 },
 "nbformat": 4,
 "nbformat_minor": 2
}
