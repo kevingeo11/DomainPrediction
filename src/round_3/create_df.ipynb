{
 "cells": [
  {
   "cell_type": "code",
   "execution_count": 1,
   "metadata": {},
   "outputs": [],
   "source": [
    "import sys\n",
    "sys.path.append('..')"
   ]
  },
  {
   "cell_type": "code",
   "execution_count": 2,
   "metadata": {},
   "outputs": [],
   "source": [
    "import os\n",
    "from tqdm import tqdm\n",
    "import random\n",
    "import matplotlib.pyplot as plt\n",
    "import numpy as np\n",
    "import pandas as pd"
   ]
  },
  {
   "cell_type": "code",
   "execution_count": 3,
   "metadata": {},
   "outputs": [],
   "source": [
    "from DomainPrediction.utils import helper\n",
    "from DomainPrediction.utils.constants import *\n",
    "from DomainPrediction.protein.base import BaseProtein"
   ]
  },
  {
   "cell_type": "code",
   "execution_count": null,
   "metadata": {},
   "outputs": [],
   "source": []
  },
  {
   "cell_type": "code",
   "execution_count": 39,
   "metadata": {},
   "outputs": [
    {
     "data": {
      "image/png": "[encoded data removed]",
      "text/plain": [
       "<Figure size 500x200 with 1 Axes>"
      ]
     },
     "metadata": {},
     "output_type": "display_data"
    }
   ],
   "source": [
    "fig, ax = plt.subplots(1, 1, figsize=(5,2))\n",
    "\n",
    "amino_acids = list(\"APGHERDYA.....GEP\")\n",
    "ax.bar(list(range(len(amino_acids))), np.random.rand(len(amino_acids))/1.2, color='tab:olive', alpha=0.7)\n",
    "ax.bar(list(range(len(amino_acids))), np.random.rand(len(amino_acids))/1.2, color='tab:olive', alpha=0.5)\n",
    "ax.set_xticks(list(range(len(amino_acids))), amino_acids)\n",
    "ax.set_ylim(top=1.0)\n",
    "ax.spines['top'].set_visible(False)\n",
    "ax.spines['right'].set_visible(False)\n",
    "\n",
    "plt.show()"
   ]
  },
  {
   "cell_type": "code",
   "execution_count": 30,
   "metadata": {},
   "outputs": [
    {
     "data": {
      "text/plain": [
       "16"
      ]
     },
     "execution_count": 30,
     "metadata": {},
     "output_type": "execute_result"
    }
   ],
   "source": [
    "len(amino_acids)"
   ]
  },
  {
   "cell_type": "code",
   "execution_count": null,
   "metadata": {},
   "outputs": [],
   "source": []
  },
  {
   "cell_type": "code",
   "execution_count": null,
   "metadata": {},
   "outputs": [],
   "source": []
  },
  {
   "cell_type": "markdown",
   "metadata": {},
   "source": [
    "### Combine fasta ESM3"
   ]
  },
  {
   "cell_type": "code",
   "execution_count": 4,
   "metadata": {},
   "outputs": [],
   "source": [
    "gxps_protein = BaseProtein(file='/nethome/kgeorge/workspace/DomainPrediction/Data/gxps/gxps_ATC_AF.pdb')"
   ]
  },
  {
   "cell_type": "code",
   "execution_count": 5,
   "metadata": {},
   "outputs": [
    {
     "data": {
      "text/plain": [
       "'VCVHQLFEQQIEKTPDAIAVIYENQTLSYAELNARANRLAHQLIALGVAPDQRVAICVTRSLARIIGLLAVLKAGGAYVPLDPAYPGERLAYMLTDATPVILMADNVGRAALSEDILATLTVLDPNTLLEQPDHNPQVSGLTPQHLAYVIYTSGSTGRPKGVMIEHRSVVNLTLTQITQFDVCATSRMLQFASFGFDASVWEIMMALSCGAMLVIPTETVRQDPQRLWRYLEEQAITHACLTPAMFHDGTDLPAIAIKPTLIFAGEAPSPALFQALCSRADLFNAYGPTEITVCATTWDCPADYTGGVIPIGSPVANKRLYLLDEHRQPVPLGTVGELYIGGVGVARGYLNRPELTAERFLNDPFSDETNARMYRAGDLARYLPDGNLVFVGRNDQQVKIRGFRIEPGEIEARLVEHSEVSEALVLALGDGQDKRLVAYVVALADDGLATKLREHLSDILPDYMIPAAFVRLDAFPLTPNGKLDRRSLP'"
      ]
     },
     "execution_count": 5,
     "metadata": {},
     "output_type": "execute_result"
    }
   ],
   "source": [
    "gxps_protein.get_residues(A_gxps_atc)"
   ]
  },
  {
   "cell_type": "code",
   "execution_count": 15,
   "metadata": {},
   "outputs": [],
   "source": [
    "data_path = '/nethome/kgeorge/workspace/DomainPrediction/Data/round_3_exp'\n",
    "esm3_gen_fastas = ['esm3_str_2000.fasta', 'esm3_str_3000.fasta']"
   ]
  },
  {
   "cell_type": "code",
   "execution_count": 16,
   "metadata": {},
   "outputs": [],
   "source": [
    "esm_seq = {}\n",
    "i = 0\n",
    "for _file in esm3_gen_fastas:\n",
    "    file_path = os.path.join(data_path, _file)\n",
    "    sequences = helper.read_fasta(file_path)\n",
    "\n",
    "    for rec in sequences:\n",
    "        _gen_protein = BaseProtein(sequence=str(rec.seq), id=rec.id)\n",
    "        assert len(gxps_protein.sequence) == len(_gen_protein.sequence)\n",
    "        assert gxps_protein.get_residues(A_gxps_atc) == _gen_protein.get_residues(A_gxps_atc)\n",
    "        assert gxps_protein.get_residues(C_gxps_atc) == _gen_protein.get_residues(C_gxps_atc)\n",
    "        assert gxps_protein.get_residues(T_gxps_atc) != _gen_protein.get_residues(T_gxps_atc)\n",
    "\n",
    "        id = f'gxps_ATC_esm3_str_gen_{i}'\n",
    "        esm_seq[id] = str(rec.seq)\n",
    "        i += 1"
   ]
  },
  {
   "cell_type": "code",
   "execution_count": 17,
   "metadata": {},
   "outputs": [],
   "source": [
    "assert len(esm_seq) == 5000"
   ]
  },
  {
   "cell_type": "code",
   "execution_count": 19,
   "metadata": {},
   "outputs": [],
   "source": [
    "helper.create_fasta(sequences=esm_seq, \n",
    "                    file=os.path.join(data_path, 'esm3_str_5000.fasta'))"
   ]
  },
  {
   "cell_type": "code",
   "execution_count": null,
   "metadata": {},
   "outputs": [],
   "source": []
  },
  {
   "cell_type": "markdown",
   "metadata": {},
   "source": [
    "### Create a Combined DataFrame"
   ]
  },
  {
   "cell_type": "code",
   "execution_count": 4,
   "metadata": {},
   "outputs": [],
   "source": [
    "data_path = '/nethome/kgeorge/workspace/DomainPrediction/Data/round_3_exp'\n",
    "gen_fastas = ['esm3_str_5000.fasta', 'evodiff_5000.fasta']"
   ]
  },
  {
   "cell_type": "code",
   "execution_count": 5,
   "metadata": {},
   "outputs": [],
   "source": [
    "gxps_protein = BaseProtein(file='/nethome/kgeorge/workspace/DomainPrediction/Data/gxps/gxps_ATC_AF.pdb')"
   ]
  },
  {
   "cell_type": "code",
   "execution_count": 6,
   "metadata": {},
   "outputs": [],
   "source": [
    "gxps_base_seq = ''.join([gxps_protein.sequence[i] for i in range(len(gxps_protein.sequence)) if i not in A_gxps_atc+C_gxps_atc])"
   ]
  },
  {
   "cell_type": "code",
   "execution_count": 9,
   "metadata": {},
   "outputs": [
    {
     "data": {
      "text/plain": [
       "'APGEDAFARQAYQAPQGEIEIALATIWRELLNVEQVGRHDSFFALGGHSLLAVRMIERLRRIGLGLSVQTLFQHPTLSVLAQSLVPHREISVPDNGITADTTVLTPAMLPLIDLT'"
      ]
     },
     "execution_count": 9,
     "metadata": {},
     "output_type": "execute_result"
    }
   ],
   "source": [
    "assert len(gxps_base_seq) == 115\n",
    "gxps_base_seq"
   ]
  },
  {
   "cell_type": "code",
   "execution_count": 10,
   "metadata": {},
   "outputs": [],
   "source": [
    "gen_dict = []\n",
    "for _file in gen_fastas:\n",
    "    file_path = os.path.join(data_path, _file)\n",
    "    sequences = helper.read_fasta(file_path)\n",
    "\n",
    "    for rec in sequences:\n",
    "        masked_seq = ''.join([str(rec.seq)[i] for i in range(len(str(rec.seq))) if i not in A_gxps_atc+C_gxps_atc])\n",
    "        assert len(masked_seq) == 115\n",
    "        gen_dict.append({\n",
    "            'name': rec.id, \n",
    "            'sequence': str(rec.seq),\n",
    "            'masked_sequence': masked_seq,\n",
    "            'n_mut': helper.hamming_distance(gxps_base_seq, masked_seq)\n",
    "            })"
   ]
  },
  {
   "cell_type": "code",
   "execution_count": 11,
   "metadata": {},
   "outputs": [],
   "source": [
    "assert len(gen_dict) == 10000"
   ]
  },
  {
   "cell_type": "code",
   "execution_count": 13,
   "metadata": {},
   "outputs": [],
   "source": [
    "df = pd.DataFrame(gen_dict)"
   ]
  },
  {
   "cell_type": "code",
   "execution_count": 14,
   "metadata": {},
   "outputs": [
    {
     "data": {
      "text/html": [
       "<div>\n",
       "<style scoped>\n",
       "    .dataframe tbody tr th:only-of-type {\n",
       "        vertical-align: middle;\n",
       "    }\n",
       "\n",
       "    .dataframe tbody tr th {\n",
       "        vertical-align: top;\n",
       "    }\n",
       "\n",
       "    .dataframe thead th {\n",
       "        text-align: right;\n",
       "    }\n",
       "</style>\n",
       "<table border=\"1\" class=\"dataframe\">\n",
       "  <thead>\n",
       "    <tr style=\"text-align: right;\">\n",
       "      <th></th>\n",
       "      <th>name</th>\n",
       "      <th>sequence</th>\n",
       "      <th>masked_sequence</th>\n",
       "      <th>n_mut</th>\n",
       "    </tr>\n",
       "  </thead>\n",
       "  <tbody>\n",
       "    <tr>\n",
       "      <th>0</th>\n",
       "      <td>gxps_ATC_esm3_str_gen_0</td>\n",
       "      <td>VCVHQLFEQQIEKTPDAIAVIYENQTLSYAELNARANRLAHQLIAL...</td>\n",
       "      <td>APSAADYPKEPYVAPEGEAEQLLAQIWMELLGVERVGRHDNFFALG...</td>\n",
       "      <td>49</td>\n",
       "    </tr>\n",
       "    <tr>\n",
       "      <th>1</th>\n",
       "      <td>gxps_ATC_esm3_str_gen_1</td>\n",
       "      <td>VCVHQLFEQQIEKTPDAIAVIYENQTLSYAELNARANRLAHQLIAL...</td>\n",
       "      <td>APSDTDYPRTPYIAPEGAVEETLAAIWQDLLQVERVGRHDSFFALG...</td>\n",
       "      <td>47</td>\n",
       "    </tr>\n",
       "    <tr>\n",
       "      <th>2</th>\n",
       "      <td>gxps_ATC_esm3_str_gen_2</td>\n",
       "      <td>VCVHQLFEQQIEKTPDAIAVIYENQTLSYAELNARANRLAHQLIAL...</td>\n",
       "      <td>EPQASDYPAVPYEAPEGEQEQLLAGIWQELLGVERVGRHDNFFALG...</td>\n",
       "      <td>46</td>\n",
       "    </tr>\n",
       "    <tr>\n",
       "      <th>3</th>\n",
       "      <td>gxps_ATC_esm3_str_gen_3</td>\n",
       "      <td>VCVHQLFEQQIEKTPDAIAVIYENQTLSYAELNARANRLAHQLIAL...</td>\n",
       "      <td>APAEDSFDRAPYVAPEGEVEQTLAGIWQELLQVERVGRHDSFFELG...</td>\n",
       "      <td>49</td>\n",
       "    </tr>\n",
       "    <tr>\n",
       "      <th>4</th>\n",
       "      <td>gxps_ATC_esm3_str_gen_4</td>\n",
       "      <td>VCVHQLFEQQIEKTPDAIAVIYENQTLSYAELNARANRLAHQLIAL...</td>\n",
       "      <td>APSEDDYPKPPYVAPEGEVEQLLAKIWQELLGVEKVGRHDSFFALG...</td>\n",
       "      <td>43</td>\n",
       "    </tr>\n",
       "  </tbody>\n",
       "</table>\n",
       "</div>"
      ],
      "text/plain": [
       "                      name                                           sequence  \\\n",
       "0  gxps_ATC_esm3_str_gen_0  VCVHQLFEQQIEKTPDAIAVIYENQTLSYAELNARANRLAHQLIAL...   \n",
       "1  gxps_ATC_esm3_str_gen_1  VCVHQLFEQQIEKTPDAIAVIYENQTLSYAELNARANRLAHQLIAL...   \n",
       "2  gxps_ATC_esm3_str_gen_2  VCVHQLFEQQIEKTPDAIAVIYENQTLSYAELNARANRLAHQLIAL...   \n",
       "3  gxps_ATC_esm3_str_gen_3  VCVHQLFEQQIEKTPDAIAVIYENQTLSYAELNARANRLAHQLIAL...   \n",
       "4  gxps_ATC_esm3_str_gen_4  VCVHQLFEQQIEKTPDAIAVIYENQTLSYAELNARANRLAHQLIAL...   \n",
       "\n",
       "                                     masked_sequence  n_mut  \n",
       "0  APSAADYPKEPYVAPEGEAEQLLAQIWMELLGVERVGRHDNFFALG...     49  \n",
       "1  APSDTDYPRTPYIAPEGAVEETLAAIWQDLLQVERVGRHDSFFALG...     47  \n",
       "2  EPQASDYPAVPYEAPEGEQEQLLAGIWQELLGVERVGRHDNFFALG...     46  \n",
       "3  APAEDSFDRAPYVAPEGEVEQTLAGIWQELLQVERVGRHDSFFELG...     49  \n",
       "4  APSEDDYPKPPYVAPEGEVEQLLAKIWQELLGVEKVGRHDSFFALG...     43  "
      ]
     },
     "execution_count": 14,
     "metadata": {},
     "output_type": "execute_result"
    }
   ],
   "source": [
    "df.head()"
   ]
  },
  {
   "cell_type": "code",
   "execution_count": 21,
   "metadata": {},
   "outputs": [
    {
     "data": {
      "image/png": "[encoded data removed]",
      "text/plain": [
       "<Figure size 400x400 with 1 Axes>"
      ]
     },
     "metadata": {},
     "output_type": "display_data"
    }
   ],
   "source": [
    "plt.figure(figsize=(4, 4))\n",
    "plt.hist(df.loc[df['name'].str.contains('evodiff'), 'n_mut'], bins=20, alpha=0.5, label=f\"evodiff: min {df.loc[df['name'].str.contains('evodiff'), 'n_mut'].min()}\")\n",
    "plt.hist(df.loc[df['name'].str.contains('esm3_str'), 'n_mut'], bins=20, alpha=0.8, label=f\"esm3_str: min {df.loc[df['name'].str.contains('esm3_str'), 'n_mut'].min()}\")\n",
    "plt.legend()\n",
    "plt.show()"
   ]
  },
  {
   "cell_type": "code",
   "execution_count": null,
   "metadata": {},
   "outputs": [],
   "source": [
    "df.to_csv(os.path.join(data_path, 'gen_seq.csv'), index=False)"
   ]
  },
  {
   "cell_type": "code",
   "execution_count": null,
   "metadata": {},
   "outputs": [],
   "source": []
  },
  {
   "cell_type": "code",
   "execution_count": null,
   "metadata": {},
   "outputs": [],
   "source": []
  }
 ],
 "metadata": {
  "kernelspec": {
   "display_name": "Python 3 (ipykernel)",
   "language": "python",
   "name": "python3"
  },
  "language_info": {
   "codemirror_mode": {
    "name": "ipython",
    "version": 3
   },
   "file_extension": ".py",
   "mimetype": "text/x-python",
   "name": "python",
   "nbconvert_exporter": "python",
   "pygments_lexer": "ipython3",
   "version": "3.10.14"
  }
 },
 "nbformat": 4,
 "nbformat_minor": 4
}
