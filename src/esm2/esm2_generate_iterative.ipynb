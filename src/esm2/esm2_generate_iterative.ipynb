{
 "cells": [
  {
   "cell_type": "code",
   "execution_count": 32,
   "metadata": {},
   "outputs": [],
   "source": [
    "import sys\n",
    "sys.path.append('..')"
   ]
  },
  {
   "cell_type": "code",
   "execution_count": 33,
   "metadata": {},
   "outputs": [],
   "source": [
    "import os\n",
    "import numpy as np\n",
    "import matplotlib.pyplot as plt"
   ]
  },
  {
   "cell_type": "code",
   "execution_count": 34,
   "metadata": {},
   "outputs": [],
   "source": [
    "from DomainPrediction import BaseProtein\n",
    "from DomainPrediction.utils import helper\n",
    "from DomainPrediction.utils.constants import *\n",
    "from DomainPrediction.esm.esm2 import ESM2_iterate"
   ]
  },
  {
   "cell_type": "code",
   "execution_count": 36,
   "metadata": {},
   "outputs": [],
   "source": [
    "# model_path = '/data/users/kgeorge/workspace/esm2/checkpoints/esm2_t33_650M_UR50D.pt'\n",
    "model_path = '/data/users/kgeorge/workspace/esm2/checkpoints/esm2_t6_8M_UR50D.pt'\n",
    "esm2_iterate = ESM2_iterate(model_path=model_path)"
   ]
  },
  {
   "cell_type": "code",
   "execution_count": 37,
   "metadata": {},
   "outputs": [],
   "source": [
    "protein = BaseProtein(file='../../Data/6mfw_conformations/hm_6mfz_ATC.pdb')"
   ]
  },
  {
   "cell_type": "code",
   "execution_count": 38,
   "metadata": {},
   "outputs": [
    {
     "data": {
      "text/plain": [
       "'QQLAQVWSHVLGIPQMGIDDHFLERGGDSIKVMQLIHQLKNIGLSLRYDQLFTHPTIRQLKRLL'"
      ]
     },
     "execution_count": 38,
     "metadata": {},
     "output_type": "execute_result"
    }
   ],
   "source": [
    "protein.get_residues(T_6mfw) ## T domain"
   ]
  },
  {
   "cell_type": "code",
   "execution_count": null,
   "metadata": {},
   "outputs": [],
   "source": []
  },
  {
   "cell_type": "code",
   "execution_count": 39,
   "metadata": {},
   "outputs": [
    {
     "name": "stdout",
     "output_type": "stream",
     "text": [
      "run 0\n",
      "num maxed pos 64\n",
      " T domain : _________________________________I_D_________________________T__\n",
      "run 1\n",
      "num maxed pos 61\n",
      " T domain : _A_______________________P_______I_D_____________W___________T__\n",
      "run 2\n",
      "num maxed pos 58\n",
      " T domain : _A_____A_________________P_______I_D_E_________E_W___________T__\n",
      "run 3\n",
      "num maxed pos 55\n",
      " T domain : _A_____A_G_______________P_______I_D_E_D__V____E_W___________T__\n",
      "run 4\n",
      "num maxed pos 52\n",
      " T domain : _AV____A_G___L___________P_______I_D_E_D__V___VE_W___________T__\n",
      "run 5\n",
      "num maxed pos 49\n",
      " T domain : _AV____AQG___LE__________P_______I_D_EFD__V___VE_W___________T__\n",
      "run 6\n",
      "num maxed pos 46\n",
      " T domain : _AV____AQG___LE__________P__M____I_D_EFD__V___VEAW__T________T__\n",
      "run 7\n",
      "num maxed pos 43\n",
      " T domain : _AV____AQG___LE____DA__P_P__M____I_D_EFD__V___VEAW__T________T__\n",
      "run 8\n",
      "num maxed pos 40\n",
      " T domain : _AV____AQG___LE____DA__P_P_FM___FI_D_EFD__V___VEAW_KT________T__\n",
      "run 9\n",
      "num maxed pos 37\n",
      " T domain : _AV____AQG___LE____DAP_P_P_FM___FI_D_EFD__V__GVEAW_KT_____L__T__\n",
      "run 10\n",
      "num maxed pos 34\n",
      " T domain : _AV____AQG_ITLE____DAP_PIP_FM___FI_D_EFD__V__GVEAW_KT_____L__T__\n",
      "run 11\n",
      "num maxed pos 31\n",
      " T domain : _AV____AQG_ITLE____DAP_PIP_FMR__FI_D_EFD__V__GVEAW_KT_R___L__T_F\n",
      "run 12\n",
      "num maxed pos 28\n",
      " T domain : _AV___AAQG_ITLE____DAP_PIPEFMR__FI_D_EFD__V__GVEAW_KTHR___L__T_F\n",
      "run 13\n",
      "num maxed pos 25\n",
      " T domain : _AV_E_AAQG_ITLE___EDAP_PIPEFMRK_FI_D_EFD__V__GVEAW_KTHR___L__T_F\n",
      "run 14\n",
      "num maxed pos 22\n",
      " T domain : _AV_E_AAQG_ITLE___EDAP_PIPEFMRK_FIED_EFDLTV__GVEAW_KTHR___L__T_F\n",
      "run 15\n",
      "num maxed pos 19\n",
      " T domain : _AV_E_AAQG_ITLE__PEDAP_PIPEFMRK_FIEDAEFDLTV__GVEAW_KTHRA__L__T_F\n",
      "run 16\n",
      "num maxed pos 16\n",
      " T domain : _AV_E_AAQG_ITLE_LPEDAP_PIPEFMRK_FIEDAEFDLTV__GVEAWVKTHRAL_L__T_F\n",
      "run 17\n",
      "num maxed pos 13\n",
      " T domain : _AV_E_AAQG_ITLE_LPEDAP_PIPEFMRK_FIEDAEFDLTVF_GVEAWVKTHRALEL__TEF\n",
      "run 18\n",
      "num maxed pos 10\n",
      " T domain : _AV_ERAAQGFITLE_LPEDAP_PIPEFMRKHFIEDAEFDLTVF_GVEAWVKTHRALEL__TEF\n",
      "run 19\n",
      "num maxed pos 7\n",
      " T domain : GAV_ERAAQGFITLE_LPEDAP_PIPEFMRKHFIEDAEFDLTVF_GVEAWVKTHRALELTSTEF\n",
      "run 20\n",
      "num maxed pos 4\n",
      " T domain : GAVMERAAQGFITLE_LPEDAPEPIPEFMRKHFIEDAEFDLTVFNGVEAWVKTHRALELTSTEF\n",
      "run 21\n",
      "num maxed pos 1\n",
      " T domain : GAVMERAAQGFITLERLPEDAPEPIPEFMRKHFIEDAEFDLTVFNGVEAWVKTHRALELTSTEF\n"
     ]
    },
    {
     "data": {
      "text/plain": [
       "'FEQQVEMTPDHVAVVDRGQSLTYKQLNERANQLAHHLRGKGVKPDDQVAIMLDKSLDMIVSILAVMKAGGAYVPIDPDYPGERIAYMLADSSAAILLTNALHEEKANGACDIIDVHDPDSYSENTNNLPHVNRPDDLVYVMYTSGSTGLAKGVMIEHHNLVNFCEWYRPYFGVTPADKALVYSSFSFDGSALDIFTHLLAGAALHIVPSERKYDLDALNDYCNQEGITISYLPTGAAEQFMQMDNQSFRVVITGGDVLKKIERNGTYKLYNGYGPTECTIMVTMFEVDKPYANIPIGKPIDRTRILILDEALALQPIGVAGELFIVGEGLGRGYLNRPELTAEKFIVHPQTGERMYRTGDRARFLPDGNIEFLGRLDNLVKIRGYRIEPGEIEPFLMNHPLIELTTVLAKEQADGRKYLVGYYVAPEEIPHGELREWLGNDLPDYMIPTYFVHMKAFPLTANGKVDRRALPDVQADAELLGEDYVAPTDELEGAVMERAAQGFITLERLPEDAPEPIPEFMRKHFIEDAEFDLTVFNGVEAWVKTHRALELTSTEFTEQKQVSLEPLRELDEQAEYETSAVEKRMYIIQQQDVESIAYNVVYTINFPLTVDTEQIRVALEQLVLRHEGLRSTYHMRGDEIVKRIVPRAELSFVRQTGEEESVQSLLAEQIKPFDLAKAPLLRAGVIETADKKVLWFDSHHILLDGLSKSILARELQALLGQQVLSPVEKTYKSFARWQNEWFASDEYEQQIAYWKTLLQGELPAVQLPTKKRPPQLTFDGAIQMYRVNPEITRKLKATAAKHDLTLYMLMLTIVSIWLSKMNSDSNQVILGTVTDGRQHPDTRELLGMFVNTLPLLLSIDHEESFLHNLQQVKAKLLPALQNQYVPFDKILEAARVKREGNRHPLFDVMFMMQGAPETELESNMHHINAGISKFDLTLEVLERENGLNIVFEYNTHLFDEGMILRMVAQFEHLLLQAVHGLDQQVKRFELVTEDEKRDLF'"
      ]
     },
     "execution_count": 39,
     "metadata": {},
     "output_type": "execute_result"
    }
   ],
   "source": [
    "esm2_iterate.random_fill(protein.sequence, infill_idx=T_6mfw, fix=3, verbose=True)"
   ]
  },
  {
   "cell_type": "code",
   "execution_count": 42,
   "metadata": {},
   "outputs": [
    {
     "data": {
      "text/plain": [
       "'FEQQVEMTPDHVAVVDRGQSLTYKQLNERANQLAHHLRGKGVKPDDQVAIMLDKSLDMIVSILAVMKAGGAYVPIDPDYPGERIAYMLADSSAAILLTNALHEEKANGACDIIDVHDPDSYSENTNNLPHVNRPDDLVYVMYTSGSTGLAKGVMIEHHNLVNFCEWYRPYFGVTPADKALVYSSFSFDGSALDIFTHLLAGAALHIVPSERKYDLDALNDYCNQEGITISYLPTGAAEQFMQMDNQSFRVVITGGDVLKKIERNGTYKLYNGYGPTECTIMVTMFEVDKPYANIPIGKPIDRTRILILDEALALQPIGVAGELFIVGEGLGRGYLNRPELTAEKFIVHPQTGERMYRTGDRARFLPDGNIEFLGRLDNLVKIRGYRIEPGEIEPFLMNHPLIELTTVLAKEQADGRKYLVGYYVAPEEIPHGELREWLGNDLPDYMIPTYFVHMKAFPLTANGKVDRRALPDVQADAELLGEDYVAPTDELENESEINLHVTVSGESARAIVEETVNNVCARADSEDFKISLHTKIKHSAHILAGELKTKPISTVSTEQKQVSLEPLRELDEQAEYETSAVEKRMYIIQQQDVESIAYNVVYTINFPLTVDTEQIRVALEQLVLRHEGLRSTYHMRGDEIVKRIVPRAELSFVRQTGEEESVQSLLAEQIKPFDLAKAPLLRAGVIETADKKVLWFDSHHILLDGLSKSILARELQALLGQQVLSPVEKTYKSFARWQNEWFASDEYEQQIAYWKTLLQGELPAVQLPTKKRPPQLTFDGAIQMYRVNPEITRKLKATAAKHDLTLYMLMLTIVSIWLSKMNSDSNQVILGTVTDGRQHPDTRELLGMFVNTLPLLLSIDHEESFLHNLQQVKAKLLPALQNQYVPFDKILEAARVKREGNRHPLFDVMFMMQGAPETELESNMHHINAGISKFDLTLEVLERENGLNIVFEYNTHLFDEGMILRMVAQFEHLLLQAVHGLDQQVKRFELVTEDEKRDLF'"
      ]
     },
     "execution_count": 42,
     "metadata": {},
     "output_type": "execute_result"
    }
   ],
   "source": [
    "esm2_iterate.entropy_fill(protein.sequence, infill_idx=T_6mfw, fix=1, verbose=False)"
   ]
  },
  {
   "cell_type": "code",
   "execution_count": null,
   "metadata": {},
   "outputs": [],
   "source": []
  }
 ],
 "metadata": {
  "kernelspec": {
   "display_name": "workspace-esm",
   "language": "python",
   "name": "python3"
  },
  "language_info": {
   "codemirror_mode": {
    "name": "ipython",
    "version": 3
   },
   "file_extension": ".py",
   "mimetype": "text/x-python",
   "name": "python",
   "nbconvert_exporter": "python",
   "pygments_lexer": "ipython3",
   "version": "3.10.13"
  }
 },
 "nbformat": 4,
 "nbformat_minor": 2
}
