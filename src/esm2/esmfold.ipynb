{
 "cells": [
  {
   "cell_type": "code",
   "execution_count": 1,
   "metadata": {},
   "outputs": [],
   "source": [
    "import sys\n",
    "sys.path.append('..')"
   ]
  },
  {
   "cell_type": "code",
   "execution_count": 2,
   "metadata": {},
   "outputs": [],
   "source": [
    "import os"
   ]
  },
  {
   "cell_type": "code",
   "execution_count": 3,
   "metadata": {},
   "outputs": [],
   "source": [
    "from DomainPrediction import BaseProtein"
   ]
  },
  {
   "cell_type": "code",
   "execution_count": 4,
   "metadata": {},
   "outputs": [],
   "source": [
    "root = '../..'\n",
    "data_path = os.path.join(root, 'Data/')"
   ]
  },
  {
   "cell_type": "code",
   "execution_count": 6,
   "metadata": {},
   "outputs": [],
   "source": [
    "## Read Protein\n",
    "protein = BaseProtein(file=os.path.join(data_path, 'GxpS_ATC_AF.pdb'))\n",
    "A = [i for i in range(33,522)] ## 34-522\n",
    "C = [i for i in range(637,1067)] ## 638-1067\n",
    "T = [i for i in range(538, 608)] ## 539-608"
   ]
  },
  {
   "cell_type": "code",
   "execution_count": 7,
   "metadata": {},
   "outputs": [
    {
     "name": "stderr",
     "output_type": "stream",
     "text": [
      "2024-09-10 16:48:22.714441: E external/local_xla/xla/stream_executor/cuda/cuda_fft.cc:479] Unable to register cuFFT factory: Attempting to register factory for plugin cuFFT when one has already been registered\n",
      "2024-09-10 16:48:23.094333: E external/local_xla/xla/stream_executor/cuda/cuda_dnn.cc:10575] Unable to register cuDNN factory: Attempting to register factory for plugin cuDNN when one has already been registered\n",
      "2024-09-10 16:48:23.097109: E external/local_xla/xla/stream_executor/cuda/cuda_blas.cc:1442] Unable to register cuBLAS factory: Attempting to register factory for plugin cuBLAS when one has already been registered\n",
      "2024-09-10 16:48:23.793605: I tensorflow/core/platform/cpu_feature_guard.cc:210] This TensorFlow binary is optimized to use available CPU instructions in performance-critical operations.\n",
      "To enable the following instructions: AVX2 FMA, in other operations, rebuild TensorFlow with the appropriate compiler flags.\n",
      "2024-09-10 16:48:27.190568: W tensorflow/compiler/tf2tensorrt/utils/py_utils.cc:38] TF-TRT Warning: Could not find TensorRT\n"
     ]
    }
   ],
   "source": [
    "from typing import Dict, List\n",
    "from tqdm import tqdm\n",
    "import numpy as np\n",
    "import torch\n",
    "\n",
    "from transformers import AutoTokenizer, EsmForProteinFolding\n",
    "from transformers.models.esm.openfold_utils import OFProtein, atom14_to_atom37, to_pdb\n",
    "\n",
    "from DomainPrediction.utils import helper"
   ]
  },
  {
   "cell_type": "code",
   "execution_count": 8,
   "metadata": {},
   "outputs": [
    {
     "data": {
      "text/plain": [
       "True"
      ]
     },
     "execution_count": 8,
     "metadata": {},
     "output_type": "execute_result"
    }
   ],
   "source": [
    "torch.cuda.is_available()"
   ]
  },
  {
   "cell_type": "code",
   "execution_count": 9,
   "metadata": {},
   "outputs": [],
   "source": [
    "class esmFold():\n",
    "    def __init__(self, device='cpu') -> None:\n",
    "        self.model = EsmForProteinFolding.from_pretrained(\"facebook/esmfold_v1\")\n",
    "        self.tokenizer = AutoTokenizer.from_pretrained(\"facebook/esmfold_v1\")\n",
    "        self.device = device\n",
    "\n",
    "        if self.device == 'gpu':\n",
    "            self.model = self.model.cuda()\n",
    "            self.model.trunk.set_chunk_size(256)\n",
    "\n",
    "    def forward(self, inputs):\n",
    "        if self.device == 'gpu':\n",
    "            for key in inputs:\n",
    "                inputs[key] = inputs[key].cuda()\n",
    "                \n",
    "        with torch.no_grad():\n",
    "            outputs = self.model(**inputs)\n",
    "\n",
    "        return outputs\n",
    "\n",
    "    def structures_from_fasta(self, file: str, save_path: str):\n",
    "        records = helper.read_fasta(file)\n",
    "\n",
    "        for rec in tqdm(records):\n",
    "            outputs = self.get_structure(str(rec.seq))\n",
    "            file = os.path.join(save_path, rec.id)\n",
    "            self.output_to_pdb(outputs, file)\n",
    "\n",
    "    def get_structure(self, sequence: str):\n",
    "        inputs = self.tokenizer([sequence], return_tensors=\"pt\", add_special_tokens=False)\n",
    "        outputs = self.forward(inputs)\n",
    "\n",
    "        return outputs\n",
    "    \n",
    "    @staticmethod\n",
    "    def output_to_pdb(output: Dict, file: str, save_meta: bool = True):\n",
    "        '''\n",
    "            Adapted from https://github.com/huggingface/transformers/blob/979d24e7fd82a10d1457d500bef8ec3b5ddf2f8a/src/transformers/models/esm/modeling_esmfold.py#L2292\n",
    "        '''\n",
    "        output = {k: v.to(\"cpu\").numpy() for k, v in output.items()}\n",
    "        pdbs = []\n",
    "        final_atom_positions = atom14_to_atom37(output[\"positions\"][-1], output)\n",
    "        final_atom_mask = output[\"atom37_atom_exists\"]\n",
    "\n",
    "        for i in range(output[\"aatype\"].shape[0]):\n",
    "            aa = output[\"aatype\"][i]\n",
    "            pred_pos = final_atom_positions[i]\n",
    "            mask = final_atom_mask[i]\n",
    "            resid = output[\"residue_index\"][i] + 1\n",
    "\n",
    "            pred = OFProtein(\n",
    "                aatype=aa,\n",
    "                atom_positions=pred_pos,\n",
    "                atom_mask=mask,\n",
    "                residue_index=resid,\n",
    "                b_factors=output[\"plddt\"][i],\n",
    "            )\n",
    "            pdbs.append(to_pdb(pred))\n",
    "\n",
    "        assert output[\"aatype\"].shape[0] == 1\n",
    "\n",
    "        meta = {\n",
    "            \"predicted_aligned_error\" : output[\"predicted_aligned_error\"][0],\n",
    "            \"ptm\" : output[\"ptm\"]\n",
    "        }\n",
    "\n",
    "        with open(file + '.pdb', \"w\") as f:\n",
    "            f.write(pdbs[0])\n",
    "\n",
    "        if save_meta:\n",
    "            np.savez(file + '.meta', **meta)"
   ]
  },
  {
   "cell_type": "code",
   "execution_count": 10,
   "metadata": {},
   "outputs": [
    {
     "name": "stderr",
     "output_type": "stream",
     "text": [
      "/nethome/kgeorge/miniconda3/envs/workspace-esm/lib/python3.10/site-packages/huggingface_hub/file_download.py:1132: FutureWarning: `resume_download` is deprecated and will be removed in version 1.0.0. Downloads always resume when possible. If you want to force a new download, use `force_download=True`.\n",
      "  warnings.warn(\n"
     ]
    }
   ],
   "source": [
    "esmfold = esmFold()"
   ]
  },
  {
   "cell_type": "code",
   "execution_count": null,
   "metadata": {},
   "outputs": [],
   "source": [
    "## save pdb from a seq\n",
    "output = esmfold.get_structure(protein.get_residues(T))\n",
    "esmfold.output_to_pdb(output, file='test')"
   ]
  },
  {
   "cell_type": "code",
   "execution_count": null,
   "metadata": {},
   "outputs": [],
   "source": [
    "## save pdbs from a fasta file\n",
    "save_path = os.path.join(data_path, 'esm_experiments/gen_1000/pdbs')\n",
    "gen = os.path.join(data_path, 'esm_experiments/gen_1000/esm_inp_seq_1000.T.fasta')\n",
    "esmfold.structures_from_fasta(file=gen, save_path=save_path)"
   ]
  },
  {
   "cell_type": "code",
   "execution_count": null,
   "metadata": {},
   "outputs": [],
   "source": []
  },
  {
   "cell_type": "code",
   "execution_count": 12,
   "metadata": {},
   "outputs": [
    {
     "name": "stdout",
     "output_type": "stream",
     "text": [
      "A domain : VCVHQLFEQQIEKTPDAIAVIYENQTLSYAELNARANRLAHQLIALGVAPDQRVAICVTRSLARIIGLLAVLKAGGAYVPLDPAYPGERLAYMLTDATPVILMADNVGRAALSEDILATLTVLDPNTLLEQPDHNPQVSGLTPQHLAYVIYTSGSTGRPKGVMIEHRSVVNLTLTQITQFDVCATSRMLQFASFGFDASVWEIMMALSCGAMLVIPTETVRQDPQRLWRYLEEQAITHACLTPAMFHDGTDLPAIAIKPTLIFAGEAPSPALFQALCSRADLFNAYGPTEITVCATTWDCPADYTGGVIPIGSPVANKRLYLLDEHRQPVPLGTVGELYIGGVGVARGYLNRPELTAERFLNDPFSDETNARMYRAGDLARYLPDGNLVFVGRNDQQVKIRGFRIEPGEIEARLVEHSEVSEALVLALGDGQDKRLVAYVVALADDGLATKLREHLSDILPDYMIPAAFVRLDAFPLTPNGKLDRRSLP\n"
     ]
    }
   ],
   "source": [
    "## save pdb A domain\n",
    "print(f'A domain : {protein.get_residues(A)}')\n",
    "output = esmfold.get_structure(protein.get_residues(A))\n",
    "file = '/nethome/kgeorge/workspace/DomainPrediction/Data/GxpS_A_EF.pdb'\n",
    "esmfold.output_to_pdb(output, file=file)"
   ]
  },
  {
   "cell_type": "code",
   "execution_count": 13,
   "metadata": {},
   "outputs": [
    {
     "name": "stdout",
     "output_type": "stream",
     "text": [
      "C domain : QAEIDRIVEQVPGGIANIQDIYALSPLQDGILFHHLLANEGDPYLLITQQAFADRPLLNRYLAAVQQVVDRHDILRTAFIWEGLSVPAQVICRQAPLSVTELTLNPADGAISNQLAQRFDPRRHRIDLNQAPLLRFVVAQESDGRWILLQLLHHLIGDHTTLEVMNSEVQACLLGQMDSLPAPVPFRHLVAQARQGVSQAEHTRFFTDMLAEVDEPTLLFGLAEAHHDGSQVTESHRMLTAGLNERLRGQARRLGVSVAALCHLAWAQVLSRTSGQTQVVFGTVLFGRMQAGEGSDSGMGLFINTLPLRLDIDNTPVRDSVRAAHSRLAGLLEHEHASLALAQRCSGVESGTPLFNALLNYRHNTQPVTPDEIVSGIEFLGAQERTNYPFVLSVEDSGSDLGLTAQVVQPFDPERICGYMQQALASLVQA\n"
     ]
    }
   ],
   "source": [
    "## save pdb C domain\n",
    "print(f'C domain : {protein.get_residues(C)}')\n",
    "output = esmfold.get_structure(protein.get_residues(C))\n",
    "file = '/nethome/kgeorge/workspace/DomainPrediction/Data/GxpS_C_EF.pdb'\n",
    "esmfold.output_to_pdb(output, file=file)"
   ]
  },
  {
   "cell_type": "code",
   "execution_count": null,
   "metadata": {},
   "outputs": [],
   "source": []
  },
  {
   "cell_type": "code",
   "execution_count": 14,
   "metadata": {},
   "outputs": [],
   "source": [
    "pdb_6mfw_seq = \"QQVEMTPDHVAVVDRGQSLTYKQLNERANQLAHHLRGKGVKPDDQVAIMLDKSLDMIVSILAVMKAGGAYVPIDPDYPGERIAYMLADSSAAILLTNALHEEKANGACDIIDVHDPDSYSENTNNLPHVNRPDDLVYVMYTSGSTGLAKGVMIEHHNLVNFCEWYRPYFGVTPADKALVYSSFSFDGSALDIFTHLLAGAALHIVPSERKYDLDALNDYCNQEGITISYLPTGAAEQFMQMDNQSFRVVITGGDVLKKIERNGTYKLYNGYGPTECTIMVTMFEVDKPYANIPIGKPIDRTRILILDEALALQPIGVAGELFIVGEGLGRGYLNRPELTAEKFIVHPQTGERMYRTGDRARFLPDGNIEFLGRLDNLVKIRGYRIEPGEIEPFLMNHPLIELTTVLAKEQADGRKYLVGYYVAPEEIPHGELREWLGNDLPDYMIPTYFVHMKAFPLTANGKVDRRALPDVQADAELLGEDYVAPTDELEQQLAQVWSHVLGIPQMGIDDHFLERGGDSIKVMQLIHQLKNIGLSLRYDQLFTHPTIRQLKRLLTEQKQVSLEPLRELDEQAEYETSAVEKRMYIIQQQDVESIAYNVVYTINFPLTVDTEQIRVALEQLVLRHEGLRSTYHMRGDEIVKRIVPRAELSFVRQTGEEESVQSLLAEQIKPFDLAKAPLLRAGVIETADKKVLWFDSHHILLDGLSKSILARELQALLGQQVLSPVEKTYKSFARWQNEWFASDEYEQQIAYWKTLLQGELPAVQLPTKKRPPQLTFDGAIQMYRVNPEITRKLKATAAKHDLTLYMLMLTIVSIWLSKMNSDSNQVILGTVTDGRQHPDTRELLGMFVNTLPLLLSIDHEESFLHNLQQVKAKLLPALQNQYVPFDKILEAARVKREGNRHPLFDVMFMMQGAPETELESNMHHINAGISKFDLTLEVLERENGLNIVFEYNTHLFDEGMILRMVAQFEHLLLQAVHGLDQQVKRFELV\"\n"
   ]
  },
  {
   "cell_type": "code",
   "execution_count": 23,
   "metadata": {},
   "outputs": [],
   "source": [
    "Acore = [i for i in range(0,333)]\n",
    "Asub = [i for i in range(388,462)]\n",
    "A = [i for i in range(0,462)]\n",
    "C = [i for i in range(569,989)]\n",
    "T = [i for i in range(490,554)]"
   ]
  },
  {
   "cell_type": "code",
   "execution_count": 25,
   "metadata": {},
   "outputs": [
    {
     "name": "stdout",
     "output_type": "stream",
     "text": [
      "A domain : QQVEMTPDHVAVVDRGQSLTYKQLNERANQLAHHLRGKGVKPDDQVAIMLDKSLDMIVSILAVMKAGGAYVPIDPDYPGERIAYMLADSSAAILLTNALHEEKANGACDIIDVHDPDSYSENTNNLPHVNRPDDLVYVMYTSGSTGLAKGVMIEHHNLVNFCEWYRPYFGVTPADKALVYSSFSFDGSALDIFTHLLAGAALHIVPSERKYDLDALNDYCNQEGITISYLPTGAAEQFMQMDNQSFRVVITGGDVLKKIERNGTYKLYNGYGPTECTIMVTMFEVDKPYANIPIGKPIDRTRILILDEALALQPIGVAGELFIVGEGLGRGYLNRPELTAEKFIVHPQTGERMYRTGDRARFLPDGNIEFLGRLDNLVKIRGYRIEPGEIEPFLMNHPLIELTTVLAKEQADGRKYLVGYYVAPEEIPHGELREWLGNDLPDYMIPTYFVHMKAFPLTANGK\n"
     ]
    }
   ],
   "source": [
    "## save pdb A domain\n",
    "print(f\"A domain : {''.join([pdb_6mfw_seq[i] for i in A])}\")\n",
    "output = esmfold.get_structure(''.join([pdb_6mfw_seq[i] for i in A]))\n",
    "file = '/nethome/kgeorge/workspace/DomainPrediction/Data/6mfw_A_EF.pdb'\n",
    "esmfold.output_to_pdb(output, file=file)"
   ]
  },
  {
   "cell_type": "code",
   "execution_count": 26,
   "metadata": {},
   "outputs": [
    {
     "name": "stdout",
     "output_type": "stream",
     "text": [
      "C domain : EQAEYETSAVEKRMYIIQQQDVESIAYNVVYTINFPLTVDTEQIRVALEQLVLRHEGLRSTYHMRGDEIVKRIVPRAELSFVRQTGEEESVQSLLAEQIKPFDLAKAPLLRAGVIETADKKVLWFDSHHILLDGLSKSILARELQALLGQQVLSPVEKTYKSFARWQNEWFASDEYEQQIAYWKTLLQGELPAVQLPTKKRPPQLTFDGAIQMYRVNPEITRKLKATAAKHDLTLYMLMLTIVSIWLSKMNSDSNQVILGTVTDGRQHPDTRELLGMFVNTLPLLLSIDHEESFLHNLQQVKAKLLPALQNQYVPFDKILEAARVKREGNRHPLFDVMFMMQGAPETELESNMHHINAGISKFDLTLEVLERENGLNIVFEYNTHLFDEGMILRMVAQFEHLLLQAVHGLDQQVKRFELV\n"
     ]
    }
   ],
   "source": [
    "## save pdb C domain\n",
    "print(f\"C domain : {''.join([pdb_6mfw_seq[i] for i in C])}\")\n",
    "output = esmfold.get_structure(''.join([pdb_6mfw_seq[i] for i in C]))\n",
    "file = '/nethome/kgeorge/workspace/DomainPrediction/Data/6mfw_C_EF.pdb'\n",
    "esmfold.output_to_pdb(output, file=file)"
   ]
  },
  {
   "cell_type": "code",
   "execution_count": null,
   "metadata": {},
   "outputs": [],
   "source": []
  }
 ],
 "metadata": {
  "kernelspec": {
   "display_name": "workspace-esm",
   "language": "python",
   "name": "python3"
  },
  "language_info": {
   "codemirror_mode": {
    "name": "ipython",
    "version": 3
   },
   "file_extension": ".py",
   "mimetype": "text/x-python",
   "name": "python",
   "nbconvert_exporter": "python",
   "pygments_lexer": "ipython3",
   "version": "3.10.13"
  }
 },
 "nbformat": 4,
 "nbformat_minor": 2
}
