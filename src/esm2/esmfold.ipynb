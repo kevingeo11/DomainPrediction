{
 "cells": [
  {
   "cell_type": "code",
   "execution_count": null,
   "metadata": {},
   "outputs": [],
   "source": [
    "import sys\n",
    "sys.path.append('..')"
   ]
  },
  {
   "cell_type": "code",
   "execution_count": null,
   "metadata": {},
   "outputs": [],
   "source": [
    "import os"
   ]
  },
  {
   "cell_type": "code",
   "execution_count": null,
   "metadata": {},
   "outputs": [],
   "source": [
    "from DomainPrediction import BaseProtein"
   ]
  },
  {
   "cell_type": "code",
   "execution_count": null,
   "metadata": {},
   "outputs": [],
   "source": [
    "root = '../..'\n",
    "data_path = os.path.join(root, 'Data/')"
   ]
  },
  {
   "cell_type": "code",
   "execution_count": null,
   "metadata": {},
   "outputs": [],
   "source": [
    "## Read Protein\n",
    "protein = BaseProtein(file=os.path.join(data_path, 'GxpS_ATC.pdb'))\n",
    "A = [i for i in range(33,522)] ## 34-522\n",
    "C = [i for i in range(637,1067)] ## 638-1067\n",
    "T = [i for i in range(538, 608)] ## 539-608"
   ]
  },
  {
   "cell_type": "code",
   "execution_count": null,
   "metadata": {},
   "outputs": [],
   "source": [
    "from typing import Dict, List\n",
    "from tqdm import tqdm\n",
    "import numpy as np\n",
    "import torch\n",
    "\n",
    "from transformers import AutoTokenizer, EsmForProteinFolding\n",
    "from transformers.models.esm.openfold_utils import OFProtein, atom14_to_atom37, to_pdb\n",
    "\n",
    "from DomainPrediction.utils import helper"
   ]
  },
  {
   "cell_type": "code",
   "execution_count": null,
   "metadata": {},
   "outputs": [],
   "source": [
    "torch.cuda.is_available()"
   ]
  },
  {
   "cell_type": "code",
   "execution_count": null,
   "metadata": {},
   "outputs": [],
   "source": [
    "class esmFold():\n",
    "    def __init__(self, device='cpu') -> None:\n",
    "        self.model = EsmForProteinFolding.from_pretrained(\"facebook/esmfold_v1\")\n",
    "        self.tokenizer = AutoTokenizer.from_pretrained(\"facebook/esmfold_v1\")\n",
    "        self.device = device\n",
    "\n",
    "        if self.device == 'gpu':\n",
    "            self.model = self.model.cuda()\n",
    "            self.model.trunk.set_chunk_size(512)\n",
    "\n",
    "    def forward(self, inputs):\n",
    "        if self.device == 'gpu':\n",
    "            for key in inputs:\n",
    "                inputs[key] = inputs[key].cuda()\n",
    "                \n",
    "        with torch.no_grad():\n",
    "            outputs = self.model(**inputs)\n",
    "\n",
    "        return outputs\n",
    "\n",
    "    def structures_from_fasta(self, file: str, save_path: str):\n",
    "        records = helper.read_fasta(file)\n",
    "\n",
    "        for rec in tqdm(records):\n",
    "            outputs = self.get_structure(str(rec.seq))\n",
    "            file = os.path.join(save_path, rec.id)\n",
    "            self.output_to_pdb(outputs, file)\n",
    "\n",
    "    def get_structure(self, sequence: str):\n",
    "        inputs = self.tokenizer([sequence], return_tensors=\"pt\", add_special_tokens=False)\n",
    "        outputs = self.forward(inputs)\n",
    "\n",
    "        return outputs\n",
    "    \n",
    "    @staticmethod\n",
    "    def output_to_pdb(output: Dict, file: str, save_meta: bool = True):\n",
    "        '''\n",
    "            Adapted from https://github.com/huggingface/transformers/blob/979d24e7fd82a10d1457d500bef8ec3b5ddf2f8a/src/transformers/models/esm/modeling_esmfold.py#L2292\n",
    "        '''\n",
    "        output = {k: v.to(\"cpu\").numpy() for k, v in output.items()}\n",
    "        pdbs = []\n",
    "        final_atom_positions = atom14_to_atom37(output[\"positions\"][-1], output)\n",
    "        final_atom_mask = output[\"atom37_atom_exists\"]\n",
    "\n",
    "        for i in range(output[\"aatype\"].shape[0]):\n",
    "            aa = output[\"aatype\"][i]\n",
    "            pred_pos = final_atom_positions[i]\n",
    "            mask = final_atom_mask[i]\n",
    "            resid = output[\"residue_index\"][i] + 1\n",
    "\n",
    "            pred = OFProtein(\n",
    "                aatype=aa,\n",
    "                atom_positions=pred_pos,\n",
    "                atom_mask=mask,\n",
    "                residue_index=resid,\n",
    "                b_factors=output[\"plddt\"][i],\n",
    "            )\n",
    "            pdbs.append(to_pdb(pred))\n",
    "\n",
    "        assert output[\"aatype\"].shape[0] == 1\n",
    "\n",
    "        meta = {\n",
    "            \"predicted_aligned_error\" : output[\"predicted_aligned_error\"][0],\n",
    "            \"ptm\" : output[\"ptm\"]\n",
    "        }\n",
    "\n",
    "        with open(file + '.pdb', \"w\") as f:\n",
    "            f.write(pdbs[0])\n",
    "\n",
    "        if save_meta:\n",
    "            np.savez(file + '.meta', **meta)"
   ]
  },
  {
   "cell_type": "code",
   "execution_count": null,
   "metadata": {},
   "outputs": [],
   "source": [
    "esmfold = esmFold()"
   ]
  },
  {
   "cell_type": "code",
   "execution_count": null,
   "metadata": {},
   "outputs": [],
   "source": [
    "## save pdb from a seq\n",
    "output = esmfold.get_structure(protein.get_residues(T))\n",
    "esmfold.output_to_pdb(output, file='test')"
   ]
  },
  {
   "cell_type": "code",
   "execution_count": null,
   "metadata": {},
   "outputs": [],
   "source": [
    "## save pdbs from a fasta file\n",
    "save_path = os.path.join(data_path, 'esm_experiments/gen_1000/pdbs')\n",
    "gen = os.path.join(data_path, 'esm_experiments/gen_1000/esm_inp_seq_1000.T.fasta')\n",
    "esmfold.structures_from_fasta(file=gen, save_path=save_path)"
   ]
  },
  {
   "cell_type": "code",
   "execution_count": null,
   "metadata": {},
   "outputs": [],
   "source": []
  },
  {
   "cell_type": "code",
   "execution_count": 25,
   "metadata": {},
   "outputs": [],
   "source": [
    "pdb_6mfw_seq = \"QQVEMTPDHVAVVDRGQSLTYKQLNERANQLAHHLRGKGVKPDDQVAIMLDKSLDMIVSILAVMKAGGAYVPIDPDYPGERIAYMLADSSAAILLTNALHEEKANGACDIIDVHDPDSYSENTNNLPHVNRPDDLVYVMYTSGSTGLAKGVMIEHHNLVNFCEWYRPYFGVTPADKALVYSSFSFDGSALDIFTHLLAGAALHIVPSERKYDLDALNDYCNQEGITISYLPTGAAEQFMQMDNQSFRVVITGGDVLKKIERNGTYKLYNGYGPTECTIMVTMFEVDKPYANIPIGKPIDRTRILILDEALALQPIGVAGELFIVGEGLGRGYLNRPELTAEKFIVHPQTGERMYRTGDRARFLPDGNIEFLGRLDNLVKIRGYRIEPGEIEPFLMNHPLIELTTVLAKEQADGRKYLVGYYVAPEEIPHGELREWLGNDLPDYMIPTYFVHMKAFPLTANGKVDRRALPDVQADAELLGEDYVAPTDELEQQLAQVWSHVLGIPQMGIDDHFLERGGDSIKVMQLIHQLKNIGLSLRYDQLFTHPTIRQLKRLLTEQKQVSLEPLRELDEQAEYETSAVEKRMYIIQQQDVESIAYNVVYTINFPLTVDTEQIRVALEQLVLRHEGLRSTYHMRGDEIVKRIVPRAELSFVRQTGEEESVQSLLAEQIKPFDLAKAPLLRAGVIETADKKVLWFDSHHILLDGLSKSILARELQALLGQQVLSPVEKTYKSFARWQNEWFASDEYEQQIAYWKTLLQGELPAVQLPTKKRPPQLTFDGAIQMYRVNPEITRKLKATAAKHDLTLYMLMLTIVSIWLSKMNSDSNQVILGTVTDGRQHPDTRELLGMFVNTLPLLLSIDHEESFLHNLQQVKAKLLPALQNQYVPFDKILEAARVKREGNRHPLFDVMFMMQGAPETELESNMHHINAGISKFDLTLEVLERENGLNIVFEYNTHLFDEGMILRMVAQFEHLLLQAVHGLDQQVKRFELV\"\n"
   ]
  },
  {
   "cell_type": "code",
   "execution_count": null,
   "metadata": {},
   "outputs": [],
   "source": []
  }
 ],
 "metadata": {
  "kernelspec": {
   "display_name": "workspace-esm",
   "language": "python",
   "name": "python3"
  },
  "language_info": {
   "codemirror_mode": {
    "name": "ipython",
    "version": 3
   },
   "file_extension": ".py",
   "mimetype": "text/x-python",
   "name": "python",
   "nbconvert_exporter": "python",
   "pygments_lexer": "ipython3",
   "version": "3.10.13"
  }
 },
 "nbformat": 4,
 "nbformat_minor": 2
}
