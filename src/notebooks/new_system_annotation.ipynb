{
 "cells": [
  {
   "cell_type": "code",
   "execution_count": 1,
   "metadata": {},
   "outputs": [],
   "source": [
    "import sys\n",
    "sys.path.append('..')"
   ]
  },
  {
   "cell_type": "code",
   "execution_count": 2,
   "metadata": {},
   "outputs": [],
   "source": [
    "import os\n",
    "from tqdm import tqdm\n",
    "import random\n",
    "import matplotlib.pyplot as plt\n",
    "import numpy as np\n",
    "import pandas as pd"
   ]
  },
  {
   "cell_type": "code",
   "execution_count": 3,
   "metadata": {},
   "outputs": [],
   "source": [
    "from DomainPrediction.utils import helper"
   ]
  },
  {
   "cell_type": "code",
   "execution_count": null,
   "metadata": {},
   "outputs": [],
   "source": []
  },
  {
   "cell_type": "code",
   "execution_count": 14,
   "metadata": {},
   "outputs": [],
   "source": [
    "data_path = '/nethome/kgeorge/workspace/DomainPrediction/Data/new_system'\n",
    "fasta_PSG = os.path.join(data_path, 'PSG_KG.fasta')\n",
    "fasta_pCK = os.path.join(data_path, 'pCK_KG.fasta')"
   ]
  },
  {
   "cell_type": "markdown",
   "metadata": {},
   "source": [
    "### PSG System"
   ]
  },
  {
   "cell_type": "code",
   "execution_count": 5,
   "metadata": {},
   "outputs": [],
   "source": [
    "PSG_seq = helper.read_fasta(fasta_PSG, mode='str')[0]"
   ]
  },
  {
   "cell_type": "code",
   "execution_count": 6,
   "metadata": {},
   "outputs": [
    {
     "data": {
      "text/plain": [
       "'LPGLFEVCAASVPGATAVVFGDVRVSYGVLNERANRLAHWLLGRGVGPERVVALALPRGVDLVVAVLAVVKAGAAYLPVDPDYPAERVAYMLEDSRPVLALTSSAVVAGLPVVDDVEYVSLDDPAVLGELAGCGVSDPSDADRGAVLSPAHPVHVIYTSGSTGRPKGVMTSHGNVVRLFDVGEGGHWFGFAPDDVWALFHSYTFDFSVFELWGALLHGGCLVVVPHLTSRSPVELLRLLVAEQVTVLCQTPSAFDALAGVVAQDPAGAEGLVLRRVVFGGEALPARTAELASGLVPGVRVVNIYGPTETTVHATTCHVDSVSGGNPVVSIGRPVDRALGYVLDAGLRVVPVGVAGELYVAGAGLARGYVNRAGLTASRFVADPYGPAGSRMYRTGDVVRWNTSGELEFVGRADDQVKIRGFRIELGEIETTAAGHPAVAQAAATVHEDDTRGKQLALYVVPTGLTSGDVSGSVSGDGAVPDGGVSGVVDEQVGEWREIYDSLYGGPGSSVFGEDFSGWDSSYDGAAIPLEEMREWRDATVERIRGLGGRRVLEIGVGTGLLMSRLAAGCEEYWATDLSGVVIDALDGHVQADPVLRERVRLACQRADDTRGLPEGYFDTVVINSVVQYFPGAQYLASVIEAAVSRLAPGGRVFIGDVRDLRTLRAFHTAVQLTRTTGGRAGDGMDAGGLRRAVEQGLLLENELLLDPEFFTAVGRTLPAVSAVEVRLKHGQAHNELTRHRYDVILHTTNTETDTEAPAPTPAPVEGISWNSVPGQLTGLEEILRSRGAAPLRVTGIPNARLAGEYAALRVLENGGTLTEAVTALAGPRGIDPEHLHQLAAATGYHAVLQPAPAPDTYNTLLLPLDIFDGTAWSATATATATDLRETSAPDHTAETSFQALANNPAASRDTSTLITQVRDHLRTKLPDHMVPAAIVVLERLPLTASGKLDRRALPAPDLGTHTTGRAPRSPREEILAGLFAEVLGLPAVGIDDSFFDLGGHSLLATRLISRIRAILGVEIPIRDLFEAPTVAGLATLLDENRAVRPTLTPAARPERIPLSSAQNRLWFLHRLEGMGAAAYNVPMALRLTGSVMPEVLRLALADVVERHESLRTVFPETDGVPCQHILSVVEARPVLHVVQTSEEGLAEAVSTASQYAFDLSAELPVRAWLFALAPEEHVLVLVVHHIAGDGWSLSPLFRDLTTAYAARADGRTPGWAPLPVQYADYTLWQNDLLGDHSDTGSLIARQLEYWRTTLTGLPEQVTLPTDRPRPATATYQGALHDFAWDAELHQGLIDLARSTGTTVFMVLQAGLAALMSRLGAGDDIPLGSPIAGRTDEALDDLVGFFVNTLVLRTDTSGNPTFRELLARVRETDLAAYAHQDVPFEHLVEILNPERSLAHHPLFQVMLALQNAPEGQFKLPGLQARFETTHTQTAKFDLFFNVHEYRATDGGPGGLYGSVEFSTDLFDRVSVEVVLERLRRVLVSVAADPD'"
      ]
     },
     "execution_count": 6,
     "metadata": {},
     "output_type": "execute_result"
    }
   ],
   "source": [
    "PSG_seq"
   ]
  },
  {
   "cell_type": "code",
   "execution_count": 7,
   "metadata": {},
   "outputs": [],
   "source": [
    "A_PSG = [i for i in range(0, 954)]\n",
    "T_PSG = [i for i in range(968, 1039)]\n",
    "C_PSG = [i for i in range(1057, 1489)]"
   ]
  },
  {
   "cell_type": "code",
   "execution_count": 8,
   "metadata": {},
   "outputs": [
    {
     "data": {
      "text/plain": [
       "1489"
      ]
     },
     "execution_count": 8,
     "metadata": {},
     "output_type": "execute_result"
    }
   ],
   "source": [
    "len(PSG_seq)"
   ]
  },
  {
   "cell_type": "code",
   "execution_count": 11,
   "metadata": {},
   "outputs": [
    {
     "data": {
      "text/plain": [
       "'APDLGTHTTGRAPRSPREEILAGLFAEVLGLPAVGIDDSFFDLGGHSLLATRLISRIRAILGVEIPIRDLFEAPTVAGLATLLDENRAVRPTLTPAARPERIP'"
      ]
     },
     "execution_count": 11,
     "metadata": {},
     "output_type": "execute_result"
    }
   ],
   "source": [
    "''.join([PSG_seq[i] for i in range(len(PSG_seq)) if i not in A_PSG + C_PSG])"
   ]
  },
  {
   "cell_type": "code",
   "execution_count": 10,
   "metadata": {},
   "outputs": [],
   "source": [
    "sequence_prompt = ''.join([PSG_seq[i] if i in A_PSG + C_PSG else '_' for i in range(len(PSG_seq))])"
   ]
  },
  {
   "cell_type": "code",
   "execution_count": 11,
   "metadata": {},
   "outputs": [
    {
     "data": {
      "text/plain": [
       "103"
      ]
     },
     "execution_count": 11,
     "metadata": {},
     "output_type": "execute_result"
    }
   ],
   "source": [
    "sequence_prompt.count('_')"
   ]
  },
  {
   "cell_type": "code",
   "execution_count": 12,
   "metadata": {},
   "outputs": [
    {
     "data": {
      "text/plain": [
       "'LPGLFEVCAASVPGATAVVFGDVRVSYGVLNERANRLAHWLLGRGVGPERVVALALPRGVDLVVAVLAVVKAGAAYLPVDPDYPAERVAYMLEDSRPVLALTSSAVVAGLPVVDDVEYVSLDDPAVLGELAGCGVSDPSDADRGAVLSPAHPVHVIYTSGSTGRPKGVMTSHGNVVRLFDVGEGGHWFGFAPDDVWALFHSYTFDFSVFELWGALLHGGCLVVVPHLTSRSPVELLRLLVAEQVTVLCQTPSAFDALAGVVAQDPAGAEGLVLRRVVFGGEALPARTAELASGLVPGVRVVNIYGPTETTVHATTCHVDSVSGGNPVVSIGRPVDRALGYVLDAGLRVVPVGVAGELYVAGAGLARGYVNRAGLTASRFVADPYGPAGSRMYRTGDVVRWNTSGELEFVGRADDQVKIRGFRIELGEIETTAAGHPAVAQAAATVHEDDTRGKQLALYVVPTGLTSGDVSGSVSGDGAVPDGGVSGVVDEQVGEWREIYDSLYGGPGSSVFGEDFSGWDSSYDGAAIPLEEMREWRDATVERIRGLGGRRVLEIGVGTGLLMSRLAAGCEEYWATDLSGVVIDALDGHVQADPVLRERVRLACQRADDTRGLPEGYFDTVVINSVVQYFPGAQYLASVIEAAVSRLAPGGRVFIGDVRDLRTLRAFHTAVQLTRTTGGRAGDGMDAGGLRRAVEQGLLLENELLLDPEFFTAVGRTLPAVSAVEVRLKHGQAHNELTRHRYDVILHTTNTETDTEAPAPTPAPVEGISWNSVPGQLTGLEEILRSRGAAPLRVTGIPNARLAGEYAALRVLENGGTLTEAVTALAGPRGIDPEHLHQLAAATGYHAVLQPAPAPDTYNTLLLPLDIFDGTAWSATATATATDLRETSAPDHTAETSFQALANNPAASRDTSTLITQVRDHLRTKLPDHMVPAAIVVLERLPLTASGKLDRRALP_______________________________________________________________________________________________________LSSAQNRLWFLHRLEGMGAAAYNVPMALRLTGSVMPEVLRLALADVVERHESLRTVFPETDGVPCQHILSVVEARPVLHVVQTSEEGLAEAVSTASQYAFDLSAELPVRAWLFALAPEEHVLVLVVHHIAGDGWSLSPLFRDLTTAYAARADGRTPGWAPLPVQYADYTLWQNDLLGDHSDTGSLIARQLEYWRTTLTGLPEQVTLPTDRPRPATATYQGALHDFAWDAELHQGLIDLARSTGTTVFMVLQAGLAALMSRLGAGDDIPLGSPIAGRTDEALDDLVGFFVNTLVLRTDTSGNPTFRELLARVRETDLAAYAHQDVPFEHLVEILNPERSLAHHPLFQVMLALQNAPEGQFKLPGLQARFETTHTQTAKFDLFFNVHEYRATDGGPGGLYGSVEFSTDLFDRVSVEVVLERLRRVLVSVAADPD'"
      ]
     },
     "execution_count": 12,
     "metadata": {},
     "output_type": "execute_result"
    }
   ],
   "source": [
    "sequence_prompt"
   ]
  },
  {
   "cell_type": "markdown",
   "metadata": {},
   "source": [
    "### pCK System"
   ]
  },
  {
   "cell_type": "code",
   "execution_count": 15,
   "metadata": {},
   "outputs": [],
   "source": [
    "pCK_seq = helper.read_fasta(fasta_pCK, mode='str')[0]"
   ]
  },
  {
   "cell_type": "code",
   "execution_count": 16,
   "metadata": {},
   "outputs": [
    {
     "data": {
      "text/plain": [
       "'FERQAAFTPERLAIRFSGGSLTYAELDMYASRLAAHLAARGVTNESIVGVLSERSPDMLIAVLAVLKAGGAYLPLDPAYPKERLSYMLKDSGASLLLTQPGCSAPNFSGETLEVDMTSLASEKAENHEFTPADGGSLAYVIYTSGSTGQPKGVAVEHRQAVSFLTGMQHQFPLSEDDIVMVKTSFSFDASVWQLFWWSLSGASAYLLPPGWEKDSALIVQAIHQENVTTAHFIPAMLNSFLDQAEIERLSDRTSLKRVFAGGEPLAPRTAARFASVLPQVSLIHGYGPTEATVDAAFYVLDPERDRDRLRIPIGKPVPGARLYVLDPHLAVQPSGVAGELYIAGAGVARGYLNRPALTEERFLEDPFYPGERMYKTGDVARWLPDGNVEFLGRTDDQVKIRGYRIEPGEIEAALRSIEGVREAAVTVRTDSGEPELCAYVEGLQRNEVRAQLERLLPGYMVPAYMIEMEQWPVTPSGKLDRNALPAPGGAADAETYTAPRNVTEMKLSQLWEDVLKNGPVGIHDNFFDRGGNSLSAIKLIAAIRRVLATEISLAQLFELKTITGLATQLEQQAYTVIPHLSQANYPLSFAQERILFIEQFEQGSDAYHVPYLMQLNDEISLSLLATAVNQLAERHPVMKMVYRSDSDAQVQQQRLDDELVIKSQPCEDITTLLNTVRAEIATPFDLANTFSLRLRHYPVGDNHYLLLLWHHIAIDGWSVSIFMAELTEIYHALRENRDSLLPPLDITYGDYAVWQRNYLQGEIRERQLTYWQQILTGYESLILPTDYPRPAKVSYQGRDFHFRLDTRLSDQLRRLANTQETTLYTVLLSAFYVTLAKLSGQDDILLGTPTDNRHHAQTQPLIGMFVNTLVLRAKITQTDSIATLIRLIHQRVTEAKTHQDIPFEQLLDVLDIERDTSRHPVFQVMFSVQGSGEFPLQEHEMLFRPVELEESLYSPAKFDLFLYLSEEKISAGNSEITACLNYAVSLFKEDTIVRITDIYQRVLAAFVADQEQPLSGI'"
      ]
     },
     "execution_count": 16,
     "metadata": {},
     "output_type": "execute_result"
    }
   ],
   "source": [
    "pCK_seq"
   ]
  },
  {
   "cell_type": "code",
   "execution_count": 17,
   "metadata": {},
   "outputs": [
    {
     "data": {
      "text/plain": [
       "1017"
      ]
     },
     "execution_count": 17,
     "metadata": {},
     "output_type": "execute_result"
    }
   ],
   "source": [
    "len(pCK_seq)"
   ]
  },
  {
   "cell_type": "code",
   "execution_count": 30,
   "metadata": {},
   "outputs": [],
   "source": [
    "A_star_pCK = [i for i in range(0, 485)]\n",
    "T_star_pCK = [i for i in range(485, 610)]\n",
    "C_star_pCK = [i for i in range(610, 1017)]"
   ]
  },
  {
   "cell_type": "code",
   "execution_count": 31,
   "metadata": {},
   "outputs": [
    {
     "data": {
      "text/plain": [
       "'YLMQLNDEISLSLLATAVNQLAERHPVMKMVYRSDSDAQVQQQRLDDELVIKSQPCEDITTLLNTVRAEIATPFDLANTFSLRLRHYPVGDNHYLLLLWHHIAIDGWSVSIFMAELTEIYHALRENRDSLLPPLDITYGDYAVWQRNYLQGEIRERQLTYWQQILTGYESLILPTDYPRPAKVSYQGRDFHFRLDTRLSDQLRRLANTQETTLYTVLLSAFYVTLAKLSGQDDILLGTPTDNRHHAQTQPLIGMFVNTLVLRAKITQTDSIATLIRLIHQRVTEAKTHQDIPFEQLLDVLDIERDTSRHPVFQVMFSVQGSGEFPLQEHEMLFRPVELEESLYSPAKFDLFLYLSEEKISAGNSEITACLNYAVSLFKEDTIVRITDIYQRVLAAFVADQEQPLSGI'"
      ]
     },
     "execution_count": 31,
     "metadata": {},
     "output_type": "execute_result"
    }
   ],
   "source": [
    "''.join([pCK_seq[i] for i in range(len(pCK_seq)) if i in C_star_pCK])"
   ]
  },
  {
   "cell_type": "code",
   "execution_count": 32,
   "metadata": {},
   "outputs": [
    {
     "data": {
      "text/plain": [
       "'APGGAADAETYTAPRNVTEMKLSQLWEDVLKNGPVGIHDNFFDRGGNSLSAIKLIAAIRRVLATEISLAQLFELKTITGLATQLEQQAYTVIPHLSQANYPLSFAQERILFIEQFEQGSDAYHVP'"
      ]
     },
     "execution_count": 32,
     "metadata": {},
     "output_type": "execute_result"
    }
   ],
   "source": [
    "''.join([pCK_seq[i] for i in range(len(pCK_seq)) if i not in A_star_pCK + C_star_pCK])"
   ]
  },
  {
   "cell_type": "code",
   "execution_count": 33,
   "metadata": {},
   "outputs": [],
   "source": [
    "sequence_prompt = ''.join([pCK_seq[i] if i in A_star_pCK + C_star_pCK else '_' for i in range(len(pCK_seq))])"
   ]
  },
  {
   "cell_type": "code",
   "execution_count": 34,
   "metadata": {},
   "outputs": [
    {
     "data": {
      "text/plain": [
       "125"
      ]
     },
     "execution_count": 34,
     "metadata": {},
     "output_type": "execute_result"
    }
   ],
   "source": [
    "sequence_prompt.count('_')"
   ]
  },
  {
   "cell_type": "code",
   "execution_count": 35,
   "metadata": {},
   "outputs": [
    {
     "data": {
      "text/plain": [
       "'FERQAAFTPERLAIRFSGGSLTYAELDMYASRLAAHLAARGVTNESIVGVLSERSPDMLIAVLAVLKAGGAYLPLDPAYPKERLSYMLKDSGASLLLTQPGCSAPNFSGETLEVDMTSLASEKAENHEFTPADGGSLAYVIYTSGSTGQPKGVAVEHRQAVSFLTGMQHQFPLSEDDIVMVKTSFSFDASVWQLFWWSLSGASAYLLPPGWEKDSALIVQAIHQENVTTAHFIPAMLNSFLDQAEIERLSDRTSLKRVFAGGEPLAPRTAARFASVLPQVSLIHGYGPTEATVDAAFYVLDPERDRDRLRIPIGKPVPGARLYVLDPHLAVQPSGVAGELYIAGAGVARGYLNRPALTEERFLEDPFYPGERMYKTGDVARWLPDGNVEFLGRTDDQVKIRGYRIEPGEIEAALRSIEGVREAAVTVRTDSGEPELCAYVEGLQRNEVRAQLERLLPGYMVPAYMIEMEQWPVTPSGKLDRNALP_____________________________________________________________________________________________________________________________YLMQLNDEISLSLLATAVNQLAERHPVMKMVYRSDSDAQVQQQRLDDELVIKSQPCEDITTLLNTVRAEIATPFDLANTFSLRLRHYPVGDNHYLLLLWHHIAIDGWSVSIFMAELTEIYHALRENRDSLLPPLDITYGDYAVWQRNYLQGEIRERQLTYWQQILTGYESLILPTDYPRPAKVSYQGRDFHFRLDTRLSDQLRRLANTQETTLYTVLLSAFYVTLAKLSGQDDILLGTPTDNRHHAQTQPLIGMFVNTLVLRAKITQTDSIATLIRLIHQRVTEAKTHQDIPFEQLLDVLDIERDTSRHPVFQVMFSVQGSGEFPLQEHEMLFRPVELEESLYSPAKFDLFLYLSEEKISAGNSEITACLNYAVSLFKEDTIVRITDIYQRVLAAFVADQEQPLSGI'"
      ]
     },
     "execution_count": 35,
     "metadata": {},
     "output_type": "execute_result"
    }
   ],
   "source": [
    "sequence_prompt"
   ]
  },
  {
   "cell_type": "code",
   "execution_count": null,
   "metadata": {},
   "outputs": [],
   "source": []
  }
 ],
 "metadata": {
  "kernelspec": {
   "display_name": "workspace-esm",
   "language": "python",
   "name": "python3"
  },
  "language_info": {
   "codemirror_mode": {
    "name": "ipython",
    "version": 3
   },
   "file_extension": ".py",
   "mimetype": "text/x-python",
   "name": "python",
   "nbconvert_exporter": "python",
   "pygments_lexer": "ipython3",
   "version": "3.10.13"
  }
 },
 "nbformat": 4,
 "nbformat_minor": 2
}
