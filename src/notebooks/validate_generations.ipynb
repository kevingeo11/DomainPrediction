{
 "cells": [
  {
   "cell_type": "code",
   "execution_count": 15,
   "metadata": {},
   "outputs": [],
   "source": [
    "import sys\n",
    "sys.path.append('..')"
   ]
  },
  {
   "cell_type": "code",
   "execution_count": 16,
   "metadata": {},
   "outputs": [],
   "source": [
    "import os\n",
    "from tqdm import tqdm\n",
    "import matplotlib.pyplot as plt\n",
    "import numpy as np\n",
    "import pandas as pd\n",
    "\n",
    "from collections import defaultdict"
   ]
  },
  {
   "cell_type": "code",
   "execution_count": 17,
   "metadata": {},
   "outputs": [],
   "source": [
    "from DomainPrediction.protein.base import BaseProtein\n",
    "from DomainPrediction.protein.base import FoldedProtein\n",
    "from DomainPrediction.utils import helper\n",
    "from DomainPrediction.utils.constants import *"
   ]
  },
  {
   "cell_type": "code",
   "execution_count": 18,
   "metadata": {},
   "outputs": [],
   "source": [
    "root = '../..'\n",
    "# data_path = os.path.join(root, 'Data/')\n",
    "data_path = '/data/users/kgeorge/workspace/Data'"
   ]
  },
  {
   "cell_type": "code",
   "execution_count": 19,
   "metadata": {},
   "outputs": [],
   "source": [
    "protein_6mfw = BaseProtein(file=os.path.join(data_path, '6mfw_conformations/hm_6mfy_ATC.pdb'))\n",
    "fasta_6mfw = helper.read_fasta(file=os.path.join(data_path, '6mfw_conformations/6mfw_WT_ATC.fasta'), mode='str')[0]"
   ]
  },
  {
   "cell_type": "code",
   "execution_count": 20,
   "metadata": {},
   "outputs": [
    {
     "data": {
      "text/plain": [
       "True"
      ]
     },
     "execution_count": 20,
     "metadata": {},
     "output_type": "execute_result"
    }
   ],
   "source": [
    "protein_6mfw.sequence == fasta_6mfw"
   ]
  },
  {
   "cell_type": "code",
   "execution_count": 21,
   "metadata": {},
   "outputs": [],
   "source": [
    "protein_gxps = BaseProtein(file=os.path.join(data_path, 'gxps/gxps_ATC_hm_6mfy.pdb'))\n",
    "fasta_gxps = helper.read_fasta(file=os.path.join(data_path, 'gxps/GxpS_ATC.fasta'), mode='str')[0]"
   ]
  },
  {
   "cell_type": "code",
   "execution_count": 22,
   "metadata": {},
   "outputs": [
    {
     "data": {
      "text/plain": [
       "True"
      ]
     },
     "execution_count": 22,
     "metadata": {},
     "output_type": "execute_result"
    }
   ],
   "source": [
    "protein_gxps.sequence == fasta_gxps"
   ]
  },
  {
   "cell_type": "code",
   "execution_count": 23,
   "metadata": {},
   "outputs": [
    {
     "name": "stderr",
     "output_type": "stream",
     "text": [
      "100%|██████████| 1000/1000 [09:26<00:00,  1.76it/s]\n",
      "100%|██████████| 1000/1000 [08:27<00:00,  1.97it/s]\n"
     ]
    }
   ],
   "source": [
    "## pmpnn experiments\n",
    "records = helper.read_fasta(file=os.path.join(data_path, 'pmpnn_experiments/6mfw_exp/6mfw_pmpnn_1000.fasta'))\n",
    "pdb_path = os.path.join(data_path, 'pmpnn_experiments/6mfw_exp/6mfw_pdbs')\n",
    "for rec in tqdm(records):\n",
    "    protein_ = BaseProtein(sequence=str(rec.seq), id=rec.id)\n",
    "    protein_pdb = FoldedProtein(file=os.path.join(pdb_path, rec.id + '.pdb'))\n",
    "\n",
    "    if 'esm2_650M_perplexity' not in protein_pdb.metadata:\n",
    "        print(rec.id)\n",
    "\n",
    "    assert os.path.isfile(os.path.join(pdb_path, rec.id + '.meta.npz')) # check if meta exists\n",
    "    assert protein_.sequence == protein_pdb.sequence # check fasta vs pdb\n",
    "    assert protein_.get_residues(A_6mfw) == protein_6mfw.get_residues(A_6mfw) # check A\n",
    "    assert protein_.get_residues(C_6mfw) == protein_6mfw.get_residues(C_6mfw) # check C\n",
    "\n",
    "records = helper.read_fasta(file=os.path.join(data_path, 'pmpnn_experiments/gxps_exp/gxps_pmpnn_1000.fasta'))\n",
    "pdb_path = os.path.join(data_path, 'pmpnn_experiments/gxps_exp/gxps_pdbs')\n",
    "for rec in tqdm(records):\n",
    "    protein_ = BaseProtein(sequence=str(rec.seq), id=rec.id)\n",
    "    protein_pdb = FoldedProtein(file=os.path.join(pdb_path, rec.id + '.pdb'))\n",
    "\n",
    "    if 'esm2_650M_perplexity' not in protein_pdb.metadata:\n",
    "        print(rec.id)\n",
    "\n",
    "    assert os.path.isfile(os.path.join(pdb_path, rec.id + '.meta.npz')) # check if meta exists\n",
    "    assert protein_.sequence == protein_pdb.sequence # check fasta vs pdb\n",
    "    assert protein_.get_residues(A_gxps_atc) == protein_gxps.get_residues(A_gxps_atc) # check A\n",
    "    assert protein_.get_residues(C_gxps_atc) == protein_gxps.get_residues(C_gxps_atc) # check C"
   ]
  },
  {
   "cell_type": "code",
   "execution_count": 24,
   "metadata": {},
   "outputs": [
    {
     "name": "stderr",
     "output_type": "stream",
     "text": [
      "100%|██████████| 1000/1000 [07:45<00:00,  2.15it/s]\n",
      "100%|██████████| 1000/1000 [08:47<00:00,  1.89it/s]\n"
     ]
    }
   ],
   "source": [
    "## evodiff experiments\n",
    "records = helper.read_fasta(file=os.path.join(data_path, 'evodiff_experiments/6mfw_exp/6mfw_evodiff_1000.fasta'))\n",
    "pdb_path = os.path.join(data_path, 'evodiff_experiments/6mfw_exp/6mfw_pdbs')\n",
    "for rec in tqdm(records):\n",
    "    protein_ = BaseProtein(sequence=str(rec.seq), id=rec.id)\n",
    "    protein_pdb = FoldedProtein(file=os.path.join(pdb_path, rec.id + '.pdb'))\n",
    "\n",
    "    if 'esm2_650M_perplexity' not in protein_pdb.metadata:\n",
    "        print(rec.id)\n",
    "\n",
    "    assert os.path.isfile(os.path.join(pdb_path, rec.id + '.meta.npz')) # check if meta exists\n",
    "    assert protein_.sequence == protein_pdb.sequence # check fasta vs pdb\n",
    "    assert protein_.get_residues(A_6mfw) == protein_6mfw.get_residues(A_6mfw) # check A\n",
    "    assert protein_.get_residues(C_6mfw) == protein_6mfw.get_residues(C_6mfw) # check C\n",
    "\n",
    "records = helper.read_fasta(file=os.path.join(data_path, 'evodiff_experiments/gxps_exp/gxps_evodiff_1000.fasta'))\n",
    "pdb_path = os.path.join(data_path, 'evodiff_experiments/gxps_exp/gxps_pdbs')\n",
    "for rec in tqdm(records):\n",
    "    protein_ = BaseProtein(sequence=str(rec.seq), id=rec.id)\n",
    "    protein_pdb = FoldedProtein(file=os.path.join(pdb_path, rec.id + '.pdb'))\n",
    "\n",
    "    if 'esm2_650M_perplexity' not in protein_pdb.metadata:\n",
    "        print(rec.id)\n",
    "\n",
    "    assert os.path.isfile(os.path.join(pdb_path, rec.id + '.meta.npz')) # check if meta exists\n",
    "    assert protein_.sequence == protein_pdb.sequence # check fasta vs pdb\n",
    "    assert protein_.get_residues(A_gxps_atc) == protein_gxps.get_residues(A_gxps_atc) # check A\n",
    "    assert protein_.get_residues(C_gxps_atc) == protein_gxps.get_residues(C_gxps_atc) # check C"
   ]
  },
  {
   "cell_type": "code",
   "execution_count": 25,
   "metadata": {},
   "outputs": [
    {
     "name": "stderr",
     "output_type": "stream",
     "text": [
      "100%|██████████| 1000/1000 [08:32<00:00,  1.95it/s]\n",
      "100%|██████████| 1000/1000 [08:47<00:00,  1.90it/s]\n"
     ]
    }
   ],
   "source": [
    "## esm3 experiments\n",
    "records = helper.read_fasta(file=os.path.join(data_path, 'esm3_experiments/6mfw_exp/6mfw_esm3_1000.fasta'))\n",
    "pdb_path = os.path.join(data_path, 'esm3_experiments/6mfw_exp/6mfw_pdbs')\n",
    "for rec in tqdm(records):\n",
    "    protein_ = BaseProtein(sequence=str(rec.seq), id=rec.id)\n",
    "    protein_pdb = FoldedProtein(file=os.path.join(pdb_path, rec.id + '.pdb'))\n",
    "\n",
    "    if 'esm2_650M_perplexity' not in protein_pdb.metadata:\n",
    "        print(rec.id)\n",
    "\n",
    "    assert os.path.isfile(os.path.join(pdb_path, rec.id + '.meta.npz')) # check if meta exists\n",
    "    assert protein_.sequence == protein_pdb.sequence # check fasta vs pdb\n",
    "    assert protein_.get_residues(A_6mfw) == protein_6mfw.get_residues(A_6mfw) # check A\n",
    "    assert protein_.get_residues(C_6mfw) == protein_6mfw.get_residues(C_6mfw) # check C\n",
    "\n",
    "records = helper.read_fasta(file=os.path.join(data_path, 'esm3_experiments/gxps_exp/gxps_esm3_1000.fasta'))\n",
    "pdb_path = os.path.join(data_path, 'esm3_experiments/gxps_exp/gxps_pdbs')\n",
    "for rec in tqdm(records):\n",
    "    protein_ = BaseProtein(sequence=str(rec.seq), id=rec.id)\n",
    "    protein_pdb = FoldedProtein(file=os.path.join(pdb_path, rec.id + '.pdb'))\n",
    "\n",
    "    if 'esm2_650M_perplexity' not in protein_pdb.metadata:\n",
    "        print(rec.id)\n",
    "\n",
    "    assert os.path.isfile(os.path.join(pdb_path, rec.id + '.meta.npz')) # check if meta exists\n",
    "    assert protein_.sequence == protein_pdb.sequence # check fasta vs pdb\n",
    "    assert protein_.get_residues(A_gxps_atc) == protein_gxps.get_residues(A_gxps_atc) # check A\n",
    "    assert protein_.get_residues(C_gxps_atc) == protein_gxps.get_residues(C_gxps_atc) # check C"
   ]
  },
  {
   "cell_type": "code",
   "execution_count": 26,
   "metadata": {},
   "outputs": [
    {
     "name": "stderr",
     "output_type": "stream",
     "text": [
      "100%|██████████| 986/986 [07:08<00:00,  2.30it/s]\n",
      "100%|██████████| 983/983 [07:24<00:00,  2.21it/s]\n"
     ]
    }
   ],
   "source": [
    "## esm2 random experiments\n",
    "records = helper.read_fasta(file=os.path.join(data_path, 'esm2_experiments/random/6mfw_exp/6mfw_esm2_random_1000.fasta'))\n",
    "pdb_path = os.path.join(data_path, 'esm2_experiments/random/6mfw_exp/6mfw_pdbs')\n",
    "for rec in tqdm(records):\n",
    "    protein_ = BaseProtein(sequence=str(rec.seq), id=rec.id)\n",
    "    protein_pdb = FoldedProtein(file=os.path.join(pdb_path, rec.id + '.pdb'))\n",
    "\n",
    "    if 'esm2_650M_perplexity' not in protein_pdb.metadata:\n",
    "        print(rec.id)\n",
    "\n",
    "    assert os.path.isfile(os.path.join(pdb_path, rec.id + '.meta.npz')) # check if meta exists\n",
    "    assert protein_.sequence == protein_pdb.sequence # check fasta vs pdb\n",
    "    assert protein_.get_residues(A_6mfw) == protein_6mfw.get_residues(A_6mfw) # check A\n",
    "    assert protein_.get_residues(C_6mfw) == protein_6mfw.get_residues(C_6mfw) # check C\n",
    "\n",
    "records = helper.read_fasta(file=os.path.join(data_path, 'esm2_experiments/random/gxps_exp/gxps_esm2_random_1000.fasta'))\n",
    "pdb_path = os.path.join(data_path, 'esm2_experiments/random/gxps_exp/gxps_pdbs')\n",
    "for rec in tqdm(records):\n",
    "    protein_ = BaseProtein(sequence=str(rec.seq), id=rec.id)\n",
    "    protein_pdb = FoldedProtein(file=os.path.join(pdb_path, rec.id + '.pdb'))\n",
    "\n",
    "    if 'esm2_650M_perplexity' not in protein_pdb.metadata:\n",
    "        print(rec.id)\n",
    "\n",
    "    assert os.path.isfile(os.path.join(pdb_path, rec.id + '.meta.npz')) # check if meta exists\n",
    "    assert protein_.sequence == protein_pdb.sequence # check fasta vs pdb\n",
    "    assert protein_.get_residues(A_gxps_atc) == protein_gxps.get_residues(A_gxps_atc) # check A\n",
    "    assert protein_.get_residues(C_gxps_atc) == protein_gxps.get_residues(C_gxps_atc) # check C"
   ]
  },
  {
   "cell_type": "code",
   "execution_count": 27,
   "metadata": {},
   "outputs": [
    {
     "name": "stderr",
     "output_type": "stream",
     "text": [
      "100%|██████████| 983/983 [07:05<00:00,  2.31it/s]\n",
      "100%|██████████| 994/994 [07:29<00:00,  2.21it/s]\n"
     ]
    }
   ],
   "source": [
    "## esm2 entropy experiments\n",
    "records = helper.read_fasta(file=os.path.join(data_path, 'esm2_experiments/entropy/6mfw_exp/6mfw_esm2_entropy_1000.fasta'))\n",
    "pdb_path = os.path.join(data_path, 'esm2_experiments/entropy/6mfw_exp/6mfw_pdbs')\n",
    "for rec in tqdm(records):\n",
    "    protein_ = BaseProtein(sequence=str(rec.seq), id=rec.id)\n",
    "    protein_pdb = FoldedProtein(file=os.path.join(pdb_path, rec.id + '.pdb'))\n",
    "\n",
    "    if 'esm2_650M_perplexity' not in protein_pdb.metadata:\n",
    "        print(rec.id)\n",
    "\n",
    "    assert os.path.isfile(os.path.join(pdb_path, rec.id + '.meta.npz')) # check if meta exists\n",
    "    assert protein_.sequence == protein_pdb.sequence # check fasta vs pdb\n",
    "    assert protein_.get_residues(A_6mfw) == protein_6mfw.get_residues(A_6mfw) # check A\n",
    "    assert protein_.get_residues(C_6mfw) == protein_6mfw.get_residues(C_6mfw) # check C\n",
    "\n",
    "records = helper.read_fasta(file=os.path.join(data_path, 'esm2_experiments/entropy/gxps_exp/gxps_esm2_entropy_1000.fasta'))\n",
    "pdb_path = os.path.join(data_path, 'esm2_experiments/entropy/gxps_exp/gxps_pdbs')\n",
    "for rec in tqdm(records):\n",
    "    protein_ = BaseProtein(sequence=str(rec.seq), id=rec.id)\n",
    "    protein_pdb = FoldedProtein(file=os.path.join(pdb_path, rec.id + '.pdb'))\n",
    "\n",
    "    if 'esm2_650M_perplexity' not in protein_pdb.metadata:\n",
    "        print(rec.id)\n",
    "\n",
    "    assert os.path.isfile(os.path.join(pdb_path, rec.id + '.meta.npz')) # check if meta exists\n",
    "    assert protein_.sequence == protein_pdb.sequence # check fasta vs pdb\n",
    "    assert protein_.get_residues(A_gxps_atc) == protein_gxps.get_residues(A_gxps_atc) # check A\n",
    "    assert protein_.get_residues(C_gxps_atc) == protein_gxps.get_residues(C_gxps_atc) # check C"
   ]
  },
  {
   "cell_type": "code",
   "execution_count": null,
   "metadata": {},
   "outputs": [],
   "source": []
  }
 ],
 "metadata": {
  "kernelspec": {
   "display_name": "workspace-esm",
   "language": "python",
   "name": "python3"
  },
  "language_info": {
   "codemirror_mode": {
    "name": "ipython",
    "version": 3
   },
   "file_extension": ".py",
   "mimetype": "text/x-python",
   "name": "python",
   "nbconvert_exporter": "python",
   "pygments_lexer": "ipython3",
   "version": "3.10.13"
  }
 },
 "nbformat": 4,
 "nbformat_minor": 2
}
