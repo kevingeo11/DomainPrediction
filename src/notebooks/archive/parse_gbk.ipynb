{
 "cells": [
  {
   "cell_type": "code",
   "execution_count": null,
   "metadata": {},
   "outputs": [],
   "source": [
    "from Bio import SeqIO\n",
    "from Bio.SeqFeature import SeqFeature, FeatureLocation\n",
    "import sys\n",
    "import os\n",
    "from tqdm import tqdm"
   ]
  },
  {
   "cell_type": "code",
   "execution_count": null,
   "metadata": {},
   "outputs": [],
   "source": [
    "T_domains = []\n",
    "folder = '/data/users/kgeorge/workspace/antismash/actinomycetota'\n",
    "for file in tqdm(os.listdir(folder)):\n",
    "    assert file.endswith('.gbk')\n",
    "    records = SeqIO.parse(os.path.join(folder, file), 'genbank')\n",
    "    for record in records:\n",
    "        for feature in record.features:\n",
    "            if feature.type == \"PFAM_domain\" and \"aSDomain\" in feature.qualifiers:\n",
    "                if 'PP-binding' in feature.qualifiers['aSDomain']:\n",
    "\n",
    "                    assert len(feature.qualifiers['locus_tag']) == 1\n",
    "                    assert len(feature.qualifiers['protein_start']) == 1\n",
    "                    assert len(feature.qualifiers['protein_end']) == 1\n",
    "                    assert len(feature.qualifiers['translation']) == 1\n",
    "\n",
    "                    identifier = '_'.join([feature.qualifiers['locus_tag'][0], \n",
    "                                            feature.qualifiers['protein_start'][0], \n",
    "                                            feature.qualifiers['protein_end'][0]])\n",
    "                    seq = feature.qualifiers['translation'][0]\n",
    "                    \n",
    "                    T_domains.append({'id': identifier, 'seq': seq})\n"
   ]
  },
  {
   "cell_type": "code",
   "execution_count": null,
   "metadata": {},
   "outputs": [],
   "source": [
    "len(T_domains)"
   ]
  },
  {
   "cell_type": "code",
   "execution_count": null,
   "metadata": {},
   "outputs": [],
   "source": [
    "len(set([i['id'] for i in T_domains])) ## unique ids"
   ]
  },
  {
   "cell_type": "code",
   "execution_count": null,
   "metadata": {},
   "outputs": [],
   "source": [
    "fasta_file = '/data/users/kgeorge/workspace/antismash/actinomycetota.fasta'\n",
    "with open(fasta_file, 'w') as fout:\n",
    "    for res in T_domains:\n",
    "        fout.write(f\">actinomycetota_{res['id']}\\n\")\n",
    "        fout.write(res['seq'] + '\\n')"
   ]
  },
  {
   "cell_type": "code",
   "execution_count": null,
   "metadata": {},
   "outputs": [],
   "source": []
  }
 ],
 "metadata": {
  "kernelspec": {
   "display_name": "workspace",
   "language": "python",
   "name": "python3"
  },
  "language_info": {
   "codemirror_mode": {
    "name": "ipython",
    "version": 3
   },
   "file_extension": ".py",
   "mimetype": "text/x-python",
   "name": "python",
   "nbconvert_exporter": "python",
   "pygments_lexer": "ipython3",
   "version": "3.10.13"
  }
 },
 "nbformat": 4,
 "nbformat_minor": 2
}
