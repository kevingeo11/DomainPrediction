{
 "cells": [
  {
   "cell_type": "code",
   "execution_count": 2,
   "metadata": {},
   "outputs": [],
   "source": [
    "import re\n",
    "import os\n",
    "import subprocess\n",
    "from collections import defaultdict\n",
    "import matplotlib.pyplot as plt\n",
    "\n",
    "import numpy as np\n",
    "import pandas as pd\n",
    "\n",
    "from tqdm import tqdm"
   ]
  },
  {
   "cell_type": "code",
   "execution_count": 3,
   "metadata": {},
   "outputs": [],
   "source": [
    "from sklearn.preprocessing import StandardScaler\n",
    "from Bio import AlignIO"
   ]
  },
  {
   "cell_type": "code",
   "execution_count": 4,
   "metadata": {},
   "outputs": [],
   "source": [
    "hmm_path = '/nethome/kgeorge/workspace/DomainPrediction/hmm'\n",
    "data_path = '/nethome/kgeorge/workspace/DomainPrediction/Data'"
   ]
  },
  {
   "cell_type": "code",
   "execution_count": 5,
   "metadata": {},
   "outputs": [],
   "source": [
    "tm_path = './nethome/kgeorge/workspace/DomainPrediction/src/utils/TMalign'\n",
    "class TMalign():\n",
    "    def __init__(self, path) -> None:\n",
    "        self.tmalign = path\n",
    "\n",
    "    def run(self, prot_a, prot_b):\n",
    "        out = subprocess.check_output([self.tmalign, prot_a, prot_b])\n",
    "        data = str(out).split(\"\\\\n\")\n",
    "        for d in data:\n",
    "            x = re.sub(r\"\\s\\s+\", \" \", d).split(' ')\n",
    "            if x[0] == 'Aligned':\n",
    "                rmsd = float(x[4][:-1])\n",
    "                seq_id = float(x[6])\n",
    "            elif x[0] == 'TM-score=':\n",
    "                tm_score = float(x[1])\n",
    "                break\n",
    "\n",
    "        return {\n",
    "            'rmsd': rmsd,\n",
    "            'seq_id': seq_id,\n",
    "            'tm_score': tm_score\n",
    "        }"
   ]
  },
  {
   "cell_type": "code",
   "execution_count": 6,
   "metadata": {},
   "outputs": [],
   "source": [
    "class HmmerTools():\n",
    "    def __init__(self) -> None:\n",
    "        self.scaler = StandardScaler()\n",
    "\n",
    "    def hmmalign(self, hmm_path: str, fasta_file: str, \n",
    "                  outfile: str | None = None, \n",
    "                  trim: bool = False):\n",
    "        if outfile is None:\n",
    "            outfile = fasta_file.replace('.fasta', '.stockholm')\n",
    "\n",
    "        if trim:\n",
    "            with open(outfile, \"w\") as fout:\n",
    "                subprocess.run(['hmmalign', '--trim', hmm_path, fasta_file], stdout=fout)\n",
    "        else:\n",
    "            with open(outfile, \"w\") as fout:\n",
    "                subprocess.run(['hmmalign', hmm_path, fasta_file], stdout=fout)\n",
    "\n",
    "        print(f'alignment created: {outfile}')\n",
    "\n",
    "\n",
    "    def parse_hmmsearch_tblout(self, filename):\n",
    "        with open(filename) as fin:\n",
    "            tmp = []\n",
    "            for line in fin:\n",
    "                if not line.startswith('#'):\n",
    "                    tmp.append(line.strip().split()[:7])\n",
    "\n",
    "        df = pd.DataFrame(tmp, columns=['name', '-', 'domain', 'domain_id', 'Evalue', 'score', 'bias'])\n",
    "        df['Evalue'] = df['Evalue'].astype(float)\n",
    "        df['score'] = df['score'].astype(float)\n",
    "        df['bias'] = df['bias'].astype(float)\n",
    "\n",
    "        return df\n",
    "\n",
    "    def sort_by_Eval(self, df, top=None):\n",
    "        df_tmp = df[['name']].drop_duplicates().sort_values(by=['name']).reset_index(drop=True)\n",
    "        \n",
    "        for domain in df['domain'].unique():\n",
    "            print(f'domain {domain} {df[df[\"domain\"] == domain].shape[0]}')\n",
    "            df_tmp[domain] = df[df['domain'] == domain].sort_values(by=['name'])['Evalue'].to_numpy()\n",
    "\n",
    "        df_tmp['sum'] = df_tmp[df['domain'].unique()].sum(axis=1)\n",
    "\n",
    "        df_tmp['norm_sum'] = self.scaler.fit_transform(df_tmp[df['domain'].unique()]).sum(axis=1)\n",
    "\n",
    "        df_sorted = df_tmp.sort_values(by=['norm_sum'])\n",
    "        if top is None:\n",
    "            return df_sorted['name'].to_numpy()\n",
    "        else:\n",
    "            return df_sorted['name'].to_numpy()[:top]\n",
    "        \n",
    "    def sort_by_Eval_domain(self, df, domain, top=None):\n",
    "\n",
    "        df_tmp = df[df['domain'] == domain]\n",
    "        df_sorted = df_tmp.sort_values(by=['Evalue'])\n",
    "\n",
    "        if top is None:\n",
    "            return df_sorted['name'].to_numpy()\n",
    "        else:\n",
    "            return df_sorted['name'].to_numpy()[:top]"
   ]
  },
  {
   "cell_type": "code",
   "execution_count": 7,
   "metadata": {},
   "outputs": [],
   "source": [
    "class AlignTools():\n",
    "    def __init__(self, path: str) -> None:\n",
    "        self.align = AlignIO.read(path, \"stockholm\")\n",
    "    \n",
    "    def show_alignment(self):\n",
    "        print(self.align)\n",
    "\n",
    "    def get_alignment_length(self):\n",
    "        return self.align.get_alignment_length()\n",
    "    \n",
    "    def get_num_sequences(self):\n",
    "        return len(self.align)\n",
    "\n",
    "    def get_pairwise_identity(self):\n",
    "        pairwise_seqid = np.eye(self.get_num_sequences())\n",
    "\n",
    "        for i, record_1 in enumerate(self.align):\n",
    "            for j, record_2 in enumerate(self.align):\n",
    "                seq_id = 0\n",
    "                for s1, s2 in zip(record_1.seq, record_2.seq):\n",
    "                    if s1 != '-' and s2 != '-' and s1 != '.' and s2 != '.' and s1 == s2:\n",
    "                        seq_id += 1\n",
    "\n",
    "                pairwise_seqid[i,j] = seq_id/self.get_alignment_length()\n",
    "\n",
    "        return pairwise_seqid"
   ]
  },
  {
   "cell_type": "code",
   "execution_count": 8,
   "metadata": {},
   "outputs": [],
   "source": [
    "tmalign = TMalign(tm_path)\n",
    "hmmer = HmmerTools()"
   ]
  },
  {
   "cell_type": "code",
   "execution_count": 9,
   "metadata": {},
   "outputs": [
    {
     "name": "stdout",
     "output_type": "stream",
     "text": [
      "alignment created: /nethome/kgeorge/workspace/DomainPrediction/Data/esm_experiments/basic_gen/esm_inp_seq_gen_gpu.stockholm\n"
     ]
    }
   ],
   "source": [
    "pfam_T_hmm = '/nethome/kgeorge/workspace/DomainPrediction/hmm/PF00550_T.hmm'\n",
    "fasta_loc = os.path.join(data_path, 'esm_experiments/basic_gen/esm_inp_seq_gen_gpu.fasta')\n",
    "hmmer.hmmalign(hmm_path=pfam_T_hmm, fasta_file=fasta_loc, trim=True)"
   ]
  },
  {
   "cell_type": "code",
   "execution_count": 10,
   "metadata": {},
   "outputs": [
    {
     "name": "stdout",
     "output_type": "stream",
     "text": [
      "alignment created: /nethome/kgeorge/workspace/DomainPrediction/Data/esm_experiments/basic_gen/esm_inp_seq_str_gen_gpu.stockholm\n"
     ]
    }
   ],
   "source": [
    "pfam_T_hmm = '/nethome/kgeorge/workspace/DomainPrediction/hmm/PF00550_T.hmm'\n",
    "fasta_loc = os.path.join(data_path, 'esm_experiments/basic_gen/esm_inp_seq_str_gen_gpu.fasta')\n",
    "hmmer.hmmalign(hmm_path=pfam_T_hmm, fasta_file=fasta_loc, trim=True)"
   ]
  },
  {
   "cell_type": "code",
   "execution_count": 11,
   "metadata": {},
   "outputs": [
    {
     "name": "stdout",
     "output_type": "stream",
     "text": [
      "alignment created: /nethome/kgeorge/workspace/DomainPrediction/Data/pmpnn_experiments/selected_100/Gxps_selected_100.stockholm\n"
     ]
    }
   ],
   "source": [
    "pfam_T_hmm = '/nethome/kgeorge/workspace/DomainPrediction/hmm/PF00550_T.hmm'\n",
    "fasta_loc = os.path.join(data_path, 'pmpnn_experiments/selected_100/Gxps_selected_100.fasta')\n",
    "hmmer.hmmalign(hmm_path=pfam_T_hmm, fasta_file=fasta_loc, trim=True)"
   ]
  },
  {
   "cell_type": "code",
   "execution_count": 12,
   "metadata": {},
   "outputs": [],
   "source": [
    "align_esm_seq = AlignTools(os.path.join(data_path, 'esm_experiments/basic_gen/esm_inp_seq_gen_gpu.stockholm'))\n",
    "align_esm_seq_str = AlignTools(os.path.join(data_path, 'esm_experiments/basic_gen/esm_inp_seq_str_gen_gpu.stockholm'))\n",
    "align_pmpnn_100 = AlignTools(os.path.join(data_path, 'pmpnn_experiments/selected_100/Gxps_selected_100.stockholm'))"
   ]
  },
  {
   "cell_type": "code",
   "execution_count": 13,
   "metadata": {},
   "outputs": [
    {
     "data": {
      "text/plain": [
       "(101, 101, 101)"
      ]
     },
     "execution_count": 13,
     "metadata": {},
     "output_type": "execute_result"
    }
   ],
   "source": [
    "align_esm_seq.get_num_sequences(), align_esm_seq_str.get_num_sequences(), align_pmpnn_100.get_num_sequences()"
   ]
  },
  {
   "cell_type": "code",
   "execution_count": 14,
   "metadata": {},
   "outputs": [
    {
     "data": {
      "text/plain": [
       "array([0.47761194, 0.46268657, 0.44776119, 0.52238806, 0.52238806,\n",
       "       0.43283582, 0.43283582, 0.44776119, 0.43283582, 0.41791045,\n",
       "       0.40298507, 0.44776119, 0.49253731, 0.43283582, 0.47761194,\n",
       "       0.43283582, 0.46268657, 0.50746269, 0.44776119, 0.47761194,\n",
       "       0.43283582, 0.47761194, 0.46268657, 0.43283582, 0.49253731,\n",
       "       0.50746269, 0.41791045, 0.43283582, 0.37313433, 0.43283582,\n",
       "       0.47761194, 0.49253731, 0.41791045, 0.40298507, 0.49253731,\n",
       "       0.47761194, 0.46268657, 0.50746269, 0.52238806, 0.47761194,\n",
       "       0.44776119, 0.47761194, 0.47761194, 0.43283582, 0.46268657,\n",
       "       0.43283582, 0.46268657, 0.46268657, 0.47761194, 0.52238806,\n",
       "       0.50746269, 0.43283582, 0.46268657, 0.47761194, 0.49253731,\n",
       "       0.52238806, 0.46268657, 0.47761194, 0.47761194, 0.43283582,\n",
       "       0.52238806, 0.52238806, 0.46268657, 0.46268657, 0.43283582,\n",
       "       0.41791045, 0.47761194, 0.46268657, 0.46268657, 0.43283582,\n",
       "       0.44776119, 0.46268657, 0.40298507, 0.47761194, 0.49253731,\n",
       "       0.43283582, 0.46268657, 0.47761194, 0.41791045, 0.49253731,\n",
       "       0.49253731, 0.46268657, 0.40298507, 0.46268657, 0.41791045,\n",
       "       0.44776119, 0.46268657, 0.50746269, 0.46268657, 0.50746269,\n",
       "       0.41791045, 0.49253731, 0.47761194, 0.46268657, 0.47761194,\n",
       "       0.46268657, 0.44776119, 0.41791045, 0.49253731, 0.47761194])"
      ]
     },
     "execution_count": 14,
     "metadata": {},
     "output_type": "execute_result"
    }
   ],
   "source": [
    "# wrt to original. original at 0 \n",
    "align_esm_seq.get_pairwise_identity()[0][1:]"
   ]
  },
  {
   "cell_type": "code",
   "execution_count": 15,
   "metadata": {},
   "outputs": [
    {
     "data": {
      "text/plain": [
       "array([0.6119403 , 0.56716418, 0.62686567, 0.64179104, 0.71641791,\n",
       "       0.73134328, 0.71641791, 0.67164179, 0.62686567, 0.71641791])"
      ]
     },
     "execution_count": 15,
     "metadata": {},
     "output_type": "execute_result"
    }
   ],
   "source": [
    "# all pairwise except original\n",
    "align_esm_seq.get_pairwise_identity()[1:,1:][np.triu_indices(5, k = 1)]"
   ]
  },
  {
   "cell_type": "code",
   "execution_count": 17,
   "metadata": {},
   "outputs": [
    {
     "data": {
      "image/png": "[encoded data removed]",
      "text/plain": [
       "<Figure size 640x480 with 1 Axes>"
      ]
     },
     "metadata": {},
     "output_type": "display_data"
    }
   ],
   "source": [
    "fig, ax = plt.subplots()\n",
    "_ = ax.boxplot([align_esm_seq.get_pairwise_identity()[0][1:], \n",
    "                align_esm_seq_str.get_pairwise_identity()[0][1:], \n",
    "                align_pmpnn_100.get_pairwise_identity()[0][1:]],\n",
    "               labels=['esm3_wrt_original (cond seq)', 'esm3_wrt_original (cond seq + str)', 'pmpnn_wrt_original'])\n",
    "ax.set_ylabel('seq_id')\n",
    "ax.tick_params(axis='x', labelrotation=90)"
   ]
  },
  {
   "cell_type": "code",
   "execution_count": 18,
   "metadata": {},
   "outputs": [
    {
     "data": {
      "image/png": "[encoded data removed]",
      "text/plain": [
       "<Figure size 640x480 with 1 Axes>"
      ]
     },
     "metadata": {},
     "output_type": "display_data"
    }
   ],
   "source": [
    "fig, ax = plt.subplots()\n",
    "_ = ax.boxplot([align_esm_seq.get_pairwise_identity()[0][1:], align_esm_seq.get_pairwise_identity()[1:,1:][np.triu_indices(align_esm_seq.get_num_sequences()-2, k = 1)], \n",
    "                align_esm_seq_str.get_pairwise_identity()[0][1:], align_esm_seq_str.get_pairwise_identity()[1:,1:][np.triu_indices(align_esm_seq_str.get_num_sequences()-2, k = 1)], \n",
    "                align_pmpnn_100.get_pairwise_identity()[0][1:], align_pmpnn_100.get_pairwise_identity()[1:,1:][np.triu_indices(align_pmpnn_100.get_num_sequences()-2, k = 1)]],\n",
    "               labels=['esm3_wrt_original (cond seq)', 'esm3_wrt_generated (cond seq)', 'esm3_wrt_original (cond seq + str)', 'esm3_wrt_generated (cond seq + str)', 'pmpnn_wrt_original', 'pmpnn_wrt_generated'])\n",
    "ax.set_ylabel('seq_id')\n",
    "ax.tick_params(axis='x', labelrotation=90)"
   ]
  },
  {
   "cell_type": "code",
   "execution_count": 19,
   "metadata": {},
   "outputs": [
    {
     "name": "stdout",
     "output_type": "stream",
     "text": [
      "Alignment with 101 rows and 67 columns\n",
      "--LATIWRELLNVEQ--VGRHDSFFALGGHSLLAVRMIERLRRI...Q-- GxpS_ATC\n",
      "-VLAAIWADVLGIEQ--VGIHDNFFELGGDSLLATQVIARVRQA...QVI GxpS_ATC-temp_0.5-gen_0\n",
      "-RLAEIWQELLGVE--RIGIHDNFFELGGHSILAIQLVARIRQT...ARL GxpS_ATC-temp_0.5-gen_1\n",
      "QALADIWSEVLGIE--RIGIHDNFFDLGGHSILAIQLVSRIRAR...QRV GxpS_ATC-temp_0.5-gen_2\n",
      "-LLAGIWCEVLNVE--RVGRHDNFFELGGHSILAIQLISRIRTA...ARI GxpS_ATC-temp_0.5-gen_3\n",
      "EQLAAIWAELLRVE--RVGIHDNFFELGGHSILAIQVISRVRAT...ARL GxpS_ATC-temp_0.5-gen_4\n",
      "-TVAGIWAELLGLEQ--VGVHDNFFELGGDSILSIQLVARIREA...AE- GxpS_ATC-temp_0.5-gen_5\n",
      "-LLAGIWTEVLGLD--RIGIHDNFFELGGHSILAIRVTARIRQA...ARI GxpS_ATC-temp_0.5-gen_6\n",
      "--LTAIWVELLGLE--RVGVHDNFFELGGHSILAVQLVARVRET...ERL GxpS_ATC-temp_0.5-gen_7\n",
      "-VLAAVWQEILGLD--RIGIHDNFFELGGHSILAIQLVARIRST...ARI GxpS_ATC-temp_0.5-gen_8\n",
      "-VLAGIWAELLGLE--RVGIHDNFFELGGDSILSIRLVSRIRAA...ALI GxpS_ATC-temp_0.5-gen_9\n",
      "ETLVEIWRQVLGLD--RVGVHDNFFELGGDSIKAIQVIARVRTA...ARI GxpS_ATC-temp_0.5-gen_10\n",
      "-VLAEIWAELLGLE--RVGVHDNFFELGGHSILATQVLSRVRSA...ERI GxpS_ATC-temp_0.5-gen_11\n",
      "-TLAGIWAELLGVE--RVGVHDNFFELGGDSILAIQLISRVRQA...ARI GxpS_ATC-temp_0.5-gen_12\n",
      "-LLAQIWSEVLNIDP--IGIHDNFFELGGDSILAIQVVSRLRAT...ARL GxpS_ATC-temp_0.5-gen_13\n",
      "-TLAAIWQELLGLE--RVGVHDNFFDLGGHSILAVQLVSRIRTA...ARI GxpS_ATC-temp_0.5-gen_14\n",
      "ERLAQIWADLLSLEK--ISVYDNFFELGGHSILAIQLVARIRKA...A-- GxpS_ATC-temp_0.5-gen_15\n",
      "EQLAAIWAELLGVE--RVGVHDNFFELGGHSILSIQVMSRIRNT...ERV GxpS_ATC-temp_0.5-gen_16\n",
      "...\n",
      "QTLAAIWAEVLGVE--QIGVHDNFFELGGHSILAIRVISRIRTG...AQ- GxpS_ATC-temp_0.5-gen_99\n"
     ]
    }
   ],
   "source": [
    "align_esm_seq.show_alignment()"
   ]
  },
  {
   "cell_type": "code",
   "execution_count": 20,
   "metadata": {},
   "outputs": [
    {
     "name": "stdout",
     "output_type": "stream",
     "text": [
      "Alignment with 101 rows and 67 columns\n",
      "--LATIWRELLNVEQ--VGRHDSFFALGGHSLLAVRMIERLRRI...Q-- GxpS_ATC\n",
      "-LLAEIWQELLGVE--RVGRHDSFFELGGHSILATRMLNRLRKA...AAL GxpS_ATC-temp_0.5-gen_0\n",
      "-LLASIWCDLLQVE--RVGRHDNFFALGGHSLLAIKLLSRLREH...AAV GxpS_ATC-temp_0.5-gen_1\n",
      "-LLAGIWMELLNVEK--VGRHDNFFELGGHSLLAVRMLTRLRQH...TRL GxpS_ATC-temp_0.5-gen_2\n",
      "-LLAGIWQELLKVD--RVGRDDDFFALGGHSILAIQLLNRLREH...QRL GxpS_ATC-temp_0.5-gen_3\n",
      "--LAGIWQELLGVE--RVGRYDNFFELGGHSLLAIRLLARLKSQ...ERL GxpS_ATC-temp_0.5-gen_4\n",
      "QTLAGIWQELLGVE--RVGRHDNFFELGGHSLLAVRMLSRLQKQ...EAI GxpS_ATC-temp_0.5-gen_5\n",
      "QTLAGIWMELLGVE--RVGRHDSFFALGGHSLLATRLLARLREQ...ARL GxpS_ATC-temp_0.5-gen_6\n",
      "QTLAAIWQELLEVE--RVGRHDNFFDLGGHSILAIRLMARLREQ...ERL GxpS_ATC-temp_0.5-gen_7\n",
      "-LLAQVWQELLGVE--RVGRHDNFFALGGHSLLATQLLQRLRAQ...QAL GxpS_ATC-temp_0.5-gen_8\n",
      "--LAAIWQELLAVE--RVGRNDSFFELGGHSLLATQLLQRLRAQ...QRL GxpS_ATC-temp_0.5-gen_9\n",
      "-LLAGIWMDLLQVD--RVGRHDSFFELGGHSLLAVRLLGRLRQH...TRL GxpS_ATC-temp_0.5-gen_10\n",
      "-LLAQIWQELLGVE--RVGRTDNFFELGGHSLLAIRMIARLRAH...QRL GxpS_ATC-temp_0.5-gen_11\n",
      "-LLARIWQELLEVE--RVGRNDSFFELGGHSLLAVRLLARLREQ...GRI GxpS_ATC-temp_0.5-gen_12\n",
      "-LLAAIWQELLDVD--RVGRHDNFFELGGHSLLAVKLLGRLRQR...QRV GxpS_ATC-temp_0.5-gen_13\n",
      "-LLASIWMELLGVE--RVGRHDNFFELGGHSILATQMISRLRKH...QRL GxpS_ATC-temp_0.5-gen_14\n",
      "-LLAGIWQELLGVE--RVGRHDNFFELGGHSLLAVRMLARLRKH...ARL GxpS_ATC-temp_0.5-gen_15\n",
      "-LLAAIWMELLEVE--RVGRDDSFFALGGHSILAVRMLNRLRQH...QRL GxpS_ATC-temp_0.5-gen_16\n",
      "...\n",
      "-LLAAIWMELLGVE--RVGRDDNFFALGGHSLLAIQLLNRLRQH...TRL GxpS_ATC-temp_0.5-gen_99\n"
     ]
    }
   ],
   "source": [
    "align_esm_seq_str.show_alignment()"
   ]
  },
  {
   "cell_type": "code",
   "execution_count": 21,
   "metadata": {},
   "outputs": [
    {
     "name": "stdout",
     "output_type": "stream",
     "text": [
      "Alignment with 101 rows and 69 columns\n",
      "--LATIWRELLNV--EQ--VGRHDSFFALGGHSLLAVRMIERLR...Q-- GxpS_ATC\n",
      "--LAALLEDILGV--E--EVGARDRFFDLGGHSPLVIRLIGALE...ARL GxpS_ATC-v_48_020-temp_0.7-gen-122\n",
      "-LLASLLSELLDV--P--RVGLNDSFFALGGHSSKAVRLIEALH...K-- GxpS_ATC-v_48_002-temp_0.3-gen-112\n",
      "---ADLLRRLLGV--E--RVGANDSFLNLGGHSVKAIALMEALR...RRL GxpS_ATC-v_48_020-temp_0.7-gen-184\n",
      "-LLAALLERLLGV--P--RVGAGDSFFALGGDSRLVRKLIEELR...KLL GxpS_ATC-v_48_020-temp_0.3-gen-39\n",
      "-LLAGLLRELLDV--PV--VGANDSFFQLGGDSDLAVKLIEALH...K-- GxpS_ATC-v_48_002-temp_0.5-gen-30\n",
      "-LLAAILERLLGV--P--RVGAGDSFFALGGDSVRVTALRQALD...ARL GxpS_ATC-v_48_020-temp_0.5-gen-63\n",
      "-LLADLLRRILHV--PQ--VGANDRFFALGGESEKAVRLIHALR...KLL GxpS_ATC-v_48_010-temp_0.7-gen-1\n",
      "-LLAAIVRDLLNV--P--EVGATDSFFELGGHSHRAIAFIEALR...RLL GxpS_ATC-v_48_020-temp_0.7-gen-98\n",
      "-FLASLMQELLNV--D--EVGAVDTFFELGGDSSKAVRLIQALH...QQ- GxpS_ATC-v_48_002-temp_0.7-gen-55\n",
      "-LLAAIVCQILQV--P--RVGAHDSFFALGGDSLQCCRLIQQLR...ARL GxpS_ATC-v_48_020-temp_0.7-gen-76\n",
      "-FLARLMEDLLHV--P--RVGAADAFLELGGHSGKLNRLREALR...AHL GxpS_ATC-v_48_010-temp_0.7-gen-117\n",
      "-LLAEILAELLDV--P--RVGAGDGFFALGGESPKMIKLIEALR...EHL GxpS_ATC-v_48_010-temp_0.5-gen-138\n",
      "--LAGLWRDLLRV--P--EVGANDGFFRLGGHSELAIRLVEALQ...EQ- GxpS_ATC-v_48_002-temp_0.7-gen-83\n",
      "--LATHWKNLLDV--P--EVGANDSFFALGGESDKALKLIEALR...RHL GxpS_ATC-v_48_002-temp_0.7-gen-111\n",
      "-LLADILKELLEV--P--EVGANDSFFQLGGESNKALLLIEALH...KHL GxpS_ATC-v_48_002-temp_0.5-gen-39\n",
      "-LLAEHLADLLRV--P--RVGANDGFFALGGSSSLAVRLIERLH...RQ- GxpS_ATC-v_48_002-temp_0.7-gen-70\n",
      "---AKHMRHLLNV--P--RVGATDSFFQLGGHSTKALRLAEALR...KRL GxpS_ATC-v_48_002-temp_0.7-gen-77\n",
      "...\n",
      "--LARLLRELLDV--P--EVGANDSFFALGGDASLALRLIEALH...K-- GxpS_ATC-v_48_002-temp_0.2-gen-42\n"
     ]
    }
   ],
   "source": [
    "align_pmpnn_100.show_alignment()"
   ]
  },
  {
   "cell_type": "code",
   "execution_count": null,
   "metadata": {},
   "outputs": [],
   "source": []
  }
 ],
 "metadata": {
  "kernelspec": {
   "display_name": "workspace",
   "language": "python",
   "name": "python3"
  },
  "language_info": {
   "codemirror_mode": {
    "name": "ipython",
    "version": 3
   },
   "file_extension": ".py",
   "mimetype": "text/x-python",
   "name": "python",
   "nbconvert_exporter": "python",
   "pygments_lexer": "ipython3",
   "version": "3.10.13"
  }
 },
 "nbformat": 4,
 "nbformat_minor": 2
}
