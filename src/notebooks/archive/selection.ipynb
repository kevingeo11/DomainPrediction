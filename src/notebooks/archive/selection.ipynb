{
 "cells": [
  {
   "cell_type": "code",
   "execution_count": 1,
   "metadata": {},
   "outputs": [],
   "source": [
    "import re\n",
    "import os\n",
    "import subprocess\n",
    "from collections import defaultdict\n",
    "import matplotlib.pyplot as plt\n",
    "\n",
    "import numpy as np\n",
    "import pandas as pd\n",
    "\n",
    "from tqdm import tqdm"
   ]
  },
  {
   "cell_type": "code",
   "execution_count": 2,
   "metadata": {},
   "outputs": [],
   "source": [
    "from sklearn.preprocessing import StandardScaler\n",
    "from Bio import AlignIO"
   ]
  },
  {
   "cell_type": "code",
   "execution_count": 3,
   "metadata": {},
   "outputs": [],
   "source": [
    "hmm_path = '/nethome/kgeorge/workspace/DomainPrediction/hmm'\n",
    "data_path = '/nethome/kgeorge/workspace/DomainPrediction/Data'"
   ]
  },
  {
   "cell_type": "code",
   "execution_count": 4,
   "metadata": {},
   "outputs": [],
   "source": [
    "tm_path = './nethome/kgeorge/workspace/DomainPrediction/src/utils/TMalign'\n",
    "class TMalign():\n",
    "    def __init__(self, path) -> None:\n",
    "        self.tmalign = path\n",
    "\n",
    "    def run(self, prot_a, prot_b):\n",
    "        out = subprocess.check_output([self.tmalign, prot_a, prot_b])\n",
    "        data = str(out).split(\"\\\\n\")\n",
    "        for d in data:\n",
    "            x = re.sub(r\"\\s\\s+\", \" \", d).split(' ')\n",
    "            if x[0] == 'Aligned':\n",
    "                rmsd = float(x[4][:-1])\n",
    "                seq_id = float(x[6])\n",
    "            elif x[0] == 'TM-score=':\n",
    "                tm_score = float(x[1])\n",
    "                break\n",
    "\n",
    "        return {\n",
    "            'rmsd': rmsd,\n",
    "            'seq_id': seq_id,\n",
    "            'tm_score': tm_score\n",
    "        }"
   ]
  },
  {
   "cell_type": "code",
   "execution_count": 5,
   "metadata": {},
   "outputs": [],
   "source": [
    "class HmmerTools():\n",
    "    def __init__(self) -> None:\n",
    "        self.scaler = StandardScaler()\n",
    "\n",
    "    def hmmalign(self, hmm_path: str, fasta_file: str, \n",
    "                  outfile: str | None = None, \n",
    "                  trim: bool = False):\n",
    "        if outfile is None:\n",
    "            outfile = fasta_file.replace('.fasta', '.stockholm')\n",
    "\n",
    "        if trim:\n",
    "            with open(outfile, \"w\") as fout:\n",
    "                subprocess.run(['hmmalign', '--trim', hmm_path, fasta_file], stdout=fout)\n",
    "        else:\n",
    "            with open(outfile, \"w\") as fout:\n",
    "                subprocess.run(['hmmalign', hmm_path, fasta_file], stdout=fout)\n",
    "\n",
    "        print(f'alignment created: {outfile}')\n",
    "\n",
    "\n",
    "    def parse_hmmsearch_tblout(self, filename):\n",
    "        with open(filename) as fin:\n",
    "            tmp = []\n",
    "            for line in fin:\n",
    "                if not line.startswith('#'):\n",
    "                    tmp.append(line.strip().split()[:7])\n",
    "\n",
    "        df = pd.DataFrame(tmp, columns=['name', '-', 'domain', 'domain_id', 'Evalue', 'score', 'bias'])\n",
    "        df['Evalue'] = df['Evalue'].astype(float)\n",
    "        df['score'] = df['score'].astype(float)\n",
    "        df['bias'] = df['bias'].astype(float)\n",
    "\n",
    "        return df\n",
    "\n",
    "    def sort_by_Eval(self, df, top=None):\n",
    "        df_tmp = df[['name']].drop_duplicates().sort_values(by=['name']).reset_index(drop=True)\n",
    "        \n",
    "        for domain in df['domain'].unique():\n",
    "            print(f'domain {domain} {df[df[\"domain\"] == domain].shape[0]}')\n",
    "            df_tmp[domain] = df[df['domain'] == domain].sort_values(by=['name'])['Evalue'].to_numpy()\n",
    "\n",
    "        df_tmp['sum'] = df_tmp[df['domain'].unique()].sum(axis=1)\n",
    "\n",
    "        df_tmp['norm_sum'] = self.scaler.fit_transform(df_tmp[df['domain'].unique()]).sum(axis=1)\n",
    "\n",
    "        df_sorted = df_tmp.sort_values(by=['norm_sum'])\n",
    "        if top is None:\n",
    "            return df_sorted['name'].to_numpy()\n",
    "        else:\n",
    "            return df_sorted['name'].to_numpy()[:top]\n",
    "        \n",
    "    def sort_by_Eval_domain(self, df, domain, top=None):\n",
    "\n",
    "        df_tmp = df[df['domain'] == domain]\n",
    "        df_sorted = df_tmp.sort_values(by=['Evalue'])\n",
    "\n",
    "        if top is None:\n",
    "            return df_sorted['name'].to_numpy()\n",
    "        else:\n",
    "            return df_sorted['name'].to_numpy()[:top]"
   ]
  },
  {
   "cell_type": "code",
   "execution_count": 36,
   "metadata": {},
   "outputs": [],
   "source": [
    "class AlignTools():\n",
    "    def __init__(self, path: str) -> None:\n",
    "        self.align = AlignIO.read(path, \"stockholm\")\n",
    "    \n",
    "    def show_alignment(self):\n",
    "        print(self.align)\n",
    "\n",
    "    def get_alignment_length(self):\n",
    "        return self.align.get_alignment_length()\n",
    "    \n",
    "    def get_num_sequences(self):\n",
    "        return len(self.align)\n",
    "\n",
    "    def get_pairwise_identity(self):\n",
    "        pairwise_seqid = np.eye(self.get_num_sequences())\n",
    "\n",
    "        for i, record_1 in enumerate(self.align):\n",
    "            for j, record_2 in enumerate(self.align):\n",
    "                seq_id = 0\n",
    "                for s1, s2 in zip(record_1.seq, record_2.seq):\n",
    "                    if s1 != '-' and s2 != '-' and s1 != '.' and s2 != '.' and s1 == s2:\n",
    "                        seq_id += 1\n",
    "\n",
    "                pairwise_seqid[i,j] = seq_id/self.get_alignment_length()\n",
    "\n",
    "        return pairwise_seqid\n",
    "    \n",
    "    def get_pairwise_identity_(self):\n",
    "        pairwise_seqid = []\n",
    "\n",
    "        base_rec = self.align[0]\n",
    "        for i, record_1 in enumerate(self.align[1:]):\n",
    "            seq_id = 0\n",
    "            for s1, s2 in zip(record_1.seq, base_rec.seq):\n",
    "                if s1 != '-' and s2 != '-' and s1 != '.' and s2 != '.' and s1 == s2:\n",
    "                    seq_id += 1\n",
    "\n",
    "            pairwise_seqid.append(seq_id/self.get_alignment_length())\n",
    "\n",
    "        return np.array(pairwise_seqid)"
   ]
  },
  {
   "cell_type": "code",
   "execution_count": 7,
   "metadata": {},
   "outputs": [],
   "source": [
    "tmalign = TMalign(tm_path)\n",
    "hmmer = HmmerTools()"
   ]
  },
  {
   "cell_type": "code",
   "execution_count": 8,
   "metadata": {},
   "outputs": [
    {
     "name": "stdout",
     "output_type": "stream",
     "text": [
      "alignment created: /nethome/kgeorge/workspace/DomainPrediction/Data/esm_experiments/gen_1000/esm_inp_seq_1000.stockholm\n"
     ]
    }
   ],
   "source": [
    "pfam_T_hmm = '/nethome/kgeorge/workspace/DomainPrediction/hmm/PF00550_T.hmm'\n",
    "fasta_loc = os.path.join(data_path, 'esm_experiments/gen_1000/esm_inp_seq_1000.fasta')\n",
    "hmmer.hmmalign(hmm_path=pfam_T_hmm, fasta_file=fasta_loc, trim=True)"
   ]
  },
  {
   "cell_type": "code",
   "execution_count": 37,
   "metadata": {},
   "outputs": [],
   "source": [
    "align_esm_seq = AlignTools(os.path.join(data_path, 'esm_experiments/gen_1000/esm_inp_seq_1000.stockholm'))"
   ]
  },
  {
   "cell_type": "code",
   "execution_count": 38,
   "metadata": {},
   "outputs": [
    {
     "data": {
      "text/plain": [
       "2001"
      ]
     },
     "execution_count": 38,
     "metadata": {},
     "output_type": "execute_result"
    }
   ],
   "source": [
    "align_esm_seq.get_num_sequences()"
   ]
  },
  {
   "cell_type": "code",
   "execution_count": 39,
   "metadata": {},
   "outputs": [
    {
     "data": {
      "text/plain": [
       "array([0.38157895, 0.42105263, 0.39473684, ..., 0.38157895, 0.43421053,\n",
       "       0.35526316])"
      ]
     },
     "execution_count": 39,
     "metadata": {},
     "output_type": "execute_result"
    }
   ],
   "source": [
    "align_esm_seq.get_pairwise_identity_()"
   ]
  },
  {
   "cell_type": "code",
   "execution_count": 18,
   "metadata": {},
   "outputs": [],
   "source": [
    "# # wrt to original. original at 0 \n",
    "# align_esm_seq.get_pairwise_identity()[0][1:]"
   ]
  },
  {
   "cell_type": "code",
   "execution_count": 19,
   "metadata": {},
   "outputs": [],
   "source": [
    "# # all pairwise except original\n",
    "# align_esm_seq.get_pairwise_identity()[1:,1:][np.triu_indices(5, k = 1)]"
   ]
  },
  {
   "cell_type": "code",
   "execution_count": 40,
   "metadata": {},
   "outputs": [
    {
     "data": {
      "image/png": "[encoded data removed]",
      "text/plain": [
       "<Figure size 640x480 with 1 Axes>"
      ]
     },
     "metadata": {},
     "output_type": "display_data"
    }
   ],
   "source": [
    "fig, ax = plt.subplots()\n",
    "_ = ax.boxplot([align_esm_seq.get_pairwise_identity_()],\n",
    "               labels=['esm3_wrt_original (cond seq)'])\n",
    "ax.set_ylabel('seq_id')\n",
    "ax.tick_params(axis='x', labelrotation=90)"
   ]
  },
  {
   "cell_type": "code",
   "execution_count": 41,
   "metadata": {},
   "outputs": [
    {
     "name": "stdout",
     "output_type": "stream",
     "text": [
      "Alignment with 2001 rows and 76 columns\n",
      "--LATIWRELLN-V-EQ-------VGRHDSFFALGGHSLLAVRM...Q-- GxpS_ATC\n",
      "QALSEIWAELLG-L-E--R-----VGIHDNFFELGGHSILAIQA...ERL GxpS_ATC-temp_0.5-gen_0\n",
      "QALAGIWAEVLG-L-E--R-----VGIHDNFFELGGHSILAIQV...QRI GxpS_ATC-temp_0.5-gen_1\n",
      "-LLAEIWGEVLG-L-D--R-----IGLHDNFFDLGGHSILAIQV...SRI GxpS_ATC-temp_0.5-gen_2\n",
      "ERLAGIWADVLG-L-E--R-----VGIHDNFFDLGGHSLLAIRV...AQ- GxpS_ATC-temp_0.5-gen_3\n",
      "-VLAAIWAEMLG-L-E--R-----VGVHDNFFELGGHSILSIQL...GLI GxpS_ATC-temp_0.5-gen_4\n",
      "--LAGIWQDVLG-L-S--R-----IGRHDNFFELGGHSILAIQV...ERI GxpS_ATC-temp_0.5-gen_5\n",
      "-ALAAIWQEVLG-V-E--R-----IGIHDNFFELGGHSILAIQV...--- GxpS_ATC-temp_0.5-gen_6\n",
      "-VLAEIWREVLG-L-E--R-----IGVHDNFFELGGDSILAIQV...ARI GxpS_ATC-temp_0.5-gen_7\n",
      "-VLAAIWAELLG-I-E--R-----VGVHDNFFELGGHSILAVQL...ARI GxpS_ATC-temp_0.5-gen_8\n",
      "QQLADIWAELLG-L-E--R-----VGVHDNFFELGGHSILAIRL...AHI GxpS_ATC-temp_0.5-gen_9\n",
      "-TLAELWAELLG-V-E--R-----IGRHDNFFELGGDSILAIRI...SAI GxpS_ATC-temp_0.5-gen_10\n",
      "QALASIWAEVLG-V-E--R-----VGVHDNFFELGGHSILAIQV...ARL GxpS_ATC-temp_0.5-gen_11\n",
      "-TLADIWCELLK-L-E--R-----VGIHDNFFEIGGHSILSIQL...--- GxpS_ATC-temp_0.5-gen_12\n",
      "-LIAAIWSELLG-L-D--Q-----IGVHDNFFELGGHSILAIQV...ARL GxpS_ATC-temp_0.5-gen_13\n",
      "-VLADIWAELLG-V-E--R-----IGIHDNFFDLGGHSILAIQV...ARI GxpS_ATC-temp_0.5-gen_14\n",
      "-VLADIWQDVLG-L-D--R-----IGVHDNFFELGGHSLLAIRL...QRI GxpS_ATC-temp_0.5-gen_15\n",
      "ERLVAIWQELLG-L-E--R-----VGVHDNFFELGGDSILAIRL...ERI GxpS_ATC-temp_0.5-gen_16\n",
      "...\n",
      "--LAGIWSELLG-I-E--R-----VGIHDNFFELGGDSILSIQL...--- GxpS_ATC-temp_0.5-gen_1999\n"
     ]
    }
   ],
   "source": [
    "align_esm_seq.show_alignment()"
   ]
  },
  {
   "cell_type": "code",
   "execution_count": 22,
   "metadata": {},
   "outputs": [],
   "source": [
    "from Bio import SeqIO\n",
    "from Bio.Seq import Seq\n",
    "from Bio.SeqRecord import SeqRecord"
   ]
  },
  {
   "cell_type": "code",
   "execution_count": 56,
   "metadata": {},
   "outputs": [],
   "source": [
    "esm_fasta = SeqIO.parse('/nethome/kgeorge/workspace/DomainPrediction/Data/esm_experiments/gen_1000/esm_inp_seq_1000.fasta', 'fasta')\n",
    "seq_id = align_esm_seq.get_pairwise_identity_()"
   ]
  },
  {
   "cell_type": "code",
   "execution_count": 57,
   "metadata": {},
   "outputs": [],
   "source": [
    "combined_records = []\n",
    "T = [i for i in range(538,608)] ## 539-608\n",
    "for i, rec in enumerate(esm_fasta):\n",
    "    if rec.id != \"GxpS_ATC\":\n",
    "        # seq_rec = SeqRecord(Seq(''.join([str(rec.seq)[i] for i in T])), id=rec.id, name=rec.name, description=rec.description)\n",
    "        seq_rec = rec\n",
    "        combined_records.append((seq_rec, seq_id[i-1]))"
   ]
  },
  {
   "cell_type": "code",
   "execution_count": 58,
   "metadata": {},
   "outputs": [
    {
     "data": {
      "text/plain": [
       "SeqRecord(seq=Seq('MSTRISEVTLLPEAERRQILVDWNDTAASYPRDVCVHQLFEQQIEKTPDAIAVI...PRP'), id='GxpS_ATC-temp_0.5-gen_1999', name='GxpS_ATC-temp_0.5-gen_1999', description='GxpS_ATC-temp_0.5-gen_1999', dbxrefs=[])"
      ]
     },
     "execution_count": 58,
     "metadata": {},
     "output_type": "execute_result"
    }
   ],
   "source": [
    "rec"
   ]
  },
  {
   "cell_type": "code",
   "execution_count": 59,
   "metadata": {},
   "outputs": [],
   "source": [
    "sorted_list = sorted(combined_records, key=lambda k: k[1], reverse=True)"
   ]
  },
  {
   "cell_type": "code",
   "execution_count": 62,
   "metadata": {},
   "outputs": [],
   "source": [
    "with open('/nethome/kgeorge/workspace/DomainPrediction/Data/esm_experiments/gen_1000/esm_top_30.fasta', 'w') as file:\n",
    "    SeqIO.write([rec[0] for rec in sorted_list[:30]], file, \"fasta\")"
   ]
  },
  {
   "cell_type": "code",
   "execution_count": null,
   "metadata": {},
   "outputs": [],
   "source": []
  }
 ],
 "metadata": {
  "kernelspec": {
   "display_name": "workspace",
   "language": "python",
   "name": "python3"
  },
  "language_info": {
   "codemirror_mode": {
    "name": "ipython",
    "version": 3
   },
   "file_extension": ".py",
   "mimetype": "text/x-python",
   "name": "python",
   "nbconvert_exporter": "python",
   "pygments_lexer": "ipython3",
   "version": "3.10.13"
  }
 },
 "nbformat": 4,
 "nbformat_minor": 2
}
