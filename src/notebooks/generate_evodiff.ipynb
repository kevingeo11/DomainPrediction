{
 "cells": [
  {
   "cell_type": "code",
   "execution_count": 1,
   "metadata": {},
   "outputs": [],
   "source": [
    "import sys\n",
    "sys.path.append('..')"
   ]
  },
  {
   "cell_type": "code",
   "execution_count": 2,
   "metadata": {},
   "outputs": [
    {
     "name": "stderr",
     "output_type": "stream",
     "text": [
      "/nethome/kgeorge/miniconda3/envs/workspace-esm/lib/python3.10/site-packages/torch_geometric/typing.py:54: UserWarning: An issue occurred while importing 'pyg-lib'. Disabling its usage. Stacktrace: /lib/x86_64-linux-gnu/libm.so.6: version `GLIBC_2.29' not found (required by /nethome/kgeorge/miniconda3/envs/workspace-esm/lib/python3.10/site-packages/libpyg.so)\n",
      "  warnings.warn(f\"An issue occurred while importing 'pyg-lib'. \"\n",
      "/nethome/kgeorge/miniconda3/envs/workspace-esm/lib/python3.10/site-packages/torch_geometric/typing.py:110: UserWarning: An issue occurred while importing 'torch-sparse'. Disabling its usage. Stacktrace: /lib/x86_64-linux-gnu/libm.so.6: version `GLIBC_2.29' not found (required by /nethome/kgeorge/miniconda3/envs/workspace-esm/lib/python3.10/site-packages/libpyg.so)\n",
      "  warnings.warn(f\"An issue occurred while importing 'torch-sparse'. \"\n"
     ]
    }
   ],
   "source": [
    "import os\n",
    "import numpy as np\n",
    "import matplotlib.pyplot as plt\n",
    "import torch\n",
    "\n",
    "from evodiff.pretrained import OA_DM_38M, OA_DM_640M\n",
    "from evodiff.generate import generate_oaardm\n",
    "from evodiff.conditional_generation import inpaint_simple \n",
    "\n",
    "torch.hub.set_dir('/data/users/kgeorge/workspace/evodiff')"
   ]
  },
  {
   "cell_type": "code",
   "execution_count": 3,
   "metadata": {},
   "outputs": [],
   "source": [
    "from DomainPrediction import BaseProtein\n",
    "from DomainPrediction.eval import metrics\n",
    "from DomainPrediction.utils import helper\n",
    "from DomainPrediction.utils.constants import *"
   ]
  },
  {
   "cell_type": "code",
   "execution_count": 4,
   "metadata": {},
   "outputs": [],
   "source": [
    "protein = BaseProtein(file='../../Data/gxps/gxps_ATC_hm_6mfy.pdb')"
   ]
  },
  {
   "cell_type": "code",
   "execution_count": 5,
   "metadata": {},
   "outputs": [
    {
     "data": {
      "text/plain": [
       "'GEIEIALATIWRELLNVEQVGRHDSFFALGGHSLLAVRMIERLRRIGLGLSVQTLFQHPTLSVLAQSLVP'"
      ]
     },
     "execution_count": 5,
     "metadata": {},
     "output_type": "execute_result"
    }
   ],
   "source": [
    "protein.get_residues(T_gxps_atc) ## T domain"
   ]
  },
  {
   "cell_type": "code",
   "execution_count": 6,
   "metadata": {},
   "outputs": [
    {
     "data": {
      "text/plain": [
       "(489, 604)"
      ]
     },
     "execution_count": 6,
     "metadata": {},
     "output_type": "execute_result"
    }
   ],
   "source": [
    "start_idx, end_idx = A_gxps_atc[-1]+1, C_gxps_atc[0]\n",
    "start_idx, end_idx"
   ]
  },
  {
   "cell_type": "code",
   "execution_count": 7,
   "metadata": {},
   "outputs": [],
   "source": [
    "idr_length = end_idx - start_idx\n",
    "masked_sequence = protein.sequence[0:start_idx] + '#' * idr_length + protein.sequence[end_idx:]"
   ]
  },
  {
   "cell_type": "code",
   "execution_count": 8,
   "metadata": {},
   "outputs": [
    {
     "data": {
      "text/plain": [
       "True"
      ]
     },
     "execution_count": 8,
     "metadata": {},
     "output_type": "execute_result"
    }
   ],
   "source": [
    "masked_sequence.count('#') == 115"
   ]
  },
  {
   "cell_type": "code",
   "execution_count": 9,
   "metadata": {},
   "outputs": [
    {
     "data": {
      "text/plain": [
       "'VCVHQLFEQQIEKTPDAIAVIYENQTLSYAELNARANRLAHQLIALGVAPDQRVAICVTRSLARIIGLLAVLKAGGAYVPLDPAYPGERLAYMLTDATPVILMADNVGRAALSEDILATLTVLDPNTLLEQPDHNPQVSGLTPQHLAYVIYTSGSTGRPKGVMIEHRSVVNLTLTQITQFDVCATSRMLQFASFGFDASVWEIMMALSCGAMLVIPTETVRQDPQRLWRYLEEQAITHACLTPAMFHDGTDLPAIAIKPTLIFAGEAPSPALFQALCSRADLFNAYGPTEITVCATTWDCPADYTGGVIPIGSPVANKRLYLLDEHRQPVPLGTVGELYIGGVGVARGYLNRPELTAERFLNDPFSDETNARMYRAGDLARYLPDGNLVFVGRNDQQVKIRGFRIEPGEIEARLVEHSEVSEALVLALGDGQDKRLVAYVVALADDGLATKLREHLSDILPDYMIPAAFVRLDAFPLTPNGKLDRRSLP###################################################################################################################QAEIDRIVEQVPGGIANIQDIYALSPLQDGILFHHLLANEGDPYLLITQQAFADRPLLNRYLAAVQQVVDRHDILRTAFIWEGLSVPAQVICRQAPLSVTELTLNPADGAISNQLAQRFDPRRHRIDLNQAPLLRFVVAQESDGRWILLQLLHHLIGDHTTLEVMNSEVQACLLGQMDSLPAPVPFRHLVAQARQGVSQAEHTRFFTDMLAEVDEPTLLFGLAEAHHDGSQVTESHRMLTAGLNERLRGQARRLGVSVAALCHLAWAQVLSRTSGQTQVVFGTVLFGRMQAGEGSDSGMGLFINTLPLRLDIDNTPVRDSVRAAHSRLAGLLEHEHASLALAQRCSGVESGTPLFNALLNYRHNTQPVTPDEIVSGIEFLGAQERTNYPFVLSVEDSGSDLGLTAQVVQPFDPERICGYMQQALASLVQA'"
      ]
     },
     "execution_count": 9,
     "metadata": {},
     "output_type": "execute_result"
    }
   ],
   "source": [
    "## A and C domains match\n",
    "masked_sequence"
   ]
  },
  {
   "cell_type": "code",
   "execution_count": 10,
   "metadata": {},
   "outputs": [],
   "source": [
    "# checkpoint = OA_DM_38M()\n",
    "checkpoint = OA_DM_640M()\n",
    "model, collater, tokenizer, scheme = checkpoint"
   ]
  },
  {
   "cell_type": "code",
   "execution_count": 11,
   "metadata": {},
   "outputs": [],
   "source": [
    "model = model.cuda()"
   ]
  },
  {
   "cell_type": "code",
   "execution_count": 12,
   "metadata": {},
   "outputs": [
    {
     "name": "stderr",
     "output_type": "stream",
     "text": [
      "100%|██████████| 115/115 [00:34<00:00,  3.38it/s]\n",
      "100%|██████████| 115/115 [00:34<00:00,  3.35it/s]\n",
      "100%|██████████| 115/115 [00:34<00:00,  3.31it/s]\n",
      "100%|██████████| 115/115 [00:34<00:00,  3.29it/s]\n",
      "100%|██████████| 115/115 [00:35<00:00,  3.27it/s]\n",
      "100%|██████████| 115/115 [00:35<00:00,  3.26it/s]\n",
      "100%|██████████| 115/115 [00:35<00:00,  3.26it/s]\n",
      "100%|██████████| 115/115 [00:35<00:00,  3.25it/s]\n",
      "100%|██████████| 115/115 [00:35<00:00,  3.25it/s]\n",
      "100%|██████████| 115/115 [00:35<00:00,  3.25it/s]\n",
      "100%|██████████| 115/115 [00:35<00:00,  3.25it/s]\n",
      "100%|██████████| 115/115 [00:35<00:00,  3.24it/s]\n",
      "100%|██████████| 115/115 [00:35<00:00,  3.25it/s]\n",
      "100%|██████████| 115/115 [00:35<00:00,  3.24it/s]\n",
      "100%|██████████| 115/115 [00:35<00:00,  3.24it/s]\n",
      "100%|██████████| 115/115 [00:35<00:00,  3.24it/s]\n",
      "100%|██████████| 115/115 [00:35<00:00,  3.24it/s]\n",
      "100%|██████████| 115/115 [00:35<00:00,  3.23it/s]\n",
      "100%|██████████| 115/115 [00:35<00:00,  3.23it/s]\n",
      "100%|██████████| 115/115 [00:35<00:00,  3.23it/s]\n",
      "100%|██████████| 115/115 [00:35<00:00,  3.23it/s]\n",
      "100%|██████████| 115/115 [00:35<00:00,  3.23it/s]\n",
      "100%|██████████| 115/115 [00:35<00:00,  3.23it/s]\n",
      "100%|██████████| 115/115 [00:35<00:00,  3.23it/s]\n",
      "100%|██████████| 115/115 [00:35<00:00,  3.23it/s]\n",
      "100%|██████████| 115/115 [00:35<00:00,  3.23it/s]\n",
      "100%|██████████| 115/115 [00:35<00:00,  3.23it/s]\n",
      "100%|██████████| 115/115 [00:35<00:00,  3.23it/s]\n",
      "100%|██████████| 115/115 [00:35<00:00,  3.23it/s]\n",
      "100%|██████████| 115/115 [00:35<00:00,  3.23it/s]\n",
      "100%|██████████| 115/115 [00:35<00:00,  3.23it/s]\n",
      "100%|██████████| 115/115 [00:35<00:00,  3.23it/s]\n",
      "100%|██████████| 115/115 [00:35<00:00,  3.22it/s]\n",
      "100%|██████████| 115/115 [00:35<00:00,  3.23it/s]\n",
      "100%|██████████| 115/115 [00:35<00:00,  3.23it/s]\n",
      "100%|██████████| 115/115 [00:35<00:00,  3.22it/s]\n",
      "100%|██████████| 115/115 [00:35<00:00,  3.22it/s]\n",
      "100%|██████████| 115/115 [00:35<00:00,  3.22it/s]\n",
      "100%|██████████| 115/115 [00:35<00:00,  3.23it/s]\n",
      "100%|██████████| 115/115 [00:35<00:00,  3.22it/s]\n",
      "100%|██████████| 115/115 [00:35<00:00,  3.22it/s]\n",
      "100%|██████████| 115/115 [00:35<00:00,  3.22it/s]\n",
      "100%|██████████| 115/115 [00:35<00:00,  3.22it/s]\n",
      "100%|██████████| 115/115 [00:35<00:00,  3.22it/s]\n",
      "100%|██████████| 115/115 [00:35<00:00,  3.22it/s]\n",
      "100%|██████████| 115/115 [00:35<00:00,  3.22it/s]\n",
      "100%|██████████| 115/115 [00:35<00:00,  3.22it/s]\n",
      "100%|██████████| 115/115 [00:35<00:00,  3.22it/s]\n",
      "100%|██████████| 115/115 [00:35<00:00,  3.22it/s]\n",
      "100%|██████████| 115/115 [00:35<00:00,  3.22it/s]\n",
      "100%|██████████| 115/115 [00:35<00:00,  3.22it/s]\n",
      "100%|██████████| 115/115 [00:35<00:00,  3.22it/s]\n",
      "100%|██████████| 115/115 [00:35<00:00,  3.22it/s]\n",
      "100%|██████████| 115/115 [00:35<00:00,  3.22it/s]\n",
      "100%|██████████| 115/115 [00:35<00:00,  3.22it/s]\n",
      "100%|██████████| 115/115 [00:35<00:00,  3.22it/s]\n",
      "100%|██████████| 115/115 [00:35<00:00,  3.22it/s]\n",
      "100%|██████████| 115/115 [00:35<00:00,  3.22it/s]\n",
      "100%|██████████| 115/115 [00:35<00:00,  3.22it/s]\n",
      "100%|██████████| 115/115 [00:35<00:00,  3.22it/s]\n",
      "100%|██████████| 115/115 [00:35<00:00,  3.22it/s]\n",
      "100%|██████████| 115/115 [00:35<00:00,  3.22it/s]\n",
      "100%|██████████| 115/115 [00:35<00:00,  3.22it/s]\n",
      "100%|██████████| 115/115 [00:35<00:00,  3.22it/s]\n",
      " 63%|██████▎   | 72/115 [00:22<00:13,  3.22it/s]"
     ]
    }
   ],
   "source": [
    "sequence = protein.sequence\n",
    "start_idx, end_idx = A_gxps_atc[-1]+1, C_gxps_atc[0]\n",
    "\n",
    "fasta_file = '../../Data/evodiff_experiments/mi_exp/evodiff_1000.fasta'\n",
    "for i in range(1000):\n",
    "    seq_dict = {}\n",
    "    sample, entire_sequence, generated_idr = inpaint_simple(model, sequence, start_idx, end_idx, tokenizer=tokenizer, device='cuda')\n",
    "    id = f'gxps_ATC_evodiff_gen_{i}'\n",
    "    seq_dict[id] = entire_sequence\n",
    "\n",
    "    helper.create_fasta(seq_dict, fasta_file, append=True)\n"
   ]
  },
  {
   "cell_type": "code",
   "execution_count": null,
   "metadata": {},
   "outputs": [],
   "source": []
  }
 ],
 "metadata": {
  "kernelspec": {
   "display_name": "workspace-esm",
   "language": "python",
   "name": "python3"
  },
  "language_info": {
   "codemirror_mode": {
    "name": "ipython",
    "version": 3
   },
   "file_extension": ".py",
   "mimetype": "text/x-python",
   "name": "python",
   "nbconvert_exporter": "python",
   "pygments_lexer": "ipython3",
   "version": "3.10.13"
  }
 },
 "nbformat": 4,
 "nbformat_minor": 2
}
