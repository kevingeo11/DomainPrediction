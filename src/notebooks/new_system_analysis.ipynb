{
 "cells": [
  {
   "cell_type": "code",
   "execution_count": null,
   "metadata": {},
   "outputs": [],
   "source": [
    "import sys\n",
    "sys.path.append('..')"
   ]
  },
  {
   "cell_type": "code",
   "execution_count": null,
   "metadata": {},
   "outputs": [],
   "source": [
    "import os\n",
    "from tqdm import tqdm\n",
    "import random\n",
    "import matplotlib.pyplot as plt\n",
    "import numpy as np\n",
    "import pandas as pd"
   ]
  },
  {
   "cell_type": "code",
   "execution_count": null,
   "metadata": {},
   "outputs": [],
   "source": [
    "from sklearn.metrics import mean_squared_error\n",
    "from scipy import stats"
   ]
  },
  {
   "cell_type": "code",
   "execution_count": null,
   "metadata": {},
   "outputs": [],
   "source": [
    "from DomainPrediction.utils import helper"
   ]
  },
  {
   "cell_type": "code",
   "execution_count": null,
   "metadata": {},
   "outputs": [],
   "source": [
    "sys.path.append('../../esm')\n",
    "from DomainPrediction.esm.esm3 import ESM3LM\n",
    "from DomainPrediction.esm.esmc import ESMCLM"
   ]
  },
  {
   "cell_type": "code",
   "execution_count": null,
   "metadata": {},
   "outputs": [],
   "source": []
  },
  {
   "cell_type": "markdown",
   "metadata": {},
   "source": [
    "### Load and Verify Generations"
   ]
  },
  {
   "cell_type": "code",
   "execution_count": null,
   "metadata": {},
   "outputs": [],
   "source": [
    "data_path = '/nethome/kgeorge/workspace/DomainPrediction/Data/new_system'"
   ]
  },
  {
   "cell_type": "code",
   "execution_count": null,
   "metadata": {},
   "outputs": [],
   "source": [
    "fasta_PSG = os.path.join(data_path, 'PSG_KG.fasta')\n",
    "fasta_pCK = os.path.join(data_path, 'pCK_KG.fasta')\n",
    "\n",
    "pCK_base_seq = helper.read_fasta(fasta_pCK, mode='str')[0]\n",
    "PSG_base_seq = helper.read_fasta(fasta_PSG, mode='str')[0]"
   ]
  },
  {
   "cell_type": "code",
   "execution_count": null,
   "metadata": {},
   "outputs": [],
   "source": [
    "PSG_annotations = {'A': [i for i in range(0, 954)], \n",
    "                   'T': [i for i in range(968, 1039)], \n",
    "                   'C': [i for i in range(1057, 1489)]}\n",
    "\n",
    "pCK_star_annotations = {'A': [i for i in range(0, 485)], \n",
    "                        'T': [i for i in range(485, 610)], \n",
    "                        'C': [i for i in range(610, 1017)]}"
   ]
  },
  {
   "cell_type": "code",
   "execution_count": null,
   "metadata": {},
   "outputs": [],
   "source": [
    "fasta_files_pcK = ['pCK_KG_esm3_str_1000.fasta', 'pCK_KG_evodiff_1000.fasta']\n",
    "fasta_files_PSG = ['PSG_KG_esm3_str_1000.fasta', 'PSG_KG_evodiff_1000.fasta']\n",
    "\n",
    "def create_df(fasta_files: list, annotations: dict, wt_seq: str):\n",
    "\n",
    "    def _extract_seq(seq, mask):\n",
    "        return ''.join([seq[i] for i in range(len(seq)) if i in mask])\n",
    "    \n",
    "    gen_list = []\n",
    "    for _name in fasta_files:\n",
    "        _fasta = os.path.join(data_path, _name)\n",
    "        gen_fasta = helper.read_fasta(_fasta)\n",
    "\n",
    "        for rec in gen_fasta:\n",
    "            gen_list.append({\n",
    "                'name': rec.id,\n",
    "                'full_seq': str(rec.seq),\n",
    "                'masked_seq': ''.join([str(rec.seq)[i] for i in range(len(str(rec.seq))) if i not in annotations['A']+annotations['C']]),\n",
    "            })\n",
    "\n",
    "            assert _extract_seq(str(rec.seq), annotations['A']) == _extract_seq(wt_seq, annotations['A'])\n",
    "            assert _extract_seq(str(rec.seq), annotations['C']) == _extract_seq(wt_seq, annotations['C'])\n",
    "    \n",
    "    return pd.DataFrame(gen_list)\n",
    "\n",
    "df_pCK = create_df(fasta_files_pcK, pCK_star_annotations, pCK_base_seq)\n",
    "df_PSG = create_df(fasta_files_PSG, PSG_annotations, PSG_base_seq)"
   ]
  },
  {
   "cell_type": "code",
   "execution_count": null,
   "metadata": {},
   "outputs": [],
   "source": [
    "assert (df_PSG['masked_seq'].apply(len) == 103).all()\n",
    "assert (df_pCK['masked_seq'].apply(len) == 125).all()\n",
    "\n",
    "assert df_PSG.shape[0] == 2000 == df_pCK.shape[0]"
   ]
  },
  {
   "cell_type": "code",
   "execution_count": null,
   "metadata": {},
   "outputs": [],
   "source": [
    "df_pCK.head()"
   ]
  },
  {
   "cell_type": "code",
   "execution_count": null,
   "metadata": {},
   "outputs": [],
   "source": [
    "df_PSG.head()"
   ]
  },
  {
   "cell_type": "code",
   "execution_count": null,
   "metadata": {},
   "outputs": [],
   "source": [
    "PSG_masked_WT = ''.join([PSG_base_seq[i] for i in range(len(PSG_base_seq)) if i not in PSG_annotations['A']+PSG_annotations['C']])\n",
    "assert len(PSG_masked_WT) == 103\n",
    "\n",
    "pCK_masked_WT = ''.join([pCK_base_seq[i] for i in range(len(pCK_base_seq)) if i not in pCK_star_annotations['A']+pCK_star_annotations['C']])\n",
    "pCK_masked_anchor = df_pCK['masked_seq'][580] ## anchor sequence\n",
    "assert len(pCK_masked_WT) == 125 == len(pCK_masked_anchor)\n",
    "\n",
    "PSG_full_WT = PSG_base_seq\n",
    "pCK_full_WT = pCK_base_seq\n",
    "pCK_full_anchor = df_pCK['full_seq'][580] ## anchor sequence"
   ]
  },
  {
   "cell_type": "code",
   "execution_count": null,
   "metadata": {},
   "outputs": [],
   "source": [
    "def hamming_distance(seq1, seq2):\n",
    "    # Ensure the sequences are of the same length\n",
    "    if len(seq1) != len(seq2):\n",
    "        raise ValueError(\"Sequences must be of equal length to compute Hamming distance.\")\n",
    "    \n",
    "    # Count differences\n",
    "    return sum(c1 != c2 for c1, c2 in zip(seq1, seq2))\n",
    "\n",
    "df_PSG['n_mut'] = df_PSG['masked_seq'].apply(lambda x: hamming_distance(x, PSG_masked_WT))\n",
    "df_pCK['n_mut'] = df_pCK['masked_seq'].apply(lambda x: hamming_distance(x, pCK_masked_WT))\n",
    "df_pCK['n_mut_anchor'] = df_pCK['masked_seq'].apply(lambda x: hamming_distance(x, pCK_masked_anchor))"
   ]
  },
  {
   "cell_type": "code",
   "execution_count": null,
   "metadata": {},
   "outputs": [],
   "source": [
    "assert (df_PSG['name'].str.contains('esm3')).sum() == 1000\n",
    "assert (df_PSG['name'].str.contains('evodiff')).sum() == 1000\n",
    "assert (df_pCK['name'].str.contains('esm3')).sum() == 1000\n",
    "assert (df_pCK['name'].str.contains('evodiff')).sum() == 1000\n",
    "\n",
    "fig, ax = plt.subplots(1, 3, figsize=(10, 3))\n",
    "\n",
    "ax[0].hist(df_PSG.loc[(df_PSG['name'].str.contains('esm3')), 'n_mut'], bins=20, label='esm3', alpha=0.5)\n",
    "ax[0].hist(df_PSG.loc[(df_PSG['name'].str.contains('evodiff')), 'n_mut'], bins=20, label='evodiff', alpha=0.5)\n",
    "ax[0].set_title('PSG')\n",
    "\n",
    "ax[1].hist(df_pCK.loc[(df_pCK['name'].str.contains('esm3')), 'n_mut'], bins=20, label='esm3', alpha=0.5)\n",
    "ax[1].hist(df_pCK.loc[(df_pCK['name'].str.contains('evodiff')), 'n_mut'], bins=20, label='evodiff', alpha=0.5)\n",
    "ax[1].set_title('pCK')\n",
    "\n",
    "ax[2].hist(df_pCK.loc[(df_pCK['name'].str.contains('esm3')), 'n_mut_anchor'], bins=20, label='esm3', alpha=0.5)\n",
    "ax[2].hist(df_pCK.loc[(df_pCK['name'].str.contains('evodiff')), 'n_mut_anchor'], bins=20, label='evodiff', alpha=0.5)\n",
    "ax[2].set_title('pCK anchor')\n",
    "\n",
    "plt.legend()\n",
    "plt.show()"
   ]
  },
  {
   "cell_type": "code",
   "execution_count": null,
   "metadata": {},
   "outputs": [],
   "source": []
  },
  {
   "cell_type": "markdown",
   "metadata": {},
   "source": [
    "### Predictiing Zero-shot fitness values"
   ]
  },
  {
   "cell_type": "markdown",
   "metadata": {},
   "source": [
    "#### PSG"
   ]
  },
  {
   "cell_type": "code",
   "execution_count": null,
   "metadata": {},
   "outputs": [],
   "source": [
    "esmc = ESMCLM(name='esmc_600m', device='gpu')\n",
    "esm3 = ESM3LM(device='gpu')"
   ]
  },
  {
   "cell_type": "code",
   "execution_count": null,
   "metadata": {},
   "outputs": [],
   "source": [
    "y_pred = []\n",
    "for i, row in tqdm(df_PSG.iterrows()):\n",
    "\n",
    "    masked_sequence = row['masked_seq']\n",
    "    \n",
    "    esmc_score_wt_marginal, n_muts = esmc.get_wildtype_marginal(masked_sequence, PSG_masked_WT)\n",
    "    assert n_muts == row['n_mut']\n",
    "    esmc_score_masked_marginal, n_muts = esmc.get_masked_marginal(masked_sequence, PSG_masked_WT)\n",
    "    assert n_muts == row['n_mut']\n",
    "    esmc_score_pll = esmc.pseudolikelihood(masked_sequence)[0]\n",
    "\n",
    "    esm3_score_wt_marginal, n_muts = esm3.get_wildtype_marginal(masked_sequence, PSG_masked_WT)\n",
    "    assert n_muts == row['n_mut']\n",
    "    esm3_score_masked_marginal, n_muts = esm3.get_masked_marginal(masked_sequence, PSG_masked_WT)\n",
    "    assert n_muts == row['n_mut']\n",
    "    esm3_score_pll = esm3.pseudolikelihood(masked_sequence)[0]\n",
    "    \n",
    "\n",
    "    full_sequence = row['full_seq']\n",
    "    \n",
    "    esmc_full_score_wt_marginal, n_muts = esmc.get_wildtype_marginal(full_sequence, PSG_full_WT)\n",
    "    assert n_muts == row['n_mut']\n",
    "    esmc_full_score_masked_marginal, n_muts = esmc.get_masked_marginal(full_sequence, PSG_full_WT)\n",
    "    assert n_muts == row['n_mut']\n",
    "\n",
    "    esm3_full_score_wt_marginal, n_muts = esm3.get_wildtype_marginal(full_sequence, PSG_full_WT)\n",
    "    assert n_muts == row['n_mut']\n",
    "    esm3_full_score_masked_marginal, n_muts = esm3.get_masked_marginal(full_sequence, PSG_full_WT)\n",
    "    assert n_muts == row['n_mut']\n",
    "\n",
    "    y_pred.append({\n",
    "        'esmc_wt_marginal': esmc_score_wt_marginal,\n",
    "        'esmc_masked_marginal': esmc_score_masked_marginal,\n",
    "        'esmc_pll': esmc_score_pll,\n",
    "        \n",
    "        'esm3_wt_marginal': esm3_score_wt_marginal,\n",
    "        'esm3_masked_marginal': esm3_score_masked_marginal,\n",
    "        'esm3_pll': esm3_score_pll,\n",
    "\n",
    "        'esmc_full_wt_marginal': esmc_full_score_wt_marginal,\n",
    "        'esmc_full_masked_marginal': esmc_full_score_masked_marginal,\n",
    "\n",
    "        'esm3_full_wt_marginal': esm3_full_score_wt_marginal,\n",
    "        'esm3_full_masked_marginal': esm3_full_score_masked_marginal,\n",
    "    })"
   ]
  },
  {
   "cell_type": "code",
   "execution_count": null,
   "metadata": {},
   "outputs": [],
   "source": [
    "df_pred = pd.DataFrame(y_pred)"
   ]
  },
  {
   "cell_type": "code",
   "execution_count": null,
   "metadata": {},
   "outputs": [],
   "source": [
    "df_pred.head()"
   ]
  },
  {
   "cell_type": "code",
   "execution_count": null,
   "metadata": {},
   "outputs": [],
   "source": [
    "df_PSG = pd.concat([df_PSG, df_pred], axis=1)"
   ]
  },
  {
   "cell_type": "code",
   "execution_count": null,
   "metadata": {},
   "outputs": [],
   "source": [
    "df_PSG.to_csv(os.path.join(data_path, 'PSG_KG_results.csv'), index=False)"
   ]
  },
  {
   "cell_type": "code",
   "execution_count": null,
   "metadata": {},
   "outputs": [],
   "source": []
  },
  {
   "cell_type": "markdown",
   "metadata": {},
   "source": [
    "#### pCK for given WT"
   ]
  },
  {
   "cell_type": "code",
   "execution_count": null,
   "metadata": {},
   "outputs": [],
   "source": [
    "esmc = ESMCLM(name='esmc_600m', device='gpu')\n",
    "esm3 = ESM3LM(device='gpu')"
   ]
  },
  {
   "cell_type": "code",
   "execution_count": null,
   "metadata": {},
   "outputs": [],
   "source": [
    "y_pred = []\n",
    "for i, row in tqdm(df_pCK.iterrows()):\n",
    "\n",
    "    masked_sequence = row['masked_seq']\n",
    "    \n",
    "    esmc_score_wt_marginal, n_muts = esmc.get_wildtype_marginal(masked_sequence, pCK_masked_WT)\n",
    "    assert n_muts == row['n_mut']\n",
    "    esmc_score_masked_marginal, n_muts = esmc.get_masked_marginal(masked_sequence, pCK_masked_WT)\n",
    "    assert n_muts == row['n_mut']\n",
    "    esmc_score_pll = esmc.pseudolikelihood(masked_sequence)[0]\n",
    "\n",
    "    esm3_score_wt_marginal, n_muts = esm3.get_wildtype_marginal(masked_sequence, pCK_masked_WT)\n",
    "    assert n_muts == row['n_mut']\n",
    "    esm3_score_masked_marginal, n_muts = esm3.get_masked_marginal(masked_sequence, pCK_masked_WT)\n",
    "    assert n_muts == row['n_mut']\n",
    "    esm3_score_pll = esm3.pseudolikelihood(masked_sequence)[0]\n",
    "    \n",
    "\n",
    "    full_sequence = row['full_seq']\n",
    "    \n",
    "    esmc_full_score_wt_marginal, n_muts = esmc.get_wildtype_marginal(full_sequence, pCK_full_WT)\n",
    "    assert n_muts == row['n_mut']\n",
    "    esmc_full_score_masked_marginal, n_muts = esmc.get_masked_marginal(full_sequence, pCK_full_WT)\n",
    "    assert n_muts == row['n_mut']\n",
    "\n",
    "    esm3_full_score_wt_marginal, n_muts = esm3.get_wildtype_marginal(full_sequence, pCK_full_WT)\n",
    "    assert n_muts == row['n_mut']\n",
    "    esm3_full_score_masked_marginal, n_muts = esm3.get_masked_marginal(full_sequence, pCK_full_WT)\n",
    "    assert n_muts == row['n_mut']\n",
    "\n",
    "    y_pred.append({\n",
    "        'esmc_wt_marginal': esmc_score_wt_marginal,\n",
    "        'esmc_masked_marginal': esmc_score_masked_marginal,\n",
    "        'esmc_pll': esmc_score_pll,\n",
    "        \n",
    "        'esm3_wt_marginal': esm3_score_wt_marginal,\n",
    "        'esm3_masked_marginal': esm3_score_masked_marginal,\n",
    "        'esm3_pll': esm3_score_pll,\n",
    "\n",
    "        'esmc_full_wt_marginal': esmc_full_score_wt_marginal,\n",
    "        'esmc_full_masked_marginal': esmc_full_score_masked_marginal,\n",
    "\n",
    "        'esm3_full_wt_marginal': esm3_full_score_wt_marginal,\n",
    "        'esm3_full_masked_marginal': esm3_full_score_masked_marginal,\n",
    "    })"
   ]
  },
  {
   "cell_type": "code",
   "execution_count": null,
   "metadata": {},
   "outputs": [],
   "source": [
    "df_pred = pd.DataFrame(y_pred)"
   ]
  },
  {
   "cell_type": "code",
   "execution_count": null,
   "metadata": {},
   "outputs": [],
   "source": [
    "df_pred.head()"
   ]
  },
  {
   "cell_type": "code",
   "execution_count": null,
   "metadata": {},
   "outputs": [],
   "source": [
    "df_pCK = pd.concat([df_pCK, df_pred], axis=1)"
   ]
  },
  {
   "cell_type": "code",
   "execution_count": null,
   "metadata": {},
   "outputs": [],
   "source": [
    "df_pCK.head()"
   ]
  },
  {
   "cell_type": "code",
   "execution_count": null,
   "metadata": {},
   "outputs": [],
   "source": [
    "df_pCK.to_csv(os.path.join(data_path, 'pCK_KG_base_results.csv'), index=False)"
   ]
  },
  {
   "cell_type": "code",
   "execution_count": null,
   "metadata": {},
   "outputs": [],
   "source": []
  },
  {
   "cell_type": "markdown",
   "metadata": {},
   "source": [
    "#### pCK for anchor seq"
   ]
  },
  {
   "cell_type": "code",
   "execution_count": null,
   "metadata": {},
   "outputs": [],
   "source": [
    "esmc = ESMCLM(name='esmc_600m', device='gpu')\n",
    "esm3 = ESM3LM(device='gpu')"
   ]
  },
  {
   "cell_type": "code",
   "execution_count": null,
   "metadata": {},
   "outputs": [],
   "source": [
    "y_pred = []\n",
    "for i, row in tqdm(df_pCK.iterrows()):\n",
    "\n",
    "    masked_sequence = row['masked_seq']\n",
    "    \n",
    "    esmc_score_wt_marginal, n_muts = esmc.get_wildtype_marginal(masked_sequence, pCK_masked_anchor)\n",
    "    assert n_muts == row['n_mut_anchor']\n",
    "    esmc_score_masked_marginal, n_muts = esmc.get_masked_marginal(masked_sequence, pCK_masked_anchor)\n",
    "    assert n_muts == row['n_mut_anchor']\n",
    "\n",
    "    esm3_score_wt_marginal, n_muts = esm3.get_wildtype_marginal(masked_sequence, pCK_masked_anchor)\n",
    "    assert n_muts == row['n_mut_anchor']\n",
    "    esm3_score_masked_marginal, n_muts = esm3.get_masked_marginal(masked_sequence, pCK_masked_anchor)\n",
    "    assert n_muts == row['n_mut_anchor']\n",
    "    \n",
    "\n",
    "    full_sequence = row['full_seq']\n",
    "    \n",
    "    esmc_full_score_wt_marginal, n_muts = esmc.get_wildtype_marginal(full_sequence, pCK_full_anchor)\n",
    "    assert n_muts == row['n_mut_anchor']\n",
    "    esmc_full_score_masked_marginal, n_muts = esmc.get_masked_marginal(full_sequence, pCK_full_anchor)\n",
    "    assert n_muts == row['n_mut_anchor']\n",
    "\n",
    "    esm3_full_score_wt_marginal, n_muts = esm3.get_wildtype_marginal(full_sequence, pCK_full_anchor)\n",
    "    assert n_muts == row['n_mut_anchor']\n",
    "    esm3_full_score_masked_marginal, n_muts = esm3.get_masked_marginal(full_sequence, pCK_full_anchor)\n",
    "    assert n_muts == row['n_mut_anchor']\n",
    "\n",
    "    y_pred.append({\n",
    "        'esmc_wt_marginal': esmc_score_wt_marginal,\n",
    "        'esmc_masked_marginal': esmc_score_masked_marginal,\n",
    "        \n",
    "        'esm3_wt_marginal': esm3_score_wt_marginal,\n",
    "        'esm3_masked_marginal': esm3_score_masked_marginal,\n",
    "\n",
    "        'esmc_full_wt_marginal': esmc_full_score_wt_marginal,\n",
    "        'esmc_full_masked_marginal': esmc_full_score_masked_marginal,\n",
    "\n",
    "        'esm3_full_wt_marginal': esm3_full_score_wt_marginal,\n",
    "        'esm3_full_masked_marginal': esm3_full_score_masked_marginal,\n",
    "    })"
   ]
  },
  {
   "cell_type": "code",
   "execution_count": null,
   "metadata": {},
   "outputs": [],
   "source": [
    "df_pred = pd.DataFrame(y_pred)"
   ]
  },
  {
   "cell_type": "code",
   "execution_count": null,
   "metadata": {},
   "outputs": [],
   "source": [
    "df_pred.head()"
   ]
  },
  {
   "cell_type": "code",
   "execution_count": null,
   "metadata": {},
   "outputs": [],
   "source": [
    "df_pCK = pd.concat([df_pCK, df_pred], axis=1)"
   ]
  },
  {
   "cell_type": "code",
   "execution_count": null,
   "metadata": {},
   "outputs": [],
   "source": [
    "df_pCK.head()"
   ]
  },
  {
   "cell_type": "code",
   "execution_count": null,
   "metadata": {},
   "outputs": [],
   "source": [
    "df_pCK.to_csv(os.path.join(data_path, 'pCK_KG_anchor_results.csv'), index=False)"
   ]
  },
  {
   "cell_type": "code",
   "execution_count": null,
   "metadata": {},
   "outputs": [],
   "source": []
  },
  {
   "cell_type": "markdown",
   "metadata": {},
   "source": [
    "### Selection"
   ]
  },
  {
   "cell_type": "markdown",
   "metadata": {},
   "source": [
    "#### PSG selection"
   ]
  },
  {
   "cell_type": "code",
   "execution_count": null,
   "metadata": {},
   "outputs": [],
   "source": [
    "data_path = '/nethome/kgeorge/workspace/DomainPrediction/Data/new_system'\n",
    "\n",
    "df_PSG = pd.read_csv(os.path.join(data_path, 'PSG_KG_results.csv'))"
   ]
  },
  {
   "cell_type": "code",
   "execution_count": null,
   "metadata": {},
   "outputs": [],
   "source": [
    "df_PSG.head()"
   ]
  },
  {
   "cell_type": "code",
   "execution_count": null,
   "metadata": {},
   "outputs": [],
   "source": [
    "fig, ax = plt.subplots(1, 4, figsize=(13, 3), layout='constrained')\n",
    "\n",
    "mask = df_PSG['name'].str.contains('esm3')\n",
    "print(f'no of esm3 sequences: {mask.sum()}')\n",
    "ax[0].scatter(df_PSG['esmc_masked_marginal'][mask], df_PSG['esmc_full_masked_marginal'][mask], alpha=0.5)\n",
    "ax[0].set_xlabel('esmc_masked_marginal')\n",
    "ax[0].set_ylabel('esmc_full_masked_marginal')\n",
    "ax[1].scatter(df_PSG['esmc_wt_marginal'][mask], df_PSG['esmc_full_wt_marginal'][mask], alpha=0.5)\n",
    "ax[1].set_xlabel('esmc_wt_marginal')\n",
    "ax[1].set_ylabel('esmc_full_wt_marginal')\n",
    "ax[2].scatter(df_PSG['esm3_masked_marginal'][mask], df_PSG['esm3_full_masked_marginal'][mask], alpha=0.5)\n",
    "ax[2].set_xlabel('esm3_masked_marginal')\n",
    "ax[2].set_ylabel('esm3_full_masked_marginal')\n",
    "ax[3].scatter(df_PSG['esm3_wt_marginal'][mask], df_PSG['esm3_full_wt_marginal'][mask], alpha=0.5)\n",
    "ax[3].set_xlabel('esm3_wt_marginal')\n",
    "ax[3].set_ylabel('esm3_full_wt_marginal')\n",
    "\n",
    "fig.suptitle('esm3 sequences')\n",
    "\n",
    "fig, ax = plt.subplots(1, 4, figsize=(13, 3), layout='constrained')\n",
    "\n",
    "mask = df_PSG['name'].str.contains('evodiff')\n",
    "print(f'no of evodiff sequences: {mask.sum()}')\n",
    "ax[0].scatter(df_PSG['esmc_masked_marginal'][mask], df_PSG['esmc_full_masked_marginal'][mask], alpha=0.5)\n",
    "ax[0].set_xlabel('esmc_masked_marginal')\n",
    "ax[0].set_ylabel('esmc_full_masked_marginal')\n",
    "ax[1].scatter(df_PSG['esmc_wt_marginal'][mask], df_PSG['esmc_full_wt_marginal'][mask], alpha=0.5)\n",
    "ax[1].set_xlabel('esmc_wt_marginal')\n",
    "ax[1].set_ylabel('esmc_full_wt_marginal')\n",
    "ax[2].scatter(df_PSG['esm3_masked_marginal'][mask], df_PSG['esm3_full_masked_marginal'][mask], alpha=0.5)\n",
    "ax[2].set_xlabel('esm3_masked_marginal')\n",
    "ax[2].set_ylabel('esm3_full_masked_marginal')\n",
    "ax[3].scatter(df_PSG['esm3_wt_marginal'][mask], df_PSG['esm3_full_wt_marginal'][mask], alpha=0.5)\n",
    "ax[3].set_xlabel('esm3_wt_marginal')\n",
    "ax[3].set_ylabel('esm3_full_wt_marginal')\n",
    "\n",
    "fig.suptitle('evodiff sequences')\n"
   ]
  },
  {
   "cell_type": "code",
   "execution_count": null,
   "metadata": {},
   "outputs": [],
   "source": [
    "fig, ax = plt.subplots(1, 4, figsize=(13, 3), layout='constrained')\n",
    "\n",
    "val_mask = df_PSG['esmc_wt_marginal'] > -300\n",
    "\n",
    "mask = df_PSG['name'].str.contains('esm3') & val_mask\n",
    "print(f'no of esm3 sequences: {mask.sum()}')\n",
    "ax[0].scatter(df_PSG['esmc_masked_marginal'][mask], df_PSG['esmc_full_masked_marginal'][mask], alpha=0.5)\n",
    "ax[0].set_xlabel('esmc_masked_marginal')\n",
    "ax[0].set_ylabel('esmc_full_masked_marginal')\n",
    "ax[1].scatter(df_PSG['esmc_wt_marginal'][mask], df_PSG['esmc_full_wt_marginal'][mask], alpha=0.5)\n",
    "ax[1].set_xlabel('esmc_wt_marginal')\n",
    "ax[1].set_ylabel('esmc_full_wt_marginal')\n",
    "ax[2].scatter(df_PSG['esm3_masked_marginal'][mask], df_PSG['esm3_full_masked_marginal'][mask], alpha=0.5)\n",
    "ax[2].set_xlabel('esm3_masked_marginal')\n",
    "ax[2].set_ylabel('esm3_full_masked_marginal')\n",
    "ax[3].scatter(df_PSG['esm3_wt_marginal'][mask], df_PSG['esm3_full_wt_marginal'][mask], alpha=0.5)\n",
    "ax[3].set_xlabel('esm3_wt_marginal')\n",
    "ax[3].set_ylabel('esm3_full_wt_marginal')\n",
    "\n",
    "fig.suptitle('esm3 sequences')\n",
    "\n",
    "fig, ax = plt.subplots(1, 4, figsize=(13, 3), layout='constrained')\n",
    "\n",
    "mask = df_PSG['name'].str.contains('evodiff') & val_mask\n",
    "print(f'no of evodiff sequences: {mask.sum()}')\n",
    "ax[0].scatter(df_PSG['esmc_masked_marginal'][mask], df_PSG['esmc_full_masked_marginal'][mask], alpha=0.5)\n",
    "ax[0].set_xlabel('esmc_masked_marginal')\n",
    "ax[0].set_ylabel('esmc_full_masked_marginal')\n",
    "ax[1].scatter(df_PSG['esmc_wt_marginal'][mask], df_PSG['esmc_full_wt_marginal'][mask], alpha=0.5)\n",
    "ax[1].set_xlabel('esmc_wt_marginal')\n",
    "ax[1].set_ylabel('esmc_full_wt_marginal')\n",
    "ax[2].scatter(df_PSG['esm3_masked_marginal'][mask], df_PSG['esm3_full_masked_marginal'][mask], alpha=0.5)\n",
    "ax[2].set_xlabel('esm3_masked_marginal')\n",
    "ax[2].set_ylabel('esm3_full_masked_marginal')\n",
    "ax[3].scatter(df_PSG['esm3_wt_marginal'][mask], df_PSG['esm3_full_wt_marginal'][mask], alpha=0.5)\n",
    "ax[3].set_xlabel('esm3_wt_marginal')\n",
    "ax[3].set_ylabel('esm3_full_wt_marginal')\n",
    "\n",
    "fig.suptitle('evodiff sequences')"
   ]
  },
  {
   "cell_type": "code",
   "execution_count": null,
   "metadata": {},
   "outputs": [],
   "source": [
    "fig, ax = plt.subplots(3, 3, figsize=(11, 9), layout='constrained')\n",
    "\n",
    "mask = df_PSG['name'].str.contains('esm3')\n",
    "\n",
    "predictors = ['esmc_wt_marginal', 'esmc_pll', 'esm3_wt_marginal', 'esm3_masked_marginal', 'esm3_pll', 'esmc_full_wt_marginal', 'esmc_full_masked_marginal', 'esm3_full_wt_marginal', 'esm3_full_masked_marginal']\n",
    "x_anchor = 'esmc_masked_marginal'\n",
    "\n",
    "for i, ax_ in enumerate(ax.flatten()):\n",
    "    ax_.scatter(df_PSG[x_anchor][~mask], df_PSG[predictors[i]][~mask], alpha=0.5, label='evodiff')\n",
    "    ax_.scatter(df_PSG[x_anchor][mask], df_PSG[predictors[i]][mask], alpha=0.5, label='esm3')\n",
    "    ax_.set_xlabel(x_anchor)\n",
    "    ax_.set_ylabel(predictors[i])\n",
    "    ax_.legend()"
   ]
  },
  {
   "cell_type": "code",
   "execution_count": null,
   "metadata": {},
   "outputs": [],
   "source": [
    "fig, ax = plt.subplots(3, 3, figsize=(11, 9), layout='constrained')\n",
    "\n",
    "mask = df_PSG['name'].str.contains('esm3')\n",
    "val_mask = df_PSG['esmc_wt_marginal'] > -300\n",
    "\n",
    "predictors = ['esmc_wt_marginal', 'esmc_pll', 'esm3_wt_marginal', 'esm3_masked_marginal', 'esm3_pll', 'esmc_full_wt_marginal', 'esmc_full_masked_marginal', 'esm3_full_wt_marginal', 'esm3_full_masked_marginal']\n",
    "x_anchor = 'esmc_masked_marginal'\n",
    "\n",
    "for i, ax_ in enumerate(ax.flatten()):\n",
    "    ax_.scatter(df_PSG[x_anchor][~mask & val_mask], df_PSG[predictors[i]][~mask & val_mask], alpha=0.5, label='evodiff')\n",
    "    ax_.scatter(df_PSG[x_anchor][mask & val_mask], df_PSG[predictors[i]][mask & val_mask], alpha=0.5, label='esm3')\n",
    "    ax_.set_xlabel(x_anchor)\n",
    "    ax_.set_ylabel(predictors[i])\n",
    "    ax_.legend()"
   ]
  },
  {
   "cell_type": "code",
   "execution_count": null,
   "metadata": {},
   "outputs": [],
   "source": [
    "fig, ax = plt.subplots(3, 3, figsize=(11, 9), layout='constrained')\n",
    "\n",
    "mask = df_PSG['name'].str.contains('esm3')\n",
    "val_mask = (df_PSG['esmc_wt_marginal'] > -300) & df_PSG['esmc_masked_marginal'].between(-10, 10)\n",
    "\n",
    "predictors = ['esmc_wt_marginal', 'esmc_pll', 'esm3_wt_marginal', 'esm3_masked_marginal', 'esm3_pll', 'esmc_full_wt_marginal', 'esmc_full_masked_marginal', 'esm3_full_wt_marginal', 'esm3_full_masked_marginal']\n",
    "x_anchor = 'esmc_masked_marginal'\n",
    "\n",
    "print(f'no of esm3 sequences: {(mask & val_mask).sum()}')\n",
    "print(f'no of evodiff sequences: {(~mask & val_mask).sum()}')\n",
    "for i, ax_ in enumerate(ax.flatten()):\n",
    "    ax_.scatter(df_PSG[x_anchor][mask & val_mask], df_PSG[predictors[i]][mask & val_mask], alpha=0.4, label='esm3')\n",
    "    ax_.scatter(df_PSG[x_anchor][~mask & val_mask], df_PSG[predictors[i]][~mask & val_mask], alpha=0.7, label='evodiff')\n",
    "    ax_.set_xlabel(x_anchor)\n",
    "    ax_.set_ylabel(predictors[i])\n",
    "    ax_.legend()"
   ]
  },
  {
   "cell_type": "code",
   "execution_count": null,
   "metadata": {},
   "outputs": [],
   "source": [
    "## Select ESM3 sequences by binning\n",
    "\n",
    "mask = df_PSG['name'].str.contains('esm3') & (df_PSG['esmc_wt_marginal'] > -300) & df_PSG['esmc_masked_marginal'].between(-10, 10)\n",
    "df_filtered = df_PSG[mask]\n",
    "\n",
    "# Define the number of bins\n",
    "num_bins = 6\n",
    "# Generate the bin edges\n",
    "bin_edges = np.linspace(-10, 10, num_bins + 1)\n",
    "\n",
    "# Bin the esmc_masked_marginal column\n",
    "df_filtered['bin'] = pd.cut(df_filtered['esmc_masked_marginal'], bins=bin_edges, labels=False)\n",
    "\n",
    "print(df_filtered['bin'].unique())\n",
    "\n",
    "# Select the sequence with the highest value in each bin\n",
    "df_selected = df_filtered.groupby('bin').apply(lambda x: x.loc[x['esmc_masked_marginal'].idxmax()])\n",
    "\n",
    "dist_matrix = np.eye(df_selected.shape[0])\n",
    "for i in range(df_selected['masked_seq'].shape[0]):\n",
    "    for j in range(df_selected['masked_seq'].shape[0]):\n",
    "        dist_matrix[i, j] = helper.hamming_distance(df_selected['masked_seq'][i], df_selected['masked_seq'][j])\n",
    "\n",
    "plt.imshow(dist_matrix, cmap='viridis')\n",
    "plt.colorbar()\n",
    "\n",
    "esm3_selected = df_selected['name'].to_list()"
   ]
  },
  {
   "cell_type": "code",
   "execution_count": null,
   "metadata": {},
   "outputs": [],
   "source": [
    "mask = df_PSG['name'].str.contains('evodiff') & (df_PSG['esmc_wt_marginal'] > -300) & df_PSG['esmc_masked_marginal'].between(-10, 10)\n",
    "\n",
    "df_filtered = df_PSG[mask]\n",
    "\n",
    "# Define the number of bins\n",
    "num_bins = 4\n",
    "# Generate the bin edges\n",
    "bin_edges = np.linspace(df_filtered['esmc_wt_marginal'].min()-1, df_filtered['esmc_wt_marginal'].max()+1, num_bins + 1)\n",
    "\n",
    "# Bin the esmc_masked_marginal column\n",
    "df_filtered['bin'] = pd.cut(df_filtered['esmc_wt_marginal'], bins=bin_edges, labels=False)\n",
    "\n",
    "print(df_filtered['bin'].unique())\n",
    "\n",
    "# Select the sequence with the highest value in each bin\n",
    "df_selected = df_filtered.groupby('bin').apply(lambda x: x.loc[x['esmc_masked_marginal'].idxmax()])\n",
    "\n",
    "dist_matrix = np.eye(df_selected.shape[0])\n",
    "for i in range(df_selected['masked_seq'].shape[0]):\n",
    "    for j in range(df_selected['masked_seq'].shape[0]):\n",
    "        dist_matrix[i, j] = helper.hamming_distance(df_selected['masked_seq'][i], df_selected['masked_seq'][j])\n",
    "\n",
    "plt.imshow(dist_matrix, cmap='viridis')\n",
    "plt.colorbar()\n",
    "\n",
    "evodiff_selected = df_selected['name'].to_list()"
   ]
  },
  {
   "cell_type": "code",
   "execution_count": null,
   "metadata": {},
   "outputs": [],
   "source": [
    "fig, ax = plt.subplots(3, 3, figsize=(11, 9), layout='constrained')\n",
    "\n",
    "mask = df_PSG['name'].str.contains('esm3')\n",
    "val_mask = (df_PSG['esmc_wt_marginal'] > -300) & df_PSG['esmc_masked_marginal'].between(-10, 10)\n",
    "\n",
    "predictors = ['esmc_wt_marginal', 'esmc_pll', 'esm3_wt_marginal', 'esm3_masked_marginal', 'esm3_pll', 'esmc_full_wt_marginal', 'esmc_full_masked_marginal', 'esm3_full_wt_marginal', 'esm3_full_masked_marginal']\n",
    "x_anchor = 'esmc_masked_marginal'\n",
    "\n",
    "print(f'no of esm3 sequences: {(mask & val_mask).sum()}')\n",
    "print(f'no of evodiff sequences: {(~mask & val_mask).sum()}')\n",
    "for i, ax_ in enumerate(ax.flatten()):\n",
    "    ax_.scatter(df_PSG[x_anchor][mask & val_mask], df_PSG[predictors[i]][mask & val_mask], alpha=0.4, label='esm3')\n",
    "    ax_.scatter(df_PSG[x_anchor][~mask & val_mask], df_PSG[predictors[i]][~mask & val_mask], alpha=0.7, label='evodiff')\n",
    "    ax_.scatter(df_PSG[x_anchor][df_PSG['name'].isin(esm3_selected)], df_PSG[predictors[i]][df_PSG['name'].isin(esm3_selected)], alpha=0.7, label='selected_esm3', color='red')\n",
    "    ax_.scatter(df_PSG[x_anchor][df_PSG['name'].isin(evodiff_selected)], df_PSG[predictors[i]][df_PSG['name'].isin(evodiff_selected)], alpha=0.7, label='selected_evodiff', color='green')\n",
    "    ax_.set_xlabel(x_anchor)\n",
    "    ax_.set_ylabel(predictors[i])\n",
    "    ax_.legend()"
   ]
  },
  {
   "cell_type": "code",
   "execution_count": null,
   "metadata": {},
   "outputs": [],
   "source": [
    "df_selected = df_PSG[df_PSG['name'].isin(esm3_selected+evodiff_selected)]"
   ]
  },
  {
   "cell_type": "code",
   "execution_count": null,
   "metadata": {},
   "outputs": [],
   "source": [
    "df_selected"
   ]
  },
  {
   "cell_type": "code",
   "execution_count": null,
   "metadata": {},
   "outputs": [],
   "source": [
    "# fasta_full = os.path.join(data_path, 'PSG_KG_selected_full.fasta')\n",
    "# fasta_masked = os.path.join(data_path, 'PSG_KG_selected_masked.fasta')\n",
    "# for i, row in df_selected.iterrows():\n",
    "\n",
    "#     helper.create_fasta({\n",
    "#         row['name']: row['full_seq']\n",
    "#     }, file=fasta_full, append=True)\n",
    "\n",
    "#     helper.create_fasta({\n",
    "#         row['name']: row['masked_seq']\n",
    "#     }, file=fasta_masked, append=True)"
   ]
  },
  {
   "cell_type": "code",
   "execution_count": null,
   "metadata": {},
   "outputs": [],
   "source": []
  },
  {
   "cell_type": "markdown",
   "metadata": {},
   "source": [
    "#### pCK selection"
   ]
  },
  {
   "cell_type": "code",
   "execution_count": null,
   "metadata": {},
   "outputs": [],
   "source": [
    "data_path = '/nethome/kgeorge/workspace/DomainPrediction/Data/new_system'\n",
    "\n",
    "df_pCK = pd.read_csv(os.path.join(data_path, 'pCK_KG_base_results.csv'))\n",
    "df_pCK_anchor = pd.read_csv(os.path.join(data_path, 'pCK_KG_anchor_results.csv'))"
   ]
  },
  {
   "cell_type": "code",
   "execution_count": null,
   "metadata": {},
   "outputs": [],
   "source": [
    "df_pCK.head()"
   ]
  },
  {
   "cell_type": "code",
   "execution_count": null,
   "metadata": {},
   "outputs": [],
   "source": [
    "df_pCK_anchor.head()"
   ]
  },
  {
   "cell_type": "code",
   "execution_count": null,
   "metadata": {},
   "outputs": [],
   "source": [
    "fig, ax = plt.subplots(1, 4, figsize=(13, 3), layout='constrained')\n",
    "\n",
    "mask = df_pCK['name'].str.contains('esm3')\n",
    "\n",
    "print(f'no of esm3 sequences: {mask.sum()}')\n",
    "ax[0].scatter(df_pCK['esmc_masked_marginal'][mask], df_pCK['esmc_full_masked_marginal'][mask], alpha=0.5)\n",
    "ax[0].set_xlabel('esmc_masked_marginal')\n",
    "ax[0].set_ylabel('esmc_full_masked_marginal')\n",
    "ax[1].scatter(df_pCK['esmc_wt_marginal'][mask], df_pCK['esmc_full_wt_marginal'][mask], alpha=0.5)\n",
    "ax[1].set_xlabel('esmc_wt_marginal')\n",
    "ax[1].set_ylabel('esmc_full_wt_marginal')\n",
    "ax[2].scatter(df_pCK['esm3_masked_marginal'][mask], df_pCK['esm3_full_masked_marginal'][mask], alpha=0.5)\n",
    "ax[2].set_xlabel('esm3_masked_marginal')\n",
    "ax[2].set_ylabel('esm3_full_masked_marginal')\n",
    "ax[3].scatter(df_pCK['esm3_wt_marginal'][mask], df_pCK['esm3_full_wt_marginal'][mask], alpha=0.5)\n",
    "ax[3].set_xlabel('esm3_wt_marginal')\n",
    "ax[3].set_ylabel('esm3_full_wt_marginal')\n",
    "\n",
    "fig.suptitle('esm3 sequences - base')\n",
    "\n",
    "fig, ax = plt.subplots(1, 4, figsize=(13, 3), layout='constrained')\n",
    "\n",
    "mask = df_pCK['name'].str.contains('evodiff')\n",
    "print(f'no of evodiff sequences: {mask.sum()}')\n",
    "ax[0].scatter(df_pCK['esmc_masked_marginal'][mask], df_pCK['esmc_full_masked_marginal'][mask], alpha=0.5)\n",
    "ax[0].set_xlabel('esmc_masked_marginal')\n",
    "ax[0].set_ylabel('esmc_full_masked_marginal')\n",
    "ax[1].scatter(df_pCK['esmc_wt_marginal'][mask], df_pCK['esmc_full_wt_marginal'][mask], alpha=0.5)\n",
    "ax[1].set_xlabel('esmc_wt_marginal')\n",
    "ax[1].set_ylabel('esmc_full_wt_marginal')\n",
    "ax[2].scatter(df_pCK['esm3_masked_marginal'][mask], df_pCK['esm3_full_masked_marginal'][mask], alpha=0.5)\n",
    "ax[2].set_xlabel('esm3_masked_marginal')\n",
    "ax[2].set_ylabel('esm3_full_masked_marginal')\n",
    "ax[3].scatter(df_pCK['esm3_wt_marginal'][mask], df_pCK['esm3_full_wt_marginal'][mask], alpha=0.5)\n",
    "ax[3].set_xlabel('esm3_wt_marginal')\n",
    "ax[3].set_ylabel('esm3_full_wt_marginal')\n",
    "\n",
    "fig.suptitle('evodiff sequences - base')\n",
    "\n",
    "### anchor\n",
    "\n",
    "fig, ax = plt.subplots(1, 4, figsize=(13, 3), layout='constrained')\n",
    "\n",
    "mask = df_pCK_anchor['name'].str.contains('esm3')\n",
    "\n",
    "print(f'no of esm3 sequences: {mask.sum()}')\n",
    "ax[0].scatter(df_pCK_anchor['esmc_masked_marginal'][mask], df_pCK_anchor['esmc_full_masked_marginal'][mask], alpha=0.5)\n",
    "ax[0].set_xlabel('esmc_masked_marginal')\n",
    "ax[0].set_ylabel('esmc_full_masked_marginal')\n",
    "ax[1].scatter(df_pCK_anchor['esmc_wt_marginal'][mask], df_pCK_anchor['esmc_full_wt_marginal'][mask], alpha=0.5)\n",
    "ax[1].set_xlabel('esmc_wt_marginal')\n",
    "ax[1].set_ylabel('esmc_full_wt_marginal')\n",
    "ax[2].scatter(df_pCK_anchor['esm3_masked_marginal'][mask], df_pCK_anchor['esm3_full_masked_marginal'][mask], alpha=0.5)\n",
    "ax[2].set_xlabel('esm3_masked_marginal')\n",
    "ax[2].set_ylabel('esm3_full_masked_marginal')\n",
    "ax[3].scatter(df_pCK_anchor['esm3_wt_marginal'][mask], df_pCK_anchor['esm3_full_wt_marginal'][mask], alpha=0.5)\n",
    "ax[3].set_xlabel('esm3_wt_marginal')\n",
    "ax[3].set_ylabel('esm3_full_wt_marginal')\n",
    "\n",
    "fig.suptitle('esm3 sequences - anchor')\n",
    "\n",
    "fig, ax = plt.subplots(1, 4, figsize=(13, 3), layout='constrained')\n",
    "\n",
    "mask = df_pCK_anchor['name'].str.contains('evodiff')\n",
    "\n",
    "print(f'no of evodiff sequences: {mask.sum()}')\n",
    "ax[0].scatter(df_pCK_anchor['esmc_masked_marginal'][mask], df_pCK_anchor['esmc_full_masked_marginal'][mask], alpha=0.5)\n",
    "ax[0].set_xlabel('esmc_masked_marginal')\n",
    "ax[0].set_ylabel('esmc_full_masked_marginal')\n",
    "ax[1].scatter(df_pCK_anchor['esmc_wt_marginal'][mask], df_pCK_anchor['esmc_full_wt_marginal'][mask], alpha=0.5)\n",
    "ax[1].set_xlabel('esmc_wt_marginal')\n",
    "ax[1].set_ylabel('esmc_full_wt_marginal')\n",
    "ax[2].scatter(df_pCK_anchor['esm3_masked_marginal'][mask], df_pCK_anchor['esm3_full_masked_marginal'][mask], alpha=0.5)\n",
    "ax[2].set_xlabel('esm3_masked_marginal')\n",
    "ax[2].set_ylabel('esm3_full_masked_marginal')\n",
    "ax[3].scatter(df_pCK_anchor['esm3_wt_marginal'][mask], df_pCK_anchor['esm3_full_wt_marginal'][mask], alpha=0.5)\n",
    "ax[3].set_xlabel('esm3_wt_marginal')\n",
    "ax[3].set_ylabel('esm3_full_wt_marginal')\n",
    "\n",
    "fig.suptitle('evodiff sequences - anchor')\n"
   ]
  },
  {
   "cell_type": "code",
   "execution_count": null,
   "metadata": {},
   "outputs": [],
   "source": [
    "val_mask = df_pCK['esmc_wt_marginal'] > -300\n",
    "\n",
    "fig, ax = plt.subplots(1, 4, figsize=(13, 3), layout='constrained')\n",
    "\n",
    "mask = df_pCK['name'].str.contains('esm3') & val_mask\n",
    "\n",
    "print(f'no of esm3 sequences: {mask.sum()}')\n",
    "ax[0].scatter(df_pCK['esmc_masked_marginal'][mask], df_pCK['esmc_full_masked_marginal'][mask], alpha=0.5)\n",
    "ax[0].set_xlabel('esmc_masked_marginal')\n",
    "ax[0].set_ylabel('esmc_full_masked_marginal')\n",
    "ax[1].scatter(df_pCK['esmc_wt_marginal'][mask], df_pCK['esmc_full_wt_marginal'][mask], alpha=0.5)\n",
    "ax[1].set_xlabel('esmc_wt_marginal')\n",
    "ax[1].set_ylabel('esmc_full_wt_marginal')\n",
    "ax[2].scatter(df_pCK['esm3_masked_marginal'][mask], df_pCK['esm3_full_masked_marginal'][mask], alpha=0.5)\n",
    "ax[2].set_xlabel('esm3_masked_marginal')\n",
    "ax[2].set_ylabel('esm3_full_masked_marginal')\n",
    "ax[3].scatter(df_pCK['esm3_wt_marginal'][mask], df_pCK['esm3_full_wt_marginal'][mask], alpha=0.5)\n",
    "ax[3].set_xlabel('esm3_wt_marginal')\n",
    "ax[3].set_ylabel('esm3_full_wt_marginal')\n",
    "\n",
    "fig.suptitle('esm3 sequences - base')\n",
    "\n",
    "fig, ax = plt.subplots(1, 4, figsize=(13, 3), layout='constrained')\n",
    "\n",
    "mask = df_pCK['name'].str.contains('evodiff') & val_mask\n",
    "\n",
    "print(f'no of evodiff sequences: {mask.sum()}')\n",
    "ax[0].scatter(df_pCK['esmc_masked_marginal'][mask], df_pCK['esmc_full_masked_marginal'][mask], alpha=0.5)\n",
    "ax[0].set_xlabel('esmc_masked_marginal')\n",
    "ax[0].set_ylabel('esmc_full_masked_marginal')\n",
    "ax[1].scatter(df_pCK['esmc_wt_marginal'][mask], df_pCK['esmc_full_wt_marginal'][mask], alpha=0.5)\n",
    "ax[1].set_xlabel('esmc_wt_marginal')\n",
    "ax[1].set_ylabel('esmc_full_wt_marginal')\n",
    "ax[2].scatter(df_pCK['esm3_masked_marginal'][mask], df_pCK['esm3_full_masked_marginal'][mask], alpha=0.5)\n",
    "ax[2].set_xlabel('esm3_masked_marginal')\n",
    "ax[2].set_ylabel('esm3_full_masked_marginal')\n",
    "ax[3].scatter(df_pCK['esm3_wt_marginal'][mask], df_pCK['esm3_full_wt_marginal'][mask], alpha=0.5)\n",
    "ax[3].set_xlabel('esm3_wt_marginal')\n",
    "ax[3].set_ylabel('esm3_full_wt_marginal')\n",
    "\n",
    "fig.suptitle('evodiff sequences - base')\n",
    "\n",
    "### anchor\n",
    "\n",
    "fig, ax = plt.subplots(1, 4, figsize=(13, 3), layout='constrained')\n",
    "\n",
    "mask = df_pCK_anchor['name'].str.contains('esm3') & val_mask\n",
    "\n",
    "print(f'no of esm3 sequences: {mask.sum()}')\n",
    "ax[0].scatter(df_pCK_anchor['esmc_masked_marginal'][mask], df_pCK_anchor['esmc_full_masked_marginal'][mask], alpha=0.5)\n",
    "ax[0].set_xlabel('esmc_masked_marginal')\n",
    "ax[0].set_ylabel('esmc_full_masked_marginal')\n",
    "ax[1].scatter(df_pCK_anchor['esmc_wt_marginal'][mask], df_pCK_anchor['esmc_full_wt_marginal'][mask], alpha=0.5)\n",
    "ax[1].set_xlabel('esmc_wt_marginal')\n",
    "ax[1].set_ylabel('esmc_full_wt_marginal')\n",
    "ax[2].scatter(df_pCK_anchor['esm3_masked_marginal'][mask], df_pCK_anchor['esm3_full_masked_marginal'][mask], alpha=0.5)\n",
    "ax[2].set_xlabel('esm3_masked_marginal')\n",
    "ax[2].set_ylabel('esm3_full_masked_marginal')\n",
    "ax[3].scatter(df_pCK_anchor['esm3_wt_marginal'][mask], df_pCK_anchor['esm3_full_wt_marginal'][mask], alpha=0.5)\n",
    "ax[3].set_xlabel('esm3_wt_marginal')\n",
    "ax[3].set_ylabel('esm3_full_wt_marginal')\n",
    "\n",
    "fig.suptitle('esm3 sequences - anchor')\n",
    "\n",
    "fig, ax = plt.subplots(1, 4, figsize=(13, 3), layout='constrained')\n",
    "\n",
    "mask = df_pCK_anchor['name'].str.contains('evodiff') & val_mask\n",
    "\n",
    "print(f'no of evodiff sequences: {mask.sum()}')\n",
    "ax[0].scatter(df_pCK_anchor['esmc_masked_marginal'][mask], df_pCK_anchor['esmc_full_masked_marginal'][mask], alpha=0.5)\n",
    "ax[0].set_xlabel('esmc_masked_marginal')\n",
    "ax[0].set_ylabel('esmc_full_masked_marginal')\n",
    "ax[1].scatter(df_pCK_anchor['esmc_wt_marginal'][mask], df_pCK_anchor['esmc_full_wt_marginal'][mask], alpha=0.5)\n",
    "ax[1].set_xlabel('esmc_wt_marginal')\n",
    "ax[1].set_ylabel('esmc_full_wt_marginal')\n",
    "ax[2].scatter(df_pCK_anchor['esm3_masked_marginal'][mask], df_pCK_anchor['esm3_full_masked_marginal'][mask], alpha=0.5)\n",
    "ax[2].set_xlabel('esm3_masked_marginal')\n",
    "ax[2].set_ylabel('esm3_full_masked_marginal')\n",
    "ax[3].scatter(df_pCK_anchor['esm3_wt_marginal'][mask], df_pCK_anchor['esm3_full_wt_marginal'][mask], alpha=0.5)\n",
    "ax[3].set_xlabel('esm3_wt_marginal')\n",
    "ax[3].set_ylabel('esm3_full_wt_marginal')\n",
    "\n",
    "fig.suptitle('evodiff sequences - anchor')\n"
   ]
  },
  {
   "cell_type": "code",
   "execution_count": null,
   "metadata": {},
   "outputs": [],
   "source": [
    "fig, ax = plt.subplots(3, 3, figsize=(11, 9), layout='constrained')\n",
    "\n",
    "mask = df_pCK['name'].str.contains('esm3')\n",
    "\n",
    "predictors = ['esmc_wt_marginal', 'esmc_pll', 'esm3_wt_marginal', 'esm3_masked_marginal', 'esm3_pll', 'esmc_full_wt_marginal', 'esmc_full_masked_marginal', 'esm3_full_wt_marginal', 'esm3_full_masked_marginal']\n",
    "x_anchor = 'esmc_masked_marginal'\n",
    "\n",
    "for i, ax_ in enumerate(ax.flatten()):\n",
    "    ax_.scatter(df_pCK[x_anchor][~mask], df_pCK[predictors[i]][~mask], alpha=0.5, label='evodiff')\n",
    "    ax_.scatter(df_pCK[x_anchor][mask], df_pCK[predictors[i]][mask], alpha=0.5, label='esm3')\n",
    "    ax_.set_xlabel(x_anchor)\n",
    "    ax_.set_ylabel(predictors[i])\n",
    "    ax_.legend()\n",
    "\n",
    "\n",
    "fig, ax = plt.subplots(2, 4, figsize=(13, 6), layout='constrained')\n",
    "\n",
    "predictors = ['esmc_wt_marginal', 'esm3_wt_marginal', 'esm3_masked_marginal', 'esmc_full_wt_marginal', 'esmc_full_masked_marginal', 'esm3_full_wt_marginal', 'esm3_full_masked_marginal', 'no_plot']\n",
    "x_anchor = 'esmc_masked_marginal'\n",
    "\n",
    "for i, ax_ in enumerate(ax.flatten()):\n",
    "    if predictors[i] == 'no_plot':\n",
    "        ax_.axis('off')\n",
    "        continue\n",
    "    ax_.scatter(df_pCK_anchor[x_anchor][~mask], df_pCK_anchor[predictors[i]][~mask], alpha=0.5, label='evodiff')\n",
    "    ax_.scatter(df_pCK_anchor[x_anchor][mask], df_pCK_anchor[predictors[i]][mask], alpha=0.5, label='esm3')\n",
    "    ax_.set_xlabel(x_anchor)\n",
    "    ax_.set_ylabel(predictors[i])\n",
    "    ax_.legend()"
   ]
  },
  {
   "cell_type": "code",
   "execution_count": null,
   "metadata": {},
   "outputs": [],
   "source": [
    "fig, ax = plt.subplots(3, 3, figsize=(11, 9), layout='constrained')\n",
    "\n",
    "mask = df_pCK['name'].str.contains('esm3')\n",
    "val_mask = df_pCK['esmc_wt_marginal'] > -300\n",
    "\n",
    "predictors = ['esmc_wt_marginal', 'esmc_pll', 'esm3_wt_marginal', 'esm3_masked_marginal', 'esm3_pll', 'esmc_full_wt_marginal', 'esmc_full_masked_marginal', 'esm3_full_wt_marginal', 'esm3_full_masked_marginal']\n",
    "x_anchor = 'esmc_masked_marginal'\n",
    "\n",
    "for i, ax_ in enumerate(ax.flatten()):\n",
    "    ax_.scatter(df_pCK[x_anchor][~mask & val_mask], df_pCK[predictors[i]][~mask & val_mask], alpha=0.5, label='evodiff')\n",
    "    ax_.scatter(df_pCK[x_anchor][mask & val_mask], df_pCK[predictors[i]][mask & val_mask], alpha=0.5, label='esm3')\n",
    "    ax_.set_xlabel(x_anchor)\n",
    "    ax_.set_ylabel(predictors[i])\n",
    "    ax_.legend()\n",
    "\n",
    "\n",
    "fig, ax = plt.subplots(2, 4, figsize=(13, 6), layout='constrained')\n",
    "\n",
    "predictors = ['esmc_wt_marginal', 'esm3_wt_marginal', 'esm3_masked_marginal', 'esmc_full_wt_marginal', 'esmc_full_masked_marginal', 'esm3_full_wt_marginal', 'esm3_full_masked_marginal', 'no_plot']\n",
    "x_anchor = 'esmc_masked_marginal'\n",
    "\n",
    "for i, ax_ in enumerate(ax.flatten()):\n",
    "    if predictors[i] == 'no_plot':\n",
    "        ax_.axis('off')\n",
    "        continue\n",
    "    ax_.scatter(df_pCK_anchor[x_anchor][~mask & val_mask], df_pCK_anchor[predictors[i]][~mask & val_mask], alpha=0.5, label='evodiff')\n",
    "    ax_.scatter(df_pCK_anchor[x_anchor][mask & val_mask], df_pCK_anchor[predictors[i]][mask & val_mask], alpha=0.5, label='esm3')\n",
    "    ax_.set_xlabel(x_anchor)\n",
    "    ax_.set_ylabel(predictors[i])\n",
    "    ax_.legend()"
   ]
  },
  {
   "cell_type": "markdown",
   "metadata": {},
   "source": [
    "##### EvoDiff"
   ]
  },
  {
   "cell_type": "code",
   "execution_count": null,
   "metadata": {},
   "outputs": [],
   "source": [
    "mask = df_pCK['name'].str.contains('evodiff')\n",
    "val_mask = (df_pCK['esmc_wt_marginal'] > -300) & df_pCK['esmc_masked_marginal'].between(-10, 10) & (df_pCK_anchor['esmc_masked_marginal'] > -50)\n",
    "\n",
    "print(f'no of evodiff sequences: {(mask & val_mask).sum()}')\n",
    "\n",
    "fig, ax = plt.subplots(3, 3, figsize=(11, 9), layout='constrained')\n",
    "\n",
    "predictors = ['esmc_wt_marginal', 'esmc_pll', 'esm3_wt_marginal', 'esm3_masked_marginal', 'esm3_pll', 'esmc_full_wt_marginal', 'esmc_full_masked_marginal', 'esm3_full_wt_marginal', 'esm3_full_masked_marginal']\n",
    "x_anchor = 'esmc_masked_marginal'\n",
    "\n",
    "for i, ax_ in enumerate(ax.flatten()):\n",
    "    ax_.scatter(df_pCK[x_anchor][mask & val_mask], df_pCK[predictors[i]][mask & val_mask], alpha=0.5, label='evodiff')\n",
    "    ax_.set_xlabel(x_anchor)\n",
    "    ax_.set_ylabel(predictors[i])\n",
    "    ax_.legend()\n",
    "\n",
    "\n",
    "fig, ax = plt.subplots(2, 4, figsize=(13, 6), layout='constrained')\n",
    "\n",
    "predictors = ['esmc_wt_marginal', 'esm3_wt_marginal', 'esm3_masked_marginal', 'esmc_full_wt_marginal', 'esmc_full_masked_marginal', 'esm3_full_wt_marginal', 'esm3_full_masked_marginal', 'no_plot']\n",
    "x_anchor = 'esmc_masked_marginal'\n",
    "\n",
    "for i, ax_ in enumerate(ax.flatten()):\n",
    "    if predictors[i] == 'no_plot':\n",
    "        ax_.axis('off')\n",
    "        continue\n",
    "    ax_.scatter(df_pCK_anchor[x_anchor][mask & val_mask], df_pCK_anchor[predictors[i]][mask & val_mask], alpha=0.5, label='evodiff')\n",
    "    ax_.set_xlabel(x_anchor)\n",
    "    ax_.set_ylabel(predictors[i])\n",
    "    ax_.legend()"
   ]
  },
  {
   "cell_type": "code",
   "execution_count": null,
   "metadata": {},
   "outputs": [],
   "source": [
    "mask = df_pCK['name'].str.contains('evodiff') & (df_pCK['esmc_wt_marginal'] > -300) & df_pCK['esmc_masked_marginal'].between(-10, 10) & (df_pCK_anchor['esmc_masked_marginal'] > -50)\n",
    "\n",
    "df_filtered = df_pCK[mask]\n",
    "\n",
    "# Define the number of bins\n",
    "num_bins = 4\n",
    "# Generate the bin edges\n",
    "bin_edges = np.linspace(df_filtered['esmc_wt_marginal'].min()-1, df_filtered['esmc_wt_marginal'].max()+1, num_bins + 1)\n",
    "\n",
    "# Bin the esmc_masked_marginal column\n",
    "df_filtered['bin'] = pd.cut(df_filtered['esmc_wt_marginal'], bins=bin_edges, labels=False)\n",
    "\n",
    "print(df_filtered['bin'].unique())\n",
    "\n",
    "# Select the sequence with the highest value in each bin\n",
    "df_selected = df_filtered.groupby('bin').apply(lambda x: x.loc[x['esmc_masked_marginal'].idxmax()])\n",
    "\n",
    "dist_matrix = np.eye(df_selected.shape[0])\n",
    "for i in range(df_selected['masked_seq'].shape[0]):\n",
    "    for j in range(df_selected['masked_seq'].shape[0]):\n",
    "        dist_matrix[i, j] = helper.hamming_distance(df_selected['masked_seq'][i], df_selected['masked_seq'][j])\n",
    "\n",
    "plt.imshow(dist_matrix, cmap='viridis')\n",
    "plt.colorbar()\n",
    "\n",
    "evodiff_selected = df_selected['name'].to_list()"
   ]
  },
  {
   "cell_type": "code",
   "execution_count": null,
   "metadata": {},
   "outputs": [],
   "source": [
    "mask = df_pCK['name'].str.contains('evodiff')\n",
    "val_mask = (df_pCK['esmc_wt_marginal'] > -300) & df_pCK['esmc_masked_marginal'].between(-10, 10) & (df_pCK_anchor['esmc_masked_marginal'] > -50)\n",
    "\n",
    "print(f'no of evodiff sequences: {(mask & val_mask).sum()}')\n",
    "\n",
    "fig, ax = plt.subplots(3, 3, figsize=(11, 9), layout='constrained')\n",
    "\n",
    "predictors = ['esmc_wt_marginal', 'esmc_pll', 'esm3_wt_marginal', 'esm3_masked_marginal', 'esm3_pll', 'esmc_full_wt_marginal', 'esmc_full_masked_marginal', 'esm3_full_wt_marginal', 'esm3_full_masked_marginal']\n",
    "x_anchor = 'esmc_masked_marginal'\n",
    "\n",
    "for i, ax_ in enumerate(ax.flatten()):\n",
    "    ax_.scatter(df_pCK[x_anchor][mask & val_mask], df_pCK[predictors[i]][mask & val_mask], alpha=0.5, label='evodiff')\n",
    "    ax_.scatter(df_pCK[df_pCK['name'].isin(evodiff_selected)][x_anchor], df_pCK[df_pCK['name'].isin(evodiff_selected)][predictors[i]], alpha=0.7, label='selected_evodiff', color='green')\n",
    "    ax_.set_xlabel(x_anchor)\n",
    "    ax_.set_ylabel(predictors[i])\n",
    "    ax_.legend()\n",
    "\n",
    "\n",
    "fig, ax = plt.subplots(2, 4, figsize=(13, 6), layout='constrained')\n",
    "\n",
    "predictors = ['esmc_wt_marginal', 'esm3_wt_marginal', 'esm3_masked_marginal', 'esmc_full_wt_marginal', 'esmc_full_masked_marginal', 'esm3_full_wt_marginal', 'esm3_full_masked_marginal', 'no_plot']\n",
    "x_anchor = 'esmc_masked_marginal'\n",
    "\n",
    "for i, ax_ in enumerate(ax.flatten()):\n",
    "    if predictors[i] == 'no_plot':\n",
    "        ax_.axis('off')\n",
    "        continue\n",
    "    ax_.scatter(df_pCK_anchor[x_anchor][mask & val_mask], df_pCK_anchor[predictors[i]][mask & val_mask], alpha=0.5, label='evodiff')\n",
    "    ax_.scatter(df_pCK_anchor[df_pCK_anchor['name'].isin(evodiff_selected)][x_anchor], df_pCK_anchor[df_pCK_anchor['name'].isin(evodiff_selected)][predictors[i]], alpha=0.7, label='selected_evodiff', color='green')\n",
    "    ax_.set_xlabel(x_anchor)\n",
    "    ax_.set_ylabel(predictors[i])\n",
    "    ax_.legend()"
   ]
  },
  {
   "cell_type": "markdown",
   "metadata": {},
   "source": [
    "##### ESM3"
   ]
  },
  {
   "cell_type": "code",
   "execution_count": null,
   "metadata": {},
   "outputs": [],
   "source": [
    "mask = df_pCK['name'].str.contains('esm3')\n",
    "val_mask = (df_pCK['esmc_wt_marginal'] > -300) & df_pCK_anchor['esmc_masked_marginal'].between(-10, 10)\n",
    "\n",
    "print(f'no of esm3 sequences: {(mask & val_mask).sum()}')\n",
    "\n",
    "fig, ax = plt.subplots(3, 3, figsize=(11, 9), layout='constrained')\n",
    "\n",
    "predictors = ['esmc_wt_marginal', 'esmc_pll', 'esm3_wt_marginal', 'esm3_masked_marginal', 'esm3_pll', 'esmc_full_wt_marginal', 'esmc_full_masked_marginal', 'esm3_full_wt_marginal', 'esm3_full_masked_marginal']\n",
    "x_anchor = 'esmc_masked_marginal'\n",
    "\n",
    "for i, ax_ in enumerate(ax.flatten()):\n",
    "    ax_.scatter(df_pCK[x_anchor][mask & val_mask], df_pCK[predictors[i]][mask & val_mask], alpha=0.5, label='esm3')\n",
    "    ax_.set_xlabel(x_anchor)\n",
    "    ax_.set_ylabel(predictors[i])\n",
    "    ax_.legend()\n",
    "\n",
    "\n",
    "fig, ax = plt.subplots(2, 4, figsize=(13, 6), layout='constrained')\n",
    "\n",
    "predictors = ['esmc_wt_marginal', 'esm3_wt_marginal', 'esm3_masked_marginal', 'esmc_full_wt_marginal', 'esmc_full_masked_marginal', 'esm3_full_wt_marginal', 'esm3_full_masked_marginal', 'no_plot']\n",
    "x_anchor = 'esmc_masked_marginal'\n",
    "\n",
    "for i, ax_ in enumerate(ax.flatten()):\n",
    "    if predictors[i] == 'no_plot':\n",
    "        ax_.axis('off')\n",
    "        continue\n",
    "    ax_.scatter(df_pCK_anchor[x_anchor][mask & val_mask], df_pCK_anchor[predictors[i]][mask & val_mask], alpha=0.5, label='esm3')\n",
    "    ax_.set_xlabel(x_anchor)\n",
    "    ax_.set_ylabel(predictors[i])\n",
    "    ax_.legend()"
   ]
  },
  {
   "cell_type": "code",
   "execution_count": null,
   "metadata": {},
   "outputs": [],
   "source": [
    "mask = df_pCK['name'].str.contains('esm3') & (df_pCK['esmc_wt_marginal'] > -300) & df_pCK_anchor['esmc_masked_marginal'].between(-10, 10)\n",
    "\n",
    "df_filtered = df_pCK[mask]\n",
    "\n",
    "# Define the number of bins\n",
    "num_bins = 6\n",
    "# Generate the bin edges\n",
    "bin_edges = np.linspace(df_filtered['esmc_masked_marginal'].min()-1, df_filtered['esmc_masked_marginal'].max()+1, num_bins + 1)\n",
    "\n",
    "# Bin the esmc_masked_marginal column\n",
    "df_filtered['bin'] = pd.cut(df_filtered['esmc_masked_marginal'], bins=bin_edges, labels=False)\n",
    "\n",
    "print(df_filtered['bin'].unique())\n",
    "\n",
    "# Select the sequence with the highest value in each bin\n",
    "df_selected = df_filtered.groupby('bin').apply(lambda x: x.loc[x['esmc_masked_marginal'].idxmax()])\n",
    "\n",
    "dist_matrix = np.eye(df_selected.shape[0])\n",
    "for i in range(df_selected['masked_seq'].shape[0]):\n",
    "    for j in range(df_selected['masked_seq'].shape[0]):\n",
    "        dist_matrix[i, j] = helper.hamming_distance(df_selected['masked_seq'][i], df_selected['masked_seq'][j])\n",
    "\n",
    "plt.imshow(dist_matrix, cmap='viridis')\n",
    "plt.colorbar()\n",
    "\n",
    "esm3_selected = df_selected['name'].to_list()"
   ]
  },
  {
   "cell_type": "code",
   "execution_count": null,
   "metadata": {},
   "outputs": [],
   "source": [
    "mask = df_pCK['name'].str.contains('esm3')\n",
    "val_mask = (df_pCK['esmc_wt_marginal'] > -300) & df_pCK_anchor['esmc_masked_marginal'].between(-10, 10)\n",
    "\n",
    "print(f'no of esm3 sequences: {(mask & val_mask).sum()}')\n",
    "\n",
    "fig, ax = plt.subplots(3, 3, figsize=(11, 9), layout='constrained')\n",
    "\n",
    "predictors = ['esmc_wt_marginal', 'esmc_pll', 'esm3_wt_marginal', 'esm3_masked_marginal', 'esm3_pll', 'esmc_full_wt_marginal', 'esmc_full_masked_marginal', 'esm3_full_wt_marginal', 'esm3_full_masked_marginal']\n",
    "x_anchor = 'esmc_masked_marginal'\n",
    "\n",
    "for i, ax_ in enumerate(ax.flatten()):\n",
    "    ax_.scatter(df_pCK[x_anchor][mask & val_mask], df_pCK[predictors[i]][mask & val_mask], alpha=0.5, label='esm3')\n",
    "    ax_.scatter(df_pCK[df_pCK['name'].isin(esm3_selected)][x_anchor], df_pCK[df_pCK['name'].isin(esm3_selected)][predictors[i]], alpha=0.7, label='selected_esm3', color='red')\n",
    "    ax_.set_xlabel(x_anchor)\n",
    "    ax_.set_ylabel(predictors[i])\n",
    "    ax_.legend()\n",
    "\n",
    "\n",
    "fig, ax = plt.subplots(2, 4, figsize=(13, 6), layout='constrained')\n",
    "\n",
    "predictors = ['esmc_wt_marginal', 'esm3_wt_marginal', 'esm3_masked_marginal', 'esmc_full_wt_marginal', 'esmc_full_masked_marginal', 'esm3_full_wt_marginal', 'esm3_full_masked_marginal', 'no_plot']\n",
    "x_anchor = 'esmc_masked_marginal'\n",
    "\n",
    "for i, ax_ in enumerate(ax.flatten()):\n",
    "    if predictors[i] == 'no_plot':\n",
    "        ax_.axis('off')\n",
    "        continue\n",
    "    ax_.scatter(df_pCK_anchor[x_anchor][mask & val_mask], df_pCK_anchor[predictors[i]][mask & val_mask], alpha=0.5, label='esm3')\n",
    "    ax_.scatter(df_pCK_anchor[df_pCK_anchor['name'].isin(esm3_selected)][x_anchor], df_pCK_anchor[df_pCK_anchor['name'].isin(esm3_selected)][predictors[i]], alpha=0.7, label='selected_esm3', color='red')\n",
    "    ax_.set_xlabel(x_anchor)\n",
    "    ax_.set_ylabel(predictors[i])\n",
    "    ax_.legend()"
   ]
  },
  {
   "cell_type": "markdown",
   "metadata": {},
   "source": [
    "##### Combinee selections"
   ]
  },
  {
   "cell_type": "code",
   "execution_count": null,
   "metadata": {},
   "outputs": [],
   "source": [
    "df_selected = df_pCK[df_pCK['name'].isin(esm3_selected+evodiff_selected)]"
   ]
  },
  {
   "cell_type": "code",
   "execution_count": null,
   "metadata": {},
   "outputs": [],
   "source": [
    "df_selected"
   ]
  },
  {
   "cell_type": "code",
   "execution_count": null,
   "metadata": {},
   "outputs": [],
   "source": [
    "# fasta_full = os.path.join(data_path, 'pCK_KG_selected_full.fasta')\n",
    "# fasta_masked = os.path.join(data_path, 'pCK_KG_selected_masked.fasta')\n",
    "# for i, row in df_selected.iterrows():\n",
    "\n",
    "#     helper.create_fasta({\n",
    "#         row['name']: row['full_seq']\n",
    "#     }, file=fasta_full, append=True)\n",
    "\n",
    "#     helper.create_fasta({\n",
    "#         row['name']: row['masked_seq']\n",
    "#     }, file=fasta_masked, append=True)"
   ]
  },
  {
   "cell_type": "code",
   "execution_count": null,
   "metadata": {},
   "outputs": [],
   "source": []
  },
  {
   "cell_type": "code",
   "execution_count": null,
   "metadata": {},
   "outputs": [],
   "source": []
  },
  {
   "cell_type": "code",
   "execution_count": null,
   "metadata": {},
   "outputs": [],
   "source": []
  },
  {
   "cell_type": "code",
   "execution_count": null,
   "metadata": {},
   "outputs": [],
   "source": []
  },
  {
   "cell_type": "code",
   "execution_count": null,
   "metadata": {},
   "outputs": [],
   "source": []
  },
  {
   "cell_type": "code",
   "execution_count": null,
   "metadata": {},
   "outputs": [],
   "source": []
  },
  {
   "cell_type": "code",
   "execution_count": null,
   "metadata": {},
   "outputs": [],
   "source": []
  },
  {
   "cell_type": "code",
   "execution_count": null,
   "metadata": {},
   "outputs": [],
   "source": []
  }
 ],
 "metadata": {
  "kernelspec": {
   "display_name": "Python 3 (ipykernel)",
   "language": "python",
   "name": "python3"
  },
  "language_info": {
   "codemirror_mode": {
    "name": "ipython",
    "version": 3
   },
   "file_extension": ".py",
   "mimetype": "text/x-python",
   "name": "python",
   "nbconvert_exporter": "python",
   "pygments_lexer": "ipython3",
   "version": "3.10.13"
  }
 },
 "nbformat": 4,
 "nbformat_minor": 2
}
