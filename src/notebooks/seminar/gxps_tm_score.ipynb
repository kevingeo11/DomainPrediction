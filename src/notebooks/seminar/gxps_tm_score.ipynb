{
 "cells": [
  {
   "cell_type": "code",
   "execution_count": 1,
   "metadata": {},
   "outputs": [],
   "source": [
    "import sys\n",
    "sys.path.append('../..')"
   ]
  },
  {
   "cell_type": "code",
   "execution_count": 2,
   "metadata": {},
   "outputs": [],
   "source": [
    "import os\n",
    "from tqdm import tqdm\n",
    "import matplotlib.pyplot as plt\n",
    "import numpy as np\n",
    "import pandas as pd\n",
    "from collections import defaultdict\n",
    "\n",
    "from Bio import PDB\n",
    "import Bio\n",
    "import Bio.PDB"
   ]
  },
  {
   "cell_type": "code",
   "execution_count": 3,
   "metadata": {},
   "outputs": [],
   "source": [
    "from DomainPrediction.protein.base import BaseProtein\n",
    "from DomainPrediction.protein.base import FoldedProtein\n",
    "from DomainPrediction.utils import helper\n",
    "from DomainPrediction.eval import metrics\n",
    "from DomainPrediction.utils.hmmtools import HmmerTools\n",
    "from DomainPrediction.utils.tmalign import TMalign\n",
    "from DomainPrediction.utils.constants import *"
   ]
  },
  {
   "cell_type": "code",
   "execution_count": 4,
   "metadata": {},
   "outputs": [],
   "source": [
    "root = '../../..'\n",
    "data_path = '/data/users/kgeorge/workspace/Data'\n",
    "pmpnn_path = os.path.join(data_path, 'pmpnn_experiments/gxps_exp')\n",
    "esm3_path = os.path.join(data_path, 'esm3_experiments/gxps_exp')\n",
    "evodiff_path = os.path.join(data_path, 'evodiff_experiments/gxps_exp')\n",
    "esm2_entropy_path = os.path.join(data_path, 'esm2_experiments/entropy/gxps_exp')"
   ]
  },
  {
   "cell_type": "code",
   "execution_count": 5,
   "metadata": {},
   "outputs": [],
   "source": [
    "protein_6mfw = BaseProtein(file=os.path.join(data_path, 'gxps/gxps_ATC_hm_6mfy.pdb'))"
   ]
  },
  {
   "cell_type": "code",
   "execution_count": null,
   "metadata": {},
   "outputs": [],
   "source": []
  },
  {
   "cell_type": "markdown",
   "metadata": {},
   "source": [
    "#### Extract T domains and save"
   ]
  },
  {
   "cell_type": "code",
   "execution_count": 6,
   "metadata": {},
   "outputs": [],
   "source": [
    "def extract_residues(pdb_file, chain_id, start_residue, end_residue, output_file):\n",
    "    \"\"\"\n",
    "        This was from chatgpt - it works!\n",
    "        I was lazy to create my own\n",
    "    \"\"\"\n",
    "    # Create a parser and structure object\n",
    "    parser = PDB.PDBParser()\n",
    "    structure = parser.get_structure('protein', pdb_file)\n",
    "    \n",
    "    # Create a PDBIO object to write the output\n",
    "    io = PDB.PDBIO()\n",
    "    \n",
    "    class ResidueSelector(PDB.Select):\n",
    "        def accept_residue(self, residue):\n",
    "            # Check if the residue is within the specified range\n",
    "            return start_residue <= residue.id[1] <= end_residue\n",
    "    \n",
    "    # Select the chain and extract the residues\n",
    "    chain = structure[0][chain_id]\n",
    "    \n",
    "    # Set the structure to be written (the selected residues)\n",
    "    io.set_structure(chain)\n",
    "    \n",
    "    # Save the selected residues to a new PDB file\n",
    "    io.save(output_file, ResidueSelector())"
   ]
  },
  {
   "cell_type": "code",
   "execution_count": null,
   "metadata": {},
   "outputs": [],
   "source": [
    "# chain_id = \"A\"\n",
    "# start_residue = T_gxps_atc[0] + 1\n",
    "# end_residue = T_gxps_atc[-1] + 1 \n",
    "\n",
    "# paths = [pmpnn_path, esm3_path, evodiff_path, esm2_entropy_path]\n",
    "# for _path in paths:\n",
    "#     print(_path)\n",
    "#     pdb_path = os.path.join(_path, 'gxps_pdbs')\n",
    "#     for f in os.listdir(pdb_path):\n",
    "#         file = os.path.join(pdb_path, f)\n",
    "#         if f.endswith('.pdb'):\n",
    "#             input_file = os.path.join(pdb_path, f)\n",
    "#             output_file = os.path.join(pdb_path, f.replace('.pdb', '.T.pdb'))\n",
    "\n",
    "#             extract_residues(input_file, chain_id, start_residue, end_residue, output_file)"
   ]
  },
  {
   "cell_type": "code",
   "execution_count": null,
   "metadata": {},
   "outputs": [],
   "source": []
  },
  {
   "cell_type": "markdown",
   "metadata": {},
   "source": [
    "#### Get TM Score against full proteins and T domains\n",
    "\n",
    "We can skip random as they have poor sequences"
   ]
  },
  {
   "cell_type": "code",
   "execution_count": null,
   "metadata": {},
   "outputs": [],
   "source": [
    "paths = [pmpnn_path, esm3_path, evodiff_path, esm2_entropy_path]\n",
    "for _path in paths:\n",
    "    print(_path)\n",
    "    pdbs_path = os.path.join(_path, '6mfw_pdbs')\n",
    "    \n",
    "    ## Sanity check\n",
    "    print('Checking keys in metadata')\n",
    "    for f in tqdm(os.listdir(pdbs_path)):\n",
    "        if f.endswith('.meta.npz'):\n",
    "            meta_file = os.path.join(pdbs_path, f)\n",
    "            metadata = dict(np.load(meta_file))\n",
    "            for key in ['predicted_aligned_error', 'ptm', 'esm2_650M_perplexity', 'max_TM_score', 'T_TM_score']:\n",
    "                assert key in metadata"
   ]
  },
  {
   "cell_type": "code",
   "execution_count": null,
   "metadata": {},
   "outputs": [],
   "source": []
  },
  {
   "cell_type": "markdown",
   "metadata": {},
   "source": [
    "#### TM-score/pLDDT vs perplexity"
   ]
  },
  {
   "cell_type": "code",
   "execution_count": null,
   "metadata": {},
   "outputs": [],
   "source": [
    "# ## This is taking up too much memory\n",
    "\n",
    "# paths_dict = {\n",
    "#     'pmpnn': pmpnn_path, \n",
    "#     'esm3': esm3_path, \n",
    "#     'evodiff': evodiff_path, \n",
    "#     'esm2': esm2_entropy_path\n",
    "# }\n",
    "\n",
    "# proteins = defaultdict(list)\n",
    "\n",
    "# for _model, _path in paths_dict.items():\n",
    "#     print(_path)\n",
    "#     pdbs_path = os.path.join(_path, '6mfw_pdbs')\n",
    "#     for f in tqdm(os.listdir(pdbs_path)):\n",
    "#         if f.endswith('.pdb') and not f.endswith('T.pdb'):\n",
    "#             file = os.path.join(pdbs_path, f)\n",
    "#             proteins[_model].append(FoldedProtein(file, id=f.replace('.pdb', '')))"
   ]
  },
  {
   "cell_type": "code",
   "execution_count": null,
   "metadata": {},
   "outputs": [],
   "source": [
    "## This is taking up too much memory\n",
    "paths_dict = {\n",
    "    'pmpnn': pmpnn_path, \n",
    "    'esm3': esm3_path, \n",
    "    'evodiff': evodiff_path, \n",
    "    'esm2': esm2_entropy_path\n",
    "}\n",
    "\n",
    "proteins = defaultdict(list)\n",
    "\n",
    "for _model, _path in paths_dict.items():\n",
    "    print(_path)\n",
    "    pdbs_path = os.path.join(_path, '6mfw_pdbs')\n",
    "    for f in tqdm(os.listdir(pdbs_path)):\n",
    "        if f.endswith('.pdb') and not f.endswith('T.pdb'):\n",
    "            file = os.path.join(pdbs_path, f)\n",
    "            pdbparser = Bio.PDB.PDBParser(QUIET=True)\n",
    "            struct = pdbparser.get_structure('protein', file)\n",
    "            plddts = np.array([a.get_bfactor() for a in struct.get_atoms()])\n",
    "            plddt = plddts.mean()\n",
    "            \n",
    "            meta_file = file.replace('.pdb', '.meta.npz')\n",
    "            assert os.path.isfile(meta_file)\n",
    "\n",
    "            metadata = dict(np.load(meta_file))\n",
    "            metadata['predicted_aligned_error'] = 0     # reduce memory. pAE (1000x1000) np array\n",
    "            metadata['plddt'] = plddt\n",
    "            \n",
    "            proteins[_model].append(metadata)"
   ]
  },
  {
   "cell_type": "code",
   "execution_count": null,
   "metadata": {},
   "outputs": [],
   "source": [
    "proteins['pmpnn'][0]"
   ]
  },
  {
   "cell_type": "code",
   "execution_count": null,
   "metadata": {},
   "outputs": [],
   "source": [
    "proteins.keys()"
   ]
  },
  {
   "cell_type": "code",
   "execution_count": null,
   "metadata": {},
   "outputs": [],
   "source": [
    "for key in proteins:\n",
    "    if key == 'esm2':\n",
    "        assert len(proteins[key]) == 983\n",
    "    else:\n",
    "        assert len(proteins[key]) == 1000"
   ]
  },
  {
   "cell_type": "code",
   "execution_count": null,
   "metadata": {},
   "outputs": [],
   "source": [
    "## pLDDT and pTM scores vs TM score\n",
    "fig, ax = plt.subplots(nrows=1, ncols=2, figsize=(10,4))\n",
    "labels = ['ESM2 entropy', 'PMPNN', 'EvoDiff', 'ESM3']\n",
    "keys = ['esm2', 'pmpnn', 'evodiff', 'esm3']\n",
    "\n",
    "wt_perplexity = 4.835815952586172\n",
    "_ = ax[0].axhline(wt_perplexity, linestyle='--', color='red', label='wt', alpha=0.7)\n",
    "_ = ax[1].axhline(wt_perplexity, linestyle='--', color='red', label='wt', alpha=0.7)\n",
    "\n",
    "for label, key in zip(labels, keys):\n",
    "    _ = ax[0].scatter([p['plddt'] for p in proteins[key]], [p['esm2_650M_perplexity'] for p in proteins[key]], \n",
    "                      marker='.', label=label, alpha=0.3, s=7)\n",
    "    _ = ax[1].scatter([p['T_TM_score'] for p in proteins[key]], [p['esm2_650M_perplexity'] for p in proteins[key]], \n",
    "                      marker='.', label=label, alpha=0.3, s=7)\n",
    "    \n",
    "_ = ax[0].set_xlabel('pLDDT')\n",
    "_ = ax[0].set_ylabel('perplexity')\n",
    "\n",
    "_ = ax[1].set_xlabel('TM-score')\n",
    "\n",
    "# _ = ax.legend()"
   ]
  },
  {
   "cell_type": "code",
   "execution_count": null,
   "metadata": {},
   "outputs": [],
   "source": []
  }
 ],
 "metadata": {
  "kernelspec": {
   "display_name": "workspace-esm",
   "language": "python",
   "name": "python3"
  },
  "language_info": {
   "codemirror_mode": {
    "name": "ipython",
    "version": 3
   },
   "file_extension": ".py",
   "mimetype": "text/x-python",
   "name": "python",
   "nbconvert_exporter": "python",
   "pygments_lexer": "ipython3",
   "version": "3.10.13"
  }
 },
 "nbformat": 4,
 "nbformat_minor": 2
}
