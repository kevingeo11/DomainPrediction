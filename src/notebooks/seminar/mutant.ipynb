{
 "cells": [
  {
   "cell_type": "code",
   "execution_count": 1,
   "metadata": {},
   "outputs": [],
   "source": [
    "import sys\n",
    "sys.path.append('../..')"
   ]
  },
  {
   "cell_type": "code",
   "execution_count": 2,
   "metadata": {},
   "outputs": [],
   "source": [
    "import os\n",
    "from tqdm import tqdm\n",
    "import matplotlib.pyplot as plt\n",
    "import numpy as np\n",
    "import pandas as pd"
   ]
  },
  {
   "cell_type": "code",
   "execution_count": 3,
   "metadata": {},
   "outputs": [],
   "source": [
    "from DomainPrediction.protein.base import BaseProtein\n",
    "from DomainPrediction.protein.base import FoldedProtein\n",
    "from DomainPrediction.utils import helper\n",
    "from DomainPrediction.eval import metrics\n",
    "from DomainPrediction.utils.hmmtools import HmmerTools\n",
    "from DomainPrediction.utils.tmalign import TMalign\n",
    "from DomainPrediction.utils.constants import *"
   ]
  },
  {
   "cell_type": "code",
   "execution_count": 5,
   "metadata": {},
   "outputs": [],
   "source": [
    "root = '../../..'\n",
    "data_path = os.path.join(root, 'Data/round_2_exp')"
   ]
  },
  {
   "cell_type": "code",
   "execution_count": 14,
   "metadata": {},
   "outputs": [],
   "source": [
    "best = helper.read_fasta(os.path.join(data_path, 'round1.best.fasta'), mode='str')[0]\n",
    "wt = helper.read_fasta(os.path.join(data_path, 'round_1.fasta'), mode='str')[0]"
   ]
  },
  {
   "cell_type": "code",
   "execution_count": 20,
   "metadata": {},
   "outputs": [
    {
     "name": "stdout",
     "output_type": "stream",
     "text": [
      "491 S G\n",
      "495 Y F\n",
      "496 P A\n",
      "498 A Q\n",
      "499 T A\n",
      "501 E Q\n",
      "504 E Q\n",
      "507 T I\n",
      "509 Q I\n",
      "510 L A\n",
      "513 G T\n",
      "516 M R\n",
      "517 D E\n",
      "520 Q N\n",
      "522 D E\n",
      "523 R Q\n",
      "532 E A\n",
      "543 L M\n",
      "544 L I\n",
      "545 G E\n",
      "549 Q R\n",
      "550 H I\n",
      "555 Q S\n",
      "556 M V\n",
      "557 R Q\n",
      "558 D T\n",
      "561 E Q\n",
      "562 A H\n",
      "564 V T\n",
      "566 A S\n",
      "567 E V\n",
      "570 T Q\n",
      "571 R S\n",
      "573 R V\n",
      "575 Y H\n",
      "576 Q R\n",
      "577 P E\n",
      "578 L I\n",
      "579 E S\n",
      "582 A D\n",
      "587 P A\n",
      "595 E A\n",
      "600 V I\n",
      "601 T D\n",
      "603 S T\n"
     ]
    }
   ],
   "source": [
    "count = 0\n",
    "pos = []\n",
    "for i, (aa_i, aa_j) in enumerate(zip(best, wt)):\n",
    "    if aa_i != aa_j:\n",
    "        print(i, aa_i, aa_j)\n",
    "        count += 1\n",
    "        pos.append(i+1)"
   ]
  },
  {
   "cell_type": "code",
   "execution_count": 19,
   "metadata": {},
   "outputs": [
    {
     "data": {
      "text/plain": [
       "45"
      ]
     },
     "execution_count": 19,
     "metadata": {},
     "output_type": "execute_result"
    }
   ],
   "source": [
    "count"
   ]
  },
  {
   "cell_type": "code",
   "execution_count": 23,
   "metadata": {},
   "outputs": [
    {
     "data": {
      "text/plain": [
       "'492+496+497+499+500+502+505+508+510+511+514+517+518+521+523+524+533+544+545+546+550+551+556+557+558+559+562+563+565+567+568+571+572+574+576+577+578+579+580+583+588+596+601+602+604'"
      ]
     },
     "execution_count": 23,
     "metadata": {},
     "output_type": "execute_result"
    }
   ],
   "source": [
    "'+'.join([str(p) for p in pos])"
   ]
  },
  {
   "cell_type": "code",
   "execution_count": null,
   "metadata": {},
   "outputs": [],
   "source": []
  }
 ],
 "metadata": {
  "kernelspec": {
   "display_name": "workspace-esm",
   "language": "python",
   "name": "python3"
  },
  "language_info": {
   "codemirror_mode": {
    "name": "ipython",
    "version": 3
   },
   "file_extension": ".py",
   "mimetype": "text/x-python",
   "name": "python",
   "nbconvert_exporter": "python",
   "pygments_lexer": "ipython3",
   "version": "3.10.13"
  }
 },
 "nbformat": 4,
 "nbformat_minor": 2
}
