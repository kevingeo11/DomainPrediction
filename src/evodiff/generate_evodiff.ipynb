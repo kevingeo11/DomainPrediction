{
 "cells": [
  {
   "cell_type": "code",
   "execution_count": 1,
   "metadata": {},
   "outputs": [],
   "source": [
    "import sys\n",
    "sys.path.append('..')"
   ]
  },
  {
   "cell_type": "code",
   "execution_count": 2,
   "metadata": {},
   "outputs": [
    {
     "name": "stderr",
     "output_type": "stream",
     "text": [
      "/nethome/kgeorge/miniconda3/envs/workspace-esm/lib/python3.10/site-packages/torch_geometric/typing.py:54: UserWarning: An issue occurred while importing 'pyg-lib'. Disabling its usage. Stacktrace: /lib/x86_64-linux-gnu/libm.so.6: version `GLIBC_2.29' not found (required by /nethome/kgeorge/miniconda3/envs/workspace-esm/lib/python3.10/site-packages/libpyg.so)\n",
      "  warnings.warn(f\"An issue occurred while importing 'pyg-lib'. \"\n",
      "/nethome/kgeorge/miniconda3/envs/workspace-esm/lib/python3.10/site-packages/torch_geometric/typing.py:110: UserWarning: An issue occurred while importing 'torch-sparse'. Disabling its usage. Stacktrace: /lib/x86_64-linux-gnu/libm.so.6: version `GLIBC_2.29' not found (required by /nethome/kgeorge/miniconda3/envs/workspace-esm/lib/python3.10/site-packages/libpyg.so)\n",
      "  warnings.warn(f\"An issue occurred while importing 'torch-sparse'. \"\n"
     ]
    }
   ],
   "source": [
    "import os\n",
    "import numpy as np\n",
    "import matplotlib.pyplot as plt\n",
    "import torch\n",
    "\n",
    "from evodiff.pretrained import OA_DM_38M, OA_DM_640M\n",
    "from evodiff.generate import generate_oaardm\n",
    "from evodiff.conditional_generation import inpaint_simple \n",
    "\n",
    "torch.hub.set_dir('/data/users/kgeorge/workspace/evodiff')"
   ]
  },
  {
   "cell_type": "code",
   "execution_count": 3,
   "metadata": {},
   "outputs": [],
   "source": [
    "from DomainPrediction import BaseProtein\n",
    "from DomainPrediction.eval import metrics\n",
    "from DomainPrediction.utils import helper"
   ]
  },
  {
   "cell_type": "code",
   "execution_count": 4,
   "metadata": {},
   "outputs": [],
   "source": [
    "protein = BaseProtein(file='../../Data/GxpS_ATC_AF.pdb')\n",
    "T = [i for i in range(538,608)] ## 539-608"
   ]
  },
  {
   "cell_type": "code",
   "execution_count": 5,
   "metadata": {},
   "outputs": [
    {
     "data": {
      "text/plain": [
       "'GEIEIALATIWRELLNVEQVGRHDSFFALGGHSLLAVRMIERLRRIGLGLSVQTLFQHPTLSVLAQSLVP'"
      ]
     },
     "execution_count": 5,
     "metadata": {},
     "output_type": "execute_result"
    }
   ],
   "source": [
    "protein.get_residues(T) ## T domain"
   ]
  },
  {
   "cell_type": "code",
   "execution_count": null,
   "metadata": {},
   "outputs": [],
   "source": []
  },
  {
   "cell_type": "code",
   "execution_count": 6,
   "metadata": {},
   "outputs": [],
   "source": [
    "# checkpoint = OA_DM_38M()\n",
    "checkpoint = OA_DM_640M()\n",
    "model, collater, tokenizer, scheme = checkpoint"
   ]
  },
  {
   "cell_type": "code",
   "execution_count": 14,
   "metadata": {},
   "outputs": [],
   "source": [
    "model = model.cuda()"
   ]
  },
  {
   "cell_type": "code",
   "execution_count": 17,
   "metadata": {},
   "outputs": [
    {
     "name": "stderr",
     "output_type": "stream",
     "text": [
      "100%|██████████| 70/70 [00:20<00:00,  3.39it/s]\n",
      "100%|██████████| 70/70 [00:20<00:00,  3.36it/s]\n",
      "100%|██████████| 70/70 [00:21<00:00,  3.33it/s]\n",
      "100%|██████████| 70/70 [00:21<00:00,  3.30it/s]\n",
      "100%|██████████| 70/70 [00:21<00:00,  3.28it/s]\n",
      "100%|██████████| 70/70 [00:21<00:00,  3.27it/s]\n",
      "100%|██████████| 70/70 [00:21<00:00,  3.24it/s]\n",
      "100%|██████████| 70/70 [00:21<00:00,  3.22it/s]\n",
      "100%|██████████| 70/70 [00:21<00:00,  3.20it/s]\n",
      "100%|██████████| 70/70 [00:21<00:00,  3.20it/s]\n",
      "100%|██████████| 70/70 [00:21<00:00,  3.19it/s]\n",
      "100%|██████████| 70/70 [00:21<00:00,  3.19it/s]\n",
      "100%|██████████| 70/70 [00:21<00:00,  3.19it/s]\n",
      "100%|██████████| 70/70 [00:21<00:00,  3.18it/s]\n",
      "100%|██████████| 70/70 [00:22<00:00,  3.18it/s]\n",
      "100%|██████████| 70/70 [00:22<00:00,  3.18it/s]\n",
      "100%|██████████| 70/70 [00:22<00:00,  3.18it/s]\n",
      "100%|██████████| 70/70 [00:22<00:00,  3.18it/s]\n",
      "100%|██████████| 70/70 [00:22<00:00,  3.18it/s]\n",
      "100%|██████████| 70/70 [00:22<00:00,  3.17it/s]\n",
      "100%|██████████| 70/70 [00:22<00:00,  3.17it/s]\n",
      "100%|██████████| 70/70 [00:22<00:00,  3.17it/s]\n",
      "100%|██████████| 70/70 [00:22<00:00,  3.16it/s]\n",
      "100%|██████████| 70/70 [00:22<00:00,  3.17it/s]\n",
      "100%|██████████| 70/70 [00:22<00:00,  3.17it/s]\n",
      "100%|██████████| 70/70 [00:22<00:00,  3.17it/s]\n",
      "100%|██████████| 70/70 [00:22<00:00,  3.16it/s]\n",
      "100%|██████████| 70/70 [00:22<00:00,  3.16it/s]\n",
      "100%|██████████| 70/70 [00:22<00:00,  3.16it/s]\n",
      "100%|██████████| 70/70 [00:22<00:00,  3.16it/s]\n",
      "100%|██████████| 70/70 [00:22<00:00,  3.16it/s]\n",
      "100%|██████████| 70/70 [00:22<00:00,  3.16it/s]\n",
      "100%|██████████| 70/70 [00:22<00:00,  3.16it/s]\n",
      "100%|██████████| 70/70 [00:22<00:00,  3.16it/s]\n",
      "100%|██████████| 70/70 [00:22<00:00,  3.16it/s]\n",
      "100%|██████████| 70/70 [00:22<00:00,  3.16it/s]\n",
      "100%|██████████| 70/70 [00:22<00:00,  3.16it/s]\n",
      "100%|██████████| 70/70 [00:22<00:00,  3.16it/s]\n",
      "100%|██████████| 70/70 [00:22<00:00,  3.16it/s]\n",
      "100%|██████████| 70/70 [00:22<00:00,  3.16it/s]\n",
      "100%|██████████| 70/70 [00:22<00:00,  3.16it/s]\n",
      "100%|██████████| 70/70 [00:22<00:00,  3.16it/s]\n",
      "100%|██████████| 70/70 [00:22<00:00,  3.16it/s]\n",
      "100%|██████████| 70/70 [00:22<00:00,  3.16it/s]\n",
      "100%|██████████| 70/70 [00:22<00:00,  3.16it/s]\n",
      "100%|██████████| 70/70 [00:22<00:00,  3.16it/s]\n",
      "100%|██████████| 70/70 [00:22<00:00,  3.16it/s]\n",
      "100%|██████████| 70/70 [00:22<00:00,  3.16it/s]\n",
      "100%|██████████| 70/70 [00:22<00:00,  3.16it/s]\n",
      "100%|██████████| 70/70 [00:22<00:00,  3.16it/s]\n",
      "100%|██████████| 70/70 [00:22<00:00,  3.16it/s]\n",
      "100%|██████████| 70/70 [00:22<00:00,  3.16it/s]\n",
      "100%|██████████| 70/70 [00:22<00:00,  3.16it/s]\n",
      "100%|██████████| 70/70 [00:22<00:00,  3.16it/s]\n",
      "100%|██████████| 70/70 [00:22<00:00,  3.16it/s]\n",
      "100%|██████████| 70/70 [00:22<00:00,  3.16it/s]\n",
      "100%|██████████| 70/70 [00:22<00:00,  3.16it/s]\n",
      "100%|██████████| 70/70 [00:22<00:00,  3.16it/s]\n",
      "100%|██████████| 70/70 [00:22<00:00,  3.16it/s]\n",
      "100%|██████████| 70/70 [00:22<00:00,  3.16it/s]\n",
      "100%|██████████| 70/70 [00:22<00:00,  3.16it/s]\n",
      "100%|██████████| 70/70 [00:22<00:00,  3.16it/s]\n",
      "100%|██████████| 70/70 [00:22<00:00,  3.16it/s]\n",
      "100%|██████████| 70/70 [00:22<00:00,  3.16it/s]\n",
      "100%|██████████| 70/70 [00:22<00:00,  3.16it/s]\n",
      "100%|██████████| 70/70 [00:22<00:00,  3.16it/s]\n",
      "100%|██████████| 70/70 [00:22<00:00,  3.16it/s]\n",
      "100%|██████████| 70/70 [00:22<00:00,  3.16it/s]\n",
      "100%|██████████| 70/70 [00:22<00:00,  3.16it/s]\n",
      "100%|██████████| 70/70 [00:22<00:00,  3.16it/s]\n",
      "100%|██████████| 70/70 [00:22<00:00,  3.16it/s]\n",
      "100%|██████████| 70/70 [00:22<00:00,  3.16it/s]\n",
      "100%|██████████| 70/70 [00:22<00:00,  3.16it/s]\n",
      "100%|██████████| 70/70 [00:22<00:00,  3.16it/s]\n",
      "100%|██████████| 70/70 [00:22<00:00,  3.16it/s]\n",
      "100%|██████████| 70/70 [00:22<00:00,  3.16it/s]\n",
      "100%|██████████| 70/70 [00:22<00:00,  3.16it/s]\n",
      "100%|██████████| 70/70 [00:22<00:00,  3.16it/s]\n",
      "100%|██████████| 70/70 [00:22<00:00,  3.16it/s]\n",
      "100%|██████████| 70/70 [00:22<00:00,  3.16it/s]\n",
      "100%|██████████| 70/70 [00:22<00:00,  3.16it/s]\n",
      "100%|██████████| 70/70 [00:22<00:00,  3.16it/s]\n",
      "100%|██████████| 70/70 [00:22<00:00,  3.16it/s]\n",
      "100%|██████████| 70/70 [00:22<00:00,  3.16it/s]\n",
      "100%|██████████| 70/70 [00:22<00:00,  3.16it/s]\n",
      "100%|██████████| 70/70 [00:22<00:00,  3.16it/s]\n",
      "100%|██████████| 70/70 [00:22<00:00,  3.16it/s]\n",
      "100%|██████████| 70/70 [00:22<00:00,  3.16it/s]\n",
      "100%|██████████| 70/70 [00:22<00:00,  3.16it/s]\n",
      "100%|██████████| 70/70 [00:22<00:00,  3.16it/s]\n",
      "100%|██████████| 70/70 [00:22<00:00,  3.16it/s]\n",
      "100%|██████████| 70/70 [00:22<00:00,  3.16it/s]\n",
      "100%|██████████| 70/70 [00:22<00:00,  3.16it/s]\n",
      "100%|██████████| 70/70 [00:22<00:00,  3.16it/s]\n",
      "100%|██████████| 70/70 [00:22<00:00,  3.16it/s]\n",
      "100%|██████████| 70/70 [00:22<00:00,  3.16it/s]\n",
      "100%|██████████| 70/70 [00:22<00:00,  3.16it/s]\n",
      "100%|██████████| 70/70 [00:22<00:00,  3.16it/s]\n",
      "100%|██████████| 70/70 [00:22<00:00,  3.16it/s]\n",
      "100%|██████████| 70/70 [00:22<00:00,  3.16it/s]\n"
     ]
    }
   ],
   "source": [
    "sequence = protein.sequence\n",
    "start_idx = 538\n",
    "end_idx = 608\n",
    "\n",
    "seq_dict = {}\n",
    "for i in range(100):\n",
    "    sample, entire_sequence, generated_idr = inpaint_simple(model, sequence, start_idx, end_idx, tokenizer=tokenizer, device='cuda')\n",
    "    id = f'EvoDiff_GxpS_ATC_gen_{i}'\n",
    "    seq_dict[id] = entire_sequence\n"
   ]
  },
  {
   "cell_type": "code",
   "execution_count": 18,
   "metadata": {},
   "outputs": [],
   "source": [
    "fasta_file = '/nethome/kgeorge/workspace/DomainPrediction/Data/evodiff_experiments/evodiff_100.fasta'\n",
    "helper.create_fasta(seq_dict, fasta_file)"
   ]
  },
  {
   "cell_type": "code",
   "execution_count": 19,
   "metadata": {},
   "outputs": [],
   "source": [
    "records = helper.read_fasta(fasta_file)\n",
    "seq_dict_ = {}\n",
    "for rec in records:\n",
    "    seq_dict_[rec.id] = ''.join([str(rec.seq)[i] for i in T])\n",
    "\n",
    "file = '/nethome/kgeorge/workspace/DomainPrediction/Data/evodiff_experiments/evodiff_100.T.fasta'\n",
    "helper.create_fasta(seq_dict_, file)"
   ]
  },
  {
   "cell_type": "code",
   "execution_count": null,
   "metadata": {},
   "outputs": [],
   "source": []
  }
 ],
 "metadata": {
  "kernelspec": {
   "display_name": "workspace-esm",
   "language": "python",
   "name": "python3"
  },
  "language_info": {
   "codemirror_mode": {
    "name": "ipython",
    "version": 3
   },
   "file_extension": ".py",
   "mimetype": "text/x-python",
   "name": "python",
   "nbconvert_exporter": "python",
   "pygments_lexer": "ipython3",
   "version": "3.10.13"
  }
 },
 "nbformat": 4,
 "nbformat_minor": 2
}
