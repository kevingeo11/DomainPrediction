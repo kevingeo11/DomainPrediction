{
 "cells": [
  {
   "cell_type": "code",
   "execution_count": 1,
   "metadata": {},
   "outputs": [],
   "source": [
    "import sys\n",
    "sys.path.append('../../carbonmatrix_public')"
   ]
  },
  {
   "cell_type": "code",
   "execution_count": 2,
   "metadata": {},
   "outputs": [],
   "source": [
    "import os\n",
    "import argparse\n",
    "import logging\n",
    "from logging.handlers import QueueHandler, QueueListener\n",
    "import resource\n",
    "import json\n",
    "from random import shuffle\n",
    "\n",
    "import ml_collections\n",
    "import numpy as np\n",
    "import torch\n",
    "import torch.multiprocessing as mp\n",
    "from einops import rearrange\n",
    "from collections import OrderedDict\n",
    "from carbondesign.data.pdbio import save_pdb\n",
    "\n",
    "from carbondesign.model.carbondesign import CarbonDesign\n",
    "from carbondesign.testloader import dataset_test\n",
    "from carbondesign.common.utils import index_to_str_seq"
   ]
  },
  {
   "cell_type": "code",
   "execution_count": 3,
   "metadata": {},
   "outputs": [],
   "source": [
    "def worker_device(rank, args):\n",
    "    if args.device == 'gpu':\n",
    "        return torch.device(f'cuda:{args.gpu_idx[rank]}')\n",
    "    else:\n",
    "        return torch.device('cpu')\n",
    "\n",
    "def worker_load(rank, args):\n",
    "    def _feats_gen(feats, device):\n",
    "        for fn, opts in feats:\n",
    "            if 'device' in opts:\n",
    "                opts['device'] = device\n",
    "            yield fn, opts\n",
    "    \n",
    "    device = worker_device(rank, args)\n",
    "    \n",
    "    # model\n",
    "    with open(args.model_config, 'r', encoding='utf-8') as f:\n",
    "        config = json.loads(f.read())\n",
    "        config = ml_collections.ConfigDict(config)\n",
    "\n",
    "    checkpoint = torch.load(args.model, map_location=device)\n",
    "    model = CarbonDesign(config=config.model)\n",
    "    model_state_dict = OrderedDict()\n",
    "    for k, v in checkpoint['model'].items():\n",
    "        if k.startswith('module.'):\n",
    "            k = k[len('module.'):]\n",
    "        model_state_dict[k] = v\n",
    "    model.load_state_dict(model_state_dict,strict = False)\n",
    "    \n",
    "    with open(args.model_features, 'r', encoding='utf-8') as f:\n",
    "        feats = json.loads(f.read())\n",
    "\n",
    "        for i in range(len(feats)):\n",
    "            feat_name, feat_args = feats[i]\n",
    "            if 'device' in feat_args and feat_args['device'] == '%(device)s':\n",
    "                feat_args['device'] = device\n",
    "\n",
    "    model = model.to(device=device)\n",
    "    model.eval()\n",
    "    return list(_feats_gen(feats, device)), model\n",
    "\n",
    "\n",
    "def softmax(x):\n",
    "    x = np.exp(x - np.max(x, axis=-1, keepdims=True))\n",
    "    return x / np.sum(x, axis=-1, keepdims=True)\n",
    "\n",
    "def one_hot(a, num_classes=21):\n",
    "  return np.squeeze(np.eye(num_classes)[a.reshape(-1)])\n",
    "\n",
    "def mrf_score(label, site_repr, pair_repr, site_mask, pair_mask):\n",
    "    N, C = site_repr.shape\n",
    "    pair_repr = np.reshape(pair_repr, [N, N, C, C])\n",
    "    label = one_hot(label)\n",
    "    \n",
    "    score = np.sum(site_repr * label * site_mask[:,None]) + np.sum(label[None,:,None,:] * label[:,None,:,None] * pair_repr * pair_mask[:,:,None,None]) / 2.0\n",
    "    return score\n",
    "\n",
    "def temp_softmax(z, T):\n",
    "    exp_z = np.exp(z/T)\n",
    "    sum_exp_z = np.sum(exp_z)\n",
    "    return exp_z / sum_exp_z\n",
    "\n",
    "def infer_mrf(init_label, site_repr, pair_repr, site_mask, pair_mask, T):\n",
    "    N, C = site_repr.shape\n",
    "    pair_repr = np.reshape(pair_repr, [N, N, C, C])\n",
    "    deg = np.sum(pair_mask, axis=-1)\n",
    "\n",
    "    prev_label = np.array(init_label)\n",
    "    pos = np.argsort(deg)\n",
    "    \n",
    "    for cycle in range(5):\n",
    "        #shuffle(pos)\n",
    "        updated_count = 0\n",
    "        for i in pos:\n",
    "            if not site_mask[i]:\n",
    "                continue\n",
    "            obj = -10000.0\n",
    "            obj_c = -1\n",
    "            t_lis = np.zeros(C-1)\n",
    "            for c in range(C - 1):\n",
    "                t = site_repr[i, c]\n",
    "                for k in range(N):\n",
    "                    if pair_mask[i, k]:\n",
    "                        t += pair_repr[i, k, c, prev_label[k]]\n",
    "                        t_lis[c] = t\n",
    "            if T >= 0.1:\n",
    "                probs = temp_softmax(t_lis, T)\n",
    "                obj_c = np.argmax(np.random.multinomial(1, probs))\n",
    "            else:\n",
    "                obj_c = np.argmax(t_lis)\n",
    "            if prev_label[i] != obj_c:\n",
    "                prev_label[i] = obj_c\n",
    "                updated_count += 1\n",
    "        if updated_count == 0:\n",
    "            break\n",
    "    return prev_label\n",
    "\n",
    "def replace_with_x(seq_str, mask):\n",
    "    ret_str = []\n",
    "    for a, m in zip(seq_str, mask):\n",
    "        if m:\n",
    "            ret_str.append(a)\n",
    "        else:\n",
    "            ret_str.append('X')\n",
    "    return ''.join(ret_str)\n",
    "\n",
    "def evaluate_mrf_one(name, gt_str_seq, site_repr, pair_repr, site_mask, pair_mask, args, sidechain_all):\n",
    "    site_prob = softmax(site_repr)\n",
    "    label = np.argmax(site_prob, axis=-1)\n",
    "    \n",
    "    pred_str_seq1 = index_to_str_seq(label)\n",
    "    pred_str_seq1 = replace_with_x(pred_str_seq1, site_mask)    \n",
    "    total_len = len(gt_str_seq)\n",
    "    valid_len = np.sum(site_mask)\n",
    "    T = args.temperature\n",
    "\n",
    "    label = infer_mrf(label, site_repr, pair_repr, site_mask, pair_mask, T)\n",
    "    pred_str_seq2 = index_to_str_seq(label)\n",
    "    \n",
    "    label[~site_mask] = 20\n",
    "    L = len(sidechain_all[0])\n",
    "    sidechain_single = []\n",
    "    for i in range(L):\n",
    "        sidechain_single.append(sidechain_all[label[0],i,:])\n",
    "    pred_str_seq2 = replace_with_x(pred_str_seq2, site_mask)\n",
    "    sidechain_single = np.array(sidechain_single)\n",
    "    sidechain_all = np.array(sidechain_all)\n",
    "    print(f'>{name}\\tCarbonDesign\\n{pred_str_seq2}\\n')\n",
    "    with open(os.path.join(args.output_dir, name + '.fasta'), 'w') as fw:\n",
    "        fw.write(f'>{name}\\tCarbonDesign\\n{pred_str_seq2}\\n')\n",
    "\n",
    "    if args.save_mrf:\n",
    "        np.savez(os.path.join(args.output_dir, name + '.mrf.npz'), \n",
    "                site_repr=site_repr,\n",
    "                pair_repr=pair_repr,\n",
    "                site_mask=site_mask,\n",
    "                pair_mask=pair_mask) \n",
    "    if args.save_sidechain:\n",
    "        pdb_file = os.path.join(args.output_dir, f'{name}_sidechain.pdb')\n",
    "        sequence = []\n",
    "        sequence.append(pred_str_seq2)\n",
    "        plddt = None\n",
    "        chains = 'A'\n",
    "        save_pdb(sequence, sidechain_single, pdb_file, chains)\n",
    "\n",
    "def evaluate_mrf_batch(batch, ret, args):\n",
    "    \n",
    "    gt_str_seq, site_repr, pair_repr, sidechain_all = batch['str_seq'], ret['heads']['seqhead']['logits'].to('cpu').numpy(), ret['heads']['pairhead']['logits'].to('cpu').numpy(), ret['heads']['folding']['sidechains']['atom_pos'].cpu().numpy()\n",
    "    site_mask, pair_mask = batch['mask'].to('cpu').numpy(), batch['pair_mask'].to('cpu').numpy()\n",
    "    names = batch['name']\n",
    "    L = sidechain_all.shape[1]\n",
    "    sidechain_all=sidechain_all.reshape(-1,21,L,14,3)\n",
    "    for name, site_mask_, pair_mask_, gt_str_seq_, pair_repr_, site_repr_, sidechain_all_ in zip(names, site_mask, pair_mask, gt_str_seq, pair_repr, site_repr, sidechain_all):\n",
    "        evaluate_mrf_one(name, gt_str_seq_, site_repr_, pair_repr_, site_mask_, pair_mask_, args, sidechain_all_)\n",
    "\n",
    "def evaluate(rank, log_queue, args):\n",
    "    #worker_setup(rank, log_queue, args)\n",
    "\n",
    "    feats, model = worker_load(rank, args)\n",
    "    # logging.info('feats: %s', feats)\n",
    "\n",
    "    \n",
    "    device = worker_device(rank, args)\n",
    "    name_idx = []\n",
    "    with open(args.name_idx) as f:\n",
    "        name_idx = [x.strip() for x in f]\n",
    "\n",
    "    test_loader = dataset_test.load(\n",
    "        data_dir=args.data_dir,\n",
    "        name_idx=name_idx,\n",
    "        feats=feats,\n",
    "        is_cluster_idx=False,\n",
    "        rank=None,\n",
    "        world_size=1,\n",
    "        batch_size=args.batch_size)\n",
    "    \n",
    "    for i, batch in enumerate(test_loader):\n",
    "        if batch is None:\n",
    "            continue\n",
    "        try:\n",
    "            logging.debug('name: %s', ','.join(batch['name']))\n",
    "            logging.debug('len : %s', batch['seq'].shape[1])\n",
    "            logging.debug('seq : %s', batch['str_seq'][0])\n",
    "            if batch['seq'].shape[1] > 600:\n",
    "                continue\n",
    "            with torch.no_grad():\n",
    "                ret = model(batch=batch, compute_loss=True)\n",
    "\n",
    "            #print(ret['heads']['folding']['final_atom14_positions'].shape)\n",
    "            sidechain_21 = ret['heads']['folding']['sidechains']['atom_pos'].shape\n",
    "\n",
    "            evaluate_mrf_batch(batch, ret, args)\n",
    "        except:\n",
    "            logging.error('fails in predicting', batch['name'])\n"
   ]
  },
  {
   "cell_type": "code",
   "execution_count": 4,
   "metadata": {},
   "outputs": [],
   "source": [
    "args_dict ={\n",
    "    'save_mrf': False,\n",
    "    'save_sidechain': False,\n",
    "    'model': '/data/users/kgeorge/workspace/CarbonDesign/params/carbondesign_default.ckpt',\n",
    "    'model_features': '/nethome/kgeorge/workspace/DomainPrediction/carbonmatrix_public/config/config_data_mrf2.json',\n",
    "    'model_config': '/nethome/kgeorge/workspace/DomainPrediction/carbonmatrix_public/config/config_model_mrf_pair_enable_esm_sc.json',\n",
    "    'name_idx': '/nethome/kgeorge/workspace/DomainPrediction/carbonmatrix_public/data/pdbs/name.idx', # pdb file names\n",
    "    'data_dir': '/nethome/kgeorge/workspace/DomainPrediction/carbonmatrix_public/data/pdbs', # pdb dir\n",
    "    'output_dir': '/nethome/kgeorge/workspace/DomainPrediction/src/CarbonDesign', # results\n",
    "    'temperature': 0.01,\n",
    "    'batch_size': 3,\n",
    "    'verbose': True,\n",
    "    'gpu_idx': [0],\n",
    "    'map_location': None,\n",
    "    'device': 'cpu',\n",
    "    'ipc_file': 'test.ipc'\n",
    "}"
   ]
  },
  {
   "cell_type": "code",
   "execution_count": 5,
   "metadata": {},
   "outputs": [],
   "source": [
    "args = argparse.Namespace(**args_dict)"
   ]
  },
  {
   "cell_type": "code",
   "execution_count": 6,
   "metadata": {},
   "outputs": [],
   "source": [
    "mp.set_start_method('spawn', force=True)\n",
    "os.makedirs(os.path.abspath(args.output_dir), exist_ok=True)\n",
    "\n",
    "# check file name in basename\n",
    "__file__ = 'run'\n",
    "handlers = [\n",
    "    logging.StreamHandler(),\n",
    "    logging.FileHandler(\n",
    "        os.path.join(\n",
    "            args.output_dir,\n",
    "            f'{os.path.splitext(os.path.basename(__file__))[0]}.log'))]\n",
    "\n",
    "def handler_apply(h, f, *arg):\n",
    "    f(*arg)\n",
    "    return h\n",
    "\n",
    "level = logging.DEBUG if args.verbose else logging.INFO\n",
    "handlers = list(map(lambda x: handler_apply(\n",
    "        x, x.setLevel, level), handlers))\n",
    "fmt = '%(asctime)-15s [%(levelname)s] (%(filename)s:%(lineno)d) %(message)s'\n",
    "handlers = list(map(lambda x: handler_apply(\n",
    "        x, x.setFormatter, logging.Formatter(fmt)), handlers))\n",
    "\n",
    "logging.basicConfig(\n",
    "        format=fmt,\n",
    "        level=level,\n",
    "        handlers=handlers)\n",
    "\n",
    "log_queue = mp.Queue(-1)\n",
    "listener = QueueListener(log_queue, *handlers, respect_handler_level=True)\n",
    "listener.start()\n",
    "\n",
    "# evaluate(0, log_queue, args)"
   ]
  },
  {
   "cell_type": "code",
   "execution_count": 7,
   "metadata": {},
   "outputs": [],
   "source": [
    "## evaluate function\n",
    "feats, model = worker_load(0, args)\n",
    "device = worker_device(0, args)\n",
    "name_idx = []\n",
    "with open(args.name_idx) as f:\n",
    "    name_idx = [x.strip() for x in f]"
   ]
  },
  {
   "cell_type": "code",
   "execution_count": 8,
   "metadata": {},
   "outputs": [
    {
     "data": {
      "text/plain": [
       "['T1187']"
      ]
     },
     "execution_count": 8,
     "metadata": {},
     "output_type": "execute_result"
    }
   ],
   "source": [
    "name_idx"
   ]
  },
  {
   "cell_type": "code",
   "execution_count": 9,
   "metadata": {},
   "outputs": [
    {
     "name": "stderr",
     "output_type": "stream",
     "text": [
      "2024-06-28 15:47:07,683 [INFO] (dataset_test.py:86) dataset size= 1 max_seq_len= None reduce_num= None is_cluster_idx= False\n"
     ]
    }
   ],
   "source": [
    "test_loader = dataset_test.load(\n",
    "        data_dir=args.data_dir,\n",
    "        name_idx=name_idx,\n",
    "        feats=feats,\n",
    "        is_cluster_idx=False,\n",
    "        rank=None,\n",
    "        world_size=1,\n",
    "        batch_size=args.batch_size)"
   ]
  },
  {
   "cell_type": "code",
   "execution_count": 10,
   "metadata": {},
   "outputs": [
    {
     "name": "stderr",
     "output_type": "stream",
     "text": [
      "2024-06-28 15:47:07,689 [INFO] (dataset_test.py:172) processing /nethome/kgeorge/workspace/DomainPrediction/carbonmatrix_public/data/pdbs/T1187.pdb\n"
     ]
    },
    {
     "name": "stdout",
     "output_type": "stream",
     "text": [
      "/nethome/kgeorge/workspace/DomainPrediction/carbonmatrix_public/data/pdbs\n",
      "T1187\n"
     ]
    }
   ],
   "source": [
    "for batch in test_loader:\n",
    "    break"
   ]
  },
  {
   "cell_type": "code",
   "execution_count": 11,
   "metadata": {},
   "outputs": [
    {
     "data": {
      "text/plain": [
       "dict_keys(['name', 'str_seq', 'seq', 'mask', 'aatype_unk_mask', 'atom14_gt_positions', 'atom14_gt_exists', 'chain_id', 'geo_global', 'data_type', 'atom14_atom_exists', 'atom14_atom_is_ambiguous', 'residx_atom37_to_atom14', 'atom37_atom_exists', 'atom14_alt_gt_positions', 'atom14_alt_gt_exists', 'atom37_gt_positions', 'atom37_gt_exists', 'rigidgroups_gt_frames', 'rigidgroups_gt_exists', 'rigidgroups_group_exists', 'rigidgroups_group_is_ambiguous', 'rigidgroups_alt_gt_frames', 'torsion_angles_sin_cos', 'alt_torsion_angles_sin_cos', 'torsion_angles_mask', 'pseudo_beta', 'pseudo_beta_mask', 'pair_mask', 'dist_one_hot', 'left_gt_calpha3_frame_positions', 'right_gt_calpha3_frame_positions', 'left_gt_calpha3_frame_position_exists', 'right_gt_calpha3_frame_position_exists', 'left_forth_atom_rel_pos'])"
      ]
     },
     "execution_count": 11,
     "metadata": {},
     "output_type": "execute_result"
    }
   ],
   "source": [
    "batch.keys()"
   ]
  },
  {
   "cell_type": "code",
   "execution_count": 12,
   "metadata": {},
   "outputs": [],
   "source": [
    "batch['mask'][0][:20] = False"
   ]
  },
  {
   "cell_type": "code",
   "execution_count": 13,
   "metadata": {},
   "outputs": [
    {
     "data": {
      "text/plain": [
       "tensor([[False, False, False, False, False, False, False, False, False, False,\n",
       "         False, False, False, False, False, False, False, False, False, False,\n",
       "          True,  True,  True,  True,  True,  True,  True,  True,  True,  True,\n",
       "          True,  True,  True,  True,  True,  True,  True,  True,  True,  True,\n",
       "          True,  True,  True,  True,  True,  True,  True,  True,  True,  True,\n",
       "          True,  True,  True,  True,  True,  True,  True,  True,  True,  True,\n",
       "          True,  True,  True,  True,  True,  True,  True,  True,  True,  True,\n",
       "          True,  True,  True,  True,  True,  True,  True,  True,  True,  True,\n",
       "          True,  True,  True,  True,  True,  True,  True,  True,  True,  True,\n",
       "          True,  True,  True,  True,  True,  True,  True,  True,  True,  True,\n",
       "          True,  True,  True,  True,  True,  True,  True,  True,  True,  True,\n",
       "          True,  True,  True,  True,  True,  True,  True,  True,  True,  True,\n",
       "          True,  True,  True,  True,  True,  True,  True,  True,  True,  True,\n",
       "          True,  True,  True,  True,  True,  True,  True,  True,  True,  True,\n",
       "          True,  True,  True,  True,  True,  True,  True,  True,  True,  True,\n",
       "          True,  True,  True,  True,  True,  True,  True,  True,  True,  True,\n",
       "          True,  True,  True,  True]])"
      ]
     },
     "execution_count": 13,
     "metadata": {},
     "output_type": "execute_result"
    }
   ],
   "source": [
    "batch['mask']"
   ]
  },
  {
   "cell_type": "code",
   "execution_count": 14,
   "metadata": {},
   "outputs": [
    {
     "data": {
      "text/plain": [
       "('GGGGGGGGGGGGGGGGGGGGGGGGGGGGGGGGGGGGGGGGGGGGGGGGGGGGGGGGGGGGGGGGGGGGGGGGGGGGGGGGGGGGGGGGGGGGGGGGGGGGGGGGGGGGGGGGGGGGGGGGGGGGGGGGGGGGGGGGGGGGGGGGGGGGGGGGGGGGGGGGGGGG',)"
      ]
     },
     "execution_count": 14,
     "metadata": {},
     "output_type": "execute_result"
    }
   ],
   "source": [
    "batch['str_seq']"
   ]
  },
  {
   "cell_type": "code",
   "execution_count": 15,
   "metadata": {},
   "outputs": [
    {
     "data": {
      "text/plain": [
       "tensor([[7, 7, 7, 7, 7, 7, 7, 7, 7, 7, 7, 7, 7, 7, 7, 7, 7, 7, 7, 7, 7, 7, 7, 7,\n",
       "         7, 7, 7, 7, 7, 7, 7, 7, 7, 7, 7, 7, 7, 7, 7, 7, 7, 7, 7, 7, 7, 7, 7, 7,\n",
       "         7, 7, 7, 7, 7, 7, 7, 7, 7, 7, 7, 7, 7, 7, 7, 7, 7, 7, 7, 7, 7, 7, 7, 7,\n",
       "         7, 7, 7, 7, 7, 7, 7, 7, 7, 7, 7, 7, 7, 7, 7, 7, 7, 7, 7, 7, 7, 7, 7, 7,\n",
       "         7, 7, 7, 7, 7, 7, 7, 7, 7, 7, 7, 7, 7, 7, 7, 7, 7, 7, 7, 7, 7, 7, 7, 7,\n",
       "         7, 7, 7, 7, 7, 7, 7, 7, 7, 7, 7, 7, 7, 7, 7, 7, 7, 7, 7, 7, 7, 7, 7, 7,\n",
       "         7, 7, 7, 7, 7, 7, 7, 7, 7, 7, 7, 7, 7, 7, 7, 7, 7, 7, 7, 7]])"
      ]
     },
     "execution_count": 15,
     "metadata": {},
     "output_type": "execute_result"
    }
   ],
   "source": [
    "batch['seq']"
   ]
  },
  {
   "cell_type": "code",
   "execution_count": 16,
   "metadata": {},
   "outputs": [],
   "source": [
    "### recycle and esm models are in the model pred"
   ]
  },
  {
   "cell_type": "code",
   "execution_count": 18,
   "metadata": {},
   "outputs": [
    {
     "name": "stderr",
     "output_type": "stream",
     "text": [
      "2024-06-28 15:48:07,034 [INFO] (dataset_test.py:172) processing /nethome/kgeorge/workspace/DomainPrediction/carbonmatrix_public/data/pdbs/T1187.pdb\n",
      "2024-06-28 15:48:07,122 [DEBUG] (1993038441.py:5) name: T1187\n",
      "2024-06-28 15:48:07,123 [DEBUG] (1993038441.py:6) len : 164\n",
      "2024-06-28 15:48:07,123 [DEBUG] (1993038441.py:7) seq : GGGGGGGGGGGGGGGGGGGGGGGGGGGGGGGGGGGGGGGGGGGGGGGGGGGGGGGGGGGGGGGGGGGGGGGGGGGGGGGGGGGGGGGGGGGGGGGGGGGGGGGGGGGGGGGGGGGGGGGGGGGGGGGGGGGGGGGGGGGGGGGGGGGGGGGGGGGGGGGGGGGG\n"
     ]
    },
    {
     "name": "stdout",
     "output_type": "stream",
     "text": [
      "/nethome/kgeorge/workspace/DomainPrediction/carbonmatrix_public/data/pdbs\n",
      "T1187\n",
      "dict_keys(['name', 'str_seq', 'seq', 'mask', 'aatype_unk_mask', 'atom14_gt_positions', 'atom14_gt_exists', 'chain_id', 'geo_global', 'data_type', 'atom14_atom_exists', 'atom14_atom_is_ambiguous', 'residx_atom37_to_atom14', 'atom37_atom_exists', 'atom14_alt_gt_positions', 'atom14_alt_gt_exists', 'atom37_gt_positions', 'atom37_gt_exists', 'rigidgroups_gt_frames', 'rigidgroups_gt_exists', 'rigidgroups_group_exists', 'rigidgroups_group_is_ambiguous', 'rigidgroups_alt_gt_frames', 'torsion_angles_sin_cos', 'alt_torsion_angles_sin_cos', 'torsion_angles_mask', 'pseudo_beta', 'pseudo_beta_mask', 'pair_mask', 'dist_one_hot', 'left_gt_calpha3_frame_positions', 'right_gt_calpha3_frame_positions', 'left_gt_calpha3_frame_position_exists', 'right_gt_calpha3_frame_position_exists', 'left_forth_atom_rel_pos', 'prev_seq', 'prev_pair'])\n",
      "tensor([[False, False, False, False, False, False, False, False, False, False,\n",
      "         False, False, False, False, False, False, False, False, False, False,\n",
      "          True,  True,  True,  True,  True,  True,  True,  True,  True,  True,\n",
      "          True,  True,  True,  True,  True,  True,  True,  True,  True,  True,\n",
      "          True,  True,  True,  True,  True,  True,  True,  True,  True,  True,\n",
      "          True,  True,  True,  True,  True,  True,  True,  True,  True,  True,\n",
      "          True,  True,  True,  True,  True,  True,  True,  True,  True,  True,\n",
      "          True,  True,  True,  True,  True,  True,  True,  True,  True,  True,\n",
      "          True,  True,  True,  True,  True,  True,  True,  True,  True,  True,\n",
      "          True,  True,  True,  True,  True,  True,  True,  True,  True,  True,\n",
      "          True,  True,  True,  True,  True,  True,  True,  True,  True,  True,\n",
      "          True,  True,  True,  True,  True,  True,  True,  True,  True,  True,\n",
      "          True,  True,  True,  True,  True,  True,  True,  True,  True,  True,\n",
      "          True,  True,  True,  True,  True,  True,  True,  True,  True,  True,\n",
      "          True,  True,  True,  True,  True,  True,  True,  True,  True,  True,\n",
      "          True,  True,  True,  True,  True,  True,  True,  True,  True,  True,\n",
      "          True,  True,  True,  True]])\n",
      "tensor([[False, False, False, False, False, False, False, False, False, False,\n",
      "         False, False, False, False, False, False, False, False, False, False,\n",
      "          True,  True,  True,  True,  True,  True,  True,  True,  True,  True,\n",
      "          True,  True,  True,  True,  True,  True,  True,  True,  True,  True,\n",
      "          True,  True,  True,  True,  True,  True,  True,  True,  True,  True,\n",
      "          True,  True,  True,  True,  True,  True,  True,  True,  True,  True,\n",
      "          True,  True,  True,  True,  True,  True,  True,  True,  True,  True,\n",
      "          True,  True,  True,  True,  True,  True,  True,  True,  True,  True,\n",
      "          True,  True,  True,  True,  True,  True,  True,  True,  True,  True,\n",
      "          True,  True,  True,  True,  True,  True,  True,  True,  True,  True,\n",
      "          True,  True,  True,  True,  True,  True,  True,  True,  True,  True,\n",
      "          True,  True,  True,  True,  True,  True,  True,  True,  True,  True,\n",
      "          True,  True,  True,  True,  True,  True,  True,  True,  True,  True,\n",
      "          True,  True,  True,  True,  True,  True,  True,  True,  True,  True,\n",
      "          True,  True,  True,  True,  True,  True,  True,  True,  True,  True,\n",
      "          True,  True,  True,  True,  True,  True,  True,  True,  True,  True,\n",
      "          True,  True,  True,  True]])\n",
      "tensor([[False, False, False, False, False, False, False, False, False, False,\n",
      "         False, False, False, False, False, False, False, False, False, False,\n",
      "          True,  True,  True,  True,  True,  True,  True,  True,  True,  True,\n",
      "          True,  True,  True,  True,  True,  True,  True,  True,  True,  True,\n",
      "          True,  True,  True,  True,  True,  True,  True,  True,  True,  True,\n",
      "          True,  True,  True,  True,  True,  True,  True,  True,  True,  True,\n",
      "          True,  True,  True,  True,  True,  True,  True,  True,  True,  True,\n",
      "          True,  True,  True,  True,  True,  True,  True,  True,  True,  True,\n",
      "          True,  True,  True,  True,  True,  True,  True,  True,  True,  True,\n",
      "          True,  True,  True,  True,  True,  True,  True,  True,  True,  True,\n",
      "          True,  True,  True,  True,  True,  True,  True,  True,  True,  True,\n",
      "          True,  True,  True,  True,  True,  True,  True,  True,  True,  True,\n",
      "          True,  True,  True,  True,  True,  True,  True,  True,  True,  True,\n",
      "          True,  True,  True,  True,  True,  True,  True,  True,  True,  True,\n",
      "          True,  True,  True,  True,  True,  True,  True,  True,  True,  True,\n",
      "          True,  True,  True,  True,  True,  True,  True,  True,  True,  True,\n",
      "          True,  True,  True,  True]])\n",
      "tensor([[False, False, False, False, False, False, False, False, False, False,\n",
      "         False, False, False, False, False, False, False, False, False, False,\n",
      "          True,  True,  True,  True,  True,  True,  True,  True,  True,  True,\n",
      "          True,  True,  True,  True,  True,  True,  True,  True,  True,  True,\n",
      "          True,  True,  True,  True,  True,  True,  True,  True,  True,  True,\n",
      "          True,  True,  True,  True,  True,  True,  True,  True,  True,  True,\n",
      "          True,  True,  True,  True,  True,  True,  True,  True,  True,  True,\n",
      "          True,  True,  True,  True,  True,  True,  True,  True,  True,  True,\n",
      "          True,  True,  True,  True,  True,  True,  True,  True,  True,  True,\n",
      "          True,  True,  True,  True,  True,  True,  True,  True,  True,  True,\n",
      "          True,  True,  True,  True,  True,  True,  True,  True,  True,  True,\n",
      "          True,  True,  True,  True,  True,  True,  True,  True,  True,  True,\n",
      "          True,  True,  True,  True,  True,  True,  True,  True,  True,  True,\n",
      "          True,  True,  True,  True,  True,  True,  True,  True,  True,  True,\n",
      "          True,  True,  True,  True,  True,  True,  True,  True,  True,  True,\n",
      "          True,  True,  True,  True,  True,  True,  True,  True,  True,  True,\n",
      "          True,  True,  True,  True]])\n"
     ]
    }
   ],
   "source": [
    "for i, batch in enumerate(test_loader):\n",
    "    if batch is None:\n",
    "        continue\n",
    "    try:\n",
    "        logging.debug('name: %s', ','.join(batch['name']))\n",
    "        logging.debug('len : %s', batch['seq'].shape[1])\n",
    "        logging.debug('seq : %s', batch['str_seq'][0])\n",
    "        if batch['seq'].shape[1] > 600:\n",
    "            continue\n",
    "        with torch.no_grad():\n",
    "            batch['mask'][0][:20] = False\n",
    "            ret = model(batch=batch, compute_loss=True)\n",
    "\n",
    "        # #print(ret['heads']['folding']['final_atom14_positions'].shape)\n",
    "        # sidechain_21 = ret['heads']['folding']['sidechains']['atom_pos'].shape\n",
    "\n",
    "        # evaluate_mrf_batch(batch, ret, args)\n",
    "    except:\n",
    "        logging.error('fails in predicting', batch['name'])\n",
    "\n",
    "    break"
   ]
  },
  {
   "cell_type": "code",
   "execution_count": null,
   "metadata": {},
   "outputs": [],
   "source": []
  },
  {
   "cell_type": "code",
   "execution_count": 19,
   "metadata": {},
   "outputs": [
    {
     "data": {
      "text/plain": [
       "dict_keys(['representations', 'heads'])"
      ]
     },
     "execution_count": 19,
     "metadata": {},
     "output_type": "execute_result"
    }
   ],
   "source": [
    "ret.keys()"
   ]
  },
  {
   "cell_type": "code",
   "execution_count": 20,
   "metadata": {},
   "outputs": [
    {
     "data": {
      "text/plain": [
       "dict_keys(['pair', 'seq'])"
      ]
     },
     "execution_count": 20,
     "metadata": {},
     "output_type": "execute_result"
    }
   ],
   "source": [
    "ret['representations'].keys()"
   ]
  },
  {
   "cell_type": "code",
   "execution_count": 21,
   "metadata": {},
   "outputs": [
    {
     "data": {
      "text/plain": [
       "tensor([[[  0.2355,   2.2536,   0.3902,  ...,  -0.2701,  -3.4855,   0.8383],\n",
       "         [  7.1885,  -2.7726,  -1.9866,  ...,   2.0849,  -0.0588,  -0.7167],\n",
       "         [  0.1565,  -0.9102,  -1.9622,  ...,  -2.6089,   2.9208,  -0.8299],\n",
       "         ...,\n",
       "         [  5.4769,  -6.0417,   5.4953,  ...,  -1.0085,  -2.4838,  -2.6021],\n",
       "         [ -2.6412,  10.9062,   9.0635,  ...,  -2.0565,  -9.3781,  15.2025],\n",
       "         [  7.9768, -13.4142, -14.7368,  ...,  -7.0520,   7.8579, -32.3924]]])"
      ]
     },
     "execution_count": 21,
     "metadata": {},
     "output_type": "execute_result"
    }
   ],
   "source": [
    "ret['representations']['seq']"
   ]
  },
  {
   "cell_type": "code",
   "execution_count": 22,
   "metadata": {},
   "outputs": [
    {
     "data": {
      "text/plain": [
       "(torch.Size([1, 164, 164, 128]), torch.Size([1, 164, 384]))"
      ]
     },
     "execution_count": 22,
     "metadata": {},
     "output_type": "execute_result"
    }
   ],
   "source": [
    "ret['representations']['pair'].shape, ret['representations']['seq'].shape"
   ]
  },
  {
   "cell_type": "code",
   "execution_count": 23,
   "metadata": {},
   "outputs": [
    {
     "data": {
      "text/plain": [
       "dict_keys(['folding', 'seqhead', 'pairhead'])"
      ]
     },
     "execution_count": 23,
     "metadata": {},
     "output_type": "execute_result"
    }
   ],
   "source": [
    "ret['heads'].keys()"
   ]
  },
  {
   "cell_type": "code",
   "execution_count": 24,
   "metadata": {},
   "outputs": [
    {
     "name": "stdout",
     "output_type": "stream",
     "text": [
      "dict_keys(['sidechains', 'traj', 'representations', 'final_atom14_positions', 'final_atom_positions'])\n",
      "dict_keys(['angles_sin_cos', 'unnormalized_angles_sin_cos', 'atom_pos'])\n",
      "torch.Size([21, 164, 14, 3])\n",
      "dict_keys(['structure_module'])\n",
      "torch.Size([1, 164, 21, 14, 3])\n",
      "torch.Size([1, 164, 21, 14, 3])\n"
     ]
    }
   ],
   "source": [
    "print(ret['heads']['folding'].keys())\n",
    "print(ret['heads']['folding']['sidechains'].keys())\n",
    "print(ret['heads']['folding']['sidechains']['atom_pos'].shape)\n",
    "print(ret['heads']['folding']['representations'].keys())\n",
    "print(ret['heads']['folding']['final_atom14_positions'].shape)\n",
    "print(ret['heads']['folding']['final_atom14_positions'].shape)"
   ]
  },
  {
   "cell_type": "code",
   "execution_count": 25,
   "metadata": {},
   "outputs": [
    {
     "data": {
      "text/plain": [
       "torch.Size([1, 164, 21])"
      ]
     },
     "execution_count": 25,
     "metadata": {},
     "output_type": "execute_result"
    }
   ],
   "source": [
    "ret['heads']['seqhead']['logits'].shape"
   ]
  },
  {
   "cell_type": "code",
   "execution_count": 26,
   "metadata": {},
   "outputs": [
    {
     "data": {
      "text/plain": [
       "(dict_keys(['name', 'str_seq', 'seq', 'mask', 'aatype_unk_mask', 'atom14_gt_positions', 'atom14_gt_exists', 'chain_id', 'geo_global', 'data_type', 'atom14_atom_exists', 'atom14_atom_is_ambiguous', 'residx_atom37_to_atom14', 'atom37_atom_exists', 'atom14_alt_gt_positions', 'atom14_alt_gt_exists', 'atom37_gt_positions', 'atom37_gt_exists', 'rigidgroups_gt_frames', 'rigidgroups_gt_exists', 'rigidgroups_group_exists', 'rigidgroups_group_is_ambiguous', 'rigidgroups_alt_gt_frames', 'torsion_angles_sin_cos', 'alt_torsion_angles_sin_cos', 'torsion_angles_mask', 'pseudo_beta', 'pseudo_beta_mask', 'pair_mask', 'dist_one_hot', 'left_gt_calpha3_frame_positions', 'right_gt_calpha3_frame_positions', 'left_gt_calpha3_frame_position_exists', 'right_gt_calpha3_frame_position_exists', 'left_forth_atom_rel_pos', 'prev_seq', 'prev_pair', 'is_recycling', 'representations', 'heads']),\n",
       " tensor([[[  0.0447,   2.2610,   0.8008,  ...,   0.1857,  -3.3827,   0.7974],\n",
       "          [  7.4329,  -3.1642,  -1.3361,  ...,   2.2844,  -0.2121,  -1.0334],\n",
       "          [  0.5318,  -1.3635,  -1.8637,  ...,  -2.2020,   2.7387,  -0.9030],\n",
       "          ...,\n",
       "          [  5.5339,  -5.7527,   4.7872,  ...,  -1.0364,  -2.9245,  -2.5938],\n",
       "          [ -3.2429,   9.9836,   8.1861,  ...,  -1.6683,  -9.5031,  14.5945],\n",
       "          [  8.8065, -13.5123, -14.3101,  ...,  -7.1227,   7.3468, -31.4411]]],\n",
       "        requires_grad=True))"
      ]
     },
     "execution_count": 26,
     "metadata": {},
     "output_type": "execute_result"
    }
   ],
   "source": [
    "batch.keys(), batch['prev_seq']"
   ]
  },
  {
   "cell_type": "code",
   "execution_count": 27,
   "metadata": {},
   "outputs": [
    {
     "data": {
      "text/plain": [
       "tensor([[[ 1.7711,  0.1862, -0.1315,  ..., -0.6690,  0.2133, -0.9742],\n",
       "         [ 0.8016, -0.0561, -0.1382,  ..., -0.4754, -0.3067, -0.8885],\n",
       "         [ 0.7670,  0.5164, -0.0420,  ..., -0.3668,  0.2781, -1.0991],\n",
       "         ...,\n",
       "         [-0.7642,  3.7027, -0.3607,  ..., -1.0223,  0.4284, -0.7228],\n",
       "         [ 1.0517, -0.0633, -0.5169,  ..., -0.2714,  0.1190, -0.5592],\n",
       "         [ 0.0606,  0.1233, -0.5964,  ..., -0.6465,  2.3549, -0.8133]]])"
      ]
     },
     "execution_count": 27,
     "metadata": {},
     "output_type": "execute_result"
    }
   ],
   "source": [
    "ret['heads']['seqhead']['logits']"
   ]
  },
  {
   "cell_type": "code",
   "execution_count": 28,
   "metadata": {},
   "outputs": [
    {
     "data": {
      "text/plain": [
       "tensor([[ 1.7711,  0.1862, -0.1315,  ..., -0.6690,  0.2133, -0.9742],\n",
       "        [ 0.8016, -0.0561, -0.1382,  ..., -0.4754, -0.3067, -0.8885],\n",
       "        [ 0.7670,  0.5164, -0.0420,  ..., -0.3668,  0.2781, -1.0991],\n",
       "        ...,\n",
       "        [-0.7642,  3.7027, -0.3607,  ..., -1.0223,  0.4284, -0.7228],\n",
       "        [ 1.0517, -0.0633, -0.5169,  ..., -0.2714,  0.1190, -0.5592],\n",
       "        [ 0.0606,  0.1233, -0.5964,  ..., -0.6465,  2.3549, -0.8133]])"
      ]
     },
     "execution_count": 28,
     "metadata": {},
     "output_type": "execute_result"
    }
   ],
   "source": [
    "ret['heads']['seqhead']['logits'][0]"
   ]
  },
  {
   "cell_type": "code",
   "execution_count": 29,
   "metadata": {},
   "outputs": [
    {
     "ename": "IndexError",
     "evalue": "index 1 is out of bounds for dimension 0 with size 1",
     "output_type": "error",
     "traceback": [
      "\u001b[0;31m---------------------------------------------------------------------------\u001b[0m",
      "\u001b[0;31mIndexError\u001b[0m                                Traceback (most recent call last)",
      "Cell \u001b[0;32mIn[29], line 1\u001b[0m\n\u001b[0;32m----> 1\u001b[0m \u001b[43mret\u001b[49m\u001b[43m[\u001b[49m\u001b[38;5;124;43m'\u001b[39;49m\u001b[38;5;124;43mheads\u001b[39;49m\u001b[38;5;124;43m'\u001b[39;49m\u001b[43m]\u001b[49m\u001b[43m[\u001b[49m\u001b[38;5;124;43m'\u001b[39;49m\u001b[38;5;124;43mseqhead\u001b[39;49m\u001b[38;5;124;43m'\u001b[39;49m\u001b[43m]\u001b[49m\u001b[43m[\u001b[49m\u001b[38;5;124;43m'\u001b[39;49m\u001b[38;5;124;43mlogits\u001b[39;49m\u001b[38;5;124;43m'\u001b[39;49m\u001b[43m]\u001b[49m\u001b[43m[\u001b[49m\u001b[38;5;241;43m1\u001b[39;49m\u001b[43m]\u001b[49m\n",
      "\u001b[0;31mIndexError\u001b[0m: index 1 is out of bounds for dimension 0 with size 1"
     ]
    }
   ],
   "source": [
    "ret['heads']['seqhead']['logits'][1]"
   ]
  },
  {
   "cell_type": "code",
   "execution_count": 30,
   "metadata": {},
   "outputs": [
    {
     "ename": "IndexError",
     "evalue": "index 1 is out of bounds for dimension 0 with size 1",
     "output_type": "error",
     "traceback": [
      "\u001b[0;31m---------------------------------------------------------------------------\u001b[0m",
      "\u001b[0;31mIndexError\u001b[0m                                Traceback (most recent call last)",
      "Cell \u001b[0;32mIn[30], line 1\u001b[0m\n\u001b[0;32m----> 1\u001b[0m (ret[\u001b[38;5;124m'\u001b[39m\u001b[38;5;124mheads\u001b[39m\u001b[38;5;124m'\u001b[39m][\u001b[38;5;124m'\u001b[39m\u001b[38;5;124mseqhead\u001b[39m\u001b[38;5;124m'\u001b[39m][\u001b[38;5;124m'\u001b[39m\u001b[38;5;124mlogits\u001b[39m\u001b[38;5;124m'\u001b[39m][\u001b[38;5;241m0\u001b[39m] \u001b[38;5;241m==\u001b[39m \u001b[43mret\u001b[49m\u001b[43m[\u001b[49m\u001b[38;5;124;43m'\u001b[39;49m\u001b[38;5;124;43mheads\u001b[39;49m\u001b[38;5;124;43m'\u001b[39;49m\u001b[43m]\u001b[49m\u001b[43m[\u001b[49m\u001b[38;5;124;43m'\u001b[39;49m\u001b[38;5;124;43mseqhead\u001b[39;49m\u001b[38;5;124;43m'\u001b[39;49m\u001b[43m]\u001b[49m\u001b[43m[\u001b[49m\u001b[38;5;124;43m'\u001b[39;49m\u001b[38;5;124;43mlogits\u001b[39;49m\u001b[38;5;124;43m'\u001b[39;49m\u001b[43m]\u001b[49m\u001b[43m[\u001b[49m\u001b[38;5;241;43m1\u001b[39;49m\u001b[43m]\u001b[49m)\n",
      "\u001b[0;31mIndexError\u001b[0m: index 1 is out of bounds for dimension 0 with size 1"
     ]
    }
   ],
   "source": [
    "(ret['heads']['seqhead']['logits'][0] == ret['heads']['seqhead']['logits'][1])"
   ]
  },
  {
   "cell_type": "code",
   "execution_count": 31,
   "metadata": {},
   "outputs": [
    {
     "data": {
      "text/plain": [
       "torch.Size([1, 164, 164, 441])"
      ]
     },
     "execution_count": 31,
     "metadata": {},
     "output_type": "execute_result"
    }
   ],
   "source": [
    "ret['heads']['pairhead']['logits'].shape"
   ]
  },
  {
   "cell_type": "code",
   "execution_count": 34,
   "metadata": {},
   "outputs": [
    {
     "name": "stdout",
     "output_type": "stream",
     "text": [
      "(164, 21)\n",
      "[ 0  7  0 15  7 14  0  0  7  0  7  0 15  7  7  7  7  0  0  7 17  1 17 10\n",
      " 16 19  6 14 13 19  6 19  0  6 10 10  2 19  4 17 10  6  9  1  7 11  9  2\n",
      " 16  1 10 10 15 14  2 16 16 18  0 19 18 10 19 13 11 10 16  6 11 14 18  2\n",
      " 10  6 16 19 10  0 16 19  1 13 19 15  3 19 14 14  7 15 14 15  2  7  1 16\n",
      " 19 18 10 15  1 11 11 11 18 14  3  3  6  7 19 13 14  1  6  1  6  3  7 17\n",
      " 12  6  9  6 10  7  6 13 13 19  6  3  7  3  6  7  6 19  6 12 15 10 15  6\n",
      " 10  3 14  7  5 17 11 15  7 10  9 19  5  7 13  6  9  1 14 19] 1600\n",
      "XXXXXXXXXXXXXXXXXXXXWRWLTVEPFVEVAELLNVCWLEIRGKINTRLLSPNTTYAVYLVFKLTEKPYNLETVLATVRFVSDVPPGSPSNGRTVYLSRKKKYPDDEGVFPREREDGWMEIELGEFFVEDGDEGEVEMSLSELDPGQWKSGLIVQGFEIRPV\n",
      "[106  88 104 105  28  87 116  89  27  90  67 103 107 147  26  86 108 146\n",
      "  83 118 117  25   0  18  29 115  49  24  54  17  16 148 131  85 145  84\n",
      " 130 102 114  68 133  92 163 101  15  50  66  53   8 149  23  93  82 109\n",
      " 132 134  30  55   1   2  52 135  56  69 100 162  94  47  38 144  13   3\n",
      "  95 136  70  19  22 113 161 110  91 119 126   5  10  81   7  21  45  73\n",
      "  74 111 129 128  51   4 120  12  39 112  71  20  58  35  36  57 152  41\n",
      "  48  97  96  64  99  14  31  65   9  76 127   6  46 151 138  80  37  75\n",
      " 137 150  11  72  78  63 125  44 159  43 121  79  77 123 143  40 142 160\n",
      "  62  33 157 122  59 156 154  98  32 139 124 158 140  34 153  60  42 141\n",
      "  61 155]\n",
      "XXXXXXXXXXXXXXXXXXXXWRWLTVEPFVEVAELLNVCWLEIRGKINTRLLSKNTKYAVYLVFKLTEKPYNLETVQATVRFVNHVPEGSPRNGRTVYLSRKKKRPDDEGVFPREREDGWMEIELGEFFVENGEEGEVEFSLSELEPGKWKSGLIVQGFEIRPV\n"
     ]
    }
   ],
   "source": [
    "## how is pairmask calulated\n",
    "gt_str_seq, site_repr, pair_repr, sidechain_all = batch['str_seq'], ret['heads']['seqhead']['logits'].to('cpu').numpy(), ret['heads']['pairhead']['logits'].to('cpu').numpy(), ret['heads']['folding']['sidechains']['atom_pos'].cpu().numpy()\n",
    "site_mask, pair_mask = batch['mask'].to('cpu').numpy().copy(), batch['pair_mask'].to('cpu').numpy().copy()\n",
    "\n",
    "# site_mask[0][:20] = False\n",
    "\n",
    "names = batch['name']\n",
    "L = sidechain_all.shape[1]\n",
    "sidechain_all=sidechain_all.reshape(-1,21,L,14,3)\n",
    "for (name, site_mask_, pair_mask_, \n",
    "     gt_str_seq_, pair_repr_, site_repr_, \n",
    "     sidechain_all_) in zip(names, site_mask, pair_mask, \n",
    "                            gt_str_seq, pair_repr, site_repr, \n",
    "                            sidechain_all):\n",
    "    \n",
    "    site_prob = softmax(site_repr_)\n",
    "    print(site_repr_.shape)\n",
    "    label = np.argmax(site_prob, axis=-1)\n",
    "\n",
    "    print(label, np.sum(label))\n",
    "\n",
    "    pred_str_seq1 = index_to_str_seq(label)\n",
    "    pred_str_seq1 = replace_with_x(pred_str_seq1, site_mask_)    \n",
    "    total_len = len(gt_str_seq_)\n",
    "    valid_len = np.sum(site_mask_)\n",
    "    T = args.temperature\n",
    "    print(pred_str_seq1)\n",
    "\n",
    "    print(np.argsort(np.sum(pair_mask_, axis=-1)))\n",
    "    ## this chnage labels slightly\n",
    "    label = infer_mrf(label, site_repr_, pair_repr_, site_mask_, pair_mask_, T)\n",
    "    pred_str_seq2 = index_to_str_seq(label)\n",
    "    label[~site_mask_] = 20\n",
    "    L = len(sidechain_all_[0])\n",
    "    sidechain_single = []\n",
    "    for i in range(L):\n",
    "        sidechain_single.append(sidechain_all_[label[0],i,:])\n",
    "    pred_str_seq2 = replace_with_x(pred_str_seq2, site_mask_)\n",
    "    print(pred_str_seq2)"
   ]
  },
  {
   "cell_type": "code",
   "execution_count": null,
   "metadata": {},
   "outputs": [],
   "source": [
    "site_mask"
   ]
  },
  {
   "cell_type": "code",
   "execution_count": null,
   "metadata": {},
   "outputs": [],
   "source": [
    "pred_str_seq1"
   ]
  },
  {
   "cell_type": "code",
   "execution_count": null,
   "metadata": {},
   "outputs": [],
   "source": [
    "pred_str_seq2"
   ]
  },
  {
   "cell_type": "code",
   "execution_count": null,
   "metadata": {},
   "outputs": [],
   "source": [
    "label"
   ]
  },
  {
   "cell_type": "code",
   "execution_count": null,
   "metadata": {},
   "outputs": [],
   "source": [
    "batch.keys()"
   ]
  },
  {
   "cell_type": "code",
   "execution_count": null,
   "metadata": {},
   "outputs": [],
   "source": []
  }
 ],
 "metadata": {
  "kernelspec": {
   "display_name": "workspace",
   "language": "python",
   "name": "python3"
  },
  "language_info": {
   "codemirror_mode": {
    "name": "ipython",
    "version": 3
   },
   "file_extension": ".py",
   "mimetype": "text/x-python",
   "name": "python",
   "nbconvert_exporter": "python",
   "pygments_lexer": "ipython3",
   "version": "3.10.13"
  }
 },
 "nbformat": 4,
 "nbformat_minor": 2
}
