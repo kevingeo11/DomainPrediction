{
 "cells": [
  {
   "cell_type": "code",
   "execution_count": 1,
   "metadata": {},
   "outputs": [],
   "source": [
    "import re\n",
    "import os\n",
    "import subprocess\n",
    "from collections import defaultdict\n",
    "import matplotlib.pyplot as plt\n",
    "\n",
    "import numpy as np\n",
    "import pandas as pd\n",
    "\n",
    "from tqdm import tqdm"
   ]
  },
  {
   "cell_type": "code",
   "execution_count": 2,
   "metadata": {},
   "outputs": [],
   "source": [
    "from sklearn.preprocessing import StandardScaler\n",
    "from Bio import AlignIO"
   ]
  },
  {
   "cell_type": "code",
   "execution_count": 3,
   "metadata": {},
   "outputs": [],
   "source": [
    "hmm_path = '/nethome/kgeorge/workspace/DomainPrediction/hmm'\n",
    "data_path = '/nethome/kgeorge/workspace/DomainPrediction/Data'"
   ]
  },
  {
   "cell_type": "code",
   "execution_count": 4,
   "metadata": {},
   "outputs": [],
   "source": [
    "class HmmerTools():\n",
    "    def __init__(self) -> None:\n",
    "        self.scaler = StandardScaler()\n",
    "\n",
    "    def hmmalign(self, hmm_path: str, fasta_file: str, \n",
    "                  outfile: str | None = None, \n",
    "                  trim: bool = False):\n",
    "        if outfile is None:\n",
    "            outfile = fasta_file.replace('.fasta', '.stockholm')\n",
    "\n",
    "        if trim:\n",
    "            with open(outfile, \"w\") as fout:\n",
    "                subprocess.run(['hmmalign', '--trim', hmm_path, fasta_file], stdout=fout)\n",
    "        else:\n",
    "            with open(outfile, \"w\") as fout:\n",
    "                subprocess.run(['hmmalign', hmm_path, fasta_file], stdout=fout)\n",
    "\n",
    "        print(f'alignment created: {outfile}')\n",
    "\n",
    "\n",
    "    def parse_hmmsearch_tblout(self, filename):\n",
    "        with open(filename) as fin:\n",
    "            tmp = []\n",
    "            for line in fin:\n",
    "                if not line.startswith('#'):\n",
    "                    tmp.append(line.strip().split()[:7])\n",
    "\n",
    "        df = pd.DataFrame(tmp, columns=['name', '-', 'domain', 'domain_id', 'Evalue', 'score', 'bias'])\n",
    "        df['Evalue'] = df['Evalue'].astype(float)\n",
    "        df['score'] = df['score'].astype(float)\n",
    "        df['bias'] = df['bias'].astype(float)\n",
    "\n",
    "        return df\n",
    "\n",
    "    def sort_by_Eval(self, df, top=None):\n",
    "        df_tmp = df[['name']].drop_duplicates().sort_values(by=['name']).reset_index(drop=True)\n",
    "        \n",
    "        for domain in df['domain'].unique():\n",
    "            print(f'domain {domain} {df[df[\"domain\"] == domain].shape[0]}')\n",
    "            df_tmp[domain] = df[df['domain'] == domain].sort_values(by=['name'])['Evalue'].to_numpy()\n",
    "\n",
    "        df_tmp['sum'] = df_tmp[df['domain'].unique()].sum(axis=1)\n",
    "\n",
    "        df_tmp['norm_sum'] = self.scaler.fit_transform(df_tmp[df['domain'].unique()]).sum(axis=1)\n",
    "\n",
    "        df_sorted = df_tmp.sort_values(by=['norm_sum'])\n",
    "        if top is None:\n",
    "            return df_sorted['name'].to_numpy()\n",
    "        else:\n",
    "            return df_sorted['name'].to_numpy()[:top]\n",
    "        \n",
    "    def sort_by_Eval_domain(self, df, domain, top=None):\n",
    "\n",
    "        df_tmp = df[df['domain'] == domain]\n",
    "        df_sorted = df_tmp.sort_values(by=['Evalue'])\n",
    "\n",
    "        if top is None:\n",
    "            return df_sorted['name'].to_numpy()\n",
    "        else:\n",
    "            return df_sorted['name'].to_numpy()[:top]"
   ]
  },
  {
   "cell_type": "code",
   "execution_count": 5,
   "metadata": {},
   "outputs": [],
   "source": [
    "class AlignTools():\n",
    "    def __init__(self, path: str) -> None:\n",
    "        self.align = AlignIO.read(path, \"stockholm\")\n",
    "    \n",
    "    def show_alignment(self):\n",
    "        print(self.align)\n",
    "\n",
    "    def get_alignment_length(self):\n",
    "        return self.align.get_alignment_length()\n",
    "    \n",
    "    def get_num_sequences(self):\n",
    "        return len(self.align)\n",
    "\n",
    "    def get_pairwise_identity(self):\n",
    "        pairwise_seqid = np.eye(self.get_num_sequences())\n",
    "\n",
    "        for i, record_1 in enumerate(self.align):\n",
    "            for j, record_2 in enumerate(self.align):\n",
    "                seq_id = 0\n",
    "                for s1, s2 in zip(record_1.seq, record_2.seq):\n",
    "                    if s1 != '-' and s2 != '-' and s1 != '.' and s2 != '.' and s1 == s2:\n",
    "                        seq_id += 1\n",
    "\n",
    "                pairwise_seqid[i,j] = seq_id/self.get_alignment_length()\n",
    "\n",
    "        return pairwise_seqid"
   ]
  },
  {
   "cell_type": "code",
   "execution_count": 6,
   "metadata": {},
   "outputs": [],
   "source": [
    "hmmer = HmmerTools()"
   ]
  },
  {
   "cell_type": "code",
   "execution_count": 11,
   "metadata": {},
   "outputs": [
    {
     "name": "stdout",
     "output_type": "stream",
     "text": [
      "alignment created: /nethome/kgeorge/workspace/DomainPrediction/Data/carbon_experiments/gen_seq.stockholm\n"
     ]
    }
   ],
   "source": [
    "pfam_T_hmm = '/nethome/kgeorge/workspace/DomainPrediction/hmm/PF00550_T.hmm'\n",
    "fasta_loc = os.path.join(data_path, '/nethome/kgeorge/workspace/DomainPrediction/Data/carbon_experiments/gen_seq.fasta')\n",
    "hmmer.hmmalign(hmm_path=pfam_T_hmm, fasta_file=fasta_loc, trim=True)"
   ]
  },
  {
   "cell_type": "code",
   "execution_count": 12,
   "metadata": {},
   "outputs": [],
   "source": [
    "align_dca_seq = AlignTools(os.path.join(data_path, '/nethome/kgeorge/workspace/DomainPrediction/Data/carbon_experiments/gen_seq.stockholm'))"
   ]
  },
  {
   "cell_type": "code",
   "execution_count": 13,
   "metadata": {},
   "outputs": [
    {
     "data": {
      "text/plain": [
       "6"
      ]
     },
     "execution_count": 13,
     "metadata": {},
     "output_type": "execute_result"
    }
   ],
   "source": [
    "align_dca_seq.get_num_sequences()"
   ]
  },
  {
   "cell_type": "code",
   "execution_count": 14,
   "metadata": {},
   "outputs": [
    {
     "data": {
      "text/plain": [
       "array([0.53731343, 0.53731343, 0.55223881, 0.53731343, 0.52238806])"
      ]
     },
     "execution_count": 14,
     "metadata": {},
     "output_type": "execute_result"
    }
   ],
   "source": [
    "# wrt to original. original at 0 \n",
    "align_dca_seq.get_pairwise_identity()[0][1:]"
   ]
  },
  {
   "cell_type": "code",
   "execution_count": 16,
   "metadata": {},
   "outputs": [
    {
     "data": {
      "image/png": "[encoded data removed]",
      "text/plain": [
       "<Figure size 640x480 with 1 Axes>"
      ]
     },
     "metadata": {},
     "output_type": "display_data"
    }
   ],
   "source": [
    "fig, ax = plt.subplots()\n",
    "_ = ax.boxplot([align_dca_seq.get_pairwise_identity()[0][1:]],\n",
    "               labels=['CarbonDesign'])\n",
    "ax.set_ylabel('seq_id')\n",
    "ax.tick_params(axis='x', labelrotation=90)"
   ]
  },
  {
   "cell_type": "code",
   "execution_count": 17,
   "metadata": {},
   "outputs": [
    {
     "data": {
      "image/png": "[encoded data removed]",
      "text/plain": [
       "<Figure size 640x480 with 1 Axes>"
      ]
     },
     "metadata": {},
     "output_type": "display_data"
    }
   ],
   "source": [
    "fig, ax = plt.subplots()\n",
    "_ = ax.boxplot([align_dca_seq.get_pairwise_identity()[0][1:], align_dca_seq.get_pairwise_identity()[1:,1:][np.triu_indices(align_dca_seq.get_num_sequences()-2, k = 1)]],\n",
    "               labels=['CarbonDesign_wrt_original', 'CarbonDesign_wrt_generated'])\n",
    "ax.set_ylabel('seq_id')\n",
    "ax.tick_params(axis='x', labelrotation=90)"
   ]
  },
  {
   "cell_type": "code",
   "execution_count": 18,
   "metadata": {},
   "outputs": [
    {
     "name": "stdout",
     "output_type": "stream",
     "text": [
      "Alignment with 6 rows and 67 columns\n",
      "--LATIWRELLNVEQ--VGRHDSFFALGGHSLLAVRMIERLRRI...Q-- GxpS_ATC\n",
      "-LLAELWEELLGVE--RVGANDSFFELGGDSILAIQLISRLRER...ARL gen_0\n",
      "-LLASLWEELLGVE--RVGANDSFFELGGDSILAIQLISRLRQQ...ARL gen_1\n",
      "-LLARIWEELLGVE--RVGANDSFFELGGDSILAIQLISRLRER...ARL gen_2\n",
      "-LLAELWEELLKVE--RVGANDSFFELGGDSILAIQLISRLRER...ARL gen_3\n",
      "-LLARLWEELLGVE--RVGANDSFFELGGDSILAIQLISRLRER...ARL gen_4\n"
     ]
    }
   ],
   "source": [
    "align_dca_seq.show_alignment()"
   ]
  },
  {
   "cell_type": "code",
   "execution_count": 20,
   "metadata": {},
   "outputs": [
    {
     "name": "stdout",
     "output_type": "stream",
     "text": [
      "GxpS_ATC --LATIWRELLNVEQ--VGRHDSFFALGGHSLLAVRMIERLRRI-GLGLSVQTLFQHPTLSVLAQ--\n",
      "gen_0 -LLAELWEELLGVE--RVGANDSFFELGGDSILAIQLISRLRER-GLGLRVSDLFAHPVLRDLAARL\n",
      "gen_1 -LLASLWEELLGVE--RVGANDSFFELGGDSILAIQLISRLRQQ-GLGLRVADLFAHPVLRDLAARL\n",
      "gen_2 -LLARIWEELLGVE--RVGANDSFFELGGDSILAIQLISRLRER-GLGLRVSDLFAHPVLRDLAARL\n",
      "gen_3 -LLAELWEELLKVE--RVGANDSFFELGGDSILAIQLISRLRER-GLGLRVSDLFAHPVLRDLAARL\n",
      "gen_4 -LLARLWEELLGVE--RVGANDSFFELGGDSILAIQLISRLRER-GLGLRISDLFAHPVLRDLAARL\n"
     ]
    }
   ],
   "source": [
    "for res in align_dca_seq.align:\n",
    "    print(res.id, res.seq)"
   ]
  },
  {
   "cell_type": "code",
   "execution_count": null,
   "metadata": {},
   "outputs": [],
   "source": []
  }
 ],
 "metadata": {
  "kernelspec": {
   "display_name": "workspace",
   "language": "python",
   "name": "python3"
  },
  "language_info": {
   "codemirror_mode": {
    "name": "ipython",
    "version": 3
   },
   "file_extension": ".py",
   "mimetype": "text/x-python",
   "name": "python",
   "nbconvert_exporter": "python",
   "pygments_lexer": "ipython3",
   "version": "3.10.13"
  }
 },
 "nbformat": 4,
 "nbformat_minor": 2
}
