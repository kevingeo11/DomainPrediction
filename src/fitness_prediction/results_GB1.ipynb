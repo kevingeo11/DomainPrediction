{
 "cells": [
  {
   "cell_type": "code",
   "execution_count": 3,
   "metadata": {},
   "outputs": [],
   "source": [
    "import sys\n",
    "sys.path.append('..')"
   ]
  },
  {
   "cell_type": "code",
   "execution_count": 4,
   "metadata": {},
   "outputs": [],
   "source": [
    "import os\n",
    "from tqdm import tqdm\n",
    "import random\n",
    "import matplotlib.pyplot as plt\n",
    "import numpy as np\n",
    "import pandas as pd\n",
    "\n",
    "from collections import defaultdict"
   ]
  },
  {
   "cell_type": "code",
   "execution_count": 5,
   "metadata": {},
   "outputs": [],
   "source": [
    "from sklearn.metrics import mean_squared_error\n",
    "from scipy import stats"
   ]
  },
  {
   "cell_type": "code",
   "execution_count": null,
   "metadata": {},
   "outputs": [],
   "source": []
  },
  {
   "cell_type": "markdown",
   "metadata": {},
   "source": [
    "### Load Data"
   ]
  },
  {
   "cell_type": "code",
   "execution_count": 6,
   "metadata": {},
   "outputs": [],
   "source": [
    "data_path = '/nethome/kgeorge/workspace/DomainPrediction/Data/fitness_prediction/GB1'"
   ]
  },
  {
   "cell_type": "code",
   "execution_count": 7,
   "metadata": {},
   "outputs": [],
   "source": [
    "results_file = os.path.join(data_path, 'results_gb1.csv')\n",
    "df_results = pd.read_csv(results_file)"
   ]
  },
  {
   "cell_type": "code",
   "execution_count": 8,
   "metadata": {},
   "outputs": [
    {
     "data": {
      "text/html": [
       "<div>\n",
       "<style scoped>\n",
       "    .dataframe tbody tr th:only-of-type {\n",
       "        vertical-align: middle;\n",
       "    }\n",
       "\n",
       "    .dataframe tbody tr th {\n",
       "        vertical-align: top;\n",
       "    }\n",
       "\n",
       "    .dataframe thead th {\n",
       "        text-align: right;\n",
       "    }\n",
       "</style>\n",
       "<table border=\"1\" class=\"dataframe\">\n",
       "  <thead>\n",
       "    <tr style=\"text-align: right;\">\n",
       "      <th></th>\n",
       "      <th>seq</th>\n",
       "      <th>fitness_raw</th>\n",
       "      <th>split_id</th>\n",
       "      <th>n_mut</th>\n",
       "      <th>fitness_log</th>\n",
       "      <th>pred_OHE_ridge</th>\n",
       "      <th>pred_OHE_RF</th>\n",
       "      <th>pred_OHE_MLP</th>\n",
       "      <th>pred_esm2_mean_ridge</th>\n",
       "      <th>pred_esm2_mean_RF</th>\n",
       "      <th>...</th>\n",
       "      <th>pred_esm2_wt_marginal</th>\n",
       "      <th>pred_esm2_masked_marginal</th>\n",
       "      <th>pred_esmc_wt_marginal</th>\n",
       "      <th>pred_esmc_masked_marginal</th>\n",
       "      <th>pred_esm2_regfit</th>\n",
       "      <th>pred_esmc_regfit</th>\n",
       "      <th>pred_esmc_confit</th>\n",
       "      <th>pred_esm2_confit</th>\n",
       "      <th>pred_esmc_pseudolikelihood</th>\n",
       "      <th>pred_esm2_pseudolikelihood</th>\n",
       "    </tr>\n",
       "  </thead>\n",
       "  <tbody>\n",
       "    <tr>\n",
       "      <th>0</th>\n",
       "      <td>MQYKLILNGKTLKGETTTEAVDAATAEKVFKQYANDNGVDGEWTYD...</td>\n",
       "      <td>1.00</td>\n",
       "      <td>2</td>\n",
       "      <td>0</td>\n",
       "      <td>0.000000</td>\n",
       "      <td>-0.115363</td>\n",
       "      <td>0.084982</td>\n",
       "      <td>0.083806</td>\n",
       "      <td>-2.165880</td>\n",
       "      <td>-0.365860</td>\n",
       "      <td>...</td>\n",
       "      <td>0.000000</td>\n",
       "      <td>0.000000</td>\n",
       "      <td>0.000000</td>\n",
       "      <td>0.000000</td>\n",
       "      <td>-0.130405</td>\n",
       "      <td>0.153663</td>\n",
       "      <td>0.000000</td>\n",
       "      <td>0.000000</td>\n",
       "      <td>-581.66650</td>\n",
       "      <td>-570.230626</td>\n",
       "    </tr>\n",
       "    <tr>\n",
       "      <th>1</th>\n",
       "      <td>MQYKLILNGKTLKGETTTEAVDAATAEKVFKQYANDNGIDGEWTYD...</td>\n",
       "      <td>1.45</td>\n",
       "      <td>2</td>\n",
       "      <td>1</td>\n",
       "      <td>0.371564</td>\n",
       "      <td>-0.146706</td>\n",
       "      <td>0.301134</td>\n",
       "      <td>0.016948</td>\n",
       "      <td>-1.609487</td>\n",
       "      <td>-0.137702</td>\n",
       "      <td>...</td>\n",
       "      <td>-3.603654</td>\n",
       "      <td>-0.079431</td>\n",
       "      <td>0.250000</td>\n",
       "      <td>0.492188</td>\n",
       "      <td>-0.056291</td>\n",
       "      <td>0.077329</td>\n",
       "      <td>0.000000</td>\n",
       "      <td>0.315306</td>\n",
       "      <td>-581.12866</td>\n",
       "      <td>-568.577014</td>\n",
       "    </tr>\n",
       "    <tr>\n",
       "      <th>2</th>\n",
       "      <td>MQYKLILNGKTLKGETTTEAVDAATAEKVFKQYANDNGLDGEWTYD...</td>\n",
       "      <td>1.69</td>\n",
       "      <td>2</td>\n",
       "      <td>1</td>\n",
       "      <td>0.524729</td>\n",
       "      <td>-0.343963</td>\n",
       "      <td>0.308464</td>\n",
       "      <td>-0.019567</td>\n",
       "      <td>-1.770170</td>\n",
       "      <td>0.133929</td>\n",
       "      <td>...</td>\n",
       "      <td>-2.920230</td>\n",
       "      <td>0.555604</td>\n",
       "      <td>0.500000</td>\n",
       "      <td>0.867188</td>\n",
       "      <td>-0.240772</td>\n",
       "      <td>-0.180687</td>\n",
       "      <td>-0.125000</td>\n",
       "      <td>0.030865</td>\n",
       "      <td>-581.75366</td>\n",
       "      <td>-568.287658</td>\n",
       "    </tr>\n",
       "    <tr>\n",
       "      <th>3</th>\n",
       "      <td>MQYKLILNGKTLKGETTTEAVDAATAEKVFKQYANDNGMDGEWTYD...</td>\n",
       "      <td>1.17</td>\n",
       "      <td>2</td>\n",
       "      <td>1</td>\n",
       "      <td>0.157004</td>\n",
       "      <td>-0.779659</td>\n",
       "      <td>0.052084</td>\n",
       "      <td>-0.384268</td>\n",
       "      <td>-2.402546</td>\n",
       "      <td>-0.668166</td>\n",
       "      <td>...</td>\n",
       "      <td>-4.837411</td>\n",
       "      <td>-1.379841</td>\n",
       "      <td>-1.679688</td>\n",
       "      <td>-1.375000</td>\n",
       "      <td>-0.376392</td>\n",
       "      <td>-0.551990</td>\n",
       "      <td>-1.257812</td>\n",
       "      <td>-1.074926</td>\n",
       "      <td>-584.42360</td>\n",
       "      <td>-572.599549</td>\n",
       "    </tr>\n",
       "    <tr>\n",
       "      <th>4</th>\n",
       "      <td>MQYKLILNGKTLKGETTTEAVDAATAEKVFKQYANDNGVAGEWTYD...</td>\n",
       "      <td>2.40</td>\n",
       "      <td>2</td>\n",
       "      <td>1</td>\n",
       "      <td>0.875469</td>\n",
       "      <td>0.262533</td>\n",
       "      <td>0.698862</td>\n",
       "      <td>0.249051</td>\n",
       "      <td>-0.708891</td>\n",
       "      <td>0.619847</td>\n",
       "      <td>...</td>\n",
       "      <td>-3.156260</td>\n",
       "      <td>0.137812</td>\n",
       "      <td>-0.437500</td>\n",
       "      <td>-0.312500</td>\n",
       "      <td>-0.076992</td>\n",
       "      <td>0.769737</td>\n",
       "      <td>1.312500</td>\n",
       "      <td>1.614656</td>\n",
       "      <td>-583.00366</td>\n",
       "      <td>-570.341896</td>\n",
       "    </tr>\n",
       "    <tr>\n",
       "      <th>...</th>\n",
       "      <td>...</td>\n",
       "      <td>...</td>\n",
       "      <td>...</td>\n",
       "      <td>...</td>\n",
       "      <td>...</td>\n",
       "      <td>...</td>\n",
       "      <td>...</td>\n",
       "      <td>...</td>\n",
       "      <td>...</td>\n",
       "      <td>...</td>\n",
       "      <td>...</td>\n",
       "      <td>...</td>\n",
       "      <td>...</td>\n",
       "      <td>...</td>\n",
       "      <td>...</td>\n",
       "      <td>...</td>\n",
       "      <td>...</td>\n",
       "      <td>...</td>\n",
       "      <td>...</td>\n",
       "      <td>...</td>\n",
       "      <td>...</td>\n",
       "    </tr>\n",
       "    <tr>\n",
       "      <th>8728</th>\n",
       "      <td>MQYKLILNGKTLKGETTTEAVDAATAEKVFKQYANDNGYYSEWTYD...</td>\n",
       "      <td>0.37</td>\n",
       "      <td>0</td>\n",
       "      <td>4</td>\n",
       "      <td>-0.994252</td>\n",
       "      <td>-1.458449</td>\n",
       "      <td>-0.787078</td>\n",
       "      <td>0.782105</td>\n",
       "      <td>-2.522320</td>\n",
       "      <td>-3.686189</td>\n",
       "      <td>...</td>\n",
       "      <td>-16.263809</td>\n",
       "      <td>-2.603973</td>\n",
       "      <td>-2.742188</td>\n",
       "      <td>-2.882812</td>\n",
       "      <td>-0.330440</td>\n",
       "      <td>-1.308552</td>\n",
       "      <td>0.207031</td>\n",
       "      <td>0.426993</td>\n",
       "      <td>-583.19824</td>\n",
       "      <td>-576.720531</td>\n",
       "    </tr>\n",
       "    <tr>\n",
       "      <th>8729</th>\n",
       "      <td>MQYKLILNGKTLKGETTTEAVDAATAEKVFKQYANDNGYYVEWTYD...</td>\n",
       "      <td>1.04</td>\n",
       "      <td>0</td>\n",
       "      <td>4</td>\n",
       "      <td>0.039221</td>\n",
       "      <td>-2.478323</td>\n",
       "      <td>-0.354582</td>\n",
       "      <td>0.248229</td>\n",
       "      <td>-0.244526</td>\n",
       "      <td>-1.020686</td>\n",
       "      <td>...</td>\n",
       "      <td>-15.044090</td>\n",
       "      <td>-2.227448</td>\n",
       "      <td>-2.742188</td>\n",
       "      <td>-2.632812</td>\n",
       "      <td>0.291335</td>\n",
       "      <td>-0.121301</td>\n",
       "      <td>-1.523438</td>\n",
       "      <td>-1.286828</td>\n",
       "      <td>-583.77880</td>\n",
       "      <td>-574.778251</td>\n",
       "    </tr>\n",
       "    <tr>\n",
       "      <th>8730</th>\n",
       "      <td>MQYKLILNGKTLKGETTTEAVDAATAEKVFKQYANDNGYYVEWTYD...</td>\n",
       "      <td>0.00</td>\n",
       "      <td>0</td>\n",
       "      <td>4</td>\n",
       "      <td>-13.815511</td>\n",
       "      <td>-6.956321</td>\n",
       "      <td>-8.802569</td>\n",
       "      <td>-6.676731</td>\n",
       "      <td>-2.267996</td>\n",
       "      <td>-6.025237</td>\n",
       "      <td>...</td>\n",
       "      <td>-15.847360</td>\n",
       "      <td>-3.210140</td>\n",
       "      <td>-3.179688</td>\n",
       "      <td>-3.757812</td>\n",
       "      <td>-13.471696</td>\n",
       "      <td>-13.648043</td>\n",
       "      <td>-7.375000</td>\n",
       "      <td>-7.209592</td>\n",
       "      <td>-590.93994</td>\n",
       "      <td>-576.899691</td>\n",
       "    </tr>\n",
       "    <tr>\n",
       "      <th>8731</th>\n",
       "      <td>MQYKLILNGKTLKGETTTEAVDAATAEKVFKQYANDNGYYYEWTYD...</td>\n",
       "      <td>0.03</td>\n",
       "      <td>0</td>\n",
       "      <td>4</td>\n",
       "      <td>-3.506558</td>\n",
       "      <td>-1.413639</td>\n",
       "      <td>-9.923905</td>\n",
       "      <td>-0.738148</td>\n",
       "      <td>-2.023953</td>\n",
       "      <td>-4.821187</td>\n",
       "      <td>...</td>\n",
       "      <td>-17.179189</td>\n",
       "      <td>-4.389381</td>\n",
       "      <td>-3.992188</td>\n",
       "      <td>-4.257812</td>\n",
       "      <td>-0.120605</td>\n",
       "      <td>-2.975160</td>\n",
       "      <td>-3.515625</td>\n",
       "      <td>-2.750988</td>\n",
       "      <td>-586.60156</td>\n",
       "      <td>-577.081927</td>\n",
       "    </tr>\n",
       "    <tr>\n",
       "      <th>8732</th>\n",
       "      <td>MQYKLILNGKTLKGETTTEAVDAATAEKVFKQYANDNGYYYEWTYD...</td>\n",
       "      <td>0.00</td>\n",
       "      <td>0</td>\n",
       "      <td>4</td>\n",
       "      <td>-13.815511</td>\n",
       "      <td>-3.276375</td>\n",
       "      <td>-9.939645</td>\n",
       "      <td>-5.166857</td>\n",
       "      <td>-3.175598</td>\n",
       "      <td>-6.938292</td>\n",
       "      <td>...</td>\n",
       "      <td>-16.837454</td>\n",
       "      <td>-3.840059</td>\n",
       "      <td>-4.445312</td>\n",
       "      <td>-3.507812</td>\n",
       "      <td>-0.732666</td>\n",
       "      <td>-5.228695</td>\n",
       "      <td>-5.718750</td>\n",
       "      <td>-5.953186</td>\n",
       "      <td>-591.78200</td>\n",
       "      <td>-574.997684</td>\n",
       "    </tr>\n",
       "  </tbody>\n",
       "</table>\n",
       "<p>8733 rows × 28 columns</p>\n",
       "</div>"
      ],
      "text/plain": [
       "                                                    seq  fitness_raw  \\\n",
       "0     MQYKLILNGKTLKGETTTEAVDAATAEKVFKQYANDNGVDGEWTYD...         1.00   \n",
       "1     MQYKLILNGKTLKGETTTEAVDAATAEKVFKQYANDNGIDGEWTYD...         1.45   \n",
       "2     MQYKLILNGKTLKGETTTEAVDAATAEKVFKQYANDNGLDGEWTYD...         1.69   \n",
       "3     MQYKLILNGKTLKGETTTEAVDAATAEKVFKQYANDNGMDGEWTYD...         1.17   \n",
       "4     MQYKLILNGKTLKGETTTEAVDAATAEKVFKQYANDNGVAGEWTYD...         2.40   \n",
       "...                                                 ...          ...   \n",
       "8728  MQYKLILNGKTLKGETTTEAVDAATAEKVFKQYANDNGYYSEWTYD...         0.37   \n",
       "8729  MQYKLILNGKTLKGETTTEAVDAATAEKVFKQYANDNGYYVEWTYD...         1.04   \n",
       "8730  MQYKLILNGKTLKGETTTEAVDAATAEKVFKQYANDNGYYVEWTYD...         0.00   \n",
       "8731  MQYKLILNGKTLKGETTTEAVDAATAEKVFKQYANDNGYYYEWTYD...         0.03   \n",
       "8732  MQYKLILNGKTLKGETTTEAVDAATAEKVFKQYANDNGYYYEWTYD...         0.00   \n",
       "\n",
       "      split_id  n_mut  fitness_log  pred_OHE_ridge  pred_OHE_RF  pred_OHE_MLP  \\\n",
       "0            2      0     0.000000       -0.115363     0.084982      0.083806   \n",
       "1            2      1     0.371564       -0.146706     0.301134      0.016948   \n",
       "2            2      1     0.524729       -0.343963     0.308464     -0.019567   \n",
       "3            2      1     0.157004       -0.779659     0.052084     -0.384268   \n",
       "4            2      1     0.875469        0.262533     0.698862      0.249051   \n",
       "...        ...    ...          ...             ...          ...           ...   \n",
       "8728         0      4    -0.994252       -1.458449    -0.787078      0.782105   \n",
       "8729         0      4     0.039221       -2.478323    -0.354582      0.248229   \n",
       "8730         0      4   -13.815511       -6.956321    -8.802569     -6.676731   \n",
       "8731         0      4    -3.506558       -1.413639    -9.923905     -0.738148   \n",
       "8732         0      4   -13.815511       -3.276375    -9.939645     -5.166857   \n",
       "\n",
       "      pred_esm2_mean_ridge  pred_esm2_mean_RF  ...  pred_esm2_wt_marginal  \\\n",
       "0                -2.165880          -0.365860  ...               0.000000   \n",
       "1                -1.609487          -0.137702  ...              -3.603654   \n",
       "2                -1.770170           0.133929  ...              -2.920230   \n",
       "3                -2.402546          -0.668166  ...              -4.837411   \n",
       "4                -0.708891           0.619847  ...              -3.156260   \n",
       "...                    ...                ...  ...                    ...   \n",
       "8728             -2.522320          -3.686189  ...             -16.263809   \n",
       "8729             -0.244526          -1.020686  ...             -15.044090   \n",
       "8730             -2.267996          -6.025237  ...             -15.847360   \n",
       "8731             -2.023953          -4.821187  ...             -17.179189   \n",
       "8732             -3.175598          -6.938292  ...             -16.837454   \n",
       "\n",
       "      pred_esm2_masked_marginal  pred_esmc_wt_marginal  \\\n",
       "0                      0.000000               0.000000   \n",
       "1                     -0.079431               0.250000   \n",
       "2                      0.555604               0.500000   \n",
       "3                     -1.379841              -1.679688   \n",
       "4                      0.137812              -0.437500   \n",
       "...                         ...                    ...   \n",
       "8728                  -2.603973              -2.742188   \n",
       "8729                  -2.227448              -2.742188   \n",
       "8730                  -3.210140              -3.179688   \n",
       "8731                  -4.389381              -3.992188   \n",
       "8732                  -3.840059              -4.445312   \n",
       "\n",
       "      pred_esmc_masked_marginal  pred_esm2_regfit  pred_esmc_regfit  \\\n",
       "0                      0.000000         -0.130405          0.153663   \n",
       "1                      0.492188         -0.056291          0.077329   \n",
       "2                      0.867188         -0.240772         -0.180687   \n",
       "3                     -1.375000         -0.376392         -0.551990   \n",
       "4                     -0.312500         -0.076992          0.769737   \n",
       "...                         ...               ...               ...   \n",
       "8728                  -2.882812         -0.330440         -1.308552   \n",
       "8729                  -2.632812          0.291335         -0.121301   \n",
       "8730                  -3.757812        -13.471696        -13.648043   \n",
       "8731                  -4.257812         -0.120605         -2.975160   \n",
       "8732                  -3.507812         -0.732666         -5.228695   \n",
       "\n",
       "      pred_esmc_confit  pred_esm2_confit  pred_esmc_pseudolikelihood  \\\n",
       "0             0.000000          0.000000                  -581.66650   \n",
       "1             0.000000          0.315306                  -581.12866   \n",
       "2            -0.125000          0.030865                  -581.75366   \n",
       "3            -1.257812         -1.074926                  -584.42360   \n",
       "4             1.312500          1.614656                  -583.00366   \n",
       "...                ...               ...                         ...   \n",
       "8728          0.207031          0.426993                  -583.19824   \n",
       "8729         -1.523438         -1.286828                  -583.77880   \n",
       "8730         -7.375000         -7.209592                  -590.93994   \n",
       "8731         -3.515625         -2.750988                  -586.60156   \n",
       "8732         -5.718750         -5.953186                  -591.78200   \n",
       "\n",
       "      pred_esm2_pseudolikelihood  \n",
       "0                    -570.230626  \n",
       "1                    -568.577014  \n",
       "2                    -568.287658  \n",
       "3                    -572.599549  \n",
       "4                    -570.341896  \n",
       "...                          ...  \n",
       "8728                 -576.720531  \n",
       "8729                 -574.778251  \n",
       "8730                 -576.899691  \n",
       "8731                 -577.081927  \n",
       "8732                 -574.997684  \n",
       "\n",
       "[8733 rows x 28 columns]"
      ]
     },
     "execution_count": 8,
     "metadata": {},
     "output_type": "execute_result"
    }
   ],
   "source": [
    "df_results"
   ]
  },
  {
   "cell_type": "code",
   "execution_count": 9,
   "metadata": {},
   "outputs": [
    {
     "data": {
      "text/plain": [
       "23"
      ]
     },
     "execution_count": 9,
     "metadata": {},
     "output_type": "execute_result"
    }
   ],
   "source": [
    "df_results.columns.str.contains('pred').sum()"
   ]
  },
  {
   "cell_type": "code",
   "execution_count": null,
   "metadata": {},
   "outputs": [],
   "source": []
  },
  {
   "cell_type": "markdown",
   "metadata": {},
   "source": [
    "### Useful Functions"
   ]
  },
  {
   "cell_type": "code",
   "execution_count": 10,
   "metadata": {},
   "outputs": [],
   "source": [
    "def get_spearmanr_bootstrap(a, b, n=1000, ci = 95):\n",
    "    assert len(a) == len(b)\n",
    "    corr = []\n",
    "    p_values = []\n",
    "    np.random.seed(0)\n",
    "    for _ in range(n):\n",
    "        indices = np.random.choice(len(a), size=len(a), replace=True)\n",
    "        res = stats.spearmanr(a[indices], b[indices])\n",
    "        \n",
    "        if not np.isnan(res.statistic):\n",
    "            corr.append(res.statistic)\n",
    "            p_values.append(res.pvalue)\n",
    "\n",
    "    ci_lower, ci_upper = np.percentile(corr, [100-ci, ci]) \n",
    "    mean_corr = np.mean(corr)\n",
    "    p_value = np.mean(np.array(corr) < 0)\n",
    "\n",
    "    return round(mean_corr, 2), round(ci_lower, 2), round(ci_upper, 2), round(p_value, 2), corr, p_values"
   ]
  },
  {
   "cell_type": "code",
   "execution_count": 11,
   "metadata": {},
   "outputs": [],
   "source": [
    "def get_split_mask(df, omit_zero=False):\n",
    "    if omit_zero:\n",
    "        train_mask = (df['split_id'] == 2) & (df['fitness_raw'] != 0)\n",
    "    else:\n",
    "        train_mask = (df['split_id'] == 2)\n",
    "\n",
    "    val_mask = df['split_id'] == 1\n",
    "    test_mask = df['split_id'] == 0\n",
    "\n",
    "    return train_mask, val_mask, test_mask"
   ]
  },
  {
   "cell_type": "code",
   "execution_count": 12,
   "metadata": {},
   "outputs": [],
   "source": [
    "name_dict = {\n",
    "        'pred_OHE_ridge': 'OHE Linear',\n",
    "        'pred_OHE_RF': 'OHE RF',\n",
    "        'pred_OHE_MLP': 'OHE MLP',\n",
    "\n",
    "        'pred_esm2_mean_ridge': 'ESM2 mean-embeddings Linear',\n",
    "        'pred_esm2_mean_RF': 'ESM2 mean-embeddings RF',\n",
    "        'pred_esm2_mean_MLP': 'ESM2 mean-embeddings MLP',\n",
    "        'pred_esm2_concat_ridge': 'ESM2 concat-embeddings Linear',\n",
    "        'pred_esm2_concat_RF': 'ESM2 concat-embeddings RF',\n",
    "\n",
    "        'pred_esmc_mean_ridge': 'ESMC mean-embeddings Linear',\n",
    "        'pred_esmc_mean_RF': 'ESMC mean-embeddings RF',\n",
    "        'pred_esmc_mean_MLP': 'ESMC mean-embeddings MLP',\n",
    "        'pred_esmc_concat_ridge': 'ESMC concat-embeddings Linear',\n",
    "        'pred_esmc_concat_RF': 'ESMC concat-embeddings RF',\n",
    "\n",
    "        'pred_esm2_wt_marginal': 'ESM2 wildtype marginal',\n",
    "        'pred_esm2_masked_marginal': 'ESM2 masked marginal',\n",
    "        'pred_esm2_pseudolikelihood': 'ESM2 pseudolikelihood',\n",
    "\n",
    "        'pred_esmc_wt_marginal': 'ESMC wildtype marginal',\n",
    "        'pred_esmc_masked_marginal': 'ESMC masked marginal',\n",
    "        'pred_esmc_pseudolikelihood': 'ESMC pseudolikelihood',\n",
    "\n",
    "        'pred_esm2_regfit': 'ESM2 regression finetuning',\n",
    "        'pred_esmc_regfit': 'ESMC regression finetuning',\n",
    "\n",
    "        'pred_esm2_confit': 'ESM2 contrastive finetuning',\n",
    "        'pred_esmc_confit': 'ESMC contrastive finetuning',\n",
    "        \n",
    "    }"
   ]
  },
  {
   "cell_type": "code",
   "execution_count": null,
   "metadata": {},
   "outputs": [],
   "source": []
  },
  {
   "cell_type": "markdown",
   "metadata": {},
   "source": [
    "### All Plots"
   ]
  },
  {
   "cell_type": "code",
   "execution_count": null,
   "metadata": {},
   "outputs": [],
   "source": [
    "def get_plot_check(df, label, fit_label='fitness_log'):\n",
    "    train_mask, val_mask, test_mask = get_split_mask(df)\n",
    "    assert fit_label in df.columns\n",
    "\n",
    "    fig, ax = plt.subplots(1,4, figsize=(13,3), layout='constrained')\n",
    "\n",
    "    omit_mask = df['fitness_raw'] > 0\n",
    "\n",
    "    ax[0].plot(df.loc[train_mask, fit_label], df.loc[train_mask, label], '.', alpha=0.9)\n",
    "    train_corr, train_ci_lower, train_ci_upper, p_value, *_  = get_spearmanr_bootstrap(df.loc[train_mask, fit_label].to_numpy(), df.loc[train_mask, label].to_numpy())\n",
    "    ax[0].set_title(f'Train\\n corr {train_corr} CI ({train_ci_lower}, {train_ci_upper}) P value {p_value}')\n",
    "\n",
    "    ax[1].plot(df.loc[train_mask, fit_label], df.loc[train_mask, label], '.', alpha=0.9)\n",
    "    ax[1].plot(df.loc[train_mask & omit_mask, fit_label], df.loc[train_mask & omit_mask, label], '.', alpha=0.9)\n",
    "    train_corr, train_ci_lower, train_ci_upper, p_value, *_  = get_spearmanr_bootstrap(df.loc[train_mask & omit_mask, fit_label].to_numpy(), df.loc[train_mask & omit_mask, label].to_numpy())\n",
    "    ax[1].set_title(f'Train Omit\\n corr {train_corr} CI ({train_ci_lower}, {train_ci_upper}) P value {p_value}')\n",
    "\n",
    "    ax[2].plot(df.loc[test_mask, fit_label], df.loc[test_mask, label], '.', alpha=0.9)\n",
    "    test_corr, test_ci_lower, test_ci_upper, p_value, *_ = get_spearmanr_bootstrap(df.loc[test_mask, fit_label].to_numpy(), df.loc[test_mask, label].to_numpy())\n",
    "    ax[2].set_title(f'Test\\n corr {test_corr} CI ({test_ci_lower}, {test_ci_upper}) P value {p_value}')\n",
    "\n",
    "    ax[3].plot(df.loc[test_mask, fit_label], df.loc[test_mask, label], '.', alpha=0.9)\n",
    "    ax[3].plot(df.loc[test_mask & omit_mask, fit_label], df.loc[test_mask & omit_mask, label], '.', alpha=0.9)\n",
    "    test_corr, test_ci_lower, test_ci_upper, p_value, *_ = get_spearmanr_bootstrap(df.loc[test_mask & omit_mask, fit_label].to_numpy(), df.loc[test_mask & omit_mask, label].to_numpy())\n",
    "    ax[3].set_title(f'Test\\n corr {test_corr} CI ({test_ci_lower}, {test_ci_upper}) P value {p_value}')\n",
    "    \n",
    "    for i in range(4):\n",
    "        ax[i].set_xlabel('True')\n",
    "        ax[i].set_ylabel('Pred')\n",
    "\n",
    "    plt.show()"
   ]
  },
  {
   "cell_type": "code",
   "execution_count": null,
   "metadata": {},
   "outputs": [],
   "source": [
    "for label in df_results.columns[df_results.columns.str.contains('pred')]:\n",
    "    print(label)\n",
    "    get_plot_check(df_results, label, fit_label='fitness_log')"
   ]
  },
  {
   "cell_type": "code",
   "execution_count": null,
   "metadata": {},
   "outputs": [],
   "source": []
  },
  {
   "cell_type": "markdown",
   "metadata": {},
   "source": [
    "### Tables"
   ]
  },
  {
   "cell_type": "code",
   "execution_count": null,
   "metadata": {},
   "outputs": [],
   "source": [
    "def get_table(df, fit_label='fitness_log', omit=True, omit_label=None):\n",
    "    table = {}\n",
    "    train_mask, val_mask, test_mask = get_split_mask(df)\n",
    "    assert fit_label in df.columns\n",
    "    for label in df.columns[df.columns.str.contains('pred')]:\n",
    "        if omit:\n",
    "            assert omit_label is not None and omit_label in df.columns\n",
    "            omit_mask = df[omit_label] > 0\n",
    "            train_corr, train_ci_lower, train_ci_upper, train_p_value, *_  = get_spearmanr_bootstrap(df.loc[train_mask & omit_mask, fit_label].to_numpy(), df.loc[train_mask & omit_mask, label].to_numpy())\n",
    "            test_corr, test_ci_lower, test_ci_upper, test_p_value, *_ = get_spearmanr_bootstrap(df.loc[test_mask & omit_mask, fit_label].to_numpy(), df.loc[test_mask & omit_mask, label].to_numpy())\n",
    "        else:\n",
    "            train_corr, train_ci_lower, train_ci_upper, train_p_value, *_  = get_spearmanr_bootstrap(df.loc[train_mask, fit_label].to_numpy(), df.loc[train_mask, label].to_numpy())\n",
    "            test_corr, test_ci_lower, test_ci_upper, test_p_value, *_ = get_spearmanr_bootstrap(df.loc[test_mask, fit_label].to_numpy(), df.loc[test_mask, label].to_numpy())\n",
    "        \n",
    "        table[label] = [train_corr, (train_ci_lower, train_ci_upper), train_p_value, test_corr, (test_ci_lower, test_ci_upper), test_p_value]\n",
    "\n",
    "    df_table = pd.DataFrame(table).T\n",
    "    df_table.columns = ['train', 'train CI', 'train p-val', 'test', 'test CI', 'test p-val']\n",
    "\n",
    "    return df_table"
   ]
  },
  {
   "cell_type": "code",
   "execution_count": null,
   "metadata": {},
   "outputs": [],
   "source": [
    "res_table = get_table(df_results, omit=True, fit_label='fitness_log', omit_label='fitness_raw')"
   ]
  },
  {
   "cell_type": "code",
   "execution_count": null,
   "metadata": {},
   "outputs": [],
   "source": [
    "res_table"
   ]
  },
  {
   "cell_type": "code",
   "execution_count": null,
   "metadata": {},
   "outputs": [],
   "source": [
    "res_table.sort_values(by='test', ascending=False).index"
   ]
  },
  {
   "cell_type": "code",
   "execution_count": null,
   "metadata": {},
   "outputs": [],
   "source": [
    "res_table[res_table['test p-val'] < 0.05]"
   ]
  },
  {
   "cell_type": "code",
   "execution_count": null,
   "metadata": {},
   "outputs": [],
   "source": []
  },
  {
   "cell_type": "code",
   "execution_count": null,
   "metadata": {},
   "outputs": [],
   "source": [
    "temp_table = {}\n",
    "for i, row in res_table.iterrows():\n",
    "    temp_table[row.name] = [f\"{row['test']} {row['test CI']}\"]\n",
    "temp_table = pd.DataFrame(temp_table).T"
   ]
  },
  {
   "cell_type": "code",
   "execution_count": null,
   "metadata": {},
   "outputs": [],
   "source": [
    "temp_table"
   ]
  },
  {
   "cell_type": "code",
   "execution_count": null,
   "metadata": {},
   "outputs": [],
   "source": []
  },
  {
   "cell_type": "markdown",
   "metadata": {},
   "source": [
    "### Panel"
   ]
  },
  {
   "cell_type": "code",
   "execution_count": null,
   "metadata": {},
   "outputs": [],
   "source": [
    "def get_panel(df, label, fit_label='fitness_log', omit=True, omit_label=None):\n",
    "    train_mask, val_mask, test_mask = get_split_mask(df)\n",
    "    assert fit_label in df.columns\n",
    "\n",
    "    fig, ax = plt.subplots(1,2, figsize=(7,3), layout='constrained')\n",
    "\n",
    "    if omit:\n",
    "        assert omit_label is not None and omit_label in df.columns\n",
    "        \n",
    "        omit_mask = df[omit_label] > 0\n",
    "\n",
    "        ax[0].plot(df.loc[train_mask & omit_mask, fit_label], df.loc[train_mask & omit_mask, label], '.', alpha=0.9)\n",
    "        ax[1].plot(df.loc[test_mask & omit_mask,fit_label], df.loc[test_mask & omit_mask, label], '.', alpha=0.9)\n",
    "\n",
    "        train_corr, train_ci_lower, train_ci_upper, *_  = get_spearmanr_bootstrap(df.loc[train_mask & omit_mask, fit_label].to_numpy(), df.loc[train_mask & omit_mask, label].to_numpy())\n",
    "        test_corr, test_ci_lower, test_ci_upper, *_ = get_spearmanr_bootstrap(df.loc[test_mask & omit_mask, fit_label].to_numpy(), df.loc[test_mask & omit_mask, label].to_numpy())\n",
    "\n",
    "        ax[0].set_title(f'Train\\nspearman corr {train_corr} CI ({train_ci_lower}, {train_ci_upper})')\n",
    "        ax[1].set_title(f'Test\\nspearman corr {test_corr} CI ({test_ci_lower}, {test_ci_upper})')\n",
    "    else:\n",
    "        ax[0].plot(df.loc[train_mask, fit_label], df.loc[train_mask, label], '.', alpha=0.9)\n",
    "        ax[1].plot(df.loc[test_mask, fit_label], df.loc[test_mask, label], '.', alpha=0.9)\n",
    "\n",
    "        train_corr, train_ci_lower, train_ci_upper, *_  = get_spearmanr_bootstrap(df.loc[train_mask, fit_label].to_numpy(), df.loc[train_mask, label].to_numpy())\n",
    "        test_corr, test_ci_lower, test_ci_upper, *_ = get_spearmanr_bootstrap(df.loc[test_mask, fit_label].to_numpy(), df.loc[test_mask, label].to_numpy())\n",
    "\n",
    "        ax[0].set_title(f'Train\\nspearman corr {train_corr} CI ({train_ci_lower}, {train_ci_upper})')\n",
    "        ax[1].set_title(f'Test\\nspearman corr {test_corr} CI ({test_ci_lower}, {test_ci_upper})')\n",
    "    \n",
    "    for i in range(2):\n",
    "        ax[i].set_xlabel('True')\n",
    "        ax[i].set_ylabel('Pred')\n",
    "\n",
    "    plt.show()"
   ]
  },
  {
   "cell_type": "code",
   "execution_count": null,
   "metadata": {},
   "outputs": [],
   "source": [
    "get_panel(df_results, 'pred_esm2_wt_marginal', omit=True, fit_label='fitness_log', omit_label='fitness_raw')"
   ]
  },
  {
   "cell_type": "code",
   "execution_count": null,
   "metadata": {},
   "outputs": [],
   "source": []
  },
  {
   "cell_type": "markdown",
   "metadata": {},
   "source": [
    "### Comparison"
   ]
  },
  {
   "cell_type": "code",
   "execution_count": 13,
   "metadata": {},
   "outputs": [],
   "source": [
    "def get_diff(y, a, b, n=1000, ci = 95):\n",
    "\n",
    "    assert len(y) == len(a) == len(b)\n",
    "    \n",
    "    corr_a_list = []\n",
    "    corr_b_list = []\n",
    "    diff_corr = []\n",
    "    np.random.seed(0)\n",
    "    \n",
    "    for _ in range(n):\n",
    "        indices = np.random.choice(len(a), size=len(a), replace=True)\n",
    "        corr_a = stats.spearmanr(y[indices], a[indices]).statistic\n",
    "        corr_b = stats.spearmanr(y[indices], b[indices]).statistic\n",
    "        \n",
    "        assert not np.isnan(corr_a)\n",
    "        assert not np.isnan(corr_b)\n",
    "\n",
    "        corr_a_list.append(corr_a)\n",
    "        corr_b_list.append(corr_b)\n",
    "\n",
    "        diff_corr.append(corr_a - corr_b)\n",
    "\n",
    "    ci_lower, ci_upper = np.percentile(diff_corr, [5, 95]) \n",
    "    p_value = np.mean(np.array(diff_corr) < 0)\n",
    "\n",
    "    # plt.hist(corr_b_list)\n",
    "    # plt.hist(corr_a_list)\n",
    "    \n",
    "    return p_value, ci_lower, ci_upper"
   ]
  },
  {
   "cell_type": "code",
   "execution_count": 14,
   "metadata": {},
   "outputs": [
    {
     "data": {
      "text/plain": [
       "(1.0, -0.03751545924535421, -0.016017005075896214)"
      ]
     },
     "execution_count": 14,
     "metadata": {},
     "output_type": "execute_result"
    }
   ],
   "source": [
    "train_mask, val_mask, test_mask = get_split_mask(df_results)\n",
    "omit_mask = df_results['fitness_raw'] > 0\n",
    "\n",
    "get_diff(df_results.loc[test_mask & omit_mask, 'fitness_log'].to_numpy(), df_results.loc[test_mask & omit_mask, 'pred_esmc_concat_ridge'].to_numpy(), df_results.loc[test_mask & omit_mask, 'pred_esmc_confit'].to_numpy())"
   ]
  },
  {
   "cell_type": "code",
   "execution_count": null,
   "metadata": {},
   "outputs": [],
   "source": [
    "order_list = ['pred_esmc_regfit', 'pred_OHE_RF', 'pred_esmc_confit',\n",
    "       'pred_esmc_concat_ridge', 'pred_esm2_confit', 'pred_esm2_concat_ridge',\n",
    "       'pred_esm2_concat_RF', 'pred_esm2_regfit', 'pred_esmc_concat_RF',\n",
    "       'pred_OHE_ridge', 'pred_OHE_MLP', 'pred_esm2_mean_MLP',\n",
    "       'pred_esm2_mean_RF', 'pred_esmc_mean_RF', 'pred_esm2_mean_ridge',\n",
    "       'pred_esmc_mean_MLP', 'pred_esmc_pseudolikelihood',\n",
    "       'pred_esmc_mean_ridge', 'pred_esmc_wt_marginal',\n",
    "       'pred_esmc_masked_marginal', 'pred_esm2_pseudolikelihood',\n",
    "       'pred_esm2_wt_marginal', 'pred_esm2_masked_marginal']\n",
    "\n",
    "for i in range(len(order_list)):\n",
    "    print(f'{order_list[i]}:-')\n",
    "    for j in range(i+1, len(order_list)):\n",
    "\n",
    "        p, *_ = get_diff(df_results.loc[test_mask & omit_mask, 'fitness_log'].to_numpy(), \n",
    "                         df_results.loc[test_mask & omit_mask, order_list[i]].to_numpy(), \n",
    "                         df_results.loc[test_mask & omit_mask, order_list[j]].to_numpy())\n",
    "        \n",
    "        if p >= 0.05:\n",
    "            print(order_list[i], order_list[j], p)\n",
    "\n",
    "    print(' ')"
   ]
  },
  {
   "cell_type": "code",
   "execution_count": 15,
   "metadata": {},
   "outputs": [],
   "source": [
    "order_list = ['pred_esmc_regfit', 'pred_OHE_RF', 'pred_esmc_confit', 'pred_esmc_concat_ridge', 'pred_esm2_confit']\n",
    "significance_matrix = np.zeros((len(order_list), len(order_list)))\n",
    "for i in range(len(order_list)):\n",
    "    for j in range(len(order_list)):\n",
    "\n",
    "        p, *_ = get_diff(df_results.loc[test_mask & omit_mask, 'fitness_raw'].to_numpy(), \n",
    "                         df_results.loc[test_mask & omit_mask, order_list[i]].to_numpy(), \n",
    "                         df_results.loc[test_mask & omit_mask, order_list[j]].to_numpy())\n",
    "        \n",
    "        significance_matrix[i,j] = p"
   ]
  },
  {
   "cell_type": "code",
   "execution_count": 16,
   "metadata": {},
   "outputs": [
    {
     "data": {
      "text/plain": [
       "array([[0.   , 0.   , 0.   , 0.   , 0.   ],\n",
       "       [1.   , 0.   , 0.03 , 0.   , 0.   ],\n",
       "       [1.   , 0.97 , 0.   , 0.   , 0.   ],\n",
       "       [1.   , 1.   , 1.   , 0.   , 0.609],\n",
       "       [1.   , 1.   , 1.   , 0.391, 0.   ]])"
      ]
     },
     "execution_count": 16,
     "metadata": {},
     "output_type": "execute_result"
    }
   ],
   "source": [
    "significance_matrix"
   ]
  },
  {
   "cell_type": "code",
   "execution_count": 17,
   "metadata": {},
   "outputs": [
    {
     "data": {
      "text/plain": [
       "<matplotlib.image.AxesImage at 0x7fefc279e6e0>"
      ]
     },
     "execution_count": 17,
     "metadata": {},
     "output_type": "execute_result"
    },
    {
     "data": {
      "image/png": "[encoded data removed]",
      "text/plain": [
       "<Figure size 640x480 with 1 Axes>"
      ]
     },
     "metadata": {},
     "output_type": "display_data"
    }
   ],
   "source": [
    "plt.imshow(significance_matrix < 0.05)"
   ]
  },
  {
   "cell_type": "code",
   "execution_count": null,
   "metadata": {},
   "outputs": [],
   "source": []
  },
  {
   "cell_type": "markdown",
   "metadata": {},
   "source": [
    "### ESMC vs ESM2"
   ]
  },
  {
   "cell_type": "code",
   "execution_count": 12,
   "metadata": {},
   "outputs": [],
   "source": [
    "def get_diff(y, a, b, n=1000, ci = 95):\n",
    "\n",
    "    assert len(y) == len(a) == len(b)\n",
    "    \n",
    "    corr_a_list = []\n",
    "    corr_b_list = []\n",
    "    diff_corr = []\n",
    "    np.random.seed(0)\n",
    "    \n",
    "    for _ in range(n):\n",
    "        indices = np.random.choice(len(a), size=len(a), replace=True)\n",
    "        corr_a = stats.spearmanr(y[indices], a[indices]).statistic\n",
    "        corr_b = stats.spearmanr(y[indices], b[indices]).statistic\n",
    "        \n",
    "        assert not np.isnan(corr_a)\n",
    "        assert not np.isnan(corr_b)\n",
    "\n",
    "        corr_a_list.append(corr_a)\n",
    "        corr_b_list.append(corr_b)\n",
    "\n",
    "        diff_corr.append(corr_a - corr_b)\n",
    "\n",
    "    ci_lower, ci_upper = np.percentile(diff_corr, [5, 95]) \n",
    "    p_value = np.mean(np.array(diff_corr) < 0)\n",
    "\n",
    "    # plt.hist(corr_b_list)\n",
    "    # plt.hist(corr_a_list)\n",
    "    \n",
    "    return p_value, corr_a_list, corr_b_list"
   ]
  },
  {
   "cell_type": "code",
   "execution_count": 13,
   "metadata": {},
   "outputs": [],
   "source": [
    "esmc_indicater = ['pred_esmc_mean_ridge', 'pred_esmc_mean_RF', 'pred_esmc_mean_MLP', 'pred_esmc_concat_ridge', 'pred_esmc_concat_RF',\n",
    "                  'pred_esmc_wt_marginal', 'pred_esmc_masked_marginal', 'pred_esmc_pseudolikelihood', 'pred_esmc_regfit', \n",
    "                  'pred_esmc_confit']\n",
    "esm2_indicater = ['pred_esm2_mean_ridge', 'pred_esm2_mean_RF', 'pred_esm2_mean_MLP', 'pred_esm2_concat_ridge', 'pred_esm2_concat_RF',\n",
    "                  'pred_esm2_wt_marginal', 'pred_esm2_masked_marginal', 'pred_esm2_pseudolikelihood', 'pred_esm2_regfit', \n",
    "                  'pred_esm2_confit']"
   ]
  },
  {
   "cell_type": "code",
   "execution_count": 21,
   "metadata": {},
   "outputs": [
    {
     "data": {
      "image/png": "[encoded data removed]",
      "text/plain": [
       "<Figure size 1000x300 with 1 Axes>"
      ]
     },
     "metadata": {},
     "output_type": "display_data"
    }
   ],
   "source": [
    "train_mask, val_mask, test_mask = get_split_mask(df_results)\n",
    "omit_mask = df_results['fitness_raw'] > 0\n",
    "\n",
    "fig, ax = plt.subplots(figsize=(10, 3), layout='constrained')\n",
    "ax.set_xticks([])\n",
    "# ax.set_xticks(range(len(esmc_indicater)))\n",
    "# ax.set_xticklabels([f\"{name_dict.get(x, x).replace('ESMC ', '')}\" for x in esmc_indicater], rotation=45, ha='right')\n",
    "\n",
    "for a, b in zip(esmc_indicater, esm2_indicater):\n",
    "    p, dist_a, dist_b = get_diff(df_results.loc[test_mask & omit_mask, 'fitness_log'].to_numpy(), \n",
    "                         df_results.loc[test_mask & omit_mask, a].to_numpy(), \n",
    "                         df_results.loc[test_mask & omit_mask, b].to_numpy())\n",
    "    \n",
    "    # Calculate mean and confidence intervals\n",
    "    mean_a, mean_b = np.mean(dist_a), np.mean(dist_b)\n",
    "    ci_a = np.percentile(dist_a, [5, 95])\n",
    "    ci_b = np.percentile(dist_b, [5, 95])\n",
    "\n",
    "    x_pos = len(ax.patches) // 2\n",
    "    if len(ax.patches) == 0:\n",
    "        ax.bar(x_pos - 0.2, mean_a, yerr=[[mean_a - ci_a[0]], [ci_a[1] - mean_a]], capsize=5, color='lightseagreen', width=0.4, label='ESMC')\n",
    "        ax.bar(x_pos + 0.2, mean_b, yerr=[[mean_b - ci_b[0]], [ci_b[1] - mean_b]], capsize=5, color='burlywood', width=0.4, label='ESM2')\n",
    "    else:\n",
    "        ax.bar(x_pos - 0.2, mean_a, yerr=[[mean_a - ci_a[0]], [ci_a[1] - mean_a]], capsize=5, color='lightseagreen', width=0.4)\n",
    "        ax.bar(x_pos + 0.2, mean_b, yerr=[[mean_b - ci_b[0]], [ci_b[1] - mean_b]], capsize=5, color='burlywood', width=0.4)\n",
    "\n",
    "    # Add significance marker\n",
    "    if p < 0.05:\n",
    "        ax.text(x_pos, max(mean_a, mean_b) - 0.01, '**', ha='center', va='bottom', fontsize=12, color='red')\n",
    "\n",
    "ax.set_ylabel('Spearman Correlation')\n",
    "ax.legend()\n",
    "plt.show()    \n"
   ]
  },
  {
   "cell_type": "code",
   "execution_count": 20,
   "metadata": {},
   "outputs": [
    {
     "data": {
      "image/png": "[encoded data removed]",
      "text/plain": [
       "<Figure size 1000x300 with 1 Axes>"
      ]
     },
     "metadata": {},
     "output_type": "display_data"
    }
   ],
   "source": [
    "train_mask, val_mask, test_mask = get_split_mask(df_results)\n",
    "omit_mask = df_results['fitness_raw'] > 0\n",
    "\n",
    "fig, ax = plt.subplots(figsize=(10, 3), layout='constrained')\n",
    "ax.set_xticks([])\n",
    "# ax.set_xticks(range(len(esmc_indicater)))\n",
    "# ax.set_xticklabels([f\"{name_dict.get(x, x).replace('ESMC ', '')}\" for x in esmc_indicater], rotation=45, ha='right')\n",
    "positions = np.arange(len(esmc_indicater))  # Set positions for the bars\n",
    "\n",
    "for _i, (a, b) in enumerate(zip(esmc_indicater, esm2_indicater)):\n",
    "    p, dist_a, dist_b = get_diff(df_results.loc[test_mask & omit_mask, 'fitness_log'].to_numpy(), \n",
    "                         df_results.loc[test_mask & omit_mask, a].to_numpy(), \n",
    "                         df_results.loc[test_mask & omit_mask, b].to_numpy())\n",
    "    \n",
    "    x_pos = positions[_i]\n",
    "    bp = ax.violinplot(dist_a, positions=[x_pos - 0.2], widths=0.3, showmeans=True, showextrema=False)\n",
    "    bp['cmeans'].set_color('black')\n",
    "    for pc in bp['bodies']:\n",
    "        pc.set_facecolor('lightseagreen')\n",
    "        pc.set_edgecolor('black')\n",
    "        pc.set_alpha(1)\n",
    "\n",
    "    bp = ax.violinplot(dist_b, positions=[x_pos + 0.2], widths=0.3, showmeans=True, showextrema=False)\n",
    "    bp['cmeans'].set_color('black')\n",
    "    for pc in bp['bodies']:\n",
    "        pc.set_facecolor('burlywood')\n",
    "        pc.set_alpha(1)\n",
    "        pc.set_edgecolor('black')\n",
    "\n",
    "    # Add significance marker\n",
    "    if p < 0.05:\n",
    "        ax.text(x_pos, max(max(dist_a), max(dist_b)) - 0.01, '**', ha='center', va='bottom', fontsize=12, color='red')\n",
    "\n",
    "ax.set_ylabel('Spearman Correlation')\n",
    "from matplotlib.patches import Patch\n",
    "legend_handles = [\n",
    "    Patch(facecolor='lightseagreen', edgecolor='black', label='ESMC'),\n",
    "    Patch(facecolor='burlywood', edgecolor='black', label='ESM2')\n",
    "]\n",
    "ax.legend(handles=legend_handles, loc='upper left')\n",
    "plt.show()    \n"
   ]
  },
  {
   "cell_type": "code",
   "execution_count": null,
   "metadata": {},
   "outputs": [],
   "source": []
  },
  {
   "cell_type": "markdown",
   "metadata": {},
   "source": [
    "### Concat vs mean"
   ]
  },
  {
   "cell_type": "code",
   "execution_count": 14,
   "metadata": {},
   "outputs": [],
   "source": [
    "def get_diff(y, a, b, n=1000, ci = 95):\n",
    "\n",
    "    assert len(y) == len(a) == len(b)\n",
    "    \n",
    "    corr_a_list = []\n",
    "    corr_b_list = []\n",
    "    diff_corr = []\n",
    "    np.random.seed(0)\n",
    "    \n",
    "    for _ in range(n):\n",
    "        indices = np.random.choice(len(a), size=len(a), replace=True)\n",
    "        corr_a = stats.spearmanr(y[indices], a[indices]).statistic\n",
    "        corr_b = stats.spearmanr(y[indices], b[indices]).statistic\n",
    "        \n",
    "        assert not np.isnan(corr_a)\n",
    "        assert not np.isnan(corr_b)\n",
    "\n",
    "        corr_a_list.append(corr_a)\n",
    "        corr_b_list.append(corr_b)\n",
    "\n",
    "        diff_corr.append(corr_a - corr_b)\n",
    "\n",
    "    ci_lower, ci_upper = np.percentile(diff_corr, [5, 95]) \n",
    "    p_value = np.mean(np.array(diff_corr) < 0)\n",
    "\n",
    "    # plt.hist(corr_b_list)\n",
    "    # plt.hist(corr_a_list)\n",
    "    \n",
    "    return p_value, ci_lower, ci_upper"
   ]
  },
  {
   "cell_type": "code",
   "execution_count": 15,
   "metadata": {},
   "outputs": [],
   "source": [
    "train_mask, val_mask, test_mask = get_split_mask(df_results)\n",
    "omit_mask = df_results['fitness_raw'] > 0"
   ]
  },
  {
   "cell_type": "code",
   "execution_count": 16,
   "metadata": {},
   "outputs": [
    {
     "data": {
      "text/plain": [
       "array([[0., 0., 0.],\n",
       "       [0., 0., 0.]])"
      ]
     },
     "execution_count": 16,
     "metadata": {},
     "output_type": "execute_result"
    }
   ],
   "source": [
    "concat_list = ['pred_esmc_concat_ridge', 'pred_esmc_concat_RF']\n",
    "mean_list = ['pred_esmc_mean_ridge', 'pred_esmc_mean_RF', 'pred_esmc_mean_MLP']\n",
    "significance_matrix = np.zeros((len(concat_list), len(mean_list)))\n",
    "for a in concat_list:\n",
    "    for b in mean_list:\n",
    "\n",
    "        p, *_ = get_diff(df_results.loc[test_mask & omit_mask, 'fitness_raw'].to_numpy(), \n",
    "                         df_results.loc[test_mask & omit_mask, a].to_numpy(), \n",
    "                         df_results.loc[test_mask & omit_mask, b].to_numpy())\n",
    "\n",
    "        significance_matrix[concat_list.index(a), mean_list.index(b)] = p\n",
    "\n",
    "significance_matrix"
   ]
  },
  {
   "cell_type": "code",
   "execution_count": 18,
   "metadata": {},
   "outputs": [
    {
     "data": {
      "text/plain": [
       "array([[0., 0., 0.],\n",
       "       [0., 0., 0.]])"
      ]
     },
     "execution_count": 18,
     "metadata": {},
     "output_type": "execute_result"
    }
   ],
   "source": [
    "concat_list = ['pred_esm2_concat_ridge', 'pred_esm2_concat_RF']\n",
    "mean_list = ['pred_esm2_mean_ridge', 'pred_esm2_mean_RF', 'pred_esm2_mean_MLP']\n",
    "significance_matrix = np.zeros((len(concat_list), len(mean_list)))\n",
    "for a in concat_list:\n",
    "    for b in mean_list:\n",
    "\n",
    "        p, *_ = get_diff(df_results.loc[test_mask & omit_mask, 'fitness_raw'].to_numpy(), \n",
    "                         df_results.loc[test_mask & omit_mask, a].to_numpy(), \n",
    "                         df_results.loc[test_mask & omit_mask, b].to_numpy())\n",
    "\n",
    "        significance_matrix[concat_list.index(a), mean_list.index(b)] = p\n",
    "\n",
    "significance_matrix"
   ]
  },
  {
   "cell_type": "code",
   "execution_count": null,
   "metadata": {},
   "outputs": [],
   "source": []
  }
 ],
 "metadata": {
  "kernelspec": {
   "display_name": "workspace-esm",
   "language": "python",
   "name": "python3"
  },
  "language_info": {
   "codemirror_mode": {
    "name": "ipython",
    "version": 3
   },
   "file_extension": ".py",
   "mimetype": "text/x-python",
   "name": "python",
   "nbconvert_exporter": "python",
   "pygments_lexer": "ipython3",
   "version": "3.10.13"
  }
 },
 "nbformat": 4,
 "nbformat_minor": 2
}
