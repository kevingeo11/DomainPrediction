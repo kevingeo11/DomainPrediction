{
 "cells": [
  {
   "cell_type": "code",
   "execution_count": 1,
   "metadata": {},
   "outputs": [],
   "source": [
    "import sys\n",
    "sys.path.append('..')"
   ]
  },
  {
   "cell_type": "code",
   "execution_count": 2,
   "metadata": {},
   "outputs": [],
   "source": [
    "import os\n",
    "from tqdm import tqdm\n",
    "import random\n",
    "import matplotlib.pyplot as plt\n",
    "import numpy as np\n",
    "import pandas as pd"
   ]
  },
  {
   "cell_type": "code",
   "execution_count": 3,
   "metadata": {},
   "outputs": [],
   "source": [
    "import torch\n",
    "\n",
    "from sklearn.metrics import mean_squared_error\n",
    "from scipy import stats"
   ]
  },
  {
   "cell_type": "code",
   "execution_count": 4,
   "metadata": {},
   "outputs": [
    {
     "name": "stderr",
     "output_type": "stream",
     "text": [
      "2025-04-17 19:23:27.188647: I tensorflow/core/util/port.cc:113] oneDNN custom operations are on. You may see slightly different numerical results due to floating-point round-off errors from different computation orders. To turn them off, set the environment variable `TF_ENABLE_ONEDNN_OPTS=0`.\n",
      "2025-04-17 19:23:27.193008: I external/local_tsl/tsl/cuda/cudart_stub.cc:32] Could not find cuda drivers on your machine, GPU will not be used.\n",
      "2025-04-17 19:23:27.198699: E external/local_xla/xla/stream_executor/cuda/cuda_fft.cc:479] Unable to register cuFFT factory: Attempting to register factory for plugin cuFFT when one has already been registered\n",
      "2025-04-17 19:23:27.209847: E external/local_xla/xla/stream_executor/cuda/cuda_dnn.cc:10575] Unable to register cuDNN factory: Attempting to register factory for plugin cuDNN when one has already been registered\n",
      "2025-04-17 19:23:27.209864: E external/local_xla/xla/stream_executor/cuda/cuda_blas.cc:1442] Unable to register cuBLAS factory: Attempting to register factory for plugin cuBLAS when one has already been registered\n",
      "2025-04-17 19:23:27.217034: I tensorflow/core/platform/cpu_feature_guard.cc:210] This TensorFlow binary is optimized to use available CPU instructions in performance-critical operations.\n",
      "To enable the following instructions: AVX2 AVX_VNNI FMA, in other operations, rebuild TensorFlow with the appropriate compiler flags.\n",
      "2025-04-17 19:23:33.661520: W tensorflow/compiler/tf2tensorrt/utils/py_utils.cc:38] TF-TRT Warning: Could not find TensorRT\n"
     ]
    }
   ],
   "source": [
    "from DomainPrediction.utils import helper\n",
    "from DomainPrediction.eval import metrics\n",
    "from DomainPrediction.al import top_model as topmodel\n",
    "from DomainPrediction.al.embeddings import one_hot_encode"
   ]
  },
  {
   "cell_type": "code",
   "execution_count": 5,
   "metadata": {},
   "outputs": [],
   "source": [
    "env = os.environ['CONDA_DEFAULT_ENV']\n",
    "if env == 'workspace':\n",
    "    sys.path.append('../../esm')\n",
    "    from DomainPrediction.esm.esmc import ESMCLM\n",
    "    from DomainPrediction.al.finetuning import ESMCLoraRegression, ESMCConFit\n",
    "elif env == 'workspace-esm':\n",
    "    from DomainPrediction.esm.esm2 import ESM2\n",
    "    from DomainPrediction.al.finetuning import ESM2LoraRegression, ESM2ConFit\n",
    "else:\n",
    "    raise Exception('I designed this for my envs. Feel free to modify accordingly')"
   ]
  },
  {
   "cell_type": "code",
   "execution_count": null,
   "metadata": {},
   "outputs": [],
   "source": []
  },
  {
   "cell_type": "markdown",
   "metadata": {},
   "source": [
    "### Load Data"
   ]
  },
  {
   "cell_type": "code",
   "execution_count": 6,
   "metadata": {},
   "outputs": [],
   "source": [
    "data_path = '/nethome/kgeorge/workspace/DomainPrediction/Data/fitness_prediction/Tdomain'"
   ]
  },
  {
   "cell_type": "code",
   "execution_count": 7,
   "metadata": {},
   "outputs": [],
   "source": [
    "file = os.path.join(data_path, 'dataset_2_tdomain.csv')\n",
    "df = pd.read_csv(file)"
   ]
  },
  {
   "cell_type": "code",
   "execution_count": 8,
   "metadata": {},
   "outputs": [
    {
     "data": {
      "text/html": [
       "<div>\n",
       "<style scoped>\n",
       "    .dataframe tbody tr th:only-of-type {\n",
       "        vertical-align: middle;\n",
       "    }\n",
       "\n",
       "    .dataframe tbody tr th {\n",
       "        vertical-align: top;\n",
       "    }\n",
       "\n",
       "    .dataframe thead th {\n",
       "        text-align: right;\n",
       "    }\n",
       "</style>\n",
       "<table border=\"1\" class=\"dataframe\">\n",
       "  <thead>\n",
       "    <tr style=\"text-align: right;\">\n",
       "      <th></th>\n",
       "      <th>name</th>\n",
       "      <th>seq</th>\n",
       "      <th>fitness_raw</th>\n",
       "      <th>split_id</th>\n",
       "      <th>n_mut</th>\n",
       "      <th>fitness_log</th>\n",
       "    </tr>\n",
       "  </thead>\n",
       "  <tbody>\n",
       "    <tr>\n",
       "      <th>0</th>\n",
       "      <td>WT</td>\n",
       "      <td>APGEDAFARQAYQAPQGEIEIALATIWRELLNVEQVGRHDSFFALG...</td>\n",
       "      <td>1.000000</td>\n",
       "      <td>2</td>\n",
       "      <td>0</td>\n",
       "      <td>0.000000</td>\n",
       "    </tr>\n",
       "    <tr>\n",
       "      <th>1</th>\n",
       "      <td>ESM1</td>\n",
       "      <td>APEDSSFPRPPYAAPEGEIEQTLAGIWMELLGVERVGRHDSFFALG...</td>\n",
       "      <td>0.982485</td>\n",
       "      <td>2</td>\n",
       "      <td>44</td>\n",
       "      <td>-0.017670</td>\n",
       "    </tr>\n",
       "    <tr>\n",
       "      <th>2</th>\n",
       "      <td>ESM2</td>\n",
       "      <td>APSEDAYPRATYEAPEGETEQLLAGIWMDLLQVDRVGRHDSFFELG...</td>\n",
       "      <td>1.730126</td>\n",
       "      <td>0</td>\n",
       "      <td>45</td>\n",
       "      <td>0.548194</td>\n",
       "    </tr>\n",
       "    <tr>\n",
       "      <th>3</th>\n",
       "      <td>ESM3</td>\n",
       "      <td>APSEDSYPRPAYVAPEGPTEQLLAGIWQELLNVSKVGRDDSFFDLG...</td>\n",
       "      <td>0.073117</td>\n",
       "      <td>2</td>\n",
       "      <td>46</td>\n",
       "      <td>-2.615701</td>\n",
       "    </tr>\n",
       "    <tr>\n",
       "      <th>4</th>\n",
       "      <td>ESM4</td>\n",
       "      <td>APEEASYPREPYVAPQGETEQLLASIWQELLGVERVGAGDNFFELG...</td>\n",
       "      <td>0.457921</td>\n",
       "      <td>2</td>\n",
       "      <td>43</td>\n",
       "      <td>-0.781059</td>\n",
       "    </tr>\n",
       "  </tbody>\n",
       "</table>\n",
       "</div>"
      ],
      "text/plain": [
       "   name                                                seq  fitness_raw  \\\n",
       "0    WT  APGEDAFARQAYQAPQGEIEIALATIWRELLNVEQVGRHDSFFALG...     1.000000   \n",
       "1  ESM1  APEDSSFPRPPYAAPEGEIEQTLAGIWMELLGVERVGRHDSFFALG...     0.982485   \n",
       "2  ESM2  APSEDAYPRATYEAPEGETEQLLAGIWMDLLQVDRVGRHDSFFELG...     1.730126   \n",
       "3  ESM3  APSEDSYPRPAYVAPEGPTEQLLAGIWQELLNVSKVGRDDSFFDLG...     0.073117   \n",
       "4  ESM4  APEEASYPREPYVAPQGETEQLLASIWQELLGVERVGAGDNFFELG...     0.457921   \n",
       "\n",
       "   split_id  n_mut  fitness_log  \n",
       "0         2      0     0.000000  \n",
       "1         2     44    -0.017670  \n",
       "2         0     45     0.548194  \n",
       "3         2     46    -2.615701  \n",
       "4         2     43    -0.781059  "
      ]
     },
     "execution_count": 8,
     "metadata": {},
     "output_type": "execute_result"
    }
   ],
   "source": [
    "df.head()"
   ]
  },
  {
   "cell_type": "code",
   "execution_count": 9,
   "metadata": {},
   "outputs": [
    {
     "data": {
      "text/plain": [
       "(85, 6)"
      ]
     },
     "execution_count": 9,
     "metadata": {},
     "output_type": "execute_result"
    }
   ],
   "source": [
    "df.shape"
   ]
  },
  {
   "cell_type": "code",
   "execution_count": 10,
   "metadata": {},
   "outputs": [],
   "source": [
    "results_file = os.path.join(data_path, 'results_tdomain.csv')"
   ]
  },
  {
   "cell_type": "code",
   "execution_count": 11,
   "metadata": {},
   "outputs": [],
   "source": [
    "if os.path.isfile(results_file):\n",
    "    df_results = pd.read_csv(results_file)\n",
    "else:\n",
    "    df_results = df.copy()"
   ]
  },
  {
   "cell_type": "code",
   "execution_count": 12,
   "metadata": {},
   "outputs": [
    {
     "data": {
      "text/plain": [
       "Index(['pred_OHE_ridge', 'pred_OHE_RF', 'pred_OHE_MLP', 'pred_esm2_mean_ridge',\n",
       "       'pred_esm2_mean_RF', 'pred_esm2_mean_MLP', 'pred_esm2_concat_ridge',\n",
       "       'pred_esm2_concat_RF', 'pred_esmc_mean_ridge', 'pred_esmc_mean_RF',\n",
       "       'pred_esmc_mean_MLP', 'pred_esmc_concat_ridge', 'pred_esmc_concat_RF',\n",
       "       'pred_esm2_wt_marginal', 'pred_esm2_masked_marginal',\n",
       "       'pred_esm2_pseudolikelihood', 'pred_esmc_pseudolikelihood',\n",
       "       'pred_esmc_wt_marginal', 'pred_esmc_masked_marginal',\n",
       "       'pred_esm2_confit', 'pred_esmc_confit'],\n",
       "      dtype='object')"
      ]
     },
     "execution_count": 12,
     "metadata": {},
     "output_type": "execute_result"
    }
   ],
   "source": [
    "df_results.columns[df_results.columns.str.contains('pred')]"
   ]
  },
  {
   "cell_type": "code",
   "execution_count": 13,
   "metadata": {},
   "outputs": [],
   "source": [
    "def get_split_mask(df, omit_zero=False):\n",
    "    if omit_zero:\n",
    "        train_mask = (df['split_id'] == 2) & (df['fitness_raw'] != 0)\n",
    "    else:\n",
    "        train_mask = (df['split_id'] == 2)\n",
    "\n",
    "    test_mask = df['split_id'].isin([0, 1])\n",
    "\n",
    "    return train_mask, test_mask"
   ]
  },
  {
   "cell_type": "code",
   "execution_count": 20,
   "metadata": {},
   "outputs": [],
   "source": [
    "def get_spearmanr_bootstrap(a, b, n=1000, ci = 95):\n",
    "    assert type(a) == type(b) == np.ndarray\n",
    "    assert len(a) == len(b)\n",
    "    corr = []\n",
    "    p_values = []\n",
    "    np.random.seed(0)\n",
    "    for _ in range(n):\n",
    "        indices = np.random.choice(len(a), size=len(a), replace=True)\n",
    "        res = stats.spearmanr(a[indices], b[indices])\n",
    "        \n",
    "        if not np.isnan(res.statistic):\n",
    "            corr.append(res.statistic)\n",
    "            p_values.append(res.pvalue)\n",
    "\n",
    "    ci_lower, ci_upper = np.percentile(corr, [100-ci, ci]) \n",
    "    # stats.t.interval(confidence=ci, df=len(corr)-1, loc=np.mean(corr), scale=np.std(corr))\n",
    "    mean_corr = np.mean(corr)\n",
    "    p_value = np.mean(np.array(corr) < 0)\n",
    "\n",
    "    return round(mean_corr, 2), round(ci_lower, 2), round(ci_upper, 2), p_value, corr, p_values"
   ]
  },
  {
   "cell_type": "code",
   "execution_count": null,
   "metadata": {},
   "outputs": [],
   "source": []
  },
  {
   "cell_type": "markdown",
   "metadata": {},
   "source": [
    "### OHE based models"
   ]
  },
  {
   "cell_type": "markdown",
   "metadata": {},
   "source": [
    "#### Get embeddings and splits"
   ]
  },
  {
   "cell_type": "code",
   "execution_count": null,
   "metadata": {},
   "outputs": [],
   "source": [
    "embeddings = one_hot_encode(df['seq'])"
   ]
  },
  {
   "cell_type": "code",
   "execution_count": null,
   "metadata": {},
   "outputs": [],
   "source": [
    "train_mask, test_mask = get_split_mask(df, omit_zero=False)\n",
    "\n",
    "X_train = embeddings[train_mask]\n",
    "X_test = embeddings[test_mask]\n",
    "\n",
    "y_train = df.loc[train_mask, 'fitness_log'].to_numpy().astype(np.float32)\n",
    "y_test = df.loc[test_mask, 'fitness_log'].to_numpy().astype(np.float32)"
   ]
  },
  {
   "cell_type": "code",
   "execution_count": null,
   "metadata": {},
   "outputs": [],
   "source": [
    "print(f'train {train_mask.sum()} test {test_mask.sum()}')"
   ]
  },
  {
   "cell_type": "markdown",
   "metadata": {},
   "source": [
    "#### Linear model"
   ]
  },
  {
   "cell_type": "code",
   "execution_count": null,
   "metadata": {},
   "outputs": [],
   "source": [
    "surrogate = topmodel.RidgeSurrogate(alpha=1.0)\n",
    "surrogate.trainmodel(X=X_train, y=y_train, val=(X_test, y_test))"
   ]
  },
  {
   "cell_type": "code",
   "execution_count": null,
   "metadata": {},
   "outputs": [],
   "source": [
    "y_train_pred = surrogate.predict(X_train)\n",
    "y_test_pred = surrogate.predict(X_test)\n",
    "\n",
    "fig, ax = plt.subplots(1,3, figsize=(10,3), layout='constrained')\n",
    "ax[0].plot(y_train, y_train_pred, '.', alpha=0.5)\n",
    "ax[1].plot(y_test, y_test_pred, '.', alpha=0.5)\n",
    "ax[2].plot(y_test[df.loc[test_mask, 'fitness_raw'] > 0], y_test_pred[df.loc[test_mask, 'fitness_raw'] > 0],\n",
    "            '.', alpha=0.5)\n",
    "\n",
    "mse = mean_squared_error(y_train, y_train_pred)\n",
    "corr, ci_lower, ci_upper, *_  = get_spearmanr_bootstrap(y_train, y_train_pred)\n",
    "ax[0].set_title(f'Train \\nmse : {str(round(mse, 2))} \\nspearman correlation = {corr} CI ({ci_lower}, {ci_upper})', size=10)\n",
    "\n",
    "mse = mean_squared_error(y_test, y_test_pred)\n",
    "corr, ci_lower, ci_upper, *_  = get_spearmanr_bootstrap(y_test, y_test_pred)\n",
    "ax[1].set_title(f'Test \\nmse : {str(round(mse, 2))} \\nspearman correlation = {corr} CI ({ci_lower}, {ci_upper})', size=10)\n",
    "\n",
    "mse = mean_squared_error(y_test[df.loc[test_mask, 'fitness_raw'] > 0], y_test_pred[df.loc[test_mask, 'fitness_raw'] > 0])\n",
    "corr, ci_lower, ci_upper, *_  = get_spearmanr_bootstrap(y_test[df.loc[test_mask, 'fitness_raw'] > 0], y_test_pred[df.loc[test_mask, 'fitness_raw'] > 0])\n",
    "ax[2].set_title(f'Test \\nmse : {str(round(mse, 2))} \\nspearman correlation = {corr} CI ({ci_lower}, {ci_upper})', size=10)\n",
    "\n",
    "for i in range(3):\n",
    "    ax[i].set_xlabel('True')\n",
    "    ax[i].set_ylabel('Pred')\n",
    "\n",
    "plt.show()"
   ]
  },
  {
   "cell_type": "code",
   "execution_count": null,
   "metadata": {},
   "outputs": [],
   "source": [
    "# y_pred = surrogate.predict(embeddings)\n",
    "# assert y_pred.shape[0] == embeddings.shape[0] == df_results.shape[0]\n",
    "\n",
    "# df_results['pred_OHE_ridge'] = y_pred\n",
    "# df_results.to_csv(results_file, index=False)\n",
    "\n",
    "# df_results.columns[df_results.columns.str.contains('pred')]"
   ]
  },
  {
   "cell_type": "markdown",
   "metadata": {},
   "source": [
    "#### Random Forest"
   ]
  },
  {
   "cell_type": "code",
   "execution_count": null,
   "metadata": {},
   "outputs": [],
   "source": [
    "surrogate = topmodel.RFSurrogate()\n",
    "surrogate.trainmodel(X=X_train, y=y_train, val=(X_test, y_test))"
   ]
  },
  {
   "cell_type": "code",
   "execution_count": null,
   "metadata": {},
   "outputs": [],
   "source": [
    "y_train_pred = surrogate.predict(X_train)\n",
    "y_test_pred = surrogate.predict(X_test)\n",
    "\n",
    "fig, ax = plt.subplots(1,3, figsize=(10,3), layout='constrained')\n",
    "ax[0].plot(y_train, y_train_pred, '.', alpha=0.5)\n",
    "ax[1].plot(y_test, y_test_pred, '.', alpha=0.5)\n",
    "ax[2].plot(y_test[df.loc[test_mask, 'fitness_raw'] > 0], y_test_pred[df.loc[test_mask, 'fitness_raw'] > 0],\n",
    "            '.', alpha=0.5)\n",
    "\n",
    "mse = mean_squared_error(y_train, y_train_pred)\n",
    "corr, ci_lower, ci_upper, *_  = get_spearmanr_bootstrap(y_train, y_train_pred)\n",
    "ax[0].set_title(f'Train \\nmse : {str(round(mse, 2))} \\nspearman correlation = {corr} CI ({ci_lower}, {ci_upper})', size=10)\n",
    "\n",
    "mse = mean_squared_error(y_test, y_test_pred)\n",
    "corr, ci_lower, ci_upper, *_  = get_spearmanr_bootstrap(y_test, y_test_pred)\n",
    "ax[1].set_title(f'Test \\nmse : {str(round(mse, 2))} \\nspearman correlation = {corr} CI ({ci_lower}, {ci_upper})', size=10)\n",
    "\n",
    "mse = mean_squared_error(y_test[df.loc[test_mask, 'fitness_raw'] > 0], y_test_pred[df.loc[test_mask, 'fitness_raw'] > 0])\n",
    "corr, ci_lower, ci_upper, *_  = get_spearmanr_bootstrap(y_test[df.loc[test_mask, 'fitness_raw'] > 0], y_test_pred[df.loc[test_mask, 'fitness_raw'] > 0])\n",
    "ax[2].set_title(f'Test \\nmse : {str(round(mse, 2))} \\nspearman correlation = {corr} CI ({ci_lower}, {ci_upper})', size=10)\n",
    "\n",
    "for i in range(3):\n",
    "    ax[i].set_xlabel('True')\n",
    "    ax[i].set_ylabel('Pred')\n",
    "\n",
    "plt.show()"
   ]
  },
  {
   "cell_type": "code",
   "execution_count": null,
   "metadata": {},
   "outputs": [],
   "source": [
    "y_pred = surrogate.predict(embeddings)\n",
    "assert y_pred.shape[0] == embeddings.shape[0] == df_results.shape[0]\n",
    "\n",
    "df_results['pred_OHE_RF'] = y_pred\n",
    "df_results.to_csv(results_file, index=False)\n",
    "\n",
    "df_results.columns[df_results.columns.str.contains('pred')]"
   ]
  },
  {
   "cell_type": "code",
   "execution_count": null,
   "metadata": {},
   "outputs": [],
   "source": []
  },
  {
   "cell_type": "markdown",
   "metadata": {},
   "source": [
    "#### MLP"
   ]
  },
  {
   "cell_type": "code",
   "execution_count": null,
   "metadata": {},
   "outputs": [],
   "source": [
    "print(f'input layer shape: {X_train.shape[1]}')"
   ]
  },
  {
   "cell_type": "code",
   "execution_count": null,
   "metadata": {},
   "outputs": [],
   "source": [
    "config={'layers': [2300, 512, 1], \n",
    "        'epoch': 100, \n",
    "        'batch_size': 16,\n",
    "        'patience': 100,\n",
    "        'early_stopping': False,\n",
    "        'lr': 1e-3,\n",
    "        'print_every_n_epoch': 10,\n",
    "        'debug': True}\n",
    "surrogate = topmodel.MLPSurrogate(config=config)\n",
    "surrogate.trainmodel(X=X_train, y=y_train, val=(X_test, y_test))"
   ]
  },
  {
   "cell_type": "code",
   "execution_count": null,
   "metadata": {},
   "outputs": [],
   "source": [
    "y_train_pred = surrogate.predict(X_train)\n",
    "y_test_pred = surrogate.predict(X_test)\n",
    "\n",
    "fig, ax = plt.subplots(1,3, figsize=(10,3), layout='constrained')\n",
    "ax[0].plot(y_train, y_train_pred, '.', alpha=0.5)\n",
    "ax[1].plot(y_test, y_test_pred, '.', alpha=0.5)\n",
    "ax[2].plot(y_test[df.loc[test_mask, 'fitness_raw'] > 0], y_test_pred[df.loc[test_mask, 'fitness_raw'] > 0],\n",
    "            '.', alpha=0.5)\n",
    "\n",
    "mse = mean_squared_error(y_train, y_train_pred)\n",
    "corr, ci_lower, ci_upper, *_  = get_spearmanr_bootstrap(y_train, y_train_pred)\n",
    "ax[0].set_title(f'Train \\nmse : {str(round(mse, 2))} \\nspearman correlation = {corr} CI ({ci_lower}, {ci_upper})', size=10)\n",
    "\n",
    "mse = mean_squared_error(y_test, y_test_pred)\n",
    "corr, ci_lower, ci_upper, *_  = get_spearmanr_bootstrap(y_test, y_test_pred)\n",
    "ax[1].set_title(f'Test \\nmse : {str(round(mse, 2))} \\nspearman correlation = {corr} CI ({ci_lower}, {ci_upper})', size=10)\n",
    "\n",
    "mse = mean_squared_error(y_test[df.loc[test_mask, 'fitness_raw'] > 0], y_test_pred[df.loc[test_mask, 'fitness_raw'] > 0])\n",
    "corr, ci_lower, ci_upper, *_  = get_spearmanr_bootstrap(y_test[df.loc[test_mask, 'fitness_raw'] > 0], y_test_pred[df.loc[test_mask, 'fitness_raw'] > 0])\n",
    "ax[2].set_title(f'Test \\nmse : {str(round(mse, 2))} \\nspearman correlation = {corr} CI ({ci_lower}, {ci_upper})', size=10)\n",
    "\n",
    "for i in range(3):\n",
    "    ax[i].set_xlabel('True')\n",
    "    ax[i].set_ylabel('Pred')\n",
    "\n",
    "plt.show()"
   ]
  },
  {
   "cell_type": "code",
   "execution_count": null,
   "metadata": {},
   "outputs": [],
   "source": [
    "y_pred = surrogate.predict(embeddings)\n",
    "assert y_pred.shape[0] == embeddings.shape[0] == df_results.shape[0]\n",
    "\n",
    "df_results['pred_OHE_MLP'] = y_pred\n",
    "df_results.to_csv(results_file, index=False)\n",
    "\n",
    "df_results.columns[df_results.columns.str.contains('pred')]"
   ]
  },
  {
   "cell_type": "code",
   "execution_count": null,
   "metadata": {},
   "outputs": [],
   "source": []
  },
  {
   "cell_type": "markdown",
   "metadata": {},
   "source": [
    "### Embedding-based Models"
   ]
  },
  {
   "cell_type": "markdown",
   "metadata": {},
   "source": [
    "#### Get Embedding and splits"
   ]
  },
  {
   "cell_type": "code",
   "execution_count": null,
   "metadata": {},
   "outputs": [],
   "source": [
    "model_choices = 'esmc'  # 'esm2', 'esmc'\n",
    "\n",
    "if model_choices == 'esm2':\n",
    "    base_model = ESM2(model_path='/data/users/kgeorge/workspace/esm2/checkpoints/esm2_t33_650M_UR50D.pt', device='gpu')\n",
    "elif model_choices == 'esmc':\n",
    "    base_model = ESMCLM(name='esmc_600m', device='gpu')\n",
    "else:\n",
    "    raise ValueError('model not found')"
   ]
  },
  {
   "cell_type": "code",
   "execution_count": null,
   "metadata": {},
   "outputs": [],
   "source": [
    "embedding_choice = 'concat' # 'mean', 'concat'\n",
    "\n",
    "if embedding_choice == 'mean':\n",
    "    embeddings = base_model.get_embeddings_mean(df['seq'])\n",
    "elif embedding_choice == 'concat':\n",
    "    embeddings = base_model.get_embeddings_flatten(df['seq'])\n",
    "else:\n",
    "    raise ValueError('model not found')"
   ]
  },
  {
   "cell_type": "code",
   "execution_count": null,
   "metadata": {},
   "outputs": [],
   "source": [
    "train_mask, test_mask = get_split_mask(df, omit_zero=False)\n",
    "\n",
    "X_train = embeddings[train_mask]\n",
    "X_test = embeddings[test_mask]\n",
    "\n",
    "y_train = df.loc[train_mask, 'fitness_log'].to_numpy().astype(np.float32)\n",
    "y_test = df.loc[test_mask, 'fitness_log'].to_numpy().astype(np.float32)"
   ]
  },
  {
   "cell_type": "code",
   "execution_count": null,
   "metadata": {},
   "outputs": [],
   "source": [
    "print(f'train {train_mask.sum()} test {test_mask.sum()}')"
   ]
  },
  {
   "cell_type": "markdown",
   "metadata": {},
   "source": [
    "#### Linear Model"
   ]
  },
  {
   "cell_type": "code",
   "execution_count": null,
   "metadata": {},
   "outputs": [],
   "source": [
    "surrogate = topmodel.RidgeSurrogate(alpha=1.0)\n",
    "surrogate.trainmodel(X=X_train, y=y_train, val=(X_test, y_test))"
   ]
  },
  {
   "cell_type": "code",
   "execution_count": null,
   "metadata": {},
   "outputs": [],
   "source": [
    "y_train_pred = surrogate.predict(X_train)\n",
    "y_test_pred = surrogate.predict(X_test)\n",
    "\n",
    "fig, ax = plt.subplots(1,3, figsize=(10,3), layout='constrained')\n",
    "ax[0].plot(y_train, y_train_pred, '.', alpha=0.5)\n",
    "ax[1].plot(y_test, y_test_pred, '.', alpha=0.5)\n",
    "ax[2].plot(y_test[df.loc[test_mask, 'fitness_raw'] > 0], y_test_pred[df.loc[test_mask, 'fitness_raw'] > 0],\n",
    "            '.', alpha=0.5)\n",
    "\n",
    "mse = mean_squared_error(y_train, y_train_pred)\n",
    "corr, ci_lower, ci_upper, *_  = get_spearmanr_bootstrap(y_train, y_train_pred)\n",
    "ax[0].set_title(f'Train \\nmse : {str(round(mse, 2))} \\nspearman correlation = {corr} CI ({ci_lower}, {ci_upper})', size=10)\n",
    "\n",
    "mse = mean_squared_error(y_test, y_test_pred)\n",
    "corr, ci_lower, ci_upper, *_  = get_spearmanr_bootstrap(y_test, y_test_pred)\n",
    "ax[1].set_title(f'Test \\nmse : {str(round(mse, 2))} \\nspearman correlation = {corr} CI ({ci_lower}, {ci_upper})', size=10)\n",
    "\n",
    "mse = mean_squared_error(y_test[df.loc[test_mask, 'fitness_raw'] > 0], y_test_pred[df.loc[test_mask, 'fitness_raw'] > 0])\n",
    "corr, ci_lower, ci_upper, *_  = get_spearmanr_bootstrap(y_test[df.loc[test_mask, 'fitness_raw'] > 0], y_test_pred[df.loc[test_mask, 'fitness_raw'] > 0])\n",
    "ax[2].set_title(f'Test \\nmse : {str(round(mse, 2))} \\nspearman correlation = {corr} CI ({ci_lower}, {ci_upper})', size=10)\n",
    "\n",
    "for i in range(3):\n",
    "    ax[i].set_xlabel('True')\n",
    "    ax[i].set_ylabel('Pred')\n",
    "\n",
    "plt.show()"
   ]
  },
  {
   "cell_type": "code",
   "execution_count": null,
   "metadata": {},
   "outputs": [],
   "source": [
    "y_pred = surrogate.predict(embeddings)\n",
    "assert y_pred.shape[0] == embeddings.shape[0] == df_results.shape[0]\n",
    "\n",
    "df_results[f'pred_{model_choices}_{embedding_choice}_ridge'] = y_pred\n",
    "df_results.to_csv(results_file, index=False)\n",
    "\n",
    "df_results.columns[df_results.columns.str.contains('pred')]"
   ]
  },
  {
   "cell_type": "code",
   "execution_count": null,
   "metadata": {},
   "outputs": [],
   "source": []
  },
  {
   "cell_type": "markdown",
   "metadata": {},
   "source": [
    "#### Random Forest"
   ]
  },
  {
   "cell_type": "code",
   "execution_count": null,
   "metadata": {},
   "outputs": [],
   "source": [
    "surrogate = topmodel.RFSurrogate()\n",
    "surrogate.trainmodel(X=X_train, y=y_train, val=(X_test, y_test))"
   ]
  },
  {
   "cell_type": "code",
   "execution_count": null,
   "metadata": {},
   "outputs": [],
   "source": [
    "y_train_pred = surrogate.predict(X_train)\n",
    "y_test_pred = surrogate.predict(X_test)\n",
    "\n",
    "fig, ax = plt.subplots(1,3, figsize=(10,3), layout='constrained')\n",
    "ax[0].plot(y_train, y_train_pred, '.', alpha=0.5)\n",
    "ax[1].plot(y_test, y_test_pred, '.', alpha=0.5)\n",
    "ax[2].plot(y_test[df.loc[test_mask, 'fitness_raw'] > 0], y_test_pred[df.loc[test_mask, 'fitness_raw'] > 0],\n",
    "            '.', alpha=0.5)\n",
    "\n",
    "mse = mean_squared_error(y_train, y_train_pred)\n",
    "corr, ci_lower, ci_upper, *_  = get_spearmanr_bootstrap(y_train, y_train_pred)\n",
    "ax[0].set_title(f'Train \\nmse : {str(round(mse, 2))} \\nspearman correlation = {corr} CI ({ci_lower}, {ci_upper})', size=10)\n",
    "\n",
    "mse = mean_squared_error(y_test, y_test_pred)\n",
    "corr, ci_lower, ci_upper, *_  = get_spearmanr_bootstrap(y_test, y_test_pred)\n",
    "ax[1].set_title(f'Test \\nmse : {str(round(mse, 2))} \\nspearman correlation = {corr} CI ({ci_lower}, {ci_upper})', size=10)\n",
    "\n",
    "mse = mean_squared_error(y_test[df.loc[test_mask, 'fitness_raw'] > 0], y_test_pred[df.loc[test_mask, 'fitness_raw'] > 0])\n",
    "corr, ci_lower, ci_upper, *_  = get_spearmanr_bootstrap(y_test[df.loc[test_mask, 'fitness_raw'] > 0], y_test_pred[df.loc[test_mask, 'fitness_raw'] > 0])\n",
    "ax[2].set_title(f'Test \\nmse : {str(round(mse, 2))} \\nspearman correlation = {corr} CI ({ci_lower}, {ci_upper})', size=10)\n",
    "\n",
    "for i in range(3):\n",
    "    ax[i].set_xlabel('True')\n",
    "    ax[i].set_ylabel('Pred')\n",
    "\n",
    "plt.show()"
   ]
  },
  {
   "cell_type": "code",
   "execution_count": null,
   "metadata": {},
   "outputs": [],
   "source": [
    "y_pred = surrogate.predict(embeddings)\n",
    "assert y_pred.shape[0] == embeddings.shape[0] == df_results.shape[0]\n",
    "\n",
    "df_results[f'pred_{model_choices}_{embedding_choice}_RF'] = y_pred\n",
    "df_results.to_csv(results_file, index=False)\n",
    "\n",
    "df_results.columns[df_results.columns.str.contains('pred')]"
   ]
  },
  {
   "cell_type": "code",
   "execution_count": null,
   "metadata": {},
   "outputs": [],
   "source": []
  },
  {
   "cell_type": "markdown",
   "metadata": {},
   "source": [
    "#### MLP"
   ]
  },
  {
   "cell_type": "code",
   "execution_count": null,
   "metadata": {},
   "outputs": [],
   "source": [
    "print(f'input layer shape: {X_train.shape[1]}')"
   ]
  },
  {
   "cell_type": "code",
   "execution_count": null,
   "metadata": {},
   "outputs": [],
   "source": [
    "config={'layers': [1152, 512, 1], \n",
    "        'epoch': 300, \n",
    "        'batch_size': 16,\n",
    "        'patience': 200,\n",
    "        'early_stopping': True,\n",
    "        'lr': 1e-3,\n",
    "        'print_every_n_epoch': 10,\n",
    "        'debug': True}\n",
    "surrogate = topmodel.MLPSurrogate(config=config)\n",
    "surrogate.trainmodel(X=X_train, y=y_train, val=(X_test, y_test))"
   ]
  },
  {
   "cell_type": "code",
   "execution_count": null,
   "metadata": {},
   "outputs": [],
   "source": [
    "y_train_pred = surrogate.predict(X_train)\n",
    "y_test_pred = surrogate.predict(X_test)\n",
    "\n",
    "fig, ax = plt.subplots(1,3, figsize=(10,3), layout='constrained')\n",
    "ax[0].plot(y_train, y_train_pred, '.', alpha=0.5)\n",
    "ax[1].plot(y_test, y_test_pred, '.', alpha=0.5)\n",
    "ax[2].plot(y_test[df.loc[test_mask, 'fitness_raw'] > 0], y_test_pred[df.loc[test_mask, 'fitness_raw'] > 0],\n",
    "            '.', alpha=0.5)\n",
    "\n",
    "mse = mean_squared_error(y_train, y_train_pred)\n",
    "corr, ci_lower, ci_upper, *_  = get_spearmanr_bootstrap(y_train, y_train_pred)\n",
    "ax[0].set_title(f'Train \\nmse : {str(round(mse, 2))} \\nspearman correlation = {corr} CI ({ci_lower}, {ci_upper})', size=10)\n",
    "\n",
    "mse = mean_squared_error(y_test, y_test_pred)\n",
    "corr, ci_lower, ci_upper, *_  = get_spearmanr_bootstrap(y_test, y_test_pred)\n",
    "ax[1].set_title(f'Test \\nmse : {str(round(mse, 2))} \\nspearman correlation = {corr} CI ({ci_lower}, {ci_upper})', size=10)\n",
    "\n",
    "mse = mean_squared_error(y_test[df.loc[test_mask, 'fitness_raw'] > 0], y_test_pred[df.loc[test_mask, 'fitness_raw'] > 0])\n",
    "corr, ci_lower, ci_upper, *_  = get_spearmanr_bootstrap(y_test[df.loc[test_mask, 'fitness_raw'] > 0], y_test_pred[df.loc[test_mask, 'fitness_raw'] > 0])\n",
    "ax[2].set_title(f'Test \\nmse : {str(round(mse, 2))} \\nspearman correlation = {corr} CI ({ci_lower}, {ci_upper})', size=10)\n",
    "\n",
    "for i in range(3):\n",
    "    ax[i].set_xlabel('True')\n",
    "    ax[i].set_ylabel('Pred')\n",
    "\n",
    "plt.show()"
   ]
  },
  {
   "cell_type": "code",
   "execution_count": null,
   "metadata": {},
   "outputs": [],
   "source": [
    "y_pred = surrogate.predict(embeddings)\n",
    "assert y_pred.shape[0] == embeddings.shape[0] == df_results.shape[0]\n",
    "\n",
    "df_results[f'pred_{model_choices}_{embedding_choice}_MLP'] = y_pred\n",
    "df_results.to_csv(results_file, index=False)\n",
    "\n",
    "df_results.columns[df_results.columns.str.contains('pred')]"
   ]
  },
  {
   "cell_type": "code",
   "execution_count": null,
   "metadata": {},
   "outputs": [],
   "source": []
  },
  {
   "cell_type": "markdown",
   "metadata": {},
   "source": [
    "### Zero-Shot PLMs"
   ]
  },
  {
   "cell_type": "code",
   "execution_count": null,
   "metadata": {},
   "outputs": [],
   "source": [
    "model_choices = 'esmc'\n",
    "\n",
    "if model_choices == 'esm2':\n",
    "    base_model = ESM2(model_path='/data/users/kgeorge/workspace/esm2/checkpoints/esm2_t33_650M_UR50D.pt', device='gpu')\n",
    "elif model_choices == 'esmc':\n",
    "    base_model = ESMCLM(name='esmc_600m', device='gpu')\n",
    "else:\n",
    "    raise ValueError('model not found')"
   ]
  },
  {
   "cell_type": "code",
   "execution_count": null,
   "metadata": {},
   "outputs": [],
   "source": [
    "wt_sequence = df.loc[df['name'] == 'WT', 'seq'].iloc[0]"
   ]
  },
  {
   "cell_type": "code",
   "execution_count": null,
   "metadata": {},
   "outputs": [],
   "source": [
    "zero_shot_method = 'masked_marginal'"
   ]
  },
  {
   "cell_type": "code",
   "execution_count": null,
   "metadata": {},
   "outputs": [],
   "source": [
    "y_pred = []\n",
    "for i, row in tqdm(df.iterrows()):\n",
    "    mt_sequence = row['seq']\n",
    "\n",
    "    if zero_shot_method == 'wt_marginal':\n",
    "        score, n_muts = base_model.get_wildtype_marginal(mt_sequence, wt_sequence)\n",
    "        assert n_muts == row['n_mut']\n",
    "    elif zero_shot_method == 'masked_marginal':\n",
    "        score, n_muts = base_model.get_masked_marginal(mt_sequence, wt_sequence)\n",
    "        assert n_muts == row['n_mut']\n",
    "    elif zero_shot_method == 'pseudolikelihood':\n",
    "        score = base_model.pseudolikelihood(mt_sequence)\n",
    "    else:\n",
    "        raise ValueError('method not found')\n",
    "\n",
    "    y_pred.append(score)\n",
    "\n",
    "y_pred = np.array(y_pred)"
   ]
  },
  {
   "cell_type": "code",
   "execution_count": null,
   "metadata": {},
   "outputs": [],
   "source": [
    "train_mask, test_mask = get_split_mask(df, omit_zero=False)\n",
    "\n",
    "y = df['fitness_log'].to_numpy().astype(np.float32)\n",
    "\n",
    "y_train = y[train_mask]\n",
    "y_test = y[test_mask]\n",
    "\n",
    "y_train_pred = y_pred[train_mask]\n",
    "y_test_pred = y_pred[test_mask]"
   ]
  },
  {
   "cell_type": "code",
   "execution_count": null,
   "metadata": {},
   "outputs": [],
   "source": [
    "fig, ax = plt.subplots(1,3, figsize=(10,3), layout='constrained')\n",
    "ax[0].plot(y_train, y_train_pred, '.', alpha=0.5)\n",
    "ax[1].plot(y_test, y_test_pred, '.', alpha=0.5)\n",
    "ax[2].plot(y_test[df.loc[test_mask, 'fitness_raw'] > 0], y_test_pred[df.loc[test_mask, 'fitness_raw'] > 0],\n",
    "            '.', alpha=0.5)\n",
    "\n",
    "mse = mean_squared_error(y_train, y_train_pred)\n",
    "corr, ci_lower, ci_upper, *_  = get_spearmanr_bootstrap(y_train, y_train_pred)\n",
    "ax[0].set_title(f'Train \\nmse : {str(round(mse, 2))} \\nspearman correlation = {corr} CI ({ci_lower}, {ci_upper})', size=10)\n",
    "\n",
    "mse = mean_squared_error(y_test, y_test_pred)\n",
    "corr, ci_lower, ci_upper, *_  = get_spearmanr_bootstrap(y_test, y_test_pred)\n",
    "ax[1].set_title(f'Test \\nmse : {str(round(mse, 2))} \\nspearman correlation = {corr} CI ({ci_lower}, {ci_upper})', size=10)\n",
    "\n",
    "mse = mean_squared_error(y_test[df.loc[test_mask, 'fitness_raw'] > 0], y_test_pred[df.loc[test_mask, 'fitness_raw'] > 0])\n",
    "corr, ci_lower, ci_upper, *_  = get_spearmanr_bootstrap(y_test[df.loc[test_mask, 'fitness_raw'] > 0], y_test_pred[df.loc[test_mask, 'fitness_raw'] > 0])\n",
    "ax[2].set_title(f'Test \\nmse : {str(round(mse, 2))} \\nspearman correlation = {corr} CI ({ci_lower}, {ci_upper})', size=10)\n",
    "\n",
    "for i in range(3):\n",
    "    ax[i].set_xlabel('True')\n",
    "    ax[i].set_ylabel('Pred')\n",
    "\n",
    "plt.show()"
   ]
  },
  {
   "cell_type": "code",
   "execution_count": null,
   "metadata": {},
   "outputs": [],
   "source": [
    "assert y_pred.shape[0] == df_results.shape[0]\n",
    "\n",
    "df_results[f'pred_{model_choices}_{zero_shot_method}'] = y_pred\n",
    "df_results.to_csv(results_file, index=False)\n",
    "\n",
    "df_results.columns[df_results.columns.str.contains('pred')]"
   ]
  },
  {
   "cell_type": "code",
   "execution_count": null,
   "metadata": {},
   "outputs": [],
   "source": []
  },
  {
   "cell_type": "markdown",
   "metadata": {},
   "source": [
    "### Regression Finetuning"
   ]
  },
  {
   "cell_type": "code",
   "execution_count": 15,
   "metadata": {},
   "outputs": [
    {
     "name": "stdout",
     "output_type": "stream",
     "text": [
      "trainable params: 1821475 || all params: 1303439469 || trainable%: 0.14\n"
     ]
    }
   ],
   "source": [
    "model_choices = 'esm2'\n",
    "\n",
    "config={'epoch': 100, \n",
    "        'batch_size': 8,\n",
    "        'lambda': 0.1,\n",
    "        'accumulate_batch_size': 32,\n",
    "        'patience': 20,\n",
    "        'early_stopping': False,\n",
    "        'lr': 1e-3,\n",
    "        'print_every_n_epoch': 1,\n",
    "        'device': 'gpu'}\n",
    "\n",
    "if model_choices == 'esmc':\n",
    "    surrogate = ESMCLoraRegression(name='esmc_600m', config=config)\n",
    "elif model_choices == 'esm2':\n",
    "    surrogate = ESM2LoraRegression(model_path='/data/users/kgeorge/workspace/esm2/checkpoints/esm2_t33_650M_UR50D.pt', config=config)\n",
    "\n",
    "surrogate.print_trainable_parameters(surrogate)"
   ]
  },
  {
   "cell_type": "code",
   "execution_count": 16,
   "metadata": {},
   "outputs": [
    {
     "data": {
      "text/plain": [
       "ESM2LoraRegression(\n",
       "  (basemodel): ESM2(\n",
       "    (embed_tokens): Embedding(33, 1280, padding_idx=1)\n",
       "    (layers): ModuleList(\n",
       "      (0-32): 33 x TransformerLayer(\n",
       "        (self_attn): MultiheadAttention(\n",
       "          (k_proj): Linear(in_features=1280, out_features=1280, bias=True)\n",
       "          (v_proj): lora.Linear(\n",
       "            (base_layer): Linear(in_features=1280, out_features=1280, bias=True)\n",
       "            (lora_dropout): ModuleDict(\n",
       "              (default): Dropout(p=0.1, inplace=False)\n",
       "            )\n",
       "            (lora_A): ModuleDict(\n",
       "              (default): Linear(in_features=1280, out_features=8, bias=False)\n",
       "            )\n",
       "            (lora_B): ModuleDict(\n",
       "              (default): Linear(in_features=8, out_features=1280, bias=False)\n",
       "            )\n",
       "            (lora_embedding_A): ParameterDict()\n",
       "            (lora_embedding_B): ParameterDict()\n",
       "            (lora_magnitude_vector): ModuleDict()\n",
       "          )\n",
       "          (q_proj): lora.Linear(\n",
       "            (base_layer): Linear(in_features=1280, out_features=1280, bias=True)\n",
       "            (lora_dropout): ModuleDict(\n",
       "              (default): Dropout(p=0.1, inplace=False)\n",
       "            )\n",
       "            (lora_A): ModuleDict(\n",
       "              (default): Linear(in_features=1280, out_features=8, bias=False)\n",
       "            )\n",
       "            (lora_B): ModuleDict(\n",
       "              (default): Linear(in_features=8, out_features=1280, bias=False)\n",
       "            )\n",
       "            (lora_embedding_A): ParameterDict()\n",
       "            (lora_embedding_B): ParameterDict()\n",
       "            (lora_magnitude_vector): ModuleDict()\n",
       "          )\n",
       "          (out_proj): Linear(in_features=1280, out_features=1280, bias=True)\n",
       "          (rot_emb): RotaryEmbedding()\n",
       "        )\n",
       "        (self_attn_layer_norm): LayerNorm((1280,), eps=1e-05, elementwise_affine=True)\n",
       "        (fc1): Linear(in_features=1280, out_features=5120, bias=True)\n",
       "        (fc2): Linear(in_features=5120, out_features=1280, bias=True)\n",
       "        (final_layer_norm): LayerNorm((1280,), eps=1e-05, elementwise_affine=True)\n",
       "      )\n",
       "    )\n",
       "    (contact_head): ContactPredictionHead(\n",
       "      (regression): Linear(in_features=660, out_features=1, bias=True)\n",
       "      (activation): Sigmoid()\n",
       "    )\n",
       "    (emb_layer_norm_after): LayerNorm((1280,), eps=1e-05, elementwise_affine=True)\n",
       "    (lm_head): RobertaLMHead(\n",
       "      (dense): Linear(in_features=1280, out_features=1280, bias=True)\n",
       "      (layer_norm): LayerNorm((1280,), eps=1e-05, elementwise_affine=True)\n",
       "    )\n",
       "  )\n",
       "  (model_reg): ESM2(\n",
       "    (embed_tokens): Embedding(33, 1280, padding_idx=1)\n",
       "    (layers): ModuleList(\n",
       "      (0-32): 33 x TransformerLayer(\n",
       "        (self_attn): MultiheadAttention(\n",
       "          (k_proj): Linear(in_features=1280, out_features=1280, bias=True)\n",
       "          (v_proj): Linear(in_features=1280, out_features=1280, bias=True)\n",
       "          (q_proj): Linear(in_features=1280, out_features=1280, bias=True)\n",
       "          (out_proj): Linear(in_features=1280, out_features=1280, bias=True)\n",
       "          (rot_emb): RotaryEmbedding()\n",
       "        )\n",
       "        (self_attn_layer_norm): LayerNorm((1280,), eps=1e-05, elementwise_affine=True)\n",
       "        (fc1): Linear(in_features=1280, out_features=5120, bias=True)\n",
       "        (fc2): Linear(in_features=5120, out_features=1280, bias=True)\n",
       "        (final_layer_norm): LayerNorm((1280,), eps=1e-05, elementwise_affine=True)\n",
       "      )\n",
       "    )\n",
       "    (contact_head): ContactPredictionHead(\n",
       "      (regression): Linear(in_features=660, out_features=1, bias=True)\n",
       "      (activation): Sigmoid()\n",
       "    )\n",
       "    (emb_layer_norm_after): LayerNorm((1280,), eps=1e-05, elementwise_affine=True)\n",
       "    (lm_head): RobertaLMHead(\n",
       "      (dense): Linear(in_features=1280, out_features=1280, bias=True)\n",
       "      (layer_norm): LayerNorm((1280,), eps=1e-05, elementwise_affine=True)\n",
       "    )\n",
       "  )\n",
       "  (model): PeftModel(\n",
       "    (base_model): LoraModel(\n",
       "      (model): ESM2(\n",
       "        (embed_tokens): Embedding(33, 1280, padding_idx=1)\n",
       "        (layers): ModuleList(\n",
       "          (0-32): 33 x TransformerLayer(\n",
       "            (self_attn): MultiheadAttention(\n",
       "              (k_proj): Linear(in_features=1280, out_features=1280, bias=True)\n",
       "              (v_proj): lora.Linear(\n",
       "                (base_layer): Linear(in_features=1280, out_features=1280, bias=True)\n",
       "                (lora_dropout): ModuleDict(\n",
       "                  (default): Dropout(p=0.1, inplace=False)\n",
       "                )\n",
       "                (lora_A): ModuleDict(\n",
       "                  (default): Linear(in_features=1280, out_features=8, bias=False)\n",
       "                )\n",
       "                (lora_B): ModuleDict(\n",
       "                  (default): Linear(in_features=8, out_features=1280, bias=False)\n",
       "                )\n",
       "                (lora_embedding_A): ParameterDict()\n",
       "                (lora_embedding_B): ParameterDict()\n",
       "                (lora_magnitude_vector): ModuleDict()\n",
       "              )\n",
       "              (q_proj): lora.Linear(\n",
       "                (base_layer): Linear(in_features=1280, out_features=1280, bias=True)\n",
       "                (lora_dropout): ModuleDict(\n",
       "                  (default): Dropout(p=0.1, inplace=False)\n",
       "                )\n",
       "                (lora_A): ModuleDict(\n",
       "                  (default): Linear(in_features=1280, out_features=8, bias=False)\n",
       "                )\n",
       "                (lora_B): ModuleDict(\n",
       "                  (default): Linear(in_features=8, out_features=1280, bias=False)\n",
       "                )\n",
       "                (lora_embedding_A): ParameterDict()\n",
       "                (lora_embedding_B): ParameterDict()\n",
       "                (lora_magnitude_vector): ModuleDict()\n",
       "              )\n",
       "              (out_proj): Linear(in_features=1280, out_features=1280, bias=True)\n",
       "              (rot_emb): RotaryEmbedding()\n",
       "            )\n",
       "            (self_attn_layer_norm): LayerNorm((1280,), eps=1e-05, elementwise_affine=True)\n",
       "            (fc1): Linear(in_features=1280, out_features=5120, bias=True)\n",
       "            (fc2): Linear(in_features=5120, out_features=1280, bias=True)\n",
       "            (final_layer_norm): LayerNorm((1280,), eps=1e-05, elementwise_affine=True)\n",
       "          )\n",
       "        )\n",
       "        (contact_head): ContactPredictionHead(\n",
       "          (regression): Linear(in_features=660, out_features=1, bias=True)\n",
       "          (activation): Sigmoid()\n",
       "        )\n",
       "        (emb_layer_norm_after): LayerNorm((1280,), eps=1e-05, elementwise_affine=True)\n",
       "        (lm_head): RobertaLMHead(\n",
       "          (dense): Linear(in_features=1280, out_features=1280, bias=True)\n",
       "          (layer_norm): LayerNorm((1280,), eps=1e-05, elementwise_affine=True)\n",
       "        )\n",
       "      )\n",
       "    )\n",
       "  )\n",
       "  (mlp): Linear(in_features=1280, out_features=1, bias=True)\n",
       ")"
      ]
     },
     "execution_count": 16,
     "metadata": {},
     "output_type": "execute_result"
    }
   ],
   "source": [
    "surrogate"
   ]
  },
  {
   "cell_type": "code",
   "execution_count": 17,
   "metadata": {},
   "outputs": [],
   "source": [
    "train_mask, test_mask = get_split_mask(df, omit_zero=False)\n",
    "\n",
    "df_train = df[train_mask]\n",
    "df_test = df[test_mask]\n",
    "\n",
    "y_train = df_train['fitness_log'].to_numpy().astype(np.float32)\n",
    "y_test = df_test['fitness_log'].to_numpy().astype(np.float32)"
   ]
  },
  {
   "cell_type": "code",
   "execution_count": 18,
   "metadata": {},
   "outputs": [
    {
     "name": "stderr",
     "output_type": "stream",
     "text": [
      "Using bfloat16 Automatic Mixed Precision (AMP)\n",
      "GPU available: True (cuda), used: True\n",
      "TPU available: False, using: 0 TPU cores\n",
      "HPU available: False, using: 0 HPUs\n",
      "You are using a CUDA device ('NVIDIA RTX A2000 12GB') that has Tensor Cores. To properly utilize them, you should set `torch.set_float32_matmul_precision('medium' | 'high')` which will trade-off precision for performance. For more details, read https://pytorch.org/docs/stable/generated/torch.set_float32_matmul_precision.html#torch.set_float32_matmul_precision\n",
      "Missing logger folder: /nethome/kgeorge/workspace/DomainPrediction/src/fitness_prediction/lightning_logs\n",
      "LOCAL_RANK: 0 - CUDA_VISIBLE_DEVICES: [0]\n",
      "\n",
      "  | Name      | Type      | Params | Mode \n",
      "------------------------------------------------\n",
      "0 | basemodel | ESM2      | 652 M  | train\n",
      "1 | model_reg | ESM2      | 651 M  | eval \n",
      "2 | model     | PeftModel | 652 M  | train\n",
      "3 | mlp       | Linear    | 1.3 K  | train\n",
      "------------------------------------------------\n",
      "1.8 M     Trainable params\n",
      "1.3 B     Non-trainable params\n",
      "1.3 B     Total params\n",
      "5,213.758 Total estimated model params size (MB)\n",
      "/nethome/kgeorge/miniconda3/envs/workspace-esm/lib/python3.10/site-packages/lightning/pytorch/trainer/connectors/data_connector.py:424: The 'val_dataloader' does not have many workers which may be a bottleneck. Consider increasing the value of the `num_workers` argument` to `num_workers=19` in the `DataLoader` to improve performance.\n",
      "/nethome/kgeorge/miniconda3/envs/workspace-esm/lib/python3.10/site-packages/lightning/pytorch/trainer/connectors/data_connector.py:424: The 'train_dataloader' does not have many workers which may be a bottleneck. Consider increasing the value of the `num_workers` argument` to `num_workers=19` in the `DataLoader` to improve performance.\n",
      "/nethome/kgeorge/miniconda3/envs/workspace-esm/lib/python3.10/site-packages/lightning/pytorch/loops/fit_loop.py:298: The number of training batches (7) is smaller than the logging interval Trainer(log_every_n_steps=50). Set a lower value for log_every_n_steps if you want to see logs for the training epoch.\n"
     ]
    },
    {
     "name": "stdout",
     "output_type": "stream",
     "text": [
      "Epoch: 0: train loss: 38.60412086759295 mse loss: 38.60412086759295 kl div 0.0 val loss: 19.933925449848175 mse loss: 19.91361966729164 kl div 0.20305811241269112\n",
      "Epoch: 1: train loss: 37.355418750217986 mse loss: 37.305528095790315 kl div 0.4989001750946045 val loss: 19.424771547317505 mse loss: 19.39489358663559 kl div 0.29877183586359024\n",
      "Epoch: 2: train loss: 37.13044221060617 mse loss: 37.000881740025115 kl div 1.2956079244613647 val loss: 18.917054548859596 mse loss: 18.86837165057659 kl div 0.4868326261639595\n",
      "Epoch: 3: train loss: 35.45123423848833 mse loss: 35.31932732037136 kl div 1.319065979548863 val loss: 18.400584876537323 mse loss: 18.333707958459854 kl div 0.6687624007463455\n",
      "Epoch: 4: train loss: 35.68491983413696 mse loss: 35.562799317496165 kl div 1.2212047236306327 val loss: 17.90158075094223 mse loss: 17.79703262448311 kl div 1.045479103922844\n",
      "Epoch: 5: train loss: 34.46531610829489 mse loss: 34.33633404118674 kl div 1.28981990473611 val loss: 17.402997888624668 mse loss: 17.25207857787609 kl div 1.5091971158981323\n",
      "Epoch: 6: train loss: 34.1514071055821 mse loss: 34.00374892779759 kl div 1.4765857287815638 val loss: 16.899034410715103 mse loss: 16.699278384447098 kl div 1.9975633323192596\n",
      "Epoch: 7: train loss: 32.840932164873394 mse loss: 32.66733237675258 kl div 1.7359999418258667 val loss: 16.378553107380867 mse loss: 16.126948174089193 kl div 2.5160478353500366\n",
      "Epoch: 8: train loss: 32.49245161669595 mse loss: 32.29319650786264 kl div 1.992550185748509 val loss: 15.839262589812279 mse loss: 15.527712686918676 kl div 3.115500509738922\n",
      "Epoch: 9: train loss: 31.08111354282924 mse loss: 30.857594762529647 kl div 2.235190851347787 val loss: 15.24253748357296 mse loss: 14.866923775523901 kl div 3.756140947341919\n",
      "Epoch: 10: train loss: 30.861878190721786 mse loss: 30.597386802945817 kl div 2.6449079513549805 val loss: 14.61031959950924 mse loss: 14.155766066163778 kl div 4.545535445213318\n",
      "Epoch: 11: train loss: 29.604876382010325 mse loss: 29.275998864855087 kl div 3.288770777838571 val loss: 14.317974746227264 mse loss: 13.482335537672043 kl div 8.356389045715332\n",
      "Epoch: 12: train loss: 28.47546931675502 mse loss: 27.518953323364258 kl div 9.565165655953544 val loss: 13.582566797733307 mse loss: 13.065675526857376 kl div 5.168910980224609\n",
      "Epoch: 13: train loss: 26.8936105966568 mse loss: 26.47691900389535 kl div 4.166913986206055 val loss: 13.289690345525742 mse loss: 12.762843817472458 kl div 5.26846706867218\n",
      "Epoch: 14: train loss: 25.480311189379012 mse loss: 25.048032964978898 kl div 4.32278094972883 val loss: 13.107379078865051 mse loss: 12.560632348060608 kl div 5.467464447021484\n",
      "Epoch: 15: train loss: 25.095206260681152 mse loss: 24.63861554009574 kl div 4.56590257372175 val loss: 13.022680759429932 mse loss: 12.455235302448273 kl div 5.674457550048828\n",
      "Epoch: 16: train loss: 24.13061032976423 mse loss: 23.651889664786204 kl div 4.787201881408691 val loss: 13.089893817901611 mse loss: 12.525565087795258 kl div 5.643289923667908\n",
      "Epoch: 17: train loss: 23.52870069231306 mse loss: 23.04260676247733 kl div 4.86093943459647 val loss: 13.301280736923218 mse loss: 12.748053908348083 kl div 5.532266020774841\n",
      "Epoch: 18: train loss: 23.178698812212264 mse loss: 22.696107183183944 kl div 4.825910806655884 val loss: 13.51285207271576 mse loss: 12.982495307922363 kl div 5.303562045097351\n",
      "Epoch: 19: train loss: 23.438308102743967 mse loss: 22.974971498761857 kl div 4.633365256445749 val loss: 13.673288941383362 mse loss: 13.152832508087158 kl div 5.20456326007843\n",
      "Epoch: 20: train loss: 23.042472090039933 mse loss: 22.59270770209176 kl div 4.497646161488125 val loss: 13.623457908630371 mse loss: 13.099678635597229 kl div 5.237795352935791\n",
      "Epoch: 21: train loss: 23.22256898880005 mse loss: 22.776772362845286 kl div 4.4579676900591165 val loss: 13.514894366264343 mse loss: 12.99738883972168 kl div 5.17505419254303\n",
      "Epoch: 22: train loss: 21.913660526275635 mse loss: 21.48344326019287 kl div 4.302171264375959 val loss: 13.414758920669556 mse loss: 12.915579676628113 kl div 4.99179083108902\n",
      "Epoch: 23: train loss: 21.828394412994385 mse loss: 21.422668933868408 kl div 4.057254212243216 val loss: 13.407509088516235 mse loss: 12.935961127281189 kl div 4.715478241443634\n",
      "Epoch: 24: train loss: 21.47940022604806 mse loss: 21.102304799216135 kl div 3.770951271057129 val loss: 13.51983368396759 mse loss: 13.073373794555664 kl div 4.464594066143036\n",
      "Epoch: 25: train loss: 20.664410182407924 mse loss: 20.304314919880458 kl div 3.600949662072318 val loss: 13.721301198005676 mse loss: 13.290810942649841 kl div 4.304901301860809\n",
      "Epoch: 26: train loss: 20.11399439402989 mse loss: 19.76042263848441 kl div 3.5357154437473843 val loss: 13.746017694473267 mse loss: 13.329681038856506 kl div 4.163364946842194\n",
      "Epoch: 27: train loss: 20.020331110273087 mse loss: 19.67394651685442 kl div 3.463846036366054 val loss: 13.411334037780762 mse loss: 13.010292530059814 kl div 4.0104159116744995\n",
      "Epoch: 28: train loss: 19.472146238599503 mse loss: 19.13665751048497 kl div 3.354888779776437 val loss: 12.96617066860199 mse loss: 12.577465951442719 kl div 3.887048661708832\n",
      "Epoch: 29: train loss: 18.558425154004777 mse loss: 18.233229569026403 kl div 3.2519537721361433 val loss: 12.700380444526672 mse loss: 12.318914532661438 kl div 3.8146625757217407\n",
      "Epoch: 30: train loss: 18.37343692779541 mse loss: 18.053669793265207 kl div 3.197672060557774 val loss: 12.677153587341309 mse loss: 12.303836405277252 kl div 3.7331730723381042\n",
      "Epoch: 31: train loss: 17.574179444994247 mse loss: 17.25416442326137 kl div 3.2001475266047885 val loss: 12.852810978889465 mse loss: 12.484149813652039 kl div 3.686612367630005\n",
      "Epoch: 32: train loss: 16.94946472985404 mse loss: 16.62806122643607 kl div 3.214035749435425 val loss: 12.929013848304749 mse loss: 12.565376877784729 kl div 3.636366605758667\n",
      "Epoch: 33: train loss: 16.1970089163099 mse loss: 15.880990028381348 kl div 3.1601861885615756 val loss: 12.208643317222595 mse loss: 11.851900100708008 kl div 3.567429482936859\n",
      "Epoch: 34: train loss: 14.959472826548986 mse loss: 14.656995194298881 kl div 3.0247757775442943 val loss: 11.223142385482788 mse loss: 10.869932651519775 kl div 3.5320966243743896\n",
      "Epoch: 35: train loss: 14.178747177124023 mse loss: 13.878787977354866 kl div 2.9995927129473006 val loss: 10.51371830701828 mse loss: 10.156918287277222 kl div 3.5680012106895447\n",
      "Epoch: 36: train loss: 13.319786412375313 mse loss: 13.009118284497942 kl div 3.1066813468933105 val loss: 10.291499614715576 mse loss: 9.92393273115158 kl div 3.6756693720817566\n",
      "Epoch: 37: train loss: 12.44557751928057 mse loss: 12.12381134714399 kl div 3.2176624706813266 val loss: 10.241727769374847 mse loss: 9.871113896369934 kl div 3.7061386704444885\n",
      "Epoch: 38: train loss: 12.14299760546003 mse loss: 11.81955429485866 kl div 3.2344323226383755 val loss: 10.990375995635986 mse loss: 10.615180969238281 kl div 3.7519545555114746\n",
      "Epoch: 39: train loss: 11.379607796669006 mse loss: 11.057963388306755 kl div 3.2164426190512523 val loss: 10.61614316701889 mse loss: 10.24796575307846 kl div 3.6817760467529297\n",
      "Epoch: 40: train loss: 11.21635273524693 mse loss: 10.83716538974217 kl div 3.7918755326952254 val loss: 11.162577867507935 mse loss: 10.79736340045929 kl div 3.652145802974701\n",
      "Epoch: 41: train loss: 10.207759686878749 mse loss: 9.888378705297198 kl div 3.193810905729021 val loss: 10.965840220451355 mse loss: 10.606029093265533 kl div 3.5981128811836243\n",
      "Epoch: 42: train loss: 9.82488123008183 mse loss: 9.514739343098231 kl div 3.1014182567596436 val loss: 10.665308952331543 mse loss: 10.308827877044678 kl div 3.5648111701011658\n",
      "Epoch: 43: train loss: 9.428018638065883 mse loss: 9.121691175869532 kl div 3.063275098800659 val loss: 10.809811472892761 mse loss: 10.45464015007019 kl div 3.5517160892486572\n",
      "Epoch: 44: train loss: 9.129244191305977 mse loss: 8.826208080564227 kl div 3.0303612777165005 val loss: 10.98407793045044 mse loss: 10.629065573215485 kl div 3.5501222014427185\n",
      "Epoch: 45: train loss: 8.662404469081334 mse loss: 8.363391092845372 kl div 2.9901321615491594 val loss: 10.982133328914642 mse loss: 10.6279858648777 kl div 3.5414721965789795\n",
      "Epoch: 46: train loss: 8.214996474129814 mse loss: 7.920441661562238 kl div 2.9455499989645824 val loss: 10.908419638872147 mse loss: 10.556222289800644 kl div 3.5219775438308716\n",
      "Epoch: 47: train loss: 7.840553079332624 mse loss: 7.551886439323425 kl div 2.886665548597063 val loss: 10.898559808731079 mse loss: 10.548038274049759 kl div 3.5052137970924377\n",
      "Epoch: 48: train loss: 7.5290253502982 mse loss: 7.246739319392613 kl div 2.822859900338309 val loss: 11.210790395736694 mse loss: 10.861166954040527 kl div 3.496236562728882\n",
      "Epoch: 49: train loss: 7.432525413376944 mse loss: 7.156337874276297 kl div 2.761875186647688 val loss: 11.375594526529312 mse loss: 11.029837191104889 kl div 3.4575729370117188\n",
      "Epoch: 50: train loss: 6.89864570753915 mse loss: 6.629425287246704 kl div 2.6922031811305454 val loss: 11.437581211328506 mse loss: 11.097761005163193 kl div 3.398197889328003\n",
      "Epoch: 51: train loss: 6.503673400197711 mse loss: 6.240437286240714 kl div 2.6323623657226562 val loss: 11.540298789739609 mse loss: 11.204197078943253 kl div 3.3610183000564575\n",
      "Epoch: 52: train loss: 6.268154893602643 mse loss: 6.008346012660435 kl div 2.598088264465332 val loss: 11.785359263420105 mse loss: 11.451494574546814 kl div 3.3386459946632385\n",
      "Epoch: 53: train loss: 6.152682866368975 mse loss: 5.894282613481794 kl div 2.584003448486328 val loss: 10.90516746044159 mse loss: 10.57816457748413 kl div 3.2700321674346924\n",
      "Epoch: 54: train loss: 6.363043427467346 mse loss: 6.101704120635986 kl div 2.613393885748727 val loss: 11.985991358757019 mse loss: 11.660410687327385 kl div 3.255810558795929\n",
      "Epoch: 55: train loss: 5.387742825916836 mse loss: 5.1233269316809515 kl div 2.6441591126578197 val loss: 12.387500613927841 mse loss: 12.065290734171867 kl div 3.2221017479896545\n",
      "Epoch: 56: train loss: 6.423830100468227 mse loss: 6.161134924207415 kl div 2.626951592309134 val loss: 9.766921162605286 mse loss: 9.455256283283234 kl div 3.1166497468948364\n",
      "Epoch: 57: train loss: 6.433784144265311 mse loss: 6.032999004636492 kl div 4.007852349962507 val loss: 7.5574010014534 mse loss: 7.251455307006836 kl div 3.059458017349243\n",
      "Epoch: 58: train loss: 6.900573253631592 mse loss: 6.586624894823347 kl div 3.139483860560826 val loss: 9.755274146795273 mse loss: 9.454077333211899 kl div 3.011972188949585\n",
      "Epoch: 59: train loss: 5.9486421176365445 mse loss: 5.691612311771938 kl div 2.5702973093305315 val loss: 11.333892673254013 mse loss: 11.035297140479088 kl div 2.9859527945518494\n"
     ]
    },
    {
     "name": "stderr",
     "output_type": "stream",
     "text": [
      "`Trainer.fit` stopped: `max_epochs=60` reached.\n"
     ]
    },
    {
     "name": "stdout",
     "output_type": "stream",
     "text": [
      "Epoch: 60: train loss: 5.9486421176365445 val loss: 11.333892673254013\n"
     ]
    }
   ],
   "source": [
    "surrogate.trainmodel(df_train, df_test)"
   ]
  },
  {
   "cell_type": "code",
   "execution_count": 25,
   "metadata": {},
   "outputs": [
    {
     "name": "stderr",
     "output_type": "stream",
     "text": [
      "100%|██████████| 55/55 [00:03<00:00, 15.08it/s]\n",
      "100%|██████████| 30/30 [00:01<00:00, 15.10it/s]\n"
     ]
    },
    {
     "data": {
      "image/png": "[encoded data removed]",
      "text/plain": [
       "<Figure size 1000x300 with 3 Axes>"
      ]
     },
     "metadata": {},
     "output_type": "display_data"
    }
   ],
   "source": [
    "y_train_pred = surrogate.predict(df_train['seq'])\n",
    "y_test_pred = surrogate.predict(df_test['seq'])\n",
    "\n",
    "fig, ax = plt.subplots(1,3, figsize=(10,3), layout='constrained')\n",
    "ax[0].plot(y_train, y_train_pred, '.', alpha=0.5)\n",
    "ax[1].plot(y_test, y_test_pred, '.', alpha=0.5)\n",
    "ax[2].plot(y_test[df.loc[test_mask, 'fitness_raw'] > 0.1], y_test_pred[df.loc[test_mask, 'fitness_raw'] > 0.1],\n",
    "            '.', alpha=0.5)\n",
    "\n",
    "mse = mean_squared_error(y_train, y_train_pred)\n",
    "corr, ci_lower, ci_upper, *_  = get_spearmanr_bootstrap(y_train, y_train_pred)\n",
    "ax[0].set_title(f'Train \\nmse : {str(round(mse, 2))} \\nspearman correlation = {corr} CI ({ci_lower}, {ci_upper})', size=10)\n",
    "\n",
    "mse = mean_squared_error(y_test, y_test_pred)\n",
    "corr, ci_lower, ci_upper, *_  = get_spearmanr_bootstrap(y_test, y_test_pred)\n",
    "ax[1].set_title(f'Test \\nmse : {str(round(mse, 2))} \\nspearman correlation = {corr} CI ({ci_lower}, {ci_upper})', size=10)\n",
    "\n",
    "mse = mean_squared_error(y_test[df.loc[test_mask, 'fitness_raw'] > 0.1], y_test_pred[df.loc[test_mask, 'fitness_raw'] > 0.1])\n",
    "corr, ci_lower, ci_upper, *_  = get_spearmanr_bootstrap(y_test[df.loc[test_mask, 'fitness_raw'] > 0.1], y_test_pred[df.loc[test_mask, 'fitness_raw'] > 0.1])\n",
    "ax[2].set_title(f'Test \\nmse : {str(round(mse, 2))} \\nspearman correlation = {corr} CI ({ci_lower}, {ci_upper})', size=10)\n",
    "\n",
    "for i in range(3):\n",
    "    ax[i].set_xlabel('True')\n",
    "    ax[i].set_ylabel('Pred')\n",
    "\n",
    "plt.show()"
   ]
  },
  {
   "cell_type": "code",
   "execution_count": 23,
   "metadata": {},
   "outputs": [],
   "source": [
    "corr, ci_lower, ci_upper, p_value, *_ =  get_spearmanr_bootstrap(y_test, y_test_pred)"
   ]
  },
  {
   "cell_type": "code",
   "execution_count": 24,
   "metadata": {},
   "outputs": [
    {
     "data": {
      "text/plain": [
       "(0.56, 0.27, 0.8, 0.001)"
      ]
     },
     "execution_count": 24,
     "metadata": {},
     "output_type": "execute_result"
    }
   ],
   "source": [
    "corr, ci_lower, ci_upper, p_value"
   ]
  },
  {
   "cell_type": "code",
   "execution_count": null,
   "metadata": {},
   "outputs": [],
   "source": [
    "y_pred = surrogate.predict(df['seq'])\n",
    "assert y_pred.shape[0] == df_results.shape[0]\n",
    "\n",
    "df_results[f'pred_{model_choices}_regfit'] = y_pred\n",
    "df_results.to_csv(results_file, index=False)\n",
    "\n",
    "df_results.columns[df_results.columns.str.contains('pred')]"
   ]
  },
  {
   "cell_type": "code",
   "execution_count": null,
   "metadata": {},
   "outputs": [],
   "source": []
  },
  {
   "cell_type": "markdown",
   "metadata": {},
   "source": [
    "### Contrastive Finetuning"
   ]
  },
  {
   "cell_type": "code",
   "execution_count": null,
   "metadata": {},
   "outputs": [],
   "source": [
    "model_choices = 'esmc'\n",
    "\n",
    "config={'epoch': 60, \n",
    "        'batch_size': 8,\n",
    "        'lambda': 0.1,\n",
    "        'accumulate_batch_size': 32,\n",
    "        'patience': 20,\n",
    "        'early_stopping': False,\n",
    "        'model_checkpoint': True,\n",
    "        'lr': 5e-4,\n",
    "        'print_every_n_epoch': 1,\n",
    "        'use_seq_head': True,\n",
    "        'device': 'gpu'}\n",
    "\n",
    "if model_choices == 'esmc':\n",
    "    surrogate = ESMCConFit(name='esmc_600m', config=config)\n",
    "elif model_choices == 'esm2':\n",
    "    surrogate = ESM2ConFit(model_path='/data/users/kgeorge/workspace/esm2/checkpoints/esm2_t33_650M_UR50D.pt', config=config)\n",
    "\n",
    "surrogate.print_trainable_parameters(surrogate)"
   ]
  },
  {
   "cell_type": "code",
   "execution_count": null,
   "metadata": {},
   "outputs": [],
   "source": [
    "for name, pm in surrogate.model.named_parameters():\n",
    "    if pm.requires_grad:\n",
    "        print(name, pm.requires_grad)\n",
    "    # print(name, pm.requires_grad)"
   ]
  },
  {
   "cell_type": "code",
   "execution_count": null,
   "metadata": {},
   "outputs": [],
   "source": [
    "wt_sequence = df.loc[df['name'] == 'WT', 'seq'].iloc[0]"
   ]
  },
  {
   "cell_type": "code",
   "execution_count": null,
   "metadata": {},
   "outputs": [],
   "source": [
    "train_mask, test_mask = get_split_mask(df, omit_zero=False)\n",
    "\n",
    "df_train = df[train_mask]\n",
    "df_test = df[test_mask]\n",
    "\n",
    "y_train = df_train['fitness_log'].to_numpy().astype(np.float32)\n",
    "y_test = df_test['fitness_log'].to_numpy().astype(np.float32)"
   ]
  },
  {
   "cell_type": "code",
   "execution_count": null,
   "metadata": {},
   "outputs": [],
   "source": [
    "surrogate.config['lr'] = 1e-4\n",
    "surrogate.config['epoch'] = 300\n",
    "surrogate.trainmodel(df_train, wt_sequence, val=df_test[df_test['fitness_raw'] > 0.1])"
   ]
  },
  {
   "cell_type": "code",
   "execution_count": null,
   "metadata": {},
   "outputs": [],
   "source": [
    "surrogate.trainer.checkpoint_callback.best_model_path"
   ]
  },
  {
   "cell_type": "code",
   "execution_count": null,
   "metadata": {},
   "outputs": [],
   "source": [
    "surrogate.load_state_dict(torch.load(surrogate.trainer.checkpoint_callback.best_model_path)['state_dict'])"
   ]
  },
  {
   "cell_type": "code",
   "execution_count": null,
   "metadata": {},
   "outputs": [],
   "source": [
    "y_train_pred = surrogate.predict(df_train['seq'], wt_sequence)\n",
    "y_test_pred = surrogate.predict(df_test['seq'], wt_sequence)\n",
    "\n",
    "fig, ax = plt.subplots(1,3, figsize=(10,3), layout='constrained')\n",
    "ax[0].plot(y_train, y_train_pred, '.', alpha=0.5)\n",
    "ax[1].plot(y_test, y_test_pred, '.', alpha=0.5)\n",
    "ax[2].plot(y_test[df.loc[test_mask, 'fitness_raw'] > 0.1], y_test_pred[df.loc[test_mask, 'fitness_raw'] > 0.1],\n",
    "            '.', alpha=0.5)\n",
    "\n",
    "mse = mean_squared_error(y_train, y_train_pred)\n",
    "corr, ci_lower, ci_upper, *_  = get_spearmanr_bootstrap(y_train, y_train_pred)\n",
    "ax[0].set_title(f'Train \\nmse : {str(round(mse, 2))} \\nspearman correlation = {corr} CI ({ci_lower}, {ci_upper})', size=10)\n",
    "\n",
    "mse = mean_squared_error(y_test, y_test_pred)\n",
    "corr, ci_lower, ci_upper, *_  = get_spearmanr_bootstrap(y_test, y_test_pred)\n",
    "ax[1].set_title(f'Test \\nmse : {str(round(mse, 2))} \\nspearman correlation = {corr} CI ({ci_lower}, {ci_upper})', size=10)\n",
    "\n",
    "mse = mean_squared_error(y_test[df.loc[test_mask, 'fitness_raw'] > 0.1], y_test_pred[df.loc[test_mask, 'fitness_raw'] > 0.1])\n",
    "corr, ci_lower, ci_upper, *_  = get_spearmanr_bootstrap(y_test[df.loc[test_mask, 'fitness_raw'] > 0.1], y_test_pred[df.loc[test_mask, 'fitness_raw'] > 0.1])\n",
    "ax[2].set_title(f'Test \\nmse : {str(round(mse, 2))} \\nspearman correlation = {corr} CI ({ci_lower}, {ci_upper})', size=10)\n",
    "\n",
    "for i in range(3):\n",
    "    ax[i].set_xlabel('True')\n",
    "    ax[i].set_ylabel('Pred')\n",
    "\n",
    "plt.show()"
   ]
  },
  {
   "cell_type": "code",
   "execution_count": null,
   "metadata": {},
   "outputs": [],
   "source": [
    "# y_pred = surrogate.predict(df['seq'], wt_sequence)\n",
    "# assert y_pred.shape[0] == df_results.shape[0]\n",
    "\n",
    "# df_results[f'pred_{model_choices}_confit'] = y_pred\n",
    "# df_results.to_csv(results_file, index=False)\n",
    "\n",
    "# df_results.columns[df_results.columns.str.contains('pred')]"
   ]
  },
  {
   "cell_type": "code",
   "execution_count": null,
   "metadata": {},
   "outputs": [],
   "source": []
  }
 ],
 "metadata": {
  "kernelspec": {
   "display_name": "workspace-esm",
   "language": "python",
   "name": "python3"
  },
  "language_info": {
   "codemirror_mode": {
    "name": "ipython",
    "version": 3
   },
   "file_extension": ".py",
   "mimetype": "text/x-python",
   "name": "python",
   "nbconvert_exporter": "python",
   "pygments_lexer": "ipython3",
   "version": "3.10.13"
  }
 },
 "nbformat": 4,
 "nbformat_minor": 2
}
