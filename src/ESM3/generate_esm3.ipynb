{
 "cells": [
  {
   "cell_type": "code",
   "execution_count": 1,
   "metadata": {},
   "outputs": [
    {
     "name": "stderr",
     "output_type": "stream",
     "text": [
      "2025-01-05 15:54:16.427443: I tensorflow/core/util/port.cc:113] oneDNN custom operations are on. You may see slightly different numerical results due to floating-point round-off errors from different computation orders. To turn them off, set the environment variable `TF_ENABLE_ONEDNN_OPTS=0`.\n",
      "2025-01-05 15:54:16.429751: I external/local_tsl/tsl/cuda/cudart_stub.cc:32] Could not find cuda drivers on your machine, GPU will not be used.\n",
      "2025-01-05 15:54:16.435242: E external/local_xla/xla/stream_executor/cuda/cuda_fft.cc:479] Unable to register cuFFT factory: Attempting to register factory for plugin cuFFT when one has already been registered\n",
      "2025-01-05 15:54:16.446447: E external/local_xla/xla/stream_executor/cuda/cuda_dnn.cc:10575] Unable to register cuDNN factory: Attempting to register factory for plugin cuDNN when one has already been registered\n",
      "2025-01-05 15:54:16.446469: E external/local_xla/xla/stream_executor/cuda/cuda_blas.cc:1442] Unable to register cuBLAS factory: Attempting to register factory for plugin cuBLAS when one has already been registered\n",
      "2025-01-05 15:54:16.453700: I tensorflow/core/platform/cpu_feature_guard.cc:210] This TensorFlow binary is optimized to use available CPU instructions in performance-critical operations.\n",
      "To enable the following instructions: AVX2 AVX_VNNI FMA, in other operations, rebuild TensorFlow with the appropriate compiler flags.\n",
      "2025-01-05 15:54:17.508470: W tensorflow/compiler/tf2tensorrt/utils/py_utils.cc:38] TF-TRT Warning: Could not find TensorRT\n"
     ]
    }
   ],
   "source": [
    "import sys\n",
    "import os\n",
    "os.environ[\"TOKENIZERS_PARALLELISM\"] = \"false\"\n",
    "sys.path.append('../../esm') ## ignore if intsalling esm3\n",
    "sys.path.append('..')\n",
    "\n",
    "import numpy as np\n",
    "import matplotlib.pyplot as plt\n",
    "import torch\n",
    "\n",
    "from esm.models.esm3 import ESM3\n",
    "from esm.sdk.api import ESM3InferenceClient, ESMProtein, GenerationConfig\n",
    "from esm.utils.structure.protein_chain import ProteinChain"
   ]
  },
  {
   "cell_type": "code",
   "execution_count": 2,
   "metadata": {},
   "outputs": [],
   "source": [
    "from DomainPrediction import BaseProtein\n",
    "from DomainPrediction.eval import metrics\n",
    "from DomainPrediction.utils import helper\n",
    "from DomainPrediction.utils.constants import *"
   ]
  },
  {
   "cell_type": "code",
   "execution_count": 3,
   "metadata": {},
   "outputs": [],
   "source": [
    "protein = ProteinChain.from_pdb('../../Data/6mfw_conformations/hm_6mfz_ATC.pdb')\n",
    "\n",
    "sequence_prompt = ''.join([protein[i].sequence if i not in T_6mfw else '_' for i in range(len(protein))])\n",
    "structure_prompt = torch.tensor(protein.atom37_positions)"
   ]
  },
  {
   "cell_type": "code",
   "execution_count": 4,
   "metadata": {},
   "outputs": [
    {
     "data": {
      "text/plain": [
       "'QQLAQVWSHVLGIPQMGIDDHFLERGGDSIKVMQLIHQLKNIGLSLRYDQLFTHPTIRQLKRLL'"
      ]
     },
     "execution_count": 4,
     "metadata": {},
     "output_type": "execute_result"
    }
   ],
   "source": [
    "''.join([protein[i].sequence for i in range(len(protein)) if i in T_6mfw])"
   ]
  },
  {
   "cell_type": "code",
   "execution_count": 5,
   "metadata": {},
   "outputs": [
    {
     "data": {
      "text/plain": [
       "'________________________________________________________________'"
      ]
     },
     "execution_count": 5,
     "metadata": {},
     "output_type": "execute_result"
    }
   ],
   "source": [
    "''.join([sequence_prompt[i] for i in range(len(protein)) if i in T_6mfw])"
   ]
  },
  {
   "cell_type": "code",
   "execution_count": 6,
   "metadata": {},
   "outputs": [],
   "source": [
    "model: ESM3InferenceClient = ESM3.from_pretrained(\"esm3_sm_open_v1\").to(\"cuda\")"
   ]
  },
  {
   "cell_type": "code",
   "execution_count": null,
   "metadata": {},
   "outputs": [],
   "source": [
    "# ## sequence as input\n",
    "# esm_protein = ESMProtein(sequence=sequence_prompt)\n",
    "# ## structure + sequence as input\n",
    "# esm_protein = ESMProtein(sequence=sequence_prompt, coordinates=structure_prompt)"
   ]
  },
  {
   "cell_type": "code",
   "execution_count": null,
   "metadata": {},
   "outputs": [],
   "source": [
    "# fasta_file = '../../Data/esm3_experiments/6mfw_exp/6mfw_esm3_1000.fasta'"
   ]
  },
  {
   "cell_type": "code",
   "execution_count": 7,
   "metadata": {},
   "outputs": [
    {
     "name": "stdout",
     "output_type": "stream",
     "text": [
      "T domain: QQLAQVWSHVLGIPQMGIDDHFLERGGDSIKVMQLIHQLKNIGLSLRYDQLFTHPTIRQLKRLL\n"
     ]
    },
    {
     "name": "stderr",
     "output_type": "stream",
     "text": [
      "100%|██████████| 32/32 [00:22<00:00,  1.44it/s]\n"
     ]
    },
    {
     "name": "stdout",
     "output_type": "stream",
     "text": [
      "T domain: KTLAGIWQEVLGIERIGIHDNFFELGGHSILATQVVARARRVGLHFSIKDLFEAPTIAGLAAVL\n"
     ]
    }
   ],
   "source": [
    "N_GENERATIONS = 1\n",
    "temperature = 0.5\n",
    "run_structure = False\n",
    "print(f'T domain: {protein[T_6mfw].sequence}')\n",
    "for idx in range(N_GENERATIONS):\n",
    "    \n",
    "    if run_structure and idx > 1:\n",
    "        run_structure = False\n",
    "        print('stopping structure prediction')\n",
    "\n",
    "    sequence_prediction_config = GenerationConfig(\n",
    "        track=\"sequence\", \n",
    "        num_steps=sequence_prompt.count(\"_\") // 2, \n",
    "        temperature=temperature\n",
    "    )\n",
    "    esm_protein = ESMProtein(sequence=sequence_prompt)\n",
    "    generated_protein = model.generate(esm_protein, sequence_prediction_config)\n",
    "\n",
    "    if run_structure:\n",
    "        ## generate structure from the generated sequence\n",
    "        structure_prediction_config = GenerationConfig(\n",
    "            track=\"structure\",\n",
    "            num_steps=len(generated_protein) // 8,\n",
    "            temperature=temperature, \n",
    "        )\n",
    "        structure_prediction_prompt = ESMProtein(sequence=generated_protein.sequence)\n",
    "        structure_prediction = model.generate(structure_prediction_prompt, structure_prediction_config)\n",
    "\n",
    "        assert generated_protein.sequence == structure_prediction.sequence\n",
    "        # structure_prediction.to_pdb(os.path.join(pdbfile_loc, gen_idx))\n",
    "\n",
    "    print(f\"T domain: {''.join([generated_protein.sequence[i] for i in range(len(generated_protein.sequence)) if i in T_6mfw])}\")\n",
    "\n",
    "    assert protein[A_6mfw].sequence == ''.join([generated_protein.sequence[i] for i in range(len(generated_protein.sequence)) if i in A_6mfw])\n",
    "    assert protein[C_6mfw].sequence == ''.join([generated_protein.sequence[i] for i in range(len(generated_protein.sequence)) if i in C_6mfw])\n",
    "\n",
    "    seq_dict = {}\n",
    "    gen_idx = f'gxps_ATC_esm3_temp_{temperature}_gen_{idx}'\n",
    "    seq_dict[gen_idx] = generated_protein.sequence\n",
    "\n",
    "    # helper.create_fasta(seq_dict, fasta_file, append=True)"
   ]
  },
  {
   "cell_type": "code",
   "execution_count": null,
   "metadata": {},
   "outputs": [],
   "source": [
    " "
   ]
  },
  {
   "cell_type": "code",
   "execution_count": null,
   "metadata": {},
   "outputs": [],
   "source": []
  }
 ],
 "metadata": {
  "kernelspec": {
   "display_name": "workspace",
   "language": "python",
   "name": "python3"
  },
  "language_info": {
   "codemirror_mode": {
    "name": "ipython",
    "version": 3
   },
   "file_extension": ".py",
   "mimetype": "text/x-python",
   "name": "python",
   "nbconvert_exporter": "python",
   "pygments_lexer": "ipython3",
   "version": "3.10.13"
  }
 },
 "nbformat": 4,
 "nbformat_minor": 2
}
