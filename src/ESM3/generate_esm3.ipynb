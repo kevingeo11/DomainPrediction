{
 "cells": [
  {
   "cell_type": "code",
   "execution_count": null,
   "metadata": {},
   "outputs": [],
   "source": [
    "import sys\n",
    "import os\n",
    "os.environ[\"TOKENIZERS_PARALLELISM\"] = \"false\"\n",
    "sys.path.append('../../esm') ## ignore if intsalling esm3\n",
    "sys.path.append('..')\n",
    "\n",
    "import numpy as np\n",
    "import matplotlib.pyplot as plt\n",
    "import torch\n",
    "\n",
    "from esm.models.esm3 import ESM3\n",
    "from esm.sdk.api import ESM3InferenceClient, ESMProtein, GenerationConfig\n",
    "from esm.utils.structure.protein_chain import ProteinChain"
   ]
  },
  {
   "cell_type": "code",
   "execution_count": null,
   "metadata": {},
   "outputs": [],
   "source": [
    "fasta_builder_dict = dict()\n",
    "pdbfile_loc = '/nethome/kgeorge/workspace/DomainPrediction/Data/esm_experiments/basic_gen/pdbs'\n",
    "\n",
    "protein = ProteinChain.from_pdb('../../Data/GxpS_ATC.pdb')\n",
    "\n",
    "fasta_builder_dict['GxpS_ATC'] = protein.sequence\n",
    "\n",
    "A = [i for i in range(33,522)] ## 34-522\n",
    "C = [i for i in range(637,1067)] ## 638-1067\n",
    "T = [i for i in range(538,608)] ## 539-608\n",
    "cond = A + C\n",
    "\n",
    "sequence_prompt = ''.join([protein[i].sequence if i in cond else '_' for i in range(len(protein))])\n",
    "structure_prompt = torch.tensor(protein.atom37_positions)"
   ]
  },
  {
   "cell_type": "code",
   "execution_count": null,
   "metadata": {},
   "outputs": [],
   "source": [
    "sequence_prompt"
   ]
  },
  {
   "cell_type": "code",
   "execution_count": null,
   "metadata": {},
   "outputs": [],
   "source": [
    "model: ESM3InferenceClient = ESM3.from_pretrained(\"esm3_sm_open_v1\").to(\"cuda\")"
   ]
  },
  {
   "cell_type": "code",
   "execution_count": null,
   "metadata": {},
   "outputs": [],
   "source": [
    "# ## sequence as input\n",
    "# esm_protein = ESMProtein(sequence=sequence_prompt)\n",
    "# ## structure + sequence as input\n",
    "# esm_protein = ESMProtein(sequence=sequence_prompt, coordinates=structure_prompt)"
   ]
  },
  {
   "cell_type": "code",
   "execution_count": null,
   "metadata": {},
   "outputs": [],
   "source": [
    "fasta_file = '/nethome/kgeorge/workspace/DomainPrediction/Data/esm_experiments/gen_1000/esm_inp_seq_1000.fasta'\n",
    "fout = open(fasta_file, 'a')\n",
    "\n",
    "N_GENERATIONS = 1\n",
    "run_structure = False\n",
    "print(f'T domain: {protein[T].sequence}')\n",
    "for idx in range(N_GENERATIONS):\n",
    "    gen_idx = f'GxpS_ATC-temp_{0.5}-gen_{idx}'\n",
    "    print(gen_idx)\n",
    "\n",
    "    if run_structure and idx > 1:\n",
    "        run_structure = False\n",
    "        print('stopping structure prediction')\n",
    "\n",
    "    sequence_prediction_config = GenerationConfig(\n",
    "        track=\"sequence\", \n",
    "        num_steps=sequence_prompt.count(\"_\") // 2, \n",
    "        temperature=0.5\n",
    "    )\n",
    "    esm_protein = ESMProtein(sequence=sequence_prompt)\n",
    "    generated_protein = model.generate(esm_protein, sequence_prediction_config)\n",
    "\n",
    "    if run_structure:\n",
    "        ## generate structure from the generated sequence\n",
    "        structure_prediction_config = GenerationConfig(\n",
    "            track=\"structure\",\n",
    "            num_steps=len(generated_protein) // 8,\n",
    "            temperature=0.5, \n",
    "        )\n",
    "        structure_prediction_prompt = ESMProtein(sequence=generated_protein.sequence)\n",
    "        structure_prediction = model.generate(structure_prediction_prompt, structure_prediction_config)\n",
    "\n",
    "        assert generated_protein.sequence == structure_prediction.sequence\n",
    "        structure_prediction.to_pdb(os.path.join(pdbfile_loc, gen_idx))\n",
    "\n",
    "    print(f\"T domain: {''.join([generated_protein.sequence[i] for i in range(len(generated_protein.sequence)) if i in T])}\")\n",
    "\n",
    "    assert protein[A].sequence == ''.join([generated_protein.sequence[i] for i in range(len(generated_protein.sequence)) if i in A])\n",
    "    assert protein[C].sequence == ''.join([generated_protein.sequence[i] for i in range(len(generated_protein.sequence)) if i in C])\n",
    "\n",
    "    fasta_builder_dict[gen_idx] = generated_protein.sequence\n",
    "\n",
    "    fout.write(f'>{gen_idx}\\n')\n",
    "    fout.write(generated_protein.sequence + '\\n')\n",
    "\n",
    "fout.close()"
   ]
  },
  {
   "cell_type": "code",
   "execution_count": null,
   "metadata": {},
   "outputs": [],
   "source": [
    "# fasta_file = '/nethome/kgeorge/workspace/DomainPrediction/Data/esm_experiments/basic_gen/esm_inp_seq_gen.fasta'\n",
    "# with open(fasta_file, 'w') as fout:\n",
    "#     for key in fasta_builder_dict:\n",
    "#         fout.write(f'>{key}\\n')\n",
    "#         fout.write(fasta_builder_dict[key] + '\\n')"
   ]
  },
  {
   "cell_type": "code",
   "execution_count": null,
   "metadata": {},
   "outputs": [],
   "source": []
  }
 ],
 "metadata": {
  "kernelspec": {
   "display_name": "workspace",
   "language": "python",
   "name": "python3"
  },
  "language_info": {
   "codemirror_mode": {
    "name": "ipython",
    "version": 3
   },
   "file_extension": ".py",
   "mimetype": "text/x-python",
   "name": "python",
   "nbconvert_exporter": "python",
   "pygments_lexer": "ipython3",
   "version": "3.10.13"
  }
 },
 "nbformat": 4,
 "nbformat_minor": 2
}
