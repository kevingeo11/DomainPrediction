{
 "cells": [
  {
   "cell_type": "code",
   "execution_count": 1,
   "metadata": {},
   "outputs": [],
   "source": [
    "import sys\n",
    "sys.path.append('..')"
   ]
  },
  {
   "cell_type": "code",
   "execution_count": 2,
   "metadata": {},
   "outputs": [],
   "source": [
    "import os\n",
    "from tqdm import tqdm\n",
    "import matplotlib.pyplot as plt\n",
    "import numpy as np\n",
    "import pandas as pd"
   ]
  },
  {
   "cell_type": "code",
   "execution_count": 3,
   "metadata": {},
   "outputs": [],
   "source": [
    "from DomainPrediction import BaseProtein\n",
    "from DomainPrediction.protein.base import FoldedProtein\n",
    "from DomainPrediction.utils import helper\n",
    "from DomainPrediction.eval import metrics\n",
    "from DomainPrediction.utils.hmmtools import HmmerTools\n",
    "from DomainPrediction.utils.tmalign import TMalign"
   ]
  },
  {
   "cell_type": "code",
   "execution_count": 4,
   "metadata": {},
   "outputs": [],
   "source": [
    "root = '../..'\n",
    "data_path = os.path.join(root, 'Data/')"
   ]
  },
  {
   "cell_type": "code",
   "execution_count": null,
   "metadata": {},
   "outputs": [],
   "source": [
    "## Read Protein\n",
    "protein = BaseProtein(file=os.path.join(data_path, 'gxps/gxps_ATC_hm_6mg0_B.pdb'))\n",
    "A = [i for i in range(0, 464)]\n",
    "C = [i for i in range(571, 1000)]\n",
    "T = [i for i in range(492, 556)]"
   ]
  },
  {
   "cell_type": "code",
   "execution_count": null,
   "metadata": {},
   "outputs": [],
   "source": [
    "protein.get_residues(T) ## Get domains - Here T"
   ]
  },
  {
   "cell_type": "code",
   "execution_count": null,
   "metadata": {},
   "outputs": [],
   "source": [
    "## Demo of reading fasta\n",
    "# file = os.path.join(data_path, '6mfw_conformations/6mfw_WT_ATC.fasta')\n",
    "file = os.path.join(data_path, 'gxps/GxpS_ATC.fasta')\n",
    "sequences = helper.read_fasta(file, mode='str')"
   ]
  },
  {
   "cell_type": "code",
   "execution_count": null,
   "metadata": {},
   "outputs": [],
   "source": [
    "sequences[0] == protein.sequence"
   ]
  },
  {
   "cell_type": "code",
   "execution_count": null,
   "metadata": {},
   "outputs": [],
   "source": [
    "'''\n",
    "    We had seq for ATC from esm3\n",
    "    Extracting T from the sequences and creating new fasta file\n",
    "'''\n",
    "gen_fasta = os.path.join(data_path, 'pmpnn_experiments/6mfw_exp/6mfw_pmpnn_1000.fasta')\n",
    "sequences = helper.read_fasta(gen_fasta)\n",
    "seq_dict = {}\n",
    "for rec in sequences:\n",
    "    seq_dict[rec.id] = ''.join([str(rec.seq)[i] for i in T])\n",
    "\n",
    "file = os.path.join(data_path, 'pmpnn_experiments/6mfw_exp/6mfw_pmpnn_1000.T.fasta')\n",
    "helper.create_fasta(seq_dict, file)"
   ]
  },
  {
   "cell_type": "code",
   "execution_count": null,
   "metadata": {},
   "outputs": [],
   "source": []
  },
  {
   "cell_type": "code",
   "execution_count": null,
   "metadata": {},
   "outputs": [],
   "source": [
    "## Compute Seq ID after aligning to WT\n",
    "wt = os.path.join(data_path, '6mfw_conformations/hm_6mfz_ATC.T.fasta')\n",
    "gen = os.path.join(data_path, 'pmpnn_experiments/6mfw_exp/6mfw_pmpnn_1000.T.fasta')\n",
    "pfam_T_hmm = os.path.join(root, 'src/DomainPrediction/hmm/PF00550_T.hmm')\n",
    "seq_ids = metrics.compute_sequence_identity(wt, gen, hmm=pfam_T_hmm)"
   ]
  },
  {
   "cell_type": "code",
   "execution_count": null,
   "metadata": {},
   "outputs": [],
   "source": [
    "_ = plt.hist(seq_ids)"
   ]
  },
  {
   "cell_type": "code",
   "execution_count": null,
   "metadata": {},
   "outputs": [],
   "source": []
  },
  {
   "cell_type": "code",
   "execution_count": null,
   "metadata": {},
   "outputs": [],
   "source": [
    "## % of sequences that contain the motif FF__GG_S\n",
    "gen = os.path.join(data_path, 'pmpnn_experiments/6mfw_exp/6mfw_pmpnn_1000.T.fasta')\n",
    "metrics.search_and_filter_motif(gen)"
   ]
  },
  {
   "cell_type": "code",
   "execution_count": null,
   "metadata": {},
   "outputs": [],
   "source": []
  },
  {
   "cell_type": "code",
   "execution_count": 9,
   "metadata": {},
   "outputs": [],
   "source": [
    "pdbs_path = os.path.join(data_path, 'pmpnn_experiments/gxps_exp/gxps_pdbs')\n",
    "file = os.path.join(pdbs_path, 'gxps-hm_6mfy-v_48_002-temp_0.3-gen-0.pdb')"
   ]
  },
  {
   "cell_type": "code",
   "execution_count": 10,
   "metadata": {},
   "outputs": [],
   "source": [
    "fp = FoldedProtein(file)"
   ]
  },
  {
   "cell_type": "code",
   "execution_count": 11,
   "metadata": {},
   "outputs": [
    {
     "data": {
      "text/plain": [
       "{'predicted_aligned_error': array([[ 0.2500048 ,  0.94616896,  1.4648324 , ..., 27.330244  ,\n",
       "         27.883478  , 28.05436   ],\n",
       "        [ 0.776795  ,  0.2500002 ,  0.7599928 , ..., 26.538822  ,\n",
       "         27.127811  , 26.778088  ],\n",
       "        [ 0.90720844,  0.75469726,  0.2500001 , ..., 26.376942  ,\n",
       "         26.634861  , 26.57268   ],\n",
       "        ...,\n",
       "        [29.591915  , 29.67804   , 29.671293  , ...,  0.2500001 ,\n",
       "          0.86154276,  1.2120136 ],\n",
       "        [29.69223   , 29.71223   , 29.579788  , ...,  0.7855854 ,\n",
       "          0.25000027,  0.85023993],\n",
       "        [29.773054  , 29.680508  , 29.692831  , ...,  1.2906256 ,\n",
       "          0.8612996 ,  0.2500603 ]], dtype=float32),\n",
       " 'ptm': array(0.55596787, dtype=float32),\n",
       " 'esm2_650M_perplexity': array(4.92718154)}"
      ]
     },
     "execution_count": 11,
     "metadata": {},
     "output_type": "execute_result"
    }
   ],
   "source": [
    "fp.metadata"
   ]
  },
  {
   "cell_type": "code",
   "execution_count": null,
   "metadata": {},
   "outputs": [],
   "source": []
  }
 ],
 "metadata": {
  "kernelspec": {
   "display_name": "workspace-esm",
   "language": "python",
   "name": "python3"
  },
  "language_info": {
   "codemirror_mode": {
    "name": "ipython",
    "version": 3
   },
   "file_extension": ".py",
   "mimetype": "text/x-python",
   "name": "python",
   "nbconvert_exporter": "python",
   "pygments_lexer": "ipython3",
   "version": "3.10.13"
  }
 },
 "nbformat": 4,
 "nbformat_minor": 2
}
